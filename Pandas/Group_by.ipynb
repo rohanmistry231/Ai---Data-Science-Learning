{
 "cells": [
  {
   "cell_type": "code",
   "execution_count": 10,
   "metadata": {},
   "outputs": [
    {
     "name": "stdout",
     "output_type": "stream",
     "text": [
      "       city  temperature  humidity\n",
      "0  new york           30        60\n",
      "1    mumbai           35        70\n",
      "2     paris           25        55\n",
      "3  new york           32        62\n",
      "4    mumbai           34        72\n",
      "5     paris           27        50\n",
      "6  new york           31        61\n",
      "7    mumbai           36        68\n",
      "8     paris           26        54\n"
     ]
    }
   ],
   "source": [
    "import pandas as pd\n",
    "df = pd.read_csv(\"S:\\\\Coding\\\\Github\\\\Data Science Learning\\\\Pandas\\\\Group_by.csv\")\n",
    "print(df)"
   ]
  },
  {
   "cell_type": "code",
   "execution_count": 11,
   "metadata": {},
   "outputs": [
    {
     "name": "stdout",
     "output_type": "stream",
     "text": [
      "<pandas.core.groupby.generic.DataFrameGroupBy object at 0x000001BAA8734C50>\n"
     ]
    }
   ],
   "source": [
    "# group by data by thier cities :\n",
    "\n",
    "g = df.groupby('city')\n",
    "print(g)\n",
    "# it will create a object where you have keys and values here keys are 'new york,mumbai,paris' and values are other data :"
   ]
  },
  {
   "cell_type": "code",
   "execution_count": 12,
   "metadata": {},
   "outputs": [
    {
     "name": "stdout",
     "output_type": "stream",
     "text": [
      "mumbai\n",
      "     city  temperature  humidity\n",
      "1  mumbai           35        70\n",
      "4  mumbai           34        72\n",
      "7  mumbai           36        68\n",
      "new york\n",
      "       city  temperature  humidity\n",
      "0  new york           30        60\n",
      "3  new york           32        62\n",
      "6  new york           31        61\n",
      "paris\n",
      "    city  temperature  humidity\n",
      "2  paris           25        55\n",
      "5  paris           27        50\n",
      "8  paris           26        54\n"
     ]
    }
   ],
   "source": [
    "# if you want to access all groups :\n",
    "\n",
    "for city, city_df in g:\n",
    "    print(city)\n",
    "    print(city_df)"
   ]
  },
  {
   "cell_type": "code",
   "execution_count": 13,
   "metadata": {},
   "outputs": [
    {
     "name": "stdout",
     "output_type": "stream",
     "text": [
      "Only Mumbai\n",
      "     city  temperature  humidity\n",
      "1  mumbai           35        70\n",
      "4  mumbai           34        72\n",
      "7  mumbai           36        68\n"
     ]
    }
   ],
   "source": [
    "# if you want to access a particular group :\n",
    "\n",
    "print(\"Only Mumbai\")\n",
    "p_group = g.get_group('mumbai')\n",
    "print(p_group)"
   ]
  },
  {
   "cell_type": "code",
   "execution_count": 14,
   "metadata": {},
   "outputs": [
    {
     "name": "stdout",
     "output_type": "stream",
     "text": [
      "          temperature  humidity\n",
      "city                           \n",
      "mumbai             36        72\n",
      "new york           32        62\n",
      "paris              27        55\n"
     ]
    }
   ],
   "source": [
    "max_ = g.max()\n",
    "print(max_) # in this what you're doing is :\n",
    "# first you divide your data sets in group based on cities then,\n",
    "# you're runnng analytics on each of this groups and then,\n",
    "# you're combining the result into the single data frame :\n",
    "\n",
    "# this process of dividing your data in groups and aplying some analytics to get aggregated result is called \" split apply combined \" :\n",
    "# split : spliting data in groups :\n",
    "# apply : apply operations on all groups (ex. max()) :\n",
    "# combine : combine all result in single data frame :"
   ]
  },
  {
   "cell_type": "code",
   "execution_count": 15,
   "metadata": {},
   "outputs": [
    {
     "name": "stdout",
     "output_type": "stream",
     "text": [
      "          temperature  humidity\n",
      "city                           \n",
      "mumbai           35.0      70.0\n",
      "new york         31.0      61.0\n",
      "paris            26.0      53.0\n"
     ]
    }
   ],
   "source": [
    "# find avg of all cities :\n",
    "\n",
    "avg_ = g.mean()\n",
    "print(avg_)"
   ]
  },
  {
   "cell_type": "code",
   "execution_count": 16,
   "metadata": {},
   "outputs": [
    {
     "name": "stdout",
     "output_type": "stream",
     "text": [
      "         temperature                                          humidity        \\\n",
      "               count  mean  std   min   25%   50%   75%   max    count  mean   \n",
      "city                                                                           \n",
      "mumbai           3.0  35.0  1.0  34.0  34.5  35.0  35.5  36.0      3.0  70.0   \n",
      "new york         3.0  31.0  1.0  30.0  30.5  31.0  31.5  32.0      3.0  61.0   \n",
      "paris            3.0  26.0  1.0  25.0  25.5  26.0  26.5  27.0      3.0  53.0   \n",
      "\n",
      "                                                  \n",
      "               std   min   25%   50%   75%   max  \n",
      "city                                              \n",
      "mumbai    2.000000  68.0  69.0  70.0  71.0  72.0  \n",
      "new york  1.000000  60.0  60.5  61.0  61.5  62.0  \n",
      "paris     2.645751  50.0  52.0  54.0  54.5  55.0  \n"
     ]
    }
   ],
   "source": [
    "# if you want to get all analytics in one shot then you can apply discribe() :\n",
    "\n",
    "all_analytics = g.describe()\n",
    "print(all_analytics)"
   ]
  },
  {
   "cell_type": "code",
   "execution_count": null,
   "metadata": {},
   "outputs": [],
   "source": []
  }
 ],
 "metadata": {
  "kernelspec": {
   "display_name": "Python 3",
   "language": "python",
   "name": "python3"
  },
  "language_info": {
   "codemirror_mode": {
    "name": "ipython",
    "version": 3
   },
   "file_extension": ".py",
   "mimetype": "text/x-python",
   "name": "python",
   "nbconvert_exporter": "python",
   "pygments_lexer": "ipython3",
   "version": "3.12.2"
  }
 },
 "nbformat": 4,
 "nbformat_minor": 2
}
