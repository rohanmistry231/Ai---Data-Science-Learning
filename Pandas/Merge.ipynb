{
 "cells": [
  {
   "cell_type": "code",
   "execution_count": 3,
   "metadata": {},
   "outputs": [
    {
     "name": "stdout",
     "output_type": "stream",
     "text": [
      "        city  temperature\n",
      "0      surat           32\n",
      "1  ahemdabad           42\n",
      "2     Rajkot           40\n",
      "\n",
      "        city  windspeed\n",
      "0      surat          7\n",
      "1  ahemdabad         12\n",
      "2   Junagadh         10\n"
     ]
    }
   ],
   "source": [
    "import pandas as pd\n",
    "\n",
    "# creating some data frames :\n",
    "\n",
    "df1 = pd.DataFrame(\n",
    "    {\n",
    "        \"city\" : [\"surat\",\"ahemdabad\",\"Rajkot\"],\n",
    "        \"temperature\" : [32,42,40]\n",
    "    }\n",
    ")\n",
    "print(df1,end=\"\\n\\n\")\n",
    "\n",
    "\n",
    "\n",
    "df2 = pd.DataFrame(\n",
    "    {\n",
    "        \"city\" : [\"surat\",\"ahemdabad\",\"Junagadh\"],\n",
    "        \"windspeed\" : [7,12,10],\n",
    "    }\n",
    ")\n",
    "print(df2)\n"
   ]
  },
  {
   "cell_type": "code",
   "execution_count": 4,
   "metadata": {},
   "outputs": [
    {
     "name": "stdout",
     "output_type": "stream",
     "text": [
      "        city  temperature  windspeed\n",
      "0      surat           32          7\n",
      "1  ahemdabad           42         12\n"
     ]
    }
   ],
   "source": [
    "# mergig two data frames :\n",
    "\n",
    "df = pd.merge(df1,df2,on=\"city\")\n",
    "print(df) # it will perform join operation of Sql :\n",
    "# if you want to perform Inner/Outer/Left/right join then you can use \"how\" :"
   ]
  },
  {
   "cell_type": "code",
   "execution_count": 5,
   "metadata": {},
   "outputs": [
    {
     "name": "stdout",
     "output_type": "stream",
     "text": [
      "        city  temperature  windspeed\n",
      "0   Junagadh          NaN       10.0\n",
      "1     Rajkot         40.0        NaN\n",
      "2  ahemdabad         42.0       12.0\n",
      "3      surat         32.0        7.0\n"
     ]
    }
   ],
   "source": [
    "# outer join :\n",
    "df = pd.merge(df1,df2,on=\"city\",how=\"outer\") # how = \"inner\" / \"outer\" / \"left\" / \"right\" :\n",
    "print(df)"
   ]
  },
  {
   "cell_type": "code",
   "execution_count": 6,
   "metadata": {},
   "outputs": [
    {
     "name": "stdout",
     "output_type": "stream",
     "text": [
      "        city  temperature  windspeed\n",
      "0      surat           32          7\n",
      "1  ahemdabad           42         12\n"
     ]
    }
   ],
   "source": [
    "# inner jon :\n",
    "df = pd.merge(df1,df2,on=\"city\",how=\"inner\") \n",
    "print(df)"
   ]
  },
  {
   "cell_type": "code",
   "execution_count": 7,
   "metadata": {},
   "outputs": [
    {
     "name": "stdout",
     "output_type": "stream",
     "text": [
      "        city  temperature  windspeed\n",
      "0      surat           32        7.0\n",
      "1  ahemdabad           42       12.0\n",
      "2     Rajkot           40        NaN\n"
     ]
    }
   ],
   "source": [
    "# left join :\n",
    "df = pd.merge(df1,df2,on=\"city\",how=\"left\") \n",
    "print(df)"
   ]
  },
  {
   "cell_type": "code",
   "execution_count": 8,
   "metadata": {},
   "outputs": [
    {
     "name": "stdout",
     "output_type": "stream",
     "text": [
      "        city  temperature  windspeed\n",
      "0      surat         32.0          7\n",
      "1  ahemdabad         42.0         12\n",
      "2   Junagadh          NaN         10\n"
     ]
    }
   ],
   "source": [
    "# right join :\n",
    "df = pd.merge(df1,df2,on=\"city\",how=\"right\") \n",
    "print(df)"
   ]
  },
  {
   "cell_type": "code",
   "execution_count": 9,
   "metadata": {},
   "outputs": [
    {
     "name": "stdout",
     "output_type": "stream",
     "text": [
      "        city  temperature  windspeed      _merge\n",
      "0   Junagadh          NaN       10.0  right_only\n",
      "1     Rajkot         40.0        NaN   left_only\n",
      "2  ahemdabad         42.0       12.0        both\n",
      "3      surat         32.0        7.0        both\n"
     ]
    }
   ],
   "source": [
    "# if you want to know which data is comming from which data set then you can use indicator argument :\n",
    "\n",
    "df = pd.merge(df1,df2,on=\"city\",how=\"outer\",indicator=True) \n",
    "print(df)"
   ]
  },
  {
   "cell_type": "code",
   "execution_count": null,
   "metadata": {},
   "outputs": [],
   "source": []
  }
 ],
 "metadata": {
  "kernelspec": {
   "display_name": "Python 3",
   "language": "python",
   "name": "python3"
  },
  "language_info": {
   "codemirror_mode": {
    "name": "ipython",
    "version": 3
   },
   "file_extension": ".py",
   "mimetype": "text/x-python",
   "name": "python",
   "nbconvert_exporter": "python",
   "pygments_lexer": "ipython3",
   "version": "3.12.2"
  }
 },
 "nbformat": 4,
 "nbformat_minor": 2
}
