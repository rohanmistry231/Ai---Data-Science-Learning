{
 "cells": [
  {
   "cell_type": "code",
   "execution_count": 1,
   "metadata": {},
   "outputs": [
    {
     "name": "stdout",
     "output_type": "stream",
     "text": [
      "Read Data from csv file :\n",
      "                      Formatted Date        Summary Precip Type  \\\n",
      "0      2006-04-01 00:00:00.000 +0200  Partly Cloudy        rain   \n",
      "1      2006-04-01 01:00:00.000 +0200  Partly Cloudy        rain   \n",
      "2      2006-04-01 02:00:00.000 +0200  Mostly Cloudy        rain   \n",
      "3      2006-04-01 03:00:00.000 +0200  Partly Cloudy        rain   \n",
      "4      2006-04-01 04:00:00.000 +0200  Mostly Cloudy        rain   \n",
      "...                              ...            ...         ...   \n",
      "96448  2016-09-09 19:00:00.000 +0200  Partly Cloudy        rain   \n",
      "96449  2016-09-09 20:00:00.000 +0200  Partly Cloudy        rain   \n",
      "96450  2016-09-09 21:00:00.000 +0200  Partly Cloudy        rain   \n",
      "96451  2016-09-09 22:00:00.000 +0200  Partly Cloudy        rain   \n",
      "96452  2016-09-09 23:00:00.000 +0200  Partly Cloudy        rain   \n",
      "\n",
      "       Temperature (C)  Apparent Temperature (C)  Humidity  Wind Speed (km/h)  \\\n",
      "0             9.472222                  7.388889      0.89            14.1197   \n",
      "1             9.355556                  7.227778      0.86            14.2646   \n",
      "2             9.377778                  9.377778      0.89             3.9284   \n",
      "3             8.288889                  5.944444      0.83            14.1036   \n",
      "4             8.755556                  6.977778      0.83            11.0446   \n",
      "...                ...                       ...       ...                ...   \n",
      "96448        26.016667                 26.016667      0.43            10.9963   \n",
      "96449        24.583333                 24.583333      0.48            10.0947   \n",
      "96450        22.038889                 22.038889      0.56             8.9838   \n",
      "96451        21.522222                 21.522222      0.60            10.5294   \n",
      "96452        20.438889                 20.438889      0.61             5.8765   \n",
      "\n",
      "       Wind Bearing (degrees)  Visibility (km)  Loud Cover  \\\n",
      "0                       251.0          15.8263         0.0   \n",
      "1                       259.0          15.8263         0.0   \n",
      "2                       204.0          14.9569         0.0   \n",
      "3                       269.0          15.8263         0.0   \n",
      "4                       259.0          15.8263         0.0   \n",
      "...                       ...              ...         ...   \n",
      "96448                    31.0          16.1000         0.0   \n",
      "96449                    20.0          15.5526         0.0   \n",
      "96450                    30.0          16.1000         0.0   \n",
      "96451                    20.0          16.1000         0.0   \n",
      "96452                    39.0          15.5204         0.0   \n",
      "\n",
      "       Pressure (millibars)                           Daily Summary  \n",
      "0                   1015.13       Partly cloudy throughout the day.  \n",
      "1                   1015.63       Partly cloudy throughout the day.  \n",
      "2                   1015.94       Partly cloudy throughout the day.  \n",
      "3                   1016.41       Partly cloudy throughout the day.  \n",
      "4                   1016.51       Partly cloudy throughout the day.  \n",
      "...                     ...                                     ...  \n",
      "96448               1014.36  Partly cloudy starting in the morning.  \n",
      "96449               1015.16  Partly cloudy starting in the morning.  \n",
      "96450               1015.66  Partly cloudy starting in the morning.  \n",
      "96451               1015.95  Partly cloudy starting in the morning.  \n",
      "96452               1016.16  Partly cloudy starting in the morning.  \n",
      "\n",
      "[96453 rows x 12 columns]\n"
     ]
    }
   ],
   "source": [
    "# read data from csv file :\n",
    "print(\"Read Data from csv file :\")\n",
    "import pandas as pd \n",
    "df = pd.read_csv(\"S:\\\\Coding\\\\Github\\\\Data Science Learning\\\\Pandas\\\\Weather.csv\")\n",
    "print(df)"
   ]
  },
  {
   "cell_type": "code",
   "execution_count": null,
   "metadata": {},
   "outputs": [],
   "source": [
    "# read data from excel file :\n",
    "print(\"\")\n",
    "print(\"Read Data from excel file\")\n",
    "df = pd.read_excel(\"S:\\\\Coding\\\\Github\\\\Data Science Learning\\\\Pandas\\\\Weather.xlsx\",\"Weather\")\n",
    "print(df) "
   ]
  },
  {
   "cell_type": "code",
   "execution_count": 2,
   "metadata": {},
   "outputs": [
    {
     "name": "stdout",
     "output_type": "stream",
     "text": [
      "\n",
      "Creating Data with Dictionray :\n",
      "        day  temperature  windspeed  event\n",
      "0  1/1/2017           32          6   Rain\n",
      "1  1/2/2017           35          7  Sunny\n",
      "2  1/3/2017           28          2   Snow\n",
      "3  1/4/2017           24          7   Snow\n",
      "4  1/5/2017           32          4   Rain\n",
      "5  1/6/2017           32          2  Sunny\n"
     ]
    }
   ],
   "source": [
    "# create data frame using python dictionary :\n",
    "print(\"\")\n",
    "print(\"Creating Data with Dictionray :\")\n",
    "weather_data = {\n",
    "    'day' : ['1/1/2017','1/2/2017','1/3/2017','1/4/2017','1/5/2017','1/6/2017'],\n",
    "    'temperature' : [32,35,28,24,32,32],\n",
    "    'windspeed' : [6,7,2,7,4,2],\n",
    "    'event' : ['Rain','Sunny','Snow','Snow','Rain','Sunny']\n",
    "}\n",
    "df = pd.DataFrame(weather_data)\n",
    "print(df)"
   ]
  },
  {
   "cell_type": "code",
   "execution_count": 3,
   "metadata": {},
   "outputs": [
    {
     "name": "stdout",
     "output_type": "stream",
     "text": [
      "\n",
      "Creating data using tupple :\n",
      "        day  temperature  windspeed  event\n",
      "0  1/1/2017           32          6   Rain\n",
      "1  1/2/2017           35          7  Sunny\n",
      "2  1/3/2017           28          2   Snow\n",
      "3  1/4/2017           24          7   Snow\n",
      "4  1/5/2017           32          4   Rain\n",
      "5  1/6/2017           32          2  Sunny\n"
     ]
    }
   ],
   "source": [
    "# create data frame using python tupple :\n",
    "print(\"\")\n",
    "print(\"Creating data using tupple :\")\n",
    "weather_data_tupple = [\n",
    "    ('1/1/2017',32,6,'Rain'),\n",
    "    ('1/2/2017',35,7,'Sunny'),\n",
    "    ('1/3/2017',28,2,'Snow'),\n",
    "    ('1/4/2017',24,7,'Snow'),\n",
    "    ('1/5/2017',32,4,'Rain'),\n",
    "    ('1/6/2017',32,2,'Sunny')\n",
    "]\n",
    "data_tupple = pd.DataFrame(weather_data_tupple,columns=['day','temperature','windspeed','event'])\n",
    "print(data_tupple)"
   ]
  },
  {
   "cell_type": "code",
   "execution_count": 4,
   "metadata": {},
   "outputs": [
    {
     "name": "stdout",
     "output_type": "stream",
     "text": [
      "\n",
      "Creating data using list of dictionaries :\n",
      "        day  temperature  windspeed  event\n",
      "0  1/1/2017           32          6   Rain\n",
      "1  1/2/2017           35          7  Sunny\n",
      "2  1/3/2017           28          2   Snow\n",
      "3  1/4/2017           24          7   Snow\n",
      "4  1/5/2017           32          4   Rain\n",
      "5  1/6/2017           32          2  Sunny\n"
     ]
    }
   ],
   "source": [
    "# create data frame using list of dictionaries :\n",
    "print(\"\")\n",
    "print(\"Creating data using list of dictionaries :\")\n",
    "weather_data_list_dic = [\n",
    "    {'day':'1/1/2017','temperature':32,'windspeed':6,'event':'Rain'},\n",
    "    {'day':'1/2/2017','temperature':35,'windspeed':7,'event':'Sunny'},\n",
    "    {'day':'1/3/2017','temperature':28,'windspeed':2,'event':'Snow'},\n",
    "    {'day':'1/4/2017','temperature':24,'windspeed':7,'event':'Snow'},\n",
    "    {'day':'1/5/2017','temperature':32,'windspeed':4,'event':'Rain'},\n",
    "    {'day':'1/6/2017','temperature':32,'windspeed':2,'event':'Sunny'}\n",
    "]\n",
    "data_list_dic = pd.DataFrame(weather_data_list_dic)\n",
    "print(data_list_dic)"
   ]
  },
  {
   "cell_type": "code",
   "execution_count": null,
   "metadata": {},
   "outputs": [],
   "source": []
  }
 ],
 "metadata": {
  "kernelspec": {
   "display_name": "Python 3",
   "language": "python",
   "name": "python3"
  },
  "language_info": {
   "codemirror_mode": {
    "name": "ipython",
    "version": 3
   },
   "file_extension": ".py",
   "mimetype": "text/x-python",
   "name": "python",
   "nbconvert_exporter": "python",
   "pygments_lexer": "ipython3",
   "version": "3.12.2"
  }
 },
 "nbformat": 4,
 "nbformat_minor": 2
}
