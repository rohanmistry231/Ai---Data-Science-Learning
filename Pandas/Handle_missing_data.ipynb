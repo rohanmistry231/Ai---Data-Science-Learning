{
 "cells": [
  {
   "cell_type": "code",
   "execution_count": 15,
   "metadata": {},
   "outputs": [],
   "source": [
    "import pandas as pd\n",
    "\n",
    "# Define the data\n",
    "data = {\n",
    "    'day': pd.date_range(start=\"2017-01-01\", end=\"2017-01-11\"),\n",
    "    'temperature': [32, None, 28, None, 30, None, 29, None, 31, 33, None],\n",
    "    'windspeed': [12, 15, None, None, 8, 12, 10, None, 14, 10, 11],\n",
    "    'event': ['Sunny', 'Cloudy', 'Sunny', None, 'Rainy', 'Sunny', 'Windy', 'Cloudy', 'Sunny', None, None]\n",
    "}\n",
    "\n",
    "# Create a DataFrame\n",
    "df = pd.DataFrame(data)\n",
    "\n",
    "# Convert 'day' to datetime and set as index\n",
    "df['day'] = pd.to_datetime(df['day'])\n",
    "df.set_index('day', inplace=True)\n",
    "\n",
    "# Save the DataFrame to a CSV file\n",
    "df.to_csv(\"Missing_weather_data.csv\", index=True)\n"
   ]
  },
  {
   "cell_type": "code",
   "execution_count": 16,
   "metadata": {},
   "outputs": [
    {
     "name": "stdout",
     "output_type": "stream",
     "text": [
      "            temperature  windspeed   event\n",
      "day                                       \n",
      "2017-01-01         32.0       12.0   Sunny\n",
      "2017-01-02          0.0       15.0  Cloudy\n",
      "2017-01-03         28.0        0.0   Sunny\n",
      "2017-01-04          0.0        0.0       0\n",
      "2017-01-05         30.0        8.0   Rainy\n",
      "2017-01-06          0.0       12.0   Sunny\n",
      "2017-01-07         29.0       10.0   Windy\n",
      "2017-01-08          0.0        0.0  Cloudy\n",
      "2017-01-09         31.0       14.0   Sunny\n",
      "2017-01-10         33.0       10.0       0\n",
      "2017-01-11          0.0       11.0       0\n"
     ]
    }
   ],
   "source": [
    "new_df = df.fillna(0)\n",
    "print(new_df) # this .fillna function replace all NaN values with 0.0 :\n",
    "# sometimes replacing 0 is not the best case :\n",
    "# if you have to replace different values for different data set then we use dictionaries :\n",
    "new_df = df.fillna({\n",
    "    'temperature' : 0,\n",
    "    'windspeed' : 0,\n",
    "    'event' : 'No event'\n",
    "})"
   ]
  },
  {
   "cell_type": "code",
   "execution_count": 17,
   "metadata": {},
   "outputs": [
    {
     "name": "stdout",
     "output_type": "stream",
     "text": [
      "            temperature  windspeed     event\n",
      "day                                         \n",
      "2017-01-01         32.0       12.0     Sunny\n",
      "2017-01-02          0.0       15.0    Cloudy\n",
      "2017-01-03         28.0        0.0     Sunny\n",
      "2017-01-04          0.0        0.0  No event\n",
      "2017-01-05         30.0        8.0     Rainy\n",
      "2017-01-06          0.0       12.0     Sunny\n",
      "2017-01-07         29.0       10.0     Windy\n",
      "2017-01-08          0.0        0.0    Cloudy\n",
      "2017-01-09         31.0       14.0     Sunny\n",
      "2017-01-10         33.0       10.0  No event\n",
      "2017-01-11          0.0       11.0  No event\n"
     ]
    },
    {
     "name": "stderr",
     "output_type": "stream",
     "text": [
      "C:\\Users\\rohan\\AppData\\Local\\Temp\\ipykernel_12988\\1173900034.py:3: FutureWarning: DataFrame.fillna with 'method' is deprecated and will raise in a future version. Use obj.ffill() or obj.bfill() instead.\n",
      "  new_df = df.fillna(method='ffill') # ffill = forward fill is used to forward values :\n"
     ]
    }
   ],
   "source": [
    "print(new_df) # this will replace values by values that we have given in our dictinary :\n",
    "# the other way of finding best case is  forward or backward values :\n",
    "new_df = df.fillna(method='ffill') # ffill = forward fill is used to forward values : "
   ]
  },
  {
   "cell_type": "code",
   "execution_count": 18,
   "metadata": {},
   "outputs": [
    {
     "name": "stdout",
     "output_type": "stream",
     "text": [
      "            temperature  windspeed   event\n",
      "day                                       \n",
      "2017-01-01         32.0       12.0   Sunny\n",
      "2017-01-02         32.0       15.0  Cloudy\n",
      "2017-01-03         28.0       15.0   Sunny\n",
      "2017-01-04         28.0       15.0   Sunny\n",
      "2017-01-05         30.0        8.0   Rainy\n",
      "2017-01-06         30.0       12.0   Sunny\n",
      "2017-01-07         29.0       10.0   Windy\n",
      "2017-01-08         29.0       10.0  Cloudy\n",
      "2017-01-09         31.0       14.0   Sunny\n",
      "2017-01-10         33.0       10.0   Sunny\n",
      "2017-01-11         33.0       11.0   Sunny\n"
     ]
    }
   ],
   "source": [
    "# means ex. 1st day temp  is 32 and 4th day temp is 0 so ffill forward 1st day value in 4th day :\n",
    "print(new_df) "
   ]
  },
  {
   "cell_type": "code",
   "execution_count": 19,
   "metadata": {},
   "outputs": [
    {
     "name": "stdout",
     "output_type": "stream",
     "text": [
      "            temperature  windspeed   event\n",
      "day                                       \n",
      "2017-01-01         32.0       12.0   Sunny\n",
      "2017-01-02         28.0       15.0  Cloudy\n",
      "2017-01-03         28.0        8.0   Sunny\n",
      "2017-01-04         30.0        8.0   Rainy\n",
      "2017-01-05         30.0        8.0   Rainy\n",
      "2017-01-06         29.0       12.0   Sunny\n",
      "2017-01-07         29.0       10.0   Windy\n",
      "2017-01-08         31.0       14.0  Cloudy\n",
      "2017-01-09         31.0       14.0   Sunny\n",
      "2017-01-10         33.0       10.0    None\n",
      "2017-01-11          NaN       11.0    None\n"
     ]
    },
    {
     "name": "stderr",
     "output_type": "stream",
     "text": [
      "C:\\Users\\rohan\\AppData\\Local\\Temp\\ipykernel_12988\\1726928684.py:3: FutureWarning: DataFrame.fillna with 'method' is deprecated and will raise in a future version. Use obj.ffill() or obj.bfill() instead.\n",
      "  new_df = df.fillna(method='bfill')\n"
     ]
    }
   ],
   "source": [
    "# you can also use bfill = backward fill it will backward values :\n",
    "# means ex. 5th day temp  is 28 and 4th day temp is 0 so bfill forward 1st day value in 4th day :\n",
    "new_df = df.fillna(method='bfill')\n",
    "print(new_df)"
   ]
  },
  {
   "cell_type": "code",
   "execution_count": 20,
   "metadata": {},
   "outputs": [
    {
     "name": "stdout",
     "output_type": "stream",
     "text": [
      "           temperature windspeed   event\n",
      "day                                     \n",
      "2017-01-01        32.0      12.0   Sunny\n",
      "2017-01-02        15.0      15.0  Cloudy\n",
      "2017-01-03        28.0     Sunny   Sunny\n",
      "2017-01-04        None      None    None\n",
      "2017-01-05        30.0       8.0   Rainy\n",
      "2017-01-06        12.0      12.0   Sunny\n",
      "2017-01-07        29.0      10.0   Windy\n",
      "2017-01-08      Cloudy    Cloudy  Cloudy\n",
      "2017-01-09        31.0      14.0   Sunny\n",
      "2017-01-10        33.0      10.0     NaN\n",
      "2017-01-11        11.0      11.0     NaN\n"
     ]
    },
    {
     "name": "stderr",
     "output_type": "stream",
     "text": [
      "C:\\Users\\rohan\\AppData\\Local\\Temp\\ipykernel_12988\\61183788.py:5: FutureWarning: DataFrame.fillna with 'method' is deprecated and will raise in a future version. Use obj.ffill() or obj.bfill() instead.\n",
      "  new_df = df.fillna(method='bfill',axis='columns')\n",
      "C:\\Users\\rohan\\AppData\\Local\\Temp\\ipykernel_12988\\61183788.py:5: FutureWarning: Downcasting object dtype arrays on .fillna, .ffill, .bfill is deprecated and will change in a future version. Call result.infer_objects(copy=False) instead. To opt-in to the future behavior, set `pd.set_option('future.no_silent_downcasting', True)`\n",
      "  new_df = df.fillna(method='bfill',axis='columns')\n"
     ]
    }
   ],
   "source": [
    "# if you want to forward or backward values horizontally so for that you can use axis='columns' :\n",
    "# new_df = df.fillna(method='ffill',axis='columns')\n",
    "# print(new_df) # it will forward values horizontally \n",
    "\n",
    "new_df = df.fillna(method='bfill',axis='columns')\n",
    "print(new_df) # it will backward values horizontally "
   ]
  },
  {
   "cell_type": "code",
   "execution_count": 21,
   "metadata": {},
   "outputs": [
    {
     "name": "stdout",
     "output_type": "stream",
     "text": [
      "            temperature  windspeed   event\n",
      "day                                       \n",
      "2017-01-01         32.0  12.000000   Sunny\n",
      "2017-01-02         30.0  15.000000  Cloudy\n",
      "2017-01-03         28.0  12.666667   Sunny\n",
      "2017-01-04         29.0  10.333333    None\n",
      "2017-01-05         30.0   8.000000   Rainy\n",
      "2017-01-06         29.5  12.000000   Sunny\n",
      "2017-01-07         29.0  10.000000   Windy\n",
      "2017-01-08         30.0  12.000000  Cloudy\n",
      "2017-01-09         31.0  14.000000   Sunny\n",
      "2017-01-10         33.0  10.000000    None\n",
      "2017-01-11         33.0  11.000000    None\n"
     ]
    },
    {
     "name": "stderr",
     "output_type": "stream",
     "text": [
      "C:\\Users\\rohan\\AppData\\Local\\Temp\\ipykernel_12988\\2965711958.py:6: FutureWarning: DataFrame.interpolate with object dtype is deprecated and will raise in a future version. Call obj.infer_objects(copy=False) before interpolating instead.\n",
      "  new_df = df.interpolate()\n"
     ]
    }
   ],
   "source": [
    "# if you forward or backward value only one time then you can set limint :\n",
    "# new_df = df.fillna(method='bfill',limit=1)\n",
    "# print(new_df) # you can see that 4th month value is forward only ones 6th month remains NaN :\n",
    "# index is day so you can't run this code in this program :\n",
    "# for best case of replace values of front and rear values avg value for that you can use interpolate() function :\n",
    "new_df = df.interpolate()\n",
    "print(new_df) # interpolate() will find the best case to replace your dat"
   ]
  },
  {
   "cell_type": "code",
   "execution_count": 22,
   "metadata": {},
   "outputs": [
    {
     "name": "stderr",
     "output_type": "stream",
     "text": [
      "C:\\Users\\rohan\\AppData\\Local\\Temp\\ipykernel_12988\\1293767836.py:3: FutureWarning: DataFrame.interpolate with object dtype is deprecated and will raise in a future version. Call obj.infer_objects(copy=False) before interpolating instead.\n",
      "  new_df = df.interpolate(method=\"time\")\n"
     ]
    },
    {
     "name": "stdout",
     "output_type": "stream",
     "text": [
      "***************************************\n",
      "            temperature  windspeed   event\n",
      "day                                       \n",
      "2017-01-01         32.0  12.000000   Sunny\n",
      "2017-01-02         30.0  15.000000  Cloudy\n",
      "2017-01-03         28.0  12.666667   Sunny\n",
      "2017-01-04         29.0  10.333333    None\n",
      "2017-01-05         30.0   8.000000   Rainy\n",
      "2017-01-06         29.5  12.000000   Sunny\n",
      "2017-01-07         29.0  10.000000   Windy\n",
      "2017-01-08         30.0  12.000000  Cloudy\n",
      "2017-01-09         31.0  14.000000   Sunny\n",
      "2017-01-10         33.0  10.000000    None\n",
      "2017-01-11         33.0  11.000000    None\n"
     ]
    }
   ],
   "source": [
    "# ex. 1st day temp is 32 and 5th day temp is 28 and avg temp is 30 so interpolate() function replace midddle value with avg value 30 this is the best case to replace values :\n",
    "print(\"***************************************\")\n",
    "new_df = df.interpolate(method=\"time\")\n",
    "print(new_df) # this is the best case ever when you replace values time by time it will replace 4th day value with avg of 1st and 5th day and then he set value as 4th day and replacde it :"
   ]
  },
  {
   "cell_type": "code",
   "execution_count": 23,
   "metadata": {},
   "outputs": [
    {
     "name": "stdout",
     "output_type": "stream",
     "text": [
      "            temperature  windspeed  event\n",
      "day                                      \n",
      "2017-01-01         32.0       12.0  Sunny\n",
      "2017-01-05         30.0        8.0  Rainy\n",
      "2017-01-07         29.0       10.0  Windy\n",
      "2017-01-09         31.0       14.0  Sunny\n"
     ]
    }
   ],
   "source": [
    "# if you don't want to print any NaN values data set then you can use .dropna() func :\n",
    "new_df = df.dropna()\n",
    "print(new_df)"
   ]
  },
  {
   "cell_type": "code",
   "execution_count": 24,
   "metadata": {},
   "outputs": [
    {
     "name": "stdout",
     "output_type": "stream",
     "text": [
      "            temperature  windspeed   event\n",
      "day                                       \n",
      "2017-01-01         32.0       12.0   Sunny\n",
      "2017-01-02          NaN       15.0  Cloudy\n",
      "2017-01-03         28.0        NaN   Sunny\n",
      "2017-01-05         30.0        8.0   Rainy\n",
      "2017-01-06          NaN       12.0   Sunny\n",
      "2017-01-07         29.0       10.0   Windy\n",
      "2017-01-08          NaN        NaN  Cloudy\n",
      "2017-01-09         31.0       14.0   Sunny\n",
      "2017-01-10         33.0       10.0    None\n",
      "2017-01-11          NaN       11.0    None\n"
     ]
    }
   ],
   "source": [
    "# if you don't want to print only those data who has all data as NaN then you can use 'how' :\n",
    "new_df = df.dropna(how='all')\n",
    "print(new_df) # this will print only those data who don't have any NaN values :"
   ]
  },
  {
   "cell_type": "code",
   "execution_count": 25,
   "metadata": {},
   "outputs": [
    {
     "name": "stdout",
     "output_type": "stream",
     "text": [
      "            temperature  windspeed   event\n",
      "day                                       \n",
      "2017-01-01         32.0       12.0   Sunny\n",
      "2017-01-02          NaN       15.0  Cloudy\n",
      "2017-01-03         28.0        NaN   Sunny\n",
      "2017-01-05         30.0        8.0   Rainy\n",
      "2017-01-06          NaN       12.0   Sunny\n",
      "2017-01-07         29.0       10.0   Windy\n",
      "2017-01-08          NaN        NaN  Cloudy\n",
      "2017-01-09         31.0       14.0   Sunny\n",
      "2017-01-10         33.0       10.0    None\n",
      "2017-01-11          NaN       11.0    None\n"
     ]
    }
   ],
   "source": [
    "# if you want to print only those data who have only one or more than one NaN values then you can use thresold parameter thresh=NaN_counts :\n",
    "new_df = df.dropna(thresh=1)\n",
    "print(new_df)"
   ]
  },
  {
   "cell_type": "code",
   "execution_count": 26,
   "metadata": {},
   "outputs": [
    {
     "name": "stdout",
     "output_type": "stream",
     "text": [
      "            temperature  windspeed   event\n",
      "2017-01-01         32.0       12.0   Sunny\n",
      "2017-01-02          NaN       15.0  Cloudy\n",
      "2017-01-03         28.0        NaN   Sunny\n",
      "2017-01-04          NaN        NaN    None\n",
      "2017-01-05         30.0        8.0   Rainy\n",
      "2017-01-06          NaN       12.0   Sunny\n",
      "2017-01-07         29.0       10.0   Windy\n",
      "2017-01-08          NaN        NaN  Cloudy\n",
      "2017-01-09         31.0       14.0   Sunny\n",
      "2017-01-10         33.0       10.0    None\n",
      "2017-01-11          NaN       11.0    None\n"
     ]
    }
   ],
   "source": [
    "# inserting the missing dates :\n",
    "dt = pd.date_range(\"01-01-2017\",\"01-11-2017\")\n",
    "idx = pd.DatetimeIndex(dt)\n",
    "df = df.reindex(idx)\n",
    "print(df)"
   ]
  },
  {
   "cell_type": "code",
   "execution_count": null,
   "metadata": {},
   "outputs": [],
   "source": []
  }
 ],
 "metadata": {
  "kernelspec": {
   "display_name": "Python 3",
   "language": "python",
   "name": "python3"
  },
  "language_info": {
   "codemirror_mode": {
    "name": "ipython",
    "version": 3
   },
   "file_extension": ".py",
   "mimetype": "text/x-python",
   "name": "python",
   "nbconvert_exporter": "python",
   "pygments_lexer": "ipython3",
   "version": "3.12.2"
  }
 },
 "nbformat": 4,
 "nbformat_minor": 2
}
