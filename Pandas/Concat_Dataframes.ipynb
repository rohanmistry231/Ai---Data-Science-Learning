{
 "cells": [
  {
   "cell_type": "code",
   "execution_count": 1,
   "metadata": {},
   "outputs": [
    {
     "name": "stdout",
     "output_type": "stream",
     "text": [
      "       City  Temperature  Humidity\n",
      "0    mumbai           32        80\n",
      "1     delhi           45        60\n",
      "2  banglore           30        70\n",
      "       City  Temperature  Humidity\n",
      "0  new york           21        60\n",
      "1   chicago           12        45\n",
      "2   orlando           35        75\n"
     ]
    }
   ],
   "source": [
    "# Concat Dataframes : merge/join two or more data frames :\n",
    "\n",
    "import pandas as pd \n",
    "\n",
    "# creatng a data frames :\n",
    "\n",
    "india_weather = pd.DataFrame({\n",
    "    \"City\" : [\"mumbai\",\"delhi\",\"banglore\"],\n",
    "    \"Temperature\" : [32,45,30],\n",
    "    \"Humidity\" : [80,60,70]\n",
    "})\n",
    "print(india_weather)\n",
    "\n",
    "us_weather = pd.DataFrame({\n",
    "    \"City\" : [\"new york\",\"chicago\",\"orlando\"],\n",
    "    \"Temperature\" : [21,12,35],\n",
    "    \"Humidity\" : [60,45,75]\n",
    "})\n",
    "print(us_weather)"
   ]
  },
  {
   "cell_type": "code",
   "execution_count": 2,
   "metadata": {},
   "outputs": [
    {
     "name": "stdout",
     "output_type": "stream",
     "text": [
      "       City  Temperature  Humidity\n",
      "0    mumbai           32        80\n",
      "1     delhi           45        60\n",
      "2  banglore           30        70\n",
      "0  new york           21        60\n",
      "1   chicago           12        45\n",
      "2   orlando           35        75\n"
     ]
    }
   ],
   "source": [
    "# concatination of data frames :\n",
    "\n",
    "df = pd.concat([india_weather,us_weather])\n",
    "print(df)"
   ]
  },
  {
   "cell_type": "code",
   "execution_count": 3,
   "metadata": {},
   "outputs": [
    {
     "name": "stdout",
     "output_type": "stream",
     "text": [
      "       City  Temperature  Humidity\n",
      "0    mumbai           32        80\n",
      "1     delhi           45        60\n",
      "2  banglore           30        70\n",
      "3  new york           21        60\n",
      "4   chicago           12        45\n",
      "5   orlando           35        75\n"
     ]
    }
   ],
   "source": [
    "# if you want ignore index and print only one basic index then you can pass ignore index argument :\n",
    "\n",
    "df = pd.concat([india_weather,us_weather],ignore_index=True)\n",
    "print(df)"
   ]
  },
  {
   "cell_type": "code",
   "execution_count": 4,
   "metadata": {},
   "outputs": [
    {
     "name": "stdout",
     "output_type": "stream",
     "text": [
      "             City  Temperature  Humidity\n",
      "india 0    mumbai           32        80\n",
      "      1     delhi           45        60\n",
      "      2  banglore           30        70\n",
      "us    0  new york           21        60\n",
      "      1   chicago           12        45\n",
      "      2   orlando           35        75\n"
     ]
    }
   ],
   "source": [
    "# if you want to retrive weather data from indian cities for this you can use keys :\n",
    "\n",
    "df = pd.concat([india_weather,us_weather], keys=[\"india\",\"us\"])\n",
    "print(df)"
   ]
  },
  {
   "cell_type": "code",
   "execution_count": 5,
   "metadata": {},
   "outputs": [
    {
     "name": "stdout",
     "output_type": "stream",
     "text": [
      "        city  temperature\n",
      "0      surat           32\n",
      "1  ahemdabad           42\n",
      "        city  windspeed\n",
      "0      surat          7\n",
      "1  ahemdabad         12\n"
     ]
    }
   ],
   "source": [
    "# if there is one unique coloumn in any data frame :\n",
    "\n",
    "only_temp = pd.DataFrame(\n",
    "    {\n",
    "        \"city\" : [\"surat\",\"ahemdabad\"],\n",
    "        \"temperature\" : [32,42]\n",
    "    }\n",
    ")\n",
    "print(only_temp)\n",
    "\n",
    "only_windspeed = pd.DataFrame(\n",
    "    {\n",
    "        \"city\" : [\"surat\",\"ahemdabad\"],\n",
    "        \"windspeed\" : [7,12]\n",
    "    }\n",
    ")\n",
    "print(only_windspeed)"
   ]
  },
  {
   "cell_type": "code",
   "execution_count": 6,
   "metadata": {},
   "outputs": [
    {
     "name": "stdout",
     "output_type": "stream",
     "text": [
      "        city  temperature  windspeed\n",
      "0      surat         32.0        NaN\n",
      "1  ahemdabad         42.0        NaN\n",
      "0      surat          NaN        7.0\n",
      "1  ahemdabad          NaN       12.0\n"
     ]
    }
   ],
   "source": [
    "# merging data frames :\n",
    "\n",
    "df = pd.concat([only_temp,only_windspeed],sort=True)\n",
    "print(df)"
   ]
  },
  {
   "cell_type": "code",
   "execution_count": 7,
   "metadata": {},
   "outputs": [
    {
     "name": "stdout",
     "output_type": "stream",
     "text": [
      "        city  temperature       city  windspeed\n",
      "0      surat           32      surat          7\n",
      "1  ahemdabad           42  ahemdabad         12\n"
     ]
    }
   ],
   "source": [
    "# if you want to add row instead of NaN values then you can use axis :\n",
    "\n",
    "df = pd.concat([only_temp,only_windspeed],axis=1)\n",
    "print(df)"
   ]
  },
  {
   "cell_type": "code",
   "execution_count": 8,
   "metadata": {},
   "outputs": [
    {
     "name": "stdout",
     "output_type": "stream",
     "text": [
      "        city  temperature\n",
      "0      surat           32\n",
      "1  ahemdabad           42\n",
      "2     Rajkot           40\n",
      "        city  windspeed\n",
      "1  ahemdabad          7\n",
      "0      surat         12\n"
     ]
    }
   ],
   "source": [
    "# if there is missing data in any data frames :\n",
    "\n",
    "# creating a data frame that have missing data :\n",
    "\n",
    "\n",
    "miss_temp = pd.DataFrame(\n",
    "    {\n",
    "        \"city\" : [\"surat\",\"ahemdabad\",\"Rajkot\"],\n",
    "        \"temperature\" : [32,42,40]\n",
    "    }, index=[0,1,2]\n",
    ")\n",
    "print(miss_temp)\n",
    "miss_windspeed = pd.DataFrame(\n",
    "    {\n",
    "        \"city\" : [\"ahemdabad\",\"surat\"],\n",
    "        \"windspeed\" : [7,12]\n",
    "    },index=[1,0]\n",
    ")\n",
    "print(miss_windspeed)"
   ]
  },
  {
   "cell_type": "code",
   "execution_count": 9,
   "metadata": {},
   "outputs": [
    {
     "name": "stdout",
     "output_type": "stream",
     "text": [
      "        city  temperature       city  windspeed\n",
      "0      surat           32      surat       12.0\n",
      "1  ahemdabad           42  ahemdabad        7.0\n",
      "2     Rajkot           40        NaN        NaN\n"
     ]
    }
   ],
   "source": [
    "# in second data frame Rajkot is missing and order of city is different to manage this data you can use index :\n",
    "\n",
    "df = pd.concat([miss_temp,miss_windspeed],axis=1)\n",
    "print(df)"
   ]
  },
  {
   "cell_type": "code",
   "execution_count": 10,
   "metadata": {},
   "outputs": [
    {
     "name": "stdout",
     "output_type": "stream",
     "text": [
      "0    Humid\n",
      "1      dry\n",
      "2     Rain\n",
      "Name: event, dtype: object\n"
     ]
    }
   ],
   "source": [
    "# you can also append series in concatination :\n",
    "\n",
    "# creating a series :\n",
    "series_ = pd.Series([\"Humid\",\"dry\",\"Rain\"],name=\"event\")\n",
    "print(series_)"
   ]
  },
  {
   "cell_type": "code",
   "execution_count": 11,
   "metadata": {},
   "outputs": [
    {
     "name": "stdout",
     "output_type": "stream",
     "text": [
      "        city  temperature  event\n",
      "0      surat           32  Humid\n",
      "1  ahemdabad           42    dry\n",
      "2     Rajkot           40   Rain\n"
     ]
    }
   ],
   "source": [
    "# appending series into data frames :\n",
    "\n",
    "df = pd.concat([miss_temp,series_],axis=1)\n",
    "print(df)"
   ]
  },
  {
   "cell_type": "code",
   "execution_count": null,
   "metadata": {},
   "outputs": [],
   "source": []
  }
 ],
 "metadata": {
  "kernelspec": {
   "display_name": "Python 3",
   "language": "python",
   "name": "python3"
  },
  "language_info": {
   "codemirror_mode": {
    "name": "ipython",
    "version": 3
   },
   "file_extension": ".py",
   "mimetype": "text/x-python",
   "name": "python",
   "nbconvert_exporter": "python",
   "pygments_lexer": "ipython3",
   "version": "3.12.2"
  }
 },
 "nbformat": 4,
 "nbformat_minor": 2
}
