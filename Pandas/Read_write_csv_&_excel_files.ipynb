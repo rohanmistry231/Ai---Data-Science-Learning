{
 "cells": [
  {
   "cell_type": "code",
   "execution_count": 2,
   "metadata": {},
   "outputs": [],
   "source": [
    "import pandas as pd \n",
    "\n",
    "def converter_event_cell(cell): # if you want to print some default value you have to use converter :\n",
    "    if cell=='n.a.':\n",
    "        return 'Sunny'\n",
    "    return cell\n",
    "\n",
    "df = pd.read_csv(\"S:\\\\Coding\\\\Github\\\\Data Science Learning\\\\Pandas\\\\Weather.csv\",skiprows=1,na_values={\n",
    "    'temperature' : [\"not_available\",\"n.a.\"],\n",
    "    'windspeed' : [\"not_available\",\"n.a.\",-4] # this is not working in our program but it is right syntax to change values with na_values :\n",
    "},converters = {\n",
    "    'event' : converter_event_cell # converter always use dictionaries :\n",
    "}) "
   ]
  },
  {
   "cell_type": "code",
   "execution_count": 3,
   "metadata": {},
   "outputs": [
    {
     "name": "stdout",
     "output_type": "stream",
     "text": [
      "       2006-04-01 00:00:00.000 +0200  Partly Cloudy  rain  9.472222222222221  \\\n",
      "0      2006-04-01 01:00:00.000 +0200  Partly Cloudy  rain           9.355556   \n",
      "1      2006-04-01 02:00:00.000 +0200  Mostly Cloudy  rain           9.377778   \n",
      "2      2006-04-01 03:00:00.000 +0200  Partly Cloudy  rain           8.288889   \n",
      "3      2006-04-01 04:00:00.000 +0200  Mostly Cloudy  rain           8.755556   \n",
      "4      2006-04-01 05:00:00.000 +0200  Partly Cloudy  rain           9.222222   \n",
      "...                              ...            ...   ...                ...   \n",
      "96447  2016-09-09 19:00:00.000 +0200  Partly Cloudy  rain          26.016667   \n",
      "96448  2016-09-09 20:00:00.000 +0200  Partly Cloudy  rain          24.583333   \n",
      "96449  2016-09-09 21:00:00.000 +0200  Partly Cloudy  rain          22.038889   \n",
      "96450  2016-09-09 22:00:00.000 +0200  Partly Cloudy  rain          21.522222   \n",
      "96451  2016-09-09 23:00:00.000 +0200  Partly Cloudy  rain          20.438889   \n",
      "\n",
      "       7.3888888888888875  0.89  14.1197  251.0  15.826300000000002  0.0  \\\n",
      "0                7.227778  0.86  14.2646  259.0             15.8263  0.0   \n",
      "1                9.377778  0.89   3.9284  204.0             14.9569  0.0   \n",
      "2                5.944444  0.83  14.1036  269.0             15.8263  0.0   \n",
      "3                6.977778  0.83  11.0446  259.0             15.8263  0.0   \n",
      "4                7.111111  0.85  13.9587  258.0             14.9569  0.0   \n",
      "...                   ...   ...      ...    ...                 ...  ...   \n",
      "96447           26.016667  0.43  10.9963   31.0             16.1000  0.0   \n",
      "96448           24.583333  0.48  10.0947   20.0             15.5526  0.0   \n",
      "96449           22.038889  0.56   8.9838   30.0             16.1000  0.0   \n",
      "96450           21.522222  0.60  10.5294   20.0             16.1000  0.0   \n",
      "96451           20.438889  0.61   5.8765   39.0             15.5204  0.0   \n",
      "\n",
      "       1015.13       Partly cloudy throughout the day.  \n",
      "0      1015.63       Partly cloudy throughout the day.  \n",
      "1      1015.94       Partly cloudy throughout the day.  \n",
      "2      1016.41       Partly cloudy throughout the day.  \n",
      "3      1016.51       Partly cloudy throughout the day.  \n",
      "4      1016.66       Partly cloudy throughout the day.  \n",
      "...        ...                                     ...  \n",
      "96447  1014.36  Partly cloudy starting in the morning.  \n",
      "96448  1015.16  Partly cloudy starting in the morning.  \n",
      "96449  1015.66  Partly cloudy starting in the morning.  \n",
      "96450  1015.95  Partly cloudy starting in the morning.  \n",
      "96451  1016.16  Partly cloudy starting in the morning.  \n",
      "\n",
      "[96452 rows x 12 columns]\n"
     ]
    }
   ],
   "source": [
    "# skiprows or header = 1\n",
    "# when there is a extra header in your file like in this file \"Weather data\" and if you want to skip that row then skiprows or header function used :\n",
    "# if there is n.a./not_available values in your data set and you want to set that as NaN then na_values is used :\n",
    "# now windspeed would never be -3. so if you want to change that value with NaN then :\n",
    "print(df)"
   ]
  },
  {
   "cell_type": "code",
   "execution_count": null,
   "metadata": {},
   "outputs": [],
   "source": []
  }
 ],
 "metadata": {
  "kernelspec": {
   "display_name": "Python 3",
   "language": "python",
   "name": "python3"
  },
  "language_info": {
   "codemirror_mode": {
    "name": "ipython",
    "version": 3
   },
   "file_extension": ".py",
   "mimetype": "text/x-python",
   "name": "python",
   "nbconvert_exporter": "python",
   "pygments_lexer": "ipython3",
   "version": "3.12.2"
  }
 },
 "nbformat": 4,
 "nbformat_minor": 2
}
