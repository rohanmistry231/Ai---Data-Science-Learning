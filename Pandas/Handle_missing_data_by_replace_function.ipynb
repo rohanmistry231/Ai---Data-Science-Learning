{
 "cells": [
  {
   "cell_type": "code",
   "execution_count": 2,
   "metadata": {},
   "outputs": [
    {
     "data": {
      "text/html": [
       "<div>\n",
       "<style scoped>\n",
       "    .dataframe tbody tr th:only-of-type {\n",
       "        vertical-align: middle;\n",
       "    }\n",
       "\n",
       "    .dataframe tbody tr th {\n",
       "        vertical-align: top;\n",
       "    }\n",
       "\n",
       "    .dataframe thead th {\n",
       "        text-align: right;\n",
       "    }\n",
       "</style>\n",
       "<table border=\"1\" class=\"dataframe\">\n",
       "  <thead>\n",
       "    <tr style=\"text-align: right;\">\n",
       "      <th></th>\n",
       "      <th>temperature</th>\n",
       "      <th>windspeed</th>\n",
       "      <th>event</th>\n",
       "    </tr>\n",
       "  </thead>\n",
       "  <tbody>\n",
       "    <tr>\n",
       "      <th>0</th>\n",
       "      <td>20</td>\n",
       "      <td>10</td>\n",
       "      <td>No event</td>\n",
       "    </tr>\n",
       "    <tr>\n",
       "      <th>1</th>\n",
       "      <td>-99999</td>\n",
       "      <td>20</td>\n",
       "      <td>No event</td>\n",
       "    </tr>\n",
       "    <tr>\n",
       "      <th>2</th>\n",
       "      <td>30</td>\n",
       "      <td>-99999</td>\n",
       "      <td>Event</td>\n",
       "    </tr>\n",
       "    <tr>\n",
       "      <th>3</th>\n",
       "      <td>-99999</td>\n",
       "      <td>-88888</td>\n",
       "      <td>No event</td>\n",
       "    </tr>\n",
       "    <tr>\n",
       "      <th>4</th>\n",
       "      <td>40</td>\n",
       "      <td>15</td>\n",
       "      <td>No event</td>\n",
       "    </tr>\n",
       "  </tbody>\n",
       "</table>\n",
       "</div>"
      ],
      "text/plain": [
       "   temperature  windspeed     event\n",
       "0           20         10  No event\n",
       "1       -99999         20  No event\n",
       "2           30     -99999     Event\n",
       "3       -99999     -88888  No event\n",
       "4           40         15  No event"
      ]
     },
     "execution_count": 2,
     "metadata": {},
     "output_type": "execute_result"
    }
   ],
   "source": [
    "import pandas as pd\n",
    "import numpy as np \n",
    "data = {\n",
    "   'temperature': [20, -99999, 30, -99999, 40, 50, 60],\n",
    "    'windspeed': [10, 20, -99999, -88888, 15, 25, 30],\n",
    "    'event': ['No event', 'No event', 'Event', 'No event', 'No event', 'No event', 'No event']\n",
    "}\n",
    "\n",
    "df = pd.DataFrame(data)\n",
    "df.to_csv(\"Group_by.csv\", index=False)\n",
    "df.head()"
   ]
  },
  {
   "cell_type": "code",
   "execution_count": 3,
   "metadata": {},
   "outputs": [],
   "source": [
    "# if you want to replace all -99999 value with NaN :\n",
    "# new_df = df.replace(-99999,np.NaN)\n",
    "# print(new_df)"
   ]
  },
  {
   "cell_type": "code",
   "execution_count": 4,
   "metadata": {},
   "outputs": [
    {
     "name": "stdout",
     "output_type": "stream",
     "text": [
      "   temperature  windspeed  event\n",
      "0         20.0       10.0    NaN\n",
      "1          NaN       20.0    NaN\n",
      "2         30.0        NaN  Event\n",
      "3          NaN        NaN    NaN\n",
      "4         40.0       15.0    NaN\n",
      "5         50.0       25.0    NaN\n",
      "6         60.0       30.0    NaN\n"
     ]
    }
   ],
   "source": [
    "# for more values if you want to replace then you have to use dictionaries :\n",
    "new_df = df.replace({\n",
    "    'temperature' : -99999,\n",
    "    'windspeed' : [-99999,-88888],\n",
    "    'event' : 'No event',\n",
    "},np.NaN)\n",
    "print(new_df)"
   ]
  },
  {
   "cell_type": "code",
   "execution_count": 5,
   "metadata": {},
   "outputs": [
    {
     "name": "stdout",
     "output_type": "stream",
     "text": [
      "   temperature  windspeed     event\n",
      "0           20         10  No event\n",
      "1       -99999         20  No event\n",
      "2           30     -99999     Event\n",
      "3       -99999     -88888  No event\n",
      "4           40         15  No event\n",
      "5           50         25  No event\n",
      "6           60         30  No event\n"
     ]
    }
   ],
   "source": [
    "new_df = df.replace({\n",
    "    'temperature' : '[A-Za-z]',\n",
    "    'windspeed' : '[A-Za-z]',\n",
    "},'',regex=True)\n",
    "print(new_df) # this will replace all a-z characters with ''(blank space) from temperature and windspeed columns :"
   ]
  },
  {
   "cell_type": "code",
   "execution_count": 6,
   "metadata": {},
   "outputs": [
    {
     "name": "stdout",
     "output_type": "stream",
     "text": [
      "         score  student\n",
      "0  exceptional      rob\n",
      "1      average     maya\n",
      "2         good  parthiv\n",
      "3         poor      tom\n",
      "4      average   julian\n",
      "5  exceptional    erica\n"
     ]
    }
   ],
   "source": [
    "# how can you replace list of values with another list of values :\n",
    "\n",
    "# creating a database :\n",
    "df = pd.DataFrame({\n",
    "    'score' : ['exceptional','average','good','poor','average','exceptional'],\n",
    "    'student' : ['rob','maya','parthiv','tom','julian','erica']\n",
    "})\n",
    "print(df)"
   ]
  },
  {
   "cell_type": "code",
   "execution_count": 7,
   "metadata": {},
   "outputs": [
    {
     "name": "stdout",
     "output_type": "stream",
     "text": [
      "   score  student\n",
      "0      4      rob\n",
      "1      2     maya\n",
      "2      3  parthiv\n",
      "3      1      tom\n",
      "4      2   julian\n",
      "5      4    erica\n"
     ]
    },
    {
     "name": "stderr",
     "output_type": "stream",
     "text": [
      "C:\\Users\\rohan\\AppData\\Local\\Temp\\ipykernel_10348\\1358700454.py:3: FutureWarning: Downcasting behavior in `replace` is deprecated and will be removed in a future version. To retain the old behavior, explicitly call `result.infer_objects(copy=False)`. To opt-in to the future behavior, set `pd.set_option('future.no_silent_downcasting', True)`\n",
      "  new_df = df.replace(['poor','average','good','exceptional'],[1,2,3,4])\n"
     ]
    }
   ],
   "source": [
    "# replace all 'exceptional','average','good','poor','average','exceptional' with [1,2,3,4] :\n",
    "\n",
    "new_df = df.replace(['poor','average','good','exceptional'],[1,2,3,4])\n",
    "print(new_df)"
   ]
  }
 ],
 "metadata": {
  "kernelspec": {
   "display_name": "Python 3",
   "language": "python",
   "name": "python3"
  },
  "language_info": {
   "codemirror_mode": {
    "name": "ipython",
    "version": 3
   },
   "file_extension": ".py",
   "mimetype": "text/x-python",
   "name": "python",
   "nbconvert_exporter": "python",
   "pygments_lexer": "ipython3",
   "version": "3.12.2"
  }
 },
 "nbformat": 4,
 "nbformat_minor": 2
}
