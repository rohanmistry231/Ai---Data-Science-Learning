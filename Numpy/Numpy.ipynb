{
 "cells": [
  {
   "cell_type": "markdown",
   "metadata": {},
   "source": [
    "## ******** INTRODUCTIION ********\n",
    "#### THE MAIN THING IS THAT NUMPY USES NDARRAYS WHICH IS C LANGUAGE DATA TYPE SO FOR FAST CODE EXECUTION PYTHON USE NDARRAYS DATATYPES"
   ]
  },
  {
   "cell_type": "code",
   "execution_count": 5,
   "metadata": {},
   "outputs": [
    {
     "name": "stdout",
     "output_type": "stream",
     "text": [
      "[1 2 3]\n"
     ]
    }
   ],
   "source": [
    "# how to import and use numpy :: \n",
    "import numpy as np \n",
    "a = np.array([1,2,3])\n",
    "print(a)"
   ]
  },
  {
   "cell_type": "code",
   "execution_count": 6,
   "metadata": {},
   "outputs": [
    {
     "name": "stdout",
     "output_type": "stream",
     "text": [
      "1\n"
     ]
    }
   ],
   "source": [
    "# print a particular index value ::\n",
    "print(a[0])"
   ]
  },
  {
   "cell_type": "code",
   "execution_count": 7,
   "metadata": {},
   "outputs": [
    {
     "name": "stdout",
     "output_type": "stream",
     "text": [
      "[2 4 6]\n",
      "[0 0 0]\n",
      "[1 4 9]\n",
      "[1. 1. 1.]\n",
      "[0 0 0]\n"
     ]
    }
   ],
   "source": [
    "# different operations perform on array ::\n",
    "a1=np.array([1,2,3])\n",
    "a2=np.array([1,2,3])\n",
    "print(a1+a2)\n",
    "print(a1-a2)\n",
    "print(a1*a2)\n",
    "print(a1/a2)\n",
    "print(a1%a2)"
   ]
  },
  {
   "cell_type": "code",
   "execution_count": 8,
   "metadata": {},
   "outputs": [
    {
     "name": "stdout",
     "output_type": "stream",
     "text": [
      "4\n"
     ]
    }
   ],
   "source": [
    "# different operations perform on particular index ::\n",
    "print(a1[2]+a2[0]) #...etc"
   ]
  },
  {
   "cell_type": "code",
   "execution_count": 9,
   "metadata": {},
   "outputs": [
    {
     "name": "stdout",
     "output_type": "stream",
     "text": [
      "[[1 2]\n",
      " [3 4]\n",
      " [5 6]]\n"
     ]
    }
   ],
   "source": [
    "# two dimensional array ::\n",
    "td = np.array([[1,2],[3,4],[5,6]])\n",
    "print(td)"
   ]
  },
  {
   "cell_type": "markdown",
   "metadata": {},
   "source": [
    "## ******** BASIC ARRAY OPERATIONS ********"
   ]
  },
  {
   "cell_type": "code",
   "execution_count": 10,
   "metadata": {},
   "outputs": [
    {
     "name": "stdout",
     "output_type": "stream",
     "text": [
      "2\n",
      "1\n"
     ]
    }
   ],
   "source": [
    "print(td.ndim);print(a.ndim) # .ndim method is used to print dimesion of particular array :"
   ]
  },
  {
   "cell_type": "code",
   "execution_count": 11,
   "metadata": {},
   "outputs": [
    {
     "name": "stdout",
     "output_type": "stream",
     "text": [
      "4\n"
     ]
    }
   ],
   "source": [
    "# print item size of array ::\n",
    "print(a.itemsize) # int = 4 bytes itemsize :"
   ]
  },
  {
   "cell_type": "code",
   "execution_count": 12,
   "metadata": {},
   "outputs": [
    {
     "name": "stdout",
     "output_type": "stream",
     "text": [
      "int32\n"
     ]
    }
   ],
   "source": [
    "# print data type of array ::\n",
    "print(a.dtype) # a aray has int32 data type :"
   ]
  },
  {
   "cell_type": "code",
   "execution_count": 13,
   "metadata": {},
   "outputs": [
    {
     "name": "stdout",
     "output_type": "stream",
     "text": [
      "8\n"
     ]
    }
   ],
   "source": [
    "# initialize same array with different data types ::\n",
    "a=np.array([1,2,3], dtype=np.float64)\n",
    "print(a.itemsize) # float size is 8 bytes :"
   ]
  },
  {
   "cell_type": "code",
   "execution_count": 14,
   "metadata": {},
   "outputs": [
    {
     "name": "stdout",
     "output_type": "stream",
     "text": [
      "(3,)\n",
      "(3, 2)\n"
     ]
    }
   ],
   "source": [
    "# shape method give information of array dimension ::\n",
    "print(a.shape);print(td.shape)"
   ]
  },
  {
   "cell_type": "code",
   "execution_count": 17,
   "metadata": {},
   "outputs": [
    {
     "name": "stdout",
     "output_type": "stream",
     "text": [
      "[[0. 0. 0. 0.]\n",
      " [0. 0. 0. 0.]\n",
      " [0. 0. 0. 0.]]\n"
     ]
    }
   ],
   "source": [
    "# print array with default values ::\n",
    "defau_zero = np.zeros((3,4))\n",
    "print(defau_zero)"
   ]
  },
  {
   "cell_type": "code",
   "execution_count": 18,
   "metadata": {},
   "outputs": [
    {
     "name": "stdout",
     "output_type": "stream",
     "text": [
      "[[1. 1. 1.]\n",
      " [1. 1. 1.]\n",
      " [1. 1. 1.]]\n"
     ]
    }
   ],
   "source": [
    "defau_ones = np.ones((3,3))\n",
    "print(defau_ones)"
   ]
  },
  {
   "cell_type": "code",
   "execution_count": 19,
   "metadata": {},
   "outputs": [],
   "source": [
    "# create a list/array from some starting and finishing values ::\n",
    "c_array = np.arange(1,5)"
   ]
  },
  {
   "cell_type": "code",
   "execution_count": 20,
   "metadata": {},
   "outputs": [
    {
     "name": "stdout",
     "output_type": "stream",
     "text": [
      "[1 2 3 4]\n"
     ]
    }
   ],
   "source": [
    "print(c_array) # don't included finishing number :"
   ]
  },
  {
   "cell_type": "code",
   "execution_count": 21,
   "metadata": {},
   "outputs": [
    {
     "name": "stdout",
     "output_type": "stream",
     "text": [
      "[1 3]\n"
     ]
    }
   ],
   "source": [
    "# syntax of arange : np.arange(start_index , end_index , Number_of_steps )\n",
    "c_ary = np.arange(1,5,2)\n",
    "print(c_ary) # work as 1,2,3,4,5 : Num_of_steps is 2 so : 1/'2'/3/'4' here 2 and 4 are not included :"
   ]
  },
  {
   "cell_type": "code",
   "execution_count": 22,
   "metadata": {},
   "outputs": [
    {
     "name": "stdout",
     "output_type": "stream",
     "text": [
      "[  1.  12.  23.  34.  45.  56.  67.  78.  89. 100.]\n"
     ]
    }
   ],
   "source": [
    "# .linspace function to generate series of numbers between starting index to ending index ::\n",
    "lspace = np.linspace(1,100,10) # meaning is to generate 10 numbers between 1 to 100 :\n",
    "print(lspace)"
   ]
  },
  {
   "cell_type": "code",
   "execution_count": 23,
   "metadata": {},
   "outputs": [
    {
     "name": "stdout",
     "output_type": "stream",
     "text": [
      "[[1 2 3]\n",
      " [4 5 6]]\n",
      "[[1 2 3 4 5 6]]\n"
     ]
    }
   ],
   "source": [
    "# reshape function to reshape your array ::\n",
    "print(td.reshape(2,3))\n",
    "print(td.reshape(1,6)) #...etc"
   ]
  },
  {
   "cell_type": "code",
   "execution_count": 24,
   "metadata": {},
   "outputs": [
    {
     "name": "stdout",
     "output_type": "stream",
     "text": [
      "1.0\n",
      "3.0\n",
      "6.0\n"
     ]
    }
   ],
   "source": [
    "# mathm functions ::\n",
    "print(a.min()) # gives minimum value :\n",
    "print(a.max()) # gives maximum value :\n",
    "print(a.sum()) # gives sum of all values :"
   ]
  },
  {
   "cell_type": "code",
   "execution_count": 25,
   "metadata": {},
   "outputs": [
    {
     "name": "stdout",
     "output_type": "stream",
     "text": [
      "[[1 2]\n",
      " [3 4]\n",
      " [5 6]]\n",
      "[ 9 12]\n",
      "[ 3  7 11]\n"
     ]
    }
   ],
   "source": [
    "# if you want to apply math func of particular row or column ::\n",
    "# consider td array :\n",
    "print(td)\n",
    "print(td.sum(axis=0)) # give the sum of all column :\n",
    "print(td.sum(axis=1)) # give the sum of all rows :"
   ]
  },
  {
   "cell_type": "code",
   "execution_count": 26,
   "metadata": {},
   "outputs": [
    {
     "name": "stdout",
     "output_type": "stream",
     "text": [
      "4.0\n",
      "0.816496580927726\n"
     ]
    }
   ],
   "source": [
    "# sqrt (square root) & std (standard deviation) function ::\n",
    "sqrt = np.sqrt(16); std = np.std(a)\n",
    "print(sqrt); print(std)"
   ]
  },
  {
   "cell_type": "code",
   "execution_count": 28,
   "metadata": {},
   "outputs": [
    {
     "name": "stdout",
     "output_type": "stream",
     "text": [
      "[[ 6  8]\n",
      " [10 12]]\n"
     ]
    }
   ],
   "source": [
    "# basic mathematical operations ::\n",
    "arr1 = np.array([[1,2], [3,4]])\n",
    "arr2 = np.array([[5,6], [7,8]])\n",
    "print(arr1+arr2) # also do many operations :"
   ]
  },
  {
   "cell_type": "markdown",
   "metadata": {},
   "source": [
    "## ******** SLICING/STACKING AND INDEXING WITH BOOLEAN ARRAYS ********"
   ]
  },
  {
   "cell_type": "code",
   "execution_count": 30,
   "metadata": {},
   "outputs": [
    {
     "name": "stdout",
     "output_type": "stream",
     "text": [
      "[1 2 3 4 5 6]\n",
      "10\n",
      "[ 1  2  3  4  5  6  7  8  9 10]\n",
      "[ 1  2  3  4  5  6  7  8  9 10]\n",
      "[ 1  2  3  4  5  6  7  8  9 10]\n"
     ]
    }
   ],
   "source": [
    "# slicing of one dimensional array ::\n",
    "o_slc = np.array([1,2,3,4,5,6,7,8,9,10])\n",
    "print(o_slc[0:6]) # print element between index 0 to 5 : 6 don't consider \n",
    "print(o_slc[-1]) # index from end starts from -1,-2.... : this will print last element :\n",
    "print(o_slc[:]) # print whole array :\n",
    "print(o_slc[0:]) # print 0 to end index :\n",
    "print(o_slc[:10]) # print start to 9 index :"
   ]
  },
  {
   "cell_type": "code",
   "execution_count": 31,
   "metadata": {},
   "outputs": [
    {
     "name": "stdout",
     "output_type": "stream",
     "text": [
      "[[1 2 3]\n",
      " [4 5 6]\n",
      " [7 8 9]]\n",
      "6\n",
      "[3 6]\n",
      "[7 8 9]\n",
      "[7 8]\n",
      "[[2 3]\n",
      " [5 6]\n",
      " [8 9]]\n"
     ]
    }
   ],
   "source": [
    "# slicing of two dimensional array ::\n",
    "tslc = np.array([[1,2,3],[4,5,6],[7,8,9]])\n",
    "print(tslc)\n",
    "print(tslc[1,2]) # it will print first(1) row and second(2):(0,1,2th) element :\n",
    "print(tslc[0:2,2]) # it will go from firstly (0 to 1st row) and print second(2):(0,1,2th) element :\n",
    "print(tslc[-1]) # print last row \n",
    "print(tslc[-1,0:2]) # print last row's 0th and 1st elements :\n",
    "print(tslc[:,1:3]) # go throw all rows and prints 1st and 2nd column not print 0th column :"
   ]
  },
  {
   "cell_type": "code",
   "execution_count": 32,
   "metadata": {},
   "outputs": [
    {
     "name": "stdout",
     "output_type": "stream",
     "text": [
      "[1 2 3]\n",
      "[4 5 6]\n",
      "[7 8 9]\n",
      "1\n",
      "2\n",
      "3\n",
      "4\n",
      "5\n",
      "6\n",
      "7\n",
      "8\n",
      "9\n"
     ]
    }
   ],
   "source": [
    "# print whole from for loop ::\n",
    "for row in tslc:\n",
    "    print(row) # it will print whole array :\n",
    "# .flat fucnction : if you want to flatten a array ::\n",
    "for cell in tslc.flat:\n",
    "    print(cell) # flatten a array :"
   ]
  },
  {
   "cell_type": "code",
   "execution_count": 33,
   "metadata": {},
   "outputs": [
    {
     "name": "stdout",
     "output_type": "stream",
     "text": [
      "[[ 0  1]\n",
      " [ 2  3]\n",
      " [ 4  5]\n",
      " [ 6  7]\n",
      " [ 8  9]\n",
      " [10 11]]\n",
      "[ 0  1  6  7  2  3  8  9  4  5 10 11]\n"
     ]
    }
   ],
   "source": [
    "# verticle_stacking (.vstack) and horizontal_stacking (.hstack) function : if you want to stack/merge 2 or more arrays ::\n",
    "mrg1 = np.arange(6).reshape(3,2)\n",
    "mrg2 = np.arange(6,12).reshape(3,2)\n",
    "merge_vertically = np.vstack((mrg1,mrg2))\n",
    "merge_horizontally = np.hstack((mrg1,mrg2))\n",
    "print(np.vstack(merge_vertically)) # it will merge both arrays vertically :\n",
    "print(np.hstack(merge_horizontally)) # it will merge both arrays vertically :"
   ]
  },
  {
   "cell_type": "code",
   "execution_count": 34,
   "metadata": {},
   "outputs": [
    {
     "name": "stdout",
     "output_type": "stream",
     "text": [
      "[[ 0  1  2  3  4  5  6  7  8  9 10 11 12 13 14]\n",
      " [15 16 17 18 19 20 21 22 23 24 25 26 27 28 29]]\n",
      "[array([[ 0,  1,  2,  3,  4],\n",
      "       [15, 16, 17, 18, 19]]), array([[ 5,  6,  7,  8,  9],\n",
      "       [20, 21, 22, 23, 24]]), array([[10, 11, 12, 13, 14],\n",
      "       [25, 26, 27, 28, 29]])]\n",
      "[array([[ 0,  1,  2,  3,  4,  5,  6,  7,  8,  9, 10, 11, 12, 13, 14]]), array([[15, 16, 17, 18, 19, 20, 21, 22, 23, 24, 25, 26, 27, 28, 29]])]\n"
     ]
    }
   ],
   "source": [
    "# spliting of array : horizontal_spliting (.hsplit)and verticle_spliting (.vsplit) ::\n",
    "split = np.arange(30).reshape(2,15)\n",
    "print(split)\n",
    "hor_split = np.hsplit(split,3) # it will split array into 3 horizontal parts :\n",
    "print(hor_split)\n",
    "ver_split = np.vsplit(split,2) # it will split array into 3 verticle parts :\n",
    "print(ver_split)"
   ]
  },
  {
   "cell_type": "code",
   "execution_count": 35,
   "metadata": {},
   "outputs": [
    {
     "name": "stdout",
     "output_type": "stream",
     "text": [
      "[[ 0  1  2  3  4]\n",
      " [15 16 17 18 19]]\n",
      "[[ 5  6  7  8  9]\n",
      " [20 21 22 23 24]]\n",
      "[[10 11 12 13 14]\n",
      " [25 26 27 28 29]]\n",
      "[[ 0  1  2  3  4  5  6  7  8  9 10 11 12 13 14]]\n",
      "[[15 16 17 18 19 20 21 22 23 24 25 26 27 28 29]]\n"
     ]
    }
   ],
   "source": [
    "# result is not perfect showing bcz of \"array\" written in result.\n",
    "# so, we can print one by one split(part) of array :\n",
    "print(hor_split[0])\n",
    "print(hor_split[1])\n",
    "print(hor_split[2])\n",
    "print(ver_split[0])\n",
    "print(ver_split[1])"
   ]
  },
  {
   "cell_type": "code",
   "execution_count": 36,
   "metadata": {},
   "outputs": [
    {
     "name": "stdout",
     "output_type": "stream",
     "text": [
      "[[ 0  1  2  3]\n",
      " [ 4  5  6  7]\n",
      " [ 8  9 10 11]]\n",
      "[[False False False False]\n",
      " [False  True  True  True]\n",
      " [ True  True  True  True]]\n",
      "[ 5  6  7  8  9 10 11]\n"
     ]
    }
   ],
   "source": [
    "# indexing with boolean arrays ::\n",
    "ar = np.arange(12).reshape(3,4)\n",
    "print(ar)\n",
    "b = ar > 4 # compare all element of ar > 4 if condition is true print true else false and make a boolean array : \n",
    "print(b) # print boolean array containing true false values :\n",
    "print(ar[b]) # it will print a array of true vales in b array of ar array :"
   ]
  },
  {
   "cell_type": "code",
   "execution_count": null,
   "metadata": {},
   "outputs": [],
   "source": []
  }
 ],
 "metadata": {
  "kernelspec": {
   "display_name": "Python 3",
   "language": "python",
   "name": "python3"
  },
  "language_info": {
   "codemirror_mode": {
    "name": "ipython",
    "version": 3
   },
   "file_extension": ".py",
   "mimetype": "text/x-python",
   "name": "python",
   "nbconvert_exporter": "python",
   "pygments_lexer": "ipython3",
   "version": "3.12.2"
  }
 },
 "nbformat": 4,
 "nbformat_minor": 2
}
