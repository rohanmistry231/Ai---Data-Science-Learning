{
 "cells": [
  {
   "cell_type": "markdown",
   "metadata": {},
   "source": [
    "<h1>Vulture</h1>\n",
    "- a Library which Finds Unused code in our code"
   ]
  },
  {
   "cell_type": "code",
   "execution_count": 8,
   "metadata": {},
   "outputs": [],
   "source": [
    "import os"
   ]
  },
  {
   "cell_type": "code",
   "execution_count": 9,
   "metadata": {},
   "outputs": [
    {
     "name": "stdout",
     "output_type": "stream",
     "text": [
      "hi, welcome to hello world\n",
      "It is Glad to Meet with you\n"
     ]
    }
   ],
   "source": [
    "def Greeter(self):\n",
    "    return \"Hey\"\n",
    "    \n",
    "def hello_word():\n",
    "    print(\"hi, welcome to hello world\")\n",
    "    print(f\"It is Glad to Meet with you\")\n",
    "\n",
    "hello_word()\n",
    "# Now whenever you will run || vulture file.py command in cmd that will shows unused code in your file\n",
    "# Here unused code is import os and Greeter function."
   ]
  },
  {
   "cell_type": "code",
   "execution_count": null,
   "metadata": {},
   "outputs": [],
   "source": []
  }
 ],
 "metadata": {
  "kernelspec": {
   "display_name": "Python 3",
   "language": "python",
   "name": "python3"
  },
  "language_info": {
   "codemirror_mode": {
    "name": "ipython",
    "version": 3
   },
   "file_extension": ".py",
   "mimetype": "text/x-python",
   "name": "python",
   "nbconvert_exporter": "python",
   "pygments_lexer": "ipython3",
   "version": "3.12.2"
  }
 },
 "nbformat": 4,
 "nbformat_minor": 2
}
