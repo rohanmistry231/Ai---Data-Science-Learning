{
 "cells": [
  {
   "cell_type": "code",
   "execution_count": 2,
   "metadata": {},
   "outputs": [],
   "source": [
    "from sympy import *"
   ]
  },
  {
   "cell_type": "code",
   "execution_count": 3,
   "metadata": {},
   "outputs": [],
   "source": [
    "x, y, z = symbols('x y z')\n",
    "init_printing()"
   ]
  },
  {
   "cell_type": "markdown",
   "metadata": {},
   "source": [
    "## Derivatives"
   ]
  },
  {
   "cell_type": "markdown",
   "metadata": {},
   "source": [
    "### Differentiation by `diff()`"
   ]
  },
  {
   "cell_type": "code",
   "execution_count": 4,
   "metadata": {},
   "outputs": [
    {
     "data": {
      "image/png": "[encoded data removed]",
      "text/latex": [
       "$$\\cos{\\left (x \\right )}$$"
      ],
      "text/plain": [
       "cos(x)"
      ]
     },
     "execution_count": 4,
     "metadata": {},
     "output_type": "execute_result"
    }
   ],
   "source": [
    "expr=cos(x)\n",
    "expr"
   ]
  },
  {
   "cell_type": "code",
   "execution_count": 5,
   "metadata": {},
   "outputs": [
    {
     "data": {
      "image/png": "[encoded data removed]",
      "text/latex": [
       "$$- \\sin{\\left (x \\right )}$$"
      ],
      "text/plain": [
       "-sin(x)"
      ]
     },
     "execution_count": 5,
     "metadata": {},
     "output_type": "execute_result"
    }
   ],
   "source": [
    "diff(expr,x)"
   ]
  },
  {
   "cell_type": "markdown",
   "metadata": {},
   "source": [
    "### Multiple derivatives at once\n",
    "$\\frac{d^3}{dx^3}(x^4)=\\frac{d^2}{dx^2}(4x^3)=\\frac{d}{dx}(12x^2)=24x$"
   ]
  },
  {
   "cell_type": "code",
   "execution_count": 6,
   "metadata": {},
   "outputs": [
    {
     "data": {
      "image/png": "[encoded data removed]",
      "text/latex": [
       "$$24 x$$"
      ],
      "text/plain": [
       "24⋅x"
      ]
     },
     "execution_count": 6,
     "metadata": {},
     "output_type": "execute_result"
    }
   ],
   "source": [
    "diff(x**4, x, x, x)"
   ]
  },
  {
   "cell_type": "code",
   "execution_count": 7,
   "metadata": {},
   "outputs": [
    {
     "data": {
      "image/png": "[encoded data removed]",
      "text/latex": [
       "$$12 x^{2}$$"
      ],
      "text/plain": [
       "    2\n",
       "12⋅x "
      ]
     },
     "execution_count": 7,
     "metadata": {},
     "output_type": "execute_result"
    }
   ],
   "source": [
    "diff(x**4,x,2)"
   ]
  },
  {
   "cell_type": "code",
   "execution_count": 8,
   "metadata": {},
   "outputs": [
    {
     "data": {
      "image/png": "[encoded data removed]",
      "text/latex": [
       "$$e^{x y z}$$"
      ],
      "text/plain": [
       " x⋅y⋅z\n",
       "ℯ     "
      ]
     },
     "execution_count": 8,
     "metadata": {},
     "output_type": "execute_result"
    }
   ],
   "source": [
    "expr = exp(x*y*z)\n",
    "expr"
   ]
  },
  {
   "cell_type": "code",
   "execution_count": 9,
   "metadata": {},
   "outputs": [
    {
     "data": {
      "image/png": "[encoded data removed]",
      "text/latex": [
       "$$x^{3} y^{2} \\left(x^{3} y^{3} z^{3} + 14 x^{2} y^{2} z^{2} + 52 x y z + 48\\right) e^{x y z}$$"
      ],
      "text/plain": [
       " 3  2 ⎛ 3  3  3       2  2  2                ⎞  x⋅y⋅z\n",
       "x ⋅y ⋅⎝x ⋅y ⋅z  + 14⋅x ⋅y ⋅z  + 52⋅x⋅y⋅z + 48⎠⋅ℯ     "
      ]
     },
     "execution_count": 9,
     "metadata": {},
     "output_type": "execute_result"
    }
   ],
   "source": [
    "diff(expr, x, y, y, z, z, z, z)"
   ]
  },
  {
   "cell_type": "code",
   "execution_count": 10,
   "metadata": {},
   "outputs": [
    {
     "data": {
      "image/png": "[encoded data removed]",
      "text/latex": [
       "$$x^{3} y^{2} \\left(x^{3} y^{3} z^{3} + 14 x^{2} y^{2} z^{2} + 52 x y z + 48\\right) e^{x y z}$$"
      ],
      "text/plain": [
       " 3  2 ⎛ 3  3  3       2  2  2                ⎞  x⋅y⋅z\n",
       "x ⋅y ⋅⎝x ⋅y ⋅z  + 14⋅x ⋅y ⋅z  + 52⋅x⋅y⋅z + 48⎠⋅ℯ     "
      ]
     },
     "execution_count": 10,
     "metadata": {},
     "output_type": "execute_result"
    }
   ],
   "source": [
    "diff(expr, x, y, 2, z, 4)"
   ]
  },
  {
   "cell_type": "markdown",
   "metadata": {},
   "source": [
    "### To create an unevaluated derivative, use the `Derivative` class. It has the same syntax as `diff`. To evaluate an unevaluated derivative, use the `doit` method."
   ]
  },
  {
   "cell_type": "code",
   "execution_count": 11,
   "metadata": {},
   "outputs": [
    {
     "data": {
      "image/png": "[encoded data removed]",
      "text/latex": [
       "$$\\frac{\\partial^{7}}{\\partial x\\partial y^{2}\\partial z^{4}}  e^{x y z}$$"
      ],
      "text/plain": [
       "     7            \n",
       "    ∂     ⎛ x⋅y⋅z⎞\n",
       "──────────⎝ℯ     ⎠\n",
       "  4   2           \n",
       "∂z  ∂y  ∂x        "
      ]
     },
     "execution_count": 11,
     "metadata": {},
     "output_type": "execute_result"
    }
   ],
   "source": [
    "deriv = Derivative(expr, x, y, y, z, 4)\n",
    "deriv"
   ]
  },
  {
   "cell_type": "code",
   "execution_count": 12,
   "metadata": {},
   "outputs": [
    {
     "data": {
      "image/png": "[encoded data removed]",
      "text/latex": [
       "$$x^{3} y^{2} \\left(x^{3} y^{3} z^{3} + 14 x^{2} y^{2} z^{2} + 52 x y z + 48\\right) e^{x y z}$$"
      ],
      "text/plain": [
       " 3  2 ⎛ 3  3  3       2  2  2                ⎞  x⋅y⋅z\n",
       "x ⋅y ⋅⎝x ⋅y ⋅z  + 14⋅x ⋅y ⋅z  + 52⋅x⋅y⋅z + 48⎠⋅ℯ     "
      ]
     },
     "execution_count": 12,
     "metadata": {},
     "output_type": "execute_result"
    }
   ],
   "source": [
    "deriv.doit()"
   ]
  },
  {
   "cell_type": "markdown",
   "metadata": {},
   "source": [
    "## Integrals\n",
    "To compute an integral, use the __`integrate()`__ function. There are two kinds of integrals, definite and indefinite. To compute an indefinite integral, that is, an antiderivative, or primitive, just pass the variable after the expression."
   ]
  },
  {
   "cell_type": "code",
   "execution_count": 13,
   "metadata": {},
   "outputs": [
    {
     "data": {
      "image/png": "[encoded data removed]",
      "text/latex": [
       "$$\\sin{\\left (x \\right )} - \\frac{1}{3} \\cos{\\left (3 x \\right )}$$"
      ],
      "text/plain": [
       "         cos(3⋅x)\n",
       "sin(x) - ────────\n",
       "            3    "
      ]
     },
     "execution_count": 13,
     "metadata": {},
     "output_type": "execute_result"
    }
   ],
   "source": [
    "integrate(cos(x)+sin(3*x), x)"
   ]
  },
  {
   "cell_type": "markdown",
   "metadata": {},
   "source": [
    "### To compute a definite integral, pass the argument `(integration_variable, lower_limit, upper_limit)`.\n",
    "$$\\int_{0}^{\\infty}{e^{-x^2}}dx=\\frac{\\sqrt{\\pi}}{2}$$"
   ]
  },
  {
   "cell_type": "code",
   "execution_count": 14,
   "metadata": {},
   "outputs": [
    {
     "data": {
      "image/png": "[encoded data removed]",
      "text/latex": [
       "$$\\frac{\\sqrt{\\pi}}{2}$$"
      ],
      "text/plain": [
       "√π\n",
       "──\n",
       "2 "
      ]
     },
     "execution_count": 14,
     "metadata": {},
     "output_type": "execute_result"
    }
   ],
   "source": [
    "integrate(exp(-x**2), (x, 0, oo))"
   ]
  },
  {
   "cell_type": "markdown",
   "metadata": {},
   "source": [
    "### As with indefinite integrals, you can pass multiple limit tuples to perform a multiple integral.\n",
    "$$\\int_{-\\infty}^{\\infty}\\int_{-\\infty}^{\\infty}e^{-(x^2+y^2)}.dxdy=\\pi$$"
   ]
  },
  {
   "cell_type": "code",
   "execution_count": 15,
   "metadata": {},
   "outputs": [
    {
     "data": {
      "image/png": "[encoded data removed]",
      "text/latex": [
       "$$\\pi$$"
      ],
      "text/plain": [
       "π"
      ]
     },
     "execution_count": 15,
     "metadata": {},
     "output_type": "execute_result"
    }
   ],
   "source": [
    "integrate(exp(-x**2 - y**2), (x, -oo, oo), (y, -oo, oo))"
   ]
  },
  {
   "cell_type": "markdown",
   "metadata": {},
   "source": [
    "### As with `Derivative`, you can create an unevaluated integral using `Integral`. To later evaluate this integral, call `doit`."
   ]
  },
  {
   "cell_type": "code",
   "execution_count": 16,
   "metadata": {},
   "outputs": [
    {
     "data": {
      "image/png": "[encoded data removed]",
      "text/latex": [
       "$$\\int \\log^{2}{\\left (x \\right )}\\, dx$$"
      ],
      "text/plain": [
       "⌠           \n",
       "⎮    2      \n",
       "⎮ log (x) dx\n",
       "⌡           "
      ]
     },
     "execution_count": 16,
     "metadata": {},
     "output_type": "execute_result"
    }
   ],
   "source": [
    "expr = Integral(log(x)**2, x)\n",
    "expr"
   ]
  },
  {
   "cell_type": "code",
   "execution_count": 17,
   "metadata": {},
   "outputs": [
    {
     "data": {
      "image/png": "[encoded data removed]",
      "text/latex": [
       "$$x \\log^{2}{\\left (x \\right )} - 2 x \\log{\\left (x \\right )} + 2 x$$"
      ],
      "text/plain": [
       "     2                      \n",
       "x⋅log (x) - 2⋅x⋅log(x) + 2⋅x"
      ]
     },
     "execution_count": 17,
     "metadata": {},
     "output_type": "execute_result"
    }
   ],
   "source": [
    "expr.doit()"
   ]
  },
  {
   "cell_type": "markdown",
   "metadata": {},
   "source": [
    "### SymPy invokes powerful algorithm and special functions to compute integrals to the best of its ability. Some examples are shown below ... "
   ]
  },
  {
   "cell_type": "code",
   "execution_count": 18,
   "metadata": {},
   "outputs": [
    {
     "data": {
      "image/png": "[encoded data removed]",
      "text/latex": [
       "$$\\int_{0}^{\\infty} x^{y} e^{- x}\\, dx$$"
      ],
      "text/plain": [
       "∞          \n",
       "⌠          \n",
       "⎮  y  -x   \n",
       "⎮ x ⋅ℯ   dx\n",
       "⌡          \n",
       "0          "
      ]
     },
     "execution_count": 18,
     "metadata": {},
     "output_type": "execute_result"
    }
   ],
   "source": [
    "integ = Integral(x**y*exp(-x), (x, 0, oo))\n",
    "integ"
   ]
  },
  {
   "cell_type": "code",
   "execution_count": 19,
   "metadata": {},
   "outputs": [
    {
     "data": {
      "image/png": "[encoded data removed]",
      "text/latex": [
       "$$\\begin{cases} \\Gamma{\\left(y + 1 \\right)} & \\text{for}\\: - \\Re{y} < 1 \\\\\\int_{0}^{\\infty} x^{y} e^{- x}\\, dx & \\text{otherwise} \\end{cases}$$"
      ],
      "text/plain": [
       "⎧ Γ(y + 1)    for -re(y) < 1\n",
       "⎪                           \n",
       "⎪∞                          \n",
       "⎪⌠                          \n",
       "⎨⎮  y  -x                   \n",
       "⎪⎮ x ⋅ℯ   dx    otherwise   \n",
       "⎪⌡                          \n",
       "⎪0                          \n",
       "⎩                           "
      ]
     },
     "execution_count": 19,
     "metadata": {},
     "output_type": "execute_result"
    }
   ],
   "source": [
    "integ.doit()"
   ]
  },
  {
   "cell_type": "code",
   "execution_count": 20,
   "metadata": {},
   "outputs": [
    {
     "data": {
      "image/png": "[encoded data removed]",
      "text/latex": [
       "$$\\int \\sin{\\left (x^{2} \\right )}\\, dx$$"
      ],
      "text/plain": [
       "⌠           \n",
       "⎮    ⎛ 2⎞   \n",
       "⎮ sin⎝x ⎠ dx\n",
       "⌡           "
      ]
     },
     "execution_count": 20,
     "metadata": {},
     "output_type": "execute_result"
    }
   ],
   "source": [
    "integ=Integral(sin(x**2),x)\n",
    "integ"
   ]
  },
  {
   "cell_type": "code",
   "execution_count": 21,
   "metadata": {},
   "outputs": [
    {
     "data": {
      "image/png": "[encoded data removed]",
      "text/latex": [
       "$$\\frac{3 \\sqrt{2} \\sqrt{\\pi} S\\left(\\frac{\\sqrt{2} x}{\\sqrt{\\pi}}\\right)}{8 \\Gamma{\\left(\\frac{7}{4} \\right)}} \\Gamma{\\left(\\frac{3}{4} \\right)}$$"
      ],
      "text/plain": [
       "                ⎛√2⋅x⎞       \n",
       "3⋅√2⋅√π⋅fresnels⎜────⎟⋅Γ(3/4)\n",
       "                ⎝ √π ⎠       \n",
       "─────────────────────────────\n",
       "           8⋅Γ(7/4)          "
      ]
     },
     "execution_count": 21,
     "metadata": {},
     "output_type": "execute_result"
    }
   ],
   "source": [
    "integ.doit()"
   ]
  },
  {
   "cell_type": "code",
   "execution_count": 22,
   "metadata": {},
   "outputs": [
    {
     "data": {
      "image/png": "[encoded data removed]",
      "text/latex": [
       "$$\\int \\frac{x^{2} + 2 x + 5}{3 x^{3} + 1}\\, dx$$"
      ],
      "text/plain": [
       "⌠                \n",
       "⎮  2             \n",
       "⎮ x  + 2⋅x + 5   \n",
       "⎮ ──────────── dx\n",
       "⎮      3         \n",
       "⎮   3⋅x  + 1     \n",
       "⌡                "
      ]
     },
     "execution_count": 22,
     "metadata": {},
     "output_type": "execute_result"
    }
   ],
   "source": [
    "integ=Integral((x**2+2*x+5)/(3*x**3+1),x)\n",
    "integ"
   ]
  },
  {
   "cell_type": "code",
   "execution_count": 23,
   "metadata": {},
   "outputs": [
    {
     "data": {
      "image/png": "[encoded data removed]",
      "text/latex": [
       "$$\\left(- \\frac{5}{18} 3^{\\frac{2}{3}} + \\frac{1}{9} + \\frac{\\sqrt[3]{3}}{9}\\right) \\log{\\left (x^{2} + \\frac{x \\left(-15 + 2 \\cdot 3^{\\frac{2}{3}}\\right)}{-6 + 15 \\sqrt[3]{3}} - \\frac{-75 - 4 \\sqrt[3]{3} + 20 \\cdot 3^{\\frac{2}{3}}}{- 60 \\sqrt[3]{3} + 12 + 75 \\cdot 3^{\\frac{2}{3}}} \\right )} + \\left(- \\frac{2 \\sqrt[3]{3}}{9} + \\frac{1}{9} + \\frac{5}{9} 3^{\\frac{2}{3}}\\right) \\log{\\left (x - \\frac{142 \\sqrt[3]{3}}{1149} + \\frac{118}{1149} + \\frac{54}{383} \\left(- \\frac{2 \\sqrt[3]{3}}{9} + \\frac{1}{9} + \\frac{5}{9} 3^{\\frac{2}{3}}\\right)^{2} + \\frac{355}{1149} 3^{\\frac{2}{3}} \\right )} + \\frac{\\sqrt{3} \\sqrt{-60 + 150 \\sqrt[3]{3} + 367 \\cdot 3^{\\frac{2}{3}}}}{9 \\sqrt{-2 + 5 \\sqrt[3]{3}}} \\operatorname{atan}{\\left (\\frac{2298 x \\sqrt{-2 + 5 \\sqrt[3]{3}}}{- 30 \\sqrt[6]{3} \\sqrt{-60 + 150 \\sqrt[3]{3} + 367 \\cdot 3^{\\frac{2}{3}}} + 4 \\cdot 3^{\\frac{5}{6}} \\sqrt{-60 + 150 \\sqrt[3]{3} + 367 \\cdot 3^{\\frac{2}{3}}} + 75 \\sqrt{3} \\sqrt{-60 + 150 \\sqrt[3]{3} + 367 \\cdot 3^{\\frac{2}{3}}}} + \\frac{-5745 + 766 \\cdot 3^{\\frac{2}{3}}}{- 30 \\sqrt[6]{3} \\sqrt{-2 + 5 \\sqrt[3]{3}} \\sqrt{-60 + 150 \\sqrt[3]{3} + 367 \\cdot 3^{\\frac{2}{3}}} + 4 \\cdot 3^{\\frac{5}{6}} \\sqrt{-2 + 5 \\sqrt[3]{3}} \\sqrt{-60 + 150 \\sqrt[3]{3} + 367 \\cdot 3^{\\frac{2}{3}}} + 75 \\sqrt{3} \\sqrt{-2 + 5 \\sqrt[3]{3}} \\sqrt{-60 + 150 \\sqrt[3]{3} + 367 \\cdot 3^{\\frac{2}{3}}}} \\right )}$$"
      ],
      "text/plain": [
       "                                                                              \n",
       "                                                                              \n",
       "                                                                              \n",
       "                                                                              \n",
       "                                                                              \n",
       "⎛     2/3       3 ___⎞    ⎛       ⎛         2/3⎞            3 ___       2/3 ⎞ \n",
       "⎜  5⋅3      1   ╲╱ 3 ⎟    ⎜ 2   x⋅⎝-15 + 2⋅3   ⎠    -75 - 4⋅╲╱ 3  + 20⋅3    ⎟ \n",
       "⎜- ────── + ─ + ─────⎟⋅log⎜x  + ──────────────── - ─────────────────────────⎟ \n",
       "⎝    18     9     9  ⎠    ⎜              3 ___          3 ___            2/3⎟ \n",
       "                          ⎝      -6 + 15⋅╲╱ 3      - 60⋅╲╱ 3  + 12 + 75⋅3   ⎠ \n",
       "                                                                              \n",
       "\n",
       "                                                                              \n",
       "                                                                              \n",
       "                              ⎛                                               \n",
       "                              ⎜                          ⎛    3 ___          2\n",
       "                              ⎜                          ⎜  2⋅╲╱ 3    1   5⋅3 \n",
       "  ⎛    3 ___          2/3⎞    ⎜        3 ___          54⋅⎜- ─────── + ─ + ────\n",
       "  ⎜  2⋅╲╱ 3    1   5⋅3   ⎟    ⎜    142⋅╲╱ 3    118       ⎝     9      9     9 \n",
       "+ ⎜- ─────── + ─ + ──────⎟⋅log⎜x - ───────── + ──── + ────────────────────────\n",
       "  ⎝     9      9     9   ⎠    ⎝       1149     1149               383         \n",
       "                                                                              \n",
       "                                                                              \n",
       "\n",
       "                                                          ⎛                   \n",
       "                         ____________________________     ⎜                   \n",
       "   2           ⎞        ╱           3 ___        2/3      ⎜                   \n",
       "/3⎞            ⎟   √3⋅╲╱  -60 + 150⋅╲╱ 3  + 367⋅3    ⋅atan⎜───────────────────\n",
       "  ⎟            ⎟                                          ⎜              _____\n",
       "──⎟         2/3⎟                                          ⎜     6 ___   ╱     \n",
       "  ⎠    355⋅3   ⎟                                          ⎝- 30⋅╲╱ 3 ⋅╲╱  -60 \n",
       "──── + ────────⎟ + ───────────────────────────────────────────────────────────\n",
       "         1149  ⎠                                                              \n",
       "                                                                              \n",
       "                                                                              \n",
       "\n",
       "                                         ______________                       \n",
       "                                        ╱        3 ___                        \n",
       "                               2298⋅x⋅╲╱  -2 + 5⋅╲╱ 3                         \n",
       "──────────────────────────────────────────────────────────────────────────────\n",
       "_______________________             ____________________________            __\n",
       "      3 ___        2/3       5/6   ╱           3 ___        2/3            ╱  \n",
       "+ 150⋅╲╱ 3  + 367⋅3     + 4⋅3   ⋅╲╱  -60 + 150⋅╲╱ 3  + 367⋅3     + 75⋅√3⋅╲╱  -\n",
       "──────────────────────────────────────────────────────────────────────────────\n",
       "                                                                              \n",
       "                                                                              \n",
       "                                                                              \n",
       "\n",
       "                                                                              \n",
       "                                                                              \n",
       "                                                                              \n",
       "────────────────────────── + ─────────────────────────────────────────────────\n",
       "__________________________                 ______________    _________________\n",
       "         3 ___        2/3         6 ___   ╱        3 ___    ╱           3 ___ \n",
       "60 + 150⋅╲╱ 3  + 367⋅3       - 30⋅╲╱ 3 ⋅╲╱  -2 + 5⋅╲╱ 3  ⋅╲╱  -60 + 150⋅╲╱ 3  \n",
       "──────────────────────────────────────────────────────────────────────────────\n",
       "                              ______________                                  \n",
       "                             ╱        3 ___                                   \n",
       "                         9⋅╲╱  -2 + 5⋅╲╱ 3                                    \n",
       "\n",
       "                                                                              \n",
       "                                             2/3                              \n",
       "                                -5745 + 766⋅3                                 \n",
       "──────────────────────────────────────────────────────────────────────────────\n",
       "___________             ______________    ____________________________        \n",
       "       2/3       5/6   ╱        3 ___    ╱           3 ___        2/3         \n",
       "+ 367⋅3     + 4⋅3   ⋅╲╱  -2 + 5⋅╲╱ 3  ⋅╲╱  -60 + 150⋅╲╱ 3  + 367⋅3     + 75⋅√3\n",
       "──────────────────────────────────────────────────────────────────────────────\n",
       "                                                                              \n",
       "                                                                              \n",
       "                                                                              \n",
       "\n",
       "                                                  ⎞\n",
       "                                                  ⎟\n",
       "                                                  ⎟\n",
       "──────────────────────────────────────────────────⎟\n",
       "    ______________    ____________________________⎟\n",
       "   ╱        3 ___    ╱           3 ___        2/3 ⎟\n",
       "⋅╲╱  -2 + 5⋅╲╱ 3  ⋅╲╱  -60 + 150⋅╲╱ 3  + 367⋅3    ⎠\n",
       "───────────────────────────────────────────────────\n",
       "                                                   \n",
       "                                                   \n",
       "                                                   "
      ]
     },
     "execution_count": 23,
     "metadata": {},
     "output_type": "execute_result"
    }
   ],
   "source": [
    "integ.doit()"
   ]
  },
  {
   "cell_type": "markdown",
   "metadata": {},
   "source": [
    "## Limits\n",
    "SymPy can compute symbolic limits with the __`limit`__ function. The syntax to compute limit of $f(x)$ as $x$ tends to $x_0$ is `limit(f(x), x, x0)`. We know,\n",
    "$$\\lim_{x\\rightarrow 0}{\\frac{sin(x)}{x}}=1$$"
   ]
  },
  {
   "cell_type": "code",
   "execution_count": 25,
   "metadata": {},
   "outputs": [
    {
     "data": {
      "image/png": "[encoded data removed]",
      "text/latex": [
       "$$\\frac{1}{x} \\sin{\\left (x \\right )}$$"
      ],
      "text/plain": [
       "sin(x)\n",
       "──────\n",
       "  x   "
      ]
     },
     "execution_count": 25,
     "metadata": {},
     "output_type": "execute_result"
    }
   ],
   "source": [
    "expr=sin(x)/x\n",
    "expr"
   ]
  },
  {
   "cell_type": "code",
   "execution_count": 26,
   "metadata": {},
   "outputs": [
    {
     "data": {
      "image/png": "[encoded data removed]",
      "text/latex": [
       "$$1$$"
      ],
      "text/plain": [
       "1"
      ]
     },
     "execution_count": 26,
     "metadata": {},
     "output_type": "execute_result"
    }
   ],
   "source": [
    "limit(expr,x,0)"
   ]
  },
  {
   "cell_type": "markdown",
   "metadata": {},
   "source": [
    "### To evaluate a limit at one side only, pass `'+'` or `'-'` as a third argument to limit. For example, to compute\n",
    "$$\\lim_{x\\rightarrow 0^+}{\\frac{1}{x}}$$\n",
    "do"
   ]
  },
  {
   "cell_type": "code",
   "execution_count": 27,
   "metadata": {},
   "outputs": [
    {
     "data": {
      "image/png": "[encoded data removed]",
      "text/latex": [
       "$$\\infty$$"
      ],
      "text/plain": [
       "∞"
      ]
     },
     "execution_count": 27,
     "metadata": {},
     "output_type": "execute_result"
    }
   ],
   "source": [
    "limit(1/x, x, 0, '+')"
   ]
  },
  {
   "cell_type": "code",
   "execution_count": 28,
   "metadata": {},
   "outputs": [
    {
     "data": {
      "image/png": "[encoded data removed]",
      "text/latex": [
       "$$-\\infty$$"
      ],
      "text/plain": [
       "-∞"
      ]
     },
     "execution_count": 28,
     "metadata": {},
     "output_type": "execute_result"
    }
   ],
   "source": [
    "limit(1/x, x, 0, '-')"
   ]
  },
  {
   "cell_type": "markdown",
   "metadata": {},
   "source": [
    "## Series Expansion\n",
    "SymPy can compute asymptotic series expansions of functions around a point."
   ]
  },
  {
   "cell_type": "code",
   "execution_count": 29,
   "metadata": {},
   "outputs": [
    {
     "data": {
      "image/png": "[encoded data removed]",
      "text/latex": [
       "$$1 + x + \\frac{x^{2}}{2} + \\mathcal{O}\\left(x^{4}\\right)$$"
      ],
      "text/plain": [
       "         2        \n",
       "        x     ⎛ 4⎞\n",
       "1 + x + ── + O⎝x ⎠\n",
       "        2         "
      ]
     },
     "execution_count": 29,
     "metadata": {},
     "output_type": "execute_result"
    }
   ],
   "source": [
    "expr = exp(sin(x))\n",
    "expr.series(x, 0, 4)"
   ]
  },
  {
   "cell_type": "markdown",
   "metadata": {},
   "source": [
    "### If you do not want the order term, use the `removeO` method."
   ]
  },
  {
   "cell_type": "code",
   "execution_count": 37,
   "metadata": {},
   "outputs": [
    {
     "data": {
      "image/png": "[encoded data removed]",
      "text/latex": [
       "$$\\frac{x^{6}}{2} + \\frac{3 x^{4}}{2} + 2 x^{2} + 1$$"
      ],
      "text/plain": [
       " 6      4           \n",
       "x    3⋅x       2    \n",
       "── + ──── + 2⋅x  + 1\n",
       "2     2             "
      ]
     },
     "execution_count": 37,
     "metadata": {},
     "output_type": "execute_result"
    }
   ],
   "source": [
    "expr = exp(sin(x**2)+log(x**2+1))\n",
    "expr.series(x, 0, 7).removeO()"
   ]
  },
  {
   "cell_type": "markdown",
   "metadata": {},
   "source": [
    "### The `O` notation supports arbitrary limit points (other than 0)"
   ]
  },
  {
   "cell_type": "code",
   "execution_count": 32,
   "metadata": {},
   "outputs": [
    {
     "data": {
      "image/png": "[encoded data removed]",
      "text/latex": [
       "$$-5 + \\frac{1}{2} \\left(x - 6\\right)^{2} + \\frac{1}{6} \\left(x - 6\\right)^{3} + \\frac{1}{24} \\left(x - 6\\right)^{4} + \\frac{1}{120} \\left(x - 6\\right)^{5} + x + \\mathcal{O}\\left(\\left(x - 6\\right)^{6}; x\\rightarrow6\\right)$$"
      ],
      "text/plain": [
       "            2          3          4          5                         \n",
       "     (x - 6)    (x - 6)    (x - 6)    (x - 6)         ⎛       6       ⎞\n",
       "-5 + ──────── + ──────── + ──────── + ──────── + x + O⎝(x - 6) ; x → 6⎠\n",
       "        2          6          24        120                            "
      ]
     },
     "execution_count": 32,
     "metadata": {},
     "output_type": "execute_result"
    }
   ],
   "source": [
    "exp(x - 6).series(x, x0=6)"
   ]
  }
 ],
 "metadata": {
  "kernelspec": {
   "display_name": "Python 3",
   "language": "python",
   "name": "python3"
  },
  "language_info": {
   "codemirror_mode": {
    "name": "ipython",
    "version": 3
   },
   "file_extension": ".py",
   "mimetype": "text/x-python",
   "name": "python",
   "nbconvert_exporter": "python",
   "pygments_lexer": "ipython3",
   "version": "3.6.2"
  },
  "latex_envs": {
   "LaTeX_envs_menu_present": true,
   "autoclose": false,
   "autocomplete": true,
   "bibliofile": "biblio.bib",
   "cite_by": "apalike",
   "current_citInitial": 1,
   "eqLabelWithNumbers": true,
   "eqNumInitial": 1,
   "hotkeys": {
    "equation": "Ctrl-E",
    "itemize": "Ctrl-I"
   },
   "labels_anchors": false,
   "latex_user_defs": false,
   "report_style_numbering": false,
   "user_envs_cfg": false
  }
 },
 "nbformat": 4,
 "nbformat_minor": 2
}
