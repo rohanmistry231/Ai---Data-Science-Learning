{
 "cells": [
  {
   "cell_type": "markdown",
   "metadata": {},
   "source": [
    "# **Python Functions: Deep Knowledge**\n",
    "\n",
    "---\n",
    "\n",
    "### **1. What is a Function?** ✨\n",
    "- **Definition**: A function is a block of reusable code that performs a specific task. It helps in organizing and managing code by breaking it into smaller, modular chunks.\n",
    "- **Purpose**: Functions enable code reuse, reduce redundancy, and make programs more manageable and understandable.\n",
    "- **Syntax**:\n",
    "    ```python\n",
    "    def function_name(parameters):\n",
    "        \"\"\"docstring\"\"\"\n",
    "        # Function body\n",
    "        return value\n",
    "    ```\n",
    "  - **Example**:\n",
    "    ```python\n",
    "    def greet(name):\n",
    "        \"\"\"This function greets the person passed as a parameter.\"\"\"\n",
    "        return f\"Hello, {name}!\"\n",
    "    ```\n",
    "\n",
    "---\n",
    "\n",
    "### **2. Components of a Function** 🛠️\n",
    "- **Function Name**: The identifier used to call the function.\n",
    "- **Parameters**: Variables passed into the function, defined in the parentheses after the function name. These are optional.\n",
    "- **Docstring**: A short description of the function's purpose, enclosed in triple quotes (`\"\"\"`).\n",
    "- **Function Body**: The code that runs when the function is called. It may include statements, loops, and even other functions.\n",
    "- **Return Statement**: Used to return a result from the function. It is optional; if omitted, the function returns `None`.\n",
    "\n",
    "---\n",
    "\n",
    "### **3. Types of Functions** 🧩\n",
    "- **Built-in Functions**: Functions provided by Python, such as `print()`, `len()`, etc.\n",
    "- **User-defined Functions**: Functions that you create yourself to perform specific tasks.\n",
    "- **Lambda Functions**: Anonymous, single-expression functions that are often used as a shortcut for small operations.\n",
    "  - **Example**:\n",
    "    ```python\n",
    "    add = lambda x, y: x + y\n",
    "    print(add(2, 3))  # Outputs: 5\n",
    "    ```\n",
    "\n",
    "---\n",
    "\n",
    "### **4. Calling a Function** 📞\n",
    "- **Purpose**: To execute the function's code block by using its name followed by parentheses.\n",
    "- **Syntax**:\n",
    "    ```python\n",
    "    function_name(arguments)\n",
    "    ```\n",
    "  - **Example**:\n",
    "    ```python\n",
    "    print(greet(\"Rohan\"))  # Outputs: Hello, Rohan!\n",
    "    ```\n",
    "\n",
    "---\n",
    "\n",
    "### **5. Parameters vs. Arguments** 🎭\n",
    "- **Parameters**: Variables listed inside the parentheses in the function definition.\n",
    "- **Arguments**: Values passed to the function when it is called.\n",
    "- **Example**:\n",
    "    ```python\n",
    "    def add(a, b):  # 'a' and 'b' are parameters\n",
    "        return a + b\n",
    "    \n",
    "    result = add(5, 3)  # 5 and 3 are arguments\n",
    "    print(result)  # Outputs: 8\n",
    "    ```\n",
    "\n",
    "---\n",
    "\n",
    "### **6. Return Statement** 🔄\n",
    "- **Purpose**: The `return` statement is used to exit a function and go back to the place where it was called. It can also return a value.\n",
    "- **Syntax**:\n",
    "    ```python\n",
    "    return expression\n",
    "    ```\n",
    "  - **Example**:\n",
    "    ```python\n",
    "    def square(number):\n",
    "        return number ** 2\n",
    "    \n",
    "    print(square(4))  # Outputs: 16\n",
    "    ```\n",
    "\n",
    "---\n",
    "\n",
    "### **7. Default Parameters** 🛠️\n",
    "- **Purpose**: Functions can have default parameter values that are used if no argument is provided.\n",
    "- **Syntax**:\n",
    "    ```python\n",
    "    def function_name(param1=default_value):\n",
    "        # code block\n",
    "    ```\n",
    "  - **Example**:\n",
    "    ```python\n",
    "    def greet(name=\"Guest\"):\n",
    "        return f\"Hello, {name}!\"\n",
    "    \n",
    "    print(greet())        # Outputs: Hello, Guest!\n",
    "    print(greet(\"Rohan\"))  # Outputs: Hello, Rohan!\n",
    "    ```\n",
    "\n",
    "---\n",
    "\n",
    "### **8. Variable Scope** 🌐\n",
    "- **Local Scope**: Variables created inside a function are local to that function and cannot be accessed outside.\n",
    "- **Global Scope**: Variables created outside any function are global and can be accessed inside functions.\n",
    "  - **Example**:\n",
    "    ```python\n",
    "    x = \"global\"\n",
    "\n",
    "    def my_function():\n",
    "        x = \"local\"\n",
    "        print(x)  # Outputs: local\n",
    "\n",
    "    my_function()\n",
    "    print(x)  # Outputs: global\n",
    "    ```\n",
    "\n",
    "---\n",
    "\n",
    "### **9. Recursive Functions** 🔁\n",
    "- **Purpose**: A function that calls itself in order to solve a problem that can be broken down into smaller, repetitive tasks.\n",
    "- **Example**:\n",
    "    ```python\n",
    "    def factorial(n):\n",
    "        if n == 1:\n",
    "            return 1\n",
    "        else:\n",
    "            return n * factorial(n - 1)\n",
    "\n",
    "    print(factorial(5))  # Outputs: 120\n",
    "    ```\n",
    "\n",
    "---\n",
    "\n",
    "### **10. Lambda Functions** ⚡\n",
    "- **Purpose**: A small anonymous function that is defined using the `lambda` keyword.\n",
    "- **Syntax**:\n",
    "    ```python\n",
    "    lambda arguments: expression\n",
    "    ```\n",
    "  - **Example**:\n",
    "    ```python\n",
    "    double = lambda x: x * 2\n",
    "    print(double(5))  # Outputs: 10\n",
    "    ```\n",
    "\n",
    "---\n",
    "\n",
    "### **11. *args and **kwargs** 🌟\n",
    "- **`*args`**: Allows a function to accept any number of positional arguments as a tuple.\n",
    "- **`**kwargs`**: Allows a function to accept any number of keyword arguments as a dictionary.\n",
    "  - **Example**:\n",
    "    ```python\n",
    "    def example_function(*args, **kwargs):\n",
    "        print(\"Positional arguments:\", args)\n",
    "        print(\"Keyword arguments:\", kwargs)\n",
    "\n",
    "    example_function(1, 2, 3, a=4, b=5)\n",
    "    # Outputs:\n",
    "    # Positional arguments: (1, 2, 3)\n",
    "    # Keyword arguments: {'a': 4, 'b': 5}\n",
    "    ```\n",
    "\n",
    "---\n",
    "\n",
    "### **12. Higher-Order Functions** 🧠\n",
    "- **Definition**: Functions that take other functions as arguments or return functions as their result.\n",
    "- **Example**:\n",
    "    ```python\n",
    "    def add(x):\n",
    "        return x + 1\n",
    "\n",
    "    def apply_function(func, value):\n",
    "        return func(value)\n",
    "\n",
    "    print(apply_function(add, 10))  # Outputs: 11\n",
    "    ```\n",
    "\n",
    "---\n",
    "\n",
    "### **13. Function Annotations** 📝\n",
    "- **Purpose**: Annotations provide a way to attach metadata to function parameters and return values.\n",
    "- **Syntax**:\n",
    "    ```python\n",
    "    def function_name(param: type) -> return_type:\n",
    "        # code block\n",
    "    ```\n",
    "  - **Example**:\n",
    "    ```python\n",
    "    def add(x: int, y: int) -> int:\n",
    "        return x + y\n",
    "    ```\n",
    "\n",
    "---\n",
    "\n",
    "### **14. Closures** 🔒\n",
    "- **Definition**: A closure is a function that remembers the environment in which it was created.\n",
    "- **Example**:\n",
    "    ```python\n",
    "    def outer_function(msg):\n",
    "        def inner_function():\n",
    "            print(msg)\n",
    "        return inner_function\n",
    "\n",
    "    my_closure = outer_function(\"Hello, World!\")\n",
    "    my_closure()  # Outputs: Hello, World!\n",
    "    ```\n",
    "\n",
    "---\n",
    "\n",
    "### **15. Decorators** 🎨\n",
    "- **Purpose**: A decorator is a function that wraps another function to modify or enhance its behavior.\n",
    "- **Syntax**:\n",
    "    ```python\n",
    "    @decorator_function\n",
    "    def function_to_decorate():\n",
    "        # code block\n",
    "    ```\n",
    "  - **Example**:\n",
    "    ```python\n",
    "    def decorator_function(original_function):\n",
    "        def wrapper_function():\n",
    "            print(\"Wrapper executed before\", original_function.__name__)\n",
    "            return original_function()\n",
    "        return wrapper_function\n",
    "\n",
    "    @decorator_function\n",
    "    def display():\n",
    "        print(\"Display function ran\")\n",
    "\n",
    "    display()\n",
    "    # Outputs:\n",
    "    # Wrapper executed before display\n",
    "    # Display function ran\n",
    "    ```\n",
    "\n",
    "---"
   ]
  },
  {
   "cell_type": "markdown",
   "metadata": {},
   "source": [
    "# **Python Functions Exercises**\n",
    "\n",
    "## 📚 **Introduction**\n",
    "\n",
    "In this section, you will find exercises designed to help you practice and master various function concepts in Python. The exercises are categorized into three levels of difficulty: **Beginner**, **Intermediate**, and **Advanced**. Each level focuses on different aspects of functions, including basic definitions, arguments, return values, and more complex tasks."
   ]
  },
  {
   "cell_type": "markdown",
   "metadata": {},
   "source": [
    "---\n",
    "\n",
    "## 🏆 **Beginner Level**\n",
    "\n",
    "### **1. Simple Greeting Function**\n",
    "- **Objective**: Create a function that prints \"Hello, World!\".\n",
    "- **Instructions**:\n",
    "  - Define a function named `greet`.\n",
    "  - Inside the function, print \"Hello, World!\".\n",
    "  - Call the function to display the output.\n",
    "\n",
    "### **2. Sum of Two Numbers**\n",
    "- **Objective**: Write a function that takes two numbers as arguments and returns their sum.\n",
    "- **Instructions**:\n",
    "  - Define a function named `add_numbers` that accepts two parameters.\n",
    "  - Return the sum of the parameters.\n",
    "  - Call the function with two numbers and print the result.\n",
    "\n",
    "### **3. Square of a Number**\n",
    "- **Objective**: Write a function that takes a number as an argument and returns its square.\n",
    "- **Instructions**:\n",
    "  - Define a function named `square` that accepts one parameter.\n",
    "  - Return the square of the parameter.\n",
    "  - Call the function with a number and print the result.\n",
    "\n",
    "### **4. Print a List**\n",
    "- **Objective**: Write a function that prints all elements of a list.\n",
    "- **Instructions**:\n",
    "  - Define a function named `print_list` that accepts a list as a parameter.\n",
    "  - Use a `for` loop to print each element in the list.\n",
    "  - Call the function with a list and observe the output.\n",
    "\n",
    "### **5. Check Even or Odd**\n",
    "- **Objective**: Write a function that checks whether a given number is even or odd.\n",
    "- **Instructions**:\n",
    "  - Define a function named `check_even_odd` that accepts one parameter.\n",
    "  - Use an `if` statement to check if the number is even or odd.\n",
    "  - Return \"Even\" or \"Odd\" based on the condition.\n",
    "\n",
    "---"
   ]
  },
  {
   "cell_type": "markdown",
   "metadata": {},
   "source": [
    "### ***Level : Beginner***"
   ]
  },
  {
   "cell_type": "markdown",
   "metadata": {},
   "source": [
    "##### Exercise ( 1 )"
   ]
  },
  {
   "cell_type": "code",
   "execution_count": 1,
   "metadata": {},
   "outputs": [
    {
     "name": "stdout",
     "output_type": "stream",
     "text": [
      "Hello, Rohan\n"
     ]
    }
   ],
   "source": [
    "# Greeting Function: Write a function named greet that takes a string name as a parameter and prints \"Hello, name!\".\n",
    "\n",
    "def Greeting(name):\n",
    "    print(f\"Hello, {name}\")\n",
    "\n",
    "Greeting(input(\"Enter your name\"))"
   ]
  },
  {
   "cell_type": "code",
   "execution_count": null,
   "metadata": {},
   "outputs": [
    {
     "name": "stdout",
     "output_type": "stream",
     "text": [
      "Type of _int: <class 'int'>\n",
      "Type of _float: <class 'float'>\n",
      "Type of _str: <class 'str'>\n",
      "Type of _list: <class 'list'>\n",
      "Type of _tuple: <class 'tuple'>\n",
      "Type of _dict: <class 'dict'>\n",
      "Type of _set: <class 'set'>\n",
      "Type of _bool: <class 'bool'>\n"
     ]
    }
   ],
   "source": [
    "# Corrected Code\n",
    "def greeting(name):\n",
    "    print(f\"Hello, {name}\")\n",
    "\n",
    "greeting(input(\"Enter your name\"))\n",
    "\n",
    "# Feedback:\n",
    "# Rank: 9/10 - Your original code correctly defines a function `Greeting` that prints a personalized greeting using the provided name.\n",
    "# The use of f-strings was appropriate, and the function's implementation was functional and met the exercise's requirements.\n",
    "# The main improvement was renaming the function to `greeting` (lowercase) to follow Python's PEP 8 naming conventions."
   ]
  },
  {
   "cell_type": "markdown",
   "metadata": {},
   "source": [
    "##### Exercise ( 2 )"
   ]
  },
  {
   "cell_type": "code",
   "execution_count": 5,
   "metadata": {},
   "outputs": [
    {
     "data": {
      "text/plain": [
       "10"
      ]
     },
     "execution_count": 5,
     "metadata": {},
     "output_type": "execute_result"
    }
   ],
   "source": [
    "# Addition Function: Create a function called add_numbers that takes two integers as parameters and returns their sum.\n",
    "\n",
    "def addition(num1,num2):\n",
    "    return num1+num2\n",
    "\n",
    "addition(int(input(\"Enter Number 1\")),int(input(\"Enter Number 2\")))"
   ]
  },
  {
   "cell_type": "code",
   "execution_count": null,
   "metadata": {},
   "outputs": [
    {
     "name": "stdout",
     "output_type": "stream",
     "text": [
      "10 <class 'int'>\n",
      "10 <class 'int'>\n",
      "10 <class 'str'>\n"
     ]
    }
   ],
   "source": [
    "# Corrected Code\n",
    "def addition(num1, num2):\n",
    "    return num1 + num2\n",
    "\n",
    "print(addition(int(input(\"Enter Number 1: \")), int(input(\"Enter Number 2: \"))))\n",
    "\n",
    "# Feedback:\n",
    "# Rank: 9/10 - Your code correctly defines an `addition` function that returns the sum of two numbers.\n",
    "# The function implementation is correct and meets the requirements.\n",
    "# The improvement made was to include a `print` statement to display the result of the function call, which was missing in the original code."
   ]
  },
  {
   "cell_type": "markdown",
   "metadata": {},
   "source": [
    "##### Exercise ( 3 )"
   ]
  },
  {
   "cell_type": "code",
   "execution_count": 7,
   "metadata": {},
   "outputs": [
    {
     "name": "stdout",
     "output_type": "stream",
     "text": [
      "5 is odd number\n"
     ]
    }
   ],
   "source": [
    "# Check Even Function: Write a function is_even that takes an integer as input and returns True if the number is even, and False otherwise.\n",
    "\n",
    "def is_even(number):\n",
    "    if number % 2 == 0 :\n",
    "        print(f\"{number} is even number\")\n",
    "    else:\n",
    "        print(f\"{number} is odd number\")\n",
    "\n",
    "is_even(int(input(\"Enter the Number\")))"
   ]
  },
  {
   "cell_type": "code",
   "execution_count": null,
   "metadata": {},
   "outputs": [
    {
     "name": "stdout",
     "output_type": "stream",
     "text": [
      "[1, 2, 3, 5, 6, 7]\n",
      "4\n"
     ]
    }
   ],
   "source": [
    "# Corrected Code\n",
    "def is_even(number):\n",
    "    if number % 2 == 0:\n",
    "        print(f\"{number} is an even number\")\n",
    "    else:\n",
    "        print(f\"{number} is an odd number\")\n",
    "\n",
    "is_even(int(input(\"Enter the Number: \")))\n",
    "\n",
    "# Feedback:\n",
    "# Rank: 10/10 - Your code correctly defines an `is_even` function that checks if a number is even or odd.\n",
    "# The function accurately prints whether the number is even or odd based on the modulus operation.\n",
    "# The only minor improvement is the addition of \"an\" before \"even number\" and \"odd number\" for grammatical correctness in the output message."
   ]
  },
  {
   "cell_type": "markdown",
   "metadata": {},
   "source": [
    "##### Exercise ( 4 )"
   ]
  },
  {
   "cell_type": "code",
   "execution_count": 8,
   "metadata": {},
   "outputs": [
    {
     "data": {
      "text/plain": [
       "100"
      ]
     },
     "execution_count": 8,
     "metadata": {},
     "output_type": "execute_result"
    }
   ],
   "source": [
    "# Square Calculation: Define a function square that takes a number as input and returns its square.\n",
    "\n",
    "def square(number):\n",
    "    return number*number\n",
    "square(int(input(\"Enter the Number\")))"
   ]
  },
  {
   "cell_type": "code",
   "execution_count": null,
   "metadata": {},
   "outputs": [
    {
     "name": "stdout",
     "output_type": "stream",
     "text": [
      "HELLO I AM A STRING\n",
      "19\n",
      "Hey I am a String\n"
     ]
    }
   ],
   "source": [
    "# Corrected Code\n",
    "def square(number):\n",
    "    return number * number\n",
    "\n",
    "print(square(int(input(\"Enter the Number: \"))))\n",
    "\n",
    "# Feedback:\n",
    "# Rank: 9/10 - Your code correctly defines a `square` function that returns the square of the given number.\n",
    "# The function implementation is correct.\n",
    "# The improvement was to include a `print` statement to display the result of the function call, which was missing in the original code."
   ]
  },
  {
   "cell_type": "markdown",
   "metadata": {},
   "source": [
    "##### Exercise ( 5 )"
   ]
  },
  {
   "cell_type": "code",
   "execution_count": 9,
   "metadata": {},
   "outputs": [
    {
     "name": "stdout",
     "output_type": "stream",
     "text": [
      "Goodbye!\n"
     ]
    }
   ],
   "source": [
    "# Simple Farewell Function: Create a function say_goodbye that takes no parameters and prints \"Goodbye!\".\n",
    "\n",
    "def say_goodbye():\n",
    "    print(\"Goodbye!\")\n",
    "say_goodbye()"
   ]
  },
  {
   "cell_type": "code",
   "execution_count": null,
   "metadata": {},
   "outputs": [],
   "source": [
    "# Corrected Code\n",
    "def say_goodbye():\n",
    "    print(\"Goodbye!\")\n",
    "\n",
    "say_goodbye()\n",
    "\n",
    "# Feedback:\n",
    "# Rank: 10/10 - Your code correctly defines a `say_goodbye` function that prints \"Goodbye!\".\n",
    "# The function implementation meets the requirements of the exercise and is functioning as expected."
   ]
  },
  {
   "cell_type": "markdown",
   "metadata": {},
   "source": [
    "---\n",
    "\n",
    "## 🌟 **Intermediate Level**\n",
    "\n",
    "### **1. Factorial Calculation**\n",
    "- **Objective**: Write a function that calculates the factorial of a given number.\n",
    "- **Instructions**:\n",
    "  - Define a function named `factorial` that accepts one parameter.\n",
    "  - Use a `for` loop or recursion to calculate the factorial.\n",
    "  - Return the factorial of the number.\n",
    "\n",
    "### **2. Palindrome Checker**\n",
    "- **Objective**: Write a function that checks whether a given string is a palindrome.\n",
    "- **Instructions**:\n",
    "  - Define a function named `is_palindrome` that accepts one parameter.\n",
    "  - Check if the string reads the same forwards and backwards.\n",
    "  - Return `True` if it's a palindrome, otherwise `False`.\n",
    "\n",
    "### **3. Count Vowels in a String**\n",
    "- **Objective**: Write a function that counts the number of vowels in a given string.\n",
    "- **Instructions**:\n",
    "  - Define a function named `count_vowels` that accepts one parameter.\n",
    "  - Use a loop to iterate through the string and count the vowels.\n",
    "  - Return the total number of vowels.\n",
    "\n",
    "### **4. Sum of a List**\n",
    "- **Objective**: Write a function that returns the sum of all elements in a list.\n",
    "- **Instructions**:\n",
    "  - Define a function named `sum_list` that accepts a list as a parameter.\n",
    "  - Use a `for` loop to calculate the sum of the list elements.\n",
    "  - Return the sum.\n",
    "\n",
    "### **5. Convert Celsius to Fahrenheit**\n",
    "- **Objective**: Write a function that converts a temperature from Celsius to Fahrenheit.\n",
    "- **Instructions**:\n",
    "  - Define a function named `celsius_to_fahrenheit` that accepts one parameter.\n",
    "  - Use the formula `F = (C * 9/5) + 32` to convert the temperature.\n",
    "  - Return the Fahrenheit value.\n",
    "\n",
    "---"
   ]
  },
  {
   "cell_type": "markdown",
   "metadata": {},
   "source": [
    "### ***Level : Intermediate***"
   ]
  },
  {
   "cell_type": "markdown",
   "metadata": {},
   "source": [
    "##### Exercise ( 1 )"
   ]
  },
  {
   "cell_type": "code",
   "execution_count": null,
   "metadata": {},
   "outputs": [
    {
     "name": "stdout",
     "output_type": "stream",
     "text": [
      "The factorial of 5 is 120.\n"
     ]
    }
   ],
   "source": [
    "# Factorial Calculation: Write a function factorial that takes a positive integer n and returns the factorial of n using a loop.\n",
    "\n",
    "def factorial(n):\n",
    "    result = 1\n",
    "    for i in range(1, n + 1):\n",
    "        result *= i  \n",
    "    return result\n",
    "\n",
    "\n",
    "n = int(input(\"Enter a number to calculate its factorial: \"))\n",
    "fact = factorial(n)\n",
    "print(f\"The factorial of {n} is {fact}.\")"
   ]
  },
  {
   "cell_type": "code",
   "execution_count": null,
   "metadata": {},
   "outputs": [
    {
     "name": "stdout",
     "output_type": "stream",
     "text": [
      "The factorial of 5 is 120.\n"
     ]
    }
   ],
   "source": [
    "# Corrected Code\n",
    "def factorial(n):\n",
    "    result = 1\n",
    "    for i in range(1, n + 1):\n",
    "        result *= i\n",
    "    return result\n",
    "\n",
    "n = int(input(\"Enter a number to calculate its factorial: \"))\n",
    "print(f\"The factorial of {n} is {factorial(n)}.\")\n",
    "\n",
    "# Feedback:\n",
    "# Rank: 10/10 - Your code correctly defines a `factorial` function that computes the factorial of a given number using a `for` loop.\n",
    "# The function's implementation is accurate and meets the exercise's requirements.\n",
    "# The additional `print` statement correctly displays the result, which aligns with the expected output."
   ]
  },
  {
   "cell_type": "markdown",
   "metadata": {},
   "source": [
    "##### Exercise ( 2 )"
   ]
  },
  {
   "cell_type": "code",
   "execution_count": 13,
   "metadata": {},
   "outputs": [
    {
     "name": "stdout",
     "output_type": "stream",
     "text": [
      "The maximum value in the list is: 8\n"
     ]
    }
   ],
   "source": [
    "# Maximum in List: Create a function find_max that takes a list of numbers as input and returns the largest number in the list.\n",
    "\n",
    "def find_max(numbers):\n",
    "    max_value = numbers[0]\n",
    "    \n",
    "    for num in numbers:\n",
    "        if num > max_value:\n",
    "            max_value = num\n",
    "    return max_value\n",
    "\n",
    "numbers = [3, 5, 1, 8, 2, 7]\n",
    "print(\"The maximum value in the list is:\", find_max(numbers))\n"
   ]
  },
  {
   "cell_type": "code",
   "execution_count": null,
   "metadata": {},
   "outputs": [
    {
     "name": "stdout",
     "output_type": "stream",
     "text": [
      "[1, 2, 3, 4, 5, 6, 7, 8, 9, 10]\n"
     ]
    }
   ],
   "source": [
    "# Corrected Code\n",
    "def find_max(numbers):\n",
    "    max_value = numbers[0]\n",
    "    \n",
    "    for num in numbers:\n",
    "        if num > max_value:\n",
    "            max_value = num\n",
    "    return max_value\n",
    "\n",
    "numbers = [3, 5, 1, 8, 2, 7]\n",
    "print(\"The maximum value in the list is:\", find_max(numbers))\n",
    "\n",
    "# Feedback:\n",
    "# Rank: 10/10 - Your code correctly defines a `find_max` function that identifies the maximum value in a list of numbers.\n",
    "# The function's implementation is accurate and meets the exercise's requirements.\n",
    "# The `print` statement correctly displays the maximum value found in the list."
   ]
  },
  {
   "cell_type": "markdown",
   "metadata": {},
   "source": [
    "##### Exercise ( 3 )"
   ]
  },
  {
   "cell_type": "code",
   "execution_count": 20,
   "metadata": {},
   "outputs": [
    {
     "name": "stdout",
     "output_type": "stream",
     "text": [
      "olleH\n"
     ]
    }
   ],
   "source": [
    "# String Reversal: Define a function reverse_string that takes a string and returns the string reversed.\n",
    "\n",
    "def reverse_string(s):\n",
    "    return s[::-1]\n",
    "\n",
    "print(reverse_string(input(\"Enter the String\")))"
   ]
  },
  {
   "cell_type": "code",
   "execution_count": null,
   "metadata": {},
   "outputs": [
    {
     "name": "stdout",
     "output_type": "stream",
     "text": [
      "Union of Set = {1, 2, 3, 4, 5}\n",
      "Intersection of Set = {3}\n",
      "Difference of Set = {1, 2}\n"
     ]
    }
   ],
   "source": [
    "# Corrected Code\n",
    "def reverse_string(s):\n",
    "    return s[::-1]\n",
    "\n",
    "print(reverse_string(input(\"Enter the String: \")))\n",
    "\n",
    "# Feedback:\n",
    "# Rank: 10/10 - Your code correctly defines a `reverse_string` function that reverses the input string using slicing.\n",
    "# The function implementation is accurate and efficiently handles the task.\n",
    "# The `print` statement correctly displays the reversed string, and the input prompt has been slightly improved for clarity."
   ]
  },
  {
   "cell_type": "markdown",
   "metadata": {},
   "source": [
    "##### Exercise ( 4 )"
   ]
  },
  {
   "cell_type": "code",
   "execution_count": 23,
   "metadata": {},
   "outputs": [
    {
     "data": {
      "text/plain": [
       "False"
      ]
     },
     "execution_count": 23,
     "metadata": {},
     "output_type": "execute_result"
    }
   ],
   "source": [
    "# Palindrome Checker: Write a function is_palindrome that checks if a given string is a palindrome (reads the same forwards and backwards).\n",
    "\n",
    "def is_palindrome(string):\n",
    "    string = string.lower()\n",
    "    for i in string:\n",
    "        if string[0] != string[-1]:\n",
    "            return False\n",
    "        return True\n",
    "    \n",
    "is_palindrome(input(\"Enter the String\"))"
   ]
  },
  {
   "cell_type": "code",
   "execution_count": 27,
   "metadata": {},
   "outputs": [
    {
     "name": "stdout",
     "output_type": "stream",
     "text": [
      "False\n"
     ]
    }
   ],
   "source": [
    "# Corrected Code\n",
    "def is_palindrome(string):\n",
    "    string = string.lower()\n",
    "    return string == string[::-1]\n",
    "\n",
    "print(is_palindrome(input(\"Enter the String: \")))\n",
    "\n",
    "# Feedback:\n",
    "# Rank: 7/10 - Your code attempts to check if a string is a palindrome, but it has a logical error.\n",
    "# The `for` loop is unnecessary, and the comparison should be made between the string and its reversed version.\n",
    "# The corrected implementation compares the string to its reverse and returns `True` if they are equal, otherwise `False`.\n",
    "# The additional `print` statement displays whether the string is a palindrome or not."
   ]
  },
  {
   "cell_type": "markdown",
   "metadata": {},
   "source": [
    "##### Exercise ( 5 )"
   ]
  },
  {
   "cell_type": "code",
   "execution_count": 29,
   "metadata": {},
   "outputs": [
    {
     "name": "stdout",
     "output_type": "stream",
     "text": [
      "14\n"
     ]
    }
   ],
   "source": [
    "# Sum of Squares: Create a function sum_of_squares that calculates the sum of the squares of the first n natural numbers.\n",
    "\n",
    "def sum_of_squares(numbers):\n",
    "    sum = 0\n",
    "    for i in numbers:\n",
    "        sum += i*i\n",
    "    print(sum)\n",
    "numbers = [1,2,3]\n",
    "sum_of_squares(numbers)"
   ]
  },
  {
   "cell_type": "code",
   "execution_count": null,
   "metadata": {},
   "outputs": [
    {
     "name": "stdout",
     "output_type": "stream",
     "text": [
      "{1: 1, 2: 4, 3: 9, 4: 16, 5: 25}\n"
     ]
    }
   ],
   "source": [
    "# Corrected Code\n",
    "def sum_of_squares(numbers):\n",
    "    total = 0\n",
    "    for i in numbers:\n",
    "        total += i * i\n",
    "    return total\n",
    "\n",
    "numbers = [1, 2, 3]\n",
    "print(\"The sum of squares is:\", sum_of_squares(numbers))\n",
    "\n",
    "# Feedback:\n",
    "# Rank: 9/10 - Your code correctly defines a `sum_of_squares` function that calculates the sum of the squares of numbers in a list.\n",
    "# The use of the `for` loop and the square operation are correct.\n",
    "# The improvement was to use a more descriptive variable name (`total` instead of `sum`) and to return the result rather than printing it directly.\n",
    "# This allows for better flexibility and reusability of the function."
   ]
  },
  {
   "cell_type": "markdown",
   "metadata": {},
   "source": [
    "---\n",
    "\n",
    "## 🌟 **Advanced Level**\n",
    "\n",
    "### **1. Fibonacci Sequence Generator**\n",
    "- **Objective**: Write a function that generates the first `n` numbers in the Fibonacci sequence.\n",
    "- **Instructions**:\n",
    "  - Define a function named `fibonacci` that accepts one parameter `n`.\n",
    "  - Use a loop or recursion to generate the Fibonacci sequence.\n",
    "  - Return a list containing the first `n` Fibonacci numbers.\n",
    "\n",
    "### **2. Recursive Sum of Digits**\n",
    "- **Objective**: Write a recursive function that calculates the sum of digits of a given number.\n",
    "- **Instructions**:\n",
    "  - Define a function named `sum_of_digits` that accepts one parameter.\n",
    "  - Use recursion to sum the digits of the number.\n",
    "  - Return the sum of the digits.\n",
    "\n",
    "### **3. Nested Function for Power Calculation**\n",
    "- **Objective**: Write a function that uses a nested function to calculate the power of a number.\n",
    "- **Instructions**:\n",
    "  - Define a function named `power` that accepts two parameters, base and exponent.\n",
    "  - Inside it, define a nested function named `inner_power` to perform the calculation.\n",
    "  - Return the result of the nested function.\n",
    "\n",
    "### **4. Lambda Function Sorting**\n",
    "- **Objective**: Write a function that sorts a list of tuples based on the second value using a lambda function.\n",
    "- **Instructions**:\n",
    "  - Define a function named `sort_tuples` that accepts a list of tuples.\n",
    "  - Use the `sorted()` function with a lambda function as the key to sort the list.\n",
    "  - Return the sorted list.\n",
    "\n",
    "### **5. Custom Exception Handling**\n",
    "- **Objective**: Write a function that raises a custom exception if an input value is not within a specified range.\n",
    "- **Instructions**:\n",
    "  - Define a custom exception class named `OutOfRangeError`.\n",
    "  - Define a function named `check_value` that accepts one parameter.\n",
    "  - Raise `OutOfRangeError` if the value is not between 1 and 100.\n",
    "  - Use a `try-except` block to handle the exception and print an appropriate message.\n",
    "\n",
    "---"
   ]
  },
  {
   "cell_type": "markdown",
   "metadata": {},
   "source": [
    "### ***Level : Advance***"
   ]
  },
  {
   "cell_type": "markdown",
   "metadata": {},
   "source": [
    "##### Exercise ( 1 )"
   ]
  },
  {
   "cell_type": "code",
   "execution_count": 30,
   "metadata": {},
   "outputs": [
    {
     "name": "stdout",
     "output_type": "stream",
     "text": [
      "0\n",
      "1\n",
      "1\n",
      "2\n",
      "3\n"
     ]
    }
   ],
   "source": [
    "# Fibonacci Sequence Generator: Write a function fibonacci that takes an integer n and returns the n-th Fibonacci number using recursion.\n",
    "\n",
    "def fibonacci_generator(number):\n",
    "    a,b = 0,1\n",
    "    for i in range(number):\n",
    "        print(a,end=\"\\n\")\n",
    "        a,b = b,a+b\n",
    "        \n",
    "fibonacci_generator(int(input(\"Enter the Number\")))"
   ]
  },
  {
   "cell_type": "code",
   "execution_count": null,
   "metadata": {},
   "outputs": [],
   "source": [
    "# Corrected Code\n",
    "def fibonacci_generator(number):\n",
    "    a, b = 0, 1\n",
    "    for i in range(number):\n",
    "        print(a, end=\" \")\n",
    "        a, b = b, a + b\n",
    "\n",
    "print(\"Fibonacci sequence:\")\n",
    "fibonacci_generator(int(input(\"Enter the number of terms: \")))\n",
    "\n",
    "# Feedback:\n",
    "# Rank: 9/10 - Your code correctly defines a `fibonacci_generator` function that prints the Fibonacci sequence up to the specified number of terms.\n",
    "# The use of `a, b = 0, 1` and the `for` loop is correct.\n",
    "# The improvement was to change the `end=\"\\n\"` to `end=\" \"` to print the sequence on a single line for better readability.\n",
    "# Additionally, the prompt text was slightly improved for clarity, and a header for the output was added to distinguish the result."
   ]
  },
  {
   "cell_type": "markdown",
   "metadata": {},
   "source": [
    "##### Exercise ( 2 )"
   ]
  },
  {
   "cell_type": "code",
   "execution_count": 31,
   "metadata": {},
   "outputs": [
    {
     "name": "stdout",
     "output_type": "stream",
     "text": [
      "Sorted list is: [3, 9, 10, 27, 38, 43, 82]\n"
     ]
    }
   ],
   "source": [
    "# Merge Sort Implementation: Create a function merge_sort that sorts a list of numbers using the merge sort algorithm.\n",
    "\n",
    "def merge_sort(arr):\n",
    "    # Base case: If the list is of length 1 or empty, it's already sorted\n",
    "    if len(arr) <= 1:\n",
    "        return arr\n",
    "    \n",
    "    # Split the list into two halves\n",
    "    mid = len(arr) // 2\n",
    "    left_half = arr[:mid]\n",
    "    right_half = arr[mid:]\n",
    "    \n",
    "    # Recursively sort both halves\n",
    "    left_sorted = merge_sort(left_half)\n",
    "    right_sorted = merge_sort(right_half)\n",
    "    \n",
    "    # Merge the sorted halves\n",
    "    return merge(left_sorted, right_sorted)\n",
    "\n",
    "def merge(left, right):\n",
    "    sorted_list = []\n",
    "    left_index = 0\n",
    "    right_index = 0\n",
    "    \n",
    "    # Merge the two sorted lists into one sorted list\n",
    "    while left_index < len(left) and right_index < len(right):\n",
    "        if left[left_index] < right[right_index]:\n",
    "            sorted_list.append(left[left_index])\n",
    "            left_index += 1\n",
    "        else:\n",
    "            sorted_list.append(right[right_index])\n",
    "            right_index += 1\n",
    "    \n",
    "    # Append any remaining elements from the left list\n",
    "    while left_index < len(left):\n",
    "        sorted_list.append(left[left_index])\n",
    "        left_index += 1\n",
    "    \n",
    "    # Append any remaining elements from the right list\n",
    "    while right_index < len(right):\n",
    "        sorted_list.append(right[right_index])\n",
    "        right_index += 1\n",
    "    \n",
    "    return sorted_list\n",
    "\n",
    "# Example usage\n",
    "numbers = [38, 27, 43, 3, 9, 82, 10]\n",
    "print(\"Sorted list is:\", merge_sort(numbers))"
   ]
  },
  {
   "cell_type": "code",
   "execution_count": null,
   "metadata": {},
   "outputs": [
    {
     "name": "stdout",
     "output_type": "stream",
     "text": [
      "*\n",
      "**\n",
      "***\n",
      "****\n",
      "*****\n"
     ]
    }
   ],
   "source": [
    "# Corrected Code\n",
    "def merge_sort(arr):\n",
    "    if len(arr) <= 1:\n",
    "        return arr\n",
    "    \n",
    "    mid = len(arr) // 2\n",
    "    left_half = arr[:mid]\n",
    "    right_half = arr[mid:]\n",
    "    \n",
    "    left_sorted = merge_sort(left_half)\n",
    "    right_sorted = merge_sort(right_half)\n",
    "    \n",
    "    return merge(left_sorted, right_sorted)\n",
    "\n",
    "def merge(left, right):\n",
    "    sorted_list = []\n",
    "    left_index = 0\n",
    "    right_index = 0\n",
    "    \n",
    "    while left_index < len(left) and right_index < len(right):\n",
    "        if left[left_index] < right[right_index]:\n",
    "            sorted_list.append(left[left_index])\n",
    "            left_index += 1\n",
    "        else:\n",
    "            sorted_list.append(right[right_index])\n",
    "            right_index += 1\n",
    "    \n",
    "    while left_index < len(left):\n",
    "        sorted_list.append(left[left_index])\n",
    "        left_index += 1\n",
    "    \n",
    "    while right_index < len(right):\n",
    "        sorted_list.append(right[right_index])\n",
    "        right_index += 1\n",
    "    \n",
    "    return sorted_list\n",
    "\n",
    "# Example usage\n",
    "numbers = [38, 27, 43, 3, 9, 82, 10]\n",
    "print(\"Sorted list is:\", merge_sort(numbers))\n",
    "\n",
    "# Feedback:\n",
    "# Rank: 10/10 - Your code correctly implements the Merge Sort algorithm, including both the `merge_sort` and `merge` functions.\n",
    "# The implementation is clean and handles the sorting and merging correctly.\n",
    "# The code effectively divides the list into halves, sorts them recursively, and then merges the sorted halves.\n",
    "# The `merge` function ensures that all elements from both halves are included in the final sorted list.\n",
    "# The example usage demonstrates the functionality accurately, and the result is correctly printed."
   ]
  },
  {
   "cell_type": "markdown",
   "metadata": {},
   "source": [
    "##### Exercise ( 3 )"
   ]
  },
  {
   "cell_type": "code",
   "execution_count": 32,
   "metadata": {},
   "outputs": [
    {
     "name": "stdout",
     "output_type": "stream",
     "text": [
      "Prime numbers up to 30 are: [2, 3, 5, 7, 11, 13, 17, 19, 23, 29]\n"
     ]
    }
   ],
   "source": [
    "# Prime Number Generator: Define a function generate_primes that generates and returns all prime numbers up to a given number n.\n",
    "\n",
    "def generate_primes(n):\n",
    "    if n < 2:\n",
    "        return []\n",
    "    \n",
    "    primes = []\n",
    "    is_prime = [True] * (n + 1)\n",
    "    is_prime[0] = is_prime[1] = False\n",
    "    \n",
    "    for i in range(2, int(n**0.5) + 1):\n",
    "        if is_prime[i]:\n",
    "            for j in range(i*i, n + 1, i):\n",
    "                is_prime[j] = False\n",
    "    \n",
    "    for i in range(2, n + 1):\n",
    "        if is_prime[i]:\n",
    "            primes.append(i)\n",
    "    \n",
    "    return primes\n",
    "\n",
    "# Example usage\n",
    "n = 30\n",
    "print(\"Prime numbers up to\", n, \"are:\", generate_primes(n))\n",
    "    "
   ]
  },
  {
   "cell_type": "code",
   "execution_count": null,
   "metadata": {},
   "outputs": [
    {
     "name": "stdout",
     "output_type": "stream",
     "text": [
      "Symmetric Difference: {6, 7, 8, 9}\n",
      "Is Subset: True\n"
     ]
    }
   ],
   "source": [
    "# Corrected Code\n",
    "def generate_primes(n):\n",
    "    if n < 2:\n",
    "        return []\n",
    "    \n",
    "    primes = []\n",
    "    is_prime = [True] * (n + 1)\n",
    "    is_prime[0] = is_prime[1] = False\n",
    "    \n",
    "    for i in range(2, int(n**0.5) + 1):\n",
    "        if is_prime[i]:\n",
    "            for j in range(i*i, n + 1, i):\n",
    "                is_prime[j] = False\n",
    "    \n",
    "    for i in range(2, n + 1):\n",
    "        if is_prime[i]:\n",
    "            primes.append(i)\n",
    "    \n",
    "    return primes\n",
    "\n",
    "# Example usage\n",
    "n = 30\n",
    "print(\"Prime numbers up to\", n, \"are:\", generate_primes(n))\n",
    "\n",
    "# Feedback:\n",
    "# Rank: 10/10 - Your code correctly implements the Sieve of Eratosthenes algorithm to generate prime numbers up to `n`.\n",
    "# The implementation is efficient, utilizing a boolean list to mark non-prime numbers and correctly identifying prime numbers.\n",
    "# The `generate_primes` function handles the range and returns the list of prime numbers accurately.\n",
    "# The example usage demonstrates the functionality and produces the expected output."
   ]
  },
  {
   "cell_type": "markdown",
   "metadata": {},
   "source": [
    "##### Exercise ( 4 )"
   ]
  },
  {
   "cell_type": "code",
   "execution_count": 35,
   "metadata": {},
   "outputs": [
    {
     "name": "stdout",
     "output_type": "stream",
     "text": [
      "Product of matrices A and B is:\n",
      "[19, 22]\n",
      "[43, 50]\n"
     ]
    }
   ],
   "source": [
    "# Matrix Multiplication: Write a function matrix_multiply that takes two matrices and returns their product.\n",
    "\n",
    "def matrix_multiply(A, B):\n",
    "    # Get the dimensions of the matrices\n",
    "    rows_A = len(A)\n",
    "    cols_A = len(A[0])\n",
    "    rows_B = len(B)\n",
    "    cols_B = len(B[0])\n",
    "    \n",
    "    # Check if multiplication is possible\n",
    "    if cols_A != rows_B:\n",
    "        raise ValueError(\"Number of columns in A must be equal to number of rows in B.\")\n",
    "    \n",
    "    # Initialize the result matrix with zeros\n",
    "    result = [[0] * cols_B for _ in range(rows_A)]\n",
    "    \n",
    "    # Perform matrix multiplication\n",
    "    for i in range(rows_A):\n",
    "        for j in range(cols_B):\n",
    "            sum = 0\n",
    "            for k in range(cols_A):\n",
    "                sum += A[i][k] * B[k][j]\n",
    "            result[i][j] = sum\n",
    "    \n",
    "    return result\n",
    "\n",
    "# Example usage\n",
    "A = [\n",
    "    [1, 2],\n",
    "    [3, 4]\n",
    "]\n",
    "\n",
    "B = [\n",
    "    [5, 6],\n",
    "    [7, 8]\n",
    "]\n",
    "\n",
    "product = matrix_multiply(A, B)\n",
    "print(\"Product of matrices A and B is:\")\n",
    "for row in product:\n",
    "    print(row)\n"
   ]
  },
  {
   "cell_type": "code",
   "execution_count": null,
   "metadata": {},
   "outputs": [
    {
     "name": "stdout",
     "output_type": "stream",
     "text": [
      "Invalid option selected.\n"
     ]
    }
   ],
   "source": [
    "# Corrected Code\n",
    "def matrix_multiply(A, B):\n",
    "    # Get the dimensions of the matrices\n",
    "    rows_A = len(A)\n",
    "    cols_A = len(A[0])\n",
    "    rows_B = len(B)\n",
    "    cols_B = len(B[0])\n",
    "    \n",
    "    # Check if multiplication is possible\n",
    "    if cols_A != rows_B:\n",
    "        raise ValueError(\"Number of columns in A must be equal to number of rows in B.\")\n",
    "    \n",
    "    # Initialize the result matrix with zeros\n",
    "    result = [[0] * cols_B for _ in range(rows_A)]\n",
    "    \n",
    "    # Perform matrix multiplication\n",
    "    for i in range(rows_A):\n",
    "        for j in range(cols_B):\n",
    "            sum = 0\n",
    "            for k in range(cols_A):\n",
    "                sum += A[i][k] * B[k][j]\n",
    "            result[i][j] = sum\n",
    "    \n",
    "    return result\n",
    "\n",
    "# Example usage\n",
    "A = [\n",
    "    [1, 2],\n",
    "    [3, 4]\n",
    "]\n",
    "\n",
    "B = [\n",
    "    [5, 6],\n",
    "    [7, 8]\n",
    "]\n",
    "\n",
    "product = matrix_multiply(A, B)\n",
    "print(\"Product of matrices A and B is:\")\n",
    "for row in product:\n",
    "    print(row)\n",
    "\n",
    "# Feedback:\n",
    "# Rank: 10/10 - Your code correctly implements matrix multiplication.\n",
    "# It accurately checks the dimension compatibility between matrices A and B, initializes the result matrix, and performs the multiplication.\n",
    "# The example usage demonstrates the matrix multiplication and outputs the correct product.\n",
    "# The implementation is correct and meets the requirements of the exercise."
   ]
  },
  {
   "cell_type": "markdown",
   "metadata": {},
   "source": [
    "##### Exercise ( 5 )"
   ]
  },
  {
   "cell_type": "code",
   "execution_count": 36,
   "metadata": {},
   "outputs": [
    {
     "name": "stdout",
     "output_type": "stream",
     "text": [
      "Execution time: 0.139319 seconds\n",
      "Result: 499999500000\n"
     ]
    }
   ],
   "source": [
    "# Execution Time Decorator: Create a decorator function time_it that measures and prints the time a function takes to execute.\n",
    "\n",
    "import time\n",
    "\n",
    "def time_it(func):\n",
    "    def wrapper(*args, **kwargs):\n",
    "        start_time = time.time()  # Record the start time\n",
    "        result = func(*args, **kwargs)  # Call the function\n",
    "        end_time = time.time()  # Record the end time\n",
    "        elapsed_time = end_time - start_time  # Calculate the elapsed time\n",
    "        print(f\"Execution time: {elapsed_time:.6f} seconds\")  # Print the execution time\n",
    "        return result\n",
    "    return wrapper\n",
    "\n",
    "# Example usage\n",
    "@time_it\n",
    "def example_function(n):\n",
    "    total = 0\n",
    "    for i in range(n):\n",
    "        total += i\n",
    "    return total\n",
    "\n",
    "# Call the decorated function\n",
    "result = example_function(1000000)\n",
    "print(\"Result:\", result)"
   ]
  },
  {
   "cell_type": "code",
   "execution_count": 37,
   "metadata": {},
   "outputs": [
    {
     "name": "stdout",
     "output_type": "stream",
     "text": [
      "Execution time: 0.164951 seconds\n",
      "Result: 499999500000\n"
     ]
    }
   ],
   "source": [
    "# Corrected Code\n",
    "import time\n",
    "\n",
    "def time_it(func):\n",
    "    def wrapper(*args, **kwargs):\n",
    "        start_time = time.time()  # Record the start time\n",
    "        result = func(*args, **kwargs)  # Call the function\n",
    "        end_time = time.time()  # Record the end time\n",
    "        elapsed_time = end_time - start_time  # Calculate the elapsed time\n",
    "        print(f\"Execution time: {elapsed_time:.6f} seconds\")  # Print the execution time\n",
    "        return result\n",
    "    return wrapper\n",
    "\n",
    "# Example usage\n",
    "@time_it\n",
    "def example_function(n):\n",
    "    total = 0\n",
    "    for i in range(n):\n",
    "        total += i\n",
    "    return total\n",
    "\n",
    "# Call the decorated function\n",
    "result = example_function(1000000)\n",
    "print(\"Result:\", result)\n",
    "\n",
    "# Feedback:\n",
    "# Rank: 10/10 - Your code correctly implements a decorator to measure the execution time of a function.\n",
    "# The `time_it` decorator wraps the function, calculates the elapsed time, and prints it.\n",
    "# The `example_function` demonstrates the usage of the decorator and produces the correct result and timing.\n",
    "# The implementation is correct and meets the requirements of the exercise."
   ]
  },
  {
   "cell_type": "markdown",
   "metadata": {},
   "source": [
    "# 📝 **Comprehensive Python Functions Project**\n",
    "\n",
    "---\n",
    "\n",
    "## 🔍 **Project Overview**\n",
    "\n",
    "**Goal**: Develop a Python application that demonstrates advanced functionality with Python functions, including custom decorators, recursive functions, higher-order functions, lambda functions, and practical implementation.\n",
    "\n",
    "---\n",
    "\n",
    "## 🛠️ **Project Tasks**\n",
    "\n",
    "### 1. 🔗 **Custom Decorator**\n",
    "\n",
    "- **Objective**: Create a decorator to measure and print the execution time of any function.\n",
    "- **Code:**\n",
    "\n",
    "    ```python\n",
    "    import time\n",
    "\n",
    "    def time_it(func):\n",
    "        def wrapper(*args, **kwargs):\n",
    "            start_time = time.time()\n",
    "            result = func(*args, **kwargs)\n",
    "            end_time = time.time()\n",
    "            elapsed_time = end_time - start_time\n",
    "            print(f\"Execution time: {elapsed_time:.6f} seconds\")\n",
    "            return result\n",
    "        return wrapper\n",
    "    ```\n",
    "\n",
    "- **Usage Example:**\n",
    "\n",
    "    ```python\n",
    "    @time_it\n",
    "    def example_function(n):\n",
    "        total = 0\n",
    "        for i in range(n):\n",
    "            total += i\n",
    "        return total\n",
    "\n",
    "    result = example_function(1000000)\n",
    "    print(\"Result:\", result)\n",
    "    ```\n",
    "\n",
    "### 2. 🔄 **Recursive Function**\n",
    "\n",
    "- **Objective**: Implement a recursive function to compute the factorial of a number.\n",
    "- **Code:**\n",
    "\n",
    "    ```python\n",
    "    def factorial(n):\n",
    "        if n == 0:\n",
    "            return 1\n",
    "        return n * factorial(n - 1)\n",
    "    ```\n",
    "\n",
    "- **Usage Example:**\n",
    "\n",
    "    ```python\n",
    "    n = int(input(\"Enter a number to calculate its factorial: \"))\n",
    "    fact = factorial(n)\n",
    "    print(f\"The factorial of {n} is {fact}.\")\n",
    "    ```\n",
    "\n",
    "### 3. ⚙️ **Higher-Order Functions**\n",
    "\n",
    "- **Objective**: Create a higher-order function that applies a given function to a list of numbers.\n",
    "- **Code:**\n",
    "\n",
    "    ```python\n",
    "    def apply_function(func, numbers):\n",
    "        return [func(x) for x in numbers]\n",
    "    ```\n",
    "\n",
    "- **Usage Example:**\n",
    "\n",
    "    ```python\n",
    "    def square(x):\n",
    "        return x * x\n",
    "\n",
    "    numbers = [1, 2, 3, 4, 5]\n",
    "    squared_numbers = apply_function(square, numbers)\n",
    "    print(\"Squared numbers:\", squared_numbers)\n",
    "    ```\n",
    "\n",
    "### 4. 🔧 **Lambda Functions**\n",
    "\n",
    "- **Objective**: Use lambda functions for quick, anonymous operations.\n",
    "- **Code:**\n",
    "\n",
    "    ```python\n",
    "    # Lambda function to add two numbers\n",
    "    add = lambda x, y: x + y\n",
    "\n",
    "    print(\"Sum:\", add(10, 5))\n",
    "    ```\n",
    "\n",
    "### 5. 🔗 **Comprehensive Project**\n",
    "\n",
    "**Objective**: Integrate all advanced Python functions into a single project that demonstrates a complex use case. \n",
    "\n",
    "- **Description**:\n",
    "    - **Project**: Create a simple text-based calculator that uses decorators, recursive functions, higher-order functions, and lambda functions.\n",
    "\n",
    "- **Code:**\n",
    "\n",
    "    ```python\n",
    "    import time\n",
    "\n",
    "    # Custom Decorator\n",
    "    def time_it(func):\n",
    "        def wrapper(*args, **kwargs):\n",
    "            start_time = time.time()\n",
    "            result = func(*args, **kwargs)\n",
    "            end_time = time.time()\n",
    "            elapsed_time = end_time - start_time\n",
    "            print(f\"Execution time: {elapsed_time:.6f} seconds\")\n",
    "            return result\n",
    "        return wrapper\n",
    "\n",
    "    # Recursive Function to Compute Factorial\n",
    "    def factorial(n):\n",
    "        if n == 0:\n",
    "            return 1\n",
    "        return n * factorial(n - 1)\n",
    "\n",
    "    # Higher-Order Function\n",
    "    def apply_function(func, numbers):\n",
    "        return [func(x) for x in numbers]\n",
    "\n",
    "    # Lambda Function\n",
    "    add = lambda x, y: x + y\n",
    "\n",
    "    # Calculator Functions\n",
    "    @time_it\n",
    "    def calculator():\n",
    "        while True:\n",
    "            print(\"\\nOptions:\")\n",
    "            print(\"1. Factorial\")\n",
    "            print(\"2. Square Numbers\")\n",
    "            print(\"3. Add Two Numbers\")\n",
    "            print(\"4. Exit\")\n",
    "\n",
    "            choice = input(\"Enter choice (1/2/3/4): \")\n",
    "\n",
    "            if choice == '1':\n",
    "                n = int(input(\"Enter a number: \"))\n",
    "                print(f\"Factorial of {n} is {factorial(n)}\")\n",
    "            elif choice == '2':\n",
    "                numbers = list(map(int, input(\"Enter numbers separated by space: \").split()))\n",
    "                squared_numbers = apply_function(lambda x: x * x, numbers)\n",
    "                print(\"Squared numbers:\", squared_numbers)\n",
    "            elif choice == '3':\n",
    "                x = int(input(\"Enter first number: \"))\n",
    "                y = int(input(\"Enter second number: \"))\n",
    "                print(f\"Sum: {add(x, y)}\")\n",
    "            elif choice == '4':\n",
    "                print(\"Exiting...\")\n",
    "                break\n",
    "            else:\n",
    "                print(\"Invalid choice. Please try again.\")\n",
    "\n",
    "    # Run the Calculator\n",
    "    calculator()\n",
    "    ```\n",
    "\n",
    "---\n",
    "\n",
    "## 📚 **Summary**\n",
    "\n",
    "In this project, we explored advanced Python functions by:\n",
    "- **Creating a custom decorator** to measure function execution time.\n",
    "- **Implementing recursive functions** to solve problems like factorial calculation.\n",
    "- **Using higher-order functions** to apply operations to lists.\n",
    "- **Employing lambda functions** for concise operations.\n",
    "- **Combining all these concepts** into a practical text-based calculator application.\n",
    "\n",
    "This project demonstrates the versatility and power of Python functions and showcases how they can be used in real-world scenarios."
   ]
  },
  {
   "cell_type": "markdown",
   "metadata": {},
   "source": [
    "## **Project Code :**"
   ]
  },
  {
   "cell_type": "code",
   "execution_count": 38,
   "metadata": {},
   "outputs": [
    {
     "name": "stdout",
     "output_type": "stream",
     "text": [
      "\n",
      "Options:\n",
      "1. Factorial\n",
      "2. Square Numbers\n",
      "3. Add Two Numbers\n",
      "4. Exit\n",
      "Factorial of 10 is 3628800\n",
      "\n",
      "Options:\n",
      "1. Factorial\n",
      "2. Square Numbers\n",
      "3. Add Two Numbers\n",
      "4. Exit\n",
      "Squared numbers: [400]\n",
      "\n",
      "Options:\n",
      "1. Factorial\n",
      "2. Square Numbers\n",
      "3. Add Two Numbers\n",
      "4. Exit\n",
      "Sum: 24\n",
      "\n",
      "Options:\n",
      "1. Factorial\n",
      "2. Square Numbers\n",
      "3. Add Two Numbers\n",
      "4. Exit\n",
      "Invalid choice. Please try again.\n",
      "\n",
      "Options:\n",
      "1. Factorial\n",
      "2. Square Numbers\n",
      "3. Add Two Numbers\n",
      "4. Exit\n",
      "Exiting...\n",
      "Execution time: 16.959045 seconds\n"
     ]
    }
   ],
   "source": [
    "import time\n",
    "\n",
    "# Custom Decorator\n",
    "def time_it(func):\n",
    "    def wrapper(*args, **kwargs):\n",
    "        start_time = time.time()\n",
    "        result = func(*args, **kwargs)\n",
    "        end_time = time.time()\n",
    "        elapsed_time = end_time - start_time\n",
    "        print(f\"Execution time: {elapsed_time:.6f} seconds\")\n",
    "        return result\n",
    "    return wrapper\n",
    "\n",
    "# Recursive Function to Compute Factorial\n",
    "def factorial(n):\n",
    "    if n == 0:\n",
    "        return 1\n",
    "    return n * factorial(n - 1)\n",
    "\n",
    "# Higher-Order Function\n",
    "def apply_function(func, numbers):\n",
    "    return [func(x) for x in numbers]\n",
    "\n",
    "# Lambda Function\n",
    "add = lambda x, y: x + y\n",
    "\n",
    "# Calculator Functions\n",
    "@time_it\n",
    "def calculator():\n",
    "    while True:\n",
    "        print(\"\\nOptions:\")\n",
    "        print(\"1. Factorial\")\n",
    "        print(\"2. Square Numbers\")\n",
    "        print(\"3. Add Two Numbers\")\n",
    "        print(\"4. Exit\")\n",
    "\n",
    "        choice = input(\"Enter choice (1/2/3/4): \")\n",
    "\n",
    "        if choice == '1':\n",
    "            n = int(input(\"Enter a number: \"))\n",
    "            print(f\"Factorial of {n} is {factorial(n)}\")\n",
    "        elif choice == '2':\n",
    "            numbers = list(map(int, input(\"Enter numbers separated by space: \").split()))\n",
    "            squared_numbers = apply_function(lambda x: x * x, numbers)\n",
    "            print(\"Squared numbers:\", squared_numbers)\n",
    "        elif choice == '3':\n",
    "            x = int(input(\"Enter first number: \"))\n",
    "            y = int(input(\"Enter second number: \"))\n",
    "            print(f\"Sum: {add(x, y)}\")\n",
    "        elif choice == '4':\n",
    "            print(\"Exiting...\")\n",
    "            break\n",
    "        else:\n",
    "            print(\"Invalid choice. Please try again.\")\n",
    "\n",
    "# Run the Calculator\n",
    "calculator()"
   ]
  },
  {
   "cell_type": "code",
   "execution_count": null,
   "metadata": {},
   "outputs": [],
   "source": []
  }
 ],
 "metadata": {
  "kernelspec": {
   "display_name": "Python 3",
   "language": "python",
   "name": "python3"
  },
  "language_info": {
   "codemirror_mode": {
    "name": "ipython",
    "version": 3
   },
   "file_extension": ".py",
   "mimetype": "text/x-python",
   "name": "python",
   "nbconvert_exporter": "python",
   "pygments_lexer": "ipython3",
   "version": "3.12.2"
  }
 },
 "nbformat": 4,
 "nbformat_minor": 2
}
