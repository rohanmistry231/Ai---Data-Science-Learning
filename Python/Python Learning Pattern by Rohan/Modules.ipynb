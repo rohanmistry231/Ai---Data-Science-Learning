{
 "cells": [
  {
   "cell_type": "markdown",
   "metadata": {},
   "source": [
    "# **Python Modules**\n",
    "\n",
    "---\n",
    "\n",
    "### **1. What are Modules?**\n",
    "- **Purpose**: Modules are files containing Python code that can define functions, classes, and variables. They help organize code into manageable sections and allow for reuse across different programs.\n",
    "- **Syntax**:\n",
    "    ```python\n",
    "    # my_module.py\n",
    "    def greet(name):\n",
    "        return f\"Hello, {name}!\"\n",
    "    ```\n",
    "- **Example**:\n",
    "    ```python\n",
    "    # main.py\n",
    "    import my_module\n",
    "    print(my_module.greet(\"Alice\"))\n",
    "    ```\n",
    "    This example shows how to create and use a simple module.\n",
    "\n",
    "---\n",
    "\n",
    "### **2. Creating a Module**\n",
    "- **Purpose**: To create a module, save a Python script with a `.py` extension. For example, `my_module.py` can be created and imported in other scripts.\n",
    "- **Syntax**:\n",
    "    ```python\n",
    "    # my_module.py\n",
    "    def add(x, y):\n",
    "        return x + y\n",
    "    ```\n",
    "- **Example**:\n",
    "    ```python\n",
    "    # main.py\n",
    "    import my_module\n",
    "    result = my_module.add(5, 3)\n",
    "    print(result)  # Output: 8\n",
    "    ```\n",
    "\n",
    "---\n",
    "\n",
    "### **3. Importing Modules**\n",
    "- **Purpose**: To use code from another module, import it into your script.\n",
    "- **Syntax**:\n",
    "    ```python\n",
    "    import module_name\n",
    "    from module_name import function_name\n",
    "    from module_name import *\n",
    "    import module_name as alias\n",
    "    ```\n",
    "- **Examples**:\n",
    "    - **Importing the Entire Module**:\n",
    "        ```python\n",
    "        import math\n",
    "        print(math.sqrt(25))  # Output: 5.0\n",
    "        ```\n",
    "    - **Importing Specific Functions**:\n",
    "        ```python\n",
    "        from math import sqrt\n",
    "        print(sqrt(49))  # Output: 7.0\n",
    "        ```\n",
    "    - **Importing with an Alias**:\n",
    "        ```python\n",
    "        import math as m\n",
    "        print(m.factorial(5))  # Output: 120\n",
    "        ```\n",
    "\n",
    "---\n",
    "\n",
    "### **4. Creating and Using Your Own Modules**\n",
    "- **Purpose**: Define functions, classes, or variables in your module and use them in other scripts.\n",
    "- **Syntax**:\n",
    "    ```python\n",
    "    # my_module.py\n",
    "    def greet(name):\n",
    "        return f\"Hello, {name}!\"\n",
    "    ```\n",
    "    ```python\n",
    "    # main.py\n",
    "    import my_module\n",
    "    print(my_module.greet(\"Alice\"))\n",
    "    ```\n",
    "- **Example**:\n",
    "    ```python\n",
    "    # my_module.py\n",
    "    def add(x, y):\n",
    "        return x + y\n",
    "    ```\n",
    "\n",
    "    ```python\n",
    "    # main.py\n",
    "    import my_module\n",
    "    print(my_module.add(10, 5))  # Output: 15\n",
    "    ```\n",
    "\n",
    "---\n",
    "\n",
    "### **5. Built-in Modules**\n",
    "- **Purpose**: Python includes several built-in modules that provide standard functionality.\n",
    "- **Examples**:\n",
    "    - **`math`**: Provides mathematical functions.\n",
    "        ```python\n",
    "        import math\n",
    "        print(math.pi)  # Output: 3.141592653589793\n",
    "        ```\n",
    "    - **`datetime`**: Handles dates and times.\n",
    "        ```python\n",
    "        import datetime\n",
    "        print(datetime.date.today())  # Output: Current date\n",
    "        ```\n",
    "    - **`os`**: Interacts with the operating system.\n",
    "        ```python\n",
    "        import os\n",
    "        print(os.getcwd())  # Output: Current working directory\n",
    "        ```\n",
    "\n",
    "---\n",
    "\n",
    "### **6. Exploring Module Contents**\n",
    "- **Purpose**: To explore what functions and variables a module has.\n",
    "- **Syntax**:\n",
    "    ```python\n",
    "    import module_name\n",
    "    print(dir(module_name))\n",
    "    ```\n",
    "- **Example**:\n",
    "    ```python\n",
    "    import math\n",
    "    print(dir(math))  # Output: List of attributes and methods in the math module\n",
    "    ```\n",
    "\n",
    "---\n",
    "\n",
    "### **7. Handling Module Errors**\n",
    "- **Purpose**: Handle errors when importing or using modules.\n",
    "- **Syntax**:\n",
    "    ```python\n",
    "    try:\n",
    "        import non_existent_module\n",
    "    except ImportError:\n",
    "        print(\"Module not found.\")\n",
    "    ```\n",
    "- **Example**:\n",
    "    ```python\n",
    "    try:\n",
    "        import math\n",
    "    except ImportError:\n",
    "        print(\"Math module is not available.\")\n",
    "    else:\n",
    "        print(math.sqrt(16))  # Output: 4.0\n",
    "    ```\n",
    "\n",
    "---\n",
    "\n",
    "### **8. Custom Module Path**\n",
    "- **Purpose**: Include custom module paths to import modules from non-standard locations.\n",
    "- **Syntax**:\n",
    "    ```python\n",
    "    import sys\n",
    "    sys.path.append('/path/to/your/modules')\n",
    "    import my_module\n",
    "    ```\n",
    "- **Example**:\n",
    "    ```python\n",
    "    import sys\n",
    "    sys.path.append('/home/user/my_modules')\n",
    "    import custom_module\n",
    "    print(custom_module.some_function())\n",
    "    ```\n",
    "\n",
    "---\n",
    "\n",
    "### **9. Module Reloading**\n",
    "- **Purpose**: Reload a module after modifying it.\n",
    "- **Syntax**:\n",
    "    ```python\n",
    "    import importlib\n",
    "    import my_module\n",
    "    importlib.reload(my_module)\n",
    "    ```\n",
    "- **Example**:\n",
    "    ```python\n",
    "    import importlib\n",
    "    import my_module\n",
    "    importlib.reload(my_module)\n",
    "    ```\n",
    "\n",
    "---\n",
    "\n",
    "### **10. Package Creation**\n",
    "- **Purpose**: Organize related modules into a package.\n",
    "- **Syntax**:\n",
    "    ```plaintext\n",
    "    mypackage/\n",
    "        __init__.py\n",
    "        module1.py\n",
    "        module2.py\n",
    "    ```\n",
    "- **Example**:\n",
    "    ```python\n",
    "    # mypackage/module1.py\n",
    "    def func1():\n",
    "        return \"Function 1\"\n",
    "    ```\n",
    "\n",
    "    ```python\n",
    "    # mypackage/module2.py\n",
    "    def func2():\n",
    "        return \"Function 2\"\n",
    "    ```\n",
    "\n",
    "    ```python\n",
    "    # main.py\n",
    "    from mypackage import module1, module2\n",
    "    print(module1.func1())  # Output: Function 1\n",
    "    print(module2.func2())  # Output: Function 2\n",
    "    ```\n",
    "\n",
    "---\n",
    "\n",
    "**Summary**: Modules are crucial for structuring and reusing Python code. Understanding how to create, import, and utilize modules and packages is fundamental for efficient programming in Python."
   ]
  },
  {
   "cell_type": "markdown",
   "metadata": {},
   "source": [
    "# **Python Modules Exercises**\n",
    "\n",
    "## 📚 **Introduction**\n",
    "\n",
    "In this section, you will find exercises designed to help you practice and master various concepts related to Python modules. The exercises are categorized into three levels of difficulty: **Beginner**, **Intermediate**, and **Advanced**. Each level focuses on different aspects of module creation, importing, and usage."
   ]
  },
  {
   "cell_type": "markdown",
   "metadata": {},
   "source": [
    "---\n",
    "\n",
    "## 🏆 **Beginner Level**\n",
    "\n",
    "### **1. Create a Simple Module**\n",
    "- **Objective**: Create a module with a single function that returns a greeting message.\n",
    "- **Instructions**:\n",
    "  - Create a file named `greetings.py`.\n",
    "  - Define a function `say_hello(name)` that returns `\"Hello, {name}!\"`.\n",
    "  - Import and use this function in another script.\n",
    "\n",
    "### **2. Import and Use a Module**\n",
    "- **Objective**: Import a predefined module and use one of its functions.\n",
    "- **Instructions**:\n",
    "  - Import the `math` module in a script.\n",
    "  - Use the `sqrt` function from the `math` module to calculate the square root of 16 and print the result.\n",
    "\n",
    "### **3. Import Specific Functions**\n",
    "- **Objective**: Import and use a specific function from a module.\n",
    "- **Instructions**:\n",
    "  - Create a module named `math_operations.py`.\n",
    "  - Define a function `add(x, y)` that returns the sum of two numbers.\n",
    "  - Import only the `add` function in a script and use it to add two numbers.\n",
    "\n",
    "### **4. Import Module with an Alias**\n",
    "- **Objective**: Import a module with an alias and use its functions.\n",
    "- **Instructions**:\n",
    "  - Import the `datetime` module with an alias `dt`.\n",
    "  - Use `dt.datetime.now()` to print the current date and time.\n",
    "\n",
    "### **5. Explore Module Contents**\n",
    "- **Objective**: Explore and print the contents of a module.\n",
    "- **Instructions**:\n",
    "  - Import the `os` module.\n",
    "  - Use the `dir()` function to list all the attributes and methods available in the `os` module.\n",
    "\n",
    "---"
   ]
  },
  {
   "cell_type": "markdown",
   "metadata": {},
   "source": [
    "### ***Level : Beginner***"
   ]
  },
  {
   "cell_type": "markdown",
   "metadata": {},
   "source": [
    "##### Exercise ( 1 )"
   ]
  },
  {
   "cell_type": "code",
   "execution_count": 1,
   "metadata": {},
   "outputs": [
    {
     "data": {
      "text/plain": [
       "30"
      ]
     },
     "execution_count": 1,
     "metadata": {},
     "output_type": "execute_result"
    }
   ],
   "source": [
    "# Create a module named simple_math.py with a function add(x, y) that returns the sum of x and y.\n",
    "\n",
    "# module: simple_math.py\n",
    "def add(x, y):\n",
    "    return x + y\n",
    "\n",
    "# Main script\n",
    "from simple_math import add\n",
    "result = add(10, 20)\n",
    "print(result)"
   ]
  },
  {
   "cell_type": "code",
   "execution_count": null,
   "metadata": {},
   "outputs": [
    {
     "name": "stdout",
     "output_type": "stream",
     "text": [
      "Type of _int: <class 'int'>\n",
      "Type of _float: <class 'float'>\n",
      "Type of _str: <class 'str'>\n",
      "Type of _list: <class 'list'>\n",
      "Type of _tuple: <class 'tuple'>\n",
      "Type of _dict: <class 'dict'>\n",
      "Type of _set: <class 'set'>\n",
      "Type of _bool: <class 'bool'>\n"
     ]
    }
   ],
   "source": [
    "# module: simple_math.py\n",
    "def add(x, y):\n",
    "    return x + y\n",
    "\n",
    "# Main script\n",
    "from simple_math import add\n",
    "result = add(10, 20)\n",
    "print(result)\n",
    "\n",
    "# Feedback:\n",
    "# Rank: 9/10 - Your code correctly defines the `add` function in `simple_math.py` and imports it into the main script.\n",
    "# It performs the addition operation as intended and prints the result.\n",
    "# The code is functional and meets the requirements. No improvements are necessary."
   ]
  },
  {
   "cell_type": "markdown",
   "metadata": {},
   "source": [
    "##### Exercise ( 2 )"
   ]
  },
  {
   "cell_type": "code",
   "execution_count": 3,
   "metadata": {},
   "outputs": [
    {
     "name": "stdout",
     "output_type": "stream",
     "text": [
      "3\n"
     ]
    }
   ],
   "source": [
    "# Import the random module and use the randint function to generate a random integer between 1 and 10.\n",
    "\n",
    "from random import randint\n",
    "\n",
    "random_number = randint(1,10)\n",
    "print(random_number)"
   ]
  },
  {
   "cell_type": "code",
   "execution_count": null,
   "metadata": {},
   "outputs": [
    {
     "name": "stdout",
     "output_type": "stream",
     "text": [
      "10 <class 'int'>\n",
      "10 <class 'int'>\n",
      "10 <class 'str'>\n"
     ]
    }
   ],
   "source": [
    "from random import randint\n",
    "\n",
    "random_number = randint(1, 10)\n",
    "print(random_number)\n",
    "\n",
    "# Feedback:\n",
    "# Rank: 9/10 - Your code correctly imports the `randint` function from the `random` module and generates a random number between 1 and 10.\n",
    "# It then prints the generated number as required.\n",
    "# The code is functional and meets the exercise's requirements. The only improvement could be adding comments to explain the code's purpose."
   ]
  },
  {
   "cell_type": "markdown",
   "metadata": {},
   "source": [
    "##### Exercise ( 3 )"
   ]
  },
  {
   "cell_type": "code",
   "execution_count": 4,
   "metadata": {},
   "outputs": [
    {
     "data": {
      "text/plain": [
       "120"
      ]
     },
     "execution_count": 4,
     "metadata": {},
     "output_type": "execute_result"
    }
   ],
   "source": [
    "# Import the math module with the alias m and use it to calculate the factorial of a number (e.g., 5).\n",
    "\n",
    "import math as m\n",
    "\n",
    "m.factorial(5)"
   ]
  },
  {
   "cell_type": "code",
   "execution_count": null,
   "metadata": {},
   "outputs": [
    {
     "name": "stdout",
     "output_type": "stream",
     "text": [
      "[1, 2, 3, 5, 6, 7]\n",
      "4\n"
     ]
    }
   ],
   "source": [
    "import math as m\n",
    "\n",
    "result = m.factorial(5)\n",
    "print(result)\n",
    "\n",
    "# Feedback:\n",
    "# Rank: 9/10 - Your code correctly imports the `math` module with an alias `m` and uses the `factorial` function to compute the factorial of 5.\n",
    "# The result is calculated correctly, but it should be printed to verify the output.\n",
    "# Adding `print(result)` ensures that the result of the factorial calculation is visible."
   ]
  },
  {
   "cell_type": "markdown",
   "metadata": {},
   "source": [
    "##### Exercise ( 4 )"
   ]
  },
  {
   "cell_type": "code",
   "execution_count": 5,
   "metadata": {},
   "outputs": [
    {
     "data": {
      "text/plain": [
       "7.0"
      ]
     },
     "execution_count": 5,
     "metadata": {},
     "output_type": "execute_result"
    }
   ],
   "source": [
    "# Import Specific Function: Import only the sqrt function from the math module and use it to calculate the square root of 49.\n",
    "\n",
    "from math import sqrt\n",
    "\n",
    "sqrt(49)"
   ]
  },
  {
   "cell_type": "code",
   "execution_count": null,
   "metadata": {},
   "outputs": [
    {
     "name": "stdout",
     "output_type": "stream",
     "text": [
      "HELLO I AM A STRING\n",
      "19\n",
      "Hey I am a String\n"
     ]
    }
   ],
   "source": [
    "from math import sqrt\n",
    "\n",
    "result = sqrt(49)\n",
    "print(result)\n",
    "\n",
    "# Feedback:\n",
    "# Rank: 9/10 - Your code correctly imports the `sqrt` function from the `math` module and calculates the square root of 49.\n",
    "# The result is accurate, but it should be printed to verify the output.\n",
    "# Adding `print(result)` ensures that the result of the square root calculation is visible."
   ]
  },
  {
   "cell_type": "markdown",
   "metadata": {},
   "source": [
    "##### Exercise ( 5 )"
   ]
  },
  {
   "cell_type": "code",
   "execution_count": 9,
   "metadata": {},
   "outputs": [
    {
     "ename": "ImportError",
     "evalue": "cannot import name 'say_hello' from 'greetings' (c:\\Users\\rohan\\OneDrive\\Desktop\\Python Practice\\greetings.py)",
     "output_type": "error",
     "traceback": [
      "\u001b[1;31m---------------------------------------------------------------------------\u001b[0m",
      "\u001b[1;31mImportError\u001b[0m                               Traceback (most recent call last)",
      "Cell \u001b[1;32mIn[9], line 8\u001b[0m\n\u001b[0;32m      1\u001b[0m \u001b[38;5;66;03m# Basic Module Practice: Create a module named greetings.py with a function say_hello() that prints \"Hello, World!\".\u001b[39;00m\n\u001b[0;32m      2\u001b[0m \u001b[38;5;66;03m# Import this function and call it in another script.\u001b[39;00m\n\u001b[0;32m      3\u001b[0m \n\u001b[0;32m      4\u001b[0m \u001b[38;5;66;03m# module: greetings.py\u001b[39;00m\n\u001b[0;32m      5\u001b[0m \u001b[38;5;66;03m# def say_hello():\u001b[39;00m\n\u001b[0;32m      6\u001b[0m \u001b[38;5;66;03m#     print(\"Hello, World!\")\u001b[39;00m\n\u001b[1;32m----> 8\u001b[0m \u001b[38;5;28;01mfrom\u001b[39;00m \u001b[38;5;21;01mgreetings\u001b[39;00m \u001b[38;5;28;01mimport\u001b[39;00m say_hello\n\u001b[0;32m      9\u001b[0m say_hello()\n",
      "\u001b[1;31mImportError\u001b[0m: cannot import name 'say_hello' from 'greetings' (c:\\Users\\rohan\\OneDrive\\Desktop\\Python Practice\\greetings.py)"
     ]
    }
   ],
   "source": [
    "# Basic Module Practice: Create a module named greetings.py with a function say_hello() that prints \"Hello, World!\".\n",
    "# Import this function and call it in another script.\n",
    "\n",
    "# module: greetings.py\n",
    "# def say_hello():\n",
    "#     print(\"Hello, World!\")\n",
    "\n",
    "from greetings import say_hello\n",
    "say_hello()"
   ]
  },
  {
   "cell_type": "code",
   "execution_count": null,
   "metadata": {},
   "outputs": [],
   "source": [
    "def say_hello():\n",
    "    print(\"Hello, World!\")\n",
    "\n",
    "# Main script\n",
    "from greetings import say_hello\n",
    "say_hello()\n",
    "\n",
    "# Feedback:\n",
    "# Rank: 9/10 - Your code correctly defines the `say_hello` function and imports it from the `greetings` module.\n",
    "# It calls the function to print \"Hello, World!\" as expected. The code is functional and meets the exercise's requirements.\n",
    "# Ensure that the `greetings.py` file is in the same directory or Python path where this script runs."
   ]
  },
  {
   "cell_type": "markdown",
   "metadata": {},
   "source": [
    "---\n",
    "\n",
    "## 🌟 **Intermediate Level**\n",
    "\n",
    "### **1. Calculate Factorial Using a Custom Module**\n",
    "- **Objective**: Create a module that calculates the factorial of a number.\n",
    "- **Instructions**:\n",
    "  - Create a file named `factorial_module.py`.\n",
    "  - Define a function `factorial(n)` that returns the factorial of `n`.\n",
    "  - Import this module in a script and use it to calculate the factorial of 5.\n",
    "\n",
    "### **2. Handle Import Errors**\n",
    "- **Objective**: Handle errors when importing a module.\n",
    "- **Instructions**:\n",
    "  - Attempt to import a non-existent module.\n",
    "  - Use a `try...except` block to handle the `ImportError` and print an error message.\n",
    "\n",
    "### **3. Reload a Module**\n",
    "- **Objective**: Modify and reload a module after changes.\n",
    "- **Instructions**:\n",
    "  - Create a module named `counter.py` with a function that prints a count.\n",
    "  - Import and use this module.\n",
    "  - Modify the module to include additional functionality and reload it using `importlib`.\n",
    "\n",
    "### **4. Create a Module with Multiple Functions**\n",
    "- **Objective**: Create a module with multiple functions for basic arithmetic operations.\n",
    "- **Instructions**:\n",
    "  - Create a file named `arithmetic.py`.\n",
    "  - Define functions for addition, subtraction, multiplication, and division.\n",
    "  - Import and use these functions in a script.\n",
    "\n",
    "### **5. Use a Module from a Custom Path**\n",
    "- **Objective**: Import a module from a custom directory.\n",
    "- **Instructions**:\n",
    "  - Save a module file `custom_module.py` in a custom directory.\n",
    "  - Add the custom directory to `sys.path`.\n",
    "  - Import and use a function from `custom_module.py`.\n",
    "\n",
    "---"
   ]
  },
  {
   "cell_type": "markdown",
   "metadata": {},
   "source": [
    "### ***Level : Intermediate***"
   ]
  },
  {
   "cell_type": "markdown",
   "metadata": {},
   "source": [
    "##### Exercise ( 1 )"
   ]
  },
  {
   "cell_type": "code",
   "execution_count": null,
   "metadata": {},
   "outputs": [
    {
     "name": "stdout",
     "output_type": "stream",
     "text": [
      "The factorial of 5 is 120.\n"
     ]
    }
   ],
   "source": [
    "# Factorial of a number: Write a for loop to calculate the factorial of a given number n.\n",
    "\n",
    "def factorial(n):\n",
    "    result = 1\n",
    "    for i in range(1, n + 1):\n",
    "        result *= i  \n",
    "    return result\n",
    "\n",
    "\n",
    "n = int(input(\"Enter a number to calculate its factorial: \"))\n",
    "fact = factorial(n)\n",
    "print(f\"The factorial of {n} is {fact}.\")\n",
    "     "
   ]
  },
  {
   "cell_type": "code",
   "execution_count": null,
   "metadata": {},
   "outputs": [
    {
     "name": "stdout",
     "output_type": "stream",
     "text": [
      "The factorial of 5 is 120.\n"
     ]
    }
   ],
   "source": [
    "# Original Code\n",
    "def factorial(n):\n",
    "    result = 1\n",
    "    for i in range(1, n + 1):\n",
    "        result *= i  \n",
    "    return result\n",
    "\n",
    "n = int(input(\"Enter a number to calculate its factorial: \"))\n",
    "fact = factorial(n)\n",
    "print(f\"The factorial of {n} is {fact}.\")\n",
    "\n",
    "# Feedback:\n",
    "# Rank: 10/10 - Your code correctly calculates the factorial of a given number using a `for` loop.\n",
    "# The `factorial` function is well-structured, and the loop correctly multiplies each number from 1 to `n`.\n",
    "# The use of `input()` to get the user's number and `print()` to display the result is appropriate.\n",
    "# The implementation is accurate and meets the requirements of the exercise."
   ]
  },
  {
   "cell_type": "markdown",
   "metadata": {},
   "source": [
    "##### Exercise ( 2 )"
   ]
  },
  {
   "cell_type": "code",
   "execution_count": null,
   "metadata": {},
   "outputs": [
    {
     "name": "stdout",
     "output_type": "stream",
     "text": [
      "The sum of the digits is 1.\n"
     ]
    }
   ],
   "source": [
    "# Sum of digits: Write a while loop that calculates the sum of the digits of a given number.\n",
    "\n",
    "num = int(input(\"Enter a number to calculate the sum of its digits: \"))\n",
    "sum_digits = 0\n",
    "\n",
    "while num > 0:\n",
    "    sum_digits += num % 10\n",
    "    num = num // 10\n",
    "\n",
    "print(f\"The sum of the digits is {sum_digits}.\")\n"
   ]
  },
  {
   "cell_type": "code",
   "execution_count": null,
   "metadata": {},
   "outputs": [
    {
     "name": "stdout",
     "output_type": "stream",
     "text": [
      "[1, 2, 3, 4, 5, 6, 7, 8, 9, 10]\n"
     ]
    }
   ],
   "source": [
    "# Original Code\n",
    "num = int(input(\"Enter a number to calculate the sum of its digits: \"))\n",
    "sum_digits = 0\n",
    "\n",
    "while num > 0:\n",
    "    sum_digits += num % 10\n",
    "    num = num // 10\n",
    "\n",
    "print(f\"The sum of the digits is {sum_digits}.\")\n",
    "\n",
    "# Feedback:\n",
    "# Rank: 10/10 - Your code correctly calculates the sum of the digits of the given number.\n",
    "# The use of `num % 10` to extract the last digit and `num = num // 10` to remove the last digit is accurate.\n",
    "# The `while` loop is appropriately used to iterate through all digits of the number.\n",
    "# The implementation is correct and meets the requirements of the exercise."
   ]
  },
  {
   "cell_type": "markdown",
   "metadata": {},
   "source": [
    "##### Exercise ( 3 )"
   ]
  },
  {
   "cell_type": "code",
   "execution_count": null,
   "metadata": {},
   "outputs": [
    {
     "name": "stdout",
     "output_type": "stream",
     "text": [
      "The largest number in the list is: 9\n"
     ]
    }
   ],
   "source": [
    "# Find the largest number in a list: Write a for loop to find the largest number in a list numbers = [3, 1, 4, 1, 5, 9, 2, 6, 5].\n",
    "\n",
    "numbers = [3, 1, 4, 1, 5, 9, 2, 6, 5]\n",
    "max_number = numbers[0]\n",
    "\n",
    "for number in numbers:\n",
    "    if number > max_number:\n",
    "        max_number = number\n",
    "\n",
    "print(\"The largest number in the list is:\", max_number)"
   ]
  },
  {
   "cell_type": "code",
   "execution_count": null,
   "metadata": {},
   "outputs": [
    {
     "name": "stdout",
     "output_type": "stream",
     "text": [
      "Union of Set = {1, 2, 3, 4, 5}\n",
      "Intersection of Set = {3}\n",
      "Difference of Set = {1, 2}\n"
     ]
    }
   ],
   "source": [
    "# Original Code\n",
    "numbers = [3, 1, 4, 1, 5, 9, 2, 6, 5]\n",
    "max_number = numbers[0]\n",
    "\n",
    "for number in numbers:\n",
    "    if number > max_number:\n",
    "        max_number = number\n",
    "\n",
    "print(\"The largest number in the list is:\", max_number)\n",
    "\n",
    "# Feedback:\n",
    "# Rank: 10/10 - Your code correctly identifies the largest number in the list using a `for` loop.\n",
    "# Initializing `max_number` with the first element of the list is a good approach.\n",
    "# The loop effectively compares each element with `max_number` and updates it when a larger value is found.\n",
    "# The implementation is accurate and meets the requirements of the exercise."
   ]
  },
  {
   "cell_type": "markdown",
   "metadata": {},
   "source": [
    "##### Exercise ( 4 )"
   ]
  },
  {
   "cell_type": "code",
   "execution_count": null,
   "metadata": {},
   "outputs": [
    {
     "name": "stdout",
     "output_type": "stream",
     "text": [
      "2\n",
      "3\n",
      "5\n",
      "7\n",
      "11\n",
      "13\n",
      "17\n",
      "19\n",
      "23\n",
      "29\n",
      "31\n",
      "37\n",
      "41\n",
      "43\n",
      "47\n"
     ]
    }
   ],
   "source": [
    "# Prime numbers between 2 and 50: Write a for loop to print all prime numbers between 2 and 50.\n",
    "\n",
    "# Loop through numbers from 2 to 50\n",
    "for num in range(2, 51):\n",
    "    # Assume num is prime\n",
    "    is_prime = True\n",
    "    # Check divisibility from 2 to num-1\n",
    "    for i in range(2, num):\n",
    "        if num % i == 0:\n",
    "            is_prime = False\n",
    "            break\n",
    "    # Print num if it's prime\n",
    "    if is_prime:\n",
    "        print(num)"
   ]
  },
  {
   "cell_type": "code",
   "execution_count": null,
   "metadata": {},
   "outputs": [
    {
     "name": "stdout",
     "output_type": "stream",
     "text": [
      "2\n",
      "3\n",
      "5\n",
      "7\n",
      "11\n",
      "13\n",
      "17\n",
      "19\n",
      "23\n",
      "29\n",
      "31\n",
      "37\n",
      "41\n",
      "43\n",
      "47\n"
     ]
    }
   ],
   "source": [
    "# Corrected Code\n",
    "import math\n",
    "\n",
    "for num in range(2, 51):\n",
    "    is_prime = True\n",
    "    for i in range(2, int(math.sqrt(num)) + 1):\n",
    "        if num % i == 0:\n",
    "            is_prime = False\n",
    "            break\n",
    "    if is_prime:\n",
    "        print(num)\n",
    "        \n",
    "# Feedback:\n",
    "# Rank: 10/10 - Your code correctly identifies and prints prime numbers between 2 and 50.\n",
    "# The logic of assuming a number is prime and then checking for divisibility is appropriate.\n",
    "# The implementation is accurate and meets the requirements of the exercise."
   ]
  },
  {
   "cell_type": "markdown",
   "metadata": {},
   "source": [
    "##### Exercise ( 5 )"
   ]
  },
  {
   "cell_type": "code",
   "execution_count": null,
   "metadata": {},
   "outputs": [
    {
     "name": "stdout",
     "output_type": "stream",
     "text": [
      "11 * 1 = 11\n",
      "11 * 2 = 22\n",
      "11 * 3 = 33\n",
      "11 * 4 = 44\n",
      "11 * 5 = 55\n",
      "11 * 6 = 66\n",
      "11 * 7 = 77\n",
      "11 * 8 = 88\n",
      "11 * 9 = 99\n",
      "11 * 10 = 110\n"
     ]
    }
   ],
   "source": [
    "# Multiplication table: Write a for loop to print the multiplication table for a given number n.\n",
    "\n",
    "number = int(input(\"Give the Number that you want to print the Multiplication Table\"))\n",
    "\n",
    "for i in range(1,11):\n",
    "    print(f\"{number} * {i} = {number*i}\")"
   ]
  },
  {
   "cell_type": "code",
   "execution_count": null,
   "metadata": {},
   "outputs": [
    {
     "name": "stdout",
     "output_type": "stream",
     "text": [
      "{1: 1, 2: 4, 3: 9, 4: 16, 5: 25}\n"
     ]
    }
   ],
   "source": [
    "# Corrected Code\n",
    "number = int(input(\"Give the Number that you want to print the Multiplication Table: \"))\n",
    "\n",
    "for i in range(1, 11):\n",
    "    print(f\"{number} * {i} = {number * i}\")\n",
    "\n",
    "# Feedback:\n",
    "# Rank: 10/10 - Your code correctly prints the multiplication table for the given number.\n",
    "# The `for` loop iterates through the range from 1 to 10 and multiplies the input number by each iterator value.\n",
    "# The use of `f-string` to format the output is appropriate and clear.\n",
    "# The implementation meets the requirements of the exercise."
   ]
  },
  {
   "cell_type": "markdown",
   "metadata": {},
   "source": [
    "---\n",
    "\n",
    "## 🌟 **Advanced Level**\n",
    "\n",
    "### **1. Create and Use a Package**\n",
    "- **Objective**: Create a package with multiple modules and use them.\n",
    "- **Instructions**:\n",
    "  - Create a directory `mypackage` with an `__init__.py` file and two modules `module1.py` and `module2.py`.\n",
    "  - Define functions in each module.\n",
    "  - Import and use functions from both modules in a script.\n",
    "\n",
    "### **2. Implement a Module with Error Handling**\n",
    "- **Objective**: Create a module that handles errors within its functions.\n",
    "- **Instructions**:\n",
    "  - Create a file named `error_handling.py`.\n",
    "  - Define a function that performs division and handles division by zero.\n",
    "  - Import and test this function in a script.\n",
    "\n",
    "### **3. Dynamic Module Import**\n",
    "- **Objective**: Import a module dynamically using `importlib`.\n",
    "- **Instructions**:\n",
    "  - Create a module named `dynamic_module.py`.\n",
    "  - Define a function in the module.\n",
    "  - Use `importlib` to import this module dynamically and call the function.\n",
    "\n",
    "### **4. Create a Module with Configuration Data**\n",
    "- **Objective**: Create a module that stores configuration data.\n",
    "- **Instructions**:\n",
    "  - Create a file named `config.py`.\n",
    "  - Define variables for configuration settings.\n",
    "  - Import and use these settings in another script.\n",
    "\n",
    "### **5. Develop a Command-Line Interface (CLI) Module**\n",
    "- **Objective**: Create a module that can be executed from the command line.\n",
    "- **Instructions**:\n",
    "  - Create a file named `cli_module.py`.\n",
    "  - Define a function that accepts command-line arguments and performs an operation.\n",
    "  - Use `argparse` to handle command-line arguments and execute the function.\n",
    "\n",
    "---"
   ]
  },
  {
   "cell_type": "markdown",
   "metadata": {},
   "source": [
    "### ***Level : Advance***"
   ]
  },
  {
   "cell_type": "markdown",
   "metadata": {},
   "source": [
    "##### Exercise ( 1 )"
   ]
  },
  {
   "cell_type": "code",
   "execution_count": null,
   "metadata": {},
   "outputs": [
    {
     "name": "stdout",
     "output_type": "stream",
     "text": [
      "0 1 1 2 3 "
     ]
    }
   ],
   "source": [
    "# Fibonacci sequence: Write a while loop to generate the first n numbers in the Fibonacci sequence.\n",
    "\n",
    "def fibonacci(n):\n",
    "    a, b = 0, 1\n",
    "    count = 0\n",
    "    while count < n:\n",
    "        print(a, end=' ')\n",
    "        a, b = b, a + b\n",
    "        count += 1\n",
    "\n",
    "fibonacci(int(input(\"Enter the Number : \")))"
   ]
  },
  {
   "cell_type": "code",
   "execution_count": null,
   "metadata": {},
   "outputs": [],
   "source": [
    "# Corrected Code\n",
    "def fibonacci(n):\n",
    "    a, b = 0, 1\n",
    "    count = 0\n",
    "    while count < n:\n",
    "        print(a, end=' ')\n",
    "        a, b = b, a + b\n",
    "        count += 1\n",
    "    print()  # For a new line after printing the sequence\n",
    "\n",
    "fibonacci(int(input(\"Enter the number of Fibonacci terms to display: \")))\n",
    "\n",
    "# Feedback:\n",
    "# Rank: 10/10 - Your code correctly generates and prints the Fibonacci sequence up to `n` terms.\n",
    "# The `while` loop efficiently computes the sequence by updating `a` and `b` and prints each term.\n",
    "# Adding a `print()` statement after the loop ensures the output is followed by a newline.\n",
    "# The implementation meets the requirements of the exercise."
   ]
  },
  {
   "cell_type": "markdown",
   "metadata": {},
   "source": [
    "##### Exercise ( 2 )"
   ]
  },
  {
   "cell_type": "code",
   "execution_count": null,
   "metadata": {},
   "outputs": [
    {
     "name": "stdout",
     "output_type": "stream",
     "text": [
      "*\n",
      "**\n",
      "***\n",
      "****\n",
      "*****\n"
     ]
    }
   ],
   "source": [
    "# Nested loop pattern: Write a nested for loop to print the following pattern for n = 5:\n",
    "\n",
    "for i in range(1,6):\n",
    "    for j in range(1,i+1):\n",
    "        print(\"*\",end='')\n",
    "    print()"
   ]
  },
  {
   "cell_type": "code",
   "execution_count": null,
   "metadata": {},
   "outputs": [
    {
     "name": "stdout",
     "output_type": "stream",
     "text": [
      "*\n",
      "**\n",
      "***\n",
      "****\n",
      "*****\n"
     ]
    }
   ],
   "source": [
    "# Corrected Code\n",
    "for i in range(1, 6):\n",
    "    for j in range(1, i + 1):\n",
    "        print(\"*\", end='')\n",
    "    print()\n",
    "\n",
    "# Feedback:\n",
    "# Rank: 10/10 - Your code correctly prints a right-angled triangle pattern of asterisks.\n",
    "# The nested `for` loops work together to print each line of the pattern with increasing numbers of asterisks.\n",
    "# The use of `end=''` in the inner loop ensures that the asterisks are printed on the same line, and `print()` at the end starts a new line.\n",
    "# The implementation meets the requirements of the exercise."
   ]
  },
  {
   "cell_type": "markdown",
   "metadata": {},
   "source": [
    "##### Exercise ( 3 )"
   ]
  },
  {
   "cell_type": "code",
   "execution_count": null,
   "metadata": {},
   "outputs": [
    {
     "name": "stdout",
     "output_type": "stream",
     "text": [
      "True\n"
     ]
    }
   ],
   "source": [
    "# Check for palindrome: Write a while loop to check if a given string is a palindrome.\n",
    "\n",
    "def is_palindrome(s):\n",
    "    s = s.replace(\" \", \"\").lower()\n",
    "    start = 0\n",
    "    end = len(s) - 1\n",
    "    \n",
    "    while start < end:\n",
    "        if s[start] != s[end]:\n",
    "            return False\n",
    "        start += 1\n",
    "        end -= 1\n",
    "    \n",
    "    return True\n",
    "\n",
    "string = \"racecar\"\n",
    "print(is_palindrome(string))\n",
    "\n",
    "string = \"A man, a plan, a canal, Panama\"\n",
    "print(is_palindrome(string))"
   ]
  },
  {
   "cell_type": "code",
   "execution_count": null,
   "metadata": {},
   "outputs": [
    {
     "name": "stdout",
     "output_type": "stream",
     "text": [
      "Symmetric Difference: {6, 7, 8, 9}\n",
      "Is Subset: True\n"
     ]
    }
   ],
   "source": [
    "# Corrected Code\n",
    "for i in range(1, 6):\n",
    "    for j in range(1, i + 1):\n",
    "        print(\"*\", end='')\n",
    "    print()\n",
    "\n",
    "# Feedback:\n",
    "# Rank: 10/10 - Your code correctly prints a right-angled triangle pattern of asterisks.\n",
    "# The nested `for` loops work together to print each line of the pattern with increasing numbers of asterisks.\n",
    "# The use of `end=''` in the inner loop ensures that the asterisks are printed on the same line, and `print()` at the end starts a new line.\n",
    "# The implementation meets the requirements of the exercise."
   ]
  },
  {
   "cell_type": "markdown",
   "metadata": {},
   "source": [
    "##### Exercise ( 4 )"
   ]
  },
  {
   "cell_type": "code",
   "execution_count": null,
   "metadata": {},
   "outputs": [
    {
     "name": "stdout",
     "output_type": "stream",
     "text": [
      "Invalid option selected.\n"
     ]
    }
   ],
   "source": [
    "# Bubble sort algorithm: Implement the bubble sort algorithm using for loops to sort a list of numbers.\n",
    "\n",
    "def bubble_sort(arr):\n",
    "    n = len(arr)\n",
    "    \n",
    "    # Traverse through all elements in the list\n",
    "    for i in range(n):\n",
    "        # Last i elements are already sorted, so ignore them\n",
    "        for j in range(0, n-i-1):\n",
    "            # Traverse the list from 0 to n-i-1\n",
    "            # Swap if the element found is greater than the next element\n",
    "            if arr[j] > arr[j+1]:\n",
    "                arr[j], arr[j+1] = arr[j+1], arr[j]\n",
    "\n",
    "# Example usage\n",
    "numbers = [64, 34, 25, 12, 22, 11, 90]\n",
    "bubble_sort(numbers)\n",
    "print(\"Sorted list is:\", numbers)"
   ]
  },
  {
   "cell_type": "code",
   "execution_count": null,
   "metadata": {},
   "outputs": [
    {
     "name": "stdout",
     "output_type": "stream",
     "text": [
      "Invalid option selected.\n"
     ]
    }
   ],
   "source": [
    "# Corrected Code\n",
    "def bubble_sort(arr):\n",
    "    n = len(arr)\n",
    "    # Traverse through all elements in the list\n",
    "    for i in range(n):\n",
    "        # Last i elements are already sorted, so ignore them\n",
    "        for j in range(0, n-i-1):\n",
    "            # Swap if the element found is greater than the next element\n",
    "            if arr[j] > arr[j+1]:\n",
    "                arr[j], arr[j+1] = arr[j+1], arr[j]\n",
    "\n",
    "# Example usage\n",
    "numbers = [64, 34, 25, 12, 22, 11, 90]\n",
    "bubble_sort(numbers)\n",
    "print(\"Sorted list is:\", numbers)\n",
    "\n",
    "# Feedback:\n",
    "# Rank: 10/10 - Your code correctly implements the bubble sort algorithm.\n",
    "# The nested loops effectively compare and swap adjacent elements to sort the list.\n",
    "# The implementation successfully sorts the provided list of numbers in ascending order.\n",
    "# The code is well-structured, and the logic is sound."
   ]
  },
  {
   "cell_type": "markdown",
   "metadata": {},
   "source": [
    "##### Exercise ( 5 )"
   ]
  },
  {
   "cell_type": "code",
   "execution_count": null,
   "metadata": {},
   "outputs": [
    {
     "name": "stdout",
     "output_type": "stream",
     "text": [
      "Collatz sequence starting from 13 is: [13, 40, 20, 10, 5, 16, 8, 4, 2, 1]\n"
     ]
    }
   ],
   "source": [
    "# Collatz sequence: Write a while loop to generate the Collatz sequence for a given number n.\n",
    "# The sequence is defined as follows: Start with a number n > 1.\n",
    "# Then, each term is obtained from the previous term as follows: if the previous term is even, the next term is one-half of the previous term. If the previous term is odd, the next term is 3 times the previous term plus 1. The sequence ends when the term reaches 1.\n",
    "\n",
    "def collatz_sequence(n):\n",
    "    sequence = []\n",
    "    \n",
    "    while n > 1:\n",
    "        sequence.append(n)\n",
    "        if n % 2 == 0: \n",
    "            n = n // 2\n",
    "        else:          \n",
    "            n = 3 * n + 1\n",
    "    \n",
    "    sequence.append(1) \n",
    "    return sequence\n",
    "\n",
    "n = 13\n",
    "print(\"Collatz sequence starting from\", n, \"is:\", collatz_sequence(n))\n"
   ]
  },
  {
   "cell_type": "code",
   "execution_count": null,
   "metadata": {},
   "outputs": [
    {
     "name": "stdout",
     "output_type": "stream",
     "text": [
      "Original memoryview:\n",
      "<memory at 0x0000020E6E37F7C0>\n",
      "Original memoryview type: <class 'memoryview'>\n",
      "\n",
      "Sliced memoryview (1:4):\n",
      "<memory at 0x0000020E6E37FD00>\n",
      "Type of slice1: <class 'memoryview'>\n",
      "\n",
      "Sliced memoryview (:5):\n",
      "<memory at 0x0000020E6E37FB80>\n",
      "Type of slice2: <class 'memoryview'>\n",
      "\n",
      "Sliced memoryview (3:):\n",
      "<memory at 0x0000020E6E37FDC0>\n",
      "Type of slice3: <class 'memoryview'>\n",
      "\n",
      "Sliced memoryview converted to list:\n",
      "Slice1 as list: [20, 30, 40]\n",
      "Slice2 as list: [10, 20, 30, 40, 50]\n",
      "Slice3 as list: [40, 50, 60, 70, 80]\n"
     ]
    }
   ],
   "source": [
    "# Corrected Code\n",
    "def collatz_sequence(n):\n",
    "    sequence = []\n",
    "    \n",
    "    while n > 1:\n",
    "        sequence.append(n)\n",
    "        if n % 2 == 0: \n",
    "            n = n // 2\n",
    "        else:          \n",
    "            n = 3 * n + 1\n",
    "    \n",
    "    sequence.append(1)  # Ensure to add the last element '1' to complete the sequence\n",
    "    return sequence\n",
    "\n",
    "n = 13\n",
    "print(\"Collatz sequence starting from\", n, \"is:\", collatz_sequence(n))\n",
    "\n",
    "# Feedback:\n",
    "# Rank: 10/10 - Your code correctly implements the Collatz sequence algorithm.\n",
    "# The sequence generated follows the rules for even and odd numbers.\n",
    "# The final list accurately represents the sequence from the starting number down to 1.\n",
    "# The code is clean, well-structured, and logically sound."
   ]
  }
 ],
 "metadata": {
  "kernelspec": {
   "display_name": "Python 3",
   "language": "python",
   "name": "python3"
  },
  "language_info": {
   "codemirror_mode": {
    "name": "ipython",
    "version": 3
   },
   "file_extension": ".py",
   "mimetype": "text/x-python",
   "name": "python",
   "nbconvert_exporter": "python",
   "pygments_lexer": "ipython3",
   "version": "3.12.2"
  }
 },
 "nbformat": 4,
 "nbformat_minor": 2
}
