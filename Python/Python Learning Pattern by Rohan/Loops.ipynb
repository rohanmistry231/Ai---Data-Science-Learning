{
 "cells": [
  {
   "cell_type": "markdown",
   "metadata": {},
   "source": [
    "# **Python Loops**\n",
    "\n",
    "---\n",
    "\n",
    "### **1. The `for` Loop**\n",
    "- **Purpose**: Iterate over a sequence (list, tuple, string, range).\n",
    "- **Syntax**:\n",
    "    ```python\n",
    "    for variable in sequence:\n",
    "        # code block\n",
    "    ```\n",
    "- **Example**:\n",
    "    ```python\n",
    "    for i in range(5):\n",
    "        print(i)\n",
    "    ```\n",
    "    This loop prints numbers from 0 to 4.\n",
    "\n",
    "---\n",
    "\n",
    "### **2. The `while` Loop**\n",
    "- **Purpose**: Repeat a block of code as long as a specified condition is `True`.\n",
    "- **Syntax**:\n",
    "    ```python\n",
    "    while condition:\n",
    "        # code block\n",
    "    ```\n",
    "- **Example**:\n",
    "    ```python\n",
    "    count = 0\n",
    "    while count < 5:\n",
    "        print(count)\n",
    "        count += 1\n",
    "    ```\n",
    "    This loop prints numbers from 0 to 4.\n",
    "\n",
    "---\n",
    "\n",
    "### **3. The `break` Statement**\n",
    "- **Purpose**: Exit the loop immediately, skipping any remaining iterations.\n",
    "- **Syntax**:\n",
    "    ```python\n",
    "    for variable in sequence:\n",
    "        if condition:\n",
    "            break\n",
    "        # code block\n",
    "    ```\n",
    "- **Example**:\n",
    "    ```python\n",
    "    for i in range(10):\n",
    "        if i == 5:\n",
    "            break\n",
    "        print(i)\n",
    "    ```\n",
    "    This loop prints numbers from 0 to 4 and exits when `i` equals 5.\n",
    "\n",
    "---\n",
    "\n",
    "### **4. The `continue` Statement**\n",
    "- **Purpose**: Skip the current iteration and proceed to the next iteration of the loop.\n",
    "- **Syntax**:\n",
    "    ```python\n",
    "    for variable in sequence:\n",
    "        if condition:\n",
    "            continue\n",
    "        # code block\n",
    "    ```\n",
    "- **Example**:\n",
    "    ```python\n",
    "    for i in range(10):\n",
    "        if i % 2 == 0:\n",
    "            continue\n",
    "        print(i)\n",
    "    ```\n",
    "    This loop prints only odd numbers between 0 and 9.\n",
    "\n",
    "---\n",
    "\n",
    "### **5. The `else` Clause in Loops**\n",
    "- **Purpose**: Execute a block of code once after the loop completes normally. Not executed if the loop is terminated by a `break` statement.\n",
    "- **Syntax**:\n",
    "    ```python\n",
    "    for variable in sequence:\n",
    "        # code block\n",
    "    else:\n",
    "        # code block\n",
    "    ```\n",
    "- **Example**:\n",
    "    ```python\n",
    "    for i in range(5):\n",
    "        print(i)\n",
    "    else:\n",
    "        print(\"Loop ended\")\n",
    "    ```\n",
    "    This loop prints numbers from 0 to 4 and then prints \"Loop ended\" after completion.\n",
    "\n",
    "---\n",
    "\n",
    "### **6. Nested Loops**\n",
    "- **Purpose**: Use one loop inside another to perform complex iterations.\n",
    "- **Syntax**:\n",
    "    ```python\n",
    "    for variable1 in sequence1:\n",
    "        for variable2 in sequence2:\n",
    "            # code block\n",
    "    ```\n",
    "- **Example**:\n",
    "    ```python\n",
    "    for i in range(3):\n",
    "        for j in range(2):\n",
    "            print(f\"i = {i}, j = {j}\")\n",
    "    ```\n",
    "    This nested loop prints pairs of `i` and `j` values.\n",
    "\n",
    "---\n",
    "\n",
    "### **7. Infinite Loops**\n",
    "- **Purpose**: Be cautious with loops that have no terminating condition, as they can run indefinitely.\n",
    "- **Syntax**:\n",
    "    ```python\n",
    "    while True:\n",
    "        # code block\n",
    "    ```\n",
    "- **Example**:\n",
    "    ```python\n",
    "    count = 0\n",
    "    while True:\n",
    "        print(count)\n",
    "        count += 1\n",
    "        if count == 5:\n",
    "            break\n",
    "    ```\n",
    "    This loop prints numbers from 0 to 4 and exits when `count` equals 5.\n",
    "\n",
    "---"
   ]
  },
  {
   "cell_type": "markdown",
   "metadata": {},
   "source": [
    "# **Python Loops Exercises**\n",
    "\n",
    "## 📚 **Introduction**\n",
    "\n",
    "In this section, you will find exercises designed to help you practice and master various loop concepts in Python. The exercises are categorized into three levels of difficulty: **Beginner**, **Intermediate**, and **Advanced**. Each level focuses on different aspects of loops, including basic iterations, control statements, and more complex tasks."
   ]
  },
  {
   "cell_type": "markdown",
   "metadata": {},
   "source": [
    "---\n",
    "\n",
    "## 🏆 **Beginner Level**\n",
    "\n",
    "### **1. Print Numbers from 1 to 10**\n",
    "- **Objective**: Print numbers from 1 to 10 using a `for` loop.\n",
    "- **Instructions**: \n",
    "  - Write a `for` loop that iterates over a range of numbers from 1 to 10.\n",
    "  - Print each number.\n",
    "\n",
    "### **2. Sum of First 100 Numbers**\n",
    "- **Objective**: Calculate the sum of the first 100 natural numbers using a `while` loop.\n",
    "- **Instructions**:\n",
    "  - Initialize a counter variable.\n",
    "  - Use a `while` loop to add numbers from 1 to 100.\n",
    "  - Print the final sum.\n",
    "\n",
    "### **3. Print Elements in a List**\n",
    "- **Objective**: Print each element in a list using a `for` loop.\n",
    "- **Instructions**:\n",
    "  - Define a list of elements.\n",
    "  - Use a `for` loop to iterate through the list.\n",
    "  - Print each element.\n",
    "\n",
    "### **4. Even Numbers Between 1 and 20**\n",
    "- **Objective**: Print all even numbers between 1 and 20 using a `for` loop.\n",
    "- **Instructions**:\n",
    "  - Write a `for` loop to iterate through numbers from 1 to 20.\n",
    "  - Use an `if` statement to check if a number is even.\n",
    "  - Print the even numbers.\n",
    "\n",
    "### **5. Countdown Using `while` Loop**\n",
    "- **Objective**: Count down from 10 to 1 and print \"Liftoff!\" using a `while` loop.\n",
    "- **Instructions**:\n",
    "  - Initialize a counter variable.\n",
    "  - Use a `while` loop to decrement the counter and print its value.\n",
    "  - Print \"Liftoff!\" after the loop ends.\n",
    "\n",
    "---"
   ]
  },
  {
   "cell_type": "markdown",
   "metadata": {},
   "source": [
    "### ***Level : Beginner***"
   ]
  },
  {
   "cell_type": "markdown",
   "metadata": {},
   "source": [
    "##### Exercise ( 1 )"
   ]
  },
  {
   "cell_type": "code",
   "execution_count": 1,
   "metadata": {},
   "outputs": [
    {
     "name": "stdout",
     "output_type": "stream",
     "text": [
      "1\n",
      "2\n",
      "3\n",
      "4\n",
      "5\n",
      "6\n",
      "7\n",
      "8\n",
      "9\n",
      "10\n"
     ]
    }
   ],
   "source": [
    "# Print numbers from 1 to 10: Write a for loop that prints the numbers from 1 to 10.\n",
    "\n",
    "for i in range(1,11):\n",
    "    print(i)"
   ]
  },
  {
   "cell_type": "code",
   "execution_count": null,
   "metadata": {},
   "outputs": [
    {
     "name": "stdout",
     "output_type": "stream",
     "text": [
      "Type of _int: <class 'int'>\n",
      "Type of _float: <class 'float'>\n",
      "Type of _str: <class 'str'>\n",
      "Type of _list: <class 'list'>\n",
      "Type of _tuple: <class 'tuple'>\n",
      "Type of _dict: <class 'dict'>\n",
      "Type of _set: <class 'set'>\n",
      "Type of _bool: <class 'bool'>\n"
     ]
    }
   ],
   "source": [
    "# Original Code\n",
    "for i in range(1, 11):\n",
    "    print(i)\n",
    "\n",
    "# Feedback:\n",
    "# Rank: 10/10 - Your code correctly prints the numbers from 1 to 10, each on a new line.\n",
    "# The use of `range(1, 11)` is appropriate for generating numbers from 1 to 10.\n",
    "# The `for` loop iterates through this range and prints each number, which is the expected behavior.\n",
    "# The implementation is correct and meets the requirements of the exercise."
   ]
  },
  {
   "cell_type": "markdown",
   "metadata": {},
   "source": [
    "##### Exercise ( 2 )"
   ]
  },
  {
   "cell_type": "code",
   "execution_count": 3,
   "metadata": {},
   "outputs": [
    {
     "name": "stdout",
     "output_type": "stream",
     "text": [
      "5050\n"
     ]
    }
   ],
   "source": [
    "# Sum of first 100 numbers: Write a while loop that calculates the sum of the first 100 natural numbers (1, 2, 3, ..., 100).\n",
    "\n",
    "sum = 0\n",
    "\n",
    "for i in range(1,101):\n",
    "    sum += i\n",
    "print(sum)"
   ]
  },
  {
   "cell_type": "code",
   "execution_count": null,
   "metadata": {},
   "outputs": [
    {
     "name": "stdout",
     "output_type": "stream",
     "text": [
      "10 <class 'int'>\n",
      "10 <class 'int'>\n",
      "10 <class 'str'>\n"
     ]
    }
   ],
   "source": [
    "# Original Code\n",
    "sum = 0\n",
    "\n",
    "for i in range(1, 101):\n",
    "    sum += i\n",
    "print(sum)\n",
    "\n",
    "# Feedback:\n",
    "# Rank: 10/10 - Your code correctly calculates the sum of integers from 1 to 100.\n",
    "# The use of the `for` loop and `range(1, 101)` to iterate through numbers is appropriate.\n",
    "# The accumulation of the sum using `sum += i` is correct, and the final result is printed as expected.\n",
    "# The implementation is accurate and meets the requirements of the exercise."
   ]
  },
  {
   "cell_type": "markdown",
   "metadata": {},
   "source": [
    "##### Exercise ( 3 )"
   ]
  },
  {
   "cell_type": "code",
   "execution_count": 5,
   "metadata": {},
   "outputs": [
    {
     "name": "stdout",
     "output_type": "stream",
     "text": [
      "apple\n",
      "banana\n",
      "cherry\n"
     ]
    }
   ],
   "source": [
    "# Print elements in a list: Write a for loop to print each element in the list fruits = [\"apple\", \"banana\", \"cherry\"].\n",
    "\n",
    "fruits = [\"apple\",\"banana\",\"cherry\"]\n",
    "\n",
    "for i in fruits:\n",
    "    print(i)"
   ]
  },
  {
   "cell_type": "code",
   "execution_count": null,
   "metadata": {},
   "outputs": [
    {
     "name": "stdout",
     "output_type": "stream",
     "text": [
      "[1, 2, 3, 5, 6, 7]\n",
      "4\n"
     ]
    }
   ],
   "source": [
    "# Original Code\n",
    "fruits = [\"apple\", \"banana\", \"cherry\"]\n",
    "\n",
    "for i in fruits:\n",
    "    print(i)\n",
    "\n",
    "# Feedback:\n",
    "# Rank: 10/10 - Your code correctly prints each fruit in the `fruits` list.\n",
    "# The use of the `for` loop to iterate through the list and print each element is appropriate.\n",
    "# The implementation is accurate and meets the requirements of the exercise."
   ]
  },
  {
   "cell_type": "markdown",
   "metadata": {},
   "source": [
    "##### Exercise ( 4 )"
   ]
  },
  {
   "cell_type": "code",
   "execution_count": 6,
   "metadata": {},
   "outputs": [
    {
     "name": "stdout",
     "output_type": "stream",
     "text": [
      "2\n",
      "4\n",
      "6\n",
      "8\n",
      "10\n",
      "12\n",
      "14\n",
      "16\n",
      "18\n",
      "20\n"
     ]
    }
   ],
   "source": [
    "# Even numbers between 1 and 20: Write a for loop to print all even numbers between 1 and 20.\n",
    "\n",
    "for i in range(1,21):\n",
    "    if i % 2 == 0:\n",
    "        print(i)"
   ]
  },
  {
   "cell_type": "code",
   "execution_count": null,
   "metadata": {},
   "outputs": [
    {
     "name": "stdout",
     "output_type": "stream",
     "text": [
      "HELLO I AM A STRING\n",
      "19\n",
      "Hey I am a String\n"
     ]
    }
   ],
   "source": [
    "# Original Code\n",
    "for i in range(1, 21):\n",
    "    if i % 2 == 0:\n",
    "        print(i)\n",
    "\n",
    "# Feedback:\n",
    "# Rank: 10/10 - Your code correctly prints the even numbers from 1 to 20.\n",
    "# The use of `range(1, 21)` to generate numbers from 1 to 20 is correct.\n",
    "# The `if` condition `i % 2 == 0` accurately checks for even numbers.\n",
    "# The implementation is correct and meets the requirements of the exercise."
   ]
  },
  {
   "cell_type": "markdown",
   "metadata": {},
   "source": [
    "##### Exercise ( 5 )"
   ]
  },
  {
   "cell_type": "code",
   "execution_count": 12,
   "metadata": {},
   "outputs": [
    {
     "name": "stdout",
     "output_type": "stream",
     "text": [
      "10\n",
      "9\n",
      "8\n",
      "7\n",
      "6\n",
      "5\n",
      "4\n",
      "3\n",
      "2\n",
      "1\n",
      "Liftoff!\n"
     ]
    }
   ],
   "source": [
    "# Initialize the countdown value\n",
    "count = 10\n",
    "\n",
    "# While loop to count down\n",
    "while count > 0:\n",
    "    print(count)\n",
    "    count -= 1  # Decrease the count by 1\n",
    "\n",
    "# Print the final message\n",
    "print(\"Liftoff!\")"
   ]
  },
  {
   "cell_type": "code",
   "execution_count": null,
   "metadata": {},
   "outputs": [],
   "source": [
    "# Original Code\n",
    "count = 10\n",
    "\n",
    "# While loop to count down\n",
    "while count > 0:\n",
    "    print(count)\n",
    "    count -= 1  # Decrease the count by 1\n",
    "\n",
    "# Print the final message\n",
    "print(\"Liftoff!\")\n",
    "\n",
    "# Feedback:\n",
    "# Rank: 10/10 - Your code correctly implements a countdown from 10 to 1 using a while loop.\n",
    "# The `while count > 0:` condition is appropriate for controlling the loop.\n",
    "# The `count -= 1` statement properly decreases the count in each iteration.\n",
    "# The final message \"Liftoff!\" is printed after the countdown, which is a nice touch.\n",
    "# The implementation is accurate and meets the requirements of the exercise."
   ]
  },
  {
   "cell_type": "markdown",
   "metadata": {},
   "source": [
    "---\n",
    "\n",
    "## 🌟 **Intermediate Level**\n",
    "\n",
    "### **1. Factorial of a Number**\n",
    "- **Objective**: Calculate the factorial of a given number using a `for` loop.\n",
    "- **Instructions**:\n",
    "  - Define a variable for the number.\n",
    "  - Use a `for` loop to compute the factorial.\n",
    "  - Print the factorial result.\n",
    "\n",
    "### **2. Sum of Digits**\n",
    "- **Objective**: Calculate the sum of the digits of a given number using a `while` loop.\n",
    "- **Instructions**:\n",
    "  - Define a variable for the number.\n",
    "  - Use a `while` loop to extract and sum the digits.\n",
    "  - Print the sum.\n",
    "\n",
    "### **3. Find the Largest Number in a List**\n",
    "- **Objective**: Find the largest number in a list using a `for` loop.\n",
    "- **Instructions**:\n",
    "  - Define a list of numbers.\n",
    "  - Use a `for` loop to compare each number and find the largest.\n",
    "  - Print the largest number.\n",
    "\n",
    "### **4. Prime Numbers Between 2 and 50**\n",
    "- **Objective**: Print all prime numbers between 2 and 50 using a `for` loop.\n",
    "- **Instructions**:\n",
    "  - Write a `for` loop to iterate through numbers from 2 to 50.\n",
    "  - Use an `if` statement to check if a number is prime.\n",
    "  - Print the prime numbers.\n",
    "\n",
    "### **5. Multiplication Table**\n",
    "- **Objective**: Print the multiplication table for a given number using a `for` loop.\n",
    "- **Instructions**:\n",
    "  - Define a variable for the number.\n",
    "  - Use a `for` loop to generate and print the multiplication table.\n",
    "\n",
    "---"
   ]
  },
  {
   "cell_type": "markdown",
   "metadata": {},
   "source": [
    "### ***Level : Intermediate***"
   ]
  },
  {
   "cell_type": "markdown",
   "metadata": {},
   "source": [
    "##### Exercise ( 1 )"
   ]
  },
  {
   "cell_type": "code",
   "execution_count": 19,
   "metadata": {},
   "outputs": [
    {
     "name": "stdout",
     "output_type": "stream",
     "text": [
      "The factorial of 5 is 120.\n"
     ]
    }
   ],
   "source": [
    "# Factorial of a number: Write a for loop to calculate the factorial of a given number n.\n",
    "\n",
    "def factorial(n):\n",
    "    result = 1\n",
    "    for i in range(1, n + 1):\n",
    "        result *= i  \n",
    "    return result\n",
    "\n",
    "\n",
    "n = int(input(\"Enter a number to calculate its factorial: \"))\n",
    "fact = factorial(n)\n",
    "print(f\"The factorial of {n} is {fact}.\")\n",
    "     "
   ]
  },
  {
   "cell_type": "code",
   "execution_count": 1,
   "metadata": {},
   "outputs": [
    {
     "name": "stdout",
     "output_type": "stream",
     "text": [
      "The factorial of 5 is 120.\n"
     ]
    }
   ],
   "source": [
    "# Original Code\n",
    "def factorial(n):\n",
    "    result = 1\n",
    "    for i in range(1, n + 1):\n",
    "        result *= i  \n",
    "    return result\n",
    "\n",
    "n = int(input(\"Enter a number to calculate its factorial: \"))\n",
    "fact = factorial(n)\n",
    "print(f\"The factorial of {n} is {fact}.\")\n",
    "\n",
    "# Feedback:\n",
    "# Rank: 10/10 - Your code correctly calculates the factorial of a given number using a `for` loop.\n",
    "# The `factorial` function is well-structured, and the loop correctly multiplies each number from 1 to `n`.\n",
    "# The use of `input()` to get the user's number and `print()` to display the result is appropriate.\n",
    "# The implementation is accurate and meets the requirements of the exercise."
   ]
  },
  {
   "cell_type": "markdown",
   "metadata": {},
   "source": [
    "##### Exercise ( 2 )"
   ]
  },
  {
   "cell_type": "code",
   "execution_count": 5,
   "metadata": {},
   "outputs": [
    {
     "name": "stdout",
     "output_type": "stream",
     "text": [
      "The sum of the digits is 1.\n"
     ]
    }
   ],
   "source": [
    "# Sum of digits: Write a while loop that calculates the sum of the digits of a given number.\n",
    "\n",
    "num = int(input(\"Enter a number to calculate the sum of its digits: \"))\n",
    "sum_digits = 0\n",
    "\n",
    "while num > 0:\n",
    "    sum_digits += num % 10\n",
    "    num = num // 10\n",
    "\n",
    "print(f\"The sum of the digits is {sum_digits}.\")\n"
   ]
  },
  {
   "cell_type": "code",
   "execution_count": null,
   "metadata": {},
   "outputs": [
    {
     "name": "stdout",
     "output_type": "stream",
     "text": [
      "[1, 2, 3, 4, 5, 6, 7, 8, 9, 10]\n"
     ]
    }
   ],
   "source": [
    "# Original Code\n",
    "num = int(input(\"Enter a number to calculate the sum of its digits: \"))\n",
    "sum_digits = 0\n",
    "\n",
    "while num > 0:\n",
    "    sum_digits += num % 10\n",
    "    num = num // 10\n",
    "\n",
    "print(f\"The sum of the digits is {sum_digits}.\")\n",
    "\n",
    "# Feedback:\n",
    "# Rank: 10/10 - Your code correctly calculates the sum of the digits of the given number.\n",
    "# The use of `num % 10` to extract the last digit and `num = num // 10` to remove the last digit is accurate.\n",
    "# The `while` loop is appropriately used to iterate through all digits of the number.\n",
    "# The implementation is correct and meets the requirements of the exercise."
   ]
  },
  {
   "cell_type": "markdown",
   "metadata": {},
   "source": [
    "##### Exercise ( 3 )"
   ]
  },
  {
   "cell_type": "code",
   "execution_count": 8,
   "metadata": {},
   "outputs": [
    {
     "name": "stdout",
     "output_type": "stream",
     "text": [
      "The largest number in the list is: 9\n"
     ]
    }
   ],
   "source": [
    "# Find the largest number in a list: Write a for loop to find the largest number in a list numbers = [3, 1, 4, 1, 5, 9, 2, 6, 5].\n",
    "\n",
    "numbers = [3, 1, 4, 1, 5, 9, 2, 6, 5]\n",
    "max_number = numbers[0]\n",
    "\n",
    "for number in numbers:\n",
    "    if number > max_number:\n",
    "        max_number = number\n",
    "\n",
    "print(\"The largest number in the list is:\", max_number)"
   ]
  },
  {
   "cell_type": "code",
   "execution_count": null,
   "metadata": {},
   "outputs": [
    {
     "name": "stdout",
     "output_type": "stream",
     "text": [
      "Union of Set = {1, 2, 3, 4, 5}\n",
      "Intersection of Set = {3}\n",
      "Difference of Set = {1, 2}\n"
     ]
    }
   ],
   "source": [
    "# Original Code\n",
    "numbers = [3, 1, 4, 1, 5, 9, 2, 6, 5]\n",
    "max_number = numbers[0]\n",
    "\n",
    "for number in numbers:\n",
    "    if number > max_number:\n",
    "        max_number = number\n",
    "\n",
    "print(\"The largest number in the list is:\", max_number)\n",
    "\n",
    "# Feedback:\n",
    "# Rank: 10/10 - Your code correctly identifies the largest number in the list using a `for` loop.\n",
    "# Initializing `max_number` with the first element of the list is a good approach.\n",
    "# The loop effectively compares each element with `max_number` and updates it when a larger value is found.\n",
    "# The implementation is accurate and meets the requirements of the exercise."
   ]
  },
  {
   "cell_type": "markdown",
   "metadata": {},
   "source": [
    "##### Exercise ( 4 )"
   ]
  },
  {
   "cell_type": "code",
   "execution_count": 10,
   "metadata": {},
   "outputs": [
    {
     "name": "stdout",
     "output_type": "stream",
     "text": [
      "2\n",
      "3\n",
      "5\n",
      "7\n",
      "11\n",
      "13\n",
      "17\n",
      "19\n",
      "23\n",
      "29\n",
      "31\n",
      "37\n",
      "41\n",
      "43\n",
      "47\n"
     ]
    }
   ],
   "source": [
    "# Prime numbers between 2 and 50: Write a for loop to print all prime numbers between 2 and 50.\n",
    "\n",
    "# Loop through numbers from 2 to 50\n",
    "for num in range(2, 51):\n",
    "    # Assume num is prime\n",
    "    is_prime = True\n",
    "    # Check divisibility from 2 to num-1\n",
    "    for i in range(2, num):\n",
    "        if num % i == 0:\n",
    "            is_prime = False\n",
    "            break\n",
    "    # Print num if it's prime\n",
    "    if is_prime:\n",
    "        print(num)"
   ]
  },
  {
   "cell_type": "code",
   "execution_count": 11,
   "metadata": {},
   "outputs": [
    {
     "name": "stdout",
     "output_type": "stream",
     "text": [
      "2\n",
      "3\n",
      "5\n",
      "7\n",
      "11\n",
      "13\n",
      "17\n",
      "19\n",
      "23\n",
      "29\n",
      "31\n",
      "37\n",
      "41\n",
      "43\n",
      "47\n"
     ]
    }
   ],
   "source": [
    "# Corrected Code\n",
    "import math\n",
    "\n",
    "for num in range(2, 51):\n",
    "    is_prime = True\n",
    "    for i in range(2, int(math.sqrt(num)) + 1):\n",
    "        if num % i == 0:\n",
    "            is_prime = False\n",
    "            break\n",
    "    if is_prime:\n",
    "        print(num)\n",
    "        \n",
    "# Feedback:\n",
    "# Rank: 10/10 - Your code correctly identifies and prints prime numbers between 2 and 50.\n",
    "# The logic of assuming a number is prime and then checking for divisibility is appropriate.\n",
    "# The implementation is accurate and meets the requirements of the exercise."
   ]
  },
  {
   "cell_type": "markdown",
   "metadata": {},
   "source": [
    "##### Exercise ( 5 )"
   ]
  },
  {
   "cell_type": "code",
   "execution_count": 12,
   "metadata": {},
   "outputs": [
    {
     "name": "stdout",
     "output_type": "stream",
     "text": [
      "11 * 1 = 11\n",
      "11 * 2 = 22\n",
      "11 * 3 = 33\n",
      "11 * 4 = 44\n",
      "11 * 5 = 55\n",
      "11 * 6 = 66\n",
      "11 * 7 = 77\n",
      "11 * 8 = 88\n",
      "11 * 9 = 99\n",
      "11 * 10 = 110\n"
     ]
    }
   ],
   "source": [
    "# Multiplication table: Write a for loop to print the multiplication table for a given number n.\n",
    "\n",
    "number = int(input(\"Give the Number that you want to print the Multiplication Table\"))\n",
    "\n",
    "for i in range(1,11):\n",
    "    print(f\"{number} * {i} = {number*i}\")"
   ]
  },
  {
   "cell_type": "code",
   "execution_count": null,
   "metadata": {},
   "outputs": [
    {
     "name": "stdout",
     "output_type": "stream",
     "text": [
      "{1: 1, 2: 4, 3: 9, 4: 16, 5: 25}\n"
     ]
    }
   ],
   "source": [
    "# Corrected Code\n",
    "number = int(input(\"Give the Number that you want to print the Multiplication Table: \"))\n",
    "\n",
    "for i in range(1, 11):\n",
    "    print(f\"{number} * {i} = {number * i}\")\n",
    "\n",
    "# Feedback:\n",
    "# Rank: 10/10 - Your code correctly prints the multiplication table for the given number.\n",
    "# The `for` loop iterates through the range from 1 to 10 and multiplies the input number by each iterator value.\n",
    "# The use of `f-string` to format the output is appropriate and clear.\n",
    "# The implementation meets the requirements of the exercise."
   ]
  },
  {
   "cell_type": "markdown",
   "metadata": {},
   "source": [
    "---\n",
    "\n",
    "## 🌟 **Advanced Level**\n",
    "\n",
    "### **1. Fibonacci Sequence**\n",
    "- **Objective**: Generate the first `n` numbers in the Fibonacci sequence using a `while` loop.\n",
    "- **Instructions**:\n",
    "  - Define a variable for the number of terms.\n",
    "  - Use a `while` loop to generate the Fibonacci sequence.\n",
    "  - Print the sequence.\n",
    "\n",
    "### **2. Nested Loop Pattern**\n",
    "- **Objective**: Print a pattern using nested `for` loops.\n",
    "- **Instructions**:\n",
    "  - Define a variable for the number of rows.\n",
    "  - Use nested `for` loops to print a pattern of asterisks.\n",
    "\n",
    "### **3. Check for Palindrome**\n",
    "- **Objective**: Check if a given string is a palindrome using a `while` loop.\n",
    "- **Instructions**:\n",
    "  - Define a variable for the string.\n",
    "  - Use a `while` loop to compare characters from both ends of the string.\n",
    "  - Print whether the string is a palindrome or not.\n",
    "\n",
    "### **4. Bubble Sort Algorithm**\n",
    "- **Objective**: Implement the bubble sort algorithm using `for` loops.\n",
    "- **Instructions**:\n",
    "  - Define a list of numbers.\n",
    "  - Use nested `for` loops to sort the list.\n",
    "  - Print the sorted list.\n",
    "\n",
    "### **5. Collatz Sequence**\n",
    "- **Objective**: Generate the Collatz sequence for a given number using a `while` loop.\n",
    "- **Instructions**:\n",
    "  - Define a variable for the starting number.\n",
    "  - Use a `while` loop to generate the sequence.\n",
    "  - Print each term in the sequence.\n",
    "\n",
    "---"
   ]
  },
  {
   "cell_type": "markdown",
   "metadata": {},
   "source": [
    "### ***Level : Advance***"
   ]
  },
  {
   "cell_type": "markdown",
   "metadata": {},
   "source": [
    "##### Exercise ( 1 )"
   ]
  },
  {
   "cell_type": "code",
   "execution_count": 1,
   "metadata": {},
   "outputs": [
    {
     "name": "stdout",
     "output_type": "stream",
     "text": [
      "0 1 1 2 3 "
     ]
    }
   ],
   "source": [
    "# Fibonacci sequence: Write a while loop to generate the first n numbers in the Fibonacci sequence.\n",
    "\n",
    "def fibonacci(n):\n",
    "    a, b = 0, 1\n",
    "    count = 0\n",
    "    while count < n:\n",
    "        print(a, end=' ')\n",
    "        a, b = b, a + b\n",
    "        count += 1\n",
    "\n",
    "fibonacci(int(input(\"Enter the Number : \")))"
   ]
  },
  {
   "cell_type": "code",
   "execution_count": null,
   "metadata": {},
   "outputs": [],
   "source": [
    "# Corrected Code\n",
    "def fibonacci(n):\n",
    "    a, b = 0, 1\n",
    "    count = 0\n",
    "    while count < n:\n",
    "        print(a, end=' ')\n",
    "        a, b = b, a + b\n",
    "        count += 1\n",
    "    print()  # For a new line after printing the sequence\n",
    "\n",
    "fibonacci(int(input(\"Enter the number of Fibonacci terms to display: \")))\n",
    "\n",
    "# Feedback:\n",
    "# Rank: 10/10 - Your code correctly generates and prints the Fibonacci sequence up to `n` terms.\n",
    "# The `while` loop efficiently computes the sequence by updating `a` and `b` and prints each term.\n",
    "# Adding a `print()` statement after the loop ensures the output is followed by a newline.\n",
    "# The implementation meets the requirements of the exercise."
   ]
  },
  {
   "cell_type": "markdown",
   "metadata": {},
   "source": [
    "##### Exercise ( 2 )"
   ]
  },
  {
   "cell_type": "code",
   "execution_count": 2,
   "metadata": {},
   "outputs": [
    {
     "name": "stdout",
     "output_type": "stream",
     "text": [
      "*\n",
      "**\n",
      "***\n",
      "****\n",
      "*****\n"
     ]
    }
   ],
   "source": [
    "# Nested loop pattern: Write a nested for loop to print the following pattern for n = 5:\n",
    "\n",
    "for i in range(1,6):\n",
    "    for j in range(1,i+1):\n",
    "        print(\"*\",end='')\n",
    "    print()"
   ]
  },
  {
   "cell_type": "code",
   "execution_count": 3,
   "metadata": {},
   "outputs": [
    {
     "name": "stdout",
     "output_type": "stream",
     "text": [
      "*\n",
      "**\n",
      "***\n",
      "****\n",
      "*****\n"
     ]
    }
   ],
   "source": [
    "# Corrected Code\n",
    "for i in range(1, 6):\n",
    "    for j in range(1, i + 1):\n",
    "        print(\"*\", end='')\n",
    "    print()\n",
    "\n",
    "# Feedback:\n",
    "# Rank: 10/10 - Your code correctly prints a right-angled triangle pattern of asterisks.\n",
    "# The nested `for` loops work together to print each line of the pattern with increasing numbers of asterisks.\n",
    "# The use of `end=''` in the inner loop ensures that the asterisks are printed on the same line, and `print()` at the end starts a new line.\n",
    "# The implementation meets the requirements of the exercise."
   ]
  },
  {
   "cell_type": "markdown",
   "metadata": {},
   "source": [
    "##### Exercise ( 3 )"
   ]
  },
  {
   "cell_type": "code",
   "execution_count": 6,
   "metadata": {},
   "outputs": [
    {
     "name": "stdout",
     "output_type": "stream",
     "text": [
      "True\n"
     ]
    }
   ],
   "source": [
    "# Check for palindrome: Write a while loop to check if a given string is a palindrome.\n",
    "\n",
    "def is_palindrome(s):\n",
    "    s = s.replace(\" \", \"\").lower()\n",
    "    start = 0\n",
    "    end = len(s) - 1\n",
    "    \n",
    "    while start < end:\n",
    "        if s[start] != s[end]:\n",
    "            return False\n",
    "        start += 1\n",
    "        end -= 1\n",
    "    \n",
    "    return True\n",
    "\n",
    "string = \"racecar\"\n",
    "print(is_palindrome(string))\n",
    "\n",
    "string = \"A man, a plan, a canal, Panama\"\n",
    "print(is_palindrome(string))"
   ]
  },
  {
   "cell_type": "code",
   "execution_count": null,
   "metadata": {},
   "outputs": [
    {
     "name": "stdout",
     "output_type": "stream",
     "text": [
      "Symmetric Difference: {6, 7, 8, 9}\n",
      "Is Subset: True\n"
     ]
    }
   ],
   "source": [
    "# Corrected Code\n",
    "for i in range(1, 6):\n",
    "    for j in range(1, i + 1):\n",
    "        print(\"*\", end='')\n",
    "    print()\n",
    "\n",
    "# Feedback:\n",
    "# Rank: 10/10 - Your code correctly prints a right-angled triangle pattern of asterisks.\n",
    "# The nested `for` loops work together to print each line of the pattern with increasing numbers of asterisks.\n",
    "# The use of `end=''` in the inner loop ensures that the asterisks are printed on the same line, and `print()` at the end starts a new line.\n",
    "# The implementation meets the requirements of the exercise."
   ]
  },
  {
   "cell_type": "markdown",
   "metadata": {},
   "source": [
    "##### Exercise ( 4 )"
   ]
  },
  {
   "cell_type": "code",
   "execution_count": null,
   "metadata": {},
   "outputs": [
    {
     "name": "stdout",
     "output_type": "stream",
     "text": [
      "Invalid option selected.\n"
     ]
    }
   ],
   "source": [
    "# Bubble sort algorithm: Implement the bubble sort algorithm using for loops to sort a list of numbers.\n",
    "\n",
    "def bubble_sort(arr):\n",
    "    n = len(arr)\n",
    "    \n",
    "    # Traverse through all elements in the list\n",
    "    for i in range(n):\n",
    "        # Last i elements are already sorted, so ignore them\n",
    "        for j in range(0, n-i-1):\n",
    "            # Traverse the list from 0 to n-i-1\n",
    "            # Swap if the element found is greater than the next element\n",
    "            if arr[j] > arr[j+1]:\n",
    "                arr[j], arr[j+1] = arr[j+1], arr[j]\n",
    "\n",
    "# Example usage\n",
    "numbers = [64, 34, 25, 12, 22, 11, 90]\n",
    "bubble_sort(numbers)\n",
    "print(\"Sorted list is:\", numbers)"
   ]
  },
  {
   "cell_type": "code",
   "execution_count": null,
   "metadata": {},
   "outputs": [
    {
     "name": "stdout",
     "output_type": "stream",
     "text": [
      "Invalid option selected.\n"
     ]
    }
   ],
   "source": [
    "# Corrected Code\n",
    "def bubble_sort(arr):\n",
    "    n = len(arr)\n",
    "    # Traverse through all elements in the list\n",
    "    for i in range(n):\n",
    "        # Last i elements are already sorted, so ignore them\n",
    "        for j in range(0, n-i-1):\n",
    "            # Swap if the element found is greater than the next element\n",
    "            if arr[j] > arr[j+1]:\n",
    "                arr[j], arr[j+1] = arr[j+1], arr[j]\n",
    "\n",
    "# Example usage\n",
    "numbers = [64, 34, 25, 12, 22, 11, 90]\n",
    "bubble_sort(numbers)\n",
    "print(\"Sorted list is:\", numbers)\n",
    "\n",
    "# Feedback:\n",
    "# Rank: 10/10 - Your code correctly implements the bubble sort algorithm.\n",
    "# The nested loops effectively compare and swap adjacent elements to sort the list.\n",
    "# The implementation successfully sorts the provided list of numbers in ascending order.\n",
    "# The code is well-structured, and the logic is sound."
   ]
  },
  {
   "cell_type": "markdown",
   "metadata": {},
   "source": [
    "##### Exercise ( 5 )"
   ]
  },
  {
   "cell_type": "code",
   "execution_count": 7,
   "metadata": {},
   "outputs": [
    {
     "name": "stdout",
     "output_type": "stream",
     "text": [
      "Collatz sequence starting from 13 is: [13, 40, 20, 10, 5, 16, 8, 4, 2, 1]\n"
     ]
    }
   ],
   "source": [
    "# Collatz sequence: Write a while loop to generate the Collatz sequence for a given number n.\n",
    "# The sequence is defined as follows: Start with a number n > 1.\n",
    "# Then, each term is obtained from the previous term as follows: if the previous term is even, the next term is one-half of the previous term. If the previous term is odd, the next term is 3 times the previous term plus 1. The sequence ends when the term reaches 1.\n",
    "\n",
    "def collatz_sequence(n):\n",
    "    sequence = []\n",
    "    \n",
    "    while n > 1:\n",
    "        sequence.append(n)\n",
    "        if n % 2 == 0: \n",
    "            n = n // 2\n",
    "        else:          \n",
    "            n = 3 * n + 1\n",
    "    \n",
    "    sequence.append(1) \n",
    "    return sequence\n",
    "\n",
    "n = 13\n",
    "print(\"Collatz sequence starting from\", n, \"is:\", collatz_sequence(n))\n"
   ]
  },
  {
   "cell_type": "code",
   "execution_count": null,
   "metadata": {},
   "outputs": [
    {
     "name": "stdout",
     "output_type": "stream",
     "text": [
      "Original memoryview:\n",
      "<memory at 0x0000020E6E37F7C0>\n",
      "Original memoryview type: <class 'memoryview'>\n",
      "\n",
      "Sliced memoryview (1:4):\n",
      "<memory at 0x0000020E6E37FD00>\n",
      "Type of slice1: <class 'memoryview'>\n",
      "\n",
      "Sliced memoryview (:5):\n",
      "<memory at 0x0000020E6E37FB80>\n",
      "Type of slice2: <class 'memoryview'>\n",
      "\n",
      "Sliced memoryview (3:):\n",
      "<memory at 0x0000020E6E37FDC0>\n",
      "Type of slice3: <class 'memoryview'>\n",
      "\n",
      "Sliced memoryview converted to list:\n",
      "Slice1 as list: [20, 30, 40]\n",
      "Slice2 as list: [10, 20, 30, 40, 50]\n",
      "Slice3 as list: [40, 50, 60, 70, 80]\n"
     ]
    }
   ],
   "source": [
    "# Corrected Code\n",
    "def collatz_sequence(n):\n",
    "    sequence = []\n",
    "    \n",
    "    while n > 1:\n",
    "        sequence.append(n)\n",
    "        if n % 2 == 0: \n",
    "            n = n // 2\n",
    "        else:          \n",
    "            n = 3 * n + 1\n",
    "    \n",
    "    sequence.append(1)  # Ensure to add the last element '1' to complete the sequence\n",
    "    return sequence\n",
    "\n",
    "n = 13\n",
    "print(\"Collatz sequence starting from\", n, \"is:\", collatz_sequence(n))\n",
    "\n",
    "# Feedback:\n",
    "# Rank: 10/10 - Your code correctly implements the Collatz sequence algorithm.\n",
    "# The sequence generated follows the rules for even and odd numbers.\n",
    "# The final list accurately represents the sequence from the starting number down to 1.\n",
    "# The code is clean, well-structured, and logically sound."
   ]
  },
  {
   "cell_type": "markdown",
   "metadata": {},
   "source": [
    "# 🚀 **Advanced Project: Python Loop Mastery**\n",
    "\n",
    "## **Project Overview**\n",
    "\n",
    "In this project, you will create a Python application that simulates a text-based game with multiple levels and challenges. This project will utilize various advanced looping techniques, nested loops, and complex control flow to achieve the final goal.\n",
    "\n",
    "---\n",
    "\n",
    "## **🎮 Project Title: Text-Based Adventure Game**\n",
    "\n",
    "### **Project Requirements**\n",
    "\n",
    "Create a text-based adventure game where the player navigates through different rooms, encounters challenges, and makes decisions that affect the game's outcome. The game will include multiple levels, each with its own challenges and choices. \n",
    "\n",
    "- **Room Navigation**: Implement rooms in the game using a dictionary where each key represents a room and its value contains possible actions and descriptions.\n",
    "- **Challenges and Puzzles**: Include various challenges and puzzles that the player must solve to proceed. Use loops to handle user input and validate answers.\n",
    "- **Inventory System**: Implement an inventory system where players can collect items and use them to solve puzzles. Use loops to manage inventory operations.\n",
    "- **Enemy Encounters**: Create enemy encounters with combat mechanics. Use nested loops to simulate combat scenarios and handle user decisions.\n",
    "- **Multiple Endings**: Design multiple endings based on the player's choices and performance. Use loops and conditional statements to determine the outcome.\n",
    "\n",
    "---\n",
    "\n",
    "## **🛠️ Steps to Build the Project**\n",
    "\n",
    "```python\n",
    "# 1. Define Game Rooms\n",
    "rooms = {\n",
    "    \"Hall\": {\n",
    "        \"description\": \"You are in a grand hall with a chandelier.\",\n",
    "        \"actions\": {\n",
    "            \"go_north\": \"Library\",\n",
    "            \"go_south\": \"Kitchen\"\n",
    "        }\n",
    "    },\n",
    "    \"Library\": {\n",
    "        \"description\": \"You are in a quiet library filled with books.\",\n",
    "        \"actions\": {\n",
    "            \"go_south\": \"Hall\",\n",
    "            \"read_book\": \"Find a clue\"\n",
    "        }\n",
    "    },\n",
    "    # Add more rooms as needed\n",
    "}\n",
    "\n",
    "# 2. Implement Room Navigation\n",
    "current_room = \"Hall\"\n",
    "while True:\n",
    "    print(rooms[current_room][\"description\"])\n",
    "    action = input(\"What do you want to do? \").strip().lower()\n",
    "    if action in rooms[current_room][\"actions\"]:\n",
    "        current_room = rooms[current_room][\"actions\"][action]\n",
    "    else:\n",
    "        print(\"Invalid action. Try again.\")\n",
    "\n",
    "# 3. Add Challenges and Puzzles\n",
    "if current_room == \"Library\":\n",
    "    puzzle_answer = input(\"Solve the puzzle (type 'clue'): \").strip().lower()\n",
    "    if puzzle_answer == \"clue\":\n",
    "        print(\"You found a clue!\")\n",
    "    else:\n",
    "        print(\"Incorrect answer. Try again.\")\n",
    "\n",
    "# 4. Create Inventory System\n",
    "inventory = []\n",
    "def pick_up_item(item):\n",
    "    inventory.append(item)\n",
    "    print(f\"You picked up a {item}.\")\n",
    "def use_item(item):\n",
    "    if item in inventory:\n",
    "        print(f\"You use the {item}.\")\n",
    "    else:\n",
    "        print(\"Item not in inventory.\")\n",
    "\n",
    "# 5. Handle Enemy Encounters\n",
    "def combat(enemy):\n",
    "    print(f\"You encounter a {enemy}!\")\n",
    "    while True:\n",
    "        action = input(\"Do you want to fight or flee? \").strip().lower()\n",
    "        if action == \"fight\":\n",
    "            print(\"You fight the enemy!\")\n",
    "            break\n",
    "        elif action == \"flee\":\n",
    "            print(\"You flee from the enemy.\")\n",
    "            break\n",
    "        else:\n",
    "            print(\"Invalid action. Try again.\")\n",
    "\n",
    "# 6. Design Multiple Endings\n",
    "puzzle_solved = True  # Example condition\n",
    "enemy_defeated = True  # Example condition\n",
    "\n",
    "if puzzle_solved and enemy_defeated:\n",
    "    print(\"Congratulations! You have completed the game.\")\n",
    "else:\n",
    "    print(\"Game over. Better luck next time.\")\n",
    "\n",
    "```"
   ]
  },
  {
   "cell_type": "markdown",
   "metadata": {},
   "source": [
    "## **Project Code :**"
   ]
  },
  {
   "cell_type": "code",
   "execution_count": null,
   "metadata": {},
   "outputs": [],
   "source": [
    "# 🚀 Advanced Project: Python Loop Mastery\n",
    "# 🎮 Project Title: Text-Based Adventure Game\n",
    "\n",
    "# Define Game Rooms\n",
    "rooms = {\n",
    "    \"Hall\": {\n",
    "        \"description\": \"You are in a grand hall with a chandelier.\",\n",
    "        \"actions\": {\n",
    "            \"go_north\": \"Library\",\n",
    "            \"go_south\": \"Kitchen\"\n",
    "        }\n",
    "    },\n",
    "    \"Library\": {\n",
    "        \"description\": \"You are in a quiet library filled with books.\",\n",
    "        \"actions\": {\n",
    "            \"go_south\": \"Hall\",\n",
    "            \"read_book\": \"Find a clue\"\n",
    "        }\n",
    "    },\n",
    "    \"Kitchen\": {\n",
    "        \"description\": \"You are in a cozy kitchen with a dining table.\",\n",
    "        \"actions\": {\n",
    "            \"go_north\": \"Hall\",\n",
    "            \"search_shelf\": \"Find an item\"\n",
    "        }\n",
    "    },\n",
    "    # Add more rooms as needed\n",
    "}\n",
    "\n",
    "# Define Inventory\n",
    "inventory = []\n",
    "\n",
    "# Define Functions\n",
    "def pick_up_item(item):\n",
    "    inventory.append(item)\n",
    "    print(f\"You picked up a {item}.\")\n",
    "\n",
    "def use_item(item):\n",
    "    if item in inventory:\n",
    "        print(f\"You use the {item}.\")\n",
    "    else:\n",
    "        print(\"Item not in inventory.\")\n",
    "\n",
    "def combat(enemy):\n",
    "    print(f\"You encounter a {enemy}!\")\n",
    "    while True:\n",
    "        action = input(\"Do you want to fight or flee? \").strip().lower()\n",
    "        if action == \"fight\":\n",
    "            print(\"You fight the enemy!\")\n",
    "            break\n",
    "        elif action == \"flee\":\n",
    "            print(\"You flee from the enemy.\")\n",
    "            break\n",
    "        else:\n",
    "            print(\"Invalid action. Try again.\")\n",
    "\n",
    "# Main Game Loop\n",
    "current_room = \"Hall\"\n",
    "puzzle_solved = False\n",
    "enemy_defeated = False\n",
    "\n",
    "while True:\n",
    "    print(rooms[current_room][\"description\"])\n",
    "    action = input(\"What do you want to do? \").strip().lower()\n",
    "    \n",
    "    if action in rooms[current_room][\"actions\"]:\n",
    "        next_room = rooms[current_room][\"actions\"][action]\n",
    "        if next_room == \"Find a clue\":\n",
    "            puzzle_answer = input(\"Solve the puzzle (type 'clue'): \").strip().lower()\n",
    "            if puzzle_answer == \"clue\":\n",
    "                print(\"You found a clue!\")\n",
    "                puzzle_solved = True\n",
    "            else:\n",
    "                print(\"Incorrect answer. Try again.\")\n",
    "        elif next_room == \"Find an item\":\n",
    "            pick_up_item(\"Mysterious Key\")\n",
    "        elif next_room == \"Library\":\n",
    "            # Example room transition logic\n",
    "            current_room = \"Library\"\n",
    "        elif next_room == \"Kitchen\":\n",
    "            # Example room transition logic\n",
    "            current_room = \"Kitchen\"\n",
    "        elif next_room == \"Hall\":\n",
    "            # Example room transition logic\n",
    "            current_room = \"Hall\"\n",
    "    else:\n",
    "        print(\"Invalid action. Try again.\")\n",
    "    \n",
    "    # Example of handling combat and inventory actions\n",
    "    if current_room == \"Library\":\n",
    "        combat(\"Goblin\")\n",
    "        enemy_defeated = True\n",
    "\n",
    "    # Exit condition for the game\n",
    "    if puzzle_solved and enemy_defeated:\n",
    "        print(\"Congratulations! You have completed the game.\")\n",
    "        break\n",
    "    elif current_room == \"Kitchen\":\n",
    "        print(\"Game over. Better luck next time.\")\n",
    "        break"
   ]
  },
  {
   "cell_type": "code",
   "execution_count": null,
   "metadata": {},
   "outputs": [],
   "source": []
  }
 ],
 "metadata": {
  "kernelspec": {
   "display_name": "Python 3",
   "language": "python",
   "name": "python3"
  },
  "language_info": {
   "codemirror_mode": {
    "name": "ipython",
    "version": 3
   },
   "file_extension": ".py",
   "mimetype": "text/x-python",
   "name": "python",
   "nbconvert_exporter": "python",
   "pygments_lexer": "ipython3",
   "version": "3.12.2"
  }
 },
 "nbformat": 4,
 "nbformat_minor": 2
}
