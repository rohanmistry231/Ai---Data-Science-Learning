{
 "cells": [
  {
   "cell_type": "markdown",
   "metadata": {},
   "source": [
    "# Renaming multiple files with numeric digits\n",
    "\n",
    "Sometime you find multiple files, particularly song files, with leading numeric digits. Here we try to rename those files by cutting off the digits and keeping the main text.\n",
    "\n",
    "** Advisable to do this on a test folder by copying all your files. You will still save plenty of time vs. if you would have to rename all those files by hand.**"
   ]
  },
  {
   "cell_type": "code",
   "execution_count": null,
   "metadata": {
    "collapsed": true
   },
   "outputs": [],
   "source": [
    "import os"
   ]
  },
  {
   "cell_type": "markdown",
   "metadata": {},
   "source": [
    "### Use the exact directory path name"
   ]
  },
  {
   "cell_type": "code",
   "execution_count": null,
   "metadata": {
    "collapsed": true
   },
   "outputs": [],
   "source": [
    "dirname = \"../../../../Music/Car Listening/test/\""
   ]
  },
  {
   "cell_type": "markdown",
   "metadata": {},
   "source": [
    "### Create a list and apend all the file names contained within the directory"
   ]
  },
  {
   "cell_type": "code",
   "execution_count": null,
   "metadata": {
    "collapsed": true
   },
   "outputs": [],
   "source": [
    "l =[]\n",
    "for filename in os.listdir(\"../../../../Music/Car Listening/test/\"):\n",
    "    print(filename)\n",
    "    l.append(filename)"
   ]
  },
  {
   "cell_type": "markdown",
   "metadata": {},
   "source": [
    "### Function definition to extract numeric digits and the length of the string before the real file name starts"
   ]
  },
  {
   "cell_type": "code",
   "execution_count": null,
   "metadata": {
    "collapsed": true
   },
   "outputs": [],
   "source": [
    "def digit_extractor(word):\n",
    "    for letter in word:\n",
    "        if letter.isdigit():\n",
    "            i = word.find(letter)\n",
    "            j=i\n",
    "            while (not w[i].isalpha()):\n",
    "                i+=1\n",
    "                #print(w[i])\n",
    "            return (j,i-j,True)\n",
    "            break\n",
    "        else:\n",
    "            return (-1,-1,False)"
   ]
  },
  {
   "cell_type": "markdown",
   "metadata": {},
   "source": [
    "### Run the extractor function and print the result to check if it is identifying files with right number of leading digits and non-alphabatic characters"
   ]
  },
  {
   "cell_type": "code",
   "execution_count": null,
   "metadata": {
    "collapsed": true,
    "scrolled": true
   },
   "outputs": [],
   "source": [
    "count=0\n",
    "for w in l:\n",
    "    idx, length, flag=digit_extractor(w)\n",
    "    if flag:\n",
    "        print(\"For {}, Digit found at {}. Actual name starts at {}!\".format(w,idx,length))\n",
    "        count+=1\n",
    "print(\"\\n\")\n",
    "print(\"Total songs found with digits: \",count)"
   ]
  },
  {
   "cell_type": "markdown",
   "metadata": {},
   "source": [
    "### Rename all the files at one go!"
   ]
  },
  {
   "cell_type": "code",
   "execution_count": null,
   "metadata": {
    "collapsed": true
   },
   "outputs": [],
   "source": [
    "count=0\n",
    "for w in l:\n",
    "    idx, length, flag=digit_extractor(w)\n",
    "    if flag:\n",
    "        print(\"{} processed\".format(w))\n",
    "        os.rename(dirname+w, dirname+w[idx+length:])\n",
    "        count+=1\n",
    "print(\"Total songs found with digits and processed: \",count)"
   ]
  }
 ],
 "metadata": {
  "kernelspec": {
   "display_name": "Python 3",
   "language": "python",
   "name": "python3"
  },
  "language_info": {
   "codemirror_mode": {
    "name": "ipython",
    "version": 3
   },
   "file_extension": ".py",
   "mimetype": "text/x-python",
   "name": "python",
   "nbconvert_exporter": "python",
   "pygments_lexer": "ipython3",
   "version": "3.6.2"
  }
 },
 "nbformat": 4,
 "nbformat_minor": 2
}
