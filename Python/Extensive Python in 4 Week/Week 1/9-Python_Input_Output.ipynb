{
 "cells": [
  {
   "cell_type": "markdown",
   "metadata": {},
   "source": [
    "## Python Input, Output"
   ]
  },
  {
   "cell_type": "markdown",
   "metadata": {},
   "source": [
    "## 1. The `print()` function - The Output Function"
   ]
  },
  {
   "cell_type": "markdown",
   "metadata": {},
   "source": [
    "**Syntax** of the **`print()`** function is:\n",
    "\n",
    "```python\n",
    "print(*objects, sep=' ', end='\\n', file=sys.stdout, flush=False)\n",
    "```"
   ]
  },
  {
   "cell_type": "code",
   "execution_count": 1,
   "metadata": {},
   "outputs": [
    {
     "name": "stdout",
     "output_type": "stream",
     "text": [
      "My name is Olalekan Samuel. I am the trainer for this training\n"
     ]
    }
   ],
   "source": [
    "print(\"My name is Olalekan Samuel. I am the trainer for this training\")"
   ]
  },
  {
   "cell_type": "code",
   "execution_count": 2,
   "metadata": {},
   "outputs": [
    {
     "name": "stdout",
     "output_type": "stream",
     "text": [
      "The Addition of the two numbers x and y is: 25\n"
     ]
    }
   ],
   "source": [
    "x = 12\n",
    "y = 13\n",
    "\n",
    "z = x + y\n",
    "\n",
    "print(\"The Addition of the two numbers x and y is:\", z)"
   ]
  },
  {
   "cell_type": "code",
   "execution_count": 5,
   "metadata": {},
   "outputs": [
    {
     "name": "stdout",
     "output_type": "stream",
     "text": [
      "1 7 9 11 12 13\n",
      "1 $7 $9 $11 $12 $13\n",
      "1 %7 %9 %11 %12 %13&"
     ]
    }
   ],
   "source": [
    "print(1, 7, 9, 11, 12, 13)\n",
    "print(1, 7, 9, 11, 12, 13, sep=\" $\")\n",
    "print(1, 7, 9, 11, 12, 13, sep=\" %\", end=\"&\")"
   ]
  },
  {
   "cell_type": "markdown",
   "metadata": {},
   "source": [
    "## Output formatting\n",
    "\n",
    "You can format your output to make it look attractive by using the **`str.format()`** method."
   ]
  },
  {
   "cell_type": "code",
   "execution_count": 6,
   "metadata": {},
   "outputs": [
    {
     "name": "stdout",
     "output_type": "stream",
     "text": [
      "The value of a is 10 and the value of b is 15\n"
     ]
    }
   ],
   "source": [
    "a = 10; b = 15\n",
    "\n",
    "print(\"The value of a is {} and the value of b is {}\".format(a, b))"
   ]
  },
  {
   "cell_type": "code",
   "execution_count": 7,
   "metadata": {},
   "outputs": [
    {
     "name": "stdout",
     "output_type": "stream",
     "text": [
      "I love Python and Java\n"
     ]
    }
   ],
   "source": [
    "print('I love {0} and {1}'.format(\"Python\", 'Java'))"
   ]
  },
  {
   "cell_type": "code",
   "execution_count": 8,
   "metadata": {
    "scrolled": true
   },
   "outputs": [
    {
     "name": "stdout",
     "output_type": "stream",
     "text": [
      "Hello Samuel, Good Morning\n"
     ]
    }
   ],
   "source": [
    "print('Hello {name}, {greeting}'.format(greeting = \"Good Morning\", name=\"Samuel\"))"
   ]
  },
  {
   "cell_type": "code",
   "execution_count": 9,
   "metadata": {},
   "outputs": [
    {
     "name": "stdout",
     "output_type": "stream",
     "text": [
      "The Value of y is 2.35\n",
      "The Value of y is 2.346\n"
     ]
    }
   ],
   "source": [
    "#You can also format string uasing the old sprintf() \n",
    "#style that was used in the C programming language\n",
    "#We use the % operator to achieve this\n",
    "\n",
    "y = 2.3456798\n",
    "print(\"The Value of y is %0.2f\" %y)\n",
    "print(\"The Value of y is %0.3f\" %y)"
   ]
  },
  {
   "cell_type": "markdown",
   "metadata": {},
   "source": [
    "## 2. Python Input Using `input()` function"
   ]
  },
  {
   "cell_type": "markdown",
   "metadata": {},
   "source": [
    "```python\n",
    "input([The user promt])\n",
    "```"
   ]
  },
  {
   "cell_type": "code",
   "execution_count": 10,
   "metadata": {},
   "outputs": [
    {
     "name": "stdout",
     "output_type": "stream",
     "text": [
      "Please Enter your nameOlalekan Samuel\n",
      "How are you doing Olalekan Samuel\n"
     ]
    }
   ],
   "source": [
    "name = input(\"Please Enter your name\")\n",
    "print(\"How are you doing\", name)"
   ]
  },
  {
   "cell_type": "markdown",
   "metadata": {},
   "source": [
    "Whatever you enter in the input prompt will be seen as string. To convert numbers to number, you will need to use the `int()`, `float()` and `complex()` functions"
   ]
  },
  {
   "cell_type": "markdown",
   "metadata": {},
   "source": [
    "### Accepting User Inputs (as both integer and string)"
   ]
  },
  {
   "cell_type": "code",
   "execution_count": 12,
   "metadata": {},
   "outputs": [
    {
     "name": "stdout",
     "output_type": "stream",
     "text": [
      "Hello, \n",
      "How are you 9999\n"
     ]
    }
   ],
   "source": [
    "value = input(\"Hello, \\nHow are you \")"
   ]
  },
  {
   "cell_type": "code",
   "execution_count": 13,
   "metadata": {},
   "outputs": [
    {
     "data": {
      "text/plain": [
       "str"
      ]
     },
     "execution_count": 13,
     "metadata": {},
     "output_type": "execute_result"
    }
   ],
   "source": [
    "type(value)"
   ]
  },
  {
   "cell_type": "code",
   "execution_count": 15,
   "metadata": {
    "scrolled": true
   },
   "outputs": [
    {
     "name": "stdout",
     "output_type": "stream",
     "text": [
      "Please enter your student name: Olalekan Samuel\n",
      "Please Enter your course of study:Computer Science\n",
      "Please enter the name of your school: University of Cape Town\n",
      "Please enter your age: 43\n",
      "\n",
      "\n",
      "Please wait, I am saving your details for display\n",
      "Name Course School Name Age\n",
      "Olalekan Samuel Computer Science University of Cape Town 43\n"
     ]
    }
   ],
   "source": [
    "name = input(\"Please enter your student name: \")\n",
    "course = input(\"Please Enter your course of study:\")\n",
    "schoolname = input(\"Please enter the name of your school: \")\n",
    "age = input(\"Please enter your age: \")\n",
    "\n",
    "print(\"\\n\")\n",
    "print(\"Please wait, I am saving your details for display\")\n",
    "print(\"Name\", \"Course\", \"School Name\", \"Age\")\n",
    "print(name, course, schoolname, age)"
   ]
  },
  {
   "cell_type": "code",
   "execution_count": 16,
   "metadata": {},
   "outputs": [
    {
     "name": "stdout",
     "output_type": "stream",
     "text": [
      "Enter a Number1500\n",
      "Enter a NameOlalekan Samuel\n",
      "\n",
      "\n",
      "Please wait, I am displaying the type of input\n",
      "The type of number <class 'str'>\n",
      "The type of name <class 'str'>\n"
     ]
    }
   ],
   "source": [
    "number = input(\"Enter a Number\")\n",
    "name = input(\"Enter a Name\")\n",
    "\n",
    "print(\"\\n\")\n",
    "print(\"Please wait, I am displaying the type of input\")\n",
    "print('The type of number', type(number))\n",
    "print('The type of name', type(name))"
   ]
  },
  {
   "cell_type": "markdown",
   "metadata": {},
   "source": [
    "### Accepting User Inputs as integer"
   ]
  },
  {
   "cell_type": "code",
   "execution_count": 17,
   "metadata": {},
   "outputs": [
    {
     "name": "stdout",
     "output_type": "stream",
     "text": [
      "Please enter a number: 950\n",
      "The type of number <class 'int'>\n"
     ]
    }
   ],
   "source": [
    "abc = int(input(\"Please enter a number: \"))\n",
    "\n",
    "print('The type of number', type(abc))"
   ]
  },
  {
   "cell_type": "code",
   "execution_count": 18,
   "metadata": {},
   "outputs": [
    {
     "name": "stdout",
     "output_type": "stream",
     "text": [
      "Please enter first number: 500\n",
      "Please enter second number: 600\n",
      "\n",
      "\n",
      "First Number = 500\n",
      "Second Number = 600\n",
      "The addition of the two numbers you entered is 1100\n"
     ]
    }
   ],
   "source": [
    "firstnumber = int(input(\"Please enter first number: \"))\n",
    "secondnumber = int(input(\"Please enter second number: \"))\n",
    "print(\"\\n\")\n",
    "print(\"First Number =\", firstnumber)\n",
    "print(\"Second Number =\", secondnumber)\n",
    "\n",
    "addition = firstnumber + secondnumber\n",
    "\n",
    "print('The addition of the two numbers you entered is', addition)"
   ]
  },
  {
   "cell_type": "markdown",
   "metadata": {},
   "source": [
    "### Accepting float input from User"
   ]
  },
  {
   "cell_type": "code",
   "execution_count": 19,
   "metadata": {},
   "outputs": [
    {
     "name": "stdout",
     "output_type": "stream",
     "text": [
      "Please enter first number: 100\n",
      "Please enter second number: 650\n",
      "\n",
      "\n",
      "First Number = 100.0\n",
      "Second Number = 650.0\n",
      "The addition of the two numbers you entered is 750.0\n"
     ]
    }
   ],
   "source": [
    "firstnumber = float(input(\"Please enter first number: \"))\n",
    "secondnumber = float(input(\"Please enter second number: \"))\n",
    "print(\"\\n\")\n",
    "print(\"First Number =\", firstnumber)\n",
    "print(\"Second Number =\", secondnumber)\n",
    "\n",
    "addition = firstnumber + secondnumber\n",
    "\n",
    "print('The addition of the two numbers you entered is', addition)"
   ]
  },
  {
   "cell_type": "markdown",
   "metadata": {},
   "source": [
    "### Accepting Complex input from User"
   ]
  },
  {
   "cell_type": "code",
   "execution_count": 23,
   "metadata": {},
   "outputs": [
    {
     "name": "stdout",
     "output_type": "stream",
     "text": [
      "Please Enter the complex number: 2 + 3j\n"
     ]
    },
    {
     "ename": "ValueError",
     "evalue": "complex() arg is a malformed string",
     "output_type": "error",
     "traceback": [
      "\u001b[1;31m---------------------------------------------------------------------------\u001b[0m",
      "\u001b[1;31mValueError\u001b[0m                                Traceback (most recent call last)",
      "\u001b[1;32m~\\AppData\\Local\\Temp\\ipykernel_4440\\4194148033.py\u001b[0m in \u001b[0;36m<module>\u001b[1;34m\u001b[0m\n\u001b[1;32m----> 1\u001b[1;33m \u001b[0mcomplx\u001b[0m \u001b[1;33m=\u001b[0m \u001b[0mcomplex\u001b[0m\u001b[1;33m(\u001b[0m\u001b[0minput\u001b[0m\u001b[1;33m(\u001b[0m\u001b[1;34m\"Please Enter the complex number: \"\u001b[0m\u001b[1;33m)\u001b[0m\u001b[1;33m)\u001b[0m\u001b[1;33m\u001b[0m\u001b[1;33m\u001b[0m\u001b[0m\n\u001b[0m\u001b[0;32m      2\u001b[0m \u001b[0mprint\u001b[0m\u001b[1;33m(\u001b[0m\u001b[0mcomplx\u001b[0m\u001b[1;33m.\u001b[0m\u001b[0mreal\u001b[0m\u001b[1;33m,\u001b[0m \u001b[0mcomplx\u001b[0m\u001b[1;33m.\u001b[0m\u001b[0mimag\u001b[0m\u001b[1;33m)\u001b[0m\u001b[1;33m\u001b[0m\u001b[1;33m\u001b[0m\u001b[0m\n",
      "\u001b[1;31mValueError\u001b[0m: complex() arg is a malformed string"
     ]
    }
   ],
   "source": [
    "complx = complex(input(\"Please Enter the complex number: \"))\n",
    "print(complx.real, complx.imag)"
   ]
  },
  {
   "cell_type": "code",
   "execution_count": 24,
   "metadata": {},
   "outputs": [
    {
     "name": "stdout",
     "output_type": "stream",
     "text": [
      "Please Enter the complex number: 2+3j\n",
      "The real part of the complext is 2.0 and the imaginary part is 3.0\n"
     ]
    }
   ],
   "source": [
    "complx = complex(input(\"Please Enter the complex number: \"))\n",
    "print(\"The real part of the complext is\", complx.real, \"and the imaginary part is\", complx.imag)"
   ]
  },
  {
   "cell_type": "markdown",
   "metadata": {},
   "source": [
    "### Getting multiple input values from a user in one line"
   ]
  },
  {
   "cell_type": "code",
   "execution_count": 29,
   "metadata": {},
   "outputs": [
    {
     "name": "stdout",
     "output_type": "stream",
     "text": [
      "Please Enter your name, Age and Phone number separate by spaceAdeyemi 45 09123675\n",
      "\n",
      "\n",
      "Details you entered are: Adeyemi 45 09123675\n"
     ]
    }
   ],
   "source": [
    "name, age, phonenumber = input('Please Enter your name, Age and Phone number separate by space').split()\n",
    "\n",
    "print('\\n')\n",
    "print('Details you entered are:', name, age, phonenumber)"
   ]
  },
  {
   "cell_type": "markdown",
   "metadata": {},
   "source": [
    "### Accepting multiline input from a user"
   ]
  },
  {
   "cell_type": "code",
   "execution_count": 30,
   "metadata": {},
   "outputs": [
    {
     "name": "stdout",
     "output_type": "stream",
     "text": [
      "Please tell me more about yourself\n",
      "Olalekan Samuel\n",
      "My name is Olalekan Samuel\n",
      "I am a training for this\n",
      "This is Python Fundamentals\n",
      "We are in week one\n",
      "Almost getting to the end\n",
      "\n",
      "\n",
      "\n",
      "Final Inoput Text\n",
      "Olalekan Samuel\n",
      "My name is Olalekan Samuel\n",
      "I am a training for this\n",
      "This is Python Fundamentals\n",
      "We are in week one\n",
      "Almost getting to the end\n"
     ]
    }
   ],
   "source": [
    "mutltinput = []\n",
    "print(\"Please tell me more about yourself\")\n",
    "\n",
    "while True:\n",
    "    line = input()\n",
    "    if line:\n",
    "        mutltinput.append(line)\n",
    "    else:\n",
    "        break\n",
    "text = '\\n'.join(mutltinput)\n",
    "print('\\n')\n",
    "print('Final Inoput Text')\n",
    "print(text)"
   ]
  },
  {
   "cell_type": "markdown",
   "metadata": {},
   "source": [
    "### Formatting output strings by its positions\n"
   ]
  },
  {
   "cell_type": "code",
   "execution_count": 3,
   "metadata": {},
   "outputs": [
    {
     "name": "stdout",
     "output_type": "stream",
     "text": [
      "Please enter your first name: Olalekan Samuel\n",
      "Please enter your second name: Ogunleye\n",
      "Please enter the name of your company: Intelligent System\n",
      "\n",
      "\n",
      "Olalekan Samuel, Ogunleye, works at Intelligent System\n",
      "Ogunleye, Olalekan Samuel, works at Intelligent System\n",
      "Firstname: Olalekan Samuel, Surname: Ogunleye works at Intelligent System\n"
     ]
    }
   ],
   "source": [
    "firstname = input(\"Please enter your first name: \")\n",
    "surname = input(\"Please enter your second name: \")\n",
    "company = input(\"Please enter the name of your company: \")\n",
    "\n",
    "print('\\n')\n",
    "print('{0}, {1}, works at {2}'.format(firstname, surname, company))\n",
    "print('{1}, {0}, works at {2}'.format(firstname, surname, company))\n",
    "print('Firstname: {0}, Surname: {1} works at {2}'.format(firstname, secondname, company))"
   ]
  },
  {
   "cell_type": "markdown",
   "metadata": {},
   "source": [
    "### Accessing output string arguments by name\n"
   ]
  },
  {
   "cell_type": "code",
   "execution_count": 6,
   "metadata": {},
   "outputs": [
    {
     "name": "stdout",
     "output_type": "stream",
     "text": [
      "Please enter your name: Olalekan Samuel\n",
      "Please enter your scores: 96\n",
      "\n",
      "\n",
      "Student: Name: Olalekan Samuel, Scores: 96%\n"
     ]
    }
   ],
   "source": [
    "name = input(\"Please enter your name: \")\n",
    "scores = input(\"Please enter your scores: \")\n",
    "\n",
    "print('\\n')\n",
    "\n",
    "print('Student: Name: {name}, Scores: {percentage}%'.format(name=name, percentage=scores))"
   ]
  },
  {
   "cell_type": "markdown",
   "metadata": {},
   "source": [
    "### Outputting text alignment specifying a width"
   ]
  },
  {
   "cell_type": "code",
   "execution_count": 7,
   "metadata": {},
   "outputs": [
    {
     "name": "stdout",
     "output_type": "stream",
     "text": [
      "Please enter some word: Olalekan Samuel\n",
      "\n",
      "\n",
      "Olalekan Samuel          \n",
      "          Olalekan Samuel\n",
      "     Olalekan Samuel     \n"
     ]
    }
   ],
   "source": [
    "word = input(\"Please enter some word: \")\n",
    "print('\\n')\n",
    "#Left Aligned\n",
    "print('{:<25}'.format(word))\n",
    "\n",
    "#right Aligned\n",
    "print('{:>25}'.format(word))\n",
    "\n",
    "#centered\n",
    "print('{:^25}'.format(word))"
   ]
  },
  {
   "cell_type": "markdown",
   "metadata": {},
   "source": [
    "### Specifying a sign while displaying output numbers"
   ]
  },
  {
   "cell_type": "code",
   "execution_count": 3,
   "metadata": {},
   "outputs": [
    {
     "name": "stdout",
     "output_type": "stream",
     "text": [
      "Enter a Positive Number: 12\n",
      "Enter a Negative Number: -5\n",
      "\n",
      "\n",
      "+12.000000; -5.000000\n",
      "12.000000; -5.000000\n"
     ]
    }
   ],
   "source": [
    "positive_number = float(input(\"Enter a Positive Number: \"))\n",
    "negative_number = float(input(\"Enter a Negative Number: \"))\n",
    "\n",
    "print('\\n')\n",
    "\n",
    "print('{:+f}; {:+f}'.format(positive_number, negative_number))\n",
    "print('{:f}; {:-f}'.format(positive_number, negative_number))"
   ]
  },
  {
   "cell_type": "markdown",
   "metadata": {},
   "source": [
    "### Displaying output Number in various type format"
   ]
  },
  {
   "cell_type": "code",
   "execution_count": 4,
   "metadata": {},
   "outputs": [
    {
     "name": "stdout",
     "output_type": "stream",
     "text": [
      "Enter a number: 73\n",
      "\n",
      "\n",
      "The number you input in integer is: 73\n",
      "The number you input in octal is: 111\n",
      "The number you input in octal is: 1001001\n",
      "The number you input in octal is: 49\n"
     ]
    }
   ],
   "source": [
    "displaynumber = int(input(\"Enter a number: \"))\n",
    "\n",
    "print('\\n')\n",
    "\n",
    "# d is for integer number formatting\n",
    "print(\"The number you input in integer is: {:d}\".format(displaynumber))\n",
    "\n",
    "# o is for octal number formatting\n",
    "print(\"The number you input in octal is: {0:o}\".format(displaynumber))\n",
    "\n",
    "# b is for binary number formatting\n",
    "print(\"The number you input in octal is: {0:b}\".format(displaynumber))\n",
    "\n",
    "# x is for hexadecimal number formatting\n",
    "print(\"The number you input in octal is: {0:x}\".format(displaynumber))"
   ]
  },
  {
   "cell_type": "markdown",
   "metadata": {},
   "source": [
    "### Displaying numbers in floating-point format\n"
   ]
  },
  {
   "cell_type": "code",
   "execution_count": 5,
   "metadata": {},
   "outputs": [
    {
     "name": "stdout",
     "output_type": "stream",
     "text": [
      "Enter a number: 46\n",
      "\n",
      "\n",
      "The number you input in floating point number is: 46.000000\n",
      "The number you input in padding for floating point number is: 46.00\n",
      "The number you input in padding for floating point number is: 4.600000e+01\n",
      "The number you input in padding for floating point number is: 4.600000E+01\n"
     ]
    }
   ],
   "source": [
    "displaynumber = int(input(\"Enter a number: \"))\n",
    "\n",
    "print('\\n')\n",
    "\n",
    "# f is for floating point number formatting\n",
    "print(\"The number you input in floating point number is: {:f}\".format(displaynumber))\n",
    "\n",
    "# f is for floating point number formatting\n",
    "print(\"The number you input in padding for floating point number is: {:5.2f}\"\n",
    "      .format(displaynumber))\n",
    "\n",
    "# e is for exponential notation\n",
    "print(\"The number you input in padding for floating point number is: {:e}\"\n",
    "      .format(displaynumber))\n",
    "\n",
    "# E is for exponential notation in UPPER Case\n",
    "print(\"The number you input in padding for floating point number is: {:E}\"\n",
    "      .format(displaynumber))"
   ]
  },
  {
   "cell_type": "markdown",
   "metadata": {},
   "source": [
    "### Outputting String justification"
   ]
  },
  {
   "cell_type": "code",
   "execution_count": 6,
   "metadata": {},
   "outputs": [
    {
     "name": "stdout",
     "output_type": "stream",
     "text": [
      "Enter some words: Hello, this is Olalekan Samuel\n",
      "\n",
      "\n",
      "Left Justification Hello, this is Olalekan Samuel******************************\n",
      "Right Justification ******************************Hello, this is Olalekan Samuel\n",
      "Center Justification ***************Hello, this is Olalekan Samuel***************\n"
     ]
    }
   ],
   "source": [
    "someword = input(\"Enter some words: \")\n",
    "\n",
    "print('\\n')\n",
    "\n",
    "# Left Justification\n",
    "print(\"Left Justification\", someword.ljust(60, \"*\"))\n",
    "\n",
    "# Right Justification\n",
    "print(\"Right Justification\", someword.rjust(60, \"*\"))\n",
    "\n",
    "# Center Justification\n",
    "print(\"Center Justification\", someword.center(60, \"*\"))"
   ]
  }
 ],
 "metadata": {
  "hide_input": false,
  "kernelspec": {
   "display_name": "Python 3 (ipykernel)",
   "language": "python",
   "name": "python3"
  },
  "language_info": {
   "codemirror_mode": {
    "name": "ipython",
    "version": 3
   },
   "file_extension": ".py",
   "mimetype": "text/x-python",
   "name": "python",
   "nbconvert_exporter": "python",
   "pygments_lexer": "ipython3",
   "version": "3.9.13"
  },
  "toc": {
   "base_numbering": 1,
   "nav_menu": {},
   "number_sections": true,
   "sideBar": true,
   "skip_h1_title": false,
   "title_cell": "Table of Contents",
   "title_sidebar": "Contents",
   "toc_cell": false,
   "toc_position": {},
   "toc_section_display": true,
   "toc_window_display": false
  },
  "varInspector": {
   "cols": {
    "lenName": 16,
    "lenType": 16,
    "lenVar": 40
   },
   "kernels_config": {
    "python": {
     "delete_cmd_postfix": "",
     "delete_cmd_prefix": "del ",
     "library": "var_list.py",
     "varRefreshCmd": "print(var_dic_list())"
    },
    "r": {
     "delete_cmd_postfix": ") ",
     "delete_cmd_prefix": "rm(",
     "library": "var_list.r",
     "varRefreshCmd": "cat(var_dic_list()) "
    }
   },
   "types_to_exclude": [
    "module",
    "function",
    "builtin_function_or_method",
    "instance",
    "_Feature"
   ],
   "window_display": false
  }
 },
 "nbformat": 4,
 "nbformat_minor": 2
}
