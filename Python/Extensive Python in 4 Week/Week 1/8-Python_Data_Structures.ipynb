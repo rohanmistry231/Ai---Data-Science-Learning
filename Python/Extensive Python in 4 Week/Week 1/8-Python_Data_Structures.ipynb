{
 "cells": [
  {
   "cell_type": "markdown",
   "metadata": {},
   "source": [
    "# Python Data Structures\n"
   ]
  },
  {
   "cell_type": "markdown",
   "metadata": {},
   "source": [
    "## Python Numbers, Type Conversion and Mathematics"
   ]
  },
  {
   "cell_type": "markdown",
   "metadata": {},
   "source": [
    "### Number Data Type in Python"
   ]
  },
  {
   "cell_type": "code",
   "execution_count": null,
   "metadata": {},
   "outputs": [],
   "source": [
    "int = 5 \n",
    "float = 5.2\n",
    "complex = x + yj\n",
    "\n",
    "type()\n",
    "instance()"
   ]
  },
  {
   "cell_type": "code",
   "execution_count": 2,
   "metadata": {
    "scrolled": true
   },
   "outputs": [
    {
     "name": "stdout",
     "output_type": "stream",
     "text": [
      "<class 'int'>\n",
      "<class 'float'>\n",
      "<class 'complex'>\n",
      "True\n",
      "True\n",
      "True\n",
      "False\n",
      "False\n",
      "False\n"
     ]
    }
   ],
   "source": [
    "a = 9\n",
    "b = 5.7\n",
    "c = 9 + 7j\n",
    "\n",
    "print(type(a))\n",
    "print(type(b))\n",
    "print(type(c))\n",
    "\n",
    "print(isinstance(a, int))\n",
    "print(isinstance(b, float))\n",
    "print(isinstance(c, complex))\n",
    "\n",
    "print(isinstance(a, complex))\n",
    "print(isinstance(b, int))\n",
    "print(isinstance(c, float))"
   ]
  },
  {
   "cell_type": "markdown",
   "metadata": {},
   "source": [
    "| Number system | Prefix |\n",
    "|:---- | :----|\n",
    "|**`Binary`** | '0b' or '0B |\n",
    "|**`Octal`** | '0o' or '0O' |\n",
    "|**`Hexadecimal`** | '0x' or '0X' |"
   ]
  },
  {
   "cell_type": "code",
   "execution_count": 3,
   "metadata": {},
   "outputs": [
    {
     "name": "stdout",
     "output_type": "stream",
     "text": [
      "1\n",
      "10\n",
      "10\n"
     ]
    }
   ],
   "source": [
    "#Example 1:\n",
    "\n",
    "print(0b0001)\n",
    "print(0o12)\n",
    "print(0x000A)"
   ]
  },
  {
   "cell_type": "code",
   "execution_count": 5,
   "metadata": {},
   "outputs": [
    {
     "name": "stdout",
     "output_type": "stream",
     "text": [
      "109\n",
      "253\n",
      "251\n",
      "2\n",
      "14\n"
     ]
    }
   ],
   "source": [
    "#Example 2\n",
    "\n",
    "print(0b1101101)\n",
    "print(0xFB + 0b10)\n",
    "print(0xFB)\n",
    "print(0b10)\n",
    "print(0o16)"
   ]
  },
  {
   "cell_type": "markdown",
   "metadata": {},
   "source": [
    "### Type Conversion\n",
    "\n",
    "We can convert from one type of number into another type of number. This process is known as coercion"
   ]
  },
  {
   "cell_type": "code",
   "execution_count": 7,
   "metadata": {},
   "outputs": [
    {
     "data": {
      "text/plain": [
       "10.0"
      ]
     },
     "execution_count": 7,
     "metadata": {},
     "output_type": "execute_result"
    }
   ],
   "source": [
    "3+7.0"
   ]
  },
  {
   "cell_type": "code",
   "execution_count": 8,
   "metadata": {},
   "outputs": [
    {
     "data": {
      "text/plain": [
       "7"
      ]
     },
     "execution_count": 8,
     "metadata": {},
     "output_type": "execute_result"
    }
   ],
   "source": [
    "int(7.5)"
   ]
  },
  {
   "cell_type": "code",
   "execution_count": 9,
   "metadata": {},
   "outputs": [
    {
     "data": {
      "text/plain": [
       "-4"
      ]
     },
     "execution_count": 9,
     "metadata": {},
     "output_type": "execute_result"
    }
   ],
   "source": [
    "int(-4.3)"
   ]
  },
  {
   "cell_type": "code",
   "execution_count": 10,
   "metadata": {},
   "outputs": [
    {
     "data": {
      "text/plain": [
       "7.0"
      ]
     },
     "execution_count": 10,
     "metadata": {},
     "output_type": "execute_result"
    }
   ],
   "source": [
    "float(7)"
   ]
  },
  {
   "cell_type": "code",
   "execution_count": 11,
   "metadata": {},
   "outputs": [
    {
     "name": "stdout",
     "output_type": "stream",
     "text": [
      "1234567890123456789\n",
      "0.12345678901234568\n",
      "(3+5j)\n"
     ]
    }
   ],
   "source": [
    "a = 1234567890123456789\n",
    "print(a)\n",
    "\n",
    "b = 0.1234567890123456789\n",
    "print(b)\n",
    "\n",
    "c = 3 + 5j\n",
    "print(c)"
   ]
  },
  {
   "cell_type": "markdown",
   "metadata": {},
   "source": [
    "### Python Decimal"
   ]
  },
  {
   "cell_type": "code",
   "execution_count": 13,
   "metadata": {
    "scrolled": true
   },
   "outputs": [
    {
     "data": {
      "text/plain": [
       "False"
      ]
     },
     "execution_count": 13,
     "metadata": {},
     "output_type": "execute_result"
    }
   ],
   "source": [
    "(2.2+3.1) == 5.3"
   ]
  },
  {
   "cell_type": "code",
   "execution_count": 14,
   "metadata": {},
   "outputs": [
    {
     "data": {
      "text/plain": [
       "0.3333333333333333"
      ]
     },
     "execution_count": 14,
     "metadata": {},
     "output_type": "execute_result"
    }
   ],
   "source": [
    "1/3"
   ]
  },
  {
   "cell_type": "code",
   "execution_count": 15,
   "metadata": {
    "scrolled": true
   },
   "outputs": [
    {
     "data": {
      "text/plain": [
       "5.300000000000001"
      ]
     },
     "execution_count": 15,
     "metadata": {},
     "output_type": "execute_result"
    }
   ],
   "source": [
    "2.2+3.1"
   ]
  },
  {
   "cell_type": "code",
   "execution_count": 17,
   "metadata": {
    "scrolled": true
   },
   "outputs": [
    {
     "name": "stdout",
     "output_type": "stream",
     "text": [
      "0.1\n",
      "0.1000000000000000055511151231257827021181583404541015625\n"
     ]
    }
   ],
   "source": [
    "import decimal\n",
    "print(0.1)\n",
    "\n",
    "print(decimal.Decimal(0.1))"
   ]
  },
  {
   "cell_type": "code",
   "execution_count": 18,
   "metadata": {},
   "outputs": [
    {
     "name": "stdout",
     "output_type": "stream",
     "text": [
      "5.5\n",
      "11.20\n"
     ]
    }
   ],
   "source": [
    "import decimal\n",
    "print(decimal.Decimal('2.2') + decimal.Decimal('3.3'))\n",
    "print(decimal.Decimal('3.2') * decimal.Decimal('3.5'))"
   ]
  },
  {
   "cell_type": "markdown",
   "metadata": {},
   "source": [
    "#### When to use Decimal instead of float?\n",
    "\n",
    "We generally use Decimal in the following cases.\n",
    "\n",
    "1. When we are making financial applications that need exact decimal representation.\n",
    "2. When we want to control the level of precision required.\n",
    "3. When we want to implement the notion of significant decimal places."
   ]
  },
  {
   "cell_type": "markdown",
   "metadata": {},
   "source": [
    "### Python Fractions"
   ]
  },
  {
   "cell_type": "code",
   "execution_count": 20,
   "metadata": {},
   "outputs": [
    {
     "name": "stdout",
     "output_type": "stream",
     "text": [
      "3152519739159347/2251799813685248\n",
      "5\n",
      "4165829655317709/1125899906842624\n"
     ]
    }
   ],
   "source": [
    "import fractions\n",
    "\n",
    "print(fractions.Fraction(1.4))\n",
    "print(fractions.Fraction(5))\n",
    "print(fractions.Fraction(3.7))"
   ]
  },
  {
   "cell_type": "code",
   "execution_count": 21,
   "metadata": {},
   "outputs": [
    {
     "name": "stdout",
     "output_type": "stream",
     "text": [
      "2476979795053773/1125899906842624\n",
      "11/5\n"
     ]
    }
   ],
   "source": [
    "import fractions\n",
    "#As float\n",
    "\n",
    "print(fractions.Fraction(2.2))\n",
    "\n",
    "#As String\n",
    "print(fractions.Fraction('2.2'))"
   ]
  },
  {
   "cell_type": "code",
   "execution_count": 22,
   "metadata": {},
   "outputs": [
    {
     "name": "stdout",
     "output_type": "stream",
     "text": [
      "4\n",
      "2/3\n",
      "15/4\n",
      "False\n",
      "True\n"
     ]
    }
   ],
   "source": [
    "import fractions\n",
    "print(fractions.Fraction(1.6) + fractions.Fraction(2.4))\n",
    "print(fractions.Fraction(1, 6) + fractions.Fraction(2, 4))\n",
    "print(3 / fractions.Fraction(4, 5))\n",
    "print(fractions.Fraction(-1, 10) > 0)\n",
    "print(fractions.Fraction(-4, 10) < 0)"
   ]
  },
  {
   "cell_type": "markdown",
   "metadata": {},
   "source": [
    "### Python Mathematics\n",
    "\n",
    "\n",
    "Modules like `math` and `random`"
   ]
  },
  {
   "cell_type": "code",
   "execution_count": 23,
   "metadata": {
    "scrolled": true
   },
   "outputs": [
    {
     "name": "stdout",
     "output_type": "stream",
     "text": [
      "Mathematics of Pi 3.141592653589793\n",
      "Mathematics of Cosine -1.0\n",
      "Mathematics of Exponential 485165195.4097903\n",
      "Mathematics of Logarithm 4.0\n",
      "Mathematics of SinH 11013.232874703393\n",
      "Mathematics of Factorial 40320\n"
     ]
    }
   ],
   "source": [
    "import math\n",
    "\n",
    "print(\"Mathematics of Pi\",math.pi)\n",
    "print(\"Mathematics of Cosine\",math.cos(math.pi))\n",
    "print(\"Mathematics of Exponential\",math.exp(20))\n",
    "print(\"Mathematics of Logarithm\",math.log10(10000))\n",
    "print(\"Mathematics of SinH\",math.sinh(10))\n",
    "print(\"Mathematics of Factorial\",math.factorial(8))"
   ]
  },
  {
   "cell_type": "code",
   "execution_count": 29,
   "metadata": {},
   "outputs": [
    {
     "name": "stdout",
     "output_type": "stream",
     "text": [
      "15\n",
      "c\n",
      "['b', 'a', 'c', 'd', 'e']\n",
      "0.9900578458273749\n"
     ]
    }
   ],
   "source": [
    "import random\n",
    "\n",
    "print(random.randrange(12, 22))\n",
    "\n",
    "x= ['a', 'b', 'c', 'd', 'e']\n",
    "\n",
    "#Get random choice\n",
    "print(random.choice(x))\n",
    "\n",
    "#Shuffle x\n",
    "random.shuffle(x)\n",
    "\n",
    "#print the shuffled x\n",
    "print(x)\n",
    "\n",
    "#print Random element\n",
    "print(random.random())"
   ]
  },
  {
   "cell_type": "markdown",
   "metadata": {},
   "source": [
    "## Python Strings"
   ]
  },
  {
   "cell_type": "markdown",
   "metadata": {},
   "source": [
    "### What is String in Python?\n",
    "\n",
    "|Data Types          |Type         |         | \n",
    "|:-------------------|:------------|:--------|\n",
    "|**String**          | **Immutable**|    |\n",
    "\n",
    "\n",
    "English Language\n",
    "\n",
    "ASCII\n",
    "Unicode\n",
    "\n",
    "$0_{hex}$ to $10FFFF_{hex}$\n",
    "\n",
    "U+\n",
    "\n",
    "<div>\n",
    "<img src='img/s0.png' width=\"800\">\n",
    "</div>"
   ]
  },
  {
   "cell_type": "markdown",
   "metadata": {},
   "source": [
    "### How to create a string in Python?"
   ]
  },
  {
   "cell_type": "code",
   "execution_count": 30,
   "metadata": {
    "scrolled": true
   },
   "outputs": [
    {
     "name": "stdout",
     "output_type": "stream",
     "text": [
      "1250\n",
      "<class 'int'>\n",
      "1250\n",
      "<class 'str'>\n"
     ]
    }
   ],
   "source": [
    "# Example\n",
    "\n",
    "print(1250)\n",
    "print(type(1250))\n",
    "\n",
    "\n",
    "print(\"1250\")\n",
    "print(type(\"1250\"))"
   ]
  },
  {
   "cell_type": "code",
   "execution_count": 31,
   "metadata": {},
   "outputs": [
    {
     "name": "stdout",
     "output_type": "stream",
     "text": [
      "Good daya everyone\n",
      "Good daya everyone\n",
      "Good daya everyone\n",
      "Good daya everyone\n"
     ]
    }
   ],
   "source": [
    "mystring = \"Good daya everyone\"\n",
    "\n",
    "print(mystring)\n",
    "\n",
    "mystring = 'Good daya everyone'\n",
    "\n",
    "print(mystring)\n",
    "\n",
    "mystring = \"\"\"Good daya everyone\"\"\"\n",
    "\n",
    "print(mystring)\n",
    "\n",
    "mystring = '''Good daya everyone'''\n",
    "\n",
    "print(mystring)"
   ]
  },
  {
   "cell_type": "code",
   "execution_count": 32,
   "metadata": {
    "scrolled": true
   },
   "outputs": [
    {
     "name": "stdout",
     "output_type": "stream",
     "text": [
      "My name is Olalekan Samuel. I am a software developer cum Lecturer.\n",
      "I have been to many countries to lecture on Data Science and Machine Learning. This is\n",
      "The reason I have decided to create this training\n"
     ]
    }
   ],
   "source": [
    "#Example: Multiline string \n",
    "\n",
    "mutlistring = \"\"\"My name is Olalekan Samuel. I am a software developer cum Lecturer.\n",
    "I have been to many countries to lecture on Data Science and Machine Learning. This is\n",
    "The reason I have decided to create this training\"\"\"\n",
    "\n",
    "print(mutlistring)"
   ]
  },
  {
   "cell_type": "code",
   "execution_count": 33,
   "metadata": {},
   "outputs": [
    {
     "name": "stdout",
     "output_type": "stream",
     "text": [
      "'My name is Olalekan Samuel. I am a software developer cum Lecturer.\n",
      "I have been to many countries to lecture on Data Science and Machine Learning. This is\n",
      "The reason I have decided to create this training\n"
     ]
    }
   ],
   "source": [
    "#Example: Multiline string \n",
    "\n",
    "mutlistring = ''''My name is Olalekan Samuel. I am a software developer cum Lecturer.\n",
    "I have been to many countries to lecture on Data Science and Machine Learning. This is\n",
    "The reason I have decided to create this training'''\n",
    "\n",
    "print(mutlistring)"
   ]
  },
  {
   "cell_type": "code",
   "execution_count": 34,
   "metadata": {
    "scrolled": true
   },
   "outputs": [
    {
     "name": "stdout",
     "output_type": "stream",
     "text": [
      "P\n",
      "y\n",
      "t\n",
      "h\n",
      "o\n",
      "n\n"
     ]
    },
    {
     "ename": "NameError",
     "evalue": "name 'h' is not defined",
     "output_type": "error",
     "traceback": [
      "\u001b[1;31m---------------------------------------------------------------------------\u001b[0m",
      "\u001b[1;31mNameError\u001b[0m                                 Traceback (most recent call last)",
      "\u001b[1;32m~\\AppData\\Local\\Temp\\ipykernel_33912\\2788419644.py\u001b[0m in \u001b[0;36m<module>\u001b[1;34m\u001b[0m\n\u001b[0;32m      7\u001b[0m \u001b[0mprint\u001b[0m\u001b[1;33m(\u001b[0m\u001b[0me\u001b[0m\u001b[1;33m)\u001b[0m\u001b[1;33m\u001b[0m\u001b[1;33m\u001b[0m\u001b[0m\n\u001b[0;32m      8\u001b[0m \u001b[0mprint\u001b[0m\u001b[1;33m(\u001b[0m\u001b[0mf\u001b[0m\u001b[1;33m)\u001b[0m\u001b[1;33m\u001b[0m\u001b[1;33m\u001b[0m\u001b[0m\n\u001b[1;32m----> 9\u001b[1;33m \u001b[0mprint\u001b[0m\u001b[1;33m(\u001b[0m\u001b[0mh\u001b[0m\u001b[1;33m)\u001b[0m\u001b[1;33m\u001b[0m\u001b[1;33m\u001b[0m\u001b[0m\n\u001b[0m",
      "\u001b[1;31mNameError\u001b[0m: name 'h' is not defined"
     ]
    }
   ],
   "source": [
    "language = 'Python'\n",
    "a,b,c,d,e,f = language\n",
    "print(a)\n",
    "print(b)\n",
    "print(c)\n",
    "print(d)\n",
    "print(e)\n",
    "print(f)\n",
    "print(h)"
   ]
  },
  {
   "cell_type": "markdown",
   "metadata": {},
   "source": [
    "### How to access characters in a string?\n",
    "```python\n",
    "str[0] = 'O' = str[-8] ,\n",
    "str[1] = 'L' = str[-7] ,\n",
    "str[2] = 'A' = str[-6] ,\n",
    "str[3] = 'L' = str[-5] ,\n",
    "str[4] = 'E' = str[-4] , \n",
    "str[5] = 'K' = str[-3].  \n",
    "str[6] = 'A' = str[-2] , # refers to the second last item\n",
    "str[7] = 'N' = str[-1].  # refers to the last item\n",
    "```\n",
    "\n",
    "<div>\n",
    "<img src=\"img/s_3.png\" width=\"300\"/>\n",
    "</div>\n",
    "\n",
    "- Slicing Operator `:`\n",
    "- We can also use the `len` function to provide the length of a string"
   ]
  },
  {
   "cell_type": "code",
   "execution_count": 2,
   "metadata": {},
   "outputs": [
    {
     "name": "stdout",
     "output_type": "stream",
     "text": [
      "O\n",
      "l\n",
      "a\n"
     ]
    }
   ],
   "source": [
    "name = 'Olalekan'\n",
    "\n",
    "first_letter = name[0]\n",
    "print(first_letter)\n",
    "\n",
    "second_letter = name[1]\n",
    "print(second_letter)\n",
    "\n",
    "third_letter = name[2]\n",
    "print(third_letter)"
   ]
  },
  {
   "cell_type": "code",
   "execution_count": 4,
   "metadata": {},
   "outputs": [
    {
     "name": "stdout",
     "output_type": "stream",
     "text": [
      "n\n",
      "a\n",
      "k\n"
     ]
    }
   ],
   "source": [
    "last_letter = name[-1]\n",
    "print(last_letter)\n",
    "\n",
    "second_last_letter = name[-2]\n",
    "print(second_last_letter)\n",
    "\n",
    "third_last_letter = name[-3]\n",
    "print(third_last_letter)"
   ]
  },
  {
   "cell_type": "code",
   "execution_count": 6,
   "metadata": {
    "scrolled": false
   },
   "outputs": [
    {
     "name": "stdout",
     "output_type": "stream",
     "text": [
      "string =  OLALEKAN\n"
     ]
    },
    {
     "ename": "TypeError",
     "evalue": "string indices must be integers",
     "output_type": "error",
     "traceback": [
      "\u001b[1;31m---------------------------------------------------------------------------\u001b[0m",
      "\u001b[1;31mTypeError\u001b[0m                                 Traceback (most recent call last)",
      "\u001b[1;32m~\\AppData\\Local\\Temp\\ipykernel_20620\\4065165741.py\u001b[0m in \u001b[0;36m<module>\u001b[1;34m\u001b[0m\n\u001b[0;32m      2\u001b[0m \u001b[1;33m\u001b[0m\u001b[0m\n\u001b[0;32m      3\u001b[0m \u001b[0mprint\u001b[0m\u001b[1;33m(\u001b[0m\u001b[1;34m'string = '\u001b[0m\u001b[1;33m,\u001b[0m \u001b[0mstr\u001b[0m\u001b[1;33m)\u001b[0m\u001b[1;33m\u001b[0m\u001b[1;33m\u001b[0m\u001b[0m\n\u001b[1;32m----> 4\u001b[1;33m \u001b[0mprint\u001b[0m\u001b[1;33m(\u001b[0m\u001b[1;34m'str[1.5] ='\u001b[0m\u001b[1;33m,\u001b[0m \u001b[0mstr\u001b[0m\u001b[1;33m[\u001b[0m\u001b[1;36m1.5\u001b[0m\u001b[1;33m]\u001b[0m\u001b[1;33m)\u001b[0m\u001b[1;33m\u001b[0m\u001b[1;33m\u001b[0m\u001b[0m\n\u001b[0m",
      "\u001b[1;31mTypeError\u001b[0m: string indices must be integers"
     ]
    }
   ],
   "source": [
    "str = \"OLALEKAN\"\n",
    "\n",
    "print('string = ', str)\n",
    "print('str[1.5] =', str[1.5])"
   ]
  },
  {
   "cell_type": "code",
   "execution_count": 8,
   "metadata": {},
   "outputs": [
    {
     "name": "stdout",
     "output_type": "stream",
     "text": [
      "O \t n\n",
      "l \t a\n",
      "a \t k\n",
      "l \t e\n",
      "e \t l\n",
      "k \t a\n",
      "a \t l\n",
      "n \t O\n"
     ]
    }
   ],
   "source": [
    "name = 'Olalekan'\n",
    "length = len(name)\n",
    "\n",
    "i=0\n",
    "\n",
    "for n in range(-1,(-length-1), -1):\n",
    "    print(name[i], '\\t', name[n])\n",
    "    i+=1"
   ]
  },
  {
   "cell_type": "markdown",
   "metadata": {},
   "source": [
    "### How to slice a string in Python?\n",
    "\n",
    "<div>\n",
    "<img src=\"img/s16.png\" width=\"300\"/>\n",
    "</div>\n",
    "\n",
    "**Syntax** of Slice Operator :\n",
    "\n",
    "```python\n",
    "str[start : stop : step ]\n",
    "```\n",
    "\n",
    "other syntax of slice:\n",
    "\n",
    "```python\n",
    "str[start : stop]  # items start through stop-1\n",
    "\n",
    "str[start : ]      # items start through the rest of the array\n",
    "\n",
    "str[ : stop]       # items from the beginning through stop-1\n",
    "\n",
    "str[ : ]           # a copy of the whole array\n",
    "```"
   ]
  },
  {
   "cell_type": "code",
   "execution_count": 9,
   "metadata": {},
   "outputs": [
    {
     "data": {
      "text/plain": [
       "'pytho'"
      ]
     },
     "execution_count": 9,
     "metadata": {},
     "output_type": "execute_result"
    }
   ],
   "source": [
    "str = \"python\"\n",
    "\n",
    "str[0:5:1]"
   ]
  },
  {
   "cell_type": "code",
   "execution_count": 11,
   "metadata": {
    "scrolled": true
   },
   "outputs": [
    {
     "name": "stdout",
     "output_type": "stream",
     "text": [
      "The string '123456789' string is the 9 charcaters long\n",
      "The first character of 123456789 is 1\n",
      "The last character of 123456789 is 9\n",
      "The last character of 123456789 is 9\n"
     ]
    }
   ],
   "source": [
    "number = '123456789'\n",
    "\n",
    "print(\"The string '%s' string is the %d charcaters long\" %(number, len(number)))\n",
    "print(\"The first character of\", number, 'is', number[0])\n",
    "print(\"The last character of\", number, 'is', number[8])\n",
    "print(\"The last character of\", number, 'is', number[len(number)-1])"
   ]
  },
  {
   "cell_type": "code",
   "execution_count": 13,
   "metadata": {
    "scrolled": true
   },
   "outputs": [
    {
     "name": "stdout",
     "output_type": "stream",
     "text": [
      "The first character of 123456789 is 1\n",
      "The first character of 123456789 is 1\n",
      "The second character of 123456789 is 2\n",
      "The last character of 123456789 is 9\n"
     ]
    }
   ],
   "source": [
    "print(\"The first character of\", number, 'is', number[-len(number)])\n",
    "print(\"The first character of\", number, 'is', number[(-9)])\n",
    "print(\"The second character of\", number, 'is', number[-8])\n",
    "print(\"The last character of\", number, 'is', number[-1])"
   ]
  },
  {
   "cell_type": "code",
   "execution_count": 14,
   "metadata": {},
   "outputs": [
    {
     "name": "stdout",
     "output_type": "stream",
     "text": [
      "The first three characters 123\n",
      "The next three characters 456\n"
     ]
    }
   ],
   "source": [
    "# A substring (i.e. range of characters can be specified as using a:b)\n",
    "# This means that we are using this to specifiy the characters at index a, a+1, ... b-1\n",
    "\n",
    "print(\"The first three characters\", number[0:3])\n",
    "print(\"The next three characters\", number[3:6])"
   ]
  },
  {
   "cell_type": "code",
   "execution_count": 15,
   "metadata": {},
   "outputs": [
    {
     "name": "stdout",
     "output_type": "stream",
     "text": [
      "The first three characters 123\n",
      "The last three characters 789\n"
     ]
    }
   ],
   "source": [
    "#An empty beginning and an empty end of the range shows the beginning and the end of the string\n",
    "\n",
    "number = '123456789'\n",
    "print(\"The first three characters\", number[:3])\n",
    "print(\"The last three characters\", number[-3:])"
   ]
  },
  {
   "cell_type": "code",
   "execution_count": 16,
   "metadata": {},
   "outputs": [
    {
     "name": "stdout",
     "output_type": "stream",
     "text": [
      "string =  Olalekan\n",
      "string[0] =  O\n",
      "string[0] =  n\n",
      "string[1:5] =  lale\n",
      "string[5:-2] =  k\n"
     ]
    }
   ],
   "source": [
    "string = \"Olalekan\"\n",
    "print(\"string = \", string)\n",
    "\n",
    "#To access the first character\n",
    "print(\"string[0] = \", string[0])\n",
    "\n",
    "#To access the last character\n",
    "print(\"string[0] = \", string[-1])\n",
    "\n",
    "#To access the second to fifth character\n",
    "print(\"string[1:5] = \", string[1:5])\n",
    "\n",
    "#To access the sixth to second last character\n",
    "print(\"string[5:-2] = \", string[5:-2])"
   ]
  },
  {
   "cell_type": "markdown",
   "metadata": {},
   "source": [
    "### Breaking appart strings\n",
    "\n",
    "* `partition(separator)`: breaks a string into three parts based on a separator\n",
    "\n",
    "* `split()`: breaks string into words separated by white-space (optionally takes a separator as argument)\n",
    "\n",
    "* `join()`: joins the result of a split using string as separator"
   ]
  },
  {
   "cell_type": "code",
   "execution_count": 17,
   "metadata": {},
   "outputs": [
    {
     "name": "stdout",
     "output_type": "stream",
     "text": [
      "('one ', '➡', ' two ➡ three ➡ four ➡ five')\n",
      "['one', '➡', 'two', '➡', 'three', '➡', 'four', '➡', 'five']\n",
      "['one', 'two', 'three', 'four', 'five']\n",
      "one;two;three;four;five\n"
     ]
    }
   ],
   "source": [
    "counting = \"one ➡ two ➡ three ➡ four ➡ five\"\n",
    "print(counting.partition(\"➡\"))\n",
    "print(counting.split() )\n",
    "print(counting.split(\" ➡ \") )\n",
    "print(\";\".join(counting.split(\" ➡ \")))"
   ]
  },
  {
   "cell_type": "code",
   "execution_count": 18,
   "metadata": {
    "scrolled": true
   },
   "outputs": [
    {
     "data": {
      "text/plain": [
       "['This',\n",
       " 'action',\n",
       " 'will',\n",
       " 'split',\n",
       " 'all',\n",
       " 'the',\n",
       " 'words',\n",
       " 'in',\n",
       " 'this',\n",
       " 'sentence',\n",
       " 'into',\n",
       " 'a',\n",
       " 'list']"
      ]
     },
     "execution_count": 18,
     "metadata": {},
     "output_type": "execute_result"
    }
   ],
   "source": [
    "\"This action will split all the words in this sentence into a list\".split()"
   ]
  },
  {
   "cell_type": "code",
   "execution_count": 19,
   "metadata": {},
   "outputs": [
    {
     "data": {
      "text/plain": [
       "'This action will join all the words in this sentence into a full sentence'"
      ]
     },
     "execution_count": 19,
     "metadata": {},
     "output_type": "execute_result"
    }
   ],
   "source": [
    "' '.join(['This',\n",
    " 'action',\n",
    " 'will',\n",
    " 'join',\n",
    " 'all',\n",
    " 'the',\n",
    " 'words',\n",
    " 'in',\n",
    " 'this',\n",
    " 'sentence',\n",
    " 'into',\n",
    " 'a',\n",
    " 'full sentence'])"
   ]
  },
  {
   "cell_type": "code",
   "execution_count": 20,
   "metadata": {},
   "outputs": [
    {
     "data": {
      "text/plain": [
       "4"
      ]
     },
     "execution_count": 20,
     "metadata": {},
     "output_type": "execute_result"
    }
   ],
   "source": [
    "\"Welcome to this class\".find('om')"
   ]
  },
  {
   "cell_type": "code",
   "execution_count": 21,
   "metadata": {},
   "outputs": [
    {
     "data": {
      "text/plain": [
       "'Welcome to this session'"
      ]
     },
     "execution_count": 21,
     "metadata": {},
     "output_type": "execute_result"
    }
   ],
   "source": [
    "\"Welcome to this class\".replace('class', 'session')"
   ]
  },
  {
   "cell_type": "markdown",
   "metadata": {},
   "source": [
    "### How to change or delete a string?"
   ]
  },
  {
   "cell_type": "code",
   "execution_count": 23,
   "metadata": {
    "scrolled": true
   },
   "outputs": [
    {
     "name": "stdout",
     "output_type": "stream",
     "text": [
      "Olalakan\n"
     ]
    }
   ],
   "source": [
    "string = \"Olalekan\"\n",
    "#string[5] = \"b\"\n",
    "string = \"Olalakan\"\n",
    "print(string)"
   ]
  },
  {
   "cell_type": "markdown",
   "metadata": {},
   "source": [
    "### Python Strings Operations"
   ]
  },
  {
   "cell_type": "markdown",
   "metadata": {},
   "source": [
    "#### 1. Basic Operators for concatenation of two or more strings\n",
    "\n",
    "- `+` and `,`\n",
    "- `*`\n",
    "###### Concatenation Operator\n",
    "| Expression | Output |\n",
    "|:----| :--- |\n",
    "| **`\"10\" + \"50\"`** |   **\"1050\"**  | \n",
    "| **`\"hello\" + \"009\"`** |   **\"hello009\"** | \n",
    "| **`\"hello99\" + \"world66\" `** |   **\"hello99world66\"** | \n",
    "\n",
    ">**Note:** Both the operands passed for concatenation must be of same type, else it will show an error.\n",
    "\n",
    "###### Replication Operator\n",
    "| Expression | Output |\n",
    "|:----| :--- |\n",
    "| **`\"ArcX\" \\* 2`** |   **\"ArcXArcX\"**  | \n",
    "| **`3 *'5'`** |   **\"555\"** | \n",
    "| **`'@'* 5 `** |   **\"@@@@@\"** | \n",
    "\n",
    ">**Note:**: We can use Replication operator in any way i.e., int **`*`** string or string **`*`** **`int`**. Both the parameters passed cannot be of same type."
   ]
  },
  {
   "cell_type": "code",
   "execution_count": 25,
   "metadata": {},
   "outputs": [
    {
     "name": "stdout",
     "output_type": "stream",
     "text": [
      "Welcome to the Data Scienceand Machine Learning in 12 Weeks\n",
      "Welcome to the Data Science and Machine Learning in 12 Weeks\n"
     ]
    }
   ],
   "source": [
    "#Example 1: String Concatenation\n",
    "\n",
    "x = \"Welcome to the Data Science\"\n",
    "y = \"and Machine Learning in 12 Weeks\"\n",
    "\n",
    "print(x+y)\n",
    "\n",
    "print(x+\" \"+y)"
   ]
  },
  {
   "cell_type": "code",
   "execution_count": 26,
   "metadata": {
    "scrolled": true
   },
   "outputs": [
    {
     "name": "stdout",
     "output_type": "stream",
     "text": [
      "Welcome to the Data Science and Machine Learning in 12 Weeks\n"
     ]
    }
   ],
   "source": [
    "print(x,y)"
   ]
  },
  {
   "cell_type": "code",
   "execution_count": 27,
   "metadata": {
    "scrolled": true
   },
   "outputs": [
    {
     "ename": "TypeError",
     "evalue": "can only concatenate str (not \"int\") to str",
     "output_type": "error",
     "traceback": [
      "\u001b[1;31m---------------------------------------------------------------------------\u001b[0m",
      "\u001b[1;31mTypeError\u001b[0m                                 Traceback (most recent call last)",
      "\u001b[1;32m~\\AppData\\Local\\Temp\\ipykernel_20620\\4006814757.py\u001b[0m in \u001b[0;36m<module>\u001b[1;34m\u001b[0m\n\u001b[1;32m----> 1\u001b[1;33m \u001b[0mprint\u001b[0m\u001b[1;33m(\u001b[0m\u001b[1;34m\"Welcome to this class \"\u001b[0m\u001b[1;33m+\u001b[0m \u001b[1;36m100\u001b[0m\u001b[1;33m)\u001b[0m\u001b[1;33m\u001b[0m\u001b[1;33m\u001b[0m\u001b[0m\n\u001b[0m",
      "\u001b[1;31mTypeError\u001b[0m: can only concatenate str (not \"int\") to str"
     ]
    }
   ],
   "source": [
    "print(\"Welcome to this class \"+ 100)"
   ]
  },
  {
   "cell_type": "code",
   "execution_count": 29,
   "metadata": {},
   "outputs": [
    {
     "name": "stdout",
     "output_type": "stream",
     "text": [
      "Welcome to this class 100\n"
     ]
    }
   ],
   "source": [
    "print(\"Welcome to this class\", 100)"
   ]
  },
  {
   "cell_type": "code",
   "execution_count": 30,
   "metadata": {
    "scrolled": true
   },
   "outputs": [
    {
     "name": "stdout",
     "output_type": "stream",
     "text": [
      "Weclome to this class Weclome to this class Weclome to this class Weclome to this class \n",
      "This is Sessions for Python Fundamentasl This is Sessions for Python Fundamentasl This is Sessions for Python Fundamentasl This is Sessions for Python Fundamentasl \n"
     ]
    }
   ],
   "source": [
    "print(\"Weclome to this class \" * 4)\n",
    "print(4 * \"This is Sessions for Python Fundamentasl \")"
   ]
  },
  {
   "cell_type": "code",
   "execution_count": 31,
   "metadata": {},
   "outputs": [
    {
     "name": "stdout",
     "output_type": "stream",
     "text": [
      "1 letters found\n"
     ]
    }
   ],
   "source": [
    "#Iterating through a string\n",
    "\n",
    "count = 0\n",
    "\n",
    "for letter in \"Welcome to the Python Fundamentals\":\n",
    "    if (letter == 'c'):\n",
    "        count += 1\n",
    "print(count, 'letters found')"
   ]
  },
  {
   "cell_type": "markdown",
   "metadata": {},
   "source": [
    "#### 2. Python String Membership Operators"
   ]
  },
  {
   "cell_type": "code",
   "execution_count": 32,
   "metadata": {},
   "outputs": [
    {
     "name": "stdout",
     "output_type": "stream",
     "text": [
      "Example of in Operator in String::\n",
      "True\n",
      "True\n",
      "True\n",
      "\n",
      "Example of not in Operator in String::\n",
      "False\n",
      "False\n",
      "False\n"
     ]
    }
   ],
   "source": [
    "#Example\n",
    "\n",
    "string1 = \"Welcome to the Python Fundamentals Class\"\n",
    "string2 = \"Welcome to the Python\"\n",
    "string3 = \"Welcome to the Python\"\n",
    "string4 = \"Welcome\"\n",
    "\n",
    "print(\"Example of in Operator in String::\")\n",
    "print(string2 in string1)\n",
    "print(string3 in string1)\n",
    "print(string4 in string1)\n",
    "print()\n",
    "print(\"Example of not in Operator in String::\")\n",
    "print(string2 not in string1)\n",
    "print(string3 not in string1)\n",
    "print(string4 not in string1)"
   ]
  },
  {
   "cell_type": "markdown",
   "metadata": {},
   "source": [
    "#### 3. Python Relational Operators \n",
    "\n",
    "<, >, <==, >==, ==, !==, <>\n",
    "\n",
    "The ASCII value of a is 97, b is 98, and c is 99. The ASCII value of A is 65, B is 66, C is 67\n",
    "\n",
    "`%` operator is used to format the string inserting the values that comes after.\n",
    "\n",
    "   - **`%s`** ➡ string\n",
    "   - **`%d`** ➡ Integer\n",
    "   - **`%f`** ➡ Float\n",
    "   - **`%o`** ➡ Octal\n",
    "   - **`%x`** ➡ Hexadecimal\n",
    "   - **`%e`** ➡ exponential"
   ]
  },
  {
   "cell_type": "code",
   "execution_count": 34,
   "metadata": {
    "scrolled": true
   },
   "outputs": [
    {
     "name": "stdout",
     "output_type": "stream",
     "text": [
      "Example of Relator Operators in String::\n",
      "True\n",
      "True\n",
      "True\n"
     ]
    }
   ],
   "source": [
    "print(\"Example of Relator Operators in String::\")\n",
    "\n",
    "print(\"Welcome to the python fundamentals\" == \"Welcome to the python fundamentals\")\n",
    "print(\"Welcome to the python fundamentals\" >= \"Welcome to the python fundamentals\")\n",
    "print(\"Name\"< \"name\")"
   ]
  },
  {
   "cell_type": "code",
   "execution_count": 42,
   "metadata": {
    "scrolled": true
   },
   "outputs": [
    {
     "name": "stdout",
     "output_type": "stream",
     "text": [
      "Hello Welcome to the Python Fundamentals Class \n",
      "The actual number = 29\n",
      "The actual float number = 29.800000\n",
      "The actual octal number = 35\n",
      "The actual Hexadecimal number = 1d\n",
      "The actual Exponential number = 2.900000e+01\n"
     ]
    }
   ],
   "source": [
    "print(\"Hello %s \" % string1)\n",
    "print(\"The actual number = %d\" %29)\n",
    "print(\"The actual float number = %f\" %29.8)\n",
    "print(\"The actual octal number = %o\" %29)\n",
    "print(\"The actual Hexadecimal number = %x\" %29)\n",
    "print(\"The actual Exponential number = %e\" %29)"
   ]
  },
  {
   "cell_type": "code",
   "execution_count": 43,
   "metadata": {},
   "outputs": [
    {
     "name": "stdout",
     "output_type": "stream",
     "text": [
      "Hello Welcome to the Python Fundamentals Class Welcome to the Python. My name is Olalekan, you can call me 125\n"
     ]
    }
   ],
   "source": [
    "print(\"Hello %s %s. My name is Olalekan, you can call me %d\" %(string1, string2, 125))"
   ]
  },
  {
   "cell_type": "markdown",
   "metadata": {},
   "source": [
    "### Built-in functions to Work with Python"
   ]
  },
  {
   "cell_type": "markdown",
   "metadata": {},
   "source": [
    "### Python String Formatting"
   ]
  },
  {
   "cell_type": "markdown",
   "metadata": {},
   "source": [
    "#### 1. Escape Sequence\n",
    "\n",
    "| Escape Sequence | Description |\n",
    "|:----:| :--- |\n",
    "| **`\\newline`** |   Backslash and newline ignored  | \n",
    "| **`\\\\`** |   Backslash | \n",
    "| **`\\'`** |   Single quote | \n",
    "| **`\\\"`** |   Double quote | \n",
    "| **`\\a`** |   ASCII Bell | \n",
    "| **`\\b`** |   ASCII Backspace | \n",
    "| **`\\f`** |   ASCII Formfeed | \n",
    "| **`\\n`** |   ASCII Linefeed | \n",
    "| **`\\r`** |   ASCII Carriage Return |\n",
    "| **`\\t`** |   ASCII Horizontal Tab | \n",
    "| **`\\v`** |   ASCII Vertical Tab | \n",
    "| **`\\ooo`** |   Character with octal value ooo | \n",
    "| **`\\xHH`** |   Character with hexadecimal value HH | "
   ]
  },
  {
   "cell_type": "code",
   "execution_count": 47,
   "metadata": {
    "scrolled": true
   },
   "outputs": [
    {
     "name": "stdout",
     "output_type": "stream",
     "text": [
      "\"Olalekan Said, \"what's the purpose\"\n"
     ]
    }
   ],
   "source": [
    "print('''\"Olalekan Said, \"what's the purpose\"''')"
   ]
  },
  {
   "cell_type": "code",
   "execution_count": 49,
   "metadata": {
    "scrolled": true
   },
   "outputs": [
    {
     "name": "stdout",
     "output_type": "stream",
     "text": [
      "Olalekan Said, \"what's the purpose\"\n"
     ]
    }
   ],
   "source": [
    "print('Olalekan Said, \"what\\'s the purpose\"')"
   ]
  },
  {
   "cell_type": "code",
   "execution_count": 51,
   "metadata": {
    "scrolled": true
   },
   "outputs": [
    {
     "name": "stdout",
     "output_type": "stream",
     "text": [
      "Olalekan Said, \"what's the purpose\"\n"
     ]
    }
   ],
   "source": [
    "print(\"Olalekan Said, \\\"what's the purpose\\\"\")"
   ]
  },
  {
   "cell_type": "code",
   "execution_count": 52,
   "metadata": {},
   "outputs": [
    {
     "name": "stdout",
     "output_type": "stream",
     "text": [
      "This is Python Fundamentals Sessions.\n",
      "Hooe you are having fun going through it?\n",
      "Days\tChapters\tTopics\n",
      "Day 1\tTopic 1\tPython Introduction\n",
      "Day 2\tTopic 2\tPython Datatypes\n",
      "Day 3\tTopic 3\tPython Flow Control\n",
      "Day 4\tTopic 4\tPython Functions\n",
      "Day 5\tTopic 5\tPython Files\n",
      "This is a back slash  symbol (\\)\n",
      "In every programming language it starts with \"Hello, World!\"\n"
     ]
    }
   ],
   "source": [
    "# Escape sequence\n",
    "\n",
    "print('This is Python Fundamentals Sessions.\\nHooe you are having fun going through it?') # '\\n' line break\n",
    "print('Days\\tChapters\\tTopics')  # '\\t' tab space\n",
    "print('Day 1\\tTopic 1\\tPython Introduction')\n",
    "print('Day 2\\tTopic 2\\tPython Datatypes')\n",
    "print('Day 3\\tTopic 3\\tPython Flow Control')\n",
    "print('Day 4\\tTopic 4\\tPython Functions')\n",
    "print('Day 5\\tTopic 5\\tPython Files')\n",
    "print('This is a back slash  symbol (\\\\)') # To write a back slash\n",
    "print('In every programming language it starts with \\\"Hello, World!\\\"')"
   ]
  },
  {
   "cell_type": "markdown",
   "metadata": {},
   "source": [
    "#### 2. Raw String to ignore escape sequence"
   ]
  },
  {
   "cell_type": "code",
   "execution_count": 53,
   "metadata": {
    "scrolled": true
   },
   "outputs": [
    {
     "name": "stdout",
     "output_type": "stream",
     "text": [
      "This is a \n",
      "good example\n"
     ]
    }
   ],
   "source": [
    "print(\"This is \\x61 \\ngood example\")"
   ]
  },
  {
   "cell_type": "code",
   "execution_count": 54,
   "metadata": {},
   "outputs": [
    {
     "name": "stdout",
     "output_type": "stream",
     "text": [
      "This is \\x61 \\ngood example\n"
     ]
    }
   ],
   "source": [
    "print(r\"This is \\x61 \\ngood example\")"
   ]
  },
  {
   "cell_type": "code",
   "execution_count": 55,
   "metadata": {},
   "outputs": [
    {
     "name": "stdout",
     "output_type": "stream",
     "text": [
      "This is \\x61 \\ngood example\n"
     ]
    }
   ],
   "source": [
    "print(R\"This is \\x61 \\ngood example\")"
   ]
  },
  {
   "cell_type": "markdown",
   "metadata": {},
   "source": [
    "#### 3. The `format()` Method for Formatting Strings\n",
    "\n",
    "`{}`"
   ]
  },
  {
   "cell_type": "code",
   "execution_count": 58,
   "metadata": {
    "scrolled": true
   },
   "outputs": [
    {
     "name": "stdout",
     "output_type": "stream",
     "text": [
      "\n",
      "---- Name Default Order---\n",
      "Olalekan, Olusola, and Akeem\n"
     ]
    }
   ],
   "source": [
    "#default implicit order\n",
    "default_name_order = \"{}, {}, and {}\".format(\"Olalekan\", \"Olusola\", \"Akeem\")\n",
    "print(\"\\n---- Name Default Order---\")\n",
    "print(default_name_order)"
   ]
  },
  {
   "cell_type": "code",
   "execution_count": 57,
   "metadata": {},
   "outputs": [
    {
     "name": "stdout",
     "output_type": "stream",
     "text": [
      "\n",
      "---- Name using Postional Arguments---\n",
      "Ademola, Allan, and Adeoti\n"
     ]
    }
   ],
   "source": [
    "#ordering using the positional argument\n",
    "\n",
    "order_positionally = \"{1}, {0}, and {2}\".format('Allan', \"Ademola\", 'Adeoti')\n",
    "print(\"\\n---- Name using Postional Arguments---\")\n",
    "print(order_positionally)"
   ]
  },
  {
   "cell_type": "code",
   "execution_count": 59,
   "metadata": {},
   "outputs": [
    {
     "name": "stdout",
     "output_type": "stream",
     "text": [
      "\n",
      "---- Name using Keyword Arguments---\n",
      "Tumi, Iyana, and Samuel\n"
     ]
    }
   ],
   "source": [
    "#ordering using the Keyword argument\n",
    "keyword_order = \"{a}, {b}, and {c}\".format(a = \"Tumi\", b = \"Iyana\", c=\"Samuel\")\n",
    "print(\"\\n---- Name using Keyword Arguments---\")\n",
    "print(keyword_order)"
   ]
  },
  {
   "cell_type": "markdown",
   "metadata": {},
   "source": [
    "#### 4. Old style formatting\n",
    "\n",
    "`sprintf()` is an old style, which I do not recommend"
   ]
  },
  {
   "cell_type": "code",
   "execution_count": 61,
   "metadata": {
    "scrolled": true
   },
   "outputs": [
    {
     "name": "stdout",
     "output_type": "stream",
     "text": [
      "The value of x is 3.15\n"
     ]
    }
   ],
   "source": [
    "x = 3.145271\n",
    "print(\"The value of x is %3.2f\" %x)"
   ]
  },
  {
   "cell_type": "code",
   "execution_count": 62,
   "metadata": {},
   "outputs": [
    {
     "name": "stdout",
     "output_type": "stream",
     "text": [
      "The value of x is 3.1453\n"
     ]
    }
   ],
   "source": [
    "print(\"The value of x is %3.4f\" %x)"
   ]
  },
  {
   "cell_type": "markdown",
   "metadata": {},
   "source": [
    "### Common Python String Methods\n",
    "\n",
    "* Upper vs lower case: **`upper()`**, **`lower()`**, **`captialize()`**, **`title()`** and **`swapcase()`**, **`join()`**, **`split()`**, **`find()`**, **`replace()`** etc, with mostly the obvious meaning. Note that `capitalize` makes the first letter of the string a capital only, while **`title`** selects upper case for the first letter of every word.\n",
    "\n",
    "* Padding strings: **`center(n)`**, **`ljust(n)`** and **`rjust(n)`** each place the string into a longer string of length n  padded by spaces (centered, left-justified or right-justified respectively). **`zfill(n)`** works similarly but pads with leading zeros.\n",
    "\n",
    "* Stripping strings: Often we want to remove spaces, this is achived with the functions **`strip()`**, **`lstrip()`**, and **`rstrip()`** respectively to remove from spaces from the both end, just left or just the right respectively. An optional argument can be used to list a set of other characters to be removed."
   ]
  },
  {
   "cell_type": "code",
   "execution_count": 64,
   "metadata": {},
   "outputs": [
    {
     "name": "stdout",
     "output_type": "stream",
     "text": [
      "Hello welcome to this class! vs Hello Welcome To This Class!\n"
     ]
    }
   ],
   "source": [
    "#Example\n",
    "\n",
    "word = \"hello WeLCOme to this class!\"\n",
    "\n",
    "print(word.capitalize(), \"vs\", word.title())"
   ]
  },
  {
   "cell_type": "code",
   "execution_count": 80,
   "metadata": {
    "scrolled": true
   },
   "outputs": [
    {
     "name": "stdout",
     "output_type": "stream",
     "text": [
      "upper case: 'HELLO WELCOME TO THIS CLASS!' lower case: 'hello welcome to this class!' and swapped: 'HELLO wElcoME TO THIS CLASS!'\n"
     ]
    }
   ],
   "source": [
    "print(\"upper case: '%s'\"%word.upper(),\"lower case: '%s'\"%word.lower(), \"and swapped: '%s'\"%word.swapcase())"
   ]
  },
  {
   "cell_type": "code",
   "execution_count": 81,
   "metadata": {},
   "outputs": [
    {
     "name": "stdout",
     "output_type": "stream",
     "text": [
      "Hello Somebody\n"
     ]
    }
   ],
   "source": [
    "print(\"Hello Everyone\".replace(\"Everyone\", \"Somebody\"))"
   ]
  },
  {
   "cell_type": "markdown",
   "metadata": {},
   "source": [
    "#### Inspecting Strings\n",
    "\n",
    "* Checking the start or end of a string: **`startswith(\"string\")`** and **`endswith(\"string\")`** checks if it starts/ends with the string given as argument\n",
    "\n",
    "* Capitalisation: There are boolean counterparts for all forms of capitalisation, such as **`isupper()`**, **`islower()`** and **`istitle()`**\n",
    "\n",
    "* Character type: does the string only contain the characters:\n",
    "  * 0-9: **`isdecimal()`**. Note there is also **`isnumeric()`** and **`isdigit()`** which are effectively the same function except for certain unicode characters\n",
    "  * a-zA-Z: **`isalpha()`** or combined with digits: **`isalnum()`**\n",
    "  * non-control code: **`isprintable()`** accepts anything except '\\n' an other ASCII control codes\n",
    "  * \\t\\n \\r (white space characters): **`isspace()`**\n",
    "  * Suitable as variable name: **`isidentifier()`**\n",
    "  \n",
    "* Find elements of string: **`s.count(w)`** finds the number of times **`w`** occurs in **`s`**, while **`s.find(w)`** and **`s.rfind(w)`** find the first and last position of the string **`w`** in **`s`**."
   ]
  },
  {
   "cell_type": "code",
   "execution_count": 83,
   "metadata": {},
   "outputs": [
    {
     "name": "stdout",
     "output_type": "stream",
     "text": [
      "The length of 'This is the last topic in string data structure' is 47 characters\n"
     ]
    }
   ],
   "source": [
    "word = \"This is the last topic in string data structure\"\n",
    "print(\"The length of '%s' is\" %word, len(word), \"characters\")"
   ]
  },
  {
   "cell_type": "code",
   "execution_count": 84,
   "metadata": {},
   "outputs": [
    {
     "data": {
      "text/plain": [
       "False"
      ]
     },
     "execution_count": 84,
     "metadata": {},
     "output_type": "execute_result"
    }
   ],
   "source": [
    "word.startswith(\"Hello.\") and word.endswith(\"Thank you for attending\")"
   ]
  },
  {
   "cell_type": "markdown",
   "metadata": {},
   "source": [
    "## Python List"
   ]
  },
  {
   "cell_type": "markdown",
   "metadata": {},
   "source": [
    "### What is List in Python?\n",
    "\n",
    "| Data Types        | Type         |         |\n",
    "| :---------------: | :-----------:| :------:|\n",
    "| **String**        | **immutable**   |\n",
    "| **List**          | **mutable**     |\n",
    "\n",
    "<div>\n",
    " <img src =\"img/l0.png\" width=\"600\"/>  \n",
    "</div>"
   ]
  },
  {
   "cell_type": "markdown",
   "metadata": {},
   "source": [
    "### Creating Python List"
   ]
  },
  {
   "cell_type": "code",
   "execution_count": 90,
   "metadata": {},
   "outputs": [
    {
     "name": "stdout",
     "output_type": "stream",
     "text": [
      "[]\n",
      "0\n",
      "[6, 8, 5, 19]\n",
      "The length of myList1 is 4\n",
      "[6, 'Olalekan', 8, 'Adeolu', 5, 9.8, 19]\n",
      "The length of myList2 is 7\n",
      "[6, 'Olalekan', 8, ['Ademola', 18, 89], 'Adeolu', 5, 9.8, 19]\n",
      "The length of myList3 is 8\n"
     ]
    }
   ],
   "source": [
    "#Example: Creating List\n",
    "\n",
    "#empty List\n",
    "myList = []\n",
    "print(myList)\n",
    "print(len(myList))\n",
    "\n",
    "#List of integers\n",
    "myList1 = [6, 8, 5, 19]\n",
    "print(myList1)\n",
    "print(\"The length of myList1 is\", len(myList1))\n",
    "\n",
    "#List of mixed data types\n",
    "myList2 = [6, \"Olalekan\", 8, \"Adeolu\", 5, 9.8, 19]\n",
    "print(myList2)\n",
    "print(\"The length of myList2 is\", len(myList2))\n",
    "\n",
    "#List of nested types\n",
    "myList3 = [6, \"Olalekan\", 8, [\"Ademola\", 18, 89], \"Adeolu\", 5, 9.8, 19]\n",
    "print(myList3)\n",
    "print(\"The length of myList3 is\", len(myList3))"
   ]
  },
  {
   "cell_type": "markdown",
   "metadata": {},
   "source": [
    "### Accessing Elemnets from a List in Python"
   ]
  },
  {
   "cell_type": "markdown",
   "metadata": {},
   "source": [
    "#### List Index"
   ]
  },
  {
   "cell_type": "code",
   "execution_count": 94,
   "metadata": {},
   "outputs": [
    {
     "name": "stdout",
     "output_type": "stream",
     "text": [
      "Olalekan\n",
      "Omolola\n",
      "Olode\n",
      "\n",
      "---------Nested Lists--------\n",
      "y\n",
      "87\n"
     ]
    }
   ],
   "source": [
    "mynewlist = ['Olalekan', 'Ademola', \"Olusola\", \"Omolola\", \"Ajibola\", \"Olode\", \"Adebanji\"]\n",
    "\n",
    "print(mynewlist[0])\n",
    "print(mynewlist[3])\n",
    "print(mynewlist[5])\n",
    "\n",
    "print()\n",
    "print(\"---------Nested Lists--------\")\n",
    "nestedlist = [\"Python Fundamentals\", [10, 7, 45, 87]]\n",
    "\n",
    "#nested Indexing\n",
    "print(nestedlist[0][1])\n",
    "print(nestedlist[1][3])"
   ]
  },
  {
   "cell_type": "markdown",
   "metadata": {},
   "source": [
    "#### Negative Indexing"
   ]
  },
  {
   "cell_type": "code",
   "execution_count": 97,
   "metadata": {},
   "outputs": [
    {
     "name": "stdout",
     "output_type": "stream",
     "text": [
      "n\n",
      "a\n",
      "k\n",
      "['o', 'l', 'a', 'l', 'e', 'k', 'a', 'n']\n"
     ]
    }
   ],
   "source": [
    "negindexlist = [\"o\", \"l\", \"a\",\"l\", \"e\", \"k\", \"a\", \"n\"]\n",
    "\n",
    "print(negindexlist[-1])\n",
    "print(negindexlist[-2])\n",
    "print(negindexlist[-3])\n",
    "print(negindexlist[:])"
   ]
  },
  {
   "cell_type": "markdown",
   "metadata": {},
   "source": [
    "#### How to Slice Lists in Python"
   ]
  },
  {
   "cell_type": "code",
   "execution_count": 101,
   "metadata": {},
   "outputs": [
    {
     "name": "stdout",
     "output_type": "stream",
     "text": [
      "['o', 'l', 'a', 'l', 'e', 'k', 'a', 'n']\n",
      "['o', 'l']\n",
      "['a', 'l', 'e']\n",
      "['l', 'e', 'k', 'a', 'n']\n"
     ]
    }
   ],
   "source": [
    "print(negindexlist[:])\n",
    "\n",
    "print(negindexlist[:2])\n",
    "print(negindexlist[2:5])\n",
    "print(negindexlist[3:])"
   ]
  },
  {
   "cell_type": "markdown",
   "metadata": {},
   "source": [
    "### Python List Operation"
   ]
  },
  {
   "cell_type": "markdown",
   "metadata": {},
   "source": [
    "#### 1. Add/Change List Elements\n",
    "\n",
    "You can change the List elements/items"
   ]
  },
  {
   "cell_type": "code",
   "execution_count": 105,
   "metadata": {},
   "outputs": [
    {
     "name": "stdout",
     "output_type": "stream",
     "text": [
      "[2, 4, 6, 8, 10, 14, 16]\n",
      "[2, 4, 6, 12, 10, 14, 16]\n",
      "[2, 4, 6, 18, 20, 22, 14, 16]\n",
      "[2, 4, 'This is a new string', 18, 20, 22, 14, 16]\n"
     ]
    }
   ],
   "source": [
    "evenNumber = [2, 4, 6, 8, 10, 14, 16]\n",
    "\n",
    "print(evenNumber)\n",
    "\n",
    "evenNumber[3] = 12\n",
    "print(evenNumber)\n",
    "\n",
    "evenNumber[3:5] = [18, 20, 22]\n",
    "print(evenNumber)\n",
    "\n",
    "evenNumber[2] = \"This is a new string\"\n",
    "print(evenNumber)"
   ]
  },
  {
   "cell_type": "markdown",
   "metadata": {},
   "source": [
    "You can also add elements to the list. \n",
    "\n",
    "You use the `append()` methods to add 1 element/item to the list at a time and the `extend()` to add\n",
    "mulitple elements/items to the list"
   ]
  },
  {
   "cell_type": "code",
   "execution_count": 107,
   "metadata": {
    "scrolled": true
   },
   "outputs": [
    {
     "name": "stdout",
     "output_type": "stream",
     "text": [
      "[1, 3, 7]\n",
      "[1, 3, 7, 5]\n",
      "[1, 3, 7, 5, 9, 13, 15, 17, 19]\n"
     ]
    }
   ],
   "source": [
    "oddnumber = [1, 3, 7]\n",
    "print(oddnumber)\n",
    "\n",
    "oddnumber.append(5)\n",
    "print(oddnumber)\n",
    "\n",
    "oddnumber.extend([9, 13, 15, 17, 19])\n",
    "print(oddnumber)"
   ]
  },
  {
   "cell_type": "code",
   "execution_count": 108,
   "metadata": {
    "scrolled": false
   },
   "outputs": [
    {
     "name": "stdout",
     "output_type": "stream",
     "text": [
      "['olalekan', 'Adeyemi', 'Ademola', 'Ajoke', 'Olusola']\n",
      "['olalekan', 'Adeyemi', 'Ademola', 'Ajoke', 'Olusola', 6.9]\n",
      "['olalekan', 'Adeyemi', 'Ademola', 'Ajoke', 'Olusola', 6.9, 'Adejoke']\n",
      "['olalekan', 'Adeyemi', 'Ademola', 'Ajoke', 'Olusola', 6.9, 'Adejoke', ['Olubunmi', 'Omolola']]\n"
     ]
    }
   ],
   "source": [
    "my_list = ['olalekan', 'Adeyemi', 'Ademola', 'Ajoke', \"Olusola\"]\n",
    "print(my_list)\n",
    "my_list.append(6.9)\n",
    "print(my_list)\n",
    "my_list.append(\"Adejoke\")\n",
    "print(my_list)\n",
    "my_list.append([\"Olubunmi\", \"Omolola\"])\n",
    "\n",
    "print(my_list)"
   ]
  },
  {
   "cell_type": "markdown",
   "metadata": {},
   "source": [
    "You can also use the `+` concatenation operator to combine to lists"
   ]
  },
  {
   "cell_type": "code",
   "execution_count": 109,
   "metadata": {},
   "outputs": [
    {
     "name": "stdout",
     "output_type": "stream",
     "text": [
      "[2, 8, 10, 15]\n",
      "[2, 8, 10, 15, 3, 4, 5, 6, 7, 9, 11, 12, 13, 14]\n"
     ]
    }
   ],
   "source": [
    "newlist = [2, 8, 10, 15]\n",
    "print(newlist)\n",
    "\n",
    "print(newlist + [3, 4, 5, 6, 7, 9, 11, 12, 13, 14])"
   ]
  },
  {
   "cell_type": "code",
   "execution_count": 110,
   "metadata": {},
   "outputs": [
    {
     "name": "stdout",
     "output_type": "stream",
     "text": [
      "['olalekan', 'Adeyemi', 'Ademola']\n",
      "['Olubunmi', 'Omolola']\n",
      "['olalekan', 'Adeyemi', 'Ademola', 'Olubunmi', 'Omolola']\n"
     ]
    }
   ],
   "source": [
    "newlist1 = ['olalekan', 'Adeyemi', 'Ademola']\n",
    "print(newlist1)\n",
    "newlist2 = [\"Olubunmi\", \"Omolola\"]\n",
    "print(newlist2)\n",
    "newlist3 = newlist1 + newlist2\n",
    "print(newlist3)"
   ]
  },
  {
   "cell_type": "code",
   "execution_count": 111,
   "metadata": {
    "scrolled": true
   },
   "outputs": [
    {
     "ename": "TypeError",
     "evalue": "can only concatenate list (not \"str\") to list",
     "output_type": "error",
     "traceback": [
      "\u001b[1;31m---------------------------------------------------------------------------\u001b[0m",
      "\u001b[1;31mTypeError\u001b[0m                                 Traceback (most recent call last)",
      "\u001b[1;32m~\\AppData\\Local\\Temp\\ipykernel_20620\\2303178531.py\u001b[0m in \u001b[0;36m<module>\u001b[1;34m\u001b[0m\n\u001b[0;32m      1\u001b[0m \u001b[0mnewlist4\u001b[0m \u001b[1;33m=\u001b[0m \u001b[1;33m[\u001b[0m\u001b[1;34m'a'\u001b[0m \u001b[1;33m,\u001b[0m \u001b[1;34m'b'\u001b[0m\u001b[1;33m,\u001b[0m \u001b[1;34m'c'\u001b[0m\u001b[1;33m]\u001b[0m\u001b[1;33m\u001b[0m\u001b[1;33m\u001b[0m\u001b[0m\n\u001b[0;32m      2\u001b[0m \u001b[0mname\u001b[0m \u001b[1;33m=\u001b[0m \u001b[1;34m\"Olalekan\"\u001b[0m\u001b[1;33m\u001b[0m\u001b[1;33m\u001b[0m\u001b[0m\n\u001b[1;32m----> 3\u001b[1;33m \u001b[0mprint\u001b[0m\u001b[1;33m(\u001b[0m\u001b[0mnewlist4\u001b[0m \u001b[1;33m+\u001b[0m \u001b[0mname\u001b[0m\u001b[1;33m)\u001b[0m\u001b[1;33m\u001b[0m\u001b[1;33m\u001b[0m\u001b[0m\n\u001b[0m",
      "\u001b[1;31mTypeError\u001b[0m: can only concatenate list (not \"str\") to list"
     ]
    }
   ],
   "source": [
    "newlist4 = ['a' , 'b', 'c']\n",
    "name = \"Olalekan\"\n",
    "print(newlist4 + name)"
   ]
  },
  {
   "cell_type": "markdown",
   "metadata": {},
   "source": [
    "Also note that the `*` operator is used to repeat the list for a given number of time"
   ]
  },
  {
   "cell_type": "code",
   "execution_count": 112,
   "metadata": {
    "scrolled": true
   },
   "outputs": [
    {
     "name": "stdout",
     "output_type": "stream",
     "text": [
      "['a', 'b', 'c', 9, 16, 14]\n",
      "['Olalekan', 'Olalekan', 'Olalekan', 'Olalekan', 'Olalekan']\n"
     ]
    }
   ],
   "source": [
    "newlist5 = ['a' , 'b', 'c']\n",
    "print(newlist5 + [9, 16, 14])\n",
    "print([\"Olalekan\"]* 5)"
   ]
  },
  {
   "cell_type": "code",
   "execution_count": 113,
   "metadata": {
    "scrolled": true
   },
   "outputs": [
    {
     "name": "stdout",
     "output_type": "stream",
     "text": [
      "['Olubunmi', 'Omolola', 'Olubunmi', 'Omolola', 'Olubunmi', 'Omolola']\n"
     ]
    }
   ],
   "source": [
    "newlist6 = [\"Olubunmi\", \"Omolola\"]\n",
    "print(newlist6*3)"
   ]
  },
  {
   "cell_type": "markdown",
   "metadata": {},
   "source": [
    "Also, note that you can insert one element/item at a desired location bu using the `insert()` method or you can insert multiple items by squeezing it into am empty slice of a list"
   ]
  },
  {
   "cell_type": "code",
   "execution_count": 114,
   "metadata": {},
   "outputs": [
    {
     "name": "stdout",
     "output_type": "stream",
     "text": [
      "['olalekan', 'Adeyemi', 'Ademola', 'Ajoke', 'Olusola']\n",
      "['olalekan', 'Oluyemi', 'Adeyemi', 'Ademola', 'Ajoke', 'Olusola']\n",
      "['olalekan', 'Oluyemi', 10, 16, 'Adeyemi', 'Ademola', 'Ajoke', 'Olusola']\n"
     ]
    }
   ],
   "source": [
    "my_list1 = ['olalekan', 'Adeyemi', 'Ademola', 'Ajoke', \"Olusola\"]\n",
    "print(my_list1)\n",
    "\n",
    "my_list1.insert(1, \"Oluyemi\")\n",
    "print(my_list1)\n",
    "\n",
    "my_list1[2:2] = [10, 16]\n",
    "print(my_list1)"
   ]
  },
  {
   "cell_type": "markdown",
   "metadata": {},
   "source": [
    "#### 2. Delete/Remove List Elements\n",
    "\n",
    "You can delete one or more elements/items from a list and to do that you just use the keyword `del`. The keyword can also be used to delete the entire list"
   ]
  },
  {
   "cell_type": "code",
   "execution_count": 117,
   "metadata": {
    "scrolled": true
   },
   "outputs": [
    {
     "name": "stdout",
     "output_type": "stream",
     "text": [
      "['olalekan', 'Adeyemi', 'Ademola', 'Ajoke', 'Olusola']\n",
      "['olalekan', 'Adeyemi', 'Ajoke', 'Olusola']\n",
      "['olalekan', 'Adeyemi']\n"
     ]
    },
    {
     "ename": "NameError",
     "evalue": "name 'my_list2' is not defined",
     "output_type": "error",
     "traceback": [
      "\u001b[1;31m---------------------------------------------------------------------------\u001b[0m",
      "\u001b[1;31mNameError\u001b[0m                                 Traceback (most recent call last)",
      "\u001b[1;32m~\\AppData\\Local\\Temp\\ipykernel_20620\\1840486018.py\u001b[0m in \u001b[0;36m<module>\u001b[1;34m\u001b[0m\n\u001b[0;32m      7\u001b[0m \u001b[1;33m\u001b[0m\u001b[0m\n\u001b[0;32m      8\u001b[0m \u001b[1;32mdel\u001b[0m \u001b[0mmy_list2\u001b[0m\u001b[1;33m\u001b[0m\u001b[1;33m\u001b[0m\u001b[0m\n\u001b[1;32m----> 9\u001b[1;33m \u001b[0mprint\u001b[0m\u001b[1;33m(\u001b[0m\u001b[0mmy_list2\u001b[0m\u001b[1;33m)\u001b[0m\u001b[1;33m\u001b[0m\u001b[1;33m\u001b[0m\u001b[0m\n\u001b[0m",
      "\u001b[1;31mNameError\u001b[0m: name 'my_list2' is not defined"
     ]
    }
   ],
   "source": [
    "my_list2 = ['olalekan', 'Adeyemi', 'Ademola', 'Ajoke', \"Olusola\"]\n",
    "print(my_list2)\n",
    "del my_list2[2]\n",
    "print(my_list2)\n",
    "del my_list2[2:4]\n",
    "print(my_list2)\n",
    "\n",
    "del my_list2\n",
    "print(my_list2)"
   ]
  },
  {
   "cell_type": "markdown",
   "metadata": {},
   "source": [
    "We can also use the `remove()` to remove a given item or the `pop()` method to remove an item at a given index. Note that the `pop()` method will remove and returns the last item if the index is not provided. You can also use the `clear()` method to empty a list"
   ]
  },
  {
   "cell_type": "code",
   "execution_count": 118,
   "metadata": {
    "scrolled": true
   },
   "outputs": [
    {
     "name": "stdout",
     "output_type": "stream",
     "text": [
      "['olalekan', 'Adeyemi', 'Ademola', 'Ajoke', 'Olusola', 'Ajike', 'Samuel', 'Adebanji']\n",
      "['olalekan', 'Ademola', 'Ajoke', 'Olusola', 'Ajike', 'Samuel', 'Adebanji']\n",
      "Ademola\n",
      "['olalekan', 'Ajoke', 'Olusola', 'Ajike', 'Samuel', 'Adebanji']\n",
      "Adebanji\n",
      "['olalekan', 'Ajoke', 'Olusola', 'Ajike', 'Samuel']\n",
      "[]\n"
     ]
    }
   ],
   "source": [
    "my_list4 = ['olalekan', 'Adeyemi', 'Ademola', 'Ajoke', \"Olusola\", \"Ajike\", \"Samuel\", \"Adebanji\"]\n",
    "print(my_list4)\n",
    "\n",
    "my_list4.remove(\"Adeyemi\")\n",
    "print(my_list4)\n",
    "\n",
    "print(my_list4.pop(1))\n",
    "print(my_list4)\n",
    "print(my_list4.pop())\n",
    "print(my_list4)\n",
    "my_list4.clear()\n",
    "print(my_list4)"
   ]
  },
  {
   "cell_type": "markdown",
   "metadata": {},
   "source": [
    "Also, we can delete items in a list by assigning an empty list to a slice of items"
   ]
  },
  {
   "cell_type": "code",
   "execution_count": 119,
   "metadata": {},
   "outputs": [
    {
     "name": "stdout",
     "output_type": "stream",
     "text": [
      "['olalekan', 'Adeyemi', 'Ademola', 'Ajoke', 'Olusola', 'Ajike', 'Samuel', 'Adebanji']\n",
      "['olalekan', 'Adeyemi', 'Ajoke', 'Olusola', 'Ajike', 'Samuel', 'Adebanji']\n",
      "['olalekan', 'Adeyemi', 'Olusola', 'Ajike', 'Samuel', 'Adebanji']\n"
     ]
    }
   ],
   "source": [
    "my_list5 = ['olalekan', 'Adeyemi', 'Ademola', 'Ajoke', \"Olusola\", \"Ajike\", \"Samuel\", \"Adebanji\"]\n",
    "print(my_list5)\n",
    "my_list5[2:3] = []\n",
    "print(my_list5)\n",
    "\n",
    "my_list5[2:-4] = []\n",
    "print(my_list5)"
   ]
  },
  {
   "cell_type": "markdown",
   "metadata": {},
   "source": [
    "###  Python Built-in List Functions\n",
    "\n",
    "| Functions | Description |\n",
    "|:----| :--- |\n",
    "| **[all()]** |   Returns **`True`** when all elements in the given iterable are true. If not, it returns False | \n",
    "| **[any()]** |   Returns **`True`** if any key of the list is true. If the list is empty, return **`False`**. | \n",
    "| **[sorted()]** |   Returns a new sorted list of elements in the list. sorts the elements of a given iterable in a specific order (either ascending or descending) and returns the sorted iterable as a list| \n",
    "| **[min()]** |   Returns the minimum value from the list given. In Python3 lists element's type should be same otherwise compiler throw type Error| \n",
    "| **[max()]** |   Returns the maximum value from the list given. | \n",
    "| **[len()]** |   Returns number of elements in a list. | \n",
    "| **cmp()** |   Compares items of two lists. (Not available in Python 3). | \n",
    "| **[list()]** |   Takes sequence types and converts them to lists. | "
   ]
  },
  {
   "cell_type": "markdown",
   "metadata": {},
   "source": [
    "### `all()` function"
   ]
  },
  {
   "cell_type": "code",
   "execution_count": 121,
   "metadata": {
    "scrolled": true
   },
   "outputs": [
    {
     "name": "stdout",
     "output_type": "stream",
     "text": [
      "True\n",
      "False\n",
      "False\n",
      "False\n",
      "True\n"
     ]
    }
   ],
   "source": [
    "                                                                                                           mynewlist = [1, 2, 4, 5, 6]\n",
    "print(all(mynewlist))\n",
    "\n",
    "mynewlist =[0, False]\n",
    "print(all(mynewlist))\n",
    "\n",
    "mynewlist = [1, 2, 4, 0]\n",
    "print(all(mynewlist))\n",
    "\n",
    "mynewlist=[0, False, 5]\n",
    "print(all(mynewlist))\n",
    "\n",
    "mynewlist=[]\n",
    "print(all(mynewlist))"
   ]
  },
  {
   "cell_type": "markdown",
   "metadata": {},
   "source": [
    "### `any()` function"
   ]
  },
  {
   "cell_type": "code",
   "execution_count": 123,
   "metadata": {},
   "outputs": [
    {
     "name": "stdout",
     "output_type": "stream",
     "text": [
      "True\n",
      "False\n",
      "True\n",
      "False\n"
     ]
    }
   ],
   "source": [
    "mynewlist1 = [1, 3, 4, 0]\n",
    "print(any(mynewlist1))\n",
    "\n",
    "mynewlist1 =[0, False]\n",
    "print(any(mynewlist1))\n",
    "\n",
    "mynewlist1=[0, False, 5]\n",
    "print(any(mynewlist1))\n",
    "\n",
    "mynewlist1=[]\n",
    "print(any(mynewlist1))"
   ]
  },
  {
   "cell_type": "markdown",
   "metadata": {},
   "source": [
    "### `sorted()` function"
   ]
  },
  {
   "cell_type": "code",
   "execution_count": 126,
   "metadata": {},
   "outputs": [
    {
     "name": "stdout",
     "output_type": "stream",
     "text": [
      "['a', 'b', 'e', 'f', 'g', 'i', 'o', 'u']\n",
      "['u', 'o', 'i', 'g', 'f', 'e', 'b', 'a']\n"
     ]
    }
   ],
   "source": [
    "sorted_list = ['e', 'o', 'i', 'u', 'a', 'b', 'f', 'g']\n",
    "\n",
    "print(sorted(sorted_list))\n",
    "print(sorted(sorted_list, reverse=True))"
   ]
  },
  {
   "cell_type": "markdown",
   "metadata": {},
   "source": [
    "### `min()` function"
   ]
  },
  {
   "cell_type": "code",
   "execution_count": 129,
   "metadata": {},
   "outputs": [
    {
     "name": "stdout",
     "output_type": "stream",
     "text": [
      "a\n",
      "23\n"
     ]
    }
   ],
   "source": [
    "min_list = ['a', 'b', 'c', 'd', 'e', 'f']\n",
    "print(min(min_list))\n",
    "\n",
    "min_list2 = [67, 98, 34, 56, 23, 81]\n",
    "print(min(min_list2))"
   ]
  },
  {
   "cell_type": "code",
   "execution_count": 130,
   "metadata": {
    "scrolled": false
   },
   "outputs": [
    {
     "ename": "TypeError",
     "evalue": "'<' not supported between instances of 'int' and 'str'",
     "output_type": "error",
     "traceback": [
      "\u001b[1;31m---------------------------------------------------------------------------\u001b[0m",
      "\u001b[1;31mTypeError\u001b[0m                                 Traceback (most recent call last)",
      "\u001b[1;32m~\\AppData\\Local\\Temp\\ipykernel_20620\\154498705.py\u001b[0m in \u001b[0;36m<module>\u001b[1;34m\u001b[0m\n\u001b[0;32m      1\u001b[0m \u001b[0mmin_list3\u001b[0m \u001b[1;33m=\u001b[0m \u001b[1;33m[\u001b[0m\u001b[1;34m'a'\u001b[0m\u001b[1;33m,\u001b[0m \u001b[1;34m'b'\u001b[0m\u001b[1;33m,\u001b[0m \u001b[1;34m'c'\u001b[0m\u001b[1;33m,\u001b[0m \u001b[1;34m'd'\u001b[0m\u001b[1;33m,\u001b[0m \u001b[1;34m'e'\u001b[0m\u001b[1;33m,\u001b[0m \u001b[1;34m'f'\u001b[0m\u001b[1;33m,\u001b[0m \u001b[1;36m67\u001b[0m\u001b[1;33m,\u001b[0m \u001b[1;36m98\u001b[0m\u001b[1;33m,\u001b[0m \u001b[1;36m34\u001b[0m\u001b[1;33m,\u001b[0m \u001b[1;36m56\u001b[0m\u001b[1;33m,\u001b[0m \u001b[1;36m23\u001b[0m\u001b[1;33m]\u001b[0m\u001b[1;33m\u001b[0m\u001b[1;33m\u001b[0m\u001b[0m\n\u001b[1;32m----> 2\u001b[1;33m \u001b[0mprint\u001b[0m\u001b[1;33m(\u001b[0m\u001b[0mmin\u001b[0m\u001b[1;33m(\u001b[0m\u001b[0mmin_list3\u001b[0m\u001b[1;33m)\u001b[0m\u001b[1;33m)\u001b[0m\u001b[1;33m\u001b[0m\u001b[1;33m\u001b[0m\u001b[0m\n\u001b[0m",
      "\u001b[1;31mTypeError\u001b[0m: '<' not supported between instances of 'int' and 'str'"
     ]
    }
   ],
   "source": [
    "min_list3 = ['a', 'b', 'c', 'd', 'e', 'f', 67, 98, 34, 56, 23]\n",
    "print(min(min_list3))"
   ]
  },
  {
   "cell_type": "markdown",
   "metadata": {},
   "source": [
    "### `max()` function"
   ]
  },
  {
   "cell_type": "code",
   "execution_count": 131,
   "metadata": {},
   "outputs": [
    {
     "name": "stdout",
     "output_type": "stream",
     "text": [
      "f\n",
      "98\n"
     ]
    }
   ],
   "source": [
    "min_list = ['a', 'b', 'c', 'd', 'e', 'f']\n",
    "print(max(min_list))\n",
    "\n",
    "min_list2 = [67, 98, 34, 56, 23, 81]\n",
    "print(max(min_list2))"
   ]
  },
  {
   "cell_type": "code",
   "execution_count": 132,
   "metadata": {
    "scrolled": true
   },
   "outputs": [
    {
     "ename": "TypeError",
     "evalue": "'>' not supported between instances of 'int' and 'str'",
     "output_type": "error",
     "traceback": [
      "\u001b[1;31m---------------------------------------------------------------------------\u001b[0m",
      "\u001b[1;31mTypeError\u001b[0m                                 Traceback (most recent call last)",
      "\u001b[1;32m~\\AppData\\Local\\Temp\\ipykernel_20620\\2657558109.py\u001b[0m in \u001b[0;36m<module>\u001b[1;34m\u001b[0m\n\u001b[0;32m      1\u001b[0m \u001b[0mmin_list3\u001b[0m \u001b[1;33m=\u001b[0m \u001b[1;33m[\u001b[0m\u001b[1;34m'a'\u001b[0m\u001b[1;33m,\u001b[0m \u001b[1;34m'b'\u001b[0m\u001b[1;33m,\u001b[0m \u001b[1;34m'c'\u001b[0m\u001b[1;33m,\u001b[0m \u001b[1;34m'd'\u001b[0m\u001b[1;33m,\u001b[0m \u001b[1;34m'e'\u001b[0m\u001b[1;33m,\u001b[0m \u001b[1;34m'f'\u001b[0m\u001b[1;33m,\u001b[0m \u001b[1;36m67\u001b[0m\u001b[1;33m,\u001b[0m \u001b[1;36m98\u001b[0m\u001b[1;33m,\u001b[0m \u001b[1;36m34\u001b[0m\u001b[1;33m,\u001b[0m \u001b[1;36m56\u001b[0m\u001b[1;33m,\u001b[0m \u001b[1;36m23\u001b[0m\u001b[1;33m]\u001b[0m\u001b[1;33m\u001b[0m\u001b[1;33m\u001b[0m\u001b[0m\n\u001b[1;32m----> 2\u001b[1;33m \u001b[0mprint\u001b[0m\u001b[1;33m(\u001b[0m\u001b[0mmax\u001b[0m\u001b[1;33m(\u001b[0m\u001b[0mmin_list3\u001b[0m\u001b[1;33m)\u001b[0m\u001b[1;33m)\u001b[0m\u001b[1;33m\u001b[0m\u001b[1;33m\u001b[0m\u001b[0m\n\u001b[0m",
      "\u001b[1;31mTypeError\u001b[0m: '>' not supported between instances of 'int' and 'str'"
     ]
    }
   ],
   "source": [
    "min_list3 = ['a', 'b', 'c', 'd', 'e', 'f', 67, 98, 34, 56, 23]\n",
    "print(max(min_list3))"
   ]
  },
  {
   "cell_type": "markdown",
   "metadata": {},
   "source": [
    "### `len()` function"
   ]
  },
  {
   "cell_type": "code",
   "execution_count": 133,
   "metadata": {},
   "outputs": [
    {
     "name": "stdout",
     "output_type": "stream",
     "text": [
      "6\n",
      "6\n"
     ]
    }
   ],
   "source": [
    "min_list = ['a', 'b', 'c', 'd', 'e', 'f']\n",
    "print(len(min_list))\n",
    "\n",
    "min_list2 = [67, 98, 34, 56, 23, 81]\n",
    "print(len(min_list2))"
   ]
  },
  {
   "cell_type": "code",
   "execution_count": 134,
   "metadata": {},
   "outputs": [
    {
     "name": "stdout",
     "output_type": "stream",
     "text": [
      "11\n"
     ]
    }
   ],
   "source": [
    "min_list3 = ['a', 'b', 'c', 'd', 'e', 'f', 67, 98, 34, 56, 23]\n",
    "print(len(min_list3))"
   ]
  },
  {
   "cell_type": "markdown",
   "metadata": {},
   "source": [
    "### Python List Methods\n",
    "\n",
    "| Method | Description |\n",
    "|:----| :--- |\n",
    "| **[append()]** | Add an element to the end of the list | \n",
    "| **[extend()]** | Add all elements of a list to the another list |\n",
    "| **[insert()]** | Insert an item at the defined index |\n",
    "| **[remove()]** | Removes an item from the list |\n",
    "| **[pop()]** | Removes and returns an element at the given index \n",
    "| **[clear()]** | Removes all items from the list |\n",
    "| **[index()]** | Returns the index of the first matched item | \n",
    "| **[count()]** | Returns the count of the number of items passed as an argument |\n",
    "| **[sort()]** | Sort items in a list in ascending order |\n",
    "| **[reverse()]** |  Reverse the order of items in the list |\n",
    "| **[copy()]** | Returns a shallow copy of the list |"
   ]
  },
  {
   "cell_type": "markdown",
   "metadata": {},
   "source": [
    "### List Comprehension: A Classy method to Create New list"
   ]
  },
  {
   "cell_type": "markdown",
   "metadata": {},
   "source": [
    "#### List Comprehension vs String vs For Loop in Python"
   ]
  },
  {
   "cell_type": "code",
   "execution_count": 1,
   "metadata": {},
   "outputs": [
    {
     "name": "stdout",
     "output_type": "stream",
     "text": [
      "['O', 'l', 'a', 'l', 'e', 'k', 'a', 'n']\n",
      "<class 'list'>\n"
     ]
    }
   ],
   "source": [
    "name = 'Olalekan'\n",
    "\n",
    "newlist = list(name)\n",
    "print(newlist)\n",
    "print(type(newlist))"
   ]
  },
  {
   "cell_type": "code",
   "execution_count": 2,
   "metadata": {},
   "outputs": [
    {
     "name": "stdout",
     "output_type": "stream",
     "text": [
      "['O', 'l', 'a', 'l', 'e', 'k', 'a', 'n']\n",
      "<class 'list'>\n"
     ]
    }
   ],
   "source": [
    "list_letters = []\n",
    "\n",
    "for letter in name:\n",
    "    list_letters.append(letter)\n",
    "    \n",
    "print(list_letters)\n",
    "print(type(list_letters))"
   ]
  },
  {
   "cell_type": "code",
   "execution_count": 3,
   "metadata": {},
   "outputs": [
    {
     "name": "stdout",
     "output_type": "stream",
     "text": [
      "['O', 'l', 'a', 'l', 'e', 'k', 'a', 'n']\n",
      "<class 'list'>\n"
     ]
    }
   ],
   "source": [
    "list_letters = [letter for letter in name]\n",
    "print(list_letters)\n",
    "print(type(list_letters))"
   ]
  },
  {
   "cell_type": "markdown",
   "metadata": {},
   "source": [
    "#### Syntax of List Comprehension\n",
    "\n",
    "```python\n",
    "[expression for item in list]\n",
    "```\n",
    "\n",
    "<div>\n",
    "   <img src =\"img/exlc.png\" width=\"300\" />\n",
    "   </div>"
   ]
  },
  {
   "cell_type": "markdown",
   "metadata": {},
   "source": [
    "#### Conditionals in List Comprehension"
   ]
  },
  {
   "cell_type": "code",
   "execution_count": 5,
   "metadata": {},
   "outputs": [
    {
     "name": "stdout",
     "output_type": "stream",
     "text": [
      "[1, 2, 4, 8, 16, 32, 64, 128, 256, 512, 1024, 2048, 4096, 8192, 16384, 32768, 65536, 131072, 262144, 524288]\n"
     ]
    }
   ],
   "source": [
    "#Example: Program to generate power of a number\n",
    "\n",
    "power = [2 ** x for x in range (20)]\n",
    "print(power)"
   ]
  },
  {
   "cell_type": "code",
   "execution_count": 6,
   "metadata": {},
   "outputs": [
    {
     "name": "stdout",
     "output_type": "stream",
     "text": [
      "[1, 2, 4, 8, 16, 32, 64, 128, 256, 512, 1024, 2048, 4096, 8192, 16384, 32768, 65536, 131072, 262144, 524288]\n"
     ]
    }
   ],
   "source": [
    "power = []\n",
    "\n",
    "for x in range(20):\n",
    "    power.append(2 ** x)\n",
    "print(power)"
   ]
  },
  {
   "cell_type": "markdown",
   "metadata": {},
   "source": [
    "Optionally, a list comprehension can contain more for or if statements. These optional for or if statements can filter out items for the new list"
   ]
  },
  {
   "cell_type": "code",
   "execution_count": 7,
   "metadata": {},
   "outputs": [
    {
     "name": "stdout",
     "output_type": "stream",
     "text": [
      "[0, 1, 2, 3, 4, 5, 6, 7, 8, 9]\n"
     ]
    }
   ],
   "source": [
    "#For instance if you want to generate list of numbers\n",
    "\n",
    "numbers = [i for i in range(10)]\n",
    "print(numbers)"
   ]
  },
  {
   "cell_type": "code",
   "execution_count": 8,
   "metadata": {},
   "outputs": [
    {
     "name": "stdout",
     "output_type": "stream",
     "text": [
      "[0, 1, 4, 9, 16, 25, 36, 49, 64, 81]\n"
     ]
    }
   ],
   "source": [
    "#For instance when you want to perform mathematical operations during iteration\n",
    "\n",
    "squares = [i * i for i in range(10)]\n",
    "print(squares)"
   ]
  },
  {
   "cell_type": "code",
   "execution_count": 10,
   "metadata": {},
   "outputs": [
    {
     "name": "stdout",
     "output_type": "stream",
     "text": [
      "[(0, 0), (1, 1), (2, 4), (3, 9), (4, 16), (5, 25), (6, 36), (7, 49), (8, 64), (9, 81)]\n"
     ]
    }
   ],
   "source": [
    "# It is also possible to use this to create a list of tuples\n",
    "\n",
    "tuplelist = [(i, i * i) for i in range(10)]\n",
    "print(tuplelist)"
   ]
  },
  {
   "cell_type": "code",
   "execution_count": 11,
   "metadata": {},
   "outputs": [
    {
     "name": "stdout",
     "output_type": "stream",
     "text": [
      "[729, 2187, 6561, 19683]\n"
     ]
    }
   ],
   "source": [
    "power2 = [3 ** x for x in range(10) if x > 5]\n",
    "\n",
    "print(power2)"
   ]
  },
  {
   "cell_type": "markdown",
   "metadata": {},
   "source": [
    "#### List Comprehension can be combined with if Statements"
   ]
  },
  {
   "cell_type": "code",
   "execution_count": 12,
   "metadata": {},
   "outputs": [
    {
     "name": "stdout",
     "output_type": "stream",
     "text": [
      "[0, 2, 4, 6, 8, 10, 12, 14, 16, 18, 20, 22, 24, 26, 28]\n"
     ]
    }
   ],
   "source": [
    "numberList = [x for x in range(30) if x % 2 == 0]\n",
    "print(numberList)"
   ]
  },
  {
   "cell_type": "code",
   "execution_count": 13,
   "metadata": {},
   "outputs": [
    {
     "name": "stdout",
     "output_type": "stream",
     "text": [
      "[1, 3, 5, 7, 9, 11, 13, 15, 17, 19, 21, 23, 25, 27, 29]\n"
     ]
    }
   ],
   "source": [
    "numberList1 = [x for x in range(30) if x % 2 != 0]\n",
    "print(numberList1)"
   ]
  },
  {
   "cell_type": "code",
   "execution_count": 15,
   "metadata": {},
   "outputs": [
    {
     "name": "stdout",
     "output_type": "stream",
     "text": [
      "[2, 4, 6, 8, 10]\n"
     ]
    }
   ],
   "source": [
    "#Example: Filter out positive even number from the list\n",
    "\n",
    "numebersList = [-12, -10, -11, -9, -1, 0, 3, 5, 8, 9, 7, 6, 4]\n",
    "\n",
    "positive_even_Numbers = [x for x in range (11) if x % 2 == 0 and x > 0]\n",
    "print(positive_even_Numbers)"
   ]
  },
  {
   "cell_type": "code",
   "execution_count": 16,
   "metadata": {},
   "outputs": [
    {
     "name": "stdout",
     "output_type": "stream",
     "text": [
      "[1, 2, 3, 4, 5, 6, 7, 8, 9]\n"
     ]
    }
   ],
   "source": [
    "###Flatten a 3 dimension\n",
    "\n",
    "list_of_list = [[1, 2, 3], [4, 5, 6], [7, 8, 9]]\n",
    "\n",
    "flattened_list = [number for row in list_of_list for number in row]\n",
    "print(flattened_list)"
   ]
  },
  {
   "cell_type": "markdown",
   "metadata": {},
   "source": [
    "## Python Tuple"
   ]
  },
  {
   "cell_type": "markdown",
   "metadata": {},
   "source": [
    "### What is Tuple in Python\n",
    "\n",
    "| Data Types        | Type         |         |\n",
    "| :---------------: | :-----------:| :------:|\n",
    "| **String**        | **immutable**   |\n",
    "| **List**          | **mutable**     |\n",
    "| **Tuple**          | **immutable**     |\n",
    "\n",
    "<div>\n",
    "   <img src =\"img/t0.png\" width=\"500\" />\n",
    "   </div>"
   ]
  },
  {
   "cell_type": "markdown",
   "metadata": {},
   "source": [
    "### Creating Python Tuple "
   ]
  },
  {
   "cell_type": "code",
   "execution_count": 17,
   "metadata": {},
   "outputs": [
    {
     "name": "stdout",
     "output_type": "stream",
     "text": [
      "()\n",
      "(1, 6, 8)\n",
      "(1, 'Ajoke', 'Ajike', 'Omolola', 5.9, 7.6)\n",
      "('Animal', ['Olalekan', 13, 86, 'Adebanji'], (12, 87, 94))\n"
     ]
    }
   ],
   "source": [
    "my_tuple = ()\n",
    "print(my_tuple)\n",
    "\n",
    "my_tuple = (1, 6, 8)\n",
    "print(my_tuple)\n",
    "\n",
    "my_tuple = (1, \"Ajoke\", \"Ajike\", \"Omolola\", 5.9, 7.6)\n",
    "print(my_tuple)\n",
    "\n",
    "my_tuple = (\"Animal\", ['Olalekan', 13, 86, \"Adebanji\"], (12, 87, 94))\n",
    "print(my_tuple)"
   ]
  },
  {
   "cell_type": "markdown",
   "metadata": {},
   "source": [
    "It is also possible to create a tuple without enclosing them in the parentheses. This practice is known as tuple packing"
   ]
  },
  {
   "cell_type": "code",
   "execution_count": 18,
   "metadata": {},
   "outputs": [
    {
     "name": "stdout",
     "output_type": "stream",
     "text": [
      "(4, 89, 'Olalekan')\n"
     ]
    }
   ],
   "source": [
    "my_tuple = 4, 89, \"Olalekan\"\n",
    "print(my_tuple)"
   ]
  },
  {
   "cell_type": "code",
   "execution_count": 19,
   "metadata": {},
   "outputs": [
    {
     "name": "stdout",
     "output_type": "stream",
     "text": [
      "4\n",
      "89\n",
      "Olalekan\n"
     ]
    }
   ],
   "source": [
    "#unpcking the tuple\n",
    "\n",
    "a, b, c = my_tuple\n",
    "\n",
    "print(a)\n",
    "print(b)\n",
    "print(c)"
   ]
  },
  {
   "cell_type": "markdown",
   "metadata": {},
   "source": [
    "### Accessing Tuple Elements"
   ]
  },
  {
   "cell_type": "markdown",
   "metadata": {},
   "source": [
    "#### Indexing"
   ]
  },
  {
   "cell_type": "code",
   "execution_count": 22,
   "metadata": {},
   "outputs": [
    {
     "name": "stdout",
     "output_type": "stream",
     "text": [
      "O\n",
      "m\n",
      "l\n",
      "Last index:  6\n"
     ]
    }
   ],
   "source": [
    "name = (\"O\",\"m\",\"o\",\"l\",\"o\", \"l\", \"a\")\n",
    "print(name[0])\n",
    "print(name[1])\n",
    "print(name[5])\n",
    "\n",
    "print(\"Last index: \", len(name) - 1)"
   ]
  },
  {
   "cell_type": "markdown",
   "metadata": {},
   "source": [
    "#### Negative Indexing"
   ]
  },
  {
   "cell_type": "code",
   "execution_count": 23,
   "metadata": {},
   "outputs": [
    {
     "name": "stdout",
     "output_type": "stream",
     "text": [
      "a\n",
      "O\n",
      "m\n"
     ]
    }
   ],
   "source": [
    "name = (\"O\",\"m\",\"o\",\"l\",\"o\", \"l\", \"a\")\n",
    "print(name[-1])\n",
    "print(name[-7])\n",
    "print(name[-6])"
   ]
  },
  {
   "cell_type": "markdown",
   "metadata": {},
   "source": [
    "#### Slicing"
   ]
  },
  {
   "cell_type": "code",
   "execution_count": 24,
   "metadata": {},
   "outputs": [
    {
     "name": "stdout",
     "output_type": "stream",
     "text": [
      "('m', 'o', 'l')\n",
      "('l', 'o', 'l', 'a')\n",
      "('O', 'm', 'o', 'l', 'o', 'l', 'a')\n"
     ]
    }
   ],
   "source": [
    "name = (\"O\",\"m\",\"o\",\"l\",\"o\", \"l\", \"a\")\n",
    "print(name[1:4])\n",
    "print(name[3:])\n",
    "print(name[:])"
   ]
  },
  {
   "cell_type": "markdown",
   "metadata": {},
   "source": [
    "### Tuple Operations"
   ]
  },
  {
   "cell_type": "markdown",
   "metadata": {},
   "source": [
    "#### Changing a Tuple"
   ]
  },
  {
   "cell_type": "code",
   "execution_count": 25,
   "metadata": {},
   "outputs": [
    {
     "ename": "TypeError",
     "evalue": "'tuple' object does not support item assignment",
     "output_type": "error",
     "traceback": [
      "\u001b[1;31m---------------------------------------------------------------------------\u001b[0m",
      "\u001b[1;31mTypeError\u001b[0m                                 Traceback (most recent call last)",
      "\u001b[1;32m~\\AppData\\Local\\Temp\\ipykernel_22464\\2225210832.py\u001b[0m in \u001b[0;36m<module>\u001b[1;34m\u001b[0m\n\u001b[0;32m      1\u001b[0m \u001b[0mmy_tuple\u001b[0m \u001b[1;33m=\u001b[0m \u001b[1;33m(\u001b[0m\u001b[1;36m4\u001b[0m\u001b[1;33m,\u001b[0m \u001b[1;36m5\u001b[0m\u001b[1;33m,\u001b[0m \u001b[1;36m7\u001b[0m\u001b[1;33m,\u001b[0m \u001b[1;33m[\u001b[0m\u001b[1;36m6\u001b[0m\u001b[1;33m,\u001b[0m \u001b[1;36m8\u001b[0m\u001b[1;33m,\u001b[0m \u001b[1;36m9\u001b[0m\u001b[1;33m]\u001b[0m\u001b[1;33m)\u001b[0m\u001b[1;33m\u001b[0m\u001b[1;33m\u001b[0m\u001b[0m\n\u001b[0;32m      2\u001b[0m \u001b[1;33m\u001b[0m\u001b[0m\n\u001b[1;32m----> 3\u001b[1;33m \u001b[0mmy_tuple\u001b[0m\u001b[1;33m[\u001b[0m\u001b[1;36m1\u001b[0m\u001b[1;33m]\u001b[0m \u001b[1;33m=\u001b[0m \u001b[1;36m9\u001b[0m\u001b[1;33m\u001b[0m\u001b[1;33m\u001b[0m\u001b[0m\n\u001b[0m",
      "\u001b[1;31mTypeError\u001b[0m: 'tuple' object does not support item assignment"
     ]
    }
   ],
   "source": [
    "my_tuple = (4, 5, 7, [6, 8, 9])\n",
    "\n",
    "my_tuple[1] = 9"
   ]
  },
  {
   "cell_type": "code",
   "execution_count": 27,
   "metadata": {},
   "outputs": [
    {
     "name": "stdout",
     "output_type": "stream",
     "text": [
      "(4, 5, 7, [10, 8, 9])\n"
     ]
    }
   ],
   "source": [
    "my_tuple[3][0] = 10\n",
    "\n",
    "print(my_tuple)"
   ]
  },
  {
   "cell_type": "code",
   "execution_count": 28,
   "metadata": {},
   "outputs": [
    {
     "name": "stdout",
     "output_type": "stream",
     "text": [
      "('O', 'm', 'o', 'l', 'o', 'l', 'a')\n"
     ]
    }
   ],
   "source": [
    "my_tuple = (\"O\",\"m\",\"o\",\"l\",\"o\", \"l\", \"a\")\n",
    "print(my_tuple)"
   ]
  },
  {
   "cell_type": "markdown",
   "metadata": {},
   "source": [
    "You can also use the `+` operator to concatenate or combine two tuples. Its called concatenation\n",
    "\n",
    "You can also rpeate the lements in a tuples for a given number of times using the `*` operator\n",
    "\n",
    "Both `+` and `*` will result in a new tuple"
   ]
  },
  {
   "cell_type": "code",
   "execution_count": 30,
   "metadata": {},
   "outputs": [
    {
     "name": "stdout",
     "output_type": "stream",
     "text": [
      "(5, 8, 13, 12, 78, 'Olalekan', 'Ademola', 'Adeoti')\n",
      "('Olalekan', 'Ademola', 'Adeoti', 'Olalekan', 'Ademola', 'Adeoti', 'Olalekan', 'Ademola', 'Adeoti')\n"
     ]
    }
   ],
   "source": [
    "numberlist1 = (5, 8, 13, 12, 78)\n",
    "namelist1 = (\"Olalekan\", \"Ademola\", \"Adeoti\")\n",
    "\n",
    "print(numberlist1 + namelist1)\n",
    "print(namelist1 * 3)"
   ]
  },
  {
   "cell_type": "markdown",
   "metadata": {},
   "source": [
    "#### Deleting a Tuple"
   ]
  },
  {
   "cell_type": "code",
   "execution_count": 37,
   "metadata": {},
   "outputs": [
    {
     "name": "stdout",
     "output_type": "stream",
     "text": [
      "(5, 8, 13, 12, 78)\n",
      "(5, 8, 13, 12, 78)\n",
      "(5, 8, 13, 12, 78)\n"
     ]
    }
   ],
   "source": [
    "print(numberlist1)\n",
    "\n",
    "del numberList1[2]\n",
    "\n",
    "print(numberlist1)\n",
    "\n",
    "del numberList1\n",
    "print(numberlist1)"
   ]
  },
  {
   "cell_type": "code",
   "execution_count": 39,
   "metadata": {},
   "outputs": [
    {
     "name": "stdout",
     "output_type": "stream",
     "text": [
      "('Olalekan', 'Data Science', 1, 8, 9)\n"
     ]
    },
    {
     "ename": "NameError",
     "evalue": "name 't' is not defined",
     "output_type": "error",
     "traceback": [
      "\u001b[1;31m---------------------------------------------------------------------------\u001b[0m",
      "\u001b[1;31mNameError\u001b[0m                                 Traceback (most recent call last)",
      "\u001b[1;32m~\\AppData\\Local\\Temp\\ipykernel_22464\\3969887704.py\u001b[0m in \u001b[0;36m<module>\u001b[1;34m\u001b[0m\n\u001b[0;32m      3\u001b[0m \u001b[1;33m\u001b[0m\u001b[0m\n\u001b[0;32m      4\u001b[0m \u001b[1;32mdel\u001b[0m \u001b[0mt\u001b[0m\u001b[1;33m\u001b[0m\u001b[1;33m\u001b[0m\u001b[0m\n\u001b[1;32m----> 5\u001b[1;33m \u001b[0mprint\u001b[0m\u001b[1;33m(\u001b[0m\u001b[0mt\u001b[0m\u001b[1;33m)\u001b[0m\u001b[1;33m\u001b[0m\u001b[1;33m\u001b[0m\u001b[0m\n\u001b[0m",
      "\u001b[1;31mNameError\u001b[0m: name 't' is not defined"
     ]
    }
   ],
   "source": [
    "t = (\"Olalekan\", \"Data Science\", 1, 8, 9)\n",
    "print(t)\n",
    "\n",
    "del t\n",
    "print(t)"
   ]
  },
  {
   "cell_type": "markdown",
   "metadata": {},
   "source": [
    "### Python Built-in Tuple Functions\n",
    "\n",
    "| Function | Description |\n",
    "|:----| :--- |\n",
    "| **[len()]** |  Returns number of elements in a tuple. | \n",
    "| **[max()]** |  Returns item from the tuple with max value. | \n",
    "| **[min()]** |  Returns item from the tuple with min value.  | \n",
    "| **[sorted()]** |  Returns a new sorted list of sequence in the tuple. | \n",
    "| **tuple()** |  Converts a sequence into tuple.  | \n",
    "| **cmp()** |  Compares items of two tuples. (Not available in Python 3).  | "
   ]
  },
  {
   "cell_type": "markdown",
   "metadata": {},
   "source": [
    "##### `len()` function"
   ]
  },
  {
   "cell_type": "code",
   "execution_count": 40,
   "metadata": {},
   "outputs": [
    {
     "name": "stdout",
     "output_type": "stream",
     "text": [
      "5\n",
      "7\n"
     ]
    }
   ],
   "source": [
    "t = (\"Olalekan\", \"Data Science\", 1, 8, 9)\n",
    "t1 = (\"Olalekan\", \"Data Science\", 1, 8, 9, [78, 90, 14], (78, 43, 32, 12))\n",
    "print(len(t))\n",
    "print(len(t1))"
   ]
  },
  {
   "cell_type": "markdown",
   "metadata": {},
   "source": [
    "##### `max()` function"
   ]
  },
  {
   "cell_type": "code",
   "execution_count": 41,
   "metadata": {
    "scrolled": true
   },
   "outputs": [
    {
     "name": "stdout",
     "output_type": "stream",
     "text": [
      "Olalekan\n",
      "89\n"
     ]
    }
   ],
   "source": [
    "t = (\"Olalekan\", \"Data Science\" \"Ademola\", \"Adeyemi\")\n",
    "t1 = (78, 43, 32, 12, 15, 89, 56)\n",
    "print(max(t))\n",
    "print(max(t1))"
   ]
  },
  {
   "cell_type": "markdown",
   "metadata": {},
   "source": [
    "##### `min()` function"
   ]
  },
  {
   "cell_type": "code",
   "execution_count": 42,
   "metadata": {},
   "outputs": [
    {
     "name": "stdout",
     "output_type": "stream",
     "text": [
      "Adeyemi\n",
      "12\n"
     ]
    }
   ],
   "source": [
    "t = (\"Olalekan\", \"Data Science\" \"Ademola\", \"Adeyemi\")\n",
    "t1 = (78, 43, 32, 12, 15, 89, 56)\n",
    "print(min(t))\n",
    "print(min(t1))"
   ]
  },
  {
   "cell_type": "markdown",
   "metadata": {},
   "source": [
    "##### `Sorted()` function"
   ]
  },
  {
   "cell_type": "code",
   "execution_count": 44,
   "metadata": {},
   "outputs": [
    {
     "name": "stdout",
     "output_type": "stream",
     "text": [
      "['Adeyemi', 'Data ScienceAdemola', 'Olalekan']\n",
      "['Olalekan', 'Data ScienceAdemola', 'Adeyemi']\n",
      "[12, 15, 32, 43, 56, 78, 89]\n",
      "[89, 78, 56, 43, 32, 15, 12]\n"
     ]
    }
   ],
   "source": [
    "t = (\"Olalekan\", \"Data Science\" \"Ademola\", \"Adeyemi\")\n",
    "t1 = (78, 43, 32, 12, 15, 89, 56)\n",
    "print(sorted(t))\n",
    "print(sorted(t, reverse = True))\n",
    "print(sorted(t1))\n",
    "print(sorted(t1, reverse = True))"
   ]
  },
  {
   "cell_type": "markdown",
   "metadata": {},
   "source": [
    "##### `Tuple()` function"
   ]
  },
  {
   "cell_type": "code",
   "execution_count": 45,
   "metadata": {},
   "outputs": [
    {
     "name": "stdout",
     "output_type": "stream",
     "text": [
      "('O', 'l', 'a', 'l', 'e', 'k', 'a', 'n', ' ', 'S', 'a', 'm', 'u', 'e', 'l', ' ', 'O', 'g', 'u', 'n', 'l', 'e', 'y', 'e')\n"
     ]
    }
   ],
   "source": [
    "name = \"Olalekan Samuel Ogunleye\"\n",
    "tupleconvert = tuple(name)\n",
    "print(tupleconvert)"
   ]
  },
  {
   "cell_type": "markdown",
   "metadata": {},
   "source": [
    "### Tuple Methods\n",
    "\n",
    "| Method | Description |\n",
    "|:----| :--- |\n",
    "| **[count()]** |  Returns the number of times the specified element appears in the tuple. | \n",
    "| **[index()]** |  the index of the specified element in the tuple. | "
   ]
  },
  {
   "cell_type": "code",
   "execution_count": 46,
   "metadata": {
    "scrolled": true
   },
   "outputs": [
    {
     "name": "stdout",
     "output_type": "stream",
     "text": [
      "3\n",
      "4\n"
     ]
    }
   ],
   "source": [
    "my_tuple = ('O', 'l', 'a', 'l', 'e', 'k', 'a', 'n', ' ', 'S', 'a', 'm', 'u', 'e', 'l', ' ', 'O', 'g', 'u', 'n', 'l', 'e', 'y', 'e')\n",
    "print(my_tuple.count('a'))\n",
    "print(my_tuple.count('l'))"
   ]
  },
  {
   "cell_type": "markdown",
   "metadata": {},
   "source": [
    "##### Tuple Membership Test"
   ]
  },
  {
   "cell_type": "code",
   "execution_count": 47,
   "metadata": {},
   "outputs": [
    {
     "name": "stdout",
     "output_type": "stream",
     "text": [
      "True\n",
      "False\n",
      "True\n"
     ]
    }
   ],
   "source": [
    "my_tuple = ('O', 'l', 'a', 'l', 'e', 'k', 'a', 'n')\n",
    "\n",
    "#In membership Operation\n",
    "print('a' in my_tuple)\n",
    "print('b' in my_tuple)\n",
    "\n",
    "#In membership Operation\n",
    "print('b' not in my_tuple)"
   ]
  },
  {
   "cell_type": "markdown",
   "metadata": {},
   "source": [
    "##### Iterating through a tuple"
   ]
  },
  {
   "cell_type": "code",
   "execution_count": 49,
   "metadata": {},
   "outputs": [
    {
     "name": "stdout",
     "output_type": "stream",
     "text": [
      "Hello Olalekan . How are you doing today\n",
      "Hello Olusola . How are you doing today\n",
      "Hello Ademola . How are you doing today\n",
      "Hello Adeyemi . How are you doing today\n"
     ]
    }
   ],
   "source": [
    "names = (\"Olalekan\", \"Olusola\", \"Ademola\", \"Adeyemi\")\n",
    "\n",
    "for name in names:\n",
    "    print(\"Hello\", name, \". How are you doing today\")"
   ]
  },
  {
   "cell_type": "markdown",
   "metadata": {},
   "source": [
    "## Python Dictionary"
   ]
  },
  {
   "cell_type": "markdown",
   "metadata": {},
   "source": [
    "### What is Dictionary in Python?\n",
    "\n",
    "| Data Types        | Type         |         |\n",
    "| :---------------: | :-----------:| :------:|\n",
    "| **String**        | **immutable**   |\n",
    "| **List**          | **mutable**     |\n",
    "| **Tuple**         | **immutable**     |\n",
    "| **Dictionary**        |     **mutable** (Only the Value)     |\n",
    "\n",
    "<div>\n",
    "   <img src =\"img/d0.png\" width=\"500\" />\n",
    "   </div>"
   ]
  },
  {
   "cell_type": "markdown",
   "metadata": {},
   "source": [
    "### Creating Python Dictionary"
   ]
  },
  {
   "cell_type": "code",
   "execution_count": 53,
   "metadata": {},
   "outputs": [
    {
     "name": "stdout",
     "output_type": "stream",
     "text": [
      "{}\n",
      "{1: 'Oranges', 2: 'Apple'}\n",
      "{1: 'Mangoes', 2: 'Berries', 'Name': 'Olalekan Samuel', 'Scores': [98, 67, 89, 75], 'Colour': ('Yellow', 'Red', 'Green')}\n",
      "{1: 'Apple', 2: 'Banana'}\n"
     ]
    }
   ],
   "source": [
    "my_dict = {}\n",
    "print(my_dict)\n",
    "\n",
    "my_dict1 = {1:'Oranges', 2:\"Apple\"}\n",
    "print(my_dict1)\n",
    "\n",
    "my_dict2 = {1:\"Mangoes\", 2:\"Berries\", \"Name\":\"Olalekan Samuel\", \"Scores\":[98, 67, 89, 75], \n",
    "           \"Colour\":(\"Yellow\", \"Red\", \"Green\")}\n",
    "print(my_dict2)\n",
    "\n",
    "my_dict3 = dict([(1, \"Apple\"), (2, \"Banana\")])\n",
    "print(my_dict3)"
   ]
  },
  {
   "cell_type": "markdown",
   "metadata": {},
   "source": [
    "### Accessing Elements from Dictionary"
   ]
  },
  {
   "cell_type": "code",
   "execution_count": 54,
   "metadata": {},
   "outputs": [
    {
     "name": "stdout",
     "output_type": "stream",
     "text": [
      "C#\n"
     ]
    }
   ],
   "source": [
    "progLang = {1:\"C#\", 2:\"Java\", 3:\"Python\", 4:'Maya', 5:'C++'}\n",
    "\n",
    "print(progLang[1])"
   ]
  },
  {
   "cell_type": "code",
   "execution_count": 55,
   "metadata": {},
   "outputs": [
    {
     "ename": "KeyError",
     "evalue": "'c'",
     "output_type": "error",
     "traceback": [
      "\u001b[1;31m---------------------------------------------------------------------------\u001b[0m",
      "\u001b[1;31mKeyError\u001b[0m                                  Traceback (most recent call last)",
      "\u001b[1;32m~\\AppData\\Local\\Temp\\ipykernel_22464\\506271600.py\u001b[0m in \u001b[0;36m<module>\u001b[1;34m\u001b[0m\n\u001b[1;32m----> 1\u001b[1;33m \u001b[0mprint\u001b[0m\u001b[1;33m(\u001b[0m\u001b[0mprogLang\u001b[0m\u001b[1;33m[\u001b[0m\u001b[1;34m'c'\u001b[0m\u001b[1;33m]\u001b[0m\u001b[1;33m)\u001b[0m\u001b[1;33m\u001b[0m\u001b[1;33m\u001b[0m\u001b[0m\n\u001b[0m",
      "\u001b[1;31mKeyError\u001b[0m: 'c'"
     ]
    }
   ],
   "source": [
    "print(progLang['c'])"
   ]
  },
  {
   "cell_type": "code",
   "execution_count": 56,
   "metadata": {},
   "outputs": [
    {
     "name": "stdout",
     "output_type": "stream",
     "text": [
      "Python\n"
     ]
    }
   ],
   "source": [
    "print(progLang[3])"
   ]
  },
  {
   "cell_type": "code",
   "execution_count": 59,
   "metadata": {},
   "outputs": [
    {
     "name": "stdout",
     "output_type": "stream",
     "text": [
      "None\n"
     ]
    }
   ],
   "source": [
    "print(progLang.get('c'))"
   ]
  },
  {
   "cell_type": "markdown",
   "metadata": {},
   "source": [
    "#### Iterating through the dictionary\n",
    "\n",
    "To iterate through the dictionary with a for loop, you use the `keys()`, `values()`, and `items()` methods"
   ]
  },
  {
   "cell_type": "code",
   "execution_count": 60,
   "metadata": {},
   "outputs": [
    {
     "name": "stdout",
     "output_type": "stream",
     "text": [
      "1\n",
      "2\n",
      "3\n",
      "4\n",
      "5\n"
     ]
    }
   ],
   "source": [
    "for k in progLang:\n",
    "    print(k)"
   ]
  },
  {
   "cell_type": "code",
   "execution_count": 61,
   "metadata": {
    "scrolled": false
   },
   "outputs": [
    {
     "name": "stdout",
     "output_type": "stream",
     "text": [
      "1\n",
      "2\n",
      "3\n",
      "4\n",
      "5\n"
     ]
    }
   ],
   "source": [
    "for k in progLang.keys():\n",
    "    print(k)"
   ]
  },
  {
   "cell_type": "code",
   "execution_count": 62,
   "metadata": {
    "scrolled": true
   },
   "outputs": [
    {
     "name": "stdout",
     "output_type": "stream",
     "text": [
      "C#\n",
      "Java\n",
      "Python\n",
      "Maya\n",
      "C++\n"
     ]
    }
   ],
   "source": [
    "for v in progLang.values():\n",
    "    print(v)"
   ]
  },
  {
   "cell_type": "code",
   "execution_count": 63,
   "metadata": {},
   "outputs": [
    {
     "name": "stdout",
     "output_type": "stream",
     "text": [
      "1 C#\n",
      "2 Java\n",
      "3 Python\n",
      "4 Maya\n",
      "5 C++\n"
     ]
    }
   ],
   "source": [
    "for k, v in progLang.items():\n",
    "    print(k, v)"
   ]
  },
  {
   "cell_type": "markdown",
   "metadata": {},
   "source": [
    "### Changing and Adding Dictionary elements"
   ]
  },
  {
   "cell_type": "code",
   "execution_count": 64,
   "metadata": {
    "scrolled": false
   },
   "outputs": [
    {
     "name": "stdout",
     "output_type": "stream",
     "text": [
      "{'Name': 'Olalekan Samuel', 'Date of Birth': '17/06/1999', 'Address': 'Somewhere in South Africa', 'Next of Kin': 'Ademola', 'Age': 23}\n"
     ]
    }
   ],
   "source": [
    "personal_details = {\"Name\": \"Olalekan Samuel\", \"Date of Birth\": \"17/06/1999\", \n",
    "                    \"Address\": \"Somewhere in South Africa\", \"Next of Kin\": \"Ademola\", \"Age\":23}\n",
    "\n",
    "print(personal_details)"
   ]
  },
  {
   "cell_type": "code",
   "execution_count": 65,
   "metadata": {},
   "outputs": [
    {
     "name": "stdout",
     "output_type": "stream",
     "text": [
      "{'Name': 'Olalekan Samuel', 'Date of Birth': '17/06/1999', 'Address': 'Somewhere in South Africa', 'Next of Kin': 'Ademola', 'Age': 25}\n"
     ]
    }
   ],
   "source": [
    "personal_details[\"Age\"] = 25\n",
    "print(personal_details)"
   ]
  },
  {
   "cell_type": "code",
   "execution_count": 66,
   "metadata": {},
   "outputs": [
    {
     "name": "stdout",
     "output_type": "stream",
     "text": [
      "{'Name': 'Olalekan Samuel', 'Date of Birth': '17/06/1999', 'Address': 'Somewhere in Nigeria. The place is in a city', 'Next of Kin': 'Ademola', 'Age': 25}\n"
     ]
    }
   ],
   "source": [
    "personal_details[\"Address\"] = \"Somewhere in Nigeria. The place is in a city\"\n",
    "print(personal_details)"
   ]
  },
  {
   "cell_type": "markdown",
   "metadata": {},
   "source": [
    "### Removing elements from Dictionary\n",
    "\n",
    "We can remove a particular item in a dictionary by using the **`pop()`** method. This method removes an item with the provided **`key`** and returns the **`value`**.\n",
    "\n",
    "The **`popitem()`** method can be used to remove and return an arbitrary **`(key, value)`** item pair from the dictionary. All the items can be removed at once, using the **`clear()`** method.\n",
    "\n",
    "We can also use the **`del`** keyword to remove individual items or the entire dictionary itself."
   ]
  },
  {
   "cell_type": "code",
   "execution_count": 70,
   "metadata": {},
   "outputs": [
    {
     "name": "stdout",
     "output_type": "stream",
     "text": [
      "{1: 2, 2: 4, 4: 20, 5: 60, 3: 15}\n"
     ]
    }
   ],
   "source": [
    "numbers = {1:2, 2:4, 4:20, 5:60, 3:15}\n",
    "print(numbers)"
   ]
  },
  {
   "cell_type": "code",
   "execution_count": 71,
   "metadata": {},
   "outputs": [
    {
     "name": "stdout",
     "output_type": "stream",
     "text": [
      "20\n",
      "{1: 2, 2: 4, 5: 60, 3: 15}\n"
     ]
    }
   ],
   "source": [
    "print(numbers.pop(4))\n",
    "print(numbers)"
   ]
  },
  {
   "cell_type": "code",
   "execution_count": 72,
   "metadata": {},
   "outputs": [
    {
     "name": "stdout",
     "output_type": "stream",
     "text": [
      "(3, 15)\n",
      "{1: 2, 2: 4, 5: 60}\n"
     ]
    }
   ],
   "source": [
    "print(numbers.popitem())\n",
    "print(numbers)"
   ]
  },
  {
   "cell_type": "code",
   "execution_count": 73,
   "metadata": {},
   "outputs": [
    {
     "name": "stdout",
     "output_type": "stream",
     "text": [
      "{}\n"
     ]
    }
   ],
   "source": [
    "numbers.clear()\n",
    "print(numbers)"
   ]
  },
  {
   "cell_type": "code",
   "execution_count": 74,
   "metadata": {
    "scrolled": true
   },
   "outputs": [
    {
     "ename": "NameError",
     "evalue": "name 'numbers' is not defined",
     "output_type": "error",
     "traceback": [
      "\u001b[1;31m---------------------------------------------------------------------------\u001b[0m",
      "\u001b[1;31mNameError\u001b[0m                                 Traceback (most recent call last)",
      "\u001b[1;32m~\\AppData\\Local\\Temp\\ipykernel_22464\\904645480.py\u001b[0m in \u001b[0;36m<module>\u001b[1;34m\u001b[0m\n\u001b[0;32m      1\u001b[0m \u001b[1;32mdel\u001b[0m \u001b[0mnumbers\u001b[0m\u001b[1;33m\u001b[0m\u001b[1;33m\u001b[0m\u001b[0m\n\u001b[1;32m----> 2\u001b[1;33m \u001b[0mprint\u001b[0m\u001b[1;33m(\u001b[0m\u001b[0mnumbers\u001b[0m\u001b[1;33m)\u001b[0m\u001b[1;33m\u001b[0m\u001b[1;33m\u001b[0m\u001b[0m\n\u001b[0m",
      "\u001b[1;31mNameError\u001b[0m: name 'numbers' is not defined"
     ]
    }
   ],
   "source": [
    "del numbers\n",
    "print(numbers)"
   ]
  },
  {
   "cell_type": "code",
   "execution_count": 76,
   "metadata": {},
   "outputs": [
    {
     "name": "stdout",
     "output_type": "stream",
     "text": [
      "{1: 'C#', 2: 'Java', 3: 'Python', 4: 'Maya', 5: 'C++'}\n"
     ]
    }
   ],
   "source": [
    "progLang = {1:\"C#\", 2:\"Java\", 3:\"Python\", 4:'Maya', 5:'C++'}\n",
    "print(progLang)"
   ]
  },
  {
   "cell_type": "code",
   "execution_count": 77,
   "metadata": {},
   "outputs": [
    {
     "name": "stdout",
     "output_type": "stream",
     "text": [
      "{1: 'C#', 2: 'Java', 4: 'Maya', 5: 'C++'}\n"
     ]
    }
   ],
   "source": [
    "del progLang[3]\n",
    "print(progLang)"
   ]
  },
  {
   "cell_type": "markdown",
   "metadata": {},
   "source": [
    "### Dictionary Built-in Dictionary Functions\n",
    "\n",
    "| Function | Description |\n",
    "|:----| :--- |\n",
    "| **[all()]** | Returns **`True`** if all keys of the dictionary are true (or if the dictionary is empty). | \n",
    "| **[any()]** | Returns **`True`** if any key of the dictionary is true. If the dictionary is empty, return **`False`**. | \n",
    "| **[len()]** | Returns the length (the number of items) in the dictionary. | \n",
    "| **cmp()** | Compares items of two dictionaries. (Not available in Python 3). | \n",
    "| **[sorted()]** | Returns a new sorted list of keys in the dictionary. | \n",
    "| **[str()]** | Produces a printable string representation of a dictionary. | \n",
    "| **[type()]** | Returns the type of the passed variable. If passed variable is dictionary,then it would return a dictionary type. |"
   ]
  },
  {
   "cell_type": "code",
   "execution_count": 79,
   "metadata": {},
   "outputs": [
    {
     "name": "stdout",
     "output_type": "stream",
     "text": [
      "{0: 0, 1: 2, 2: 4, 4: 20, 5: 60, 3: 15}\n"
     ]
    }
   ],
   "source": [
    "numbers = {0:0, 1:2, 2:4, 4:20, 5:60, 3:15}\n",
    "print(numbers)"
   ]
  },
  {
   "cell_type": "code",
   "execution_count": 80,
   "metadata": {},
   "outputs": [
    {
     "name": "stdout",
     "output_type": "stream",
     "text": [
      "False\n"
     ]
    }
   ],
   "source": [
    "print(all(numbers))"
   ]
  },
  {
   "cell_type": "code",
   "execution_count": 81,
   "metadata": {},
   "outputs": [
    {
     "name": "stdout",
     "output_type": "stream",
     "text": [
      "True\n"
     ]
    }
   ],
   "source": [
    "print(any(numbers))"
   ]
  },
  {
   "cell_type": "code",
   "execution_count": 82,
   "metadata": {},
   "outputs": [
    {
     "name": "stdout",
     "output_type": "stream",
     "text": [
      "6\n"
     ]
    }
   ],
   "source": [
    "print(len(numbers))"
   ]
  },
  {
   "cell_type": "code",
   "execution_count": 83,
   "metadata": {},
   "outputs": [
    {
     "name": "stdout",
     "output_type": "stream",
     "text": [
      "[0, 1, 2, 3, 4, 5]\n"
     ]
    }
   ],
   "source": [
    "print(sorted(numbers))"
   ]
  },
  {
   "cell_type": "markdown",
   "metadata": {},
   "source": [
    "### Python Dictionary Methods\n",
    "\n",
    "| Method | Description |\n",
    "|:----| :--- |\n",
    "| **[clear()]** | Removes all items from the dictionary. | \n",
    "| **[copy()]** | Returns a shallow copy of the dictionary. | \n",
    "| **[fromkeys(seq[, v])]** | Returns a new dictionary with keys from **`seq`** and value equal to **`v`** (defaults to **`None`**). | \n",
    "| **[get(key[,d])]** | Returns the value of the **`key`**. If the **`key`** does not exist, returns **`d`** (defaults to **`None`**). | \n",
    "| **[items()]** | Return a new object of the dictionary's items in **`(key, value)`** format. | \n",
    "| **[keys()]** | Returns a new object of the dictionary's keys. | \n",
    "| **[pop(key[,d])]** | Removes the item with the **`key`** and returns its value or **`d`** if **`key`** is not found. If **`d`** is not provided and the **`key`** is not found, it raises **`KeyError`**. | \n",
    "| **[popitem()]** | Removes and returns an arbitrary item **`(key, value)`**. Raises **`KeyError`** if the dictionary is empty. | \n",
    "| **[setdefault(key[,d])]** | Returns the corresponding value if the **`key`** is in the dictionary. If not, inserts the **`key`** with a value of **`d`** and returns **`d`** (defaults to **`None`**). | \n",
    "| **[update([other])]** | Updates the dictionary with the key/value pairs from **`other`**, overwriting existing keys. |  \n",
    "| **[values()]** | Returns a new object of the dictionary's values. | "
   ]
  },
  {
   "cell_type": "markdown",
   "metadata": {},
   "source": [
    "### Python Dictionary Comprehension\n",
    "\n",
    "Dictionary comprehension is an elegant and concise way to create a new dictionary from an iterable in Python.\n",
    "\n",
    "Dictionary comprehension consists of an expression pair **`(key: value)`** followed by a **`for`** statement inside curly braces **`{}`**.\n",
    "\n",
    "Here is an example to make a dictionary with each item being a pair of a number and its square."
   ]
  },
  {
   "cell_type": "code",
   "execution_count": 84,
   "metadata": {},
   "outputs": [
    {
     "name": "stdout",
     "output_type": "stream",
     "text": [
      "{0: 0, 1: 1, 2: 4, 3: 9, 4: 16, 5: 25, 6: 36, 7: 49, 8: 64}\n"
     ]
    }
   ],
   "source": [
    "sqaurenumbers = {x: x*x for x in range(9)}\n",
    "print(sqaurenumbers)"
   ]
  },
  {
   "cell_type": "code",
   "execution_count": 85,
   "metadata": {},
   "outputs": [
    {
     "name": "stdout",
     "output_type": "stream",
     "text": [
      "{1: 1, 3: 9, 5: 25, 7: 49, 9: 81, 11: 121}\n"
     ]
    }
   ],
   "source": [
    "odd_square_numbers = {x: x*x for x in range(13) if x %2 ==1}\n",
    "print(odd_square_numbers)"
   ]
  },
  {
   "cell_type": "markdown",
   "metadata": {},
   "source": [
    "#### Other Dictionary Operations"
   ]
  },
  {
   "cell_type": "code",
   "execution_count": 86,
   "metadata": {},
   "outputs": [
    {
     "name": "stdout",
     "output_type": "stream",
     "text": [
      "True\n",
      "True\n",
      "False\n"
     ]
    }
   ],
   "source": [
    "#Example: Testing Membership Operation in Dictionary Keys\n",
    "\n",
    "squarenumbers = {1:1, 2:4, 3:9, 4:16, 7:49, 8:64, 9:81, 10:100}\n",
    "\n",
    "print(2 in sqaurenumbers)\n",
    "\n",
    "print(11 not in sqaurenumbers)\n",
    "\n",
    "print(100 in sqaurenumbers)"
   ]
  },
  {
   "cell_type": "code",
   "execution_count": 87,
   "metadata": {},
   "outputs": [
    {
     "name": "stdout",
     "output_type": "stream",
     "text": [
      "0\n",
      "1\n",
      "4\n",
      "9\n",
      "16\n",
      "25\n",
      "36\n",
      "49\n",
      "64\n"
     ]
    }
   ],
   "source": [
    "#Example: Iterating through the dictionary\n",
    "for i in sqaurenumbers:\n",
    "    print(sqaurenumbers[i])\n"
   ]
  },
  {
   "cell_type": "markdown",
   "metadata": {},
   "source": [
    "## Python Sets"
   ]
  },
  {
   "cell_type": "markdown",
   "metadata": {},
   "source": [
    "### What is Set in Python?\n",
    "\n",
    "| Data Types        | Type         |         |\n",
    "| :---------------: | :-----------:| :------:|\n",
    "| **String**        | **immutable**   |\n",
    "| **List**          | **mutable**     |\n",
    "| **Tuple**         | **immutable**     |\n",
    "| **Dictionary**        |     **mutable** (Only the Value)     |\n",
    "| **Set**         | **immutable**     |"
   ]
  },
  {
   "cell_type": "markdown",
   "metadata": {},
   "source": [
    "### Creating Python Sets"
   ]
  },
  {
   "cell_type": "code",
   "execution_count": 89,
   "metadata": {},
   "outputs": [
    {
     "name": "stdout",
     "output_type": "stream",
     "text": [
      "{1, 5, 6, 7, 8, 9, 10}\n",
      "{1, 5, 6, 7, 8, (10, 9), 'Olalekan'}\n"
     ]
    }
   ],
   "source": [
    "#set of integers\n",
    "my_set = {1, 5, 7, 6, 8, 10, 9}\n",
    "\n",
    "print(my_set)\n",
    "\n",
    "#set of mixed data types\n",
    "my_set = {1, 5, 7, \"Olalekan\", 6, 8, (10, 9)}\n",
    "\n",
    "print(my_set)"
   ]
  },
  {
   "cell_type": "code",
   "execution_count": 90,
   "metadata": {},
   "outputs": [
    {
     "name": "stdout",
     "output_type": "stream",
     "text": [
      "{1, 5, 6, 7, 8, 9, 10}\n"
     ]
    }
   ],
   "source": [
    "#set cannot have duplicates\n",
    "my_set = {1, 5, 10, 7, 9, 1, 6, 8, 6, 10, 9}\n",
    "print(my_set)"
   ]
  },
  {
   "cell_type": "code",
   "execution_count": 91,
   "metadata": {},
   "outputs": [
    {
     "name": "stdout",
     "output_type": "stream",
     "text": [
      "{1, 5, 6, 7, 8, 9, 10}\n"
     ]
    }
   ],
   "source": [
    "#You can also make set from a list\n",
    "my_set = set([1, 5, 10, 7, 9, 1, 6, 8, 6, 10, 9])\n",
    "print(my_set)"
   ]
  },
  {
   "cell_type": "code",
   "execution_count": 92,
   "metadata": {},
   "outputs": [
    {
     "name": "stdout",
     "output_type": "stream",
     "text": [
      "{1, (3, 4), 6}\n"
     ]
    }
   ],
   "source": [
    "my_set = {1, 6, (3,4)}\n",
    "print(my_set)"
   ]
  },
  {
   "cell_type": "code",
   "execution_count": 93,
   "metadata": {},
   "outputs": [
    {
     "ename": "TypeError",
     "evalue": "unhashable type: 'list'",
     "output_type": "error",
     "traceback": [
      "\u001b[1;31m---------------------------------------------------------------------------\u001b[0m",
      "\u001b[1;31mTypeError\u001b[0m                                 Traceback (most recent call last)",
      "\u001b[1;32m~\\AppData\\Local\\Temp\\ipykernel_22464\\878603762.py\u001b[0m in \u001b[0;36m<module>\u001b[1;34m\u001b[0m\n\u001b[1;32m----> 1\u001b[1;33m \u001b[0mmy_set\u001b[0m \u001b[1;33m=\u001b[0m \u001b[1;33m{\u001b[0m\u001b[1;36m1\u001b[0m\u001b[1;33m,\u001b[0m \u001b[1;36m2\u001b[0m\u001b[1;33m,\u001b[0m\u001b[1;33m[\u001b[0m\u001b[1;36m3\u001b[0m\u001b[1;33m,\u001b[0m\u001b[1;36m4\u001b[0m\u001b[1;33m]\u001b[0m\u001b[1;33m}\u001b[0m\u001b[1;33m\u001b[0m\u001b[1;33m\u001b[0m\u001b[0m\n\u001b[0m\u001b[0;32m      2\u001b[0m \u001b[0mprint\u001b[0m\u001b[1;33m(\u001b[0m\u001b[0mmy_set\u001b[0m\u001b[1;33m)\u001b[0m\u001b[1;33m\u001b[0m\u001b[1;33m\u001b[0m\u001b[0m\n",
      "\u001b[1;31mTypeError\u001b[0m: unhashable type: 'list'"
     ]
    }
   ],
   "source": [
    "my_set = {1, 2,[3,4]}\n",
    "print(my_set)"
   ]
  },
  {
   "cell_type": "markdown",
   "metadata": {},
   "source": [
    "### Creating and Empty Set"
   ]
  },
  {
   "cell_type": "code",
   "execution_count": 96,
   "metadata": {},
   "outputs": [
    {
     "name": "stdout",
     "output_type": "stream",
     "text": [
      "<class 'dict'>\n"
     ]
    }
   ],
   "source": [
    "x = {}\n",
    "print(type(x))"
   ]
  },
  {
   "cell_type": "code",
   "execution_count": 97,
   "metadata": {},
   "outputs": [
    {
     "name": "stdout",
     "output_type": "stream",
     "text": [
      "<class 'set'>\n"
     ]
    }
   ],
   "source": [
    "#Creating an empty set involves using the set() function without any argument\n",
    "x = set()\n",
    "print(type(x))"
   ]
  },
  {
   "cell_type": "markdown",
   "metadata": {},
   "source": [
    "### Modifying a set in Python\n",
    "\n",
    "Sets are mutable. However, since they are unordered, indexing has no meaning.\n",
    "\n",
    "It is not possible to access or change an element of a set using indexing or slicing, because this is not supported by the Set data type.\n",
    "\n",
    "However, you can add a single element using the **`add()`** method, and you can add multiple elements using the **`update()`** method. The **`update()`** method can take **[tuples]**, **[lists]**, **[strings]** or other sets as part of its argument. But take note that in every case, duplicates will be avoided."
   ]
  },
  {
   "cell_type": "code",
   "execution_count": 98,
   "metadata": {},
   "outputs": [
    {
     "name": "stdout",
     "output_type": "stream",
     "text": [
      "{1, 6}\n"
     ]
    }
   ],
   "source": [
    "my_set = {1, 6}\n",
    "print(my_set)"
   ]
  },
  {
   "cell_type": "code",
   "execution_count": 99,
   "metadata": {},
   "outputs": [
    {
     "ename": "TypeError",
     "evalue": "'set' object is not subscriptable",
     "output_type": "error",
     "traceback": [
      "\u001b[1;31m---------------------------------------------------------------------------\u001b[0m",
      "\u001b[1;31mTypeError\u001b[0m                                 Traceback (most recent call last)",
      "\u001b[1;32m~\\AppData\\Local\\Temp\\ipykernel_22464\\2063814584.py\u001b[0m in \u001b[0;36m<module>\u001b[1;34m\u001b[0m\n\u001b[1;32m----> 1\u001b[1;33m \u001b[0mmy_set\u001b[0m\u001b[1;33m[\u001b[0m\u001b[1;36m0\u001b[0m\u001b[1;33m]\u001b[0m\u001b[1;33m\u001b[0m\u001b[1;33m\u001b[0m\u001b[0m\n\u001b[0m",
      "\u001b[1;31mTypeError\u001b[0m: 'set' object is not subscriptable"
     ]
    }
   ],
   "source": [
    "my_set[0]"
   ]
  },
  {
   "cell_type": "code",
   "execution_count": 100,
   "metadata": {},
   "outputs": [
    {
     "name": "stdout",
     "output_type": "stream",
     "text": [
      "{1, 2, 6}\n"
     ]
    }
   ],
   "source": [
    "#Adding elements to set\n",
    "my_set.add(2)\n",
    "print(my_set)"
   ]
  },
  {
   "cell_type": "code",
   "execution_count": 101,
   "metadata": {},
   "outputs": [
    {
     "name": "stdout",
     "output_type": "stream",
     "text": [
      "{1, 2, 3, 4, 5, 6, 7}\n"
     ]
    }
   ],
   "source": [
    "#Adding Multiple elemnts\n",
    "my_set.update([2, 3, 4, 5, 6, 7])\n",
    "print(my_set)"
   ]
  },
  {
   "cell_type": "code",
   "execution_count": 102,
   "metadata": {},
   "outputs": [
    {
     "name": "stdout",
     "output_type": "stream",
     "text": [
      "{1, 2, 3, 4, 5, 6, 7, 8, 9, 10}\n"
     ]
    }
   ],
   "source": [
    "#You can also add list and set into the set\n",
    "my_set.update([1,7], (8,9,10), (1,5,9,10))\n",
    "print(my_set)"
   ]
  },
  {
   "cell_type": "markdown",
   "metadata": {},
   "source": [
    "### Removing elements from a set\n",
    "\n",
    "It is possible for you to remove a particular item from a set using the methods **`discard()`** and **`remove()`**.\n",
    "\n",
    "The only difference between these two methods is that the **`discard()`** methods leaves the set unchanged in a situation where the element is not present in the set, while the **`remove()`** method will raise an error if element is not present in the set."
   ]
  },
  {
   "cell_type": "code",
   "execution_count": 103,
   "metadata": {},
   "outputs": [
    {
     "name": "stdout",
     "output_type": "stream",
     "text": [
      "{1, 3, 4, 5, 6, 9}\n"
     ]
    }
   ],
   "source": [
    "#initialize my_set\n",
    "my_set = {1, 3, 4, 5, 6, 9}\n",
    "print(my_set)"
   ]
  },
  {
   "cell_type": "code",
   "execution_count": 104,
   "metadata": {},
   "outputs": [
    {
     "name": "stdout",
     "output_type": "stream",
     "text": [
      "{1, 3, 5, 6, 9}\n"
     ]
    }
   ],
   "source": [
    "#discard an element from the set\n",
    "my_set.discard(4)\n",
    "print(my_set)"
   ]
  },
  {
   "cell_type": "code",
   "execution_count": 105,
   "metadata": {},
   "outputs": [
    {
     "name": "stdout",
     "output_type": "stream",
     "text": [
      "{1, 3, 5, 9}\n"
     ]
    }
   ],
   "source": [
    "#Remove an element from the set\n",
    "my_set.remove(6)\n",
    "print(my_set)"
   ]
  },
  {
   "cell_type": "code",
   "execution_count": 106,
   "metadata": {},
   "outputs": [
    {
     "name": "stdout",
     "output_type": "stream",
     "text": [
      "{1, 3, 5, 9}\n"
     ]
    }
   ],
   "source": [
    "#discard an element that is not present in the set\n",
    "my_set.discard(4)\n",
    "print(my_set)"
   ]
  },
  {
   "cell_type": "code",
   "execution_count": 107,
   "metadata": {
    "scrolled": true
   },
   "outputs": [
    {
     "ename": "KeyError",
     "evalue": "4",
     "output_type": "error",
     "traceback": [
      "\u001b[1;31m---------------------------------------------------------------------------\u001b[0m",
      "\u001b[1;31mKeyError\u001b[0m                                  Traceback (most recent call last)",
      "\u001b[1;32m~\\AppData\\Local\\Temp\\ipykernel_22464\\2280906729.py\u001b[0m in \u001b[0;36m<module>\u001b[1;34m\u001b[0m\n\u001b[0;32m      1\u001b[0m \u001b[1;31m#remove an element that is not present in the set\u001b[0m\u001b[1;33m\u001b[0m\u001b[1;33m\u001b[0m\u001b[0m\n\u001b[1;32m----> 2\u001b[1;33m \u001b[0mmy_set\u001b[0m\u001b[1;33m.\u001b[0m\u001b[0mremove\u001b[0m\u001b[1;33m(\u001b[0m\u001b[1;36m4\u001b[0m\u001b[1;33m)\u001b[0m\u001b[1;33m\u001b[0m\u001b[1;33m\u001b[0m\u001b[0m\n\u001b[0m\u001b[0;32m      3\u001b[0m \u001b[0mprint\u001b[0m\u001b[1;33m(\u001b[0m\u001b[0mmy_set\u001b[0m\u001b[1;33m)\u001b[0m\u001b[1;33m\u001b[0m\u001b[1;33m\u001b[0m\u001b[0m\n",
      "\u001b[1;31mKeyError\u001b[0m: 4"
     ]
    }
   ],
   "source": [
    "#remove an element that is not present in the set\n",
    "my_set.remove(4)\n",
    "print(my_set)"
   ]
  },
  {
   "cell_type": "code",
   "execution_count": 113,
   "metadata": {},
   "outputs": [
    {
     "name": "stdout",
     "output_type": "stream",
     "text": [
      "{'u', 'F', 'd', 'a', 'm', 'l', 't', 'n', ' ', 'o', 'y', 'P', 'h', 's', 'e'}\n"
     ]
    }
   ],
   "source": [
    "#initialize my_set\n",
    "my_set = set(\"Python Fundamentals\")\n",
    "print(my_set)"
   ]
  },
  {
   "cell_type": "code",
   "execution_count": 116,
   "metadata": {},
   "outputs": [
    {
     "name": "stdout",
     "output_type": "stream",
     "text": [
      "d\n"
     ]
    }
   ],
   "source": [
    "#pop an element from the set\n",
    "print(my_set.pop())"
   ]
  },
  {
   "cell_type": "code",
   "execution_count": 117,
   "metadata": {},
   "outputs": [
    {
     "name": "stdout",
     "output_type": "stream",
     "text": [
      "a\n"
     ]
    }
   ],
   "source": [
    "#pop an element from the set\n",
    "print(my_set.pop())"
   ]
  },
  {
   "cell_type": "code",
   "execution_count": 119,
   "metadata": {},
   "outputs": [
    {
     "name": "stdout",
     "output_type": "stream",
     "text": [
      "set()\n"
     ]
    }
   ],
   "source": [
    "#clear my_set\n",
    "my_set.clear()\n",
    "print(my_set)"
   ]
  },
  {
   "cell_type": "markdown",
   "metadata": {},
   "source": [
    "### Python Set Operations\n",
    "\n",
    "Sets can be used to carry out basic mathematical operations like Union, intersection and symmetric diiference. \n",
    "\n",
    "This can be achieved with the relevant operators or with the methods that come with sets\n",
    "\n",
    "```python\n",
    "A = {1, 2, 3, 4, 5, 6, 7}\n",
    "\n",
    "B = {4, 5, 6, 3, 8, 9, 10}\n",
    "```"
   ]
  },
  {
   "cell_type": "markdown",
   "metadata": {},
   "source": [
    "### Set Union\n",
    "\n",
    "<div>\n",
    "<img src=\"img/set1.png\" width=\"300\" />\n",
    "</div>\n",
    "\n",
    "Union of sets A and B is a set of all elements from both sets\n",
    "\n",
    "You can perform Union using the `|` Operator or the union method"
   ]
  },
  {
   "cell_type": "code",
   "execution_count": 120,
   "metadata": {},
   "outputs": [
    {
     "name": "stdout",
     "output_type": "stream",
     "text": [
      "{1, 2, 3, 4, 5, 6, 7, 8, 9, 10}\n"
     ]
    }
   ],
   "source": [
    "A = {1, 2, 3, 4, 5, 6, 7}\n",
    "B = {4, 5, 6, 3, 8, 9, 10}\n",
    "\n",
    "print (A|B)"
   ]
  },
  {
   "cell_type": "code",
   "execution_count": 121,
   "metadata": {},
   "outputs": [
    {
     "name": "stdout",
     "output_type": "stream",
     "text": [
      "{1, 2, 3, 4, 5, 6, 7, 8, 9, 10}\n"
     ]
    }
   ],
   "source": [
    "print(A.union(B))"
   ]
  },
  {
   "cell_type": "code",
   "execution_count": 122,
   "metadata": {},
   "outputs": [
    {
     "name": "stdout",
     "output_type": "stream",
     "text": [
      "{1, 2, 3, 4, 5, 6, 7, 8, 9, 10}\n"
     ]
    }
   ],
   "source": [
    "print(B.union(A))"
   ]
  },
  {
   "cell_type": "markdown",
   "metadata": {},
   "source": [
    "### Set Intersection\n",
    "\n",
    "<div>\n",
    "<img src=\"img/set2.png\" width=\"300\" />\n",
    "</div>\n",
    "\n",
    "Intersection of sets A and B is a set of elements that are common to both sets\n",
    "You can perform intersection using the `&` Operator or the intersection method"
   ]
  },
  {
   "cell_type": "code",
   "execution_count": 123,
   "metadata": {},
   "outputs": [
    {
     "name": "stdout",
     "output_type": "stream",
     "text": [
      "{3, 4, 5, 6}\n"
     ]
    }
   ],
   "source": [
    "A = {1, 2, 3, 4, 5, 6, 7}\n",
    "B = {4, 5, 6, 3, 8, 9, 10}\n",
    "\n",
    "print (A&B)"
   ]
  },
  {
   "cell_type": "code",
   "execution_count": 124,
   "metadata": {},
   "outputs": [
    {
     "name": "stdout",
     "output_type": "stream",
     "text": [
      "{3, 4, 5, 6}\n"
     ]
    }
   ],
   "source": [
    "print(A.intersection(B))"
   ]
  },
  {
   "cell_type": "code",
   "execution_count": 125,
   "metadata": {},
   "outputs": [
    {
     "name": "stdout",
     "output_type": "stream",
     "text": [
      "{3, 4, 5, 6}\n"
     ]
    }
   ],
   "source": [
    "print(B.intersection(A))"
   ]
  },
  {
   "cell_type": "markdown",
   "metadata": {},
   "source": [
    "### Set Difference\n",
    "\n",
    "<div>\n",
    "<img src=\"img/set3.png\" width=\"300\" />\n",
    "</div>\n",
    "\n",
    "The difference of sets **`B`** from set **`A`**, **`(A-B)`** is a set of elements that are only in **`A`** but not in **`B`**\n",
    "\n",
    "You can perform intersection using the `-` Operator or the difference method"
   ]
  },
  {
   "cell_type": "code",
   "execution_count": 127,
   "metadata": {},
   "outputs": [],
   "source": [
    "A = {1, 2, 3, 4, 5, 6, 7}\n",
    "B = {4, 5, 6, 3, 8, 9, 10}"
   ]
  },
  {
   "cell_type": "code",
   "execution_count": 128,
   "metadata": {},
   "outputs": [
    {
     "name": "stdout",
     "output_type": "stream",
     "text": [
      "{1, 2, 7}\n"
     ]
    }
   ],
   "source": [
    "print(A-B)"
   ]
  },
  {
   "cell_type": "code",
   "execution_count": 129,
   "metadata": {},
   "outputs": [
    {
     "name": "stdout",
     "output_type": "stream",
     "text": [
      "{8, 9, 10}\n"
     ]
    }
   ],
   "source": [
    "print(B-A)"
   ]
  },
  {
   "cell_type": "code",
   "execution_count": 130,
   "metadata": {},
   "outputs": [
    {
     "name": "stdout",
     "output_type": "stream",
     "text": [
      "{1, 2, 7}\n"
     ]
    }
   ],
   "source": [
    "print(A.difference(B))"
   ]
  },
  {
   "cell_type": "code",
   "execution_count": 131,
   "metadata": {},
   "outputs": [
    {
     "name": "stdout",
     "output_type": "stream",
     "text": [
      "{8, 9, 10}\n"
     ]
    }
   ],
   "source": [
    "print(B.difference(A))"
   ]
  },
  {
   "cell_type": "markdown",
   "metadata": {},
   "source": [
    "### Set Symmetric Difference\n",
    "\n",
    "<div>\n",
    "<img src=\"img/set3.png\" width=\"300\" />\n",
    "</div>\n",
    "\n",
    "The Symmetric difference of sets **`A`** and set **`B`** is a set of elements in **`A`** and  **`B`** but not in not both (excluding the intersection)\n",
    "\n",
    "You can perform Symmetric difference using the `^` Operator or the symmetric_difference method"
   ]
  },
  {
   "cell_type": "code",
   "execution_count": 132,
   "metadata": {},
   "outputs": [],
   "source": [
    "A = {1, 2, 3, 4, 5}\n",
    "B = {4, 5, 6, 7, 8}"
   ]
  },
  {
   "cell_type": "code",
   "execution_count": 133,
   "metadata": {},
   "outputs": [
    {
     "name": "stdout",
     "output_type": "stream",
     "text": [
      "{1, 2, 3, 6, 7, 8}\n"
     ]
    }
   ],
   "source": [
    "print(A^B)"
   ]
  },
  {
   "cell_type": "code",
   "execution_count": 134,
   "metadata": {},
   "outputs": [
    {
     "name": "stdout",
     "output_type": "stream",
     "text": [
      "{1, 2, 3, 6, 7, 8}\n"
     ]
    }
   ],
   "source": [
    "print(B^A)"
   ]
  },
  {
   "cell_type": "code",
   "execution_count": 135,
   "metadata": {},
   "outputs": [
    {
     "name": "stdout",
     "output_type": "stream",
     "text": [
      "{1, 2, 3, 6, 7, 8}\n"
     ]
    }
   ],
   "source": [
    "print(A.symmetric_difference(B))"
   ]
  },
  {
   "cell_type": "code",
   "execution_count": 136,
   "metadata": {},
   "outputs": [
    {
     "name": "stdout",
     "output_type": "stream",
     "text": [
      "{1, 2, 3, 6, 7, 8}\n"
     ]
    }
   ],
   "source": [
    "print(B.symmetric_difference(A))"
   ]
  },
  {
   "cell_type": "markdown",
   "metadata": {},
   "source": [
    "### Built-in Functions with Set\n",
    "\n",
    "| Function | Description | \n",
    "|:---- |:---- |\n",
    "| ****[all()]**** | Returns **`True`** if all elements of the set are true (or if the set is empty). |\n",
    "| **[any()]** | Returns **`True`** if any element of the set is true. If the set is empty, returns **`False`**. |\n",
    "| **[enumerate()]** | Returns an enumerate object. It contains the index and value for all the items of the set as a pair. |\n",
    "| **[len()]** | Returns the length (the number of items) in the set. |\n",
    "| **[max()]** | Returns the largest item in the set. |\n",
    "| **[min()]** | Returns the smallest item in the set. |\n",
    "| **[sorted()]** | Returns a new sorted list from elements in the set(does not sort the set itself). |\n",
    "| **[sum()]** | Returns the sum of all elements in the set. |"
   ]
  },
  {
   "cell_type": "code",
   "execution_count": 137,
   "metadata": {},
   "outputs": [
    {
     "name": "stdout",
     "output_type": "stream",
     "text": [
      "True\n",
      "False\n",
      "True\n"
     ]
    }
   ],
   "source": [
    "my_set = {1,2,3,4,5}\n",
    "my_set2 = {1,2,4,4,5,0} \n",
    "my_set3 = ('x', 'y', 'z', (1,2,3), 7)\n",
    "\n",
    "print(all(my_set))\n",
    "print(all(my_set2))\n",
    "print(all(my_set3))"
   ]
  },
  {
   "cell_type": "code",
   "execution_count": 138,
   "metadata": {},
   "outputs": [
    {
     "name": "stdout",
     "output_type": "stream",
     "text": [
      "True\n",
      "True\n",
      "True\n"
     ]
    }
   ],
   "source": [
    "my_set = {1,2,3,4,5}\n",
    "my_set2 = {1,2,4,4,5,0} \n",
    "my_set3 = ('x', 'y', 'z', (1,2,3), 7)\n",
    "\n",
    "print(any(my_set))\n",
    "print(any(my_set2))\n",
    "print(any(my_set3))"
   ]
  },
  {
   "cell_type": "code",
   "execution_count": 139,
   "metadata": {},
   "outputs": [
    {
     "name": "stdout",
     "output_type": "stream",
     "text": [
      "<enumerate object at 0x00000138E976A340>\n",
      "<enumerate object at 0x00000138E97EB540>\n",
      "<enumerate object at 0x00000138E98A6EC0>\n"
     ]
    }
   ],
   "source": [
    "my_set = {1,2,3,4,5}\n",
    "my_set2 = {1,2,4,4,5,0} \n",
    "my_set3 = ('x', 'y', 'z', (1,2,3), 7)\n",
    "\n",
    "print(enumerate(my_set))\n",
    "print(enumerate(my_set2))\n",
    "print(enumerate(my_set3))"
   ]
  },
  {
   "cell_type": "code",
   "execution_count": 142,
   "metadata": {},
   "outputs": [
    {
     "name": "stdout",
     "output_type": "stream",
     "text": [
      "[(0, 1), (1, 2), (2, 3), (3, 4), (4, 5)]\n",
      "[(0, 0), (1, 1), (2, 2), (3, 4), (4, 5)]\n",
      "[(0, 'x'), (1, 'y'), (2, 'z'), (3, (1, 2, 3)), (4, 7)]\n"
     ]
    }
   ],
   "source": [
    "my_set = {1,2,3,4,5}\n",
    "my_set2 = {1,2,4,4,5,0} \n",
    "my_set3 = ('x', 'y', 'z', (1,2,3), 7)\n",
    "\n",
    "setenum1 = enumerate(my_set)\n",
    "setList1 = list(setenum1)\n",
    "\n",
    "setenum2 = enumerate(my_set2)\n",
    "setList2 = list(setenum2)\n",
    "\n",
    "setenum3 = enumerate(my_set3)\n",
    "setList3 = list(setenum3)\n",
    "\n",
    "print(setList1)\n",
    "print(setList2)\n",
    "print(setList3)"
   ]
  },
  {
   "cell_type": "code",
   "execution_count": 143,
   "metadata": {},
   "outputs": [
    {
     "name": "stdout",
     "output_type": "stream",
     "text": [
      "5\n",
      "5\n",
      "5\n"
     ]
    }
   ],
   "source": [
    "my_set = {1,2,3,4,5}\n",
    "my_set2 = {1,2,4,4,5,0} \n",
    "my_set3 = ('x', 'y', 'z', (1,2,3), 7)\n",
    "\n",
    "print(len(my_set))\n",
    "print(len(my_set2))\n",
    "print(len(my_set3))"
   ]
  },
  {
   "cell_type": "code",
   "execution_count": 145,
   "metadata": {},
   "outputs": [
    {
     "name": "stdout",
     "output_type": "stream",
     "text": [
      "5\n",
      "5\n"
     ]
    }
   ],
   "source": [
    "my_set = {1,2,3,4,5}\n",
    "my_set2 = {1,2,4,4,5,0} \n",
    "#my_set3 = ('x', 'y', 'z', (1,2,3), 7)\n",
    "\n",
    "print(max(my_set))\n",
    "print(max(my_set2))\n",
    "#print(max(my_set3))"
   ]
  },
  {
   "cell_type": "code",
   "execution_count": 146,
   "metadata": {},
   "outputs": [
    {
     "name": "stdout",
     "output_type": "stream",
     "text": [
      "1\n",
      "0\n"
     ]
    }
   ],
   "source": [
    "my_set = {1,2,3,4,5}\n",
    "my_set2 = {1,2,4,4,5,0} \n",
    "#my_set3 = ('x', 'y', 'z', (1,2,3), 7)\n",
    "\n",
    "print(min(my_set))\n",
    "print(min(my_set2))\n",
    "#print(len(my_set3))"
   ]
  },
  {
   "cell_type": "code",
   "execution_count": 147,
   "metadata": {},
   "outputs": [
    {
     "name": "stdout",
     "output_type": "stream",
     "text": [
      "[1, 2, 3, 4, 5]\n",
      "[0, 1, 2, 4, 5]\n"
     ]
    },
    {
     "ename": "TypeError",
     "evalue": "'<' not supported between instances of 'tuple' and 'str'",
     "output_type": "error",
     "traceback": [
      "\u001b[1;31m---------------------------------------------------------------------------\u001b[0m",
      "\u001b[1;31mTypeError\u001b[0m                                 Traceback (most recent call last)",
      "\u001b[1;32m~\\AppData\\Local\\Temp\\ipykernel_22464\\3340464705.py\u001b[0m in \u001b[0;36m<module>\u001b[1;34m\u001b[0m\n\u001b[0;32m      5\u001b[0m \u001b[0mprint\u001b[0m\u001b[1;33m(\u001b[0m\u001b[0msorted\u001b[0m\u001b[1;33m(\u001b[0m\u001b[0mmy_set\u001b[0m\u001b[1;33m)\u001b[0m\u001b[1;33m)\u001b[0m\u001b[1;33m\u001b[0m\u001b[1;33m\u001b[0m\u001b[0m\n\u001b[0;32m      6\u001b[0m \u001b[0mprint\u001b[0m\u001b[1;33m(\u001b[0m\u001b[0msorted\u001b[0m\u001b[1;33m(\u001b[0m\u001b[0mmy_set2\u001b[0m\u001b[1;33m)\u001b[0m\u001b[1;33m)\u001b[0m\u001b[1;33m\u001b[0m\u001b[1;33m\u001b[0m\u001b[0m\n\u001b[1;32m----> 7\u001b[1;33m \u001b[0mprint\u001b[0m\u001b[1;33m(\u001b[0m\u001b[0msorted\u001b[0m\u001b[1;33m(\u001b[0m\u001b[0mmy_set3\u001b[0m\u001b[1;33m)\u001b[0m\u001b[1;33m)\u001b[0m\u001b[1;33m\u001b[0m\u001b[1;33m\u001b[0m\u001b[0m\n\u001b[0m",
      "\u001b[1;31mTypeError\u001b[0m: '<' not supported between instances of 'tuple' and 'str'"
     ]
    }
   ],
   "source": [
    "my_set = {1,2,3,4,5}\n",
    "my_set2 = {1,2,4,4,5,0} \n",
    "my_set3 = ('x', 'y', 'z', (1,2,3), 7)\n",
    "\n",
    "print(sorted(my_set))\n",
    "print(sorted(my_set2))\n",
    "print(sorted(my_set3))"
   ]
  },
  {
   "cell_type": "code",
   "execution_count": 149,
   "metadata": {},
   "outputs": [
    {
     "name": "stdout",
     "output_type": "stream",
     "text": [
      "[1, 2, 3, 4, 5]\n",
      "[0, 1, 2, 4, 5]\n",
      "['a', 'c,', 'e', 'x', 'y', 'z']\n"
     ]
    }
   ],
   "source": [
    "my_set = {1,2,3,4,5}\n",
    "my_set2 = {1,2,4,4,5,0} \n",
    "my_set3 = ('x', 'y', 'z','a', 'e','c,')\n",
    "\n",
    "print(sorted(my_set))\n",
    "print(sorted(my_set2))\n",
    "print(sorted(my_set3))"
   ]
  },
  {
   "cell_type": "code",
   "execution_count": 151,
   "metadata": {},
   "outputs": [
    {
     "name": "stdout",
     "output_type": "stream",
     "text": [
      "30\n",
      "72\n"
     ]
    }
   ],
   "source": [
    "my_set = {1,2,5, 7,8,3,4,5}\n",
    "my_set2 = {1,2,4,4,58,7,0} \n",
    "\n",
    "print(sum(my_set))\n",
    "print(sum(my_set2))"
   ]
  },
  {
   "cell_type": "code",
   "execution_count": null,
   "metadata": {},
   "outputs": [],
   "source": []
  },
  {
   "cell_type": "markdown",
   "metadata": {},
   "source": [
    "## Other Python Set Methods\n",
    "\n",
    "| Method | Operator | Description |\n",
    "|:---- |:---- |:--- |\n",
    "| **[add()]** |  |  Adds an element to the set. | \n",
    "| **[copy()]** |  |  Returns a copy of the set. | \n",
    "| **[remove()]** |  |  Removes an element from the set. If the element is not a member, raises a **`KeyError`**. |\n",
    "| **[discard()]** |  |  Removes an element from the set if it is a member. (Do nothing if the element is not in set). | \n",
    "| **[pop()]** |  |  Removes and returns an arbitrary set element. Raises **`KeyError`** if the set is empty. | \n",
    "| **[clear()]** |  |  Removes all elements from the set. | \n",
    "| **[union()]** | **`A \\| B`** |  Returns the union of sets in a new set. | \n",
    "| **[update()]** | **`A \\|= B`** |  Updates the set with the union of itself and others. | \n",
    "| **[intersection()]** | **`A & B`** |  Returns the intersection of two sets as a new set. | \n",
    "| **[intersection_update()]** | **`A &= B`** |  Updates the set with the intersection of itself and another. | \n",
    "| **[isdisjoint()]** |  |  Returns **`True`** if two sets have a null intersection. | \n",
    "| **[difference()]** | **`A – B`** |  Returns the difference of two or more sets as a new set. | \n",
    "| **[difference_update()]** | **`A -= B`** |  Removes all elements of another set from this set. | \n",
    "| **[symmetric_difference()]** | **`A ^ B`** |  Returns the symmetric difference of two sets as a new set. | \n",
    "| **[symmetric_difference_update()]** | **`A ^= B`** |  Updates a set with the symmetric difference of itself and another. | \n",
    "| **[issubset()]** | **`A <= B`** |  Returns **`True`** if another set contains this set. | \n",
    "| **[issuperset()]** | **`A >= B`** | Returns **`True`** if this set contains another set. |"
   ]
  },
  {
   "cell_type": "markdown",
   "metadata": {},
   "source": [
    "### Other Set Operations"
   ]
  },
  {
   "cell_type": "markdown",
   "metadata": {},
   "source": [
    "#### 1. Set Membership Test "
   ]
  },
  {
   "cell_type": "code",
   "execution_count": 157,
   "metadata": {},
   "outputs": [
    {
     "name": "stdout",
     "output_type": "stream",
     "text": [
      "{'u', 'a', 'l', 'k', 'm', 'n', 'O', 'S', 'e'}\n",
      "True\n",
      "False\n",
      "True\n"
     ]
    }
   ],
   "source": [
    "my_set = set('OlalekanSamuel')\n",
    "print(my_set)\n",
    "\n",
    "#Checking if 'a' is present in the set\n",
    "print('a' in my_set)\n",
    "\n",
    "#Checking if 'p' is present in the set\n",
    "print('p' in my_set)\n",
    "\n",
    "#Checking if 'p' is not present in the set\n",
    "print('p' not in my_set)"
   ]
  },
  {
   "cell_type": "markdown",
   "metadata": {},
   "source": [
    "#### 2. Iterating through a set"
   ]
  },
  {
   "cell_type": "code",
   "execution_count": 158,
   "metadata": {},
   "outputs": [
    {
     "name": "stdout",
     "output_type": "stream",
     "text": [
      "{'u', 'a', 'l', 'k', 'm', 'n', 'O', 'S', 'e'}\n",
      "u\n",
      "a\n",
      "l\n",
      "k\n",
      "m\n",
      "n\n",
      "O\n",
      "S\n",
      "e\n"
     ]
    }
   ],
   "source": [
    "my_set = set('OlalekanSamuel')\n",
    "print(my_set)\n",
    "\n",
    "for eachletter in my_set:\n",
    "    print(eachletter)"
   ]
  },
  {
   "cell_type": "markdown",
   "metadata": {},
   "source": [
    "### Python Frozenset\n",
    "\n",
    "A frozen set is a new class that has the characteristics of a set, however its elements cannot be\n",
    "changed once it is assisgned\n",
    "\n",
    "To create a frozensets, you will use the `frozenset()`fucntion"
   ]
  },
  {
   "cell_type": "markdown",
   "metadata": {},
   "source": [
    "#### Frozenset Methods \n",
    "**`copy()`**, **`union()`**, **`intersection()`**, **`difference()`**, **`symmetric_difference()`**, **`isdisjoint()`**, **`issubset()`**, and **`issuperset()`**."
   ]
  },
  {
   "cell_type": "code",
   "execution_count": 161,
   "metadata": {},
   "outputs": [],
   "source": [
    "#Example : Frozensets\n",
    "\n",
    "A = frozenset([1, 3, 4, 6])\n",
    "\n",
    "B = frozenset([3, 4, 5, 7])"
   ]
  },
  {
   "cell_type": "code",
   "execution_count": 162,
   "metadata": {},
   "outputs": [
    {
     "data": {
      "text/plain": [
       "False"
      ]
     },
     "execution_count": 162,
     "metadata": {},
     "output_type": "execute_result"
    }
   ],
   "source": [
    "A.isdisjoint(B)"
   ]
  },
  {
   "cell_type": "code",
   "execution_count": 163,
   "metadata": {},
   "outputs": [
    {
     "data": {
      "text/plain": [
       "frozenset({1, 6})"
      ]
     },
     "execution_count": 163,
     "metadata": {},
     "output_type": "execute_result"
    }
   ],
   "source": [
    "A.difference(B)"
   ]
  },
  {
   "cell_type": "code",
   "execution_count": 164,
   "metadata": {},
   "outputs": [
    {
     "data": {
      "text/plain": [
       "frozenset({1, 3, 4, 5, 6, 7})"
      ]
     },
     "execution_count": 164,
     "metadata": {},
     "output_type": "execute_result"
    }
   ],
   "source": [
    "A|B"
   ]
  },
  {
   "cell_type": "code",
   "execution_count": 165,
   "metadata": {},
   "outputs": [
    {
     "ename": "AttributeError",
     "evalue": "'frozenset' object has no attribute 'add'",
     "output_type": "error",
     "traceback": [
      "\u001b[1;31m---------------------------------------------------------------------------\u001b[0m",
      "\u001b[1;31mAttributeError\u001b[0m                            Traceback (most recent call last)",
      "\u001b[1;32m~\\AppData\\Local\\Temp\\ipykernel_22464\\3381986086.py\u001b[0m in \u001b[0;36m<module>\u001b[1;34m\u001b[0m\n\u001b[1;32m----> 1\u001b[1;33m \u001b[0mA\u001b[0m\u001b[1;33m.\u001b[0m\u001b[0madd\u001b[0m\u001b[1;33m(\u001b[0m\u001b[1;36m8\u001b[0m\u001b[1;33m)\u001b[0m\u001b[1;33m\u001b[0m\u001b[1;33m\u001b[0m\u001b[0m\n\u001b[0m",
      "\u001b[1;31mAttributeError\u001b[0m: 'frozenset' object has no attribute 'add'"
     ]
    }
   ],
   "source": [
    "A.add(8)"
   ]
  },
  {
   "cell_type": "code",
   "execution_count": 166,
   "metadata": {},
   "outputs": [],
   "source": [
    "# Example on Frozensets methods\n",
    "\n",
    "A = frozenset([1,2,3,4])\n",
    "B = frozenset([3,4,5,6])"
   ]
  },
  {
   "cell_type": "code",
   "execution_count": 167,
   "metadata": {},
   "outputs": [
    {
     "name": "stdout",
     "output_type": "stream",
     "text": [
      "frozenset({1, 2, 3, 4})\n"
     ]
    }
   ],
   "source": [
    "#Copying a frozenset\n",
    "C=A.copy()\n",
    "print(C)"
   ]
  },
  {
   "cell_type": "code",
   "execution_count": 169,
   "metadata": {},
   "outputs": [
    {
     "name": "stdout",
     "output_type": "stream",
     "text": [
      "frozenset({1, 2, 3, 4, 5, 6})\n"
     ]
    }
   ],
   "source": [
    "#Union\n",
    "print(A.union(B))"
   ]
  },
  {
   "cell_type": "code",
   "execution_count": 170,
   "metadata": {},
   "outputs": [
    {
     "name": "stdout",
     "output_type": "stream",
     "text": [
      "frozenset({3, 4})\n"
     ]
    }
   ],
   "source": [
    "#intersection\n",
    "print(A.intersection(B))"
   ]
  },
  {
   "cell_type": "code",
   "execution_count": 171,
   "metadata": {},
   "outputs": [
    {
     "name": "stdout",
     "output_type": "stream",
     "text": [
      "frozenset({1, 2})\n"
     ]
    }
   ],
   "source": [
    "#difference\n",
    "print(A.difference(B))"
   ]
  },
  {
   "cell_type": "code",
   "execution_count": 172,
   "metadata": {},
   "outputs": [
    {
     "name": "stdout",
     "output_type": "stream",
     "text": [
      "frozenset({1, 2, 5, 6})\n"
     ]
    }
   ],
   "source": [
    "#Symmetric Difference\n",
    "print(A.symmetric_difference(B))"
   ]
  },
  {
   "cell_type": "markdown",
   "metadata": {},
   "source": [
    "Looking at the examples for `isdisjoint()`, `issubset()`, and `issuperset()`"
   ]
  },
  {
   "cell_type": "code",
   "execution_count": 174,
   "metadata": {},
   "outputs": [],
   "source": [
    "#initialize A, B , C Variables\n",
    "\n",
    "A = frozenset([1,2,3,4])\n",
    "B = frozenset([3,4,5,6])\n",
    "C = frozenset([5,6])"
   ]
  },
  {
   "cell_type": "code",
   "execution_count": 175,
   "metadata": {},
   "outputs": [
    {
     "name": "stdout",
     "output_type": "stream",
     "text": [
      "True\n"
     ]
    }
   ],
   "source": [
    "#isdisjoint()\n",
    "print(A.isdisjoint(C))"
   ]
  },
  {
   "cell_type": "code",
   "execution_count": 176,
   "metadata": {},
   "outputs": [
    {
     "name": "stdout",
     "output_type": "stream",
     "text": [
      "True\n"
     ]
    }
   ],
   "source": [
    "#issubset()\n",
    "print(C.issubset(B))"
   ]
  },
  {
   "cell_type": "code",
   "execution_count": 177,
   "metadata": {},
   "outputs": [
    {
     "name": "stdout",
     "output_type": "stream",
     "text": [
      "True\n"
     ]
    }
   ],
   "source": [
    "#issuperset()\n",
    "print(B.issuperset(C))"
   ]
  },
  {
   "cell_type": "code",
   "execution_count": null,
   "metadata": {},
   "outputs": [],
   "source": []
  }
 ],
 "metadata": {
  "hide_input": false,
  "kernelspec": {
   "display_name": "Python 3 (ipykernel)",
   "language": "python",
   "name": "python3"
  },
  "language_info": {
   "codemirror_mode": {
    "name": "ipython",
    "version": 3
   },
   "file_extension": ".py",
   "mimetype": "text/x-python",
   "name": "python",
   "nbconvert_exporter": "python",
   "pygments_lexer": "ipython3",
   "version": "3.9.13"
  },
  "toc": {
   "base_numbering": 1,
   "nav_menu": {},
   "number_sections": true,
   "sideBar": true,
   "skip_h1_title": false,
   "title_cell": "Table of Contents",
   "title_sidebar": "Contents",
   "toc_cell": false,
   "toc_position": {},
   "toc_section_display": true,
   "toc_window_display": false
  },
  "varInspector": {
   "cols": {
    "lenName": 16,
    "lenType": 16,
    "lenVar": 40
   },
   "kernels_config": {
    "python": {
     "delete_cmd_postfix": "",
     "delete_cmd_prefix": "del ",
     "library": "var_list.py",
     "varRefreshCmd": "print(var_dic_list())"
    },
    "r": {
     "delete_cmd_postfix": ") ",
     "delete_cmd_prefix": "rm(",
     "library": "var_list.r",
     "varRefreshCmd": "cat(var_dic_list()) "
    }
   },
   "types_to_exclude": [
    "module",
    "function",
    "builtin_function_or_method",
    "instance",
    "_Feature"
   ],
   "window_display": false
  }
 },
 "nbformat": 4,
 "nbformat_minor": 2
}
