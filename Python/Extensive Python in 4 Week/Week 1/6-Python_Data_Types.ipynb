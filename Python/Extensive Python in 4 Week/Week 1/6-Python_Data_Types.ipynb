{
 "cells": [
  {
   "cell_type": "markdown",
   "metadata": {},
   "source": [
    "# Python Data Types\n",
    "\n",
    "<div>\n",
    "<img src=\"img/python_data-types.png\" width=\"450\"/>\n",
    "</div>"
   ]
  },
  {
   "cell_type": "markdown",
   "metadata": {},
   "source": [
    "## 1. Python Numeric"
   ]
  },
  {
   "cell_type": "code",
   "execution_count": 4,
   "metadata": {},
   "outputs": [
    {
     "name": "stdout",
     "output_type": "stream",
     "text": [
      "<class 'int'>\n",
      "<class 'float'>\n"
     ]
    }
   ],
   "source": [
    "# int, float, complex\n",
    "\n",
    "a = 45\n",
    "\n",
    "print(type(a))\n",
    "\n",
    "b = 67.98\n",
    "\n",
    "print(type(b))"
   ]
  },
  {
   "cell_type": "code",
   "execution_count": 6,
   "metadata": {
    "scrolled": true
   },
   "outputs": [
    {
     "name": "stdout",
     "output_type": "stream",
     "text": [
      "15 is of type <class 'int'>\n",
      "15 is integer number? True\n",
      "15.85 is of type <class 'float'>\n",
      "15.85 is integer number? True\n",
      "(2+3j) is of type <class 'complex'>\n",
      "(2+3j) is integer number? True\n"
     ]
    }
   ],
   "source": [
    "a = 15\n",
    "print(a, \"is of type\", type(a))\n",
    "print(a, \"is integer number?\", isinstance(5, int))\n",
    "\n",
    "b = 15.85\n",
    "print(b, \"is of type\", type(b))\n",
    "print(b, \"is integer number?\", isinstance(3.0, float))\n",
    "\n",
    "c = 2+3j\n",
    "print(c, \"is of type\", type(c))\n",
    "print(c, \"is integer number?\", isinstance(2+3j, complex))"
   ]
  },
  {
   "cell_type": "code",
   "execution_count": 7,
   "metadata": {},
   "outputs": [
    {
     "name": "stdout",
     "output_type": "stream",
     "text": [
      "1234567890123456789\n",
      "0.12345678901234568\n",
      "(2+3j)\n"
     ]
    }
   ],
   "source": [
    "#1.  1 is integer\n",
    "#2. 1.0 is float\n",
    "\n",
    "#3. Complext number are written in this form:\n",
    "\n",
    "#A + Bj\n",
    "\n",
    "a = 1234567890123456789\n",
    "print(a)\n",
    "\n",
    "b = 0.1234567890123456789\n",
    "print(b)\n",
    "\n",
    "c = 2+3j\n",
    "print(c)"
   ]
  },
  {
   "cell_type": "code",
   "execution_count": 8,
   "metadata": {},
   "outputs": [
    {
     "name": "stdout",
     "output_type": "stream",
     "text": [
      "(6+8j)\n"
     ]
    }
   ],
   "source": [
    "#Creating Complex numbers from 2 real numbers using the complext function:\n",
    "\n",
    "a = 6\n",
    "b = 8\n",
    "c = complex(a,b)\n",
    "print(c)"
   ]
  },
  {
   "cell_type": "markdown",
   "metadata": {},
   "source": [
    "Python Complex numbers has only 3 Public members in the class\n",
    "\n",
    "1. real\n",
    "2. imaginary\n",
    "3. conjugate"
   ]
  },
  {
   "cell_type": "code",
   "execution_count": 10,
   "metadata": {},
   "outputs": [
    {
     "name": "stdout",
     "output_type": "stream",
     "text": [
      "5.0\n",
      "8.0\n",
      "(5-8j)\n"
     ]
    }
   ],
   "source": [
    "z = 5 + 8j\n",
    "\n",
    "print(z.real)\n",
    "print(z.imag)\n",
    "print(z.conjugate())"
   ]
  },
  {
   "cell_type": "markdown",
   "metadata": {},
   "source": [
    "## 2. Python List `[]`"
   ]
  },
  {
   "cell_type": "code",
   "execution_count": 13,
   "metadata": {},
   "outputs": [
    {
     "name": "stdout",
     "output_type": "stream",
     "text": [
      "[7, 12, 99, 87, 65, 'Mango', 'Oluwabunmi', 'Olalekan'] \n",
      "is of type <class 'list'>\n"
     ]
    }
   ],
   "source": [
    "a = [7, 12, 99, 87, 65, \"Mango\", 'Oluwabunmi', 'Olalekan']\n",
    "print(a, '\\nis of type', type(a))"
   ]
  },
  {
   "cell_type": "code",
   "execution_count": 22,
   "metadata": {
    "scrolled": true
   },
   "outputs": [
    {
     "name": "stdout",
     "output_type": "stream",
     "text": [
      "x[2] =  99\n",
      "x[0:3] =  [7, 12, 99]\n",
      "x[5:] =  ['Mango', 'Oluwabunmi', 'Olalekan']\n",
      "[12, 99, 87, 65, 'Mango']\n",
      "['Mango', 'Oluwabunmi', 'Olalekan']\n",
      "[7, 12, 99, 87, 65]\n"
     ]
    }
   ],
   "source": [
    "x = [7, 12, 99, 87, 65, \"Mango\", 'Oluwabunmi', 'Olalekan'] # Total elements is 8\n",
    "\n",
    "#   [0, 1, 2, 3, 4, 5, 6, 7] <- Index forward\n",
    "\n",
    "#  [-8, -7, -6, -5, -4, -3, -2, -1] <- Index backward\n",
    "\n",
    "x[1] #You are accessing the elements in the list\n",
    "\n",
    "#x[2] = 99\n",
    "\n",
    "print(\"x[2] = \", x[2])\n",
    "\n",
    "#x[0:3] = [7, 12, 99]\n",
    "print(\"x[0:3] = \", x[0:3]) #[0:3] this means that elements from 0 uptil 2 index (not inluding the last element)\n",
    "                           #[0:3] this means that from index 3 - 1\n",
    "                           #[0:3] this means that from index 0 to 2\n",
    "\n",
    "#x[5:]\n",
    "print(\"x[5:] = \", x[5:])\n",
    "\n",
    "print(x[1:-2])\n",
    "print(x[5:9])\n",
    "print(x[:5])"
   ]
  },
  {
   "cell_type": "markdown",
   "metadata": {},
   "source": [
    "##### List Mutability functionality"
   ]
  },
  {
   "cell_type": "code",
   "execution_count": 26,
   "metadata": {},
   "outputs": [
    {
     "name": "stdout",
     "output_type": "stream",
     "text": [
      "[7, 12, 99, 87, 65, 'Mango', 'Oluwabunmi', 'Olalekan']\n",
      "[7, 12, 125, 87, 65, 'Mango', 'Oluwabunmi', 'Olalekan']\n",
      "[7, 12, 125, 87, 65, 'orange', 'Oluwabunmi', 'Olalekan']\n"
     ]
    }
   ],
   "source": [
    "x = [7, 12, 99, 87, 65, \"Mango\", 'Oluwabunmi', 'Olalekan'] # Total elements is 8\n",
    "print(x)\n",
    "\n",
    "x[2] = 125\n",
    "print(x)\n",
    "\n",
    "x[5] = \"orange\"\n",
    "print(x)"
   ]
  },
  {
   "cell_type": "markdown",
   "metadata": {},
   "source": [
    "## 3. Python Tuple `()`"
   ]
  },
  {
   "cell_type": "code",
   "execution_count": 32,
   "metadata": {
    "scrolled": true
   },
   "outputs": [
    {
     "name": "stdout",
     "output_type": "stream",
     "text": [
      "mytuple[1] = Python\n",
      "mytuple[0:4] = (10, 'Python', 'Olusola', 'Olalekan')\n",
      "mytuple[1:4] = ('Python', 'Olusola', 'Olalekan')\n"
     ]
    },
    {
     "ename": "TypeError",
     "evalue": "'tuple' object does not support item assignment",
     "output_type": "error",
     "traceback": [
      "\u001b[1;31m---------------------------------------------------------------------------\u001b[0m",
      "\u001b[1;31mTypeError\u001b[0m                                 Traceback (most recent call last)",
      "\u001b[1;32m~\\AppData\\Local\\Temp/ipykernel_12972/1404919008.py\u001b[0m in \u001b[0;36m<module>\u001b[1;34m\u001b[0m\n\u001b[0;32m     11\u001b[0m \u001b[0mprint\u001b[0m\u001b[1;33m(\u001b[0m\u001b[1;34m\"mytuple[1:4] =\"\u001b[0m\u001b[1;33m,\u001b[0m \u001b[0mmytuple\u001b[0m\u001b[1;33m[\u001b[0m\u001b[1;36m1\u001b[0m\u001b[1;33m:\u001b[0m\u001b[1;36m4\u001b[0m\u001b[1;33m]\u001b[0m\u001b[1;33m)\u001b[0m\u001b[1;33m\u001b[0m\u001b[1;33m\u001b[0m\u001b[0m\n\u001b[0;32m     12\u001b[0m \u001b[1;33m\u001b[0m\u001b[0m\n\u001b[1;32m---> 13\u001b[1;33m \u001b[0mmytuple\u001b[0m\u001b[1;33m[\u001b[0m\u001b[1;36m3\u001b[0m\u001b[1;33m]\u001b[0m \u001b[1;33m=\u001b[0m \u001b[1;36m10\u001b[0m\u001b[1;33m\u001b[0m\u001b[1;33m\u001b[0m\u001b[0m\n\u001b[0m",
      "\u001b[1;31mTypeError\u001b[0m: 'tuple' object does not support item assignment"
     ]
    }
   ],
   "source": [
    "mytuple = (10, \"Python\", \"Olusola\", 'Olalekan', 'Omolola', 2+3j)\n",
    "\n",
    "#   [0, 1, 2, 3, 4, 5] <- Index forward\n",
    "\n",
    "#  [-6, -5, -4, -3, -2, -1] <- Index backward\n",
    "\n",
    "print(\"mytuple[1] =\", mytuple[1])\n",
    "\n",
    "print(\"mytuple[0:4] =\", mytuple[0:4])\n",
    "\n",
    "print(\"mytuple[1:4] =\", mytuple[1:4])\n",
    "\n",
    "mytuple[3] = 10"
   ]
  },
  {
   "cell_type": "code",
   "execution_count": 33,
   "metadata": {},
   "outputs": [
    {
     "data": {
      "text/plain": [
       "('item1',)"
      ]
     },
     "execution_count": 33,
     "metadata": {},
     "output_type": "execute_result"
    }
   ],
   "source": [
    "mytuple1 = (\"item1\", )\n",
    "\n",
    "mytuple1"
   ]
  },
  {
   "cell_type": "markdown",
   "metadata": {},
   "source": [
    "## 4. Python Strings"
   ]
  },
  {
   "cell_type": "code",
   "execution_count": 42,
   "metadata": {
    "scrolled": true
   },
   "outputs": [
    {
     "name": "stdout",
     "output_type": "stream",
     "text": [
      "Olalekan SamuelOgunleye\n",
      "Olalekan Samuel Ogunleye\n"
     ]
    }
   ],
   "source": [
    "name = 'Olalekan Samuel'\n",
    "surname = \"Ogunleye\"\n",
    "#fullname = 'Olalekan Samuel Ogunleye\"\n",
    "print(name + surname)\n",
    "print(name, surname)\n",
    "\n"
   ]
  },
  {
   "cell_type": "code",
   "execution_count": 40,
   "metadata": {},
   "outputs": [
    {
     "data": {
      "text/plain": [
       "'This is Olalekan Samuel. \\nThe Instructor of this awesome training'"
      ]
     },
     "execution_count": 40,
     "metadata": {},
     "output_type": "execute_result"
    }
   ],
   "source": [
    "#Multiline Strings can be denoted by eithwr triple \"\"\"\"\"\" or ''''''\n",
    "\n",
    "text = \"\"\"This is Olalekan Samuel. \n",
    "The Instructor of this awesome training\"\"\"\n",
    "text"
   ]
  },
  {
   "cell_type": "code",
   "execution_count": 44,
   "metadata": {
    "scrolled": true
   },
   "outputs": [
    {
     "ename": "SyntaxError",
     "evalue": "invalid syntax (Temp/ipykernel_12972/2237509565.py, line 1)",
     "output_type": "error",
     "traceback": [
      "\u001b[1;36m  File \u001b[1;32m\"C:\\Users\\olale\\AppData\\Local\\Temp/ipykernel_12972/2237509565.py\"\u001b[1;36m, line \u001b[1;32m1\u001b[0m\n\u001b[1;33m    mystring = This a training\u001b[0m\n\u001b[1;37m                    ^\u001b[0m\n\u001b[1;31mSyntaxError\u001b[0m\u001b[1;31m:\u001b[0m invalid syntax\n"
     ]
    }
   ],
   "source": [
    "mystring = This is a training"
   ]
  },
  {
   "cell_type": "code",
   "execution_count": 49,
   "metadata": {},
   "outputs": [
    {
     "name": "stdout",
     "output_type": "stream",
     "text": [
      "This is a new string text\n",
      "mystring[4] =   \n",
      "mystring[5] =  i\n",
      "mystring[6:11] =  s a n\n"
     ]
    }
   ],
   "source": [
    "\"\"\"Just like the list and tuple, you can also use the slicing operator to slice the string.\n",
    "However, strings are also immutable\"\"\"\n",
    "\n",
    "mystring1 = \"This is a new string text\"\n",
    "print(mystring1)\n",
    "\n",
    "print(\"mystring[4] = \", mystring1[4])\n",
    "print(\"mystring[5] = \", mystring1[5])\n",
    "print(\"mystring[6:11] = \", mystring1[6:11])"
   ]
  },
  {
   "cell_type": "markdown",
   "metadata": {},
   "source": [
    "## 5. Python Set `{}`"
   ]
  },
  {
   "cell_type": "code",
   "execution_count": 54,
   "metadata": {
    "scrolled": true
   },
   "outputs": [
    {
     "name": "stdout",
     "output_type": "stream",
     "text": [
      "a =  {3, 4, 5, 6, 8, 10}\n",
      "y =  {1, 33, 3, 8, 10, 12, 45}\n",
      "<class 'set'>\n"
     ]
    }
   ],
   "source": [
    "z = {10, 3, 4, 5, 6, 8, 8, 8, 8, 8}\n",
    "\n",
    "print(\"a = \", z)\n",
    "\n",
    "y = {1,10, 8,45, 33,12, 12, 8, 3, 1}\n",
    "print(\"y = \", y)\n",
    "print(type(z))"
   ]
  },
  {
   "cell_type": "code",
   "execution_count": 55,
   "metadata": {},
   "outputs": [
    {
     "ename": "TypeError",
     "evalue": "'set' object is not subscriptable",
     "output_type": "error",
     "traceback": [
      "\u001b[1;31m---------------------------------------------------------------------------\u001b[0m",
      "\u001b[1;31mTypeError\u001b[0m                                 Traceback (most recent call last)",
      "\u001b[1;32m~\\AppData\\Local\\Temp/ipykernel_12972/1130778722.py\u001b[0m in \u001b[0;36m<module>\u001b[1;34m\u001b[0m\n\u001b[1;32m----> 1\u001b[1;33m \u001b[0my\u001b[0m\u001b[1;33m[\u001b[0m\u001b[1;36m2\u001b[0m\u001b[1;33m]\u001b[0m\u001b[1;33m\u001b[0m\u001b[1;33m\u001b[0m\u001b[0m\n\u001b[0m",
      "\u001b[1;31mTypeError\u001b[0m: 'set' object is not subscriptable"
     ]
    }
   ],
   "source": [
    "y[2]"
   ]
  },
  {
   "cell_type": "markdown",
   "metadata": {},
   "source": [
    "## 6. Python Dictionary `{}`"
   ]
  },
  {
   "cell_type": "code",
   "execution_count": 60,
   "metadata": {
    "scrolled": true
   },
   "outputs": [
    {
     "name": "stdout",
     "output_type": "stream",
     "text": [
      "{1: 'Apple', 2: 'Banana', 3: 'Strawberry', 4: 'Mango'} <class 'dict'>\n",
      "Apple\n",
      "Banana\n",
      "Strawberry\n",
      "Mango\n"
     ]
    }
   ],
   "source": [
    "fruits4 = {1:\"Apple\", 2:'Banana', 3:'Strawberry', 4:'Mango'}\n",
    "print(fruits4, type(fruits4))\n",
    "\n",
    "print(fruits4[1])\n",
    "print(fruits4[2])\n",
    "print(fruits4[3])\n",
    "print(fruits4[4])"
   ]
  },
  {
   "cell_type": "code",
   "execution_count": 62,
   "metadata": {},
   "outputs": [
    {
     "name": "stdout",
     "output_type": "stream",
     "text": [
      "fruits4[key ] =  Banana\n"
     ]
    }
   ],
   "source": [
    "print('fruits4[key ] = ', fruits4[2])"
   ]
  },
  {
   "cell_type": "markdown",
   "metadata": {},
   "source": [
    "## 7. Python Boolean"
   ]
  },
  {
   "cell_type": "code",
   "execution_count": 63,
   "metadata": {},
   "outputs": [
    {
     "name": "stdout",
     "output_type": "stream",
     "text": [
      "<class 'bool'>\n",
      "<class 'bool'>\n"
     ]
    }
   ],
   "source": [
    "print(type(True))\n",
    "print(type(False))"
   ]
  },
  {
   "cell_type": "code",
   "execution_count": 65,
   "metadata": {},
   "outputs": [
    {
     "name": "stdout",
     "output_type": "stream",
     "text": [
      "<class 'bool'>\n"
     ]
    },
    {
     "ename": "NameError",
     "evalue": "name 'false' is not defined",
     "output_type": "error",
     "traceback": [
      "\u001b[1;31m---------------------------------------------------------------------------\u001b[0m",
      "\u001b[1;31mNameError\u001b[0m                                 Traceback (most recent call last)",
      "\u001b[1;32m~\\AppData\\Local\\Temp/ipykernel_12972/3637097490.py\u001b[0m in \u001b[0;36m<module>\u001b[1;34m\u001b[0m\n\u001b[0;32m      1\u001b[0m \u001b[0mprint\u001b[0m\u001b[1;33m(\u001b[0m\u001b[0mtype\u001b[0m\u001b[1;33m(\u001b[0m\u001b[1;32mTrue\u001b[0m\u001b[1;33m)\u001b[0m\u001b[1;33m)\u001b[0m\u001b[1;33m\u001b[0m\u001b[1;33m\u001b[0m\u001b[0m\n\u001b[1;32m----> 2\u001b[1;33m \u001b[0mprint\u001b[0m\u001b[1;33m(\u001b[0m\u001b[0mtype\u001b[0m\u001b[1;33m(\u001b[0m\u001b[0mfalse\u001b[0m\u001b[1;33m)\u001b[0m\u001b[1;33m)\u001b[0m\u001b[1;33m\u001b[0m\u001b[1;33m\u001b[0m\u001b[0m\n\u001b[0m",
      "\u001b[1;31mNameError\u001b[0m: name 'false' is not defined"
     ]
    }
   ],
   "source": [
    "print(type(True))\n",
    "print(type(false))"
   ]
  },
  {
   "cell_type": "code",
   "execution_count": 67,
   "metadata": {},
   "outputs": [
    {
     "name": "stdout",
     "output_type": "stream",
     "text": [
      "No Python documentation found for 'abs()'.\n",
      "Use help() to get the interactive help utility.\n",
      "Use help(str) for help on the str class.\n",
      "\n"
     ]
    }
   ],
   "source": [
    "help('abs()')"
   ]
  },
  {
   "cell_type": "code",
   "execution_count": null,
   "metadata": {},
   "outputs": [],
   "source": []
  }
 ],
 "metadata": {
  "hide_input": false,
  "kernelspec": {
   "display_name": "Python 3 (ipykernel)",
   "language": "python",
   "name": "python3"
  },
  "language_info": {
   "codemirror_mode": {
    "name": "ipython",
    "version": 3
   },
   "file_extension": ".py",
   "mimetype": "text/x-python",
   "name": "python",
   "nbconvert_exporter": "python",
   "pygments_lexer": "ipython3",
   "version": "3.9.13"
  },
  "toc": {
   "base_numbering": 1,
   "nav_menu": {},
   "number_sections": true,
   "sideBar": true,
   "skip_h1_title": false,
   "title_cell": "Table of Contents",
   "title_sidebar": "Contents",
   "toc_cell": false,
   "toc_position": {},
   "toc_section_display": true,
   "toc_window_display": false
  },
  "varInspector": {
   "cols": {
    "lenName": 16,
    "lenType": 16,
    "lenVar": 40
   },
   "kernels_config": {
    "python": {
     "delete_cmd_postfix": "",
     "delete_cmd_prefix": "del ",
     "library": "var_list.py",
     "varRefreshCmd": "print(var_dic_list())"
    },
    "r": {
     "delete_cmd_postfix": ") ",
     "delete_cmd_prefix": "rm(",
     "library": "var_list.r",
     "varRefreshCmd": "cat(var_dic_list()) "
    }
   },
   "types_to_exclude": [
    "module",
    "function",
    "builtin_function_or_method",
    "instance",
    "_Feature"
   ],
   "window_display": false
  }
 },
 "nbformat": 4,
 "nbformat_minor": 2
}
