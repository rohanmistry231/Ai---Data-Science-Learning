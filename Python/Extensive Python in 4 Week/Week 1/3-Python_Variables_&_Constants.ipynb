{
 "cells": [
  {
   "cell_type": "markdown",
   "metadata": {},
   "source": [
    "# Python Variables and Constants"
   ]
  },
  {
   "cell_type": "markdown",
   "metadata": {},
   "source": [
    "# 1. Python Variables\n",
    "\n",
    "A variable is a named location used to **store data in the memory**. Variable also known as **identifier** and used to hold value. It is helpful to think of variables as a container that holds data that can be changed later in the program. **Mnemonic** variables are recommended to use in many programming languages. A mnemonic variable is a variable name that can be easily remembered and associated. A variable refers to a memory address in which data is stored. For example,\n",
    "\n",
    "```python\n",
    ">>>number = 90\n",
    "```\n",
    "\n",
    "Here, we have created a variable named **`number`**. We have assigned the value **`10`** to the variable.\n",
    "\n",
    "You can think of variables as a bag to store books in it and that book can be replaced at any time.\n",
    "\n",
    "```python\n",
    ">>>number = 90\n",
    ">>>number = 9.1\n",
    "```\n",
    "\n",
    "Initially, the value of number was **`90`**. Later, it was changed to **`9.1`**.\n",
    "\n",
    "> **Note**: In Python, we don't actually assign values to the variables. Instead, Python gives the reference of the object(value) to the variable.\n",
    "\n",
    "In Python, we don't need to specify the type of variable because Python is a **type infer language** and smart enough to get variable type. \n",
    "\n",
    "Python Variable Name Rules\n",
    "\n",
    "- A variable name must start with a **letter** **`A`**-**`z`** or the **underscore** **`_`** character\n",
    "- A variable name cannot start with a **number** **`0`**-**`9`**\n",
    "- A variable name can only contain alpha-numeric characters and underscores (**`A`**-**`z`**, **`0`**-**`9`**, and **`_`** )\n",
    "- Variable names are case-sensitive (**`firstname`**, **`Firstname`**, **`FirstName`** and **`FIRSTNAME`**) are different variables). It is recomended to use lowercase letters for variable name."
   ]
  },
  {
   "cell_type": "markdown",
   "metadata": {},
   "source": [
    "#### These are valid variable names\n",
    "\n",
    "```python\n",
    "firstname\n",
    "lastname\n",
    "age\n",
    "country\n",
    "city\n",
    "first_name\n",
    "last_name\n",
    "capital_city\n",
    "_if          # if we want to use reserved word as a variable\n",
    "year_2021\n",
    "year2021\n",
    "current_year_2021\n",
    "birth_year\n",
    "num1\n",
    "num2\n",
    "```\n",
    "\n",
    "Invalid variables names:\n",
    "\n",
    "```python\n",
    "first-name\n",
    "first@name\n",
    "first$name\n",
    "num-1\n",
    "1num\n",
    "```\n",
    "\n",
    "In this training, I will use standard Python variable naming style which has been adopted by many Python developers. Python developers use snake case(snake_case) variable naming convention. We use underscore character after each word for a variable containing more than one word (eg. **`first_name`**, **`last_name`**, **`engine_rotation_speed`**).  Below is an example of standard naming of variables, underscore is required when the variable name is more than one word.\n",
    "\n",
    "When we assign a certain data type to a variable, it is called variable declaration. For instance in the example below my first name is assigned to a variable **`first_name`**. The equal sign is an assignment operator. Assigning means storing data in the variable. The equal sign in Python is not equality as in Mathematics."
   ]
  },
  {
   "cell_type": "markdown",
   "metadata": {},
   "source": [
    "### Assigning values to Variables in Python\n",
    "\n",
    "Think of a variable as a name attached to a particular object. In Python, variables need not be declared or defined in advance, as is the case in many other programming languages. \n",
    "\n",
    "As you can see from the above example, you can use the assignment operator **`=`** to assign a value to a variable."
   ]
  },
  {
   "cell_type": "markdown",
   "metadata": {},
   "source": [
    "#### Example 1: Declaring and assigning value to a variable"
   ]
  },
  {
   "cell_type": "code",
   "execution_count": 5,
   "metadata": {
    "ExecuteTime": {
     "end_time": "2021-10-02T06:36:19.999226Z",
     "start_time": "2021-10-02T06:36:19.972865Z"
    }
   },
   "outputs": [
    {
     "data": {
      "text/plain": [
       "12.7"
      ]
     },
     "execution_count": 5,
     "metadata": {},
     "output_type": "execute_result"
    }
   ],
   "source": [
    "number = 100\n",
    "number = 12.7\n",
    "number"
   ]
  },
  {
   "cell_type": "code",
   "execution_count": 6,
   "metadata": {
    "ExecuteTime": {
     "end_time": "2021-10-02T06:36:20.099323Z",
     "start_time": "2021-10-02T06:36:20.003137Z"
    }
   },
   "outputs": [
    {
     "name": "stdout",
     "output_type": "stream",
     "text": [
      "http://www.olalekansamuel.com\n"
     ]
    }
   ],
   "source": [
    "website = \"http://www.olalekansamuel.com\"\n",
    "print(website)"
   ]
  },
  {
   "cell_type": "code",
   "execution_count": 9,
   "metadata": {
    "ExecuteTime": {
     "end_time": "2021-10-02T06:36:20.214178Z",
     "start_time": "2021-10-02T06:36:20.099323Z"
    }
   },
   "outputs": [],
   "source": [
    "first_name = \"Olalekan_Samuel\"\n",
    "last_name = \"Ogunleye\"\n",
    "country = \"South Africa\"\n",
    "city = \"Johannesburg\"\n",
    "age = 43\n",
    "is_married = True\n",
    "skills = [\"C++\", \"C#\", 'Java', 'Python', 'Javascript', 'C']\n",
    "personal_info = {\n",
    "    'first_name': \"Olalekan_Samuel\",\n",
    "    'last_name': \"Ogunleye\",\n",
    "    'country': \"South Africa\",\n",
    "    'city': \"Johannesburg\"\n",
    "}"
   ]
  },
  {
   "cell_type": "code",
   "execution_count": 10,
   "metadata": {
    "ExecuteTime": {
     "end_time": "2021-10-02T06:36:20.358600Z",
     "start_time": "2021-10-02T06:36:20.217491Z"
    }
   },
   "outputs": [
    {
     "name": "stdout",
     "output_type": "stream",
     "text": [
      "First name: Olalekan_Samuel\n",
      "First name Length: 15\n",
      "Last name: Ogunleye\n",
      "Last name Length: 8\n",
      "Country: South Africa\n",
      "City: Johannesburg\n",
      "Age: 43\n",
      "Married: True\n",
      "Skills: ['C++', 'C#', 'Java', 'Python', 'Javascript', 'C']\n",
      "Personal Information: {'first_name': 'Olalekan_Samuel', 'last_name': 'Ogunleye', 'country': 'South Africa', 'city': 'Johannesburg'}\n"
     ]
    }
   ],
   "source": [
    "print('First name:', first_name)\n",
    "print('First name Length:', len(first_name))\n",
    "print('Last name:', last_name)\n",
    "print('Last name Length:', len(last_name))\n",
    "print('Country:', country)\n",
    "print('City:', city)\n",
    "print('Age:', age)\n",
    "print('Married:', is_married)\n",
    "print('Skills:', skills)\n",
    "print('Personal Information:', personal_info)"
   ]
  },
  {
   "cell_type": "code",
   "execution_count": null,
   "metadata": {
    "ExecuteTime": {
     "end_time": "2021-10-02T06:36:20.481648Z",
     "start_time": "2021-10-02T06:36:20.364463Z"
    },
    "scrolled": true
   },
   "outputs": [],
   "source": []
  },
  {
   "cell_type": "markdown",
   "metadata": {},
   "source": [
    "#### Example 2: Declaring multiple variables in one line** using comma  **`,`**  and semicolon **`;`**"
   ]
  },
  {
   "cell_type": "code",
   "execution_count": 16,
   "metadata": {
    "ExecuteTime": {
     "end_time": "2021-10-02T06:36:20.608794Z",
     "start_time": "2021-10-02T06:36:20.484580Z"
    },
    "scrolled": true
   },
   "outputs": [],
   "source": [
    "num, number, numbers, name = 8, 12, 15, \"Oluwabunmi\""
   ]
  },
  {
   "cell_type": "code",
   "execution_count": 17,
   "metadata": {
    "ExecuteTime": {
     "end_time": "2021-10-02T06:36:20.701379Z",
     "start_time": "2021-10-02T06:36:20.608794Z"
    }
   },
   "outputs": [
    {
     "name": "stdout",
     "output_type": "stream",
     "text": [
      "8\n",
      "12\n",
      "15\n",
      "Oluwabunmi\n"
     ]
    }
   ],
   "source": [
    "print(num)\n",
    "print(number)\n",
    "print(numbers)\n",
    "print(name)"
   ]
  },
  {
   "cell_type": "code",
   "execution_count": 19,
   "metadata": {
    "ExecuteTime": {
     "end_time": "2021-10-02T06:36:20.823509Z",
     "start_time": "2021-10-02T06:36:20.702346Z"
    },
    "scrolled": true
   },
   "outputs": [],
   "source": [
    "num=8; number=12; numbers=15; name = \"Oluwabunmi\""
   ]
  },
  {
   "cell_type": "code",
   "execution_count": 20,
   "metadata": {
    "scrolled": true
   },
   "outputs": [
    {
     "name": "stdout",
     "output_type": "stream",
     "text": [
      "8\n",
      "12\n",
      "15\n",
      "Oluwabunmi\n"
     ]
    }
   ],
   "source": [
    "print(num)\n",
    "print(number)\n",
    "print(numbers)\n",
    "print(name)"
   ]
  },
  {
   "cell_type": "code",
   "execution_count": 21,
   "metadata": {
    "scrolled": true
   },
   "outputs": [
    {
     "name": "stdout",
     "output_type": "stream",
     "text": [
      "8 12 15 Oluwabunmi\n"
     ]
    }
   ],
   "source": [
    "print(num, number, numbers, name)"
   ]
  },
  {
   "cell_type": "code",
   "execution_count": 22,
   "metadata": {},
   "outputs": [
    {
     "data": {
      "text/plain": [
       "(8, 12, 15, 'Oluwabunmi')"
      ]
     },
     "execution_count": 22,
     "metadata": {},
     "output_type": "execute_result"
    }
   ],
   "source": [
    "num, number, numbers, name"
   ]
  },
  {
   "cell_type": "markdown",
   "metadata": {},
   "source": [
    "If we want to assign the same value to **multiple**/**chained** variables at once, we can do this as:"
   ]
  },
  {
   "cell_type": "code",
   "execution_count": 23,
   "metadata": {
    "ExecuteTime": {
     "end_time": "2021-10-02T06:36:20.946004Z",
     "start_time": "2021-10-02T06:36:20.825916Z"
    }
   },
   "outputs": [],
   "source": [
    "x=y=q = \"Same value\""
   ]
  },
  {
   "cell_type": "code",
   "execution_count": 24,
   "metadata": {
    "ExecuteTime": {
     "end_time": "2021-10-02T06:36:21.046591Z",
     "start_time": "2021-10-02T06:36:20.946494Z"
    }
   },
   "outputs": [
    {
     "name": "stdout",
     "output_type": "stream",
     "text": [
      "Same value\n",
      "Same value\n",
      "Same value\n"
     ]
    }
   ],
   "source": [
    "print(x)\n",
    "print(y)\n",
    "print(q)"
   ]
  },
  {
   "cell_type": "markdown",
   "metadata": {},
   "source": [
    "#### Example 3: Changing the value of a variable"
   ]
  },
  {
   "cell_type": "code",
   "execution_count": 25,
   "metadata": {
    "ExecuteTime": {
     "end_time": "2021-10-02T06:36:21.168662Z",
     "start_time": "2021-10-02T06:36:21.047080Z"
    }
   },
   "outputs": [
    {
     "name": "stdout",
     "output_type": "stream",
     "text": [
      "olalekansamuel.com\n",
      "github.com\n"
     ]
    }
   ],
   "source": [
    "website = \"olalekansamuel.com\"\n",
    "print(website)\n",
    "\n",
    "#Assigning new value to the website varaible\n",
    "website = \"github.com\"\n",
    "print(website)"
   ]
  },
  {
   "cell_type": "code",
   "execution_count": 26,
   "metadata": {
    "ExecuteTime": {
     "end_time": "2021-10-02T06:36:21.289757Z",
     "start_time": "2021-10-02T06:36:21.175502Z"
    },
    "scrolled": false
   },
   "outputs": [
    {
     "name": "stdout",
     "output_type": "stream",
     "text": [
      "1000\n"
     ]
    }
   ],
   "source": [
    "number = 1000\n",
    "print(number)"
   ]
  },
  {
   "cell_type": "code",
   "execution_count": 27,
   "metadata": {
    "ExecuteTime": {
     "end_time": "2021-10-02T06:36:21.464561Z",
     "start_time": "2021-10-02T06:36:21.297568Z"
    }
   },
   "outputs": [
    {
     "name": "stdout",
     "output_type": "stream",
     "text": [
      "1000\n",
      "1500\n"
     ]
    }
   ],
   "source": [
    "m = number\n",
    "print(number)\n",
    "\n",
    "m = 1500\n",
    "print(m)"
   ]
  },
  {
   "cell_type": "code",
   "execution_count": 28,
   "metadata": {
    "ExecuteTime": {
     "end_time": "2021-10-02T06:36:21.542044Z",
     "start_time": "2021-10-02T06:36:21.464561Z"
    }
   },
   "outputs": [
    {
     "name": "stdout",
     "output_type": "stream",
     "text": [
      "1200\n"
     ]
    }
   ],
   "source": [
    "#Declare and redeclare variables\n",
    "\n",
    "m = \"This is the week 1 of Mastering data science and machine learning in 12 weeks\"\n",
    "\n",
    "m = 1200\n",
    "print(m)"
   ]
  },
  {
   "cell_type": "markdown",
   "metadata": {},
   "source": [
    "# 2. Constants\n",
    "\n",
    "A constant is a type of variable whose value cannot be changed. It is helpful to think of constants as containers that hold information which cannot be changed later.\n",
    "\n",
    "You can think of constants as a bag to store some books which cannot be replaced once placed inside the bag."
   ]
  },
  {
   "cell_type": "markdown",
   "metadata": {},
   "source": [
    "### Assigning value to constant in Python\n",
    "\n",
    "In Python, constants are usually declared and assigned in a module. Here, the module is a new file containing variables, functions, etc which is imported to the main file. Inside the module, constants are written in all capital letters and underscores separating the words."
   ]
  },
  {
   "cell_type": "markdown",
   "metadata": {},
   "source": [
    "#### Example 1: Declaring and assigning value to a constant\n",
    "\n",
    "Create a **const.py**:\n",
    "\n",
    "```python\n",
    ">>>PI = 3.14\n",
    ">>>GRAVITY = 9.8\n",
    "```\n",
    "\n",
    "Create a **mainFile.py**:\n",
    "\n",
    "```python\n",
    ">>>import const\n",
    ">>>print(const.PI)\n",
    ">>>print(const.GRAVITY)\n",
    "\n",
    "3.14\n",
    "9.8\n",
    "```\n",
    "\n",
    "In the above program, we create a **const.py** module file. Then, we assign the constant value to **`PI`** and **`GRAVITY`**. After that, we create a **mainFile.py** file and import the **`constant`** module. Finally, we print the constant value.\n",
    "\n",
    "> **Note**: In reality, we don't use constants in Python. Naming them in all capital letters is a convention to separate them from variables, however, it does not actually prevent reassignment."
   ]
  },
  {
   "cell_type": "markdown",
   "metadata": {},
   "source": [
    "## Rules and Naming Convention for Variables and constants\n",
    "\n",
    "The examples you have seen so far have used **short**, terse variable names like m and n. But variable names can be more **verbose**. In fact, it is usually beneficial if they are because it makes the purpose of the variable more evident at first glance. \n",
    "\n",
    "1. Constant and variable names should have a combination of letters in lowercase (a to z) or uppercase (**A to Z**) or digits (**0 to 9**) or an underscore **`_`**. For example:\n",
    "\n",
    "```python\n",
    "snake_case\n",
    "MACRO_CASE\n",
    "camelCase\n",
    "CapWords\n",
    "```\n",
    "\n",
    "2. Create a name that makes sense. For example, **`vowel`** makes more sense than **`v`**.\n",
    "\n",
    "3. If you want to create a variable name having two words, use underscore to separate them. For example:\n",
    "\n",
    "```python\n",
    "my_name\n",
    "current_salary\n",
    "```\n",
    "\n",
    "4. Use capital letters possible to declare a constant. For example:\n",
    "\n",
    "```python\n",
    "PI\n",
    "G\n",
    "MASS\n",
    "SPEED_OF_LIGHT\n",
    "TEMP\n",
    "```\n",
    "\n",
    "5. Never use special symbols like **!**, **@**, **#**, **$** <b> % </b>, etc.\n",
    "\n",
    "6. Don't start a variable name with a digit.\n",
    "\n",
    ">**Note**: One of the additions to Python 3 was full Unicode support, which allows for **Unicode** characters in a variable name as well. You will learn about Unicode in greater depth in a future tutorial."
   ]
  },
  {
   "cell_type": "markdown",
   "metadata": {},
   "source": [
    "For example, all of the following are valid variable names:"
   ]
  },
  {
   "cell_type": "code",
   "execution_count": 29,
   "metadata": {
    "ExecuteTime": {
     "end_time": "2021-10-02T06:36:21.667195Z",
     "start_time": "2021-10-02T06:36:21.542044Z"
    }
   },
   "outputs": [
    {
     "name": "stdout",
     "output_type": "stream",
     "text": [
      "Oluwabunmi 42 True\n"
     ]
    }
   ],
   "source": [
    "name = \"Oluwabunmi\"\n",
    "age = 42\n",
    "is_married = True\n",
    "print(name, age, is_married)"
   ]
  },
  {
   "cell_type": "code",
   "execution_count": 30,
   "metadata": {
    "ExecuteTime": {
     "end_time": "2021-10-02T06:36:21.779446Z",
     "start_time": "2021-10-02T06:36:21.667684Z"
    },
    "scrolled": true
   },
   "outputs": [
    {
     "ename": "SyntaxError",
     "evalue": "invalid decimal literal (Temp/ipykernel_22872/1154420258.py, line 1)",
     "output_type": "error",
     "traceback": [
      "\u001b[1;36m  File \u001b[1;32m\"C:\\Users\\olale\\AppData\\Local\\Temp/ipykernel_22872/1154420258.py\"\u001b[1;36m, line \u001b[1;32m1\u001b[0m\n\u001b[1;33m    100_filed = False\u001b[0m\n\u001b[1;37m       ^\u001b[0m\n\u001b[1;31mSyntaxError\u001b[0m\u001b[1;31m:\u001b[0m invalid decimal literal\n"
     ]
    }
   ],
   "source": [
    "100_filed = False"
   ]
  },
  {
   "cell_type": "markdown",
   "metadata": {},
   "source": [
    "Note that case is **significant**. Lowercase and uppercase letters are not the same. Use of the underscore character is significant as well. Each of the following defines a different variable:\n",
    "\n",
    "```python\n",
    ">>>age = 1\n",
    ">>>Age = 2\n",
    ">>>aGe = 3\n",
    ">>>AGE = 4\n",
    ">>>a_g_e = 5\n",
    ">>>_age = 6\n",
    ">>>age_ = 7\n",
    ">>>AGe = 8\n",
    ">>>print(age, Age, aGe, AGE, a_g_e, age, age, AGe)\n",
    "\n",
    "1 2 3 4 5 6 7 8 \n",
    "```\n",
    "There is nothing stopping you from creating two different variables in the same program called age and Age, or for that matter agE. But it is probably **ill-advised**. It would certainly be likely to confuse anyone trying to read your code, and even you yourself, after you’d been away from it awhile."
   ]
  },
  {
   "cell_type": "code",
   "execution_count": null,
   "metadata": {
    "ExecuteTime": {
     "end_time": "2021-10-02T06:37:08.476696Z",
     "start_time": "2021-10-02T06:37:08.454238Z"
    }
   },
   "outputs": [],
   "source": []
  },
  {
   "cell_type": "markdown",
   "metadata": {},
   "source": [
    "## 💻 Exercises ➞ <span class='label label-default'>Variables</span>\n",
    "\n",
    "### Exercises ➞ <span class='label label-default'>Level 1</span>\n",
    "\n",
    "1. Write a python comment saying **`Python variables and Constants`**\n",
    "2. Declare a **`first_name`** variable and assign a value to it\n",
    "3. Declare a **`last_name`** variable and assign a value to it\n",
    "4. Declare a **`full_name`** variable and assign a value to it\n",
    "5. Declare a variable **`is_light_on`** and assign a value to it\n",
    "6. Declare multiple variable on one line"
   ]
  },
  {
   "cell_type": "code",
   "execution_count": null,
   "metadata": {},
   "outputs": [],
   "source": []
  }
 ],
 "metadata": {
  "hide_input": false,
  "kernelspec": {
   "display_name": "Python 3 (ipykernel)",
   "language": "python",
   "name": "python3"
  },
  "language_info": {
   "codemirror_mode": {
    "name": "ipython",
    "version": 3
   },
   "file_extension": ".py",
   "mimetype": "text/x-python",
   "name": "python",
   "nbconvert_exporter": "python",
   "pygments_lexer": "ipython3",
   "version": "3.9.13"
  },
  "toc": {
   "base_numbering": 1,
   "nav_menu": {},
   "number_sections": true,
   "sideBar": true,
   "skip_h1_title": false,
   "title_cell": "Table of Contents",
   "title_sidebar": "Contents",
   "toc_cell": false,
   "toc_position": {},
   "toc_section_display": true,
   "toc_window_display": false
  },
  "varInspector": {
   "cols": {
    "lenName": 16,
    "lenType": 16,
    "lenVar": 40
   },
   "kernels_config": {
    "python": {
     "delete_cmd_postfix": "",
     "delete_cmd_prefix": "del ",
     "library": "var_list.py",
     "varRefreshCmd": "print(var_dic_list())"
    },
    "r": {
     "delete_cmd_postfix": ") ",
     "delete_cmd_prefix": "rm(",
     "library": "var_list.r",
     "varRefreshCmd": "cat(var_dic_list()) "
    }
   },
   "types_to_exclude": [
    "module",
    "function",
    "builtin_function_or_method",
    "instance",
    "_Feature"
   ],
   "window_display": false
  }
 },
 "nbformat": 4,
 "nbformat_minor": 2
}
