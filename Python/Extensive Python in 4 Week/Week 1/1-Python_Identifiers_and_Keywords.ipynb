{
 "cells": [
  {
   "cell_type": "markdown",
   "metadata": {},
   "source": [
    "# Python Identifiers and Keywords "
   ]
  },
  {
   "cell_type": "markdown",
   "metadata": {},
   "source": [
    "##### 1. Python Identifiers\n",
    "\n",
    "An **identifier** is a name given to entities like **class, functions, variables, etc**. It helps to differentiate one entity from another.\n",
    "\n",
    "### Rules for writing identifiers\n",
    "\n",
    "1. **Identifiers** can be a combination of letters in lowercase **(a to z)** or uppercase **(A to Z)** or digits **(0 to 9)** or an underscore **`_`**. Names like **`myClass`**, **`var_1`** and **`print_this_to_screen`**, all are valid example. \n",
    "\n",
    "2. An identifier cannot start with a digit. **`1variable`** is invalid, but **`variable1`** is perfectly fine. \n",
    "\n",
    "3. Keywords cannot be used as identifiers\n",
    "\n",
    "```python\n",
    ">>>global = 3\n",
    "\n",
    "File \"<ipython-input-2-43186c7d3555>\", line 1\n",
    "    global = 3 # because \"global\" is a keyword\n",
    "           ^\n",
    "SyntaxError: invalid syntax\n",
    "```"
   ]
  },
  {
   "cell_type": "code",
   "execution_count": 1,
   "metadata": {},
   "outputs": [
    {
     "ename": "SyntaxError",
     "evalue": "invalid syntax (Temp/ipykernel_11028/3666748704.py, line 1)",
     "output_type": "error",
     "traceback": [
      "\u001b[1;36m  File \u001b[1;32m\"C:\\Users\\olale\\AppData\\Local\\Temp/ipykernel_11028/3666748704.py\"\u001b[1;36m, line \u001b[1;32m1\u001b[0m\n\u001b[1;33m    global = 7\u001b[0m\n\u001b[1;37m           ^\u001b[0m\n\u001b[1;31mSyntaxError\u001b[0m\u001b[1;31m:\u001b[0m invalid syntax\n"
     ]
    }
   ],
   "source": [
    "global = 7"
   ]
  },
  {
   "cell_type": "markdown",
   "metadata": {},
   "source": [
    "4. We cannot use special symbols like **!**, **@**, **#**,<b> $, % </b>, etc. in our identifier.\n",
    "\n",
    "```python\n",
    ">>>m@ = 3\n",
    "\n",
    "File \"<ipython-input-3-4d4a0e714c73>\", line 1\n",
    "    m@ = 3\n",
    "       ^\n",
    "SyntaxError: invalid syntax\n",
    "```"
   ]
  },
  {
   "cell_type": "code",
   "execution_count": 2,
   "metadata": {},
   "outputs": [
    {
     "ename": "SyntaxError",
     "evalue": "invalid syntax (Temp/ipykernel_11028/4218160573.py, line 1)",
     "output_type": "error",
     "traceback": [
      "\u001b[1;36m  File \u001b[1;32m\"C:\\Users\\olale\\AppData\\Local\\Temp/ipykernel_11028/4218160573.py\"\u001b[1;36m, line \u001b[1;32m1\u001b[0m\n\u001b[1;33m    olalekan@ = 10\u001b[0m\n\u001b[1;37m              ^\u001b[0m\n\u001b[1;31mSyntaxError\u001b[0m\u001b[1;31m:\u001b[0m invalid syntax\n"
     ]
    }
   ],
   "source": [
    "olalekan@ = 10"
   ]
  },
  {
   "cell_type": "markdown",
   "metadata": {},
   "source": [
    "## Things to Note\n",
    "\n",
    "Python is a case-sensitive language. This means, **`Variable`** and **`variable`** are not the same.\n",
    "\n",
    "Always give the identifiers a name that makes sense. While **`c = 10`** is a valid name, writing **`count = 10`** would make more sense, and it would be easier to figure out what it represents when you look at your code after a long gap.\n",
    "\n",
    "Multiple words can be separated using an underscore, like **`this_is_a_long_variable`**."
   ]
  },
  {
   "cell_type": "code",
   "execution_count": 3,
   "metadata": {},
   "outputs": [
    {
     "data": {
      "text/plain": [
       "10"
      ]
     },
     "execution_count": 3,
     "metadata": {},
     "output_type": "execute_result"
    }
   ],
   "source": [
    "this_is_a_long_variable = 6+4\n",
    "this_is_a_long_variable"
   ]
  },
  {
   "cell_type": "markdown",
   "metadata": {},
   "source": [
    "# List of Keywords in Python\n",
    "\n",
    "We cannot use a keyword as a **[variable]** name, **[function]** name or any other identifier. They are used to define the syntax and structure of the Python language.\n",
    "\n",
    "In Python, keywords are **case sensitive**.\n",
    "\n",
    "There are **36** keywords in Python 3.9 and above. This number can vary slightly over the course of time.\n",
    "\n",
    "All the keywords except **`True`**, **`False`** and **`None`** are in lowercase and they must be written as they are. The **[list of all the 36 keywords]** is given below."
   ]
  },
  {
   "cell_type": "markdown",
   "metadata": {},
   "source": [
    "**Keywords in Python**\n",
    "\n",
    "|    |    |    |   |    |\n",
    "|:----|:----|:----|:----|:----|\n",
    "| **`False`** | **`break`** | **`for`** | **`not`** |\n",
    "| **`None`**  | **`class`** | **`from`** | **`or`** |\n",
    "| **`True`**  | **`continue`** | **`global`** | **`pass`** |\n",
    "| **`__peg_parser__`** |**`def`** | **`if`** | **`raise`** |\n",
    "| **`and`** | **`del`** | **`import`** | **`return`** |\n",
    "| **`as`** | **`elif`** | **`in`** | **`try`** |\n",
    "| **`assert`** | **`else`** | **`is`** | **`while`** |\n",
    "| **`async`** | **`except`** | **`lambda`** | **`with`** |\n",
    "| **`await`** | **`finally`** | **`nonlocal`** |  **`yield`**  |"
   ]
  },
  {
   "cell_type": "markdown",
   "metadata": {},
   "source": [
    "The above keywords may get altered in different versions of Python. Some extra might get added or some might be removed. You can always get the list of keywords in your current version by typing the following in the prompt."
   ]
  },
  {
   "cell_type": "code",
   "execution_count": 4,
   "metadata": {
    "ExecuteTime": {
     "end_time": "2021-06-19T09:43:24.470010Z",
     "start_time": "2021-06-19T09:43:24.458782Z"
    }
   },
   "outputs": [
    {
     "name": "stdout",
     "output_type": "stream",
     "text": [
      "['False', 'None', 'True', '__peg_parser__', 'and', 'as', 'assert', 'async', 'await', 'break', 'class', 'continue', 'def', 'del', 'elif', 'else', 'except', 'finally', 'for', 'from', 'global', 'if', 'import', 'in', 'is', 'lambda', 'nonlocal', 'not', 'or', 'pass', 'raise', 'return', 'try', 'while', 'with', 'yield']\n"
     ]
    }
   ],
   "source": [
    "#Lets write some codes to show the list of the keywords in Python\n",
    "\n",
    "import keyword\n",
    "print(keyword.kwlist)"
   ]
  },
  {
   "cell_type": "markdown",
   "metadata": {},
   "source": [
    "## Description of Keywords in Python with examples"
   ]
  },
  {
   "cell_type": "markdown",
   "metadata": {},
   "source": [
    "### `True`, `False`\n",
    "\n",
    "**`True`** and **`False`** are truth values in Python. They are the results of comparison operations or logical (Boolean) operations in Python. For example:\n",
    "\n",
    "```python\n",
    ">>> 1 == 1\n",
    "True\n",
    ">>> 5 > 3\n",
    "True\n",
    ">>> True or False\n",
    "True\n",
    ">>> 10 <= 1\n",
    "False\n",
    ">>> 3 > 7\n",
    "False\n",
    ">>> True and False\n",
    "False\n",
    "```"
   ]
  },
  {
   "cell_type": "code",
   "execution_count": 6,
   "metadata": {
    "scrolled": true
   },
   "outputs": [
    {
     "data": {
      "text/plain": [
       "True"
      ]
     },
     "execution_count": 6,
     "metadata": {},
     "output_type": "execute_result"
    }
   ],
   "source": [
    "1==1"
   ]
  },
  {
   "cell_type": "code",
   "execution_count": 7,
   "metadata": {},
   "outputs": [
    {
     "data": {
      "text/plain": [
       "True"
      ]
     },
     "execution_count": 7,
     "metadata": {},
     "output_type": "execute_result"
    }
   ],
   "source": [
    "True or False"
   ]
  },
  {
   "cell_type": "code",
   "execution_count": 8,
   "metadata": {},
   "outputs": [
    {
     "data": {
      "text/plain": [
       "False"
      ]
     },
     "execution_count": 8,
     "metadata": {},
     "output_type": "execute_result"
    }
   ],
   "source": [
    "True and False"
   ]
  },
  {
   "cell_type": "markdown",
   "metadata": {},
   "source": [
    "Here we can see that the first three statements are true so the interpreter returns **`True`** and returns **`False`** for the remaining three statements. **`True`** and **`False`** in python is same as **`1`** and **`0`**. This can be justified with the following example:\n",
    "\n",
    "```python\n",
    ">>> True == 1\n",
    "True\n",
    ">>> False == 0\n",
    "True\n",
    ">>> True + True\n",
    "2\n",
    "```"
   ]
  },
  {
   "cell_type": "markdown",
   "metadata": {},
   "source": [
    "### `None`\n",
    "\n",
    "**`None`** is a special constant in Python that represents the absence of a value or a null value.\n",
    "\n",
    "It is an object of its own datatype, the **`NoneType`**. We cannot create multiple **`None`** objects but can assign it to variables. These variables will be equal to one another.\n",
    "\n",
    "We must take special care that **`None`** does not imply **`False`**, **`0`** or any empty list, dictionary, string etc. For example:"
   ]
  },
  {
   "cell_type": "markdown",
   "metadata": {},
   "source": [
    "Void functions that do not return anything will return a **`None`** object automatically. **`None`** is also returned by functions in which the program flow does not encounter a return statement. For example:"
   ]
  },
  {
   "cell_type": "code",
   "execution_count": 10,
   "metadata": {
    "ExecuteTime": {
     "end_time": "2021-06-19T09:43:27.810796Z",
     "start_time": "2021-06-19T09:43:27.803964Z"
    }
   },
   "outputs": [
    {
     "name": "stdout",
     "output_type": "stream",
     "text": [
      "False\n",
      "False\n",
      "False\n",
      "True\n"
     ]
    }
   ],
   "source": [
    "print(None == 0)\n",
    "\n",
    "print(None == [])\n",
    "\n",
    "print(None == False)\n",
    "\n",
    "x = None\n",
    "\n",
    "y = None\n",
    "\n",
    "print(x == y)"
   ]
  },
  {
   "cell_type": "code",
   "execution_count": 11,
   "metadata": {},
   "outputs": [
    {
     "name": "stdout",
     "output_type": "stream",
     "text": [
      "None\n"
     ]
    }
   ],
   "source": [
    "def void_function():\n",
    "    a = 1\n",
    "    b = 2\n",
    "    c = a + b\n",
    "\n",
    "x = void_function()\n",
    "print(x)"
   ]
  },
  {
   "cell_type": "code",
   "execution_count": 12,
   "metadata": {
    "ExecuteTime": {
     "end_time": "2021-06-19T09:43:28.518797Z",
     "start_time": "2021-06-19T09:43:28.507083Z"
    }
   },
   "outputs": [
    {
     "name": "stdout",
     "output_type": "stream",
     "text": [
      "None\n"
     ]
    }
   ],
   "source": [
    "def function_return_improperly(a):\n",
    "    if (a%2) == 0:\n",
    "        return True\n",
    "\n",
    "x = function_return_improperly(3)\n",
    "print(x)"
   ]
  },
  {
   "cell_type": "markdown",
   "metadata": {},
   "source": [
    "### `__peg_parser__`\n",
    "\n",
    "The **`__peg_parser__`** keyword is a new keyword in Python 3.9. The **`__new_parser__`** was renamed to **`__peg_parser__`** recently."
   ]
  },
  {
   "cell_type": "markdown",
   "metadata": {},
   "source": [
    "### `and`, `or` , `not`\n",
    "\n",
    "**`and`**, **`or`** , **`not`** are the logical operators in Python. **`and`** will result into **`True`** only if both the operands are **`True`**. The truth table for **`and`** is given below:"
   ]
  },
  {
   "cell_type": "markdown",
   "metadata": {},
   "source": [
    "**Truth table for `and`**\n",
    "\n",
    "| A | B | A `and` B | \n",
    "|:----| :--- |:--- |\n",
    "| **`True`**  | **`True`**  | **`True`**  | \n",
    "| **`True`**  | **`False`** | **`False`** |\n",
    "| **`False`** | **`True`**  | **`False`** |\n",
    "| **`False`** | **`False`** | **`False`** |"
   ]
  },
  {
   "cell_type": "markdown",
   "metadata": {},
   "source": [
    "**`or`** will result into **`True`** if any of the operands is **`True`**. The truth table for **`or`** is given below:"
   ]
  },
  {
   "cell_type": "markdown",
   "metadata": {},
   "source": [
    "**Truth table for `or`**\n",
    "\n",
    "| A | B | A `or` B | \n",
    "|:----| :--- |:--- |\n",
    "| **`True`**  | **`True`**  | **`True`**  | \n",
    "| **`True`**  | **`False`** | **`True`** |\n",
    "| **`False`** | **`True`**  | **`True`** |\n",
    "| **`False`** | **`False`** | **`False`** |"
   ]
  },
  {
   "cell_type": "markdown",
   "metadata": {},
   "source": [
    "**`not`** operator is used to invert the truth value. The truth table for **`not`** is given below:"
   ]
  },
  {
   "cell_type": "markdown",
   "metadata": {},
   "source": [
    "**Truth table for `not`**\n",
    "\n",
    "| A | `not` A |\n",
    "|:----| :--- |\n",
    "| **`True`**  | **`False`** |\n",
    "| **`False`** | **`True`**  | "
   ]
  },
  {
   "cell_type": "code",
   "execution_count": 13,
   "metadata": {},
   "outputs": [
    {
     "name": "stdout",
     "output_type": "stream",
     "text": [
      "False\n",
      "True\n",
      "True\n"
     ]
    }
   ],
   "source": [
    "#some example of their usage are given below:\n",
    "    \n",
    "print(True and False)\n",
    "print(True or False)\n",
    "print(not False)"
   ]
  },
  {
   "cell_type": "markdown",
   "metadata": {},
   "source": [
    "### `as`\n",
    "\n",
    "**`as`** is used to create an alias while importing a module. It means giving a different name (user-defined) to a module while importing it.\n",
    "\n",
    "As for example, Python has a standard module called **`math`**. Suppose we want to calculate what **cosine pi** is using an alias. We can do it as follows using **`as`**:"
   ]
  },
  {
   "cell_type": "code",
   "execution_count": 14,
   "metadata": {
    "ExecuteTime": {
     "end_time": "2021-06-19T09:43:33.324901Z",
     "start_time": "2021-06-19T09:43:33.306351Z"
    }
   },
   "outputs": [
    {
     "data": {
      "text/plain": [
       "-1.0"
      ]
     },
     "execution_count": 14,
     "metadata": {},
     "output_type": "execute_result"
    }
   ],
   "source": [
    "import math as mym\n",
    "\n",
    "mym.cos(mym.pi)"
   ]
  },
  {
   "cell_type": "markdown",
   "metadata": {},
   "source": [
    "### `assert`\n",
    "\n",
    "**`assert`** is used for debugging purposes.\n",
    "\n",
    "While programming, sometimes we wish to know the internal state or check if our assumptions are true. **`assert`** helps us do this and find bugs more conveniently. **`assert`** is followed by a condition.\n",
    "\n",
    "If the condition is true, nothing happens. But if the condition is false, **`AssertionError`** is raised. For example:"
   ]
  },
  {
   "cell_type": "code",
   "execution_count": 15,
   "metadata": {
    "ExecuteTime": {
     "end_time": "2021-06-19T09:43:35.802903Z",
     "start_time": "2021-06-19T09:43:35.780446Z"
    },
    "scrolled": true
   },
   "outputs": [
    {
     "ename": "AssertionError",
     "evalue": "",
     "output_type": "error",
     "traceback": [
      "\u001b[1;31m---------------------------------------------------------------------------\u001b[0m",
      "\u001b[1;31mAssertionError\u001b[0m                            Traceback (most recent call last)",
      "\u001b[1;32m~\\AppData\\Local\\Temp/ipykernel_11028/3678236030.py\u001b[0m in \u001b[0;36m<module>\u001b[1;34m\u001b[0m\n\u001b[0;32m      1\u001b[0m \u001b[0ma\u001b[0m \u001b[1;33m=\u001b[0m \u001b[1;36m4\u001b[0m\u001b[1;33m\u001b[0m\u001b[1;33m\u001b[0m\u001b[0m\n\u001b[0;32m      2\u001b[0m \u001b[1;32massert\u001b[0m \u001b[0ma\u001b[0m \u001b[1;33m<\u001b[0m \u001b[1;36m5\u001b[0m\u001b[1;33m\u001b[0m\u001b[1;33m\u001b[0m\u001b[0m\n\u001b[1;32m----> 3\u001b[1;33m \u001b[1;32massert\u001b[0m \u001b[0ma\u001b[0m \u001b[1;33m>\u001b[0m \u001b[1;36m5\u001b[0m\u001b[1;33m\u001b[0m\u001b[1;33m\u001b[0m\u001b[0m\n\u001b[0m",
      "\u001b[1;31mAssertionError\u001b[0m: "
     ]
    }
   ],
   "source": [
    "a = 4\n",
    "assert a < 5\n",
    "assert a > 5"
   ]
  },
  {
   "cell_type": "code",
   "execution_count": 17,
   "metadata": {},
   "outputs": [
    {
     "ename": "AssertionError",
     "evalue": "The Value of a is too smaller than 5",
     "output_type": "error",
     "traceback": [
      "\u001b[1;31m---------------------------------------------------------------------------\u001b[0m",
      "\u001b[1;31mAssertionError\u001b[0m                            Traceback (most recent call last)",
      "\u001b[1;32m~\\AppData\\Local\\Temp/ipykernel_11028/3701585827.py\u001b[0m in \u001b[0;36m<module>\u001b[1;34m\u001b[0m\n\u001b[0;32m      1\u001b[0m \u001b[0ma\u001b[0m \u001b[1;33m=\u001b[0m \u001b[1;36m4\u001b[0m\u001b[1;33m\u001b[0m\u001b[1;33m\u001b[0m\u001b[0m\n\u001b[1;32m----> 2\u001b[1;33m \u001b[1;32massert\u001b[0m \u001b[0ma\u001b[0m \u001b[1;33m>\u001b[0m \u001b[1;36m5\u001b[0m\u001b[1;33m,\u001b[0m \u001b[1;34m\"The Value of a is too smaller than 5\"\u001b[0m\u001b[1;33m\u001b[0m\u001b[1;33m\u001b[0m\u001b[0m\n\u001b[0m",
      "\u001b[1;31mAssertionError\u001b[0m: The Value of a is too smaller than 5"
     ]
    }
   ],
   "source": [
    "a = 4\n",
    "assert a > 5, \"The Value of a is too smaller than 5\""
   ]
  },
  {
   "cell_type": "markdown",
   "metadata": {},
   "source": [
    "At this point we can note that,\n",
    "\n",
    "```python\n",
    "assert condition, message\n",
    "```\n",
    "is equivalent to,\n",
    "\n",
    "```python\n",
    "if not condition:\n",
    "    raise AssertionError(message)\n",
    "```"
   ]
  },
  {
   "cell_type": "markdown",
   "metadata": {},
   "source": [
    "### `async`, `await`\n",
    "\n",
    "The **`async`** and **`await`** keywords are provided by the **`asyncio`** library in Python. They are used to write concurrent code in Python. For example,\n",
    "\n",
    "```python\n",
    "import asyncio\n",
    "\n",
    "async def main():\n",
    "    print('Hello')\n",
    "    await asyncio.sleep(1)\n",
    "    print('world')\n",
    "```\n",
    "\n",
    "To run the program, we use\n",
    "\n",
    "```python\n",
    "await main()\n",
    "```"
   ]
  },
  {
   "cell_type": "code",
   "execution_count": 6,
   "metadata": {},
   "outputs": [
    {
     "name": "stdout",
     "output_type": "stream",
     "text": [
      "Hello. Welcome to the Master Data Science and Machine Learning in 12 Weeks\n",
      "From Zero to hero\n",
      "This is the week 1 of the training\n"
     ]
    }
   ],
   "source": [
    "import asyncio\n",
    "\n",
    "async def main():\n",
    "    print(\"Hello. Welcome to the Master Data Science and Machine Learning in 12 Weeks\")\n",
    "    await asyncio.sleep(1)\n",
    "    print(\"From Zero to hero\")\n",
    "    await asyncio.sleep(2)\n",
    "    print(\"This is the week 1 of the training\")\n",
    "\n",
    "await main()"
   ]
  },
  {
   "cell_type": "markdown",
   "metadata": {},
   "source": [
    "### `break`, `continue`\n",
    "\n",
    "**`break`** and **`continue`** are used inside for and while loops to alter their normal behavior.\n",
    "\n",
    "**`break`** will end the smallest loop it is in and control flows to the statement immediately below the loop. **`continue`** causes to end the current iteration of the loop, but not the whole loop.\n",
    "\n",
    "This can be illustrated with the following two examples:"
   ]
  },
  {
   "cell_type": "code",
   "execution_count": 7,
   "metadata": {},
   "outputs": [
    {
     "name": "stdout",
     "output_type": "stream",
     "text": [
      "1\n",
      "2\n",
      "3\n",
      "4\n"
     ]
    }
   ],
   "source": [
    "for i in range(1,11):\n",
    "    if i == 5:\n",
    "        break\n",
    "    print(i)"
   ]
  },
  {
   "cell_type": "code",
   "execution_count": 8,
   "metadata": {},
   "outputs": [
    {
     "name": "stdout",
     "output_type": "stream",
     "text": [
      "1\n",
      "2\n",
      "3\n",
      "4\n",
      "6\n",
      "7\n",
      "8\n",
      "9\n",
      "10\n"
     ]
    }
   ],
   "source": [
    "for i in range(1,11):\n",
    "    if i == 5:\n",
    "        continue\n",
    "    print(i)"
   ]
  },
  {
   "cell_type": "markdown",
   "metadata": {},
   "source": [
    "### `class`\n",
    "\n",
    "**`class`** is used to define a new user-defined class in Python.\n",
    "\n",
    "Class is a collection of related attributes and methods that try to represent a real-world situation. This idea of putting data and functions together in a class is central to the concept of object-oriented programming (OOP).\n",
    "\n",
    "Classes can be defined anywhere in a program. But it is a good practice to define a single class in a module. Following is a sample usage:\n",
    "\n",
    "```python\n",
    "class ExampleClass:\n",
    "    def function1(parameters):\n",
    "        …\n",
    "    def function2(parameters):\n",
    "        …\n",
    "```"
   ]
  },
  {
   "cell_type": "markdown",
   "metadata": {},
   "source": [
    "### `def`\n",
    "\n",
    "**`def`** is used to define a user-defined function.\n",
    "\n",
    "Function is a block of related statements, which together does some specific task. It helps us organize code into manageable chunks and also to do some repetitive task.\n",
    "\n",
    "The usage of **`def`** is shown below:\n",
    "\n",
    "```python\n",
    "def function_name(parameters):\n",
    "    …\n",
    "```"
   ]
  },
  {
   "cell_type": "markdown",
   "metadata": {},
   "source": [
    "### `del`\n",
    "\n",
    "**`del`** is used to delete the reference to an object. Everything is object in Python. We can delete a variable reference using **`del`**"
   ]
  },
  {
   "cell_type": "code",
   "execution_count": 12,
   "metadata": {
    "scrolled": true
   },
   "outputs": [
    {
     "ename": "NameError",
     "evalue": "name 'a' is not defined",
     "output_type": "error",
     "traceback": [
      "\u001b[1;31m---------------------------------------------------------------------------\u001b[0m",
      "\u001b[1;31mNameError\u001b[0m                                 Traceback (most recent call last)",
      "\u001b[1;32m~\\AppData\\Local\\Temp/ipykernel_18056/4053378348.py\u001b[0m in \u001b[0;36m<module>\u001b[1;34m\u001b[0m\n\u001b[0;32m      2\u001b[0m \u001b[1;32mdel\u001b[0m \u001b[0ma\u001b[0m\u001b[1;33m\u001b[0m\u001b[1;33m\u001b[0m\u001b[0m\n\u001b[0;32m      3\u001b[0m \u001b[0mb\u001b[0m\u001b[1;33m\u001b[0m\u001b[1;33m\u001b[0m\u001b[0m\n\u001b[1;32m----> 4\u001b[1;33m \u001b[0ma\u001b[0m\u001b[1;33m\u001b[0m\u001b[1;33m\u001b[0m\u001b[0m\n\u001b[0m",
      "\u001b[1;31mNameError\u001b[0m: name 'a' is not defined"
     ]
    }
   ],
   "source": [
    "a = b = 5\n",
    "del a\n",
    "\n",
    "b\n",
    "a"
   ]
  },
  {
   "cell_type": "code",
   "execution_count": 13,
   "metadata": {},
   "outputs": [
    {
     "data": {
      "text/plain": [
       "5"
      ]
     },
     "execution_count": 13,
     "metadata": {},
     "output_type": "execute_result"
    }
   ],
   "source": [
    "b"
   ]
  },
  {
   "cell_type": "code",
   "execution_count": 14,
   "metadata": {},
   "outputs": [
    {
     "data": {
      "text/plain": [
       "[1, 4, 8, 19]"
      ]
     },
     "execution_count": 14,
     "metadata": {},
     "output_type": "execute_result"
    }
   ],
   "source": [
    "x = [1, 4, 7, 8, 19]\n",
    "del x[2]\n",
    "x"
   ]
  },
  {
   "cell_type": "markdown",
   "metadata": {},
   "source": [
    "### `if`, `else`, `elif`\n",
    "\n",
    "**`if`**, **`else`**, **`elif`** are used for conditional branching or decision making.\n",
    "\n",
    "When we want to test some condition and execute a block only if the condition is true, then we use **`if`** and **`elif`**. **`elif`** is short for else if. **`else`** is the block which is executed if the condition is false. This will be clear with the following example:"
   ]
  },
  {
   "cell_type": "code",
   "execution_count": 16,
   "metadata": {},
   "outputs": [
    {
     "name": "stdout",
     "output_type": "stream",
     "text": [
      "A is Two\n",
      "A is Something Else\n",
      "A is One\n"
     ]
    }
   ],
   "source": [
    "def if_example(a):\n",
    "    if a ==1:\n",
    "        print(\"A is One\")\n",
    "    elif a == 2:\n",
    "        print(\"A is Two\")\n",
    "    else:\n",
    "        print(\"A is Something Else\")\n",
    "\n",
    "if_example(2)\n",
    "if_example(5)\n",
    "if_example(1)"
   ]
  },
  {
   "cell_type": "markdown",
   "metadata": {},
   "source": [
    "### `except`, `raise`, `try`\n",
    "\n",
    "**`except`**, **`raise`**, **`try`** are used with exceptions in Python.\n",
    "\n",
    "Exceptions are basically errors that suggests something went wrong while executing our program. **`IOError`**, **`ValueError`**, **`ZeroDivisionError`**, **`ImportError`**, **`NameError`**, **`TypeError`** etc. are few examples of exception in Python. **`try...except`** blocks are used to catch exceptions in Python.\n",
    "\n",
    "We can raise an exception explicitly with the **`raise`** keyword. Following is an example:"
   ]
  },
  {
   "cell_type": "code",
   "execution_count": 17,
   "metadata": {},
   "outputs": [
    {
     "name": "stdout",
     "output_type": "stream",
     "text": [
      "0.1\n",
      "Exception has been caught\n",
      "None\n"
     ]
    }
   ],
   "source": [
    "def reciprocal(num):\n",
    "    try:\n",
    "        r = 1/num\n",
    "    except:\n",
    "        print('Exception has been caught')\n",
    "        return\n",
    "    return r\n",
    "\n",
    "print(reciprocal(10))\n",
    "print(reciprocal(0))"
   ]
  },
  {
   "cell_type": "markdown",
   "metadata": {},
   "source": [
    "### `finally`\n",
    "\n",
    "**`finally`** is used with **`try…except`** block to close up resources or file streams.\n",
    "\n",
    "Using **`finally`** ensures that the block of code inside it gets executed even if there is an unhandled exception. For example:\n",
    "\n",
    "```python\n",
    "try:\n",
    "    Try-block\n",
    "except exception1:\n",
    "    Exception1-block\n",
    "except exception2:\n",
    "    Exception2-block\n",
    "else:\n",
    "    Else-block\n",
    "finally:\n",
    "    Finally-block\n",
    "```\n",
    "\n",
    "Here if there is an exception in the **`Try-block`**, it is handled in the **`except`** or **`else`** block. But no matter in what order the execution flows, we can rest assured that the **`Finally-block`** is executed even if there is an error. This is useful in cleaning up the resources."
   ]
  },
  {
   "cell_type": "markdown",
   "metadata": {},
   "source": [
    "### `for`\n",
    "\n",
    "**`for`** is used for looping. Generally we use **`for`** when we know the number of times we want to loop.\n",
    "\n",
    "In Python we can use it with any type of sequences like a list or a string. Here is an example in which **`for`** is used to traverse through a list of names:"
   ]
  },
  {
   "cell_type": "code",
   "execution_count": 18,
   "metadata": {},
   "outputs": [
    {
     "name": "stdout",
     "output_type": "stream",
     "text": [
      "Hello Olalekan\n",
      "Hello Omolola\n",
      "Hello Oluwabunmi\n",
      "Hello Olusola\n",
      "Hello Olusoji\n"
     ]
    }
   ],
   "source": [
    "names = [\"Olalekan\", \"Omolola\", \"Oluwabunmi\", \"Olusola\", \"Olusoji\"]\n",
    "for name in names:\n",
    "    print('Hello', name)"
   ]
  },
  {
   "cell_type": "markdown",
   "metadata": {},
   "source": [
    "### `from`, `import`\n",
    "\n",
    "**`import`** keyword is used to import modules into the current namespace. **`from…import`** is used to import specific attributes or functions into the current namespace. For example:\n",
    "\n",
    "```python\n",
    "import math\n",
    "```\n",
    "\n",
    "will import the **`math`** module. Now we can use the **`cos()`** function inside it as **`math.cos()`**. But if we wanted to import just the **`cos()`** function, this can done using **`from`** as\n",
    "\n",
    "```python\n",
    "from math import cos\n",
    "```\n",
    "now we can use the function simply as **`cos()`**, no need to write **`math.cos()`**."
   ]
  },
  {
   "cell_type": "markdown",
   "metadata": {},
   "source": [
    "### `global`\n",
    "\n",
    "**`global`** is used to declare that a variable inside the function is global (outside the function).\n",
    "\n",
    "If we need to read the value of a global variable, it is not necessary to define it as **`global`**. This is understood.\n",
    "\n",
    "If we need to modify the value of a global variable inside a function, then we must declare it with **`global`**. Otherwise, a local variable with that name is created.\n",
    "\n",
    "Following example will help us clarify this."
   ]
  },
  {
   "cell_type": "markdown",
   "metadata": {},
   "source": [
    "### `in`\n",
    "\n",
    "**`in`** is used to test if a sequence (list, tuple, string etc.) contains a value. It returns **`True`** if the value is present, else it returns **`False`**. For example:\n",
    "\n",
    "```python\n",
    ">>> a = [1, 2, 3, 4, 5]\n",
    ">>> 5 in a\n",
    "True\n",
    ">>> 10 in a\n",
    "False\n",
    "```\n",
    "\n",
    "The secondary use of in is to traverse through a sequence in a for loop."
   ]
  },
  {
   "cell_type": "markdown",
   "metadata": {},
   "source": [
    "### `is`\n",
    "\n",
    "**`is`** is used in Python for testing object identity. While the **`==`** operator is used to test if two variables are equal or not, **`is`** is used to test if the two variables refer to the same object.\n",
    "\n",
    "It returns **`True`** if the objects are identical and **`False`** if not.\n",
    "\n",
    "```python\n",
    ">>> True is True\n",
    "True\n",
    ">>> False is False\n",
    "True\n",
    ">>> None is None\n",
    "True\n",
    "```\n",
    "\n",
    "We know that there is only one instance of **`True`**, **`False`** and **`None`** in Python, so they are identical.\n",
    "\n",
    "```python\n",
    ">>> [] == []\n",
    "True\n",
    ">>> [] is []\n",
    "False\n",
    ">>> {} == {}\n",
    "True\n",
    ">>> {} is {}\n",
    "False\n",
    "```\n",
    "\n",
    "An empty list or dictionary is equal to another empty one. But they are not identical objects as they are located separately in memory. This is because list and dictionary are mutable (value can be changed).\n",
    "\n",
    "```python\n",
    ">>> '' == ''\n",
    "True\n",
    ">>> '' is ''\n",
    "True\n",
    ">>> () == ()\n",
    "True\n",
    ">>> () is ()\n",
    "True\n",
    "```\n",
    "\n",
    "Unlike list and dictionary, string and tuple are immutable (value cannot be altered once defined). Hence, two equal string or tuple are identical as well. They refer to the same memory location."
   ]
  },
  {
   "cell_type": "markdown",
   "metadata": {},
   "source": [
    "### `lambda`\n",
    "\n",
    "**`lambda`** is used to create an anonymous function (function with no name). It is an inline function that does not contain a **`return`** statement. It consists of an expression that is evaluated and returned. For example:"
   ]
  },
  {
   "cell_type": "markdown",
   "metadata": {},
   "source": [
    "### `nonlocal`\n",
    "\n",
    "The use of **`nonlocal`** keyword is very much similar to the **`global`** keyword. **`nonlocal`** is used to declare that a variable inside a nested function (function inside a function) is not local to it, meaning it lies in the outer inclosing function. If we need to modify the value of a non-local variable inside a nested function, then we must declare it with **`nonlocal`**. Otherwise a local variable with that name is created inside the nested function. Following example will help us clarify this."
   ]
  },
  {
   "cell_type": "markdown",
   "metadata": {},
   "source": [
    "### `pass`\n",
    "\n",
    "**`pass`** is a null statement in Python. Nothing happens when it is executed. It is used as a placeholder.\n",
    "\n",
    "Suppose we have a function that is not implemented yet, but we want to implement it in the future. Simply writing,\n",
    "\n",
    "```python\n",
    "def function(args):\n",
    "```\n",
    "\n",
    "in the middle of a program will give us **`IndentationError`**. Instead of this, we construct a blank body with the **`pass`** statement.\n",
    "\n",
    "```python\n",
    "def function(args):\n",
    "    pass\n",
    "```\n",
    "\n",
    "We can do the same thing in an empty **`class`** as well.\n",
    "\n",
    "```python\n",
    "class example:\n",
    "    pass\n",
    "```"
   ]
  },
  {
   "cell_type": "markdown",
   "metadata": {},
   "source": [
    "### `return`\n",
    "\n",
    "**`return`** statement is used inside a function to exit it and return a value.\n",
    "\n",
    "If we do not return a value explicitly, **`None`** is returned automatically. This is verified with the following example."
   ]
  },
  {
   "cell_type": "markdown",
   "metadata": {},
   "source": [
    "### `while`\n",
    "\n",
    "**`while`** is used for looping in Python.\n",
    "\n",
    "The statements inside a **`while`** loop continue to execute until the condition for the **`while`** loop evaluates to **`False`** or a **`break`** statement is encountered. Following program illustrates this."
   ]
  },
  {
   "cell_type": "markdown",
   "metadata": {},
   "source": [
    "### `with`\n",
    "\n",
    "**`with`** statement is used to wrap the execution of a block of code within methods defined by the context manager.\n",
    "\n",
    "Context manager is a class that implements**`__enter__`**and **`__exit__`** methods. Use of with statement ensures that the **`__exit__`** method is called at the end of the nested block. This concept is similar to the use of **`try…finally`** block. Here, is an example.\n",
    "\n",
    "```python\n",
    "with open('example.txt', 'w') as my_file:\n",
    "    my_file.write('Hello world!')\n",
    "```\n",
    "\n",
    "This example writes the text **`Hello world!`** to the  **`example.txt`**. File objects have **`__enter__`** and **`__exit__`** method defined within them, so they act as their own context manager.\n",
    "\n",
    "First the **`__enter__`** method is called, then the code within **`with`** statement is executed and finally the **`__exit__`** method is called. **`__exit__`** method is called even if there is an error. It basically closes the file stream."
   ]
  },
  {
   "cell_type": "markdown",
   "metadata": {},
   "source": [
    "### `yield`\n",
    "\n",
    "**`yield`** is used inside a function like a **`return`** statement. But **`yield`** returns a generator.\n",
    "\n",
    "Generator is an iterator that generates one item at a time. A large list of values will take up a lot of memory. Generators are useful in this situation as it generates only one value at a time instead of storing all the values in memory. For example,\n",
    "\n",
    "```python\n",
    ">>> g = (2**x for x in range(100))\n",
    "```\n",
    "\n",
    "will create a generator **`g`** which generates powers of 2 up to the number two raised to the power 99. We can generate the numbers using the **`next()`** function as shown below.\n",
    "\n",
    "```python\n",
    ">>> next(g)\n",
    "1\n",
    ">>> next(g)\n",
    "2\n",
    ">>> next(g)\n",
    "4\n",
    ">>> next(g)\n",
    "8\n",
    ">>> next(g)\n",
    "16\n",
    "```\n",
    "\n",
    "And so on… This type of generator is returned by the **`yield`** statement from a function. Here is an example."
   ]
  }
 ],
 "metadata": {
  "hide_input": false,
  "kernelspec": {
   "display_name": "Python 3 (ipykernel)",
   "language": "python",
   "name": "python3"
  },
  "language_info": {
   "codemirror_mode": {
    "name": "ipython",
    "version": 3
   },
   "file_extension": ".py",
   "mimetype": "text/x-python",
   "name": "python",
   "nbconvert_exporter": "python",
   "pygments_lexer": "ipython3",
   "version": "3.9.13"
  },
  "toc": {
   "base_numbering": 1,
   "nav_menu": {},
   "number_sections": true,
   "sideBar": true,
   "skip_h1_title": false,
   "title_cell": "Table of Contents",
   "title_sidebar": "Contents",
   "toc_cell": false,
   "toc_position": {},
   "toc_section_display": true,
   "toc_window_display": false
  },
  "varInspector": {
   "cols": {
    "lenName": 16,
    "lenType": 16,
    "lenVar": 40
   },
   "kernels_config": {
    "python": {
     "delete_cmd_postfix": "",
     "delete_cmd_prefix": "del ",
     "library": "var_list.py",
     "varRefreshCmd": "print(var_dic_list())"
    },
    "r": {
     "delete_cmd_postfix": ") ",
     "delete_cmd_prefix": "rm(",
     "library": "var_list.r",
     "varRefreshCmd": "cat(var_dic_list()) "
    }
   },
   "types_to_exclude": [
    "module",
    "function",
    "builtin_function_or_method",
    "instance",
    "_Feature"
   ],
   "window_display": false
  }
 },
 "nbformat": 4,
 "nbformat_minor": 2
}
