{
 "cells": [
  {
   "cell_type": "markdown",
   "id": "ec1e1339",
   "metadata": {},
   "source": [
    "In this sections, we will cover exceptions in Python, including why they occur, how to identify them, and how to resolve them. we will define exceptions in Python, we will identify why they are important and how they differ from syntax errors, and we will learn how to resolve exceptions in Python.\n",
    "\n",
    "#### What Are Exceptions in Python?\n",
    "\n",
    "When an unexpected condition is encountered while running a Python code, the program stops its execution and throws an error. There are basically two types of errors in Python: syntax errors and exceptions. To understand the difference between these two types, let’s run the following piece of code:"
   ]
  },
  {
   "cell_type": "code",
   "execution_count": 3,
   "id": "5d3c2a9e",
   "metadata": {},
   "outputs": [
    {
     "ename": "SyntaxError",
     "evalue": "invalid syntax (44232492.py, line 2)",
     "output_type": "error",
     "traceback": [
      "\u001b[1;36m  File \u001b[1;32m\"C:\\Users\\olale\\AppData\\Local\\Temp\\ipykernel_35816\\44232492.py\"\u001b[1;36m, line \u001b[1;32m2\u001b[0m\n\u001b[1;33m    print(1)\u001b[0m\n\u001b[1;37m    ^\u001b[0m\n\u001b[1;31mSyntaxError\u001b[0m\u001b[1;31m:\u001b[0m invalid syntax\n"
     ]
    }
   ],
   "source": [
    "print(a\n",
    "print(1)"
   ]
  },
  {
   "cell_type": "markdown",
   "id": "fd3cca92",
   "metadata": {},
   "source": [
    "A syntax error was thrown since we forgot to close the parenthesis in line 1 of the code. This type of error is always raised when we use a statement that is syntactically incorrect in Python. The parser shows the place where the syntax error occured and was detected by a little arrow ^. Notice also that the subsequent line print(1) was not executed since the Python interpreter stopped working when the error occurred.\n",
    "\n",
    "Let’s fix this error and re-run the code:"
   ]
  },
  {
   "cell_type": "code",
   "execution_count": 4,
   "id": "6f1e5af0",
   "metadata": {},
   "outputs": [
    {
     "ename": "NameError",
     "evalue": "name 'a' is not defined",
     "output_type": "error",
     "traceback": [
      "\u001b[1;31m---------------------------------------------------------------------------\u001b[0m",
      "\u001b[1;31mNameError\u001b[0m                                 Traceback (most recent call last)",
      "\u001b[1;32m~\\AppData\\Local\\Temp\\ipykernel_35816\\126573347.py\u001b[0m in \u001b[0;36m<module>\u001b[1;34m\u001b[0m\n\u001b[1;32m----> 1\u001b[1;33m \u001b[0mprint\u001b[0m\u001b[1;33m(\u001b[0m\u001b[0ma\u001b[0m\u001b[1;33m)\u001b[0m\u001b[1;33m\u001b[0m\u001b[1;33m\u001b[0m\u001b[0m\n\u001b[0m\u001b[0;32m      2\u001b[0m \u001b[0mprint\u001b[0m\u001b[1;33m(\u001b[0m\u001b[1;36m1\u001b[0m\u001b[1;33m)\u001b[0m\u001b[1;33m\u001b[0m\u001b[1;33m\u001b[0m\u001b[0m\n",
      "\u001b[1;31mNameError\u001b[0m: name 'a' is not defined"
     ]
    }
   ],
   "source": [
    "print(a)\n",
    "print(1)"
   ]
  },
  {
   "cell_type": "markdown",
   "id": "d6d1404a",
   "metadata": {},
   "source": [
    "If you look at this, you will notice that when we have fixed the wrong syntax, we got another type of error: an exception. In other words, an exception is a type of error that occurs when a syntactically correct Python code raises an error. An arrow indicates the line where the exception occurred, while the last line of the error message specifies the exact type of the exception and provides its description to facilitate debugging. In our case, it is a NameError since we tried to print the value of a variable **`a`** that was not defined before.\n",
    "\n",
    "Also in this case, the second line of our piece of code print(1) was not executed because the normal flow of the Python program was interrupted.\n",
    "\n",
    "To prevent a sudden program crash, it is important to catch and handle exceptions. For example, provide an alternative version of the code execution when the exception occurs. This is what we are going to learn next.\n",
    "\n",
    "\n",
    "**Some Standard and Common Built-in Exceptions**\n",
    "\n",
    "| Function | Description | Example |\n",
    "|:----| :--- | :---\n",
    "| **`NameError`** | Raised when a name doesn’t exist among either local or global variables: | \n",
    "| **`TypeError`** | Raised when an operation is run on an inapplicable data type: | \n",
    "| **`ValueError `** | Raised when an operation or function takes in an invalid value of an argument: | \n",
    "| **`IndexError `** | Raised when an index doesn’t exist in an iterable | \n",
    "| **`IndentationError `** | Raised when indentation is incorrect | \n",
    "| **`ZeroDivisionError `** | Raised at attempt to divide a number by zero | \n",
    "| **`ImportError `** | Raised when an import statement is incorrect | \n",
    "| **`AttributeError`** | Raised at attempt to assign or refer an attribute inapplicable for a given Python object | \n",
    "| **`KeyError`** | Raised when the key is absent in the dictionary | \n",
    "\n",
    "Visit this page to learn more on **[Built-in Exceptions](https://docs.python.org/3/library/exceptions.html)**."
   ]
  },
  {
   "cell_type": "markdown",
   "id": "c6496b00",
   "metadata": {},
   "source": [
    "##### NameError \n",
    "Raised when a name doesn’t exist among either local or global variables"
   ]
  },
  {
   "cell_type": "code",
   "execution_count": 5,
   "id": "ad9c9258",
   "metadata": {},
   "outputs": [
    {
     "ename": "NameError",
     "evalue": "name 'x' is not defined",
     "output_type": "error",
     "traceback": [
      "\u001b[1;31m---------------------------------------------------------------------------\u001b[0m",
      "\u001b[1;31mNameError\u001b[0m                                 Traceback (most recent call last)",
      "\u001b[1;32m~\\AppData\\Local\\Temp\\ipykernel_35816\\1353120783.py\u001b[0m in \u001b[0;36m<module>\u001b[1;34m\u001b[0m\n\u001b[1;32m----> 1\u001b[1;33m \u001b[0mprint\u001b[0m\u001b[1;33m(\u001b[0m\u001b[0mx\u001b[0m\u001b[1;33m)\u001b[0m\u001b[1;33m\u001b[0m\u001b[1;33m\u001b[0m\u001b[0m\n\u001b[0m",
      "\u001b[1;31mNameError\u001b[0m: name 'x' is not defined"
     ]
    }
   ],
   "source": [
    "print(x)"
   ]
  },
  {
   "cell_type": "markdown",
   "id": "7f1f2ed2",
   "metadata": {},
   "source": [
    "##### TypeError \n",
    "Raised when an operation is run on an inapplicable data type"
   ]
  },
  {
   "cell_type": "code",
   "execution_count": 6,
   "id": "2ad53957",
   "metadata": {},
   "outputs": [
    {
     "ename": "TypeError",
     "evalue": "unsupported operand type(s) for +: 'int' and 'str'",
     "output_type": "error",
     "traceback": [
      "\u001b[1;31m---------------------------------------------------------------------------\u001b[0m",
      "\u001b[1;31mTypeError\u001b[0m                                 Traceback (most recent call last)",
      "\u001b[1;32m~\\AppData\\Local\\Temp\\ipykernel_35816\\218464413.py\u001b[0m in \u001b[0;36m<module>\u001b[1;34m\u001b[0m\n\u001b[1;32m----> 1\u001b[1;33m \u001b[0mprint\u001b[0m\u001b[1;33m(\u001b[0m\u001b[1;36m1\u001b[0m\u001b[1;33m+\u001b[0m\u001b[1;34m'1'\u001b[0m\u001b[1;33m)\u001b[0m\u001b[1;33m\u001b[0m\u001b[1;33m\u001b[0m\u001b[0m\n\u001b[0m",
      "\u001b[1;31mTypeError\u001b[0m: unsupported operand type(s) for +: 'int' and 'str'"
     ]
    }
   ],
   "source": [
    "print(1+'1')"
   ]
  },
  {
   "cell_type": "markdown",
   "id": "f3580b41",
   "metadata": {},
   "source": [
    "##### ValueError\n",
    "Raised when an operation or function takes in an invalid value of an argument:"
   ]
  },
  {
   "cell_type": "code",
   "execution_count": 7,
   "id": "636ea0f7",
   "metadata": {},
   "outputs": [
    {
     "ename": "ValueError",
     "evalue": "invalid literal for int() with base 10: 'a'",
     "output_type": "error",
     "traceback": [
      "\u001b[1;31m---------------------------------------------------------------------------\u001b[0m",
      "\u001b[1;31mValueError\u001b[0m                                Traceback (most recent call last)",
      "\u001b[1;32m~\\AppData\\Local\\Temp\\ipykernel_35816\\3219923713.py\u001b[0m in \u001b[0;36m<module>\u001b[1;34m\u001b[0m\n\u001b[1;32m----> 1\u001b[1;33m \u001b[0mprint\u001b[0m\u001b[1;33m(\u001b[0m\u001b[0mint\u001b[0m\u001b[1;33m(\u001b[0m\u001b[1;34m'a'\u001b[0m\u001b[1;33m)\u001b[0m\u001b[1;33m)\u001b[0m\u001b[1;33m\u001b[0m\u001b[1;33m\u001b[0m\u001b[0m\n\u001b[0m",
      "\u001b[1;31mValueError\u001b[0m: invalid literal for int() with base 10: 'a'"
     ]
    }
   ],
   "source": [
    "print(int('a'))"
   ]
  },
  {
   "cell_type": "markdown",
   "id": "a3876393",
   "metadata": {},
   "source": [
    "##### IndexError\n",
    "Raised when an index doesn’t exist in an iterable:"
   ]
  },
  {
   "cell_type": "code",
   "execution_count": 8,
   "id": "6613c515",
   "metadata": {},
   "outputs": [
    {
     "ename": "IndexError",
     "evalue": "string index out of range",
     "output_type": "error",
     "traceback": [
      "\u001b[1;31m---------------------------------------------------------------------------\u001b[0m",
      "\u001b[1;31mIndexError\u001b[0m                                Traceback (most recent call last)",
      "\u001b[1;32m~\\AppData\\Local\\Temp\\ipykernel_35816\\2163152480.py\u001b[0m in \u001b[0;36m<module>\u001b[1;34m\u001b[0m\n\u001b[1;32m----> 1\u001b[1;33m \u001b[0mprint\u001b[0m\u001b[1;33m(\u001b[0m\u001b[1;34m'dog'\u001b[0m\u001b[1;33m[\u001b[0m\u001b[1;36m3\u001b[0m\u001b[1;33m]\u001b[0m\u001b[1;33m)\u001b[0m\u001b[1;33m\u001b[0m\u001b[1;33m\u001b[0m\u001b[0m\n\u001b[0m",
      "\u001b[1;31mIndexError\u001b[0m: string index out of range"
     ]
    }
   ],
   "source": [
    "print('dog'[3])"
   ]
  },
  {
   "cell_type": "markdown",
   "id": "be64bffb",
   "metadata": {},
   "source": [
    "##### IndentationError \n",
    "Raised when indentation is incorrect"
   ]
  },
  {
   "cell_type": "code",
   "execution_count": 9,
   "id": "4be6f08e",
   "metadata": {},
   "outputs": [
    {
     "ename": "IndentationError",
     "evalue": "expected an indented block (3296739069.py, line 2)",
     "output_type": "error",
     "traceback": [
      "\u001b[1;36m  File \u001b[1;32m\"C:\\Users\\olale\\AppData\\Local\\Temp\\ipykernel_35816\\3296739069.py\"\u001b[1;36m, line \u001b[1;32m2\u001b[0m\n\u001b[1;33m    print(i)\u001b[0m\n\u001b[1;37m    ^\u001b[0m\n\u001b[1;31mIndentationError\u001b[0m\u001b[1;31m:\u001b[0m expected an indented block\n"
     ]
    }
   ],
   "source": [
    "for i in range(3):\n",
    "print(i)"
   ]
  },
  {
   "cell_type": "markdown",
   "id": "9866c4f9",
   "metadata": {},
   "source": [
    "##### ZeroDivisionError\n",
    "Raised at attempt to divide a number by zero:"
   ]
  },
  {
   "cell_type": "code",
   "execution_count": 10,
   "id": "631751ee",
   "metadata": {},
   "outputs": [
    {
     "ename": "ZeroDivisionError",
     "evalue": "division by zero",
     "output_type": "error",
     "traceback": [
      "\u001b[1;31m---------------------------------------------------------------------------\u001b[0m",
      "\u001b[1;31mZeroDivisionError\u001b[0m                         Traceback (most recent call last)",
      "\u001b[1;32m~\\AppData\\Local\\Temp\\ipykernel_35816\\165659023.py\u001b[0m in \u001b[0;36m<module>\u001b[1;34m\u001b[0m\n\u001b[1;32m----> 1\u001b[1;33m \u001b[0mprint\u001b[0m\u001b[1;33m(\u001b[0m\u001b[1;36m1\u001b[0m\u001b[1;33m/\u001b[0m\u001b[1;36m0\u001b[0m\u001b[1;33m)\u001b[0m\u001b[1;33m\u001b[0m\u001b[1;33m\u001b[0m\u001b[0m\n\u001b[0m",
      "\u001b[1;31mZeroDivisionError\u001b[0m: division by zero"
     ]
    }
   ],
   "source": [
    "print(1/0)"
   ]
  },
  {
   "cell_type": "markdown",
   "id": "bee79b4f",
   "metadata": {},
   "source": [
    "##### ImportError\n",
    "Raised when an import statement is incorrect:"
   ]
  },
  {
   "cell_type": "code",
   "execution_count": 11,
   "id": "af158c46",
   "metadata": {},
   "outputs": [
    {
     "ename": "ImportError",
     "evalue": "cannot import name 'pandas' from 'numpy' (C:\\Users\\olale\\anaconda3\\lib\\site-packages\\numpy\\__init__.py)",
     "output_type": "error",
     "traceback": [
      "\u001b[1;31m---------------------------------------------------------------------------\u001b[0m",
      "\u001b[1;31mImportError\u001b[0m                               Traceback (most recent call last)",
      "\u001b[1;32m~\\AppData\\Local\\Temp\\ipykernel_35816\\3955928270.py\u001b[0m in \u001b[0;36m<module>\u001b[1;34m\u001b[0m\n\u001b[1;32m----> 1\u001b[1;33m \u001b[1;32mfrom\u001b[0m \u001b[0mnumpy\u001b[0m \u001b[1;32mimport\u001b[0m \u001b[0mpandas\u001b[0m\u001b[1;33m\u001b[0m\u001b[1;33m\u001b[0m\u001b[0m\n\u001b[0m",
      "\u001b[1;31mImportError\u001b[0m: cannot import name 'pandas' from 'numpy' (C:\\Users\\olale\\anaconda3\\lib\\site-packages\\numpy\\__init__.py)"
     ]
    }
   ],
   "source": [
    "from numpy import pandas"
   ]
  },
  {
   "cell_type": "markdown",
   "id": "a48d3ec9",
   "metadata": {},
   "source": [
    "##### AttributeError\n",
    "Raised at attempt to assign or refer an attribute inapplicable for a given Python object"
   ]
  },
  {
   "cell_type": "code",
   "execution_count": 13,
   "id": "334a9b07",
   "metadata": {},
   "outputs": [
    {
     "ename": "AttributeError",
     "evalue": "'str' object has no attribute 'sum'",
     "output_type": "error",
     "traceback": [
      "\u001b[1;31m---------------------------------------------------------------------------\u001b[0m",
      "\u001b[1;31mAttributeError\u001b[0m                            Traceback (most recent call last)",
      "\u001b[1;32m~\\AppData\\Local\\Temp\\ipykernel_35816\\2316121794.py\u001b[0m in \u001b[0;36m<module>\u001b[1;34m\u001b[0m\n\u001b[1;32m----> 1\u001b[1;33m \u001b[0mprint\u001b[0m\u001b[1;33m(\u001b[0m\u001b[1;34m'a'\u001b[0m\u001b[1;33m.\u001b[0m\u001b[0msum\u001b[0m\u001b[1;33m(\u001b[0m\u001b[1;33m)\u001b[0m\u001b[1;33m)\u001b[0m\u001b[1;33m\u001b[0m\u001b[1;33m\u001b[0m\u001b[0m\n\u001b[0m",
      "\u001b[1;31mAttributeError\u001b[0m: 'str' object has no attribute 'sum'"
     ]
    }
   ],
   "source": [
    "print('a'.sum())"
   ]
  },
  {
   "cell_type": "markdown",
   "id": "a521b5c6",
   "metadata": {},
   "source": [
    "##### KeyError\n",
    "Raised when the key is absent in the dictionary"
   ]
  },
  {
   "cell_type": "code",
   "execution_count": 14,
   "id": "d8ee70ac",
   "metadata": {},
   "outputs": [
    {
     "ename": "KeyError",
     "evalue": "'rabbit'",
     "output_type": "error",
     "traceback": [
      "\u001b[1;31m---------------------------------------------------------------------------\u001b[0m",
      "\u001b[1;31mKeyError\u001b[0m                                  Traceback (most recent call last)",
      "\u001b[1;32m~\\AppData\\Local\\Temp\\ipykernel_35816\\1340951462.py\u001b[0m in \u001b[0;36m<module>\u001b[1;34m\u001b[0m\n\u001b[0;32m      1\u001b[0m \u001b[0manimals\u001b[0m \u001b[1;33m=\u001b[0m \u001b[1;33m{\u001b[0m\u001b[1;34m'koala'\u001b[0m\u001b[1;33m:\u001b[0m \u001b[1;36m1\u001b[0m\u001b[1;33m,\u001b[0m \u001b[1;34m'panda'\u001b[0m\u001b[1;33m:\u001b[0m \u001b[1;36m2\u001b[0m\u001b[1;33m}\u001b[0m\u001b[1;33m\u001b[0m\u001b[1;33m\u001b[0m\u001b[0m\n\u001b[1;32m----> 2\u001b[1;33m \u001b[0mprint\u001b[0m\u001b[1;33m(\u001b[0m\u001b[0manimals\u001b[0m\u001b[1;33m[\u001b[0m\u001b[1;34m'rabbit'\u001b[0m\u001b[1;33m]\u001b[0m\u001b[1;33m)\u001b[0m\u001b[1;33m\u001b[0m\u001b[1;33m\u001b[0m\u001b[0m\n\u001b[0m",
      "\u001b[1;31mKeyError\u001b[0m: 'rabbit'"
     ]
    }
   ],
   "source": [
    "animals = {'koala': 1, 'panda': 2}\n",
    "print(animals['rabbit'])"
   ]
  },
  {
   "cell_type": "markdown",
   "id": "15b08c85",
   "metadata": {},
   "source": [
    "#### Exceptions Handling in Python\n",
    "\n",
    "Since raising an exception results in an interruption of the program execution, we have to handle this exception in advance to avoid such undesirable cases."
   ]
  },
  {
   "cell_type": "markdown",
   "id": "440132b6",
   "metadata": {},
   "source": [
    "#### The try and except Statements\n",
    "The most basic commands used for detecting and handling exceptions in Python are try and except.\n",
    "\n",
    "The try statement is used to run an error-prone piece of code and must always be followed by the except statement. If no exception is raised as a result of the try block execution, the except block is skipped and the program just runs as expected. In the opposite case, if an exception is thrown, the execution of the try block is immediately stopped, and the program handles the raised exception by running the alternative code determined in the except block. After that, the Python script continues working and executes the rest of the code.\n",
    "\n",
    "Let’s see how it works by the example of our initial small piece of code print(x), which raised earlier a NameError:"
   ]
  },
  {
   "cell_type": "code",
   "execution_count": 15,
   "id": "9d13549f",
   "metadata": {},
   "outputs": [
    {
     "name": "stdout",
     "output_type": "stream",
     "text": [
      "Please declare the variable x first\n",
      "1\n"
     ]
    }
   ],
   "source": [
    "try:\n",
    "    print(x)\n",
    "except:\n",
    "    print('Please declare the variable x first')\n",
    "\n",
    "print(1)"
   ]
  },
  {
   "cell_type": "markdown",
   "id": "92511619",
   "metadata": {},
   "source": [
    "Now that we handled the exception in the except block, we received a meaningful customized message of what exactly went wrong and how to fix it. What’s more, this time, the program didn’t stop working as soon as it encountered the exception and executed the rest of the code.\n",
    "\n",
    "In the above case, we anticipated and handled only one type of exception, more specifically, a NameError. The drawback of this approach is that the piece of code in the except clause will treat all types of exceptions in the same way, and output the same message Please declare the variable x first. To avoid this confusion, we can explicitly mention the type of exception that we need to catch and handle right after the except command:"
   ]
  },
  {
   "cell_type": "code",
   "execution_count": 16,
   "id": "408df29a",
   "metadata": {},
   "outputs": [
    {
     "name": "stdout",
     "output_type": "stream",
     "text": [
      "Please declare the variable x first\n"
     ]
    }
   ],
   "source": [
    "try:\n",
    "    print(x)\n",
    "except NameError:\n",
    "    print('Please declare the variable x first')"
   ]
  },
  {
   "cell_type": "markdown",
   "id": "08328b69",
   "metadata": {},
   "source": [
    "#### Handling Multiple Exceptions\n",
    "Clearly stating the exception type to be caught is needed not only for the sake of code readability. What’s more important, using this approach, we can anticipate various specific exceptions and handle them accordingly.\n",
    "\n",
    "To understand this concept, let’s take a look at a simple function that sums up the values of an input dictionary:"
   ]
  },
  {
   "cell_type": "code",
   "execution_count": 17,
   "id": "e053763c",
   "metadata": {},
   "outputs": [
    {
     "name": "stdout",
     "output_type": "stream",
     "text": [
      "6\n"
     ]
    }
   ],
   "source": [
    "def print_dict_sum(dct):\n",
    "    print(sum(dct.values()))\n",
    "\n",
    "my_dict = {'a': 1, 'b': 2, 'c': 3}\n",
    "print_dict_sum(my_dict)"
   ]
  },
  {
   "cell_type": "markdown",
   "id": "549385b5",
   "metadata": {},
   "source": [
    "Trying to run this function, we can have different issues if we accidentally pass to it a wrong input. For example, we can make an error in the dictionary name resulting in an inexistent variable:"
   ]
  },
  {
   "cell_type": "code",
   "execution_count": 18,
   "id": "86f1cfe9",
   "metadata": {},
   "outputs": [
    {
     "ename": "NameError",
     "evalue": "name 'mydict' is not defined",
     "output_type": "error",
     "traceback": [
      "\u001b[1;31m---------------------------------------------------------------------------\u001b[0m",
      "\u001b[1;31mNameError\u001b[0m                                 Traceback (most recent call last)",
      "\u001b[1;32m~\\AppData\\Local\\Temp\\ipykernel_35816\\1262113374.py\u001b[0m in \u001b[0;36m<module>\u001b[1;34m\u001b[0m\n\u001b[1;32m----> 1\u001b[1;33m \u001b[0mprint_dict_sum\u001b[0m\u001b[1;33m(\u001b[0m\u001b[0mmydict\u001b[0m\u001b[1;33m)\u001b[0m\u001b[1;33m\u001b[0m\u001b[1;33m\u001b[0m\u001b[0m\n\u001b[0m",
      "\u001b[1;31mNameError\u001b[0m: name 'mydict' is not defined"
     ]
    }
   ],
   "source": [
    "print_dict_sum(mydict)\n"
   ]
  },
  {
   "cell_type": "markdown",
   "id": "a27f6926",
   "metadata": {},
   "source": [
    "Also, some of the values of the input dictionary can be a string rather than numeric"
   ]
  },
  {
   "cell_type": "code",
   "execution_count": 20,
   "id": "9be06390",
   "metadata": {},
   "outputs": [
    {
     "ename": "TypeError",
     "evalue": "unsupported operand type(s) for +: 'int' and 'str'",
     "output_type": "error",
     "traceback": [
      "\u001b[1;31m---------------------------------------------------------------------------\u001b[0m",
      "\u001b[1;31mTypeError\u001b[0m                                 Traceback (most recent call last)",
      "\u001b[1;32m~\\AppData\\Local\\Temp\\ipykernel_35816\\2621846538.py\u001b[0m in \u001b[0;36m<module>\u001b[1;34m\u001b[0m\n\u001b[0;32m      1\u001b[0m \u001b[0mmy_dict\u001b[0m \u001b[1;33m=\u001b[0m \u001b[1;33m{\u001b[0m\u001b[1;34m'a'\u001b[0m\u001b[1;33m:\u001b[0m \u001b[1;34m'1'\u001b[0m\u001b[1;33m,\u001b[0m \u001b[1;34m'b'\u001b[0m\u001b[1;33m:\u001b[0m \u001b[1;36m2\u001b[0m\u001b[1;33m,\u001b[0m \u001b[1;34m'c'\u001b[0m\u001b[1;33m:\u001b[0m \u001b[1;36m3\u001b[0m\u001b[1;33m}\u001b[0m\u001b[1;33m\u001b[0m\u001b[1;33m\u001b[0m\u001b[0m\n\u001b[1;32m----> 2\u001b[1;33m \u001b[0mprint_dict_sum\u001b[0m\u001b[1;33m(\u001b[0m\u001b[0mmy_dict\u001b[0m\u001b[1;33m)\u001b[0m\u001b[1;33m\u001b[0m\u001b[1;33m\u001b[0m\u001b[0m\n\u001b[0m",
      "\u001b[1;32m~\\AppData\\Local\\Temp\\ipykernel_35816\\3241128871.py\u001b[0m in \u001b[0;36mprint_dict_sum\u001b[1;34m(dct)\u001b[0m\n\u001b[0;32m      1\u001b[0m \u001b[1;32mdef\u001b[0m \u001b[0mprint_dict_sum\u001b[0m\u001b[1;33m(\u001b[0m\u001b[0mdct\u001b[0m\u001b[1;33m)\u001b[0m\u001b[1;33m:\u001b[0m\u001b[1;33m\u001b[0m\u001b[1;33m\u001b[0m\u001b[0m\n\u001b[1;32m----> 2\u001b[1;33m     \u001b[0mprint\u001b[0m\u001b[1;33m(\u001b[0m\u001b[0msum\u001b[0m\u001b[1;33m(\u001b[0m\u001b[0mdct\u001b[0m\u001b[1;33m.\u001b[0m\u001b[0mvalues\u001b[0m\u001b[1;33m(\u001b[0m\u001b[1;33m)\u001b[0m\u001b[1;33m)\u001b[0m\u001b[1;33m)\u001b[0m\u001b[1;33m\u001b[0m\u001b[1;33m\u001b[0m\u001b[0m\n\u001b[0m\u001b[0;32m      3\u001b[0m \u001b[1;33m\u001b[0m\u001b[0m\n\u001b[0;32m      4\u001b[0m \u001b[0mmy_dict\u001b[0m \u001b[1;33m=\u001b[0m \u001b[1;33m{\u001b[0m\u001b[1;34m'a'\u001b[0m\u001b[1;33m:\u001b[0m \u001b[1;36m1\u001b[0m\u001b[1;33m,\u001b[0m \u001b[1;34m'b'\u001b[0m\u001b[1;33m:\u001b[0m \u001b[1;36m2\u001b[0m\u001b[1;33m,\u001b[0m \u001b[1;34m'c'\u001b[0m\u001b[1;33m:\u001b[0m \u001b[1;36m3\u001b[0m\u001b[1;33m}\u001b[0m\u001b[1;33m\u001b[0m\u001b[1;33m\u001b[0m\u001b[0m\n\u001b[0;32m      5\u001b[0m \u001b[0mprint_dict_sum\u001b[0m\u001b[1;33m(\u001b[0m\u001b[0mmy_dict\u001b[0m\u001b[1;33m)\u001b[0m\u001b[1;33m\u001b[0m\u001b[1;33m\u001b[0m\u001b[0m\n",
      "\u001b[1;31mTypeError\u001b[0m: unsupported operand type(s) for +: 'int' and 'str'"
     ]
    }
   ],
   "source": [
    "my_dict = {'a': '1', 'b': 2, 'c': 3}\n",
    "print_dict_sum(my_dict)"
   ]
  },
  {
   "cell_type": "markdown",
   "id": "3acf720b",
   "metadata": {},
   "source": [
    "Another option allows us to pass in an argument of an inappropriate data type for this function:"
   ]
  },
  {
   "cell_type": "code",
   "execution_count": 21,
   "id": "ef094e65",
   "metadata": {},
   "outputs": [
    {
     "ename": "AttributeError",
     "evalue": "'str' object has no attribute 'values'",
     "output_type": "error",
     "traceback": [
      "\u001b[1;31m---------------------------------------------------------------------------\u001b[0m",
      "\u001b[1;31mAttributeError\u001b[0m                            Traceback (most recent call last)",
      "\u001b[1;32m~\\AppData\\Local\\Temp\\ipykernel_35816\\1925769844.py\u001b[0m in \u001b[0;36m<module>\u001b[1;34m\u001b[0m\n\u001b[0;32m      1\u001b[0m \u001b[0mmy_dict\u001b[0m \u001b[1;33m=\u001b[0m \u001b[1;34m'a'\u001b[0m\u001b[1;33m\u001b[0m\u001b[1;33m\u001b[0m\u001b[0m\n\u001b[1;32m----> 2\u001b[1;33m \u001b[0mprint_dict_sum\u001b[0m\u001b[1;33m(\u001b[0m\u001b[0mmy_dict\u001b[0m\u001b[1;33m)\u001b[0m\u001b[1;33m\u001b[0m\u001b[1;33m\u001b[0m\u001b[0m\n\u001b[0m",
      "\u001b[1;32m~\\AppData\\Local\\Temp\\ipykernel_35816\\3241128871.py\u001b[0m in \u001b[0;36mprint_dict_sum\u001b[1;34m(dct)\u001b[0m\n\u001b[0;32m      1\u001b[0m \u001b[1;32mdef\u001b[0m \u001b[0mprint_dict_sum\u001b[0m\u001b[1;33m(\u001b[0m\u001b[0mdct\u001b[0m\u001b[1;33m)\u001b[0m\u001b[1;33m:\u001b[0m\u001b[1;33m\u001b[0m\u001b[1;33m\u001b[0m\u001b[0m\n\u001b[1;32m----> 2\u001b[1;33m     \u001b[0mprint\u001b[0m\u001b[1;33m(\u001b[0m\u001b[0msum\u001b[0m\u001b[1;33m(\u001b[0m\u001b[0mdct\u001b[0m\u001b[1;33m.\u001b[0m\u001b[0mvalues\u001b[0m\u001b[1;33m(\u001b[0m\u001b[1;33m)\u001b[0m\u001b[1;33m)\u001b[0m\u001b[1;33m)\u001b[0m\u001b[1;33m\u001b[0m\u001b[1;33m\u001b[0m\u001b[0m\n\u001b[0m\u001b[0;32m      3\u001b[0m \u001b[1;33m\u001b[0m\u001b[0m\n\u001b[0;32m      4\u001b[0m \u001b[0mmy_dict\u001b[0m \u001b[1;33m=\u001b[0m \u001b[1;33m{\u001b[0m\u001b[1;34m'a'\u001b[0m\u001b[1;33m:\u001b[0m \u001b[1;36m1\u001b[0m\u001b[1;33m,\u001b[0m \u001b[1;34m'b'\u001b[0m\u001b[1;33m:\u001b[0m \u001b[1;36m2\u001b[0m\u001b[1;33m,\u001b[0m \u001b[1;34m'c'\u001b[0m\u001b[1;33m:\u001b[0m \u001b[1;36m3\u001b[0m\u001b[1;33m}\u001b[0m\u001b[1;33m\u001b[0m\u001b[1;33m\u001b[0m\u001b[0m\n\u001b[0;32m      5\u001b[0m \u001b[0mprint_dict_sum\u001b[0m\u001b[1;33m(\u001b[0m\u001b[0mmy_dict\u001b[0m\u001b[1;33m)\u001b[0m\u001b[1;33m\u001b[0m\u001b[1;33m\u001b[0m\u001b[0m\n",
      "\u001b[1;31mAttributeError\u001b[0m: 'str' object has no attribute 'values'"
     ]
    }
   ],
   "source": [
    "my_dict = 'a'\n",
    "print_dict_sum(my_dict)"
   ]
  },
  {
   "cell_type": "markdown",
   "id": "9715a746",
   "metadata": {},
   "source": [
    "As a result, we have at least three different types of exceptions that should be handled differently: NameError, TypeError, and AttributeError. For this purpose, we can add multiple except blocks (one for each exception type, three in our case) after a single try block:"
   ]
  },
  {
   "cell_type": "code",
   "execution_count": 22,
   "id": "a9f7eaed",
   "metadata": {},
   "outputs": [
    {
     "name": "stdout",
     "output_type": "stream",
     "text": [
      "Please check the spelling of the dictionary name\n"
     ]
    }
   ],
   "source": [
    "try:\n",
    "    print_dict_sum(mydict)\n",
    "except NameError:\n",
    "    print('Please check the spelling of the dictionary name')\n",
    "except TypeError:\n",
    "    print('It seems that some of the dictionary values are not numeric')\n",
    "except AttributeError:\n",
    "    print('You should provide a Python dictionary with numeric values')"
   ]
  },
  {
   "cell_type": "markdown",
   "id": "f69be595",
   "metadata": {},
   "source": [
    "In this code, we provided a nonexistent variable name as an input to the function inside the try clause. The code was supposed to throw a NameError but it was handled in one of the subsequent except clauses, and the corresponding message was output.\n",
    "\n",
    "We can also handle the exceptions right inside the function definition. \n",
    "\n",
    "**Important thing to note is that: We can’t handle a NameError exception for any of the function arguments since in this case, the exception happens before the function body starts. For example, in the code below:**"
   ]
  },
  {
   "cell_type": "code",
   "execution_count": 23,
   "id": "55e0c348",
   "metadata": {},
   "outputs": [
    {
     "name": "stdout",
     "output_type": "stream",
     "text": [
      "It seems that some of the dictionary values are not numeric\n",
      "You should provide a Python dictionary with numeric values\n"
     ]
    },
    {
     "ename": "NameError",
     "evalue": "name 'mydict' is not defined",
     "output_type": "error",
     "traceback": [
      "\u001b[1;31m---------------------------------------------------------------------------\u001b[0m",
      "\u001b[1;31mNameError\u001b[0m                                 Traceback (most recent call last)",
      "\u001b[1;32m~\\AppData\\Local\\Temp\\ipykernel_35816\\3201242278.py\u001b[0m in \u001b[0;36m<module>\u001b[1;34m\u001b[0m\n\u001b[0;32m     11\u001b[0m \u001b[0mprint_dict_sum\u001b[0m\u001b[1;33m(\u001b[0m\u001b[1;33m{\u001b[0m\u001b[1;34m'a'\u001b[0m\u001b[1;33m:\u001b[0m \u001b[1;34m'1'\u001b[0m\u001b[1;33m,\u001b[0m \u001b[1;34m'b'\u001b[0m\u001b[1;33m:\u001b[0m \u001b[1;36m2\u001b[0m\u001b[1;33m,\u001b[0m \u001b[1;34m'c'\u001b[0m\u001b[1;33m:\u001b[0m \u001b[1;36m3\u001b[0m\u001b[1;33m}\u001b[0m\u001b[1;33m)\u001b[0m\u001b[1;33m\u001b[0m\u001b[1;33m\u001b[0m\u001b[0m\n\u001b[0;32m     12\u001b[0m \u001b[0mprint_dict_sum\u001b[0m\u001b[1;33m(\u001b[0m\u001b[1;34m'a'\u001b[0m\u001b[1;33m)\u001b[0m\u001b[1;33m\u001b[0m\u001b[1;33m\u001b[0m\u001b[0m\n\u001b[1;32m---> 13\u001b[1;33m \u001b[0mprint_dict_sum\u001b[0m\u001b[1;33m(\u001b[0m\u001b[0mmydict\u001b[0m\u001b[1;33m)\u001b[0m\u001b[1;33m\u001b[0m\u001b[1;33m\u001b[0m\u001b[0m\n\u001b[0m",
      "\u001b[1;31mNameError\u001b[0m: name 'mydict' is not defined"
     ]
    }
   ],
   "source": [
    "def print_dict_sum(dct):\n",
    "    try:\n",
    "        print(sum(dct.values()))\n",
    "    except NameError:\n",
    "        print('Please check the spelling of the dictionary name')\n",
    "    except TypeError:\n",
    "        print('It seems that some of the dictionary values are not numeric')\n",
    "    except AttributeError:\n",
    "        print('You should provide a Python dictionary with numeric values')\n",
    "\n",
    "print_dict_sum({'a': '1', 'b': 2, 'c': 3})\n",
    "print_dict_sum('a')\n",
    "print_dict_sum(mydict)"
   ]
  },
  {
   "cell_type": "markdown",
   "id": "5b48bc34",
   "metadata": {},
   "source": [
    "The TypeError and AttributeError were successfully handled inside the function and the corresponding messages were output. Instead, because of the above-mentioned reason, the NameError was not handled properly despite introducing a separate except clause for it. Therefore, the NameError for any argument of a function can’t be handled inside the function body.\n",
    "\n",
    "It is possible to combine several exceptions as a tuple in one except clause if they should be handled in the same way:"
   ]
  },
  {
   "cell_type": "code",
   "execution_count": 24,
   "id": "c3545c26",
   "metadata": {},
   "outputs": [
    {
     "name": "stdout",
     "output_type": "stream",
     "text": [
      "You should provide a Python DICTIONARY with NUMERIC values\n",
      "You should provide a Python DICTIONARY with NUMERIC values\n"
     ]
    }
   ],
   "source": [
    "def print_dict_sum(dct):\n",
    "    try:\n",
    "        print(sum(dct.values()))\n",
    "    except (TypeError, AttributeError):\n",
    "        print('You should provide a Python DICTIONARY with NUMERIC values')\n",
    "\n",
    "print_dict_sum({'a': '1', 'b': 2, 'c': 3})\n",
    "print_dict_sum('a')"
   ]
  },
  {
   "cell_type": "markdown",
   "id": "4656d57a",
   "metadata": {},
   "source": [
    "#### Using the else Statement\n",
    "In addition to the try and except clauses, we can use an optional else command. If present, the else command must be placed after all the except clauses and executed only if no exceptions occurred in the try clause.\n",
    "\n",
    "For example, in the code below, we tried the division by zero:"
   ]
  },
  {
   "cell_type": "code",
   "execution_count": 25,
   "id": "e312e5cf",
   "metadata": {},
   "outputs": [
    {
     "name": "stdout",
     "output_type": "stream",
     "text": [
      "You cannot divide by zero\n"
     ]
    }
   ],
   "source": [
    "try:\n",
    "    print(3/0)\n",
    "except ZeroDivisionError:\n",
    "    print('You cannot divide by zero')\n",
    "else:\n",
    "    print('The division is successfully performed')"
   ]
  },
  {
   "cell_type": "markdown",
   "id": "c67624f0",
   "metadata": {},
   "source": [
    "The exception was caught and handled in the except block and hence the else clause was skipped. Let’s take a look at what happens if we provide a non-zero number:"
   ]
  },
  {
   "cell_type": "code",
   "execution_count": 26,
   "id": "a615f0bd",
   "metadata": {},
   "outputs": [
    {
     "name": "stdout",
     "output_type": "stream",
     "text": [
      "1.5\n",
      "The division is successfully performed\n"
     ]
    }
   ],
   "source": [
    "try:\n",
    "    print(3/2)\n",
    "except ZeroDivisionError:\n",
    "    print('You cannot divide by zero')\n",
    "else:\n",
    "    print('The division is successfully performed')"
   ]
  },
  {
   "cell_type": "markdown",
   "id": "c0c32ee4",
   "metadata": {},
   "source": [
    "Since no exception was raised, the else block was executed and output the corresponding message."
   ]
  },
  {
   "cell_type": "markdown",
   "id": "147facf5",
   "metadata": {},
   "source": [
    "#### The finally Statement\n",
    "Another optional statement is finally, if provided, it must be placed after all the clauses including else (if present)\n",
    "and executed in any case, whether or not an exception was raised in the try clause.\n",
    "\n",
    "Let’s add the finally block to both of the previous pieces of code and observe the results:"
   ]
  },
  {
   "cell_type": "code",
   "execution_count": 27,
   "id": "906c8a41",
   "metadata": {},
   "outputs": [
    {
     "name": "stdout",
     "output_type": "stream",
     "text": [
      "You cannot divide by zero\n",
      "This message is always printed\n"
     ]
    }
   ],
   "source": [
    "try:\n",
    "    print(3/0)\n",
    "except ZeroDivisionError:\n",
    "    print('You cannot divide by zero')\n",
    "else:\n",
    "    print('The division is successfully performed')\n",
    "finally:\n",
    "    print('This message is always printed')"
   ]
  },
  {
   "cell_type": "code",
   "execution_count": 28,
   "id": "c2b33224",
   "metadata": {},
   "outputs": [
    {
     "name": "stdout",
     "output_type": "stream",
     "text": [
      "1.5\n",
      "The division is successfully performed\n",
      "This message is always printed\n"
     ]
    }
   ],
   "source": [
    "try:\n",
    "    print(3/2)\n",
    "except ZeroDivisionError:\n",
    "    print('You cannot divide by zero')\n",
    "else:\n",
    "    print('The division is successfully performed')\n",
    "finally:\n",
    "    print('This message is always printed')"
   ]
  },
  {
   "cell_type": "code",
   "execution_count": 2,
   "id": "3d8e77d3",
   "metadata": {},
   "outputs": [
    {
     "name": "stdout",
     "output_type": "stream",
     "text": [
      "Your number: 0\n",
      "Infinity\n",
      "There may or may not have been an exception.\n"
     ]
    }
   ],
   "source": [
    "try:\n",
    "    x = float(input(\"Your number: \"))\n",
    "    inverse = 1.0 / x\n",
    "except ValueError:\n",
    "    print(\"You should have given either an int or a float\")\n",
    "except ZeroDivisionError:\n",
    "    print(\"Infinity\")\n",
    "finally:\n",
    "    print(\"There may or may not have been an exception.\")"
   ]
  },
  {
   "cell_type": "markdown",
   "id": "6b21b13d",
   "metadata": {},
   "source": [
    "In the first case, an exception was raised, in the second there was not. However, in both cases, the finally clause outputs the same message."
   ]
  },
  {
   "cell_type": "markdown",
   "id": "83cd0991",
   "metadata": {},
   "source": [
    "#### Raising an Exception\n",
    "Sometimes, we may need to deliberately raise an exception and stop the program if a certain condition occurs. For this purpose, we need the raise keyword and the following syntax:\n",
    "\n",
    "raise ExceptionClass(exception_value)\n",
    "Above, ExceptionClass is the type of exception to be raised (e.g., TypeError) and exception_value is an optional customized descriptive message that will be displayed if the exception is raised.\n",
    "\n",
    "Let’s see how it works:"
   ]
  },
  {
   "cell_type": "code",
   "execution_count": 29,
   "id": "369bd0cf",
   "metadata": {},
   "outputs": [
    {
     "ename": "ValueError",
     "evalue": "",
     "output_type": "error",
     "traceback": [
      "\u001b[1;31m---------------------------------------------------------------------------\u001b[0m",
      "\u001b[1;31mValueError\u001b[0m                                Traceback (most recent call last)",
      "\u001b[1;32m~\\AppData\\Local\\Temp\\ipykernel_35816\\2843707178.py\u001b[0m in \u001b[0;36m<module>\u001b[1;34m\u001b[0m\n\u001b[0;32m      1\u001b[0m \u001b[0mx\u001b[0m \u001b[1;33m=\u001b[0m \u001b[1;34m'blue'\u001b[0m\u001b[1;33m\u001b[0m\u001b[1;33m\u001b[0m\u001b[0m\n\u001b[0;32m      2\u001b[0m \u001b[1;32mif\u001b[0m \u001b[0mx\u001b[0m \u001b[1;32mnot\u001b[0m \u001b[1;32min\u001b[0m \u001b[1;33m[\u001b[0m\u001b[1;34m'red'\u001b[0m\u001b[1;33m,\u001b[0m \u001b[1;34m'yellow'\u001b[0m\u001b[1;33m,\u001b[0m \u001b[1;34m'green'\u001b[0m\u001b[1;33m]\u001b[0m\u001b[1;33m:\u001b[0m\u001b[1;33m\u001b[0m\u001b[1;33m\u001b[0m\u001b[0m\n\u001b[1;32m----> 3\u001b[1;33m     \u001b[1;32mraise\u001b[0m \u001b[0mValueError\u001b[0m\u001b[1;33m\u001b[0m\u001b[1;33m\u001b[0m\u001b[0m\n\u001b[0m",
      "\u001b[1;31mValueError\u001b[0m: "
     ]
    }
   ],
   "source": [
    "x = 'blue'\n",
    "if x not in ['red', 'yellow', 'green']:\n",
    "    raise ValueError"
   ]
  },
  {
   "cell_type": "markdown",
   "id": "3bb3743b",
   "metadata": {},
   "source": [
    "In the piece of code above, we didn’t provide any argument to the exception and therefore the code didn’t output any message (by default, the exception value is None)."
   ]
  },
  {
   "cell_type": "code",
   "execution_count": 31,
   "id": "a709b97c",
   "metadata": {},
   "outputs": [
    {
     "ename": "ValueError",
     "evalue": "The traffic light is broken",
     "output_type": "error",
     "traceback": [
      "\u001b[1;31m---------------------------------------------------------------------------\u001b[0m",
      "\u001b[1;31mValueError\u001b[0m                                Traceback (most recent call last)",
      "\u001b[1;32m~\\AppData\\Local\\Temp\\ipykernel_35816\\359420707.py\u001b[0m in \u001b[0;36m<module>\u001b[1;34m\u001b[0m\n\u001b[0;32m      1\u001b[0m \u001b[0mx\u001b[0m \u001b[1;33m=\u001b[0m \u001b[1;34m'blue'\u001b[0m\u001b[1;33m\u001b[0m\u001b[1;33m\u001b[0m\u001b[0m\n\u001b[0;32m      2\u001b[0m \u001b[1;32mif\u001b[0m \u001b[0mx\u001b[0m \u001b[1;32mnot\u001b[0m \u001b[1;32min\u001b[0m \u001b[1;33m[\u001b[0m\u001b[1;34m'red'\u001b[0m\u001b[1;33m,\u001b[0m \u001b[1;34m'yellow'\u001b[0m\u001b[1;33m,\u001b[0m \u001b[1;34m'green'\u001b[0m\u001b[1;33m]\u001b[0m\u001b[1;33m:\u001b[0m\u001b[1;33m\u001b[0m\u001b[1;33m\u001b[0m\u001b[0m\n\u001b[1;32m----> 3\u001b[1;33m     \u001b[1;32mraise\u001b[0m \u001b[0mValueError\u001b[0m\u001b[1;33m(\u001b[0m\u001b[1;34m'The traffic light is broken'\u001b[0m\u001b[1;33m)\u001b[0m\u001b[1;33m\u001b[0m\u001b[1;33m\u001b[0m\u001b[0m\n\u001b[0m",
      "\u001b[1;31mValueError\u001b[0m: The traffic light is broken"
     ]
    }
   ],
   "source": [
    "x = 'blue'\n",
    "if x not in ['red', 'yellow', 'green']:\n",
    "    raise ValueError('The traffic light is broken')"
   ]
  },
  {
   "cell_type": "markdown",
   "id": "5220bf5a",
   "metadata": {},
   "source": [
    "We ran the same piece of code, but this time we provided the exception argument. In this case, we can see an output message that gives more context to why exactly this exception occurred."
   ]
  },
  {
   "cell_type": "markdown",
   "id": "ef5d7709",
   "metadata": {},
   "source": [
    "#### Conclusion\n",
    "In this session, we discussed many aspects of exceptions in Python. In particular, we learned:\n",
    "\n",
    "- How to define exceptions in Python and how they differ from syntax errors\n",
    "- What built-in exceptions exist in Python and when they are raised\n",
    "- Why it is important to catch and handle exceptions\n",
    "- How to handle one or multiple exceptions in Python\n",
    "- How different clauses for catching and handling exceptions work together\n",
    "- Why it’s important to specify the type of exception to be handled\n",
    "- Why we can’t handle a NameError for any argument of a function inside the function definition\n",
    "- How to raise an exception\n",
    "- How to add a descriptive message to a raised exception and why it is a good practice\n",
    "\n",
    "I hope you now have an understanding of how exception is handled in Python and you can now put the skills you gain in this session into practice.\n",
    "\n",
    "This brings and end into this training. In the next session, we are now going to put all we have learned into practice by implementing some real life Python Projects. Thank you for watching. See you in the next session. Have a good one, cheers bye. "
   ]
  },
  {
   "cell_type": "code",
   "execution_count": null,
   "id": "c9257383",
   "metadata": {},
   "outputs": [],
   "source": []
  }
 ],
 "metadata": {
  "kernelspec": {
   "display_name": "Python 3 (ipykernel)",
   "language": "python",
   "name": "python3"
  },
  "language_info": {
   "codemirror_mode": {
    "name": "ipython",
    "version": 3
   },
   "file_extension": ".py",
   "mimetype": "text/x-python",
   "name": "python",
   "nbconvert_exporter": "python",
   "pygments_lexer": "ipython3",
   "version": "3.9.13"
  }
 },
 "nbformat": 4,
 "nbformat_minor": 5
}
