{
 "cells": [
  {
   "cell_type": "code",
   "execution_count": 6,
   "id": "4d43322f",
   "metadata": {},
   "outputs": [
    {
     "data": {
      "text/plain": [
       "{'name': 'Olalekan Samuel', 'weekly_claim': [100, 400, 500, 800, 1000]}"
      ]
     },
     "execution_count": 6,
     "metadata": {},
     "output_type": "execute_result"
    }
   ],
   "source": [
    "employee_claims = {\n",
    "    'name': \"Olalekan Samuel\",\n",
    "    'weekly_claim': [100, 400, 500, 800, 1000]\n",
    "}\n",
    "\n",
    "employee_claims"
   ]
  },
  {
   "cell_type": "code",
   "execution_count": 7,
   "id": "78847a26",
   "metadata": {},
   "outputs": [
    {
     "data": {
      "text/plain": [
       "560.0"
      ]
     },
     "execution_count": 7,
     "metadata": {},
     "output_type": "execute_result"
    }
   ],
   "source": [
    "def average_claim(employee_claim):\n",
    "    return sum(employee_claim['weekly_claim']) / len(employee_claim['weekly_claim'])\n",
    "\n",
    "average_claim(employee_claims)"
   ]
  },
  {
   "cell_type": "code",
   "execution_count": 8,
   "id": "26e37e11",
   "metadata": {},
   "outputs": [
    {
     "ename": "SyntaxError",
     "evalue": "invalid syntax (2680958486.py, line 5)",
     "output_type": "error",
     "traceback": [
      "\u001b[1;36m  File \u001b[1;32m\"C:\\Users\\olale\\AppData\\Local\\Temp\\ipykernel_10896\\2680958486.py\"\u001b[1;36m, line \u001b[1;32m5\u001b[0m\n\u001b[1;33m    def average_claim(employee_claim):\u001b[0m\n\u001b[1;37m    ^\u001b[0m\n\u001b[1;31mSyntaxError\u001b[0m\u001b[1;31m:\u001b[0m invalid syntax\n"
     ]
    }
   ],
   "source": [
    "employee_claims = {\n",
    "    'name': \"Olalekan Samuel\",\n",
    "    'weekly_claim': [100, 400, 500, 800, 1000]\n",
    "    \n",
    "    def average_claim(employee_claim):\n",
    "    return sum(employee_claim['weekly_claim']) / len(employee_claim['weekly_claim'])\n",
    "\n",
    "average_claim(employee_claims)\n",
    "}\n",
    "\n",
    "employee_claims"
   ]
  },
  {
   "cell_type": "code",
   "execution_count": 9,
   "id": "53fbabcb",
   "metadata": {},
   "outputs": [
    {
     "name": "stdout",
     "output_type": "stream",
     "text": [
      "560.0\n",
      "890.0\n"
     ]
    }
   ],
   "source": [
    "class Employee_claim:\n",
    "    \n",
    "    def __init__(self, employee_name, employee_claims):\n",
    "        self.employee_name = employee_name\n",
    "        self.employee_claims = employee_claims\n",
    "    \n",
    "    def calculate_average(self):\n",
    "        return sum(self.employee_claims) / len(self.employee_claims)\n",
    "\n",
    "employee_claim1 = Employee_claim(\"Olalekan Samuel\", [100, 400, 500, 800, 1000])\n",
    "employee_claim2 = Employee_claim(\"Omolola Olubunmi\", [100, 600, 500, 750, 2500])\n",
    "\n",
    "print(employee_claim1.calculate_average())\n",
    "print(employee_claim2.calculate_average())"
   ]
  },
  {
   "cell_type": "code",
   "execution_count": null,
   "id": "412aee10",
   "metadata": {},
   "outputs": [],
   "source": []
  },
  {
   "cell_type": "code",
   "execution_count": null,
   "id": "453fdee0",
   "metadata": {},
   "outputs": [],
   "source": []
  },
  {
   "cell_type": "code",
   "execution_count": null,
   "id": "d166e125",
   "metadata": {},
   "outputs": [],
   "source": []
  },
  {
   "cell_type": "code",
   "execution_count": null,
   "id": "13b6a461",
   "metadata": {},
   "outputs": [],
   "source": []
  },
  {
   "cell_type": "markdown",
   "id": "79063a57",
   "metadata": {},
   "source": [
    "### Python Object Oriented Programming (OOP)"
   ]
  },
  {
   "cell_type": "markdown",
   "id": "3ce65a85",
   "metadata": {
    "slideshow": {
     "slide_type": "slide"
    }
   },
   "source": [
    "In Python, object-oriented Programming (OOPs) is a programming paradigm that uses objects and classes in programming. \n",
    "\n",
    "The aim of OOP is to implement real-world entities like inheritance, polymorphisms, encapsulation, etc. in the programming. \n",
    "\n",
    "The main concept of OOPs is to bind the data and the functions that work on the data together as a single unit so that no other part of the code can access this data.\n",
    "\n",
    "In short, OOP, is a programming paradigm which provides a means of structuring programs so that attributes (data) and behaviors (functions or methods) are bundled into individual objects.\n",
    "\n",
    "Therefore, the concept of OOP in Python focuses on creating reusable code. \n",
    "\n",
    "An object-oriented paradigm is to design the program using classes and objects.\n",
    "\n",
    "The object is related to real-word entities such as book, house, pencil, person etc.\n",
    "\n",
    "OOPs concept focuses on writing the reusable code. It is a widespread technique that is aimed at solving the problem by creating objects."
   ]
  },
  {
   "cell_type": "markdown",
   "id": "5bf2ea29",
   "metadata": {},
   "source": [
    "### The Main Concept of Object-Oriented Programming (OOPs)\n",
    "- Class\n",
    "- Methods/Functions\n",
    "- Objects\n",
    "- Constructors\n",
    "- Inheritance\n",
    "- Encapsulation\n",
    "- Polymorphism\n",
    "- Decorators\n",
    "- Method Overloading"
   ]
  },
  {
   "cell_type": "markdown",
   "id": "bd456c30",
   "metadata": {},
   "source": [
    "#### Class"
   ]
  },
  {
   "cell_type": "code",
   "execution_count": 32,
   "id": "1e9d755c",
   "metadata": {},
   "outputs": [],
   "source": [
    "class Employee:\n",
    "    emp_name = \"Adebanji Michael\"\n",
    "    emp_dateofBirth = \"12/7/1975\"\n",
    "    emp_department = \"COmputer Science\""
   ]
  },
  {
   "cell_type": "code",
   "execution_count": 34,
   "id": "5365c061",
   "metadata": {},
   "outputs": [
    {
     "data": {
      "text/plain": [
       "__main__.Employee"
      ]
     },
     "execution_count": 34,
     "metadata": {},
     "output_type": "execute_result"
    }
   ],
   "source": [
    "employee = Employee()\n",
    "\n",
    "type(employee)"
   ]
  },
  {
   "cell_type": "code",
   "execution_count": 35,
   "id": "ff17ed46",
   "metadata": {},
   "outputs": [
    {
     "name": "stdout",
     "output_type": "stream",
     "text": [
      "Adebanji Michael\n",
      "12/7/1975\n",
      "COmputer Science\n"
     ]
    }
   ],
   "source": [
    "print(employee.emp_name)\n",
    "print(employee.emp_dateofBirth)\n",
    "print(employee.emp_department)"
   ]
  },
  {
   "cell_type": "markdown",
   "id": "807dd121",
   "metadata": {},
   "source": [
    "When we create classes in python, instances methods are used regularly. What needs to be done is that you need to create an object that will execute the block of code or actions that are defined inside of the instance method\n",
    "\n",
    "The instance variables are used within the instance method"
   ]
  },
  {
   "cell_type": "code",
   "execution_count": 38,
   "id": "95670c86",
   "metadata": {},
   "outputs": [],
   "source": [
    "class instancevariabletest:\n",
    "    def __init__(self, number):\n",
    "        self.number = number"
   ]
  },
  {
   "cell_type": "code",
   "execution_count": 40,
   "id": "23d33ac6",
   "metadata": {},
   "outputs": [
    {
     "name": "stdout",
     "output_type": "stream",
     "text": [
      "40\n",
      "60\n",
      "80\n"
     ]
    }
   ],
   "source": [
    "ivt = instancevariabletest(40)\n",
    "ivt1 = instancevariabletest(60)\n",
    "ivt2 = instancevariabletest(80)\n",
    "\n",
    "print(ivt.number)\n",
    "print(ivt1.number)\n",
    "print(ivt2.number)"
   ]
  },
  {
   "cell_type": "code",
   "execution_count": 41,
   "id": "6a57a566",
   "metadata": {},
   "outputs": [],
   "source": [
    "class Employee:\n",
    "    emp_name = \"Adebanji Michael\"\n",
    "    emp_dateofBirth = \"12/7/1975\"\n",
    "    emp_department = \"COmputer Science\"\n",
    "    \n",
    "    def __init__(self, surname, age):\n",
    "        # instance variable\n",
    "        self.surname = surname\n",
    "        self.age = age"
   ]
  },
  {
   "cell_type": "code",
   "execution_count": 44,
   "id": "593f9214",
   "metadata": {},
   "outputs": [
    {
     "name": "stdout",
     "output_type": "stream",
     "text": [
      "=============First Employee=================\n",
      "Surname: Ogunleye\n",
      "Surname: 46\n",
      "=============Second Employee=================\n",
      "Surname: Akinsola\n",
      "Surname: 44\n"
     ]
    }
   ],
   "source": [
    "#create first object\n",
    "employee1 = Employee(\"Ogunleye\", 46)\n",
    "\n",
    "print(\"=============First Employee=================\")\n",
    "print(\"Surname:\", employee1.surname)\n",
    "print(\"Surname:\", employee1.age)\n",
    "\n",
    "\n",
    "#create second object\n",
    "employee2 = Employee(\"Akinsola\", 44)\n",
    "\n",
    "print(\"=============Second Employee=================\")\n",
    "print(\"Surname:\", employee2.surname)\n",
    "print(\"Surname:\", employee2.age)"
   ]
  },
  {
   "cell_type": "markdown",
   "id": "ad40c568",
   "metadata": {},
   "source": [
    "##### Modifying the Values of Instance Variable"
   ]
  },
  {
   "cell_type": "code",
   "execution_count": 46,
   "id": "67b49bb9",
   "metadata": {},
   "outputs": [],
   "source": [
    "class Employee:\n",
    "    emp_name = \"Adebanji Michael\"\n",
    "    emp_dateofBirth = \"12/7/1975\"\n",
    "    emp_department = \"COmputer Science\"\n",
    "    \n",
    "    def __init__(self, surname, age):\n",
    "        # instance variable\n",
    "        self.surname = surname\n",
    "        self.age = age"
   ]
  },
  {
   "cell_type": "code",
   "execution_count": 47,
   "id": "86777092",
   "metadata": {},
   "outputs": [],
   "source": [
    "#creating the Object\n",
    "employee3 = Employee(\"Salami\", 48)"
   ]
  },
  {
   "cell_type": "code",
   "execution_count": 49,
   "id": "4359004f",
   "metadata": {},
   "outputs": [
    {
     "name": "stdout",
     "output_type": "stream",
     "text": [
      "====================Before the Modification of the Values=======================\n",
      "Surname:  Adebanji Age:  42\n",
      "\n",
      "\n",
      "====================After the Modification of the Values=======================\n",
      "Surname:  Adebanji Age:  42\n"
     ]
    }
   ],
   "source": [
    "print(\"====================Before the Modification of the Values=======================\")\n",
    "print(\"Surname: \", employee3.surname, \"Age: \", employee3.age)\n",
    "\n",
    "print('\\n')\n",
    "#Modify the Surname and age\n",
    "employee3.surname = \"Adebanji\"\n",
    "employee3.age = 42\n",
    "print(\"====================After the Modification of the Values=======================\")\n",
    "print(\"Surname: \", employee3.surname, \"Age: \", employee3.age)"
   ]
  },
  {
   "cell_type": "markdown",
   "id": "40a8e9e5",
   "metadata": {},
   "source": [
    "##### A guide to Python's Magic Methods\n",
    "\n",
    "https://rszalski.github.io/magicmethods/"
   ]
  },
  {
   "cell_type": "markdown",
   "id": "de1a136a",
   "metadata": {},
   "source": [
    "#### Methods/Functions"
   ]
  },
  {
   "cell_type": "markdown",
   "id": "8a99fbf5",
   "metadata": {},
   "source": [
    "- Instance method performs a set of actions on the data/value provided by the instance variables. If we use instance variables inside a method, such methods are called instance methods.\n",
    "<br>\n",
    "- Class method is method that is called on the class itself, not on a specific object instance. Therefore, it belongs to a class level, and all class instances share a class method. A class method has a `cls` as the first parameter to refer to the class instead of using self\n",
    "<br>\n",
    "\n",
    "- Static method is a general utility method that performs a task in isolation. This method doesn’t have access to the instance and class variable."
   ]
  },
  {
   "cell_type": "markdown",
   "id": "69d058d2",
   "metadata": {},
   "source": [
    "##### Instance Methods"
   ]
  },
  {
   "cell_type": "code",
   "execution_count": 53,
   "id": "48728d4d",
   "metadata": {},
   "outputs": [
    {
     "name": "stdout",
     "output_type": "stream",
     "text": [
      "First Employee\n",
      "Name:  Olalekan Samuel Age: 40\n",
      "\n",
      "\n",
      "Second Employee\n",
      "Name:  Adebanji Michael Age: 37\n"
     ]
    }
   ],
   "source": [
    "class Employee:\n",
    "    \n",
    "    #Constructor\n",
    "    def __init__(self, name, age):\n",
    "        #instance variables\n",
    "        self.name = name\n",
    "        self.age = age\n",
    "        \n",
    "    def display_details(self):\n",
    "        print('Name: ', self.name, 'Age:', self.age )\n",
    "        \n",
    "#creating the first object\n",
    "print(\"First Employee\")\n",
    "olalekan = Employee(\"Olalekan Samuel\", 40)\n",
    "#calling the instance method\n",
    "olalekan.display_details()\n",
    "\n",
    "#creating the first object\n",
    "print('\\n')\n",
    "print(\"Second Employee\")\n",
    "adebanji = Employee(\"Adebanji Michael\", 37)\n",
    "#calling the instance method\n",
    "adebanji.display_details()"
   ]
  },
  {
   "cell_type": "markdown",
   "id": "8a72b539",
   "metadata": {},
   "source": [
    "##### Class Methods"
   ]
  },
  {
   "cell_type": "code",
   "execution_count": 54,
   "id": "8d8076c9",
   "metadata": {},
   "outputs": [
    {
     "name": "stdout",
     "output_type": "stream",
     "text": [
      "Olalekan Samuel's age is: 40\n",
      "Ademola Charles's age is: 43\n"
     ]
    }
   ],
   "source": [
    "from datetime import date\n",
    "\n",
    "class Employee:\n",
    "    def __init__(self, name, age):\n",
    "        self.name = name\n",
    "        self.age = age\n",
    "        \n",
    "    @classmethod\n",
    "    def calculate_age(cls, name, yearofbirth):\n",
    "        #calculate the age and set it as age\n",
    "        #return the new object\n",
    "        return cls(name, date.today().year - yearofbirth)\n",
    "    \n",
    "    def display(self):\n",
    "        print(self.name + \"'s age is:\", str(self.age))\n",
    "        \n",
    "olalekan = Employee(\"Olalekan Samuel\", 40)\n",
    "olalekan.display()\n",
    "\n",
    "#Create a new object using the factory method\n",
    "ademola = Employee.calculate_age(\"Ademola Charles\", 1980)\n",
    "ademola.display()"
   ]
  },
  {
   "cell_type": "code",
   "execution_count": 55,
   "id": "4356e5ec",
   "metadata": {},
   "outputs": [
    {
     "name": "stdout",
     "output_type": "stream",
     "text": [
      "The name of the company is:  Intelligent System\n"
     ]
    }
   ],
   "source": [
    "class Company:\n",
    "    #define a class variable\n",
    "    companyname = 'Intelligent System'\n",
    "    \n",
    "    def company_name(cls):\n",
    "        print(\"The name of the company is: \", cls.companyname)\n",
    "\n",
    "#create the class method\n",
    "Company.company_name = classmethod(Company.company_name)\n",
    "\n",
    "#call the class method\n",
    "Company.company_name()"
   ]
  },
  {
   "cell_type": "markdown",
   "id": "a4b0a429",
   "metadata": {},
   "source": [
    "#### Accessing Class Variables in Class Methods"
   ]
  },
  {
   "cell_type": "code",
   "execution_count": 57,
   "id": "6b062019",
   "metadata": {},
   "outputs": [
    {
     "name": "stdout",
     "output_type": "stream",
     "text": [
      "Olalekan Samuel 40 Department: Computer Science and Engineering\n",
      "Olalekan Samuel 40 Department: Information Systems and Cyber Security\n"
     ]
    }
   ],
   "source": [
    "class Employee:\n",
    "    department_name = \"Computer Science and Engineering\"\n",
    "    \n",
    "    def __init__(self, name, age):\n",
    "        self.name = name\n",
    "        self.age = age\n",
    "        \n",
    "    @classmethod\n",
    "    def change_department(cls, department_name):\n",
    "        #classname.classvariable (To change)\n",
    "        cls.department_name = department_name\n",
    "        \n",
    "    def display(self):\n",
    "        print(self.name, self.age, \"Department:\", Employee.department_name)\n",
    "\n",
    "olalekan = Employee('Olalekan Samuel', 40)\n",
    "olalekan.display()\n",
    "\n",
    "#Let us change the department Name\n",
    "Employee.change_department(\"Information Systems and Cyber Security\")\n",
    "olalekan.display()"
   ]
  },
  {
   "cell_type": "markdown",
   "id": "efa7982e",
   "metadata": {},
   "source": [
    "#### Static Methods"
   ]
  },
  {
   "cell_type": "code",
   "execution_count": 2,
   "id": "f6785722",
   "metadata": {},
   "outputs": [
    {
     "name": "stdout",
     "output_type": "stream",
     "text": [
      "You have completed task3\n",
      "You have completed task1\n",
      "You have completed task2\n",
      "You have completed task3\n"
     ]
    }
   ],
   "source": [
    "class Employee:\n",
    "    def __init__(self, name, salary, project_name):\n",
    "        self.name = name\n",
    "        self.age = salary\n",
    "        self.project_name = project_name\n",
    "        \n",
    "    @staticmethod\n",
    "    def get_requirement(project_name):\n",
    "        if project_name == \"Machine Learning Implementation\":\n",
    "            requirements = ['task1', 'task2', 'task3']\n",
    "        else:\n",
    "            requirements = ['task3']\n",
    "        return requirements\n",
    "    \n",
    "    def workstructure(self):\n",
    "        requirements = self.get_requirement(self.project_name)\n",
    "        for task in requirements:\n",
    "            print('You have completed', task)\n",
    "\n",
    "#We are creating an instance of the class Employee\n",
    "empl = Employee('Olalekan Samuel', 45000, 'Python Web Development')\n",
    "empl.workstructure()\n",
    "\n",
    "empl1 = Employee('Olalekan Samuel', 45000, 'Machine Learning Implementation')\n",
    "empl1.workstructure()"
   ]
  },
  {
   "cell_type": "code",
   "execution_count": 3,
   "id": "9b1f0e73",
   "metadata": {},
   "outputs": [
    {
     "name": "stdout",
     "output_type": "stream",
     "text": [
      "<class '__main__.Employee'>\n"
     ]
    }
   ],
   "source": [
    "print(type(empl))"
   ]
  },
  {
   "cell_type": "markdown",
   "id": "60467571",
   "metadata": {},
   "source": [
    "#### Objects\n",
    "\n",
    "An Object is an instance of a Class. A class is like a blueprint while an instance is a copy of the class with actual values."
   ]
  },
  {
   "cell_type": "code",
   "execution_count": 10,
   "id": "6aa6cca8",
   "metadata": {},
   "outputs": [
    {
     "name": "stdout",
     "output_type": "stream",
     "text": [
      "Fortuner\n",
      "80000\n"
     ]
    }
   ],
   "source": [
    "class Car:\n",
    "    def __init__(self, model, price):\n",
    "        self.model = model\n",
    "        self.price = price\n",
    "\n",
    "toyota = Car(\"Fortuner\", 80000)\n",
    "\n",
    "print(toyota.model)\n",
    "print(toyota.price)"
   ]
  },
  {
   "cell_type": "markdown",
   "id": "6785e108",
   "metadata": {},
   "source": [
    "#### Constructors\n",
    "\n",
    "There are three different types of constructors in python\n",
    " - Default Constructor\n",
    " - Non-Parametrized Constructor\n",
    " - Parametrized Constructor"
   ]
  },
  {
   "cell_type": "markdown",
   "id": "d3f79d55",
   "metadata": {},
   "source": [
    "##### Default Constructor"
   ]
  },
  {
   "cell_type": "code",
   "execution_count": 11,
   "id": "1c3629d4",
   "metadata": {},
   "outputs": [],
   "source": [
    "class Employee:\n",
    "    \n",
    "    def display(self):\n",
    "        print('This is a class with no constructor')"
   ]
  },
  {
   "cell_type": "code",
   "execution_count": 12,
   "id": "05f7b0c3",
   "metadata": {},
   "outputs": [
    {
     "name": "stdout",
     "output_type": "stream",
     "text": [
      "This is a class with no constructor\n"
     ]
    }
   ],
   "source": [
    "empl = Employee()\n",
    "empl.display()"
   ]
  },
  {
   "cell_type": "markdown",
   "id": "8f52bfcc",
   "metadata": {},
   "source": [
    "##### Non-Parametrized Constructor"
   ]
  },
  {
   "cell_type": "code",
   "execution_count": 14,
   "id": "17af572e",
   "metadata": {},
   "outputs": [
    {
     "name": "stdout",
     "output_type": "stream",
     "text": [
      "Name: Olalekan Samuel Address: Somewhere in South Africa\n"
     ]
    }
   ],
   "source": [
    "class Employee:\n",
    "    \n",
    "    def __init__(self):\n",
    "        self.name = 'Olalekan Samuel'\n",
    "        self.address = 'Somewhere in South Africa'\n",
    "    def display(self):\n",
    "        print('Name:', self.name, 'Address:', self.address)\n",
    "        \n",
    "empl = Employee()\n",
    "empl.display()"
   ]
  },
  {
   "cell_type": "markdown",
   "id": "db95ab9a",
   "metadata": {},
   "source": [
    "#### Parametrized Constructor"
   ]
  },
  {
   "cell_type": "code",
   "execution_count": 17,
   "id": "abe3b2bf",
   "metadata": {},
   "outputs": [
    {
     "name": "stdout",
     "output_type": "stream",
     "text": [
      "Olalekan 45 50000 Somewhere in South Africa\n",
      "Oluwaseun Olufemi 43 60000 Somewhere in the United Kingdom\n"
     ]
    }
   ],
   "source": [
    "class Employee:\n",
    "    \n",
    "    def __init__(self, name, age, salary, address):\n",
    "        self.name = name\n",
    "        self.age = age\n",
    "        self.salary = salary\n",
    "        self.address = address\n",
    "        \n",
    "    def display(self):\n",
    "        print(self.name, self.age, self.salary, self.address)\n",
    "        \n",
    "olalekan = Employee(\"Olalekan\", 45, 50000, \"Somewhere in South Africa\")\n",
    "olalekan.display()\n",
    "\n",
    "oluwaseun = Employee(\"Oluwaseun Olufemi\", 43, 60000, \"Somewhere in the United Kingdom\")\n",
    "oluwaseun.display()"
   ]
  },
  {
   "cell_type": "markdown",
   "id": "0ea515e4",
   "metadata": {},
   "source": [
    "##### Constructor with Default Value"
   ]
  },
  {
   "cell_type": "code",
   "execution_count": 18,
   "id": "48072f04",
   "metadata": {},
   "outputs": [
    {
     "name": "stdout",
     "output_type": "stream",
     "text": [
      "Olalekan 45 50000 Somewhere in South Africa\n",
      "Oluwaseun Olufemi 43 60000 Somewhere in the United Kingdom\n",
      "Olusola Salami 45 6000 Somewhere in South Africa\n"
     ]
    }
   ],
   "source": [
    "class Employee:\n",
    "    \n",
    "    def __init__(self, name, age=45, salary=6000, address=\"Somewhere in South Africa\"):\n",
    "        self.name = name\n",
    "        self.age = age\n",
    "        self.salary = salary\n",
    "        self.address = address\n",
    "        \n",
    "    def display(self):\n",
    "        print(self.name, self.age, self.salary, self.address)\n",
    "        \n",
    "olalekan = Employee(\"Olalekan\", 45, 50000, \"Somewhere in South Africa\")\n",
    "olalekan.display()\n",
    "\n",
    "oluwaseun = Employee(\"Oluwaseun Olufemi\", 43, 60000, \"Somewhere in the United Kingdom\")\n",
    "oluwaseun.display()\n",
    "\n",
    "olusola = Employee(\"Olusola Salami\")\n",
    "olusola.display()"
   ]
  },
  {
   "cell_type": "markdown",
   "id": "8884db2f",
   "metadata": {},
   "source": [
    "#### Inheritance, Method Overriding and Method Resolution Order (MRO)"
   ]
  },
  {
   "cell_type": "markdown",
   "id": "3e0c9e7b",
   "metadata": {},
   "source": [
    "Inheritance is the process of of one class taking (i.e. inheriting) the properties of another class. In this case we have what is called a child class inheriting the property of the parent class. The existing class is called a base class or parent class and the new class is called a subclass or child class or derived class.\n",
    "\n",
    "```python\n",
    "class ParentClass:\n",
    "  Body of parent class\n",
    "class ChildClass(ParentClass):\n",
    "  Body of child class\n",
    "```"
   ]
  },
  {
   "cell_type": "markdown",
   "id": "608f2e84",
   "metadata": {},
   "source": [
    "In Python, depending on the number of child and parent classes involved, there are five types of inheritance. The type of inheritance are listed below:\n",
    "\n",
    "    Single inheritance\n",
    "    Multiple Inheritance\n",
    "    Multilevel inheritance\n",
    "    Hierarchical Inheritance\n",
    "    Hybrid Inheritance"
   ]
  },
  {
   "cell_type": "markdown",
   "id": "4eccee51",
   "metadata": {},
   "source": [
    "##### Single inheritance"
   ]
  },
  {
   "cell_type": "code",
   "execution_count": 1,
   "id": "63737d96",
   "metadata": {},
   "outputs": [
    {
     "name": "stdout",
     "output_type": "stream",
     "text": [
      "I am now inside the vehicle class. This is the parent class\n",
      "I am now inside the car class. This is the child class\n"
     ]
    }
   ],
   "source": [
    "#Parent class\n",
    "class Vehicle:\n",
    "    def vehicle_information(self):\n",
    "        print('I am now inside the vehicle class. This is the parent class')\n",
    "\n",
    "#child class\n",
    "class Car(Vehicle):\n",
    "    def car_information(self):\n",
    "        print('I am now inside the car class. This is the child class')\n",
    "car = Car()\n",
    "\n",
    "car.vehicle_information()\n",
    "car.car_information()"
   ]
  },
  {
   "cell_type": "markdown",
   "id": "f19cbec3",
   "metadata": {},
   "source": [
    "##### Multiple Inheritance"
   ]
  },
  {
   "cell_type": "code",
   "execution_count": 3,
   "id": "05a9fc05",
   "metadata": {},
   "outputs": [
    {
     "name": "stdout",
     "output_type": "stream",
     "text": [
      "This is inside the Person Class\n",
      "Name: Olalekan Samuel Age: 45\n",
      "This is Organization class\n",
      "Organization Name: Intelligent System Company Address: Johannesburg South Africa\n",
      "This is Employee class\n",
      "Salary: 80000 Specialization: Machine Learning and AI\n"
     ]
    }
   ],
   "source": [
    "#parent class1\n",
    "class Person:\n",
    "    def person_info(self, name, age):\n",
    "        print('This is inside the Person Class')\n",
    "        print('Name:', name, 'Age:', age)\n",
    "        \n",
    "#parent class2\n",
    "class Organization:\n",
    "    def organization_info(self, organization_name, address):\n",
    "        print('This is Organization class')\n",
    "        print('Organization Name:', organization_name, 'Address:', address)\n",
    "        \n",
    "#Child Class\n",
    "\n",
    "class Employee(Person, Organization):\n",
    "    def employee_information(self, salary, specialization):\n",
    "        print('This is Employee class')\n",
    "        print('Salary:', salary, 'Specialization:', specialization)\n",
    "        \n",
    "#create an object for the employee class\n",
    "\n",
    "olalekan = Employee()\n",
    "\n",
    "#Accessing the data through the employee object\n",
    "olalekan.person_info(\"Olalekan Samuel\", 45)\n",
    "olalekan.organization_info('Intelligent System Company', \"Johannesburg South Africa\")\n",
    "olalekan.employee_information(80000, 'Machine Learning and AI')"
   ]
  },
  {
   "cell_type": "markdown",
   "id": "fbb11d06",
   "metadata": {},
   "source": [
    "##### Multilevel inheritance"
   ]
  },
  {
   "cell_type": "code",
   "execution_count": 4,
   "id": "545d340e",
   "metadata": {},
   "outputs": [
    {
     "name": "stdout",
     "output_type": "stream",
     "text": [
      "I am now inside the vehicle class. This is the parent class\n",
      "I am now inside the car class. This is the child class\n",
      "I am now inside the Electric car class\n"
     ]
    }
   ],
   "source": [
    "#Parent class\n",
    "class Vehicle:\n",
    "    def vehicle_information(self):\n",
    "        print('I am now inside the vehicle class. This is the parent class')\n",
    "\n",
    "#child class\n",
    "class Car(Vehicle):\n",
    "    def car_information(self):\n",
    "        print('I am now inside the car class. This is the child class')\n",
    "        \n",
    "#Child class\n",
    "class ElectricCar(Car):\n",
    "    def electric_car_info(self):\n",
    "        print('I am now inside the Electric car class')\n",
    "        \n",
    "#create an object of eletric car\n",
    "ecar = ElectricCar()\n",
    "ecar.vehicle_information()\n",
    "ecar.car_information()\n",
    "ecar.electric_car_info()"
   ]
  },
  {
   "cell_type": "markdown",
   "id": "9d3a6b55",
   "metadata": {},
   "source": [
    "##### Hierarchical Inheritance   "
   ]
  },
  {
   "cell_type": "code",
   "execution_count": 5,
   "id": "5594916c",
   "metadata": {},
   "outputs": [
    {
     "name": "stdout",
     "output_type": "stream",
     "text": [
      "I am now inside the vehicle class. This is the parent class\n",
      "The car name is Jeep\n",
      "I am now inside the vehicle class. This is the parent class\n",
      "The Electric car name is Tesla\n"
     ]
    }
   ],
   "source": [
    "#Parent class\n",
    "class Vehicle:\n",
    "    def vehicle_information(self):\n",
    "        print('I am now inside the vehicle class. This is the parent class')\n",
    "\n",
    "#child class\n",
    "class Car(Vehicle):\n",
    "    def car_information(self, name):\n",
    "        print('The car name is', name)\n",
    "        \n",
    "#Child class\n",
    "class ElectricCar(Vehicle):\n",
    "    def electric_car_info(self, name):\n",
    "        print('The Electric car name is', name)\n",
    "        \n",
    "car = Car()\n",
    "car.vehicle_information()\n",
    "car.car_information(\"Jeep\")\n",
    "\n",
    "ecar = ElectricCar()\n",
    "ecar.vehicle_information()\n",
    "ecar.electric_car_info(\"Tesla\")"
   ]
  },
  {
   "cell_type": "markdown",
   "id": "a49b1151",
   "metadata": {},
   "source": [
    "##### Hybrid Inheritance"
   ]
  },
  {
   "cell_type": "code",
   "execution_count": 1,
   "id": "31afb2a5",
   "metadata": {},
   "outputs": [
    {
     "name": "stdout",
     "output_type": "stream",
     "text": [
      "I am now inside the vehicle class. This is the parent class\n",
      "The car name is Mercedez Benz\n",
      "The Sport car name is Mustang\n"
     ]
    },
    {
     "ename": "AttributeError",
     "evalue": "'SportCar' object has no attribute 'electric_car_info'",
     "output_type": "error",
     "traceback": [
      "\u001b[1;31m---------------------------------------------------------------------------\u001b[0m",
      "\u001b[1;31mAttributeError\u001b[0m                            Traceback (most recent call last)",
      "\u001b[1;32m~\\AppData\\Local\\Temp\\ipykernel_29272\\2659200777.py\u001b[0m in \u001b[0;36m<module>\u001b[1;34m\u001b[0m\n\u001b[0;32m     24\u001b[0m \u001b[0ms_car\u001b[0m\u001b[1;33m.\u001b[0m\u001b[0mcar_information\u001b[0m\u001b[1;33m(\u001b[0m\u001b[1;34m\"Mercedez Benz\"\u001b[0m\u001b[1;33m)\u001b[0m\u001b[1;33m\u001b[0m\u001b[1;33m\u001b[0m\u001b[0m\n\u001b[0;32m     25\u001b[0m \u001b[0ms_car\u001b[0m\u001b[1;33m.\u001b[0m\u001b[0msport_car_info\u001b[0m\u001b[1;33m(\u001b[0m\u001b[1;34m\"Mustang\"\u001b[0m\u001b[1;33m)\u001b[0m\u001b[1;33m\u001b[0m\u001b[1;33m\u001b[0m\u001b[0m\n\u001b[1;32m---> 26\u001b[1;33m \u001b[0ms_car\u001b[0m\u001b[1;33m.\u001b[0m\u001b[0melectric_car_info\u001b[0m\u001b[1;33m(\u001b[0m\u001b[1;34m\"porch\"\u001b[0m\u001b[1;33m)\u001b[0m\u001b[1;33m\u001b[0m\u001b[1;33m\u001b[0m\u001b[0m\n\u001b[0m",
      "\u001b[1;31mAttributeError\u001b[0m: 'SportCar' object has no attribute 'electric_car_info'"
     ]
    }
   ],
   "source": [
    "#Parent class\n",
    "class Vehicle:\n",
    "    def vehicle_information(self):\n",
    "        print('I am now inside the vehicle class. This is the parent class')\n",
    "\n",
    "#child class\n",
    "class Car(Vehicle):\n",
    "    def car_information(self, name):\n",
    "        print('The car name is', name)\n",
    "        \n",
    "#Child class\n",
    "class ElectricCar(Vehicle):\n",
    "    def electric_car_info(self, name):\n",
    "        print('The Electric car name is', name)\n",
    "        \n",
    "#Sport Car class that inherits the properties of Vehicle and Car\n",
    "class SportCar(Car, Vehicle):\n",
    "    def sport_car_info(self, name):\n",
    "        print('The Sport car name is', name)\n",
    "    \n",
    "s_car = SportCar()\n",
    "\n",
    "s_car.vehicle_information()\n",
    "s_car.car_information(\"Mercedez Benz\")\n",
    "s_car.sport_car_info(\"Mustang\")\n",
    "s_car.electric_car_info(\"porch\")"
   ]
  },
  {
   "cell_type": "markdown",
   "id": "a784ddf8",
   "metadata": {},
   "source": [
    "Python **`super()`** function\n",
    "\n",
    "**syntax:**\n",
    "```python\n",
    "issubclass(class, classinfo)\n",
    "```"
   ]
  },
  {
   "cell_type": "code",
   "execution_count": 9,
   "id": "71b4755f",
   "metadata": {},
   "outputs": [
    {
     "name": "stdout",
     "output_type": "stream",
     "text": [
      "Olalekan Samuel works at Microsoft\n"
     ]
    }
   ],
   "source": [
    "class Organization:\n",
    "    def organization_info(self):\n",
    "        return \"Microsoft\"\n",
    "    \n",
    "class Employee(Organization):\n",
    "    def employee_info(self):\n",
    "        #Calling the superclass method\n",
    "        organization_name = super().organization_info()\n",
    "        print('Olalekan Samuel works at', organization_name)\n",
    "        \n",
    "#create an object of the child class\n",
    "employee = Employee()\n",
    "employee.employee_info()"
   ]
  },
  {
   "cell_type": "markdown",
   "id": "df6e7366",
   "metadata": {},
   "source": [
    "**`issubclass()`**"
   ]
  },
  {
   "cell_type": "code",
   "execution_count": 10,
   "id": "8dcfb298",
   "metadata": {},
   "outputs": [
    {
     "name": "stdout",
     "output_type": "stream",
     "text": [
      "True\n",
      "False\n",
      "False\n",
      "False\n"
     ]
    }
   ],
   "source": [
    "class Organization:\n",
    "    def organization_info(self):\n",
    "        return \"Microsoft\"\n",
    "    \n",
    "class Employee(Organization):\n",
    "    def employee_info(self):\n",
    "        #Calling the superclass method\n",
    "        organization_name = super().organization_info()\n",
    "        print('Olalekan Samuel works at', organization_name)\n",
    "        \n",
    "class Person:\n",
    "    def person_info(self):\n",
    "        print('This is inside the Person class')\n",
    "        \n",
    "print(issubclass(Employee, Organization))\n",
    "\n",
    "print(issubclass(Employee, Person))\n",
    "print(issubclass(Person, Employee))\n",
    "print(issubclass(Person, Organization))"
   ]
  },
  {
   "cell_type": "markdown",
   "id": "f65e3fbb",
   "metadata": {},
   "source": [
    "#### Method Overriding\n",
    "\n",
    "In inheritance, all members available in the parent class are by default available in the child class.|"
   ]
  },
  {
   "cell_type": "code",
   "execution_count": 11,
   "id": "e5b21fac",
   "metadata": {},
   "outputs": [
    {
     "name": "stdout",
     "output_type": "stream",
     "text": [
      "The speed is 260 Km/Hour\n"
     ]
    }
   ],
   "source": [
    "class Vehicle:\n",
    "    def maximum_speed(self):\n",
    "        print('The speed is 220 Km/Hour')\n",
    "        \n",
    "class sport_car(Vehicle):\n",
    "    #Override the implementation of the vehicle class\n",
    "    def maximum_speed(self):\n",
    "        print('The speed is 260 Km/Hour')\n",
    "\n",
    "#create an object of the sport car class\n",
    "s_car = sport_car()\n",
    "s_car.maximum_speed()"
   ]
  },
  {
   "cell_type": "markdown",
   "id": "fd675a1f",
   "metadata": {},
   "source": [
    "#### Method Resolution Order in Python\n",
    "\n",
    "In Python, Method Resolution Order(MRO) is the order by which Python looks for a method or attribute."
   ]
  },
  {
   "cell_type": "code",
   "execution_count": 15,
   "id": "77879ee6",
   "metadata": {},
   "outputs": [
    {
     "name": "stdout",
     "output_type": "stream",
     "text": [
      "[<class '__main__.Employee'>, <class '__main__.Person'>, <class '__main__.Organization'>, <class 'object'>]\n"
     ]
    }
   ],
   "source": [
    "#parent class2\n",
    "class Organization:\n",
    "    def organization_info(self, organization_name, address):\n",
    "        print('This is Organization class')\n",
    "        print('Organization Name:', organization_name, 'Address:', address)\n",
    "        \n",
    "#Child Class\n",
    "\n",
    "class Employee(Person, Organization):\n",
    "    def employee_information(self, salary, specialization):\n",
    "        print('This is Employee class')\n",
    "        print('Salary:', salary, 'Specialization:', specialization)\n",
    "        \n",
    "#create an object for the employee class\n",
    "\n",
    "#olalekan = Employee()\n",
    "#olalekan.organization_info('Intelligent System Company', \"Johannesburg South Africa\")\n",
    "print(Employee.mro())"
   ]
  },
  {
   "cell_type": "markdown",
   "id": "b233be92",
   "metadata": {},
   "source": [
    "#### Encapsulation"
   ]
  },
  {
   "cell_type": "markdown",
   "id": "f6b54074",
   "metadata": {},
   "source": [
    "<div>\n",
    "<img src=\"img/Encaps1.png\" width=\"500\">\n",
    "</div>"
   ]
  },
  {
   "cell_type": "markdown",
   "id": "76339d95",
   "metadata": {},
   "source": [
    "#### Access Modifier in Python\n",
    "\n",
    "<div>\n",
    "<img src=\"img/Encaps2.png\" width=\"500\">\n",
    "</div>"
   ]
  },
  {
   "cell_type": "markdown",
   "id": "b7de5697",
   "metadata": {},
   "source": [
    "##### Public Modifier\n",
    "\n",
    "In Public modifier, public data members are accessible within and outside of the class in which it is declared. All member variables of the class are by default made public"
   ]
  },
  {
   "cell_type": "code",
   "execution_count": 18,
   "id": "e231c375",
   "metadata": {},
   "outputs": [
    {
     "name": "stdout",
     "output_type": "stream",
     "text": [
      "Name: Olalekan Samuel Salary: 90000\n",
      "Name: Olalekan Samuel Salary: 90000\n"
     ]
    }
   ],
   "source": [
    "class Staff:\n",
    "    # Your constructor\n",
    "    def __init__(self, name, salary):\n",
    "        #public data members are now created\n",
    "        self.name = name\n",
    "        self.salary = salary\n",
    "        \n",
    "    #Your public instance method\n",
    "    def display(self):\n",
    "        #Accesing the public data member\n",
    "        print('Name:', self.name, 'Salary:', self.salary)\n",
    "olalekan = Staff('Olalekan Samuel', 90000)\n",
    "\n",
    "#accessing the public data members\n",
    "print('Name:', olalekan.name, 'Salary:', olalekan.salary)\n",
    "olalekan.display()"
   ]
  },
  {
   "cell_type": "markdown",
   "id": "24fd08fe",
   "metadata": {},
   "source": [
    "##### Protected Modifier\n",
    "In protected modifier, data members are accessible within the class and also within the subclass of the class where the data members are declared.\n",
    "\n",
    "Basically, protected data members are used in a situation where you are implementing inheritance and you want to allow the data members to access only the child classes."
   ]
  },
  {
   "cell_type": "code",
   "execution_count": 19,
   "id": "32b557e3",
   "metadata": {},
   "outputs": [
    {
     "name": "stdout",
     "output_type": "stream",
     "text": [
      "Employee Name: Omolola Ogunleye\n",
      "Working on the Project: Machine Learning Development\n",
      "Project: Machine Learning Development\n"
     ]
    }
   ],
   "source": [
    "class Organization:\n",
    "    def __init__(self):\n",
    "        #protected member\n",
    "        self._project = \"Machine Learning Development\"\n",
    "        \n",
    "#Child Class\n",
    "class Staff(Organization):\n",
    "    def __init__(self, name):\n",
    "        #protected member\n",
    "        self.name = name\n",
    "        Organization.__init__(self)\n",
    "        \n",
    "    def display(self):\n",
    "        print(\"Employee Name:\", self.name)\n",
    "        #Accessing the protected member in the child class\n",
    "        print(\"Working on the Project:\", self._project)\n",
    "        \n",
    "omolola = Staff(\"Omolola Ogunleye\")\n",
    "omolola.display()\n",
    "\n",
    "#direct access to the protected data member\n",
    "print('Project:', omolola._project)"
   ]
  },
  {
   "cell_type": "markdown",
   "id": "365639d5",
   "metadata": {},
   "source": [
    "#### Private Modifier\n",
    "\n",
    "In private modifier, data members are accessible only within the class where the data members are declared."
   ]
  },
  {
   "cell_type": "code",
   "execution_count": 20,
   "id": "232b6ece",
   "metadata": {},
   "outputs": [
    {
     "ename": "AttributeError",
     "evalue": "'Staff' object has no attribute '__salary'",
     "output_type": "error",
     "traceback": [
      "\u001b[1;31m---------------------------------------------------------------------------\u001b[0m",
      "\u001b[1;31mAttributeError\u001b[0m                            Traceback (most recent call last)",
      "\u001b[1;32m~\\AppData\\Local\\Temp\\ipykernel_13212\\2631032148.py\u001b[0m in \u001b[0;36m<module>\u001b[1;34m\u001b[0m\n\u001b[0;32m     10\u001b[0m \u001b[1;33m\u001b[0m\u001b[0m\n\u001b[0;32m     11\u001b[0m \u001b[1;31m#direct access to the private data member\u001b[0m\u001b[1;33m\u001b[0m\u001b[1;33m\u001b[0m\u001b[0m\n\u001b[1;32m---> 12\u001b[1;33m \u001b[0mprint\u001b[0m\u001b[1;33m(\u001b[0m\u001b[1;34m'Salary:'\u001b[0m\u001b[1;33m,\u001b[0m \u001b[0molubunmi\u001b[0m\u001b[1;33m.\u001b[0m\u001b[0m__salary\u001b[0m\u001b[1;33m)\u001b[0m\u001b[1;33m\u001b[0m\u001b[1;33m\u001b[0m\u001b[0m\n\u001b[0m",
      "\u001b[1;31mAttributeError\u001b[0m: 'Staff' object has no attribute '__salary'"
     ]
    }
   ],
   "source": [
    "class Staff(Organization):\n",
    "    def __init__(self, name, salary):\n",
    "        #public data member\n",
    "        self.name = name\n",
    "        #private data member\n",
    "        self.__salary = salary\n",
    "\n",
    "#create an object of the class\n",
    "olubunmi = Staff(\"Olubunmi Ogunleye\", 90000)\n",
    "\n",
    "#direct access to the private data member\n",
    "print('Salary:', olubunmi.__salary)"
   ]
  },
  {
   "cell_type": "markdown",
   "id": "cbdefbc8",
   "metadata": {},
   "source": [
    "You can access private members from outside the class using either of the following approaches:\n",
    "\n",
    "1. Create public method to access the private data\n",
    "2. Use name mangling"
   ]
  },
  {
   "cell_type": "markdown",
   "id": "3ceb7b39",
   "metadata": {},
   "source": [
    "###### Create public method to access the private data"
   ]
  },
  {
   "cell_type": "code",
   "execution_count": 23,
   "id": "645e3a70",
   "metadata": {},
   "outputs": [
    {
     "name": "stdout",
     "output_type": "stream",
     "text": [
      "Name: Olubunmi Ogunleye Salary 90000\n"
     ]
    }
   ],
   "source": [
    "class Staff():\n",
    "    def __init__(self, name, salary):\n",
    "        #public data member\n",
    "        self.name = name\n",
    "        #private data member\n",
    "        self.__salary = salary\n",
    "    #Create the public method to access the private data    \n",
    "    def display(self):\n",
    "        #private data are accessible from the class\n",
    "        print(\"Name:\", self.name, \"Salary\", self.__salary)\n",
    "\n",
    "#create an object of the class\n",
    "olubunmi = Staff(\"Olubunmi Ogunleye\", 90000)\n",
    "olubunmi.display()"
   ]
  },
  {
   "cell_type": "markdown",
   "id": "5dcaeab3",
   "metadata": {},
   "source": [
    "###### Name Mangling to Access Private Modifier"
   ]
  },
  {
   "cell_type": "code",
   "execution_count": 1,
   "id": "809d78e8",
   "metadata": {
    "scrolled": true
   },
   "outputs": [
    {
     "name": "stdout",
     "output_type": "stream",
     "text": [
      "Name: Olalekan Samuel\n",
      "Salary: 10000\n"
     ]
    }
   ],
   "source": [
    "class Staff:\n",
    "    # constructor\n",
    "    def __init__(self, name, salary):\n",
    "        # public data member\n",
    "        self.name = name\n",
    "        # private member\n",
    "        self.__salary = salary\n",
    "\n",
    "# creating object of a class\n",
    "olalekan = Staff('Olalekan Samuel', 10000)\n",
    "\n",
    "print('Name:', olalekan.name)\n",
    "# direct access to private member using name mangling\n",
    "print('Salary:', olalekan._Staff__salary)"
   ]
  },
  {
   "cell_type": "markdown",
   "id": "9cc16769",
   "metadata": {},
   "source": [
    "#### Getters and Setters in Python\n",
    "\n",
    "Getters and settes allow you to implement proper encapsulation in python.\n",
    "\n",
    "The Getters and Setters are used when you want to:\n",
    "1. Avoid direct access to private members\n",
    "2. Add Validation Logic for setting a value\n",
    "\n",
    "The Getter method is used to access data members, while the Setter method is used to modify the data members"
   ]
  },
  {
   "cell_type": "code",
   "execution_count": 4,
   "id": "e497e65a",
   "metadata": {
    "scrolled": true
   },
   "outputs": [
    {
     "name": "stdout",
     "output_type": "stream",
     "text": [
      "Name: Olalekan Samuel 90000 44\n",
      "Name: Olalekan Samuel 90000 50\n"
     ]
    }
   ],
   "source": [
    "class Employee:\n",
    "    def __init__(self, name, salary, age):\n",
    "        #private member\n",
    "        self.name = name\n",
    "        self.salary = salary\n",
    "        self.__age = age\n",
    "    \n",
    "    #Create the getter Method for age\n",
    "    def get_age(self):\n",
    "        return self.__age\n",
    "    \n",
    "    #Create your setter Method for age\n",
    "    def set_age(self, age):\n",
    "        self.__age = age\n",
    "\n",
    "olalekan = Employee('Olalekan Samuel', 90000, 44)\n",
    "\n",
    "#Retrieve the age using the getter method\n",
    "print('Name:', olalekan.name, olalekan.salary, olalekan.get_age())\n",
    "olalekan.set_age(50)\n",
    "print('Name:', olalekan.name, olalekan.salary, olalekan.get_age())"
   ]
  },
  {
   "cell_type": "code",
   "execution_count": 6,
   "id": "2bf29139",
   "metadata": {},
   "outputs": [
    {
     "name": "stdout",
     "output_type": "stream",
     "text": [
      "Employee Details: Olalekan Samuel 90000\n",
      "This is an invalid Salary. Please enter the correct Salary\n",
      "Employee Details: Olalekan Samuel 90000\n"
     ]
    }
   ],
   "source": [
    "class Employee:\n",
    "    def __init__(self, name, salary, age):\n",
    "        #private member\n",
    "        self.name = name\n",
    "        self.__salary = salary\n",
    "        self.__age = age\n",
    "    \n",
    "    def display(self):\n",
    "        print('Employee Details:', self.name, self.__salary)\n",
    "    \n",
    "    #Create the getter Method for age\n",
    "    def get_salary(self):\n",
    "        return self.__salary\n",
    "    \n",
    "    #Create your setter Method for age\n",
    "    #Condition to allow data modification with rules\n",
    "    def set_salary(self, salary):\n",
    "        if salary > 90000:\n",
    "            print(\"This is an invalid Salary. Please enter the correct Salary\")\n",
    "        else:\n",
    "            self.__salary = salary\n",
    "\n",
    "olalekan = Employee('Olalekan Samuel', 90000, 44)\n",
    "\n",
    "#Before modify\n",
    "olalekan.display()\n",
    "#changing the Salary\n",
    "olalekan.set_salary(100000)\n",
    "olalekan.display()"
   ]
  },
  {
   "cell_type": "markdown",
   "id": "e4d33a77",
   "metadata": {},
   "source": [
    "#### Polymorphism\n",
    "\n",
    "The word polymorphism is composed from the two greek words ‘poly’ and ‘morphs’. ‘Poly’ means many and ‘Morphs’ means forms. In short, polymorphism means having many forms.\n",
    "\n",
    "A real-life example of polymorphism is any person who’s having many different characteristics. Like an employee at office, a husband and a father at home will have different behaviour everywhere.\n",
    "\n",
    "Now coming to the world of programming in Python, Polymorphism refers to a function having the same name but being used in different ways and different scenarios."
   ]
  },
  {
   "cell_type": "markdown",
   "id": "d5ba1969",
   "metadata": {},
   "source": [
    "#### Polymorphism in Built-in function -  `len()` and `reverse()` function"
   ]
  },
  {
   "cell_type": "code",
   "execution_count": 7,
   "id": "f60cb5ae",
   "metadata": {
    "scrolled": false
   },
   "outputs": [
    {
     "name": "stdout",
     "output_type": "stream",
     "text": [
      "7\n",
      "18\n"
     ]
    }
   ],
   "source": [
    "#Using the len() function\n",
    "names = ['Olalekan', 'Oluwaseun', 'Oluwasola', 'Ademola', 'Omolola', 'Oluwabunmi', 'Adeyemi']\n",
    "organization_name = 'Intelligent System'\n",
    "\n",
    "#Calculate the count of the variables\n",
    "print(len(names))\n",
    "print(len(organization_name))"
   ]
  },
  {
   "cell_type": "code",
   "execution_count": 8,
   "id": "b128e06b",
   "metadata": {},
   "outputs": [
    {
     "name": "stdout",
     "output_type": "stream",
     "text": [
      "List Reverse\n",
      "Adeyemi Oluwabunmi Omolola Ademola Oluwasola Oluwaseun Olalekan \n",
      "\n",
      "String Reverse\n",
      "m e t s y S   t n e g i l l e t n I "
     ]
    }
   ],
   "source": [
    "#Using the reverse() function\n",
    "names = ['Olalekan', 'Oluwaseun', 'Oluwasola', 'Ademola', 'Omolola', 'Oluwabunmi', 'Adeyemi']\n",
    "organization_name = 'Intelligent System'\n",
    "\n",
    "print('List Reverse')\n",
    "for words in reversed(names):\n",
    "    print(words, end=' ')\n",
    "\n",
    "print('\\n')\n",
    "print('String Reverse')\n",
    "for letters in reversed(organization_name):\n",
    "    print(letters, end=' ')"
   ]
  },
  {
   "cell_type": "markdown",
   "id": "a88d692c",
   "metadata": {},
   "source": [
    "#### Implementing Polymorphism With Inheritance"
   ]
  },
  {
   "cell_type": "code",
   "execution_count": 9,
   "id": "cb8b07a9",
   "metadata": {},
   "outputs": [
    {
     "name": "stdout",
     "output_type": "stream",
     "text": [
      "Vehicle details: BMW X1 Red 200000\n",
      "The Maximum speed for the vehicle is 240\n",
      "The number of gears for this vehicle is 8\n",
      "Vehicle details: BMW X5 White 170000\n",
      "The Maximum speed for the vehicle is 180\n",
      "The number of gears for this vehicle is 7\n"
     ]
    }
   ],
   "source": [
    "class Vehicle:\n",
    "    \n",
    "    def __init__(self, name, color, price):\n",
    "        self.name = name\n",
    "        self.color = color\n",
    "        self.price = price\n",
    "        \n",
    "    def display(self):\n",
    "        print(\"Vehicle details:\", self.name, self. color, self.price)\n",
    "    \n",
    "    def maximum_speed(self):\n",
    "        print(\"The Maximum speed for the vehicle is 180\")\n",
    "    \n",
    "    def change_gear(self):\n",
    "        print(\"The number of gears for this vehicle is 7\")\n",
    "    \n",
    "#Inherit from the Vehicle class\n",
    "class Car(Vehicle):\n",
    "    \n",
    "    def maximum_speed(self):\n",
    "        print(\"The Maximum speed for the vehicle is 240\")\n",
    "    \n",
    "    def change_gear(self):\n",
    "        print(\"The number of gears for this vehicle is 8\")\n",
    "\n",
    "#Create an object from the car class\n",
    "car = Car('BMW X1', 'Red', 200000)\n",
    "car.display()\n",
    "\n",
    "#Call the Methods from car object\n",
    "car.maximum_speed()\n",
    "car.change_gear()\n",
    "\n",
    "#Create a Vehicle Object\n",
    "vehicle = Vehicle(\"BMW X5\", \"White\", 170000)\n",
    "vehicle.display()\n",
    "\n",
    "#Call the Methods from vehicle object\n",
    "vehicle.maximum_speed()\n",
    "vehicle.change_gear()"
   ]
  },
  {
   "cell_type": "markdown",
   "id": "c57d200f",
   "metadata": {},
   "source": [
    "#### Overrriding Built-in Functions"
   ]
  },
  {
   "cell_type": "code",
   "execution_count": 11,
   "id": "40f061b5",
   "metadata": {},
   "outputs": [
    {
     "name": "stdout",
     "output_type": "stream",
     "text": [
      "Modifying Length\n",
      "8\n"
     ]
    }
   ],
   "source": [
    "#Overriding the Built-in function len()\n",
    "\n",
    "class GroceriesShopping:\n",
    "    \n",
    "    def __init__(self, basket, buyer):\n",
    "        self.basket = basket\n",
    "        self.buyer = buyer\n",
    "        \n",
    "    def __len__(self):\n",
    "        print(\"Modifying Length\")\n",
    "        count = len(self.basket)\n",
    "        #Count the total items in a different way\n",
    "        #pair of shoes and dress\n",
    "        return count * 2\n",
    "    \n",
    "groceryshop = GroceriesShopping(['Shoes', 'dress', 'Pant', 'Jeans'], 'Olalekan Samuel')\n",
    "print(len(groceryshop))"
   ]
  },
  {
   "cell_type": "markdown",
   "id": "18120f03",
   "metadata": {},
   "source": [
    "#### Implementing Polymorphism In Class methods"
   ]
  },
  {
   "cell_type": "code",
   "execution_count": 14,
   "id": "e477faa1",
   "metadata": {},
   "outputs": [
    {
     "name": "stdout",
     "output_type": "stream",
     "text": [
      "This Vehicle is using Petrol\n",
      "The Maximum speed for this Vehicle is 280\n",
      "This Vehicle is using Diesel\n",
      "The Maximum speed for this Vehicle is 340\n"
     ]
    }
   ],
   "source": [
    "class Vehicle:\n",
    "    \n",
    "    def fuel_type(self):\n",
    "        print(\"This Vehicle is using Petrol\")\n",
    "        \n",
    "    def maximum_speed(self):\n",
    "        print('The Maximum speed for this Vehicle is 280')\n",
    "\n",
    "class Mustang:\n",
    "    def fuel_type(self):\n",
    "        print(\"This Vehicle is using Diesel\")\n",
    "        \n",
    "    def maximum_speed(self):\n",
    "        print('The Maximum speed for this Vehicle is 340')\n",
    "        \n",
    "vehicle = Vehicle()\n",
    "mustang = Mustang()\n",
    "\n",
    "#iterate object of the same type\n",
    "for car in (vehicle, mustang):\n",
    "    #call the methods without checking the class of object\n",
    "    car.fuel_type()\n",
    "    car.maximum_speed()"
   ]
  },
  {
   "cell_type": "markdown",
   "id": "565546a5",
   "metadata": {},
   "source": [
    "#### Implementing Polymorphism with Function and Objects"
   ]
  },
  {
   "cell_type": "code",
   "execution_count": 15,
   "id": "7a6ebfae",
   "metadata": {},
   "outputs": [
    {
     "name": "stdout",
     "output_type": "stream",
     "text": [
      "This Vehicle is using Petrol\n",
      "The Maximum speed for this Vehicle is 280\n",
      "This Vehicle is using Diesel\n",
      "The Maximum speed for this Vehicle is 340\n"
     ]
    }
   ],
   "source": [
    "class Vehicle:\n",
    "    \n",
    "    def fuel_type(self):\n",
    "        print(\"This Vehicle is using Petrol\")\n",
    "        \n",
    "    def maximum_speed(self):\n",
    "        print('The Maximum speed for this Vehicle is 280')\n",
    "\n",
    "class Mustang:\n",
    "    def fuel_type(self):\n",
    "        print(\"This Vehicle is using Diesel\")\n",
    "        \n",
    "    def maximum_speed(self):\n",
    "        print('The Maximum speed for this Vehicle is 340')\n",
    "\n",
    "#This is a normal function\n",
    "def car_details(obj):\n",
    "    obj.fuel_type()\n",
    "    obj.maximum_speed()\n",
    "    \n",
    "vehicle = Vehicle()\n",
    "mustang = Mustang()\n",
    "\n",
    "car_details(vehicle)\n",
    "car_details(mustang)"
   ]
  },
  {
   "cell_type": "markdown",
   "id": "6608ce59",
   "metadata": {},
   "source": [
    "#### Method Overloading"
   ]
  },
  {
   "cell_type": "code",
   "execution_count": 17,
   "id": "abb81510",
   "metadata": {},
   "outputs": [
    {
     "name": "stdout",
     "output_type": "stream",
     "text": [
      "110\n"
     ]
    }
   ],
   "source": [
    "def addition(x, y):\n",
    "    z = x + y\n",
    "    print(z)\n",
    "    \n",
    "def addition(x, y, z):\n",
    "    k = x + y +z\n",
    "    print(k)\n",
    "    \n",
    "#addition(10, 30)\n",
    "addition(19, 67, 24)"
   ]
  },
  {
   "cell_type": "code",
   "execution_count": 18,
   "id": "e373a31f",
   "metadata": {},
   "outputs": [
    {
     "name": "stdout",
     "output_type": "stream",
     "text": [
      "0 1 2 3 4 5 6 \n",
      "7 8 9 10 11 12 13 14 15 16 17 18 19 \n",
      "7 9 11 13 15 17 19 "
     ]
    }
   ],
   "source": [
    "for i in range(7):\n",
    "    print(i, end = ' ')\n",
    "print()\n",
    "\n",
    "for i in range(7, 20):\n",
    "    print(i, end = ' ')\n",
    "\n",
    "print()\n",
    "for i in range(7, 20, 2):\n",
    "    print(i, end = ' ')"
   ]
  },
  {
   "cell_type": "code",
   "execution_count": 26,
   "id": "921e00c7",
   "metadata": {},
   "outputs": [
    {
     "name": "stdout",
     "output_type": "stream",
     "text": [
      "Area of the Square is 1\n",
      "Area of the rectangle is 15\n"
     ]
    }
   ],
   "source": [
    "class AreaofShape:\n",
    "    \n",
    "    #define a function with two defauls parameters\n",
    "    def area(self, x, y=0):\n",
    "        if y > 0:\n",
    "            print(\"Area of the rectangle is\", x * y)\n",
    "        else:\n",
    "            print(\"Area of the Square is\", x ** y)\n",
    "            \n",
    "squareshape = AreaofShape()\n",
    "squareshape.area(500)\n",
    "\n",
    "rectangleshape = AreaofShape()\n",
    "rectangleshape.area(5, 3)"
   ]
  },
  {
   "cell_type": "markdown",
   "id": "0398d38a",
   "metadata": {},
   "source": [
    "#### Operator Overloading in Python"
   ]
  },
  {
   "cell_type": "code",
   "execution_count": 2,
   "id": "b49e8d88",
   "metadata": {},
   "outputs": [
    {
     "name": "stdout",
     "output_type": "stream",
     "text": [
      "300\n",
      "OlalekanSamuel\n",
      "[10, 40, 50, 30, 70, 'Olalekan', 'Samuel', 'Ogunleye']\n"
     ]
    }
   ],
   "source": [
    "#add 2 numbers\n",
    "print(100 + 200)\n",
    "\n",
    "#Concatenate two strings\n",
    "print(\"Olalekan\" + \"Samuel\")\n",
    "\n",
    "#Merge two Lists\n",
    "print([10, 40, 50, 30, 70] + [\"Olalekan\", \"Samuel\", \"Ogunleye\"])"
   ]
  },
  {
   "cell_type": "markdown",
   "id": "d5911c91",
   "metadata": {},
   "source": [
    "##### Overloading **`+`** operator for custom objects"
   ]
  },
  {
   "cell_type": "code",
   "execution_count": 3,
   "id": "aae1aa63",
   "metadata": {
    "scrolled": true
   },
   "outputs": [
    {
     "ename": "TypeError",
     "evalue": "unsupported operand type(s) for +: 'Employee' and 'Employee'",
     "output_type": "error",
     "traceback": [
      "\u001b[1;31m---------------------------------------------------------------------------\u001b[0m",
      "\u001b[1;31mTypeError\u001b[0m                                 Traceback (most recent call last)",
      "\u001b[1;32m~\\AppData\\Local\\Temp\\ipykernel_376\\126485633.py\u001b[0m in \u001b[0;36m<module>\u001b[1;34m\u001b[0m\n\u001b[0;32m      8\u001b[0m \u001b[1;33m\u001b[0m\u001b[0m\n\u001b[0;32m      9\u001b[0m \u001b[1;31m#add the two objects together\u001b[0m\u001b[1;33m\u001b[0m\u001b[1;33m\u001b[0m\u001b[0m\n\u001b[1;32m---> 10\u001b[1;33m \u001b[0mprint\u001b[0m\u001b[1;33m(\u001b[0m\u001b[0memployee1\u001b[0m \u001b[1;33m+\u001b[0m \u001b[0memployee2\u001b[0m\u001b[1;33m)\u001b[0m\u001b[1;33m\u001b[0m\u001b[1;33m\u001b[0m\u001b[0m\n\u001b[0m",
      "\u001b[1;31mTypeError\u001b[0m: unsupported operand type(s) for +: 'Employee' and 'Employee'"
     ]
    }
   ],
   "source": [
    "class Employee:\n",
    "    def __init__(self, salary):\n",
    "        self.salary = salary\n",
    "        \n",
    "#create two objects from Employee class\n",
    "employee1 = Employee(75000)\n",
    "employee2 = Employee(85000)\n",
    "\n",
    "#add the two objects together\n",
    "print(employee1 + employee2)"
   ]
  },
  {
   "cell_type": "code",
   "execution_count": 5,
   "id": "2fa06a8a",
   "metadata": {},
   "outputs": [
    {
     "name": "stdout",
     "output_type": "stream",
     "text": [
      "The addition of the salaries of Employee1 and Employee2 is: 160000\n"
     ]
    }
   ],
   "source": [
    "class Employee:\n",
    "    def __init__(self, salary):\n",
    "        self.salary = salary\n",
    "    #Overloading the + operator with the magic method\n",
    "    def __add__(self, other):\n",
    "        return self.salary + other.salary\n",
    "#create two objects from Employee class\n",
    "employee1 = Employee(75000)\n",
    "employee2 = Employee(85000)\n",
    "\n",
    "#add the two objects together\n",
    "print(\"The addition of the salaries of Employee1 and Employee2 is:\", employee1 + employee2)"
   ]
  },
  {
   "cell_type": "markdown",
   "id": "ad63fc5d",
   "metadata": {},
   "source": [
    "##### Overloading **`*`** operator for custom objects"
   ]
  },
  {
   "cell_type": "code",
   "execution_count": 9,
   "id": "6cc821cb",
   "metadata": {},
   "outputs": [
    {
     "name": "stdout",
     "output_type": "stream",
     "text": [
      "Worked for: 30 days\n",
      "Salary is: 240000\n"
     ]
    }
   ],
   "source": [
    "class Employee:\n",
    "    def __init__(self, name, salary):\n",
    "        self.name = name\n",
    "        self.salary = salary\n",
    "        \n",
    "    #Overloading the + operator with the magic method\n",
    "    def __mul__(self, timesheet):\n",
    "        print(\"Worked for:\", timesheet.days, 'days')\n",
    "        return self.salary * timesheet.days\n",
    "\n",
    "class Timesheet:\n",
    "    def __init__(self, name, days):\n",
    "        self.name = name\n",
    "        self.days = days\n",
    "\n",
    "employee3 = Employee(\"Olalekan Samuel\", 8000)\n",
    "timesheet = Timesheet(\"Olalekan Samuel\", 30)\n",
    "print(\"Salary is:\", employee3 * timesheet)"
   ]
  },
  {
   "cell_type": "markdown",
   "id": "f040edbf",
   "metadata": {},
   "source": [
    "#### Magic Methods\n",
    "\n",
    "In Python, there are different magic methods available to perform overloading operations. The below table shows the magic methods names to overload the mathematical operator, assignment operator, and relational operators in Python.\n",
    "\n",
    "**List of Magic Methods**\n",
    "\n",
    "| Operator Name|Symbol|Magic Methods |\n",
    "|:----| :--- |    |\n",
    "| **`Addition`** | **`+`** | \\__add__(self, other) |\n",
    "| **`Subtraction`** | **`-`**| \\__sub__(self, other)|\n",
    "| **`Multiplication`** | **`-`** | \\__mul__(self, other) |\n",
    "| **`Division`** | **`/`** | \\__div__(self, other)|\n",
    "| **`Floor Division `** | **`//`** | \\__floordiv__(self,other)|\n",
    "| **`Modulus`** | **`%`** | \\__mod__(self, other) |\n",
    "| **`Power`** | **`**`**| \\__pow__(self, other)|\n",
    "| **`Increment`** | **`+=`** | \\__iadd__(self, other) |\n",
    "| **`Decrement`** | **`-=`** | \\__isub__(self, other)|\n",
    "| **`Product`** | **`*=`** | \\__imul__(self, other) |\n",
    "| **`Division`** | **`/+`**| \\__idiv__(self, other)|\n",
    "| **`Modulus`** | **`%=`** | \\__imod__(self, other) |\n",
    "| **`Power`** | **`**=`** | \\__ipow__(self, other)|\n",
    "| **`Less than`** | **`<`** | \\__lt__(self, other) |\n",
    "| **`Greater Than`** | **`>`**| \\__gt__(self, other)|\n",
    "| **`Less than or equal to`** | **`<=`** | \\__le__(self, other) |\n",
    "| **`Greater than or equal to`** | **`>=`** | \\__ge__(self, other)|\n",
    "| **`Equal to`** | **`+`** | \\__eq__(self, other) |\n",
    "| **`Not equal`** | **`!=`** | \\__ne__(self, other) |"
   ]
  },
  {
   "cell_type": "markdown",
   "id": "c53057e3",
   "metadata": {},
   "source": [
    "### Abstraction in Python\n",
    "Abstraction focuses on hiding the internal implementations of a process or method from the user."
   ]
  },
  {
   "cell_type": "code",
   "execution_count": 13,
   "id": "fe3d5755",
   "metadata": {},
   "outputs": [],
   "source": [
    "from abc import ABC, abstractclassmethod\n",
    "class abstractclass(ABC):\n",
    "    #abstract methods\n",
    "    pass"
   ]
  },
  {
   "cell_type": "code",
   "execution_count": 14,
   "id": "3999fbed",
   "metadata": {},
   "outputs": [],
   "source": [
    "class Abstract_class(ABC):\n",
    "    #normal method\n",
    "    pass\n",
    "    def method(self):\n",
    "        #Method Definition\n",
    "        pass\n",
    "    @abstractclassmethod\n",
    "    def abstract_method(self):\n",
    "        pass"
   ]
  },
  {
   "cell_type": "code",
   "execution_count": 15,
   "id": "5914458e",
   "metadata": {},
   "outputs": [
    {
     "name": "stdout",
     "output_type": "stream",
     "text": [
      "We are now inside the Test Class Task\n",
      "Passed Value:  200\n",
      "We are now inside the Example Class Task\n",
      "Passed Value:  400\n"
     ]
    }
   ],
   "source": [
    "from abc import ABC, abstractclassmethod\n",
    "class AbstractClass(ABC):\n",
    "    def print(self, a):\n",
    "        print('Passed Value: ', a)\n",
    "    \n",
    "    @abstractclassmethod\n",
    "    def task(self):\n",
    "        print('We are now inside the Abstract Task')\n",
    "        \n",
    "class Test_class(AbstractClass):\n",
    "    \n",
    "    def task(self):\n",
    "        print('We are now inside the Test Class Task')\n",
    "        \n",
    "class Example_class(AbstractClass):\n",
    "    \n",
    "    def task(self):\n",
    "        print('We are now inside the Example Class Task')\n",
    "\n",
    "#Create object from test class\n",
    "testclass = Test_class()\n",
    "testclass.task()\n",
    "testclass.print(200)\n",
    "\n",
    "#Create object from example class\n",
    "exclass = Example_class()\n",
    "exclass.task()\n",
    "exclass.print(400)"
   ]
  },
  {
   "cell_type": "markdown",
   "id": "693b97fc",
   "metadata": {},
   "source": [
    "### Python Decorators\n",
    "\n",
    "A decorator is a function that takes another function as its arguments and returns yet another function. Decorator allows you to extend a function, without moifying the original code of the function"
   ]
  },
  {
   "cell_type": "code",
   "execution_count": 16,
   "id": "122511de",
   "metadata": {},
   "outputs": [
    {
     "name": "stdout",
     "output_type": "stream",
     "text": [
      "90\n"
     ]
    }
   ],
   "source": [
    "def addition (x, y):\n",
    "    return x + y\n",
    "print(addition(50, 40))"
   ]
  },
  {
   "cell_type": "code",
   "execution_count": 17,
   "id": "eca2b5dd",
   "metadata": {},
   "outputs": [
    {
     "name": "stdout",
     "output_type": "stream",
     "text": [
      "[7, 20, 11, 10, 17]\n"
     ]
    }
   ],
   "source": [
    "#Extend the function of the addition fucntion with decorator\n",
    "\n",
    "def list_decorator(extended):\n",
    "    \n",
    "    def listdecoratorinner(list_of_value_in_tuple):\n",
    "        return[extended(val[0], val[1]) for val in list_of_value_in_tuple]\n",
    "    return listdecoratorinner\n",
    "\n",
    "@list_decorator\n",
    "def addition(a, b):\n",
    "    return a + b\n",
    "\n",
    "print(addition([(2, 5), (3, 17), (5, 6), (6, 4), (9, 8)]))"
   ]
  },
  {
   "cell_type": "markdown",
   "id": "043bb06b",
   "metadata": {},
   "source": [
    "#### Decorators that can take arguments themselves"
   ]
  },
  {
   "cell_type": "code",
   "execution_count": 20,
   "id": "9d909c45",
   "metadata": {},
   "outputs": [
    {
     "name": "stdout",
     "output_type": "stream",
     "text": [
      "[2401, 160000, 14641, 10000, 83521]\n"
     ]
    }
   ],
   "source": [
    "def power_decorator(power):\n",
    "    def list_decorator(extended):\n",
    "        def listdecoratorinner(list_of_value_in_tuple):\n",
    "            return[extended(val[0], val[1]) ** power for val in list_of_value_in_tuple]\n",
    "        return listdecoratorinner\n",
    "    return list_decorator\n",
    "\n",
    "@power_decorator(4)\n",
    "def addition(a, b):\n",
    "    return a + b\n",
    "\n",
    "print(addition([(2, 5), (3, 17), (5, 6), (6, 4), (9, 8)]))"
   ]
  },
  {
   "cell_type": "code",
   "execution_count": 21,
   "id": "2cd3c5f4",
   "metadata": {},
   "outputs": [
    {
     "name": "stdout",
     "output_type": "stream",
     "text": [
      "[49, 400, 121, 100, 289]\n"
     ]
    }
   ],
   "source": [
    "def power_decorator(power):\n",
    "    def list_decorator(extended):\n",
    "        def listdecoratorinner(list_of_value_in_tuple):\n",
    "            return[extended(val[0], val[1]) ** power for val in list_of_value_in_tuple]\n",
    "        return listdecoratorinner\n",
    "    return list_decorator\n",
    "\n",
    "@power_decorator(2)\n",
    "def addition(a, b):\n",
    "    return a + b\n",
    "\n",
    "print(addition([(2, 5), (3, 17), (5, 6), (6, 4), (9, 8)]))"
   ]
  },
  {
   "cell_type": "markdown",
   "id": "378999bb",
   "metadata": {},
   "source": [
    "#### Default Argument in Decorator"
   ]
  },
  {
   "cell_type": "code",
   "execution_count": 22,
   "id": "51013f3a",
   "metadata": {},
   "outputs": [
    {
     "name": "stdout",
     "output_type": "stream",
     "text": [
      "[343, 8000, 1331, 1000, 4913]\n"
     ]
    }
   ],
   "source": [
    "def power_decorator(arg):\n",
    "    def list_decorator(extended):\n",
    "        def listdecoratorinner(list_of_value_in_tuple):\n",
    "            return[extended(val[0], val[1]) ** power for val in list_of_value_in_tuple]\n",
    "        return listdecoratorinner\n",
    "    if callable(arg):\n",
    "        power = 3\n",
    "        return list_decorator(arg)\n",
    "    else:\n",
    "        power = arg\n",
    "        list_decorator\n",
    "        \n",
    "@power_decorator\n",
    "def addition(a, b):\n",
    "    return a + b\n",
    "\n",
    "print(addition([(2, 5), (3, 17), (5, 6), (6, 4), (9, 8)]))"
   ]
  },
  {
   "cell_type": "code",
   "execution_count": null,
   "id": "d3d42b88",
   "metadata": {},
   "outputs": [],
   "source": []
  }
 ],
 "metadata": {
  "kernelspec": {
   "display_name": "Python 3 (ipykernel)",
   "language": "python",
   "name": "python3"
  },
  "language_info": {
   "codemirror_mode": {
    "name": "ipython",
    "version": 3
   },
   "file_extension": ".py",
   "mimetype": "text/x-python",
   "name": "python",
   "nbconvert_exporter": "python",
   "pygments_lexer": "ipython3",
   "version": "3.9.13"
  }
 },
 "nbformat": 4,
 "nbformat_minor": 5
}
