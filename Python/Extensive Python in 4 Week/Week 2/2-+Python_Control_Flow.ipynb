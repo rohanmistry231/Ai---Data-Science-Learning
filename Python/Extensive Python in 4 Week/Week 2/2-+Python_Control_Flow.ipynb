{
 "cells": [
  {
   "cell_type": "markdown",
   "id": "0403c2ca",
   "metadata": {},
   "source": [
    "### Control Flow:\n",
    "\n",
    "It is divided into 3 Categories:\n",
    "1. Conditional Statements\n",
    "    - if\n",
    "    - if-else\n",
    "    - if-elif-else\n",
    "    - nested-if\n",
    "2. Iterative Statements\n",
    "    - for loop\n",
    "    - while loop\n",
    "3. Transfer/Control Statements\n",
    "    - break statements\n",
    "    - continue statements\n",
    "    - pass statements"
   ]
  },
  {
   "cell_type": "markdown",
   "id": "fd357c1f",
   "metadata": {},
   "source": [
    "### Python `if` Statement\n",
    "\n",
    "#### Syntax:\n",
    "\n",
    "    if (condition):\n",
    "        statement 1\n",
    "        statement 2\n",
    "        ...\n",
    "        statement n\n",
    "None and 0 are interpreted as false by Python"
   ]
  },
  {
   "cell_type": "code",
   "execution_count": 3,
   "id": "f58c6cc0",
   "metadata": {},
   "outputs": [
    {
     "name": "stdout",
     "output_type": "stream",
     "text": [
      "You have passed with distinction\n"
     ]
    }
   ],
   "source": [
    "grade = 80\n",
    "if (grade >= 75):\n",
    "    print(\"You have passed with distinction\")"
   ]
  },
  {
   "cell_type": "code",
   "execution_count": 6,
   "id": "c8e42497",
   "metadata": {},
   "outputs": [
    {
     "name": "stdout",
     "output_type": "stream",
     "text": [
      "4 is a positive number\n"
     ]
    }
   ],
   "source": [
    "#Check if the number is positive or negative and print the appropriate number\n",
    "num = 4 #the test expression\n",
    "if (num > 0):\n",
    "    print(num, \"is a positive number\")\n",
    "    \n",
    "num1 = -1\n",
    "if (num1 > 0):\n",
    "    print(num1, \"is a negative number\")"
   ]
  },
  {
   "cell_type": "code",
   "execution_count": 7,
   "id": "56fa6aed",
   "metadata": {},
   "outputs": [
    {
     "name": "stdout",
     "output_type": "stream",
     "text": [
      "100\n"
     ]
    }
   ],
   "source": [
    "#Calculate the square of a number if it is greater than 5\n",
    "\n",
    "number = 10\n",
    "if (number > 5):\n",
    "    #Calculate the square\n",
    "    print(number * number)"
   ]
  },
  {
   "cell_type": "code",
   "execution_count": 9,
   "id": "d84c850c",
   "metadata": {},
   "outputs": [
    {
     "name": "stdout",
     "output_type": "stream",
     "text": [
      "Number 1 is less than number 2\n"
     ]
    }
   ],
   "source": [
    "#check is number1 is less than number 2\n",
    "\n",
    "number1, number2 = 7, 12\n",
    "\n",
    "if (number1 < number2):\n",
    "    print(\"Number 1 is less than number 2\")"
   ]
  },
  {
   "cell_type": "markdown",
   "id": "84acd50b",
   "metadata": {},
   "source": [
    "### Shortcut for `if` statement "
   ]
  },
  {
   "cell_type": "code",
   "execution_count": 10,
   "id": "c55105a5",
   "metadata": {},
   "outputs": [
    {
     "name": "stdout",
     "output_type": "stream",
     "text": [
      "Number 1 is less than number 2\n"
     ]
    }
   ],
   "source": [
    "number1, number2 = 7, 12\n",
    "\n",
    "if (number1 < number2): print(\"Number 1 is less than number 2\")"
   ]
  },
  {
   "cell_type": "code",
   "execution_count": 11,
   "id": "d166d3f9",
   "metadata": {},
   "outputs": [
    {
     "name": "stdout",
     "output_type": "stream",
     "text": [
      "Number 1 is less than number 2\n"
     ]
    }
   ],
   "source": [
    "number1, number2 = 7, 12\n",
    "\n",
    "if (number1 < number2):\n",
    "    print(\"Number 1 is less than number 2\")"
   ]
  },
  {
   "cell_type": "markdown",
   "id": "6e6595e5",
   "metadata": {},
   "source": [
    "### Python `if-else` statement"
   ]
  },
  {
   "cell_type": "code",
   "execution_count": 12,
   "id": "b8ae9139",
   "metadata": {},
   "outputs": [],
   "source": [
    "x = 5\n",
    "\n",
    "if (x < 4):\n",
    "    print(\"The value of x is less than 4\")\n",
    "    \n",
    "if (x <= 4):\n",
    "    print(\"The value of x is the same or lesser than 4\")"
   ]
  },
  {
   "cell_type": "markdown",
   "id": "98480a4f",
   "metadata": {},
   "source": [
    "Syntax for `if-else` Statment\n",
    "``` python\n",
    "    if (condition):\n",
    "        statement 1\n",
    "    else:\n",
    "        statement 2\n",
    "```"
   ]
  },
  {
   "cell_type": "code",
   "execution_count": 14,
   "id": "da33b0a9",
   "metadata": {},
   "outputs": [
    {
     "name": "stdout",
     "output_type": "stream",
     "text": [
      "Sorry, you have failed\n"
     ]
    }
   ],
   "source": [
    "grade = 70\n",
    "\n",
    "if grade >= 75:\n",
    "    print(\"Well done you have passed with distinction\")\n",
    "    \n",
    "else:\n",
    "    print(\"Sorry, you have failed\")"
   ]
  },
  {
   "cell_type": "code",
   "execution_count": 15,
   "id": "02caa612",
   "metadata": {},
   "outputs": [
    {
     "name": "stdout",
     "output_type": "stream",
     "text": [
      "The number is positive\n"
     ]
    }
   ],
   "source": [
    "num = 4\n",
    "\n",
    "if num >= 0:\n",
    "    print(\"The number is positive\")\n",
    "    \n",
    "else:\n",
    "    print(\"The number is negative\")"
   ]
  },
  {
   "cell_type": "code",
   "execution_count": 17,
   "id": "ab522a32",
   "metadata": {},
   "outputs": [
    {
     "name": "stdout",
     "output_type": "stream",
     "text": [
      "The number is negative\n"
     ]
    }
   ],
   "source": [
    "num = -4\n",
    "\n",
    "if num >= 0:\n",
    "    print(\"The number is positive\")\n",
    "    \n",
    "else:\n",
    "    print(\"The number is negative\")"
   ]
  },
  {
   "cell_type": "code",
   "execution_count": 18,
   "id": "bf78c30a",
   "metadata": {},
   "outputs": [
    {
     "name": "stdout",
     "output_type": "stream",
     "text": [
      "Number1 is less than number2\n"
     ]
    }
   ],
   "source": [
    "number1, number2 = 7, 12\n",
    "\n",
    "if (number1 < number2):\n",
    "    print(\"Number1 is less than number2\")\n",
    "    \n",
    "else:\n",
    "    print(\"number1 is greater than number2\")"
   ]
  },
  {
   "cell_type": "code",
   "execution_count": 19,
   "id": "4b7d958f",
   "metadata": {},
   "outputs": [
    {
     "name": "stdout",
     "output_type": "stream",
     "text": [
      "number1 is greater than number2\n"
     ]
    }
   ],
   "source": [
    "number1, number2 = 15, 12\n",
    "\n",
    "if (number1 < number2):\n",
    "    print(\"Number1 is less than number2\")\n",
    "    \n",
    "else:\n",
    "    print(\"number1 is greater than number2\")"
   ]
  },
  {
   "cell_type": "markdown",
   "id": "620f617c",
   "metadata": {},
   "source": [
    "Shortcut of `if-else` statement"
   ]
  },
  {
   "cell_type": "code",
   "execution_count": 20,
   "id": "05d2af65",
   "metadata": {},
   "outputs": [
    {
     "name": "stdout",
     "output_type": "stream",
     "text": [
      "Give me water!\n"
     ]
    }
   ],
   "source": [
    "thirsty = True\n",
    "\n",
    "y = 'Give me water!' if thirsty else 'Do not bring the water'\n",
    "\n",
    "print(y)"
   ]
  },
  {
   "cell_type": "markdown",
   "id": "3fa01acf",
   "metadata": {},
   "source": [
    "### Python `if-elif-else` statement\n",
    "\n",
    "#### Syntax:\n",
    "```python\n",
    "    if condition-1:\n",
    "        statement-1\n",
    "        \n",
    "    elif condition-2:\n",
    "        statement-2\n",
    "        \n",
    "    elif condition-3:\n",
    "        statement-3\n",
    "        \n",
    "        ....\n",
    "    else:\n",
    "        statement\n",
    "```"
   ]
  },
  {
   "cell_type": "code",
   "execution_count": 21,
   "id": "7ae5a552",
   "metadata": {},
   "outputs": [
    {
     "name": "stdout",
     "output_type": "stream",
     "text": [
      "This is a positive number\n"
     ]
    }
   ],
   "source": [
    "num = 3\n",
    "\n",
    "#Lets also try these two variations as well\n",
    "\n",
    "#num = 1\n",
    "#num = - 6.5\n",
    "\n",
    "if num > 0:\n",
    "    print(\"This is a positive number\")\n",
    "elif num == 0:\n",
    "    print(\"The number is zero\")\n",
    "\n",
    "else:\n",
    "    print(\"This is a negative number\")"
   ]
  },
  {
   "cell_type": "code",
   "execution_count": 22,
   "id": "1ca6bd92",
   "metadata": {},
   "outputs": [
    {
     "name": "stdout",
     "output_type": "stream",
     "text": [
      "This is a negative number\n"
     ]
    }
   ],
   "source": [
    "num = -6.5\n",
    "\n",
    "#Lets also try these two variations as well\n",
    "\n",
    "#num = 1\n",
    "#num = - 6.5\n",
    "\n",
    "if num > 0:\n",
    "    print(\"This is a positive number\")\n",
    "elif num == 0:\n",
    "    print(\"The number is zero\")\n",
    "else:\n",
    "    print(\"This is a negative number\")"
   ]
  },
  {
   "cell_type": "code",
   "execution_count": 23,
   "id": "4d3ddda6",
   "metadata": {},
   "outputs": [
    {
     "name": "stdout",
     "output_type": "stream",
     "text": [
      "number1 is the same as number 2\n"
     ]
    }
   ],
   "source": [
    "number1, number2 = 10, 10\n",
    "\n",
    "if(number1 > number2):\n",
    "    print(\"number1 is greater than number2\")\n",
    "elif(number1 == number2):\n",
    "    print(\"number1 is the same as number 2\")\n",
    "else:\n",
    "    print(\"Number1 is less than number2\")"
   ]
  },
  {
   "cell_type": "code",
   "execution_count": 24,
   "id": "fc9d9987",
   "metadata": {},
   "outputs": [
    {
     "name": "stdout",
     "output_type": "stream",
     "text": [
      "number1 is greater than number2\n"
     ]
    }
   ],
   "source": [
    "number1, number2 = 10, 5\n",
    "\n",
    "if(number1 > number2):\n",
    "    print(\"number1 is greater than number2\")\n",
    "elif(number1 == number2):\n",
    "    print(\"number1 is the same as number 2\")\n",
    "else:\n",
    "    print(\"Number1 is less than number2\")"
   ]
  },
  {
   "cell_type": "code",
   "execution_count": 25,
   "id": "d125d009",
   "metadata": {},
   "outputs": [
    {
     "name": "stdout",
     "output_type": "stream",
     "text": [
      "X is less than Y\n"
     ]
    }
   ],
   "source": [
    "x = 20\n",
    "y = 32\n",
    "\n",
    "if x > y:\n",
    "    print(\"X is greater than Y\")\n",
    "elif x < y:\n",
    "    print(\"X is less than Y\")\n",
    "else:\n",
    "    print(\"X is the same as Y\")"
   ]
  },
  {
   "cell_type": "code",
   "execution_count": 26,
   "id": "7ef73c67",
   "metadata": {},
   "outputs": [
    {
     "name": "stdout",
     "output_type": "stream",
     "text": [
      "The Grade is A - Excellent Result\n"
     ]
    }
   ],
   "source": [
    "grade = 95\n",
    "\n",
    "if grade >= 90:\n",
    "    print(\"The Grade is A - Excellent Result\")\n",
    "elif grade >= 85:\n",
    "    print(\"The Grade is B - Good Result\")\n",
    "elif grade >= 75:\n",
    "    print(\"The Grade is C - Fair Result\")\n",
    "elif grade >= 65:\n",
    "    print(\"The Grade is D - You can do better\")\n",
    "elif grade >= 55:\n",
    "    print(\"The Grade is E - Not good Result\")\n",
    "else:\n",
    "    print(\"This is a failing grade\")"
   ]
  },
  {
   "cell_type": "code",
   "execution_count": 30,
   "id": "ad32c974",
   "metadata": {},
   "outputs": [
    {
     "name": "stdout",
     "output_type": "stream",
     "text": [
      "The Grade is D - You can do better\n"
     ]
    }
   ],
   "source": [
    "grade = 68\n",
    "\n",
    "if grade >= 90:\n",
    "    print(\"The Grade is A - Excellent Result\")\n",
    "elif grade >= 85:\n",
    "    print(\"The Grade is B - Good Result\")\n",
    "elif grade >= 75:\n",
    "    print(\"The Grade is C - Fair Result\")\n",
    "elif grade >= 65:\n",
    "    print(\"The Grade is D - You can do better\")\n",
    "elif grade >= 55:\n",
    "    print(\"The Grade is E - Not good Result\")\n",
    "else:\n",
    "    print(\"This is a failing grade\")"
   ]
  },
  {
   "cell_type": "markdown",
   "id": "4265f6c3",
   "metadata": {},
   "source": [
    "### `if-elif-else` Statement with `and` Logical Operator\n",
    "\n",
    "##### Syntax\n",
    "\n",
    "``` python\n",
    "if condition and condition:\n",
    "    \n",
    "```"
   ]
  },
  {
   "cell_type": "code",
   "execution_count": 31,
   "id": "417325c6",
   "metadata": {},
   "outputs": [
    {
     "name": "stdout",
     "output_type": "stream",
     "text": [
      "X is zero\n"
     ]
    }
   ],
   "source": [
    "x = 0\n",
    "\n",
    "if x > 0 and x % 2 == 0:\n",
    "    print(\"X is an even number and positive number\")\n",
    "elif x > 0 and x % 2 != 0:\n",
    "    print(\"X is a positive integer number alone\")\n",
    "elif x == 0:\n",
    "    print(\"X is zero\")\n",
    "else:\n",
    "    print(\"X is a negative number\")"
   ]
  },
  {
   "cell_type": "code",
   "execution_count": 32,
   "id": "d385cd1b",
   "metadata": {},
   "outputs": [
    {
     "name": "stdout",
     "output_type": "stream",
     "text": [
      "X is a positive integer number alone\n"
     ]
    }
   ],
   "source": [
    "x = 5\n",
    "\n",
    "if x > 0 and x % 2 == 0:\n",
    "    print(\"X is an even number and positive number\")\n",
    "elif x > 0 and x % 2 != 0:\n",
    "    print(\"X is a positive integer number alone\")\n",
    "elif x == 0:\n",
    "    print(\"X is zero\")\n",
    "else:\n",
    "    print(\"X is a negative number\")"
   ]
  },
  {
   "cell_type": "markdown",
   "id": "e4e5d531",
   "metadata": {},
   "source": [
    "### `if-elif-else` Statement with `or` Logical Operator\n",
    "\n",
    "#### Syntax\n",
    "if condition or condition:|"
   ]
  },
  {
   "cell_type": "code",
   "execution_count": 33,
   "id": "88716de9",
   "metadata": {},
   "outputs": [
    {
     "name": "stdout",
     "output_type": "stream",
     "text": [
      "Access Granted\n"
     ]
    }
   ],
   "source": [
    "username = \"olalekan\"\n",
    "accessLevel = 4\n",
    "\n",
    "if username == \"Logan\" or accessLevel >= 5:\n",
    "    print(\"Access Denied\")\n",
    "elif (username == \"olalekan\" or accessLevel <= 4):\n",
    "    print(\"Access Granted\")\n",
    "else:\n",
    "    print(\"You are not permitted to access this\")"
   ]
  },
  {
   "cell_type": "code",
   "execution_count": 34,
   "id": "38785888",
   "metadata": {},
   "outputs": [
    {
     "name": "stdout",
     "output_type": "stream",
     "text": [
      "Access Denied\n"
     ]
    }
   ],
   "source": [
    "username = \"Logan\"\n",
    "accessLevel = 4\n",
    "\n",
    "if username == \"Logan\" or accessLevel >= 5:\n",
    "    print(\"Access Denied\")\n",
    "elif (username == \"olalekan\" or accessLevel <= 4):\n",
    "    print(\"Access Granted\")\n",
    "else:\n",
    "    print(\"You are not permitted to access this\")"
   ]
  },
  {
   "cell_type": "code",
   "execution_count": 35,
   "id": "76771aa3",
   "metadata": {},
   "outputs": [
    {
     "name": "stdout",
     "output_type": "stream",
     "text": [
      "Access Granted\n"
     ]
    }
   ],
   "source": [
    "username = \"ademola\"\n",
    "accessLevel = 4\n",
    "\n",
    "if username == \"Logan\" or accessLevel >= 5:\n",
    "    print(\"Access Denied\")\n",
    "elif (username == \"olalekan\" or accessLevel <= 4):\n",
    "    print(\"Access Granted\")\n",
    "else:\n",
    "    print(\"You are not permitted to access this\")"
   ]
  },
  {
   "cell_type": "markdown",
   "id": "4d652317",
   "metadata": {},
   "source": [
    "### Python Nested `if` Statement\n",
    "\n",
    "##### Syntax 1\n",
    "\n",
    "``` python\n",
    "if condition_outer:\n",
    "    if condition_inner:\n",
    "        else:\n",
    "            statement of the nested if else:\n",
    "        statement of the outer if\n",
    "else:\n",
    "    outer else\n",
    "statement of the outside if block\n",
    "```\n",
    "\n",
    "##### Syntax 2\n",
    "\n",
    "``` python\n",
    "if expression1:\n",
    "    statement(s)\n",
    "    if expression2:\n",
    "        statement(s)\n",
    "    elif expression3:\n",
    "        statement(s)\n",
    "    elif expression4:\n",
    "        statement(s)\n",
    "    else:\n",
    "        statement(s)\n",
    "else:\n",
    "    statement(s)\n",
    "\n",
    "```"
   ]
  },
  {
   "cell_type": "code",
   "execution_count": 36,
   "id": "b70fc79d",
   "metadata": {},
   "outputs": [
    {
     "name": "stdout",
     "output_type": "stream",
     "text": [
      "All conditions seems to be false. none is true\n"
     ]
    }
   ],
   "source": [
    "x = 12\n",
    "\n",
    "if x >= 20: #The condition is false\n",
    "    print(\"Condition is true\")\n",
    "else:  #The code will go to this point\n",
    "    if x >=15:\n",
    "        print(\"I am now checking the second value\")\n",
    "    else: #The code will go to this point\n",
    "        print(\"All conditions seems to be false. none is true\")"
   ]
  },
  {
   "cell_type": "code",
   "execution_count": 37,
   "id": "db37306a",
   "metadata": {},
   "outputs": [
    {
     "name": "stdout",
     "output_type": "stream",
     "text": [
      "X is less than Y\n",
      "X have the same value\n"
     ]
    }
   ],
   "source": [
    "x = 12\n",
    "y = 14\n",
    "\n",
    "if x > y:\n",
    "    print(\"X is greater than Y\")\n",
    "elif x < y:\n",
    "    print(\"X is less than Y\")\n",
    "    \n",
    "    if x == 12:\n",
    "        print(\"X have the same value\")\n",
    "    else:\n",
    "        print(\"invalid value\")\n",
    "else:\n",
    "    print(\"X is equal to Y\")"
   ]
  },
  {
   "cell_type": "code",
   "execution_count": 38,
   "id": "111d9760",
   "metadata": {},
   "outputs": [
    {
     "name": "stdout",
     "output_type": "stream",
     "text": [
      "Num1 is either negative or positive\n"
     ]
    }
   ],
   "source": [
    "num1 = 0\n",
    "\n",
    "if num1 != 0:\n",
    "    if (num1 > 0):\n",
    "        print(\"num1 is a positive number\")\n",
    "    else:\n",
    "        print(\"num1 is a negative number\")\n",
    "    \n",
    "else:\n",
    "    print(\"Num1 is either negative or positive\")"
   ]
  },
  {
   "cell_type": "markdown",
   "id": "de525af3",
   "metadata": {},
   "source": [
    "### Python iterative Statements - Loops in Python\n",
    "\n",
    "There are two types of looping statements in Python:\n",
    "\n",
    "1. For Loop\n",
    "2. While Loop"
   ]
  },
  {
   "cell_type": "markdown",
   "id": "26b700c4",
   "metadata": {},
   "source": [
    "### For Loop\n",
    "\n",
    "It is used to iterate over a sequence (String, List, Dictionary, Set, or Tuple)\n",
    "\n",
    "Iterative over a sequence is called Traversal\n",
    "\n",
    "### Syntax\n",
    "\n",
    "```python\n",
    "for element in sequence:\n",
    "    body of for loop\n",
    "\n",
    "```"
   ]
  },
  {
   "cell_type": "code",
   "execution_count": 1,
   "id": "b638308d",
   "metadata": {},
   "outputs": [
    {
     "name": "stdout",
     "output_type": "stream",
     "text": [
      "Olalekan\n",
      "Olushola\n",
      "Olode-Ankirun\n",
      "Boitumelo\n",
      "Oluwabunmi\n",
      "Omolola\n"
     ]
    }
   ],
   "source": [
    "#Example 1; For Loop\n",
    "words = [\"Olalekan\", \"Olushola\", \"Olode-Ankirun\", \"Boitumelo\", \"Oluwabunmi\", \"Omolola\"]\n",
    "\n",
    "for word in words:\n",
    "    print(word)"
   ]
  },
  {
   "cell_type": "code",
   "execution_count": 3,
   "id": "491ebdb0",
   "metadata": {},
   "outputs": [
    {
     "name": "stdout",
     "output_type": "stream",
     "text": [
      "The size of the number is 6\n",
      "51.666666666666664\n"
     ]
    }
   ],
   "source": [
    "#Example 2: Calculate the average of list of numbers\n",
    "\n",
    "numbers = [20, 30, 50, 60, 70, 80]\n",
    "\n",
    "#definite iteration\n",
    "#run for loop 6 times because it contains 6 items\n",
    "\n",
    "sum = 0\n",
    "\n",
    "for number in numbers:\n",
    "    sum = sum + number\n",
    "size_of_list = len(numbers)\n",
    "print(\"The size of the number is\", size_of_list)\n",
    "average = sum/size_of_list\n",
    "print(average)"
   ]
  },
  {
   "cell_type": "markdown",
   "id": "479c6957",
   "metadata": {},
   "source": [
    "### For Loop with a range() function\n",
    "\n",
    "for i in range(10) -----> range(10) = Start = 0, Stop = 10, Step = 1\n",
    "\n",
    "range(Start, Stop, Step)"
   ]
  },
  {
   "cell_type": "code",
   "execution_count": 4,
   "id": "af506774",
   "metadata": {},
   "outputs": [
    {
     "name": "stdout",
     "output_type": "stream",
     "text": [
      "[]\n",
      "[0, 1, 2, 3, 4, 5, 6, 7, 8, 9, 10, 11, 12, 13, 14, 15, 16, 17, 18, 19]\n",
      "[1, 2, 3, 4, 5, 6, 7, 8, 9, 10, 11, 12, 13, 14, 15, 16, 17, 18, 19]\n"
     ]
    }
   ],
   "source": [
    "#Example 1: How Range works in Python\n",
    "\n",
    "#Empty range\n",
    "print(list(range(0)))\n",
    "\n",
    "#Using range with only Stop\n",
    "print(list(range(20)))\n",
    "\n",
    "#Using range with Start, Stop\n",
    "print(list(range(1, 20)))"
   ]
  },
  {
   "cell_type": "code",
   "execution_count": 5,
   "id": "d4980de2",
   "metadata": {},
   "outputs": [
    {
     "name": "stdout",
     "output_type": "stream",
     "text": [
      "0\n",
      "1\n",
      "2\n",
      "3\n",
      "4\n",
      "5\n",
      "6\n",
      "7\n",
      "8\n",
      "9\n",
      "10\n",
      "11\n",
      "12\n",
      "13\n",
      "14\n",
      "15\n",
      "16\n",
      "17\n",
      "18\n",
      "19\n",
      "20\n",
      "21\n",
      "22\n",
      "23\n",
      "24\n",
      "25\n",
      "26\n",
      "27\n",
      "28\n",
      "29\n",
      "30\n",
      "31\n",
      "32\n",
      "33\n",
      "34\n",
      "35\n",
      "36\n",
      "37\n",
      "38\n",
      "39\n",
      "40\n",
      "41\n",
      "42\n",
      "43\n",
      "44\n",
      "45\n",
      "46\n",
      "47\n",
      "48\n",
      "49\n"
     ]
    }
   ],
   "source": [
    "#Example 2: using For Loop with range() function\n",
    "\n",
    "for number in range(50):\n",
    "    print(number)"
   ]
  },
  {
   "cell_type": "code",
   "execution_count": 6,
   "id": "24440196",
   "metadata": {},
   "outputs": [
    {
     "name": "stdout",
     "output_type": "stream",
     "text": [
      "1\n",
      "2\n",
      "3\n",
      "4\n",
      "5\n",
      "6\n",
      "7\n",
      "8\n",
      "9\n",
      "10\n",
      "11\n",
      "12\n",
      "13\n",
      "14\n",
      "15\n",
      "16\n",
      "17\n",
      "18\n",
      "19\n"
     ]
    }
   ],
   "source": [
    "#Example 3: using For Loop with range() specifying the start and stop function\n",
    "\n",
    "for number in range(1, 20):\n",
    "    print(number)"
   ]
  },
  {
   "cell_type": "code",
   "execution_count": 7,
   "id": "f928c9cc",
   "metadata": {},
   "outputs": [
    {
     "name": "stdout",
     "output_type": "stream",
     "text": [
      "2\n",
      "4\n",
      "6\n",
      "8\n",
      "10\n",
      "12\n",
      "14\n",
      "16\n",
      "18\n",
      "20\n",
      "22\n",
      "24\n",
      "26\n",
      "28\n",
      "30\n",
      "32\n",
      "34\n",
      "36\n",
      "38\n"
     ]
    }
   ],
   "source": [
    "#Example 4: using For Loop with range() specifying the start, stop, and step function\n",
    "\n",
    "for number in range(2, 40, 2):\n",
    "    print(number)"
   ]
  },
  {
   "cell_type": "code",
   "execution_count": 8,
   "id": "74c13e47",
   "metadata": {},
   "outputs": [
    {
     "name": "stdout",
     "output_type": "stream",
     "text": [
      "3\n",
      "6\n",
      "9\n",
      "12\n",
      "15\n",
      "18\n",
      "21\n",
      "24\n",
      "27\n"
     ]
    }
   ],
   "source": [
    "#Example 5:\n",
    "\n",
    "num = 3\n",
    "\n",
    "for number in range(1, 10):\n",
    "    print(num * number)"
   ]
  },
  {
   "cell_type": "code",
   "execution_count": 9,
   "id": "cc0198ac",
   "metadata": {},
   "outputs": [
    {
     "name": "stdout",
     "output_type": "stream",
     "text": [
      "1\n",
      "3\n",
      "6\n",
      "10\n",
      "15\n",
      "21\n",
      "28\n",
      "36\n",
      "45\n",
      "55\n",
      "66\n",
      "78\n",
      "91\n",
      "105\n",
      "120\n",
      "136\n",
      "153\n",
      "171\n",
      "190\n",
      "210\n"
     ]
    }
   ],
   "source": [
    "#example 6: Finding the sum of a 20\n",
    "\n",
    "sum = 0\n",
    "\n",
    "for number in range(1, 21):\n",
    "    sum+=number\n",
    "    print(sum)"
   ]
  },
  {
   "cell_type": "code",
   "execution_count": 11,
   "id": "4938cc84",
   "metadata": {},
   "outputs": [
    {
     "name": "stdout",
     "output_type": "stream",
     "text": [
      "Case 1:\n",
      "0\n",
      "1\n",
      "2\n",
      "3\n",
      "4\n",
      "5\n",
      "6\n",
      "7\n",
      "8\n",
      "9\n",
      "case 2:\n",
      "10\n",
      "11\n",
      "12\n",
      "13\n",
      "14\n",
      "15\n",
      "16\n",
      "17\n",
      "18\n",
      "19\n",
      "Case 3:\n",
      "10\n",
      "12\n",
      "14\n",
      "16\n",
      "18\n"
     ]
    }
   ],
   "source": [
    "#Example 7: Printing a series of numbers using the for loop and range function\n",
    "\n",
    "print(\"Case 1:\")\n",
    "for number in range(10):\n",
    "    print(number)\n",
    "\n",
    "print(\"case 2:\")\n",
    "for number in range(10, 20):\n",
    "    print (number)\n",
    "\n",
    "print(\"Case 3:\")\n",
    "for number in range(10, 20, 2):\n",
    "    print(number)"
   ]
  },
  {
   "cell_type": "markdown",
   "id": "97c17746",
   "metadata": {},
   "source": [
    "### `for` Loop with `if-else`"
   ]
  },
  {
   "cell_type": "code",
   "execution_count": 12,
   "id": "6b196a2b",
   "metadata": {},
   "outputs": [
    {
     "name": "stdout",
     "output_type": "stream",
     "text": [
      "Odd Numbers: 1\n",
      "Even Numbers: 2\n",
      "Odd Numbers: 3\n",
      "Even Numbers: 4\n",
      "Odd Numbers: 5\n",
      "Even Numbers: 6\n",
      "Odd Numbers: 7\n",
      "Even Numbers: 8\n",
      "Odd Numbers: 9\n",
      "Even Numbers: 10\n",
      "Odd Numbers: 11\n",
      "Even Numbers: 12\n",
      "Odd Numbers: 13\n",
      "Even Numbers: 14\n",
      "Odd Numbers: 15\n",
      "Even Numbers: 16\n",
      "Odd Numbers: 17\n",
      "Even Numbers: 18\n",
      "Odd Numbers: 19\n",
      "Even Numbers: 20\n",
      "Odd Numbers: 21\n",
      "Even Numbers: 22\n",
      "Odd Numbers: 23\n",
      "Even Numbers: 24\n",
      "Odd Numbers: 25\n",
      "Even Numbers: 26\n",
      "Odd Numbers: 27\n",
      "Even Numbers: 28\n",
      "Odd Numbers: 29\n",
      "Even Numbers: 30\n"
     ]
    }
   ],
   "source": [
    "#Example 1: Printing all even and odd numbers\n",
    "\n",
    "for number in range (1, 31):\n",
    "    if number % 2 == 0:\n",
    "        print('Even Numbers:', number)\n",
    "    else:\n",
    "        print('Odd Numbers:', number)"
   ]
  },
  {
   "cell_type": "markdown",
   "id": "ac21af4f",
   "metadata": {},
   "source": [
    "### `for` loop with `else`"
   ]
  },
  {
   "cell_type": "code",
   "execution_count": 14,
   "id": "a66b8a6e",
   "metadata": {},
   "outputs": [
    {
     "name": "stdout",
     "output_type": "stream",
     "text": [
      "0\n",
      "4\n",
      "5\n",
      "7\n",
      "8\n",
      "9\n",
      "No more number left.\n"
     ]
    }
   ],
   "source": [
    "numbers = [0, 4, 5, 7, 8, 9]\n",
    "\n",
    "for number in numbers:\n",
    "    print(number)\n",
    "else:\n",
    "    print(\"No more number left.\")"
   ]
  },
  {
   "cell_type": "code",
   "execution_count": 15,
   "id": "b9a65575",
   "metadata": {},
   "outputs": [
    {
     "name": "stdout",
     "output_type": "stream",
     "text": [
      "0\n",
      "1\n",
      "2\n",
      "3\n",
      "4\n",
      "5\n",
      "6\n",
      "7\n",
      "8\n",
      "9\n",
      "10\n",
      "11\n",
      "12\n",
      "13\n",
      "14\n",
      "15\n",
      "16\n",
      "17\n",
      "18\n",
      "19\n",
      "20\n",
      "The loop stops at 20\n"
     ]
    }
   ],
   "source": [
    "for number in range(21):\n",
    "    print(number)\n",
    "else:\n",
    "    print(\"The loop stops at\", number)"
   ]
  },
  {
   "cell_type": "code",
   "execution_count": 16,
   "id": "1ddfabde",
   "metadata": {},
   "outputs": [
    {
     "name": "stdout",
     "output_type": "stream",
     "text": [
      "1\n",
      "2\n",
      "3\n",
      "4\n",
      "5\n",
      "6\n",
      "7\n",
      "8\n",
      "9\n",
      "10\n",
      "11\n",
      "12\n",
      "13\n",
      "14\n",
      "15\n",
      "16\n",
      "17\n",
      "18\n",
      "19\n",
      "20\n",
      "I am done\n"
     ]
    }
   ],
   "source": [
    "for number in range(1, 21):\n",
    "    print(number)\n",
    "else:\n",
    "    print(\"I am done\")"
   ]
  },
  {
   "cell_type": "code",
   "execution_count": 17,
   "id": "a4d256d4",
   "metadata": {},
   "outputs": [
    {
     "name": "stdout",
     "output_type": "stream",
     "text": [
      "No Employee with that name exist\n"
     ]
    }
   ],
   "source": [
    "employee_name = \"Omolola Oluwabunmi\"\n",
    "\n",
    "salaries = {'Olalekan Samuel': 25000, \"Akeem Olusola\": 30000, \"Boitumelo Samuel\": 90000}\n",
    "\n",
    "for employee in salaries:\n",
    "    if employee == employee_name:\n",
    "        print(salaries[employee])\n",
    "        break\n",
    "else:\n",
    "    print(\"No Employee with that name exist\")"
   ]
  },
  {
   "cell_type": "code",
   "execution_count": 20,
   "id": "1c882444",
   "metadata": {},
   "outputs": [
    {
     "name": "stdout",
     "output_type": "stream",
     "text": [
      "1\n",
      "2\n",
      "3\n",
      "4\n"
     ]
    }
   ],
   "source": [
    "counter = 0\n",
    "\n",
    "for number in range(1, 7):\n",
    "    counter = counter + 1\n",
    "    if counter > 4:\n",
    "        break\n",
    "    else:\n",
    "        print(number)\n",
    "else:\n",
    "    print(\"I am done\")"
   ]
  },
  {
   "cell_type": "markdown",
   "id": "f4d16e6f",
   "metadata": {},
   "source": [
    "### Using Control Statement in `for` loops"
   ]
  },
  {
   "cell_type": "markdown",
   "id": "40ee1d97",
   "metadata": {},
   "source": [
    "#### `break` in `for` loop"
   ]
  },
  {
   "cell_type": "code",
   "execution_count": 21,
   "id": "66bac869",
   "metadata": {},
   "outputs": [
    {
     "name": "stdout",
     "output_type": "stream",
     "text": [
      "0\n",
      "1\n",
      "2\n",
      "3\n",
      "4\n",
      "5\n",
      "6\n"
     ]
    }
   ],
   "source": [
    "numbers = (0, 1, 2, 3, 4, 5, 6, 7, 8, 9, 10)\n",
    "for number in numbers:\n",
    "    print(number)\n",
    "    if number == 6:\n",
    "        break"
   ]
  },
  {
   "cell_type": "code",
   "execution_count": 22,
   "id": "66c1870f",
   "metadata": {},
   "outputs": [
    {
     "name": "stdout",
     "output_type": "stream",
     "text": [
      "Omolola\n"
     ]
    }
   ],
   "source": [
    "names = [\"Boitumelo\", \"Olusola\", \"Omolola\", \"Olubunmi\", \"Jane\"]\n",
    "\n",
    "for name in names:\n",
    "    if (name == \"Omolola\"):\n",
    "        break\n",
    "print(name)"
   ]
  },
  {
   "cell_type": "code",
   "execution_count": 23,
   "id": "8bde783f",
   "metadata": {},
   "outputs": [
    {
     "name": "stdout",
     "output_type": "stream",
     "text": [
      "2\n",
      "7\n",
      "8\n"
     ]
    }
   ],
   "source": [
    "numbers = [2, 7, 8, 25, 35, 45, 55, 67]\n",
    "for number in numbers:\n",
    "    if number > 15:\n",
    "        break\n",
    "    else:\n",
    "        print(number)"
   ]
  },
  {
   "cell_type": "code",
   "execution_count": 24,
   "id": "364e0c00",
   "metadata": {},
   "outputs": [
    {
     "name": "stdout",
     "output_type": "stream",
     "text": [
      "1 0\n",
      "2 0\n",
      "2 1\n",
      "3 0\n",
      "3 1\n",
      "3 2\n",
      "4 0\n",
      "4 1\n",
      "4 2\n",
      "4 3\n",
      "5 0\n",
      "5 1\n",
      "5 2\n",
      "5 3\n",
      "5 4\n",
      "6 0\n",
      "6 1\n",
      "6 2\n",
      "6 3\n",
      "6 4\n",
      "6 5\n",
      "7 0\n",
      "7 1\n",
      "7 2\n",
      "7 3\n",
      "7 4\n",
      "7 5\n",
      "7 6\n",
      "8 0\n",
      "8 1\n",
      "8 2\n",
      "8 3\n",
      "8 4\n",
      "8 5\n",
      "8 6\n",
      "8 7\n",
      "9 0\n",
      "9 1\n",
      "9 2\n",
      "9 3\n",
      "9 4\n",
      "9 5\n",
      "9 6\n",
      "9 7\n",
      "9 8\n"
     ]
    }
   ],
   "source": [
    "for number in range(10):\n",
    "    for num in range(10):\n",
    "        if num == number:\n",
    "            break\n",
    "        print(number, num)"
   ]
  },
  {
   "cell_type": "markdown",
   "id": "e07bfefa",
   "metadata": {},
   "source": [
    "#### `continue` in `for` loop"
   ]
  },
  {
   "cell_type": "code",
   "execution_count": 25,
   "id": "983daed4",
   "metadata": {},
   "outputs": [
    {
     "name": "stdout",
     "output_type": "stream",
     "text": [
      "Jane\n"
     ]
    }
   ],
   "source": [
    "names = [\"Boitumelo\", \"Olusola\", \"Omolola\", \"Olubunmi\", \"Jane\"]\n",
    "\n",
    "for name in names:\n",
    "    if (name == \"Omolola\"):\n",
    "        continue\n",
    "print(name)"
   ]
  },
  {
   "cell_type": "code",
   "execution_count": 26,
   "id": "61a77afb",
   "metadata": {},
   "outputs": [
    {
     "name": "stdout",
     "output_type": "stream",
     "text": [
      "0\n",
      "The next number should be 1\n",
      "1\n",
      "The next number should be 2\n",
      "2\n",
      "The next number should be 3\n",
      "3\n",
      "The next number should be 4\n",
      "4\n",
      "5\n",
      "The next number should be 6\n",
      "6\n",
      "The loop has ended\n",
      "This is outside of the loop\n"
     ]
    }
   ],
   "source": [
    "numbers = (0, 1, 2, 3, 4, 5, 6)\n",
    "for number in numbers:\n",
    "    print(number)\n",
    "    if number == 4:\n",
    "        continue\n",
    "    print(\"The next number should be\", number + 1) if number !=6 else print(\"The loop has ended\")\n",
    "print(\"This is outside of the loop\")"
   ]
  },
  {
   "cell_type": "code",
   "execution_count": 28,
   "id": "58cb4636",
   "metadata": {},
   "outputs": [
    {
     "name": "stdout",
     "output_type": "stream",
     "text": [
      "4 * 8 =  32\n",
      "4 * 12 =  48\n",
      "8 * 4 =  32\n",
      "8 * 12 =  96\n",
      "12 * 4 =  48\n",
      "12 * 8 =  96\n"
     ]
    }
   ],
   "source": [
    "number1 = [4, 8, 12]\n",
    "number2 = [4, 8, 12]\n",
    "\n",
    "for i in number1:\n",
    "    for j in number2:\n",
    "        if i == j:\n",
    "            continue\n",
    "        print(i,  \"*\", j, '= ', i*j)"
   ]
  },
  {
   "cell_type": "code",
   "execution_count": 29,
   "id": "7f87175d",
   "metadata": {},
   "outputs": [
    {
     "name": "stdout",
     "output_type": "stream",
     "text": [
      "The Total number of m is: 1\n"
     ]
    }
   ],
   "source": [
    "name = \"Olalekan Samuel\"\n",
    "counter = 0\n",
    "for char in name:\n",
    "    if char != 'm':\n",
    "        continue\n",
    "    else:\n",
    "        counter = counter + 1\n",
    "print(\"The Total number of m is:\", counter)"
   ]
  },
  {
   "cell_type": "markdown",
   "id": "4fef8f0d",
   "metadata": {},
   "source": [
    "#### `pass` in `for` loop"
   ]
  },
  {
   "cell_type": "code",
   "execution_count": 30,
   "id": "dad1f1e0",
   "metadata": {},
   "outputs": [],
   "source": [
    "for number in range(20):\n",
    "    pass"
   ]
  },
  {
   "cell_type": "code",
   "execution_count": 31,
   "id": "23669a83",
   "metadata": {},
   "outputs": [],
   "source": [
    "numbers = [1, 4, 5, 3, 2, 7, 6, 9]\n",
    "\n",
    "for number in numbers:\n",
    "    pass"
   ]
  },
  {
   "cell_type": "markdown",
   "id": "b3637300",
   "metadata": {},
   "source": [
    "### Reverse for Loop\n",
    "\n",
    "There are two ways to perform for loop backward iterations\n",
    "\n",
    "1. Reverse for loop using the reversed() function\n",
    "2. Reverse for loop using the range(0 function"
   ]
  },
  {
   "cell_type": "markdown",
   "id": "17a46211",
   "metadata": {},
   "source": [
    "### Backward Iteration using the `reversed()` function"
   ]
  },
  {
   "cell_type": "code",
   "execution_count": 32,
   "id": "6c7e1735",
   "metadata": {},
   "outputs": [
    {
     "name": "stdout",
     "output_type": "stream",
     "text": [
      "100\n",
      "90\n",
      "79\n",
      "79\n",
      "67\n",
      "50\n",
      "40\n",
      "30\n",
      "20\n",
      "10\n"
     ]
    }
   ],
   "source": [
    "myList = [10, 20, 30, 40, 50, 67, 79, 79, 90, 100]\n",
    "\n",
    "for num in reversed(myList):\n",
    "    print(num)"
   ]
  },
  {
   "cell_type": "markdown",
   "id": "0063094c",
   "metadata": {},
   "source": [
    "### Backward Iteration using the `range()` function"
   ]
  },
  {
   "cell_type": "code",
   "execution_count": 33,
   "id": "91b08353",
   "metadata": {},
   "outputs": [
    {
     "name": "stdout",
     "output_type": "stream",
     "text": [
      "10\n",
      "9\n",
      "8\n",
      "7\n",
      "6\n",
      "5\n",
      "4\n",
      "3\n",
      "2\n",
      "1\n",
      "0\n"
     ]
    }
   ],
   "source": [
    "number = 10\n",
    "\n",
    "for num in (range(number, -1, -1)):\n",
    "    print(num)"
   ]
  },
  {
   "cell_type": "markdown",
   "id": "dda6fec0",
   "metadata": {},
   "source": [
    "### Other helper functions that can be used with the `for` loop\n",
    "\n",
    "1. enumerate() function\n",
    "2. zip()  function\n",
    "3. sorted()  function\n",
    "4. reverse()  function"
   ]
  },
  {
   "cell_type": "code",
   "execution_count": 39,
   "id": "2ca34128",
   "metadata": {},
   "outputs": [
    {
     "name": "stdout",
     "output_type": "stream",
     "text": [
      "Reversed: \tz;y;x;w;v;u;t;s;r;q;p;o;n;m;l;k;j;i;h;g;f;e;d;c;b;a;\n",
      "Enumerated: \t0 = a; 1 = b; 2 = c; 3 = d; 4 = e; 5 = f; 6 = g; 7 = h; 8 = i; 9 = j; 10 = k; 11 = l; 12 = m; 13 = n; 14 = o; 15 = p; 16 = q; 17 = r; 18 = s; 19 = t; 20 = u; 21 = v; 22 = w; 23 = x; 24 = y; 25 = z; \n",
      "Zip'ed: \ta : n\n",
      "b : o\n",
      "c : p\n",
      "d : q\n",
      "e : r\n",
      "f : s\n",
      "g : t\n",
      "h : u\n",
      "i : v\n",
      "j : w\n",
      "k : x\n",
      "l : y\n",
      "m : z\n"
     ]
    }
   ],
   "source": [
    "print(\"Reversed: \\t\", end=\"\")\n",
    "\n",
    "for char in reversed(\"abcdefghijklmnopqrstuvwxyz\"):\n",
    "    print(char, end=\";\")\n",
    "    \n",
    "print(\"\\nEnumerated: \\t\", end=\"\")\n",
    "\n",
    "for i, char in enumerate(\"abcdefghijklmnopqrstuvwxyz\"):\n",
    "    print(i, \"=\",char, end=\"; \")\n",
    "    \n",
    "print(\"\\nZip'ed: \\t\", end=\"\")\n",
    "\n",
    "for a,x in zip(\"abcdefghijklm\", \"nopqrstuvwxyz\"):\n",
    "    print(a, \":\", x)"
   ]
  },
  {
   "cell_type": "markdown",
   "id": "f4577c7b",
   "metadata": {},
   "source": [
    "### Nested `for` Loops\n",
    "\n",
    "### Syntax:\n",
    "\n",
    "```python\n",
    "#outer for Loop\n",
    "\n",
    "for element in sequence:\n",
    "    #inner for loop\n",
    "    for element in sequence:\n",
    "        body of the inner for loop\n",
    "    body of the outer for loop\n",
    "other statements\n",
    "```"
   ]
  },
  {
   "cell_type": "markdown",
   "id": "af1e62e4",
   "metadata": {},
   "source": [
    "### `for` loop inside `for` loop"
   ]
  },
  {
   "cell_type": "code",
   "execution_count": 41,
   "id": "501a0b38",
   "metadata": {},
   "outputs": [
    {
     "name": "stdout",
     "output_type": "stream",
     "text": [
      "1 2 3 4 5 6 7 8 9 10 \n",
      "2 4 6 8 10 12 14 16 18 20 \n",
      "3 6 9 12 15 18 21 24 27 30 \n",
      "4 8 12 16 20 24 28 32 36 40 \n",
      "5 10 15 20 25 30 35 40 45 50 \n",
      "6 12 18 24 30 36 42 48 54 60 \n",
      "7 14 21 28 35 42 49 56 63 70 \n",
      "8 16 24 32 40 48 56 64 72 80 \n",
      "9 18 27 36 45 54 63 72 81 90 \n",
      "10 20 30 40 50 60 70 80 90 100 \n"
     ]
    }
   ],
   "source": [
    "#Example 1: Multiplication table of the first ten numbers\n",
    "\n",
    "#Outer loop\n",
    "\n",
    "for number in range(1, 11):\n",
    "    #nested loop\n",
    "    for num in range(1,11): #we are trying to iterate from 1 to 10\n",
    "        print(number * num, end= ' ')\n",
    "    print()"
   ]
  },
  {
   "cell_type": "code",
   "execution_count": 42,
   "id": "88b2da9a",
   "metadata": {},
   "outputs": [
    {
     "name": "stdout",
     "output_type": "stream",
     "text": [
      "Python\n",
      "C#\n",
      "Project management\n",
      "IT Consulting\n",
      "Soccer\n"
     ]
    }
   ],
   "source": [
    "person = {\n",
    "    \"first_name\": \"Olalekan Samuel\",\n",
    "    \"last_name\": \"Ogunleye\",\n",
    "    \"age\": 43,\n",
    "    \"country\": \"South Africa\",\n",
    "    \"marital_status\": True,\n",
    "    \"skills\": [\"Python\", \"C#\", \"Project management\", \"IT Consulting\", \"Soccer\"],\n",
    "    \"address\": {\n",
    "        \"Street\": 'Midrand South Africa',\n",
    "        \"zipcode\": 1624\n",
    "    }\n",
    "}\n",
    "\n",
    "for key in person:\n",
    "    if key == 'skills':\n",
    "        for skill in person['skills']:\n",
    "            print(skill)"
   ]
  },
  {
   "cell_type": "code",
   "execution_count": 47,
   "id": "6e38deb9",
   "metadata": {},
   "outputs": [
    {
     "name": "stdout",
     "output_type": "stream",
     "text": [
      "* \n",
      "* * \n",
      "* * * \n",
      "* * * * \n",
      "* * * * * \n"
     ]
    }
   ],
   "source": [
    "#Example: Program to print a simple pyramid\n",
    "\n",
    "rows = 5\n",
    "for i in range(1, rows + 1):       #outer loop\n",
    "    for j in range(1, i + 1):     #inner loop\n",
    "        print(\"*\", end= \" \")\n",
    "    print('')"
   ]
  },
  {
   "cell_type": "code",
   "execution_count": 48,
   "id": "f53da76b",
   "metadata": {},
   "outputs": [
    {
     "name": "stdout",
     "output_type": "stream",
     "text": [
      "1  \n",
      "2 2  \n",
      "3 3 3  \n",
      "4 4 4 4  \n",
      "5 5 5 5 5  \n"
     ]
    }
   ],
   "source": [
    "for i in range(1,6):\n",
    "    for j in range(1, i+1):\n",
    "        print(i, end= \" \")\n",
    "    print(\" \")"
   ]
  },
  {
   "cell_type": "markdown",
   "id": "6b23782f",
   "metadata": {},
   "source": [
    "### Accessing the index in the `for' Loop"
   ]
  },
  {
   "cell_type": "code",
   "execution_count": 3,
   "id": "8fd6fa4d",
   "metadata": {},
   "outputs": [
    {
     "name": "stdout",
     "output_type": "stream",
     "text": [
      "The number[ 0 ] = 4\n",
      "The number[ 1 ] = 7\n",
      "The number[ 2 ] = 6\n",
      "The number[ 3 ] = 8\n",
      "The number[ 4 ] = 10\n",
      "The number[ 5 ] = 9\n",
      "The number[ 6 ] = 3\n",
      "The number[ 7 ] = 5\n",
      "The number[ 8 ] = 2\n",
      "The number[ 9 ] = 21\n"
     ]
    }
   ],
   "source": [
    "# Example: Print the elements of the list with its index number by using the enumerate() function\n",
    "\n",
    "myList = [4, 7, 6, 8, 10, 9, 3, 5, 2, 21]\n",
    "\n",
    "for x, y in enumerate(myList):\n",
    "    print('The number[', x, '] =', y)"
   ]
  },
  {
   "cell_type": "code",
   "execution_count": 4,
   "id": "76f8aaa1",
   "metadata": {},
   "outputs": [
    {
     "name": "stdout",
     "output_type": "stream",
     "text": [
      "Index: 0   Value: 4\n",
      "Index: 1   Value: 7\n",
      "Index: 2   Value: 6\n",
      "Index: 3   Value: 8\n",
      "Index: 4   Value: 10\n",
      "Index: 5   Value: 9\n",
      "Index: 6   Value: 3\n",
      "Index: 7   Value: 5\n",
      "Index: 8   Value: 2\n",
      "Index: 9   Value: 21\n"
     ]
    }
   ],
   "source": [
    "# Example: Print the elements of the list with its index number by using the range() function\n",
    "\n",
    "myList = [4, 7, 6, 8, 10, 9, 3, 5, 2, 21]\n",
    "\n",
    "size = len(myList)\n",
    "\n",
    "for i in range(size):\n",
    "    print('Index:', i, \" \", 'Value:', myList[i])"
   ]
  },
  {
   "cell_type": "code",
   "execution_count": 6,
   "id": "9b418749",
   "metadata": {},
   "outputs": [
    {
     "name": "stdout",
     "output_type": "stream",
     "text": [
      "P\n",
      "y\n",
      "t\n",
      "h\n",
      "o\n",
      "n\n"
     ]
    }
   ],
   "source": [
    "# Example: Iterating through a string using a membership Operator\n",
    "\n",
    "programminglanguage = \"Python\"\n",
    "\n",
    "for eachletter in programminglanguage:\n",
    "    print(eachletter)"
   ]
  },
  {
   "cell_type": "code",
   "execution_count": 7,
   "id": "bfeb6749",
   "metadata": {},
   "outputs": [
    {
     "name": "stdout",
     "output_type": "stream",
     "text": [
      "P\n",
      "y\n",
      "t\n",
      "h\n",
      "o\n",
      "n\n"
     ]
    }
   ],
   "source": [
    "for i in range(len(programminglanguage)):\n",
    "    print(programminglanguage[i])"
   ]
  },
  {
   "cell_type": "code",
   "execution_count": 8,
   "id": "aecc1f35",
   "metadata": {},
   "outputs": [
    {
     "name": "stdout",
     "output_type": "stream",
     "text": [
      "H\n",
      "e\n",
      "l\n",
      "l\n",
      "o\n",
      ",\n",
      " \n",
      "w\n",
      "e\n",
      "l\n",
      "c\n",
      "o\n",
      "m\n",
      "e\n",
      " \n",
      "t\n",
      "o\n",
      " \n",
      "t\n",
      "h\n",
      "i\n",
      "s\n",
      " \n",
      "t\n",
      "r\n",
      "a\n",
      "i\n",
      "n\n",
      "i\n",
      "n\n",
      "g\n"
     ]
    }
   ],
   "source": [
    "for x in \"Hello, welcome to this training\":\n",
    "    print(x)"
   ]
  },
  {
   "cell_type": "code",
   "execution_count": 9,
   "id": "9ec6747b",
   "metadata": {},
   "outputs": [
    {
     "name": "stdout",
     "output_type": "stream",
     "text": [
      "o l a l e k a n "
     ]
    }
   ],
   "source": [
    "name = \"olalekan\"\n",
    "\n",
    "for i in name:\n",
    "    print(i, end=\" \")"
   ]
  },
  {
   "cell_type": "code",
   "execution_count": 10,
   "id": "956dfffa",
   "metadata": {},
   "outputs": [
    {
     "name": "stdout",
     "output_type": "stream",
     "text": [
      "a l e k a "
     ]
    }
   ],
   "source": [
    "#Example: Iterating over a particular set of cahracter in a string\n",
    "\n",
    "name = \"Olalekan Samuel\"\n",
    "for char in name[2:7:1]:\n",
    "    print(char, end= \" \")"
   ]
  },
  {
   "cell_type": "code",
   "execution_count": 11,
   "id": "fbf2c9ce",
   "metadata": {},
   "outputs": [
    {
     "name": "stdout",
     "output_type": "stream",
     "text": [
      "Join\n",
      "me\n",
      "and\n",
      "become\n",
      "a\n",
      "Python\n",
      "Programmer,\n",
      "Data\n",
      "Science\n",
      "and\n",
      "Machine\n",
      "Learning\n",
      "Expert.\n",
      "Learn\n",
      "one\n",
      "of\n",
      "most\n",
      "requested\n",
      "skills\n",
      "of\n",
      "2023!\n",
      "This\n",
      "course\n",
      "is\n",
      "about\n",
      "the\n",
      "fundamental\n",
      "basics\n",
      "of\n",
      "Python\n",
      "and\n",
      "we\n",
      "will\n",
      "later\n",
      "move\n",
      "to\n",
      "Data\n",
      "Science,\n",
      "Data\n",
      "Analytics,\n",
      "Data\n",
      "Visualization\n",
      "and\n",
      "Machine\n",
      "Learning\n"
     ]
    }
   ],
   "source": [
    "#Example: Iterate over words in a sentence using the split() function\n",
    "\n",
    "words = \"Join me and become a Python Programmer, Data Science and Machine Learning Expert. Learn one of most requested skills of 2023! This course is about the fundamental basics of Python and we will later move to Data Science, Data Analytics, Data Visualization and Machine Learning\"\n",
    "# using split on white space\n",
    "\n",
    "for word in words.split():\n",
    "    print(word)"
   ]
  },
  {
   "cell_type": "markdown",
   "id": "ea059c67",
   "metadata": {},
   "source": [
    "### Iterating List using `for` Loop"
   ]
  },
  {
   "cell_type": "code",
   "execution_count": 12,
   "id": "f9f6b429",
   "metadata": {},
   "outputs": [
    {
     "name": "stdout",
     "output_type": "stream",
     "text": [
      "12\n",
      "45\n",
      "76\n",
      "54\n",
      "89\n",
      "76\n",
      "54\n"
     ]
    }
   ],
   "source": [
    "# Example: Iterate over list\n",
    "numbers = [12, 45, 76, 54, 89, 76, 54]\n",
    "\n",
    "for num in numbers:\n",
    "    print(num)"
   ]
  },
  {
   "cell_type": "code",
   "execution_count": 2,
   "id": "b308bdcc",
   "metadata": {},
   "outputs": [
    {
     "name": "stdout",
     "output_type": "stream",
     "text": [
      "12\n",
      "45\n",
      "76\n",
      "54\n",
      "89\n",
      "76\n",
      "54\n"
     ]
    },
    {
     "data": {
      "text/plain": [
       "[None, None, None, None, None, None, None]"
      ]
     },
     "execution_count": 2,
     "metadata": {},
     "output_type": "execute_result"
    }
   ],
   "source": [
    "# Example: Iterate over list (List Comprehension)\n",
    "\n",
    "numbers = [12, 45, 76, 54, 89, 76, 54]\n",
    "[print (num) for num in numbers]"
   ]
  },
  {
   "cell_type": "code",
   "execution_count": 16,
   "id": "edf41b2a",
   "metadata": {},
   "outputs": [
    {
     "name": "stdout",
     "output_type": "stream",
     "text": [
      "12\n",
      "45\n",
      "76\n",
      "54\n",
      "89\n",
      "76\n",
      "54\n"
     ]
    }
   ],
   "source": [
    "numbers = [12, 45, 76, 54, 89, 76, 54]\n",
    "\n",
    "size = len(numbers)\n",
    "#print(size)\n",
    "for i in range(size):\n",
    "    print(numbers[i])"
   ]
  },
  {
   "cell_type": "code",
   "execution_count": 17,
   "id": "6f2e53d2",
   "metadata": {},
   "outputs": [
    {
     "name": "stdout",
     "output_type": "stream",
     "text": [
      "[2, 4, 6, 8, 10, 12, 14, 16, 18]\n",
      "[2, 4, 6, 8, 10, 12, 14, 16, 18]\n",
      "[2, 4, 6, 8, 10, 12, 14, 16, 18]\n",
      "[2, 4, 6, 8, 10, 12, 14, 16, 18]\n",
      "[2, 4, 6, 8, 10, 12, 14, 16, 18]\n",
      "[2, 4, 6, 8, 10, 12, 14, 16, 18]\n",
      "[2, 4, 6, 8, 10, 12, 14, 16, 18]\n",
      "[2, 4, 6, 8, 10, 12, 14, 16, 18]\n",
      "[2, 4, 6, 8, 10, 12, 14, 16, 18]\n"
     ]
    }
   ],
   "source": [
    "#Example: printing the elements of a list using the for loop\n",
    "\n",
    "even_numbers = [2, 4, 6, 8, 10, 12, 14, 16, 18]\n",
    "\n",
    "for i in even_numbers:\n",
    "    print(even_numbers)"
   ]
  },
  {
   "cell_type": "code",
   "execution_count": 18,
   "id": "96d61cc1",
   "metadata": {},
   "outputs": [
    {
     "name": "stdout",
     "output_type": "stream",
     "text": [
      "Square of: 12 is: 144\n",
      "Square of: 45 is: 2025\n",
      "Square of: 76 is: 5776\n",
      "Square of: 54 is: 2916\n",
      "Square of: 89 is: 7921\n",
      "Square of: 76 is: 5776\n",
      "Square of: 54 is: 2916\n"
     ]
    }
   ],
   "source": [
    "# Example: Calculating the square of each number using a for loop\n",
    "\n",
    "numbers = [12, 45, 76, 54, 89, 76, 54]\n",
    "\n",
    "#Iterate over each element in the list\n",
    "for i in numbers:\n",
    "    #Use the exponent operator\n",
    "    square = i ** 2\n",
    "    print(\"Square of:\", i, 'is:', square)"
   ]
  },
  {
   "cell_type": "code",
   "execution_count": 20,
   "id": "3f862224",
   "metadata": {},
   "outputs": [
    {
     "name": "stdout",
     "output_type": "stream",
     "text": [
      "58.0\n"
     ]
    }
   ],
   "source": [
    "# Example: Calculating the average of list of numbers using a for loop\n",
    "\n",
    "numbers = [12, 45, 76, 54, 89, 76, 54]\n",
    "\n",
    "sum = 0\n",
    "for i in numbers:\n",
    "    sum = sum + i\n",
    "size_of_list = len(numbers)\n",
    "average = sum/size_of_list\n",
    "print(average)"
   ]
  },
  {
   "cell_type": "markdown",
   "id": "b765461e",
   "metadata": {},
   "source": [
    "### Iterating Tuple using `for` Loop"
   ]
  },
  {
   "cell_type": "code",
   "execution_count": 21,
   "id": "e53ab48e",
   "metadata": {},
   "outputs": [
    {
     "name": "stdout",
     "output_type": "stream",
     "text": [
      "2\n",
      "4\n",
      "6\n",
      "8\n",
      "10\n",
      "12\n",
      "14\n",
      "16\n",
      "18\n"
     ]
    }
   ],
   "source": [
    "myTuple = (2, 4, 6, 8, 10, 12, 14, 16, 18)\n",
    "\n",
    "for numbers in myTuple:\n",
    "    print(numbers)\n"
   ]
  },
  {
   "cell_type": "markdown",
   "id": "2058a9d5",
   "metadata": {},
   "source": [
    "### Iterating Dictionary using `for` Loop"
   ]
  },
  {
   "cell_type": "code",
   "execution_count": 22,
   "id": "6af0aa63",
   "metadata": {},
   "outputs": [
    {
     "name": "stdout",
     "output_type": "stream",
     "text": [
      "Name\n",
      "Address\n",
      "Year\n"
     ]
    }
   ],
   "source": [
    "#Example: Iterating Over Dictionary by accessing only the keys\n",
    "\n",
    "mydict = {\"Name\": \"Olalekan Samuel\", \"Address\":\"Somewhere in South Africa\", \"Year\": 2023}\n",
    "\n",
    "for key in mydict:\n",
    "    print(key)"
   ]
  },
  {
   "cell_type": "code",
   "execution_count": 23,
   "id": "53379f1f",
   "metadata": {},
   "outputs": [
    {
     "name": "stdout",
     "output_type": "stream",
     "text": [
      "Name ---> Olalekan Samuel\n",
      "Address ---> Somewhere in South Africa\n",
      "Year ---> 2023\n"
     ]
    }
   ],
   "source": [
    "#Example: Iterating Over Dictionary by accessing the keys and values\n",
    "\n",
    "mydict1 = {\"Name\": \"Olalekan Samuel\", \"Address\":\"Somewhere in South Africa\", \"Year\": 2023}\n",
    "\n",
    "for key in mydict1:\n",
    "    print(key, \"--->\", mydict1[key])"
   ]
  },
  {
   "cell_type": "code",
   "execution_count": 25,
   "id": "951496d0",
   "metadata": {},
   "outputs": [
    {
     "name": "stdout",
     "output_type": "stream",
     "text": [
      "Olalekan Samuel\n",
      "Somewhere in South Africa\n",
      "2023\n"
     ]
    }
   ],
   "source": [
    "#Example: Iterating Over Dictionary by accessing only the values\n",
    "\n",
    "mydict2 = {\"Name\": \"Olalekan Samuel\", \"Address\":\"Somewhere in South Africa\", \"Year\": 2023}\n",
    "\n",
    "for value in mydict2.values():\n",
    "    print(value)"
   ]
  },
  {
   "cell_type": "code",
   "execution_count": 32,
   "id": "2baf3955",
   "metadata": {},
   "outputs": [
    {
     "name": "stdout",
     "output_type": "stream",
     "text": [
      "first_name\n",
      "last_name\n",
      "Age\n",
      "Country_of_birth\n",
      "Country_living_in\n",
      "marital_status\n",
      "skills\n",
      "Address\n",
      "first_name Olalekan Samuel\n",
      "last_name Ogunleye\n",
      "Age 43\n",
      "Country_of_birth Nigeria\n",
      "Country_living_in South Africa\n",
      "marital_status Married\n",
      "skills ['C#', 'Java', 'Python', 'C', 'C++', 'HTML5']\n",
      "Address {'Street': 'Somewhere in South Africa and Nigeria', 'Post code': 1940}\n"
     ]
    }
   ],
   "source": [
    "#Example: for loop with dictionary. Looping through a dictionary to get the keys of the dictionary\n",
    "\n",
    "personaldetails = {\n",
    "    \"first_name\": \"Olalekan Samuel\",\n",
    "    \"last_name\": \"Ogunleye\",\n",
    "    \"Age\": 43,\n",
    "    \"Country_of_birth\": \"Nigeria\",\n",
    "    \"Country_living_in\": \"South Africa\",\n",
    "    \"marital_status\": \"Married\",\n",
    "    \"skills\": [\"C#\", \"Java\", \"Python\", \"C\", \"C++\", \"HTML5\"],\n",
    "    \"Address\": {\n",
    "        \"Street\": \"Somewhere in South Africa and Nigeria\",\n",
    "        \"Post code\":1940\n",
    "    }\n",
    "}\n",
    "\n",
    "for key in personaldetails:\n",
    "    print(key)\n",
    "for key, value in personaldetails.items():\n",
    "    print(key, value) #This will print the keys and values"
   ]
  },
  {
   "cell_type": "markdown",
   "id": "0d6d4ccb",
   "metadata": {},
   "source": [
    "### Iterating Set using `for` Loop"
   ]
  },
  {
   "cell_type": "code",
   "execution_count": 34,
   "id": "64880e84",
   "metadata": {},
   "outputs": [
    {
     "name": "stdout",
     "output_type": "stream",
     "text": [
      "Grape\n",
      "Apple\n",
      "Pear\n",
      "Banana\n",
      "Watermelon\n",
      "Orange\n"
     ]
    }
   ],
   "source": [
    "#Example: Looping through the set using the for loop\n",
    "\n",
    "fruits = {\"Orange\", \"Watermelon\", \"Pear\", \"Grape\", \"Banana\", \"Apple\"}\n",
    "\n",
    "for fruit in fruits:\n",
    "    print(fruit)"
   ]
  },
  {
   "cell_type": "markdown",
   "id": "2fb58179",
   "metadata": {},
   "source": [
    "### `while` Loop in Python\n",
    "\n",
    "### Syntax:\n",
    "\n",
    "```python\n",
    "while condition:\n",
    "    body of the while loop\n",
    "```"
   ]
  },
  {
   "cell_type": "code",
   "execution_count": 37,
   "id": "e5aa912e",
   "metadata": {},
   "outputs": [
    {
     "name": "stdout",
     "output_type": "stream",
     "text": [
      "1\n",
      "2\n",
      "3\n",
      "4\n",
      "5\n",
      "6\n",
      "7\n",
      "8\n",
      "9\n",
      "CPU times: total: 0 ns\n",
      "Wall time: 0 ns\n"
     ]
    }
   ],
   "source": [
    "%%time\n",
    "# Example: Printing Numbers that are less than 10\n",
    "\n",
    "counter = 1\n",
    "\n",
    "#Run the while loop as long as counter is less than 10\n",
    "\n",
    "while counter < 10:\n",
    "    print(counter)\n",
    "    counter = counter + 1"
   ]
  },
  {
   "cell_type": "code",
   "execution_count": 39,
   "id": "5fd6eb06",
   "metadata": {},
   "outputs": [
    {
     "name": "stdout",
     "output_type": "stream",
     "text": [
      "The sum of 20 numbers is: 210\n"
     ]
    }
   ],
   "source": [
    "# Example: Perform ana addition on sum of 20\n",
    "\n",
    "number = 20\n",
    "sum = 0\n",
    "counter = 1\n",
    "while counter <= number:\n",
    "    sum = sum + counter\n",
    "    counter = counter + 1\n",
    "print(\"The sum of 20 numbers is:\", sum)"
   ]
  },
  {
   "cell_type": "code",
   "execution_count": 40,
   "id": "9b1c2aef",
   "metadata": {},
   "outputs": [
    {
     "name": "stdout",
     "output_type": "stream",
     "text": [
      "The value of x is 200\n",
      "The value of x is 199\n",
      "The value of x is 198\n",
      "The value of x is 197\n",
      "The value of x is 196\n",
      "The value of x is 195\n",
      "The value of x is 194\n",
      "The value of x is 193\n",
      "The value of x is 192\n",
      "The value of x is 191\n",
      "The value of x is 190\n",
      "The value of x is 189\n",
      "The value of x is 188\n",
      "The value of x is 187\n",
      "The value of x is 186\n",
      "The value of x is 185\n",
      "The value of x is 184\n",
      "The value of x is 183\n",
      "The value of x is 182\n",
      "The value of x is 181\n",
      "The value of x is 180\n",
      "The value of x is 179\n",
      "The value of x is 178\n",
      "The value of x is 177\n",
      "The value of x is 176\n",
      "The value of x is 175\n",
      "The value of x is 174\n",
      "The value of x is 173\n",
      "The value of x is 172\n",
      "The value of x is 171\n",
      "The value of x is 170\n",
      "The value of x is 169\n",
      "The value of x is 168\n",
      "The value of x is 167\n",
      "The value of x is 166\n",
      "The value of x is 165\n",
      "The value of x is 164\n",
      "The value of x is 163\n",
      "The value of x is 162\n",
      "The value of x is 161\n",
      "The value of x is 160\n",
      "The value of x is 159\n",
      "The value of x is 158\n",
      "The value of x is 157\n",
      "The value of x is 156\n",
      "The value of x is 155\n",
      "The value of x is 154\n",
      "The value of x is 153\n",
      "The value of x is 152\n",
      "The value of x is 151\n",
      "The value of x is 150\n",
      "The value of x is 149\n",
      "The value of x is 148\n",
      "The value of x is 147\n",
      "The value of x is 146\n",
      "The value of x is 145\n",
      "The value of x is 144\n",
      "The value of x is 143\n",
      "The value of x is 142\n",
      "The value of x is 141\n",
      "The value of x is 140\n",
      "The value of x is 139\n",
      "The value of x is 138\n",
      "The value of x is 137\n",
      "The value of x is 136\n",
      "The value of x is 135\n",
      "The value of x is 134\n",
      "The value of x is 133\n",
      "The value of x is 132\n",
      "The value of x is 131\n",
      "The value of x is 130\n",
      "The value of x is 129\n",
      "The value of x is 128\n",
      "The value of x is 127\n",
      "The value of x is 126\n",
      "The value of x is 125\n",
      "The value of x is 124\n",
      "The value of x is 123\n",
      "The value of x is 122\n",
      "The value of x is 121\n",
      "The value of x is 120\n",
      "The value of x is 119\n",
      "The value of x is 118\n",
      "The value of x is 117\n",
      "The value of x is 116\n",
      "The value of x is 115\n",
      "The value of x is 114\n",
      "The value of x is 113\n",
      "The value of x is 112\n",
      "The value of x is 111\n",
      "The value of x is 110\n",
      "The value of x is 109\n",
      "The value of x is 108\n",
      "The value of x is 107\n",
      "The value of x is 106\n",
      "The value of x is 105\n",
      "The value of x is 104\n",
      "The value of x is 103\n",
      "The value of x is 102\n",
      "The value of x is 101\n",
      "The value of x is 100\n",
      "The value of x is 99\n",
      "The value of x is 98\n",
      "The value of x is 97\n",
      "The value of x is 96\n",
      "The value of x is 95\n",
      "The value of x is 94\n",
      "The value of x is 93\n",
      "The value of x is 92\n",
      "The value of x is 91\n",
      "The value of x is 90\n",
      "The value of x is 89\n",
      "The value of x is 88\n",
      "The value of x is 87\n",
      "The value of x is 86\n",
      "The value of x is 85\n",
      "The value of x is 84\n",
      "The value of x is 83\n",
      "The value of x is 82\n",
      "The value of x is 81\n",
      "The value of x is 80\n",
      "The value of x is 79\n",
      "The value of x is 78\n",
      "The value of x is 77\n",
      "The value of x is 76\n",
      "The value of x is 75\n",
      "The value of x is 74\n",
      "The value of x is 73\n",
      "The value of x is 72\n",
      "The value of x is 71\n",
      "The value of x is 70\n",
      "The value of x is 69\n",
      "The value of x is 68\n",
      "The value of x is 67\n",
      "The value of x is 66\n",
      "The value of x is 65\n",
      "The value of x is 64\n",
      "The value of x is 63\n",
      "The value of x is 62\n",
      "The value of x is 61\n",
      "The value of x is 60\n",
      "The value of x is 59\n",
      "The value of x is 58\n",
      "The value of x is 57\n",
      "The value of x is 56\n",
      "The value of x is 55\n",
      "The value of x is 54\n",
      "The value of x is 53\n",
      "The value of x is 52\n",
      "The value of x is 51\n",
      "The value of x is 50\n",
      "The value of x is 49\n",
      "The value of x is 48\n",
      "The value of x is 47\n",
      "The value of x is 46\n",
      "The value of x is 45\n",
      "The value of x is 44\n",
      "The value of x is 43\n",
      "The value of x is 42\n",
      "The value of x is 41\n",
      "The value of x is 40\n",
      "The value of x is 39\n",
      "The value of x is 38\n",
      "The value of x is 37\n",
      "The value of x is 36\n",
      "The value of x is 35\n",
      "The value of x is 34\n",
      "The value of x is 33\n",
      "The value of x is 32\n",
      "The value of x is 31\n",
      "The value of x is 30\n",
      "The value of x is 29\n",
      "The value of x is 28\n",
      "The value of x is 27\n",
      "The value of x is 26\n",
      "The value of x is 25\n",
      "The value of x is 24\n",
      "The value of x is 23\n",
      "The value of x is 22\n",
      "The value of x is 21\n",
      "The value of x is 20\n",
      "The value of x is 19\n",
      "The value of x is 18\n",
      "The value of x is 17\n",
      "The value of x is 16\n",
      "The value of x is 15\n",
      "The value of x is 14\n",
      "The value of x is 13\n",
      "The value of x is 12\n",
      "The value of x is 11\n",
      "The value of x is 10\n",
      "The value of x is 9\n",
      "The value of x is 8\n",
      "The value of x is 7\n",
      "The value of x is 6\n",
      "The value of x is 5\n",
      "The value of x is 4\n",
      "The value of x is 3\n",
      "The value of x is 2\n",
      "The value of x is 1\n",
      "Loop is completed\n"
     ]
    }
   ],
   "source": [
    "# Example\n",
    "\n",
    "x = 200\n",
    "while x > 0:\n",
    "    print((\"The value of x is\"), x)\n",
    "    x = x -1\n",
    "print(\"Loop is completed\")"
   ]
  },
  {
   "cell_type": "code",
   "execution_count": 41,
   "id": "e1eaddd6",
   "metadata": {},
   "outputs": [
    {
     "name": "stdout",
     "output_type": "stream",
     "text": [
      "14.444444444444445\n"
     ]
    }
   ],
   "source": [
    "# Example\n",
    "\n",
    "number = 175\n",
    "sum = 0\n",
    "\n",
    "while number >0:\n",
    "    remainder = number%10\n",
    "    sum+=remainder\n",
    "    number = number/10\n",
    "print(sum)"
   ]
  },
  {
   "cell_type": "code",
   "execution_count": 44,
   "id": "308e2031",
   "metadata": {},
   "outputs": [
    {
     "name": "stdout",
     "output_type": "stream",
     "text": [
      "Total interation required before it can be divided by 3 before it is less than or equal to 10 is: 3\n"
     ]
    }
   ],
   "source": [
    "# Example: How many times a number can be divided by 3 before it is less than or equal to 10\n",
    "\n",
    "counter = 0\n",
    "number = 240\n",
    "\n",
    "while number > 10:\n",
    "    #perform the division\n",
    "    number = number / 3\n",
    "    #Increase the counter\n",
    "    counter = counter + 1\n",
    "print(\"Total interation required before it can be divided by 3 before it is less than or equal to 10 is:\", counter)"
   ]
  },
  {
   "cell_type": "code",
   "execution_count": 47,
   "id": "8a3b9377",
   "metadata": {},
   "outputs": [
    {
     "name": "stdout",
     "output_type": "stream",
     "text": [
      "Enter the number 120\n",
      "The Addition of the number is 7260\n"
     ]
    }
   ],
   "source": [
    "# Example: Porgram to add natural numbers up to sum = 1 + 2 + 3 + 4 + 5 + ... + n\n",
    "\n",
    "# To take the input from the user\n",
    "number = int(input(\"Enter the number \"))\n",
    "\n",
    "#initialize sum and counter\n",
    "sum = 0\n",
    "counter = 1\n",
    "\n",
    "while counter <= number:\n",
    "    sum = sum + counter\n",
    "    counter = counter + 1 #You are updating the counter, which means the value of the counter will change\n",
    "print(\"The Addition of the number is\", sum)"
   ]
  },
  {
   "cell_type": "code",
   "execution_count": 48,
   "id": "12513d21",
   "metadata": {},
   "outputs": [
    {
     "name": "stdout",
     "output_type": "stream",
     "text": [
      "1 1 2 3 5 8 13 21 34 55 89 144 233 377 610 987 1597 2584 4181 6765 \n"
     ]
    }
   ],
   "source": [
    "# Example: Printing the fibonacci series\n",
    "\n",
    "#In Fibonacci series, the sum of two elements defines the next set\n",
    "\n",
    "x, y = 0, 1\n",
    "\n",
    "while y < 10000:\n",
    "    print(y, end = \" \", flush = True)\n",
    "    x, y = y, x + y\n",
    "\n",
    "print() "
   ]
  },
  {
   "cell_type": "markdown",
   "id": "589b69eb",
   "metadata": {},
   "source": [
    "### using `while` loop inside `for` loop\n",
    "\n",
    "The `while` loop is an entry controlled loop while the `for` loop is a counter controlled loop"
   ]
  },
  {
   "cell_type": "code",
   "execution_count": 50,
   "id": "4c3015c9",
   "metadata": {},
   "outputs": [
    {
     "name": "stdout",
     "output_type": "stream",
     "text": [
      "Mutiplication Table of  1\n",
      "1 2 3 4 5 6 7 8 9 10 \n",
      "\n",
      "Mutiplication Table of  2\n",
      "2 4 6 8 10 12 14 16 18 20 \n",
      "\n",
      "Mutiplication Table of  3\n",
      "3 6 9 12 15 18 21 24 27 30 \n",
      "\n",
      "Mutiplication Table of  4\n",
      "4 8 12 16 20 24 28 32 36 40 \n",
      "\n",
      "Mutiplication Table of  5\n",
      "5 10 15 20 25 30 35 40 45 50 \n",
      "\n",
      "Mutiplication Table of  6\n",
      "6 12 18 24 30 36 42 48 54 60 \n",
      "\n",
      "Mutiplication Table of  7\n",
      "7 14 21 28 35 42 49 56 63 70 \n",
      "\n",
      "Mutiplication Table of  8\n",
      "8 16 24 32 40 48 56 64 72 80 \n",
      "\n",
      "Mutiplication Table of  9\n",
      "9 18 27 36 45 54 63 72 81 90 \n",
      "\n",
      "Mutiplication Table of  10\n",
      "10 20 30 40 50 60 70 80 90 100 \n",
      "\n"
     ]
    }
   ],
   "source": [
    "# Example: Print the multiplication table of the first 10 numbers using for loop and while loop together\n",
    "\n",
    "#Outer Loop\n",
    "for number in range(1, 11):\n",
    "    print(\"Mutiplication Table of \", number)\n",
    "    counter = 1\n",
    "    #inner loop to print the multiplication table of the current number\n",
    "    while counter < 11:\n",
    "        print(number * counter, end= ' ')\n",
    "        counter = counter + 1\n",
    "    print('\\n')"
   ]
  },
  {
   "cell_type": "code",
   "execution_count": 51,
   "id": "08327653",
   "metadata": {},
   "outputs": [
    {
     "name": "stdout",
     "output_type": "stream",
     "text": [
      "Omolola Omolola Omolola Omolola Omolola Omolola \n",
      "Oluwabunmi Oluwabunmi Oluwabunmi Oluwabunmi Oluwabunmi Oluwabunmi \n",
      "Oluwashindara Oluwashindara Oluwashindara Oluwashindara Oluwashindara Oluwashindara \n",
      "Oluwashola Oluwashola Oluwashola Oluwashola Oluwashola Oluwashola \n",
      "Olalekan Olalekan Olalekan Olalekan Olalekan Olalekan \n"
     ]
    }
   ],
   "source": [
    "# Example: \n",
    "\n",
    "names = [\"Omolola\", \"Oluwabunmi\", \"Oluwashindara\", \"Oluwashola\", \"Olalekan\"]\n",
    "\n",
    "for name in names:\n",
    "    counter = 0\n",
    "    while counter < 6:\n",
    "        print(name, end=' ')\n",
    "        #Increment the counter\n",
    "        counter = counter + 1\n",
    "    print()"
   ]
  },
  {
   "cell_type": "markdown",
   "id": "b478f356",
   "metadata": {},
   "source": [
    "### Using `while` loop with `if-else`"
   ]
  },
  {
   "cell_type": "code",
   "execution_count": 53,
   "id": "232a58cd",
   "metadata": {},
   "outputs": [
    {
     "name": "stdout",
     "output_type": "stream",
     "text": [
      "Please Enter a number: 20\n",
      "20 is an even number\n",
      "19 is an odd number\n",
      "18 is an even number\n",
      "17 is an odd number\n",
      "16 is an even number\n",
      "15 is an odd number\n",
      "14 is an even number\n",
      "13 is an odd number\n",
      "12 is an even number\n",
      "11 is an odd number\n",
      "10 is an even number\n",
      "9 is an odd number\n",
      "8 is an even number\n",
      "7 is an odd number\n",
      "6 is an even number\n",
      "5 is an odd number\n",
      "4 is an even number\n",
      "3 is an odd number\n",
      "2 is an even number\n",
      "1 is an odd number\n"
     ]
    }
   ],
   "source": [
    "# Example: Printing even and odd numbers between 1 and the number entered by a user\n",
    "\n",
    "number = int(input('Please Enter a number: '))\n",
    "\n",
    "while number > 0:\n",
    "    #Check for even and odd numbers with the number entered by the user\n",
    "    if number % 2 == 0:\n",
    "        print(number, 'is an even number')\n",
    "    else:\n",
    "        print(number, 'is an odd number')\n",
    "    #decrease the number by 1 in each iteration\n",
    "    number = number -1 "
   ]
  },
  {
   "cell_type": "code",
   "execution_count": 56,
   "id": "0c2076ca",
   "metadata": {},
   "outputs": [
    {
     "name": "stdout",
     "output_type": "stream",
     "text": [
      "Please Enter a number: 20\n",
      "1\n",
      "2\n",
      "9\n",
      "4\n",
      "25\n",
      "6\n",
      "49\n",
      "8\n",
      "81\n",
      "10\n",
      "121\n",
      "12\n",
      "169\n",
      "14\n",
      "225\n",
      "16\n",
      "289\n",
      "18\n",
      "361\n"
     ]
    }
   ],
   "source": [
    "# Example: Printing the square of odd numbers less than the number the user enters\n",
    "\n",
    "number = int(input('Please Enter a number: '))\n",
    "\n",
    "counter = 1\n",
    "\n",
    "while counter < number:\n",
    "    if (counter % 2 != 0):\n",
    "    #if (counter % 2 == 0): For even number implementation\n",
    "        print(counter ** 2)\n",
    "        counter = counter + 1\n",
    "    else:\n",
    "        print(counter)\n",
    "        counter = counter + 1"
   ]
  },
  {
   "cell_type": "markdown",
   "id": "3e36ffc8",
   "metadata": {},
   "source": [
    "### `while` loop with `else`"
   ]
  },
  {
   "cell_type": "code",
   "execution_count": 57,
   "id": "626e164d",
   "metadata": {},
   "outputs": [
    {
     "name": "stdout",
     "output_type": "stream",
     "text": [
      "0\n",
      "1\n",
      "2\n",
      "3\n",
      "4\n",
      "5\n",
      "6\n",
      "7\n",
      "8\n",
      "9\n",
      "10\n",
      "11\n",
      "12\n",
      "13\n",
      "14\n",
      "15\n"
     ]
    }
   ],
   "source": [
    "counter = 0\n",
    "\n",
    "while counter < 15:\n",
    "    print(counter)\n",
    "    counter = counter + 1\n",
    "else:\n",
    "    print(counter)"
   ]
  },
  {
   "cell_type": "code",
   "execution_count": 59,
   "id": "67a66fe2",
   "metadata": {},
   "outputs": [
    {
     "name": "stdout",
     "output_type": "stream",
     "text": [
      "1\n",
      "2\n",
      "3\n",
      "4\n",
      "5\n",
      "6\n",
      "7\n",
      "8\n",
      "9\n",
      "10\n",
      "11\n",
      "12\n",
      "13\n",
      "14\n",
      "15\n",
      "16\n",
      "17\n",
      "18\n",
      "19\n",
      "20\n",
      "21\n",
      "22\n",
      "23\n",
      "24\n",
      "25\n",
      "26\n",
      "27\n",
      "28\n",
      "29\n",
      "30\n",
      "31\n",
      "32\n",
      "33\n",
      "34\n",
      "35\n",
      "36\n",
      "37\n",
      "38\n",
      "39\n",
      "40\n",
      "41\n",
      "42\n",
      "43\n",
      "44\n",
      "45\n",
      "46\n",
      "47\n",
      "48\n",
      "49\n",
      "50\n",
      "51\n",
      "52\n",
      "53\n",
      "54\n",
      "55\n",
      "56\n",
      "57\n",
      "58\n",
      "59\n",
      "60\n",
      "61\n",
      "62\n",
      "63\n",
      "64\n",
      "65\n",
      "66\n",
      "67\n",
      "68\n",
      "69\n",
      "70\n",
      "71\n",
      "72\n",
      "73\n",
      "74\n",
      "75\n",
      "76\n",
      "77\n",
      "78\n",
      "79\n",
      "80\n",
      "81\n",
      "82\n",
      "83\n",
      "84\n",
      "85\n",
      "86\n",
      "87\n",
      "88\n",
      "89\n",
      "90\n",
      "91\n",
      "92\n",
      "93\n",
      "94\n",
      "95\n",
      "96\n",
      "97\n",
      "98\n",
      "99\n",
      "100\n",
      "I am done. This is the end of the loop\n"
     ]
    }
   ],
   "source": [
    "#Example: Using the while loop to print the numbers from 1 to 100\n",
    "\n",
    "numbers = 1\n",
    "\n",
    "while numbers <= 100:\n",
    "    print(numbers)\n",
    "    numbers = numbers + 1\n",
    "else:\n",
    "    print(\"I am done. This is the end of the loop\")"
   ]
  },
  {
   "cell_type": "code",
   "execution_count": 62,
   "id": "860c20e6",
   "metadata": {},
   "outputs": [
    {
     "name": "stdout",
     "output_type": "stream",
     "text": [
      "1\n",
      "2\n",
      "3\n",
      "4\n",
      "5\n",
      "6\n",
      "7\n",
      "8\n",
      "9\n",
      "10\n",
      "11\n",
      "12\n",
      "13\n",
      "14\n",
      "15\n",
      "16\n",
      "17\n",
      "18\n",
      "19\n",
      "20\n",
      "21\n",
      "22\n",
      "23\n",
      "24\n",
      "25\n",
      "26\n",
      "27\n",
      "28\n",
      "29\n",
      "30\n"
     ]
    }
   ],
   "source": [
    "#Example: Else block with a break statement in a while loop\n",
    "\n",
    "numbers = 1\n",
    "while numbers <= 100:\n",
    "    print(numbers)\n",
    "    if numbers == 30:\n",
    "        break\n",
    "    numbers = numbers + 1\n",
    "else:\n",
    "    print(\"I am done. This is the end of the loop\")"
   ]
  },
  {
   "cell_type": "markdown",
   "id": "f58b1c8e",
   "metadata": {},
   "source": [
    "### Using Control Statement in a `while` loop"
   ]
  },
  {
   "cell_type": "code",
   "execution_count": 63,
   "id": "39774595",
   "metadata": {},
   "outputs": [
    {
     "name": "stdout",
     "output_type": "stream",
     "text": [
      "0\n",
      "1\n",
      "2\n",
      "3\n",
      "4\n",
      "5\n",
      "6\n"
     ]
    }
   ],
   "source": [
    "### Example using the break statement in while loop\n",
    "\n",
    "counter = 0\n",
    "while counter < 15:\n",
    "    print(counter)\n",
    "    counter = counter + 1\n",
    "    if counter == 7:\n",
    "        break"
   ]
  },
  {
   "cell_type": "code",
   "execution_count": 64,
   "id": "9991c45d",
   "metadata": {},
   "outputs": [
    {
     "name": "stdout",
     "output_type": "stream",
     "text": [
      "85\n",
      "Oluwabunmi\n",
      "67.45\n",
      "70\n"
     ]
    }
   ],
   "source": [
    "### Example using the break statement in while loop\n",
    "\n",
    "mylist2 = [85, \"Oluwabunmi\", 67.45, 70, 56.23, \"Omolola\"]\n",
    "\n",
    "counter = 0\n",
    "while(counter < 6):\n",
    "    print(mylist2[counter])\n",
    "    counter = counter + 1\n",
    "    if(counter == 4):\n",
    "        break"
   ]
  },
  {
   "cell_type": "markdown",
   "id": "8a050cfa",
   "metadata": {},
   "source": [
    "### Using `break` with the while loop"
   ]
  },
  {
   "cell_type": "code",
   "execution_count": 65,
   "id": "bce2327f",
   "metadata": {},
   "outputs": [
    {
     "name": "stdout",
     "output_type": "stream",
     "text": [
      "O l a l e k a n "
     ]
    }
   ],
   "source": [
    "### Example: Print each of the character in a string and stop the loop once it encounters a number\n",
    "\n",
    "name = \"Olalekan99Ademola\"\n",
    "size = len(name)\n",
    "counter = 0\n",
    "\n",
    "#iterate through the loop until the last character\n",
    "while counter < size:\n",
    "    #break the loop if the current character is number\n",
    "    if name[counter].isdecimal():\n",
    "        break\n",
    "    #print the current characters that have been read so far\n",
    "    print(name[counter], end=' ')\n",
    "    counter = counter + 1"
   ]
  },
  {
   "cell_type": "markdown",
   "id": "cecbce6e",
   "metadata": {},
   "source": [
    "### Using `continue` with the while loop"
   ]
  },
  {
   "cell_type": "code",
   "execution_count": null,
   "id": "4d530e13",
   "metadata": {},
   "outputs": [
    {
     "name": "stdout",
     "output_type": "stream",
     "text": [
      "0\n",
      "1\n",
      "2\n",
      "3\n",
      "4\n",
      "5\n",
      "6\n"
     ]
    }
   ],
   "source": [
    "# Example\n",
    "\n",
    "counter = 0\n",
    "\n",
    "while counter < 15:\n",
    "    if counter == 7:\n",
    "        continue\n",
    "    else:\n",
    "        print(counter)\n",
    "        counter = counter + 1"
   ]
  },
  {
   "cell_type": "code",
   "execution_count": 1,
   "id": "af59a77d",
   "metadata": {},
   "outputs": [
    {
     "name": "stdout",
     "output_type": "stream",
     "text": [
      "Please enter a number: 30\n",
      "1\n",
      "3\n",
      "5\n",
      "7\n",
      "9\n",
      "11\n",
      "13\n",
      "15\n",
      "17\n",
      "19\n",
      "21\n",
      "23\n",
      "25\n",
      "27\n",
      "29\n"
     ]
    }
   ],
   "source": [
    "# Example: Printing odd numbers that are less than n\n",
    "\n",
    "number = int(input(\"Please enter a number: \"))\n",
    "\n",
    "#number = 30\n",
    "\n",
    "i = 1\n",
    "while (i < number):\n",
    "    if i % 2 == 0:\n",
    "        i = i + 1\n",
    "        continue #This means skip the current loop\n",
    "    else:\n",
    "        print(i)\n",
    "        i = i + 1"
   ]
  },
  {
   "cell_type": "markdown",
   "id": "afec2316",
   "metadata": {},
   "source": [
    "### Using `pass` with the while loop"
   ]
  },
  {
   "cell_type": "code",
   "execution_count": 2,
   "id": "9195ab0f",
   "metadata": {},
   "outputs": [],
   "source": [
    "n = 20\n",
    "\n",
    "while n > 0:\n",
    "    n = n-1\n",
    "    pass"
   ]
  },
  {
   "cell_type": "markdown",
   "id": "c881d420",
   "metadata": {},
   "source": [
    "### `Reverse` while loop"
   ]
  },
  {
   "cell_type": "code",
   "execution_count": 3,
   "id": "44709b5f",
   "metadata": {},
   "outputs": [
    {
     "name": "stdout",
     "output_type": "stream",
     "text": [
      "100 99 98 97 96 95 94 93 92 91 90 89 88 87 86 85 84 83 82 81 80 79 78 77 76 75 74 73 72 71 70 69 68 67 66 65 64 63 62 61 60 59 58 57 56 55 54 53 52 51 50 49 48 47 46 45 44 43 42 41 40 39 38 37 36 35 34 33 32 31 30 29 28 27 26 25 24 23 22 21 20 19 18 17 16 15 14 13 12 11 10 9 8 7 6 5 4 3 2 1 0 "
     ]
    }
   ],
   "source": [
    "#Example: Reverse a while loop to display number from 100 to 1\n",
    "\n",
    "number = 100\n",
    "\n",
    "while number >= 0:\n",
    "    print(number, end = ' ')\n",
    "    number = number - 1 "
   ]
  },
  {
   "cell_type": "markdown",
   "id": "83d91efa",
   "metadata": {},
   "source": [
    "### Nested `while` loops\n",
    "\n",
    "### Syntax:\n",
    "\n",
    "```python\n",
    "while expression:\n",
    "    while expression:\n",
    "        statement(s)\n",
    "    statements(s)\n",
    "```"
   ]
  },
  {
   "cell_type": "code",
   "execution_count": 5,
   "id": "ce3a0fb0",
   "metadata": {},
   "outputs": [
    {
     "name": "stdout",
     "output_type": "stream",
     "text": [
      "1 2 3 4 5 6 7 8 9 10 \n",
      "1 2 3 4 5 6 7 8 9 10 \n",
      "1 2 3 4 5 6 7 8 9 10 \n"
     ]
    }
   ],
   "source": [
    "i = 1\n",
    "while i <= 3:\n",
    "    j = 1\n",
    "    while j <=10:\n",
    "        print(j, end=' ')\n",
    "        j = j + 1\n",
    "    i = i + 1\n",
    "    print()"
   ]
  },
  {
   "cell_type": "code",
   "execution_count": 6,
   "id": "a9b78c88",
   "metadata": {},
   "outputs": [
    {
     "name": "stdout",
     "output_type": "stream",
     "text": [
      "* \n",
      "* * \n",
      "* * * \n",
      "* * * * \n",
      "* * * * * \n"
     ]
    }
   ],
   "source": [
    "#Example: printing a pyramid of *\n",
    "\n",
    "i = 1\n",
    "#Outer loop\n",
    "while i < 6:\n",
    "    j = 0\n",
    "    #nested while loop\n",
    "    while j < i:\n",
    "        print('*', end=' ')\n",
    "        j = j + 1\n",
    "    print('')\n",
    "    i = i + 1"
   ]
  },
  {
   "cell_type": "markdown",
   "id": "0ffa4187",
   "metadata": {},
   "source": [
    "### `for` loop inside `while` loop\n"
   ]
  },
  {
   "cell_type": "code",
   "execution_count": 7,
   "id": "5c4a6f6e",
   "metadata": {},
   "outputs": [
    {
     "name": "stdout",
     "output_type": "stream",
     "text": [
      "* \n",
      "* * \n",
      "* * * \n",
      "* * * * \n",
      "* * * * * \n"
     ]
    }
   ],
   "source": [
    "i = 1\n",
    "\n",
    "# Outer while loop\n",
    "\n",
    "while i < 6:\n",
    "    #nested for loop\n",
    "    for j in range(1, i + 1):\n",
    "        print('*', end=' ')\n",
    "    print('')\n",
    "    i = i + 1    "
   ]
  },
  {
   "cell_type": "markdown",
   "id": "03f23da3",
   "metadata": {},
   "source": [
    "### Exercise\n",
    "\n",
    "Write a Code to add all the prime numbers between 17 and 73 using while loop and for loop inside the while loop"
   ]
  },
  {
   "cell_type": "markdown",
   "id": "26acc2e7",
   "metadata": {},
   "source": [
    "### Iterate String using `whlie` loop"
   ]
  },
  {
   "cell_type": "code",
   "execution_count": 8,
   "id": "6b6a0388",
   "metadata": {},
   "outputs": [
    {
     "name": "stdout",
     "output_type": "stream",
     "text": [
      "o\n",
      "l\n",
      "u\n",
      "w\n",
      "a\n",
      "b\n",
      "u\n",
      "n\n",
      "m\n",
      "i\n"
     ]
    }
   ],
   "source": [
    "# Example: using while loop to iterate string letter by letter\n",
    "\n",
    "name = \"oluwabunmi\"\n",
    "i = 0\n",
    "namesize = len(name) - 1\n",
    "while i <= namesize:\n",
    "    print(name[i])\n",
    "    i = i + 1"
   ]
  },
  {
   "cell_type": "markdown",
   "id": "1bbba84c",
   "metadata": {},
   "source": [
    "### Iterate List using `whlie` loop"
   ]
  },
  {
   "cell_type": "code",
   "execution_count": 10,
   "id": "47bcf586",
   "metadata": {},
   "outputs": [
    {
     "name": "stdout",
     "output_type": "stream",
     "text": [
      "30\n",
      "26\n",
      "76\n",
      "24\n",
      "56\n"
     ]
    }
   ],
   "source": [
    "# Example: Using while loop to iterate over a list\n",
    "\n",
    "numbers = [ 30, 26, 76, 24, 56]\n",
    "\n",
    "numbers_size = len(numbers)\n",
    "i = 0\n",
    "while i < numbers_size:\n",
    "    print(numbers[i])\n",
    "    i = i + 1"
   ]
  },
  {
   "cell_type": "code",
   "execution_count": 11,
   "id": "888041d8",
   "metadata": {},
   "outputs": [
    {
     "name": "stdout",
     "output_type": "stream",
     "text": [
      "Olalekan\n",
      "oluwabunmi\n",
      "Omolola\n",
      "Olusola\n",
      "89\n"
     ]
    }
   ],
   "source": [
    "# Example: Printing the first 5 elements of a List\n",
    "\n",
    "myList3 = [\"Olalekan\", \"oluwabunmi\", \"Omolola\", \"Olusola\", 89, 67.9, 59,8, 31.8]\n",
    "\n",
    "i = 0\n",
    "while i < 5:\n",
    "    print(myList3[i]) #What we are doing here is that we are printing the elements in the index i\n",
    "    i = i + 1"
   ]
  },
  {
   "cell_type": "markdown",
   "id": "aca1e547",
   "metadata": {},
   "source": [
    "### Iterate Numbers using `whlie` loop"
   ]
  },
  {
   "cell_type": "code",
   "execution_count": 13,
   "id": "4930eeea",
   "metadata": {},
   "outputs": [
    {
     "name": "stdout",
     "output_type": "stream",
     "text": [
      "1\n",
      "4\n",
      "9\n",
      "16\n",
      "25\n",
      "36\n",
      "49\n",
      "64\n",
      "81\n",
      "100\n",
      "121\n",
      "144\n",
      "169\n",
      "196\n",
      "225\n",
      "256\n",
      "289\n",
      "324\n",
      "361\n",
      "400\n"
     ]
    }
   ],
   "source": [
    "#Example: Printing the square of a number less than a particular number\n",
    "\n",
    "i = 1\n",
    "while (i <= 20):\n",
    "    print(i ** 2)\n",
    "    i = i + 1"
   ]
  },
  {
   "cell_type": "code",
   "execution_count": 14,
   "id": "de4bd5cf",
   "metadata": {},
   "outputs": [
    {
     "name": "stdout",
     "output_type": "stream",
     "text": [
      "1\n",
      "8\n",
      "27\n",
      "64\n",
      "125\n",
      "216\n",
      "343\n",
      "512\n",
      "729\n",
      "1000\n",
      "1331\n",
      "1728\n",
      "2197\n",
      "2744\n",
      "3375\n",
      "4096\n",
      "4913\n",
      "5832\n",
      "6859\n"
     ]
    }
   ],
   "source": [
    "#Example: Finding the cube of numbers from 1 to 19\n",
    "\n",
    "i = 1\n",
    "while i < 20:\n",
    "    print(i*i*i)\n",
    "    #print(i**3)\n",
    "    i = i + 1"
   ]
  },
  {
   "cell_type": "markdown",
   "id": "3e34b18f",
   "metadata": {},
   "source": [
    "### Control Statements\n",
    "\n",
    "|     | Statement  |  Description|\n",
    "|:----|:----|:----|\n",
    "|1| **`break`**|Terminates the current loop. It is also used to come out of the loop instantly.|\n",
    "|2| **`continue`**|It skips the current iteration of the loop and move to the next iteration. |\n",
    "|3| **`pass`**|Does nothing. It ignores the condition in which it oocurs and move to the next run of the program |\n",
    "  "
   ]
  },
  {
   "cell_type": "markdown",
   "id": "9fadf359",
   "metadata": {},
   "source": [
    "### Python `break` Statement"
   ]
  },
  {
   "cell_type": "code",
   "execution_count": 16,
   "id": "e37001c0",
   "metadata": {},
   "outputs": [
    {
     "name": "stdout",
     "output_type": "stream",
     "text": [
      "The current number: 30\n",
      "The current number: 50\n",
      "The current number: 60\n",
      "The current number: 80\n"
     ]
    }
   ],
   "source": [
    "#Example:\n",
    "\n",
    "numbers = [30, 50, 60, 80, 120, 210, 300]\n",
    "\n",
    "for number in numbers:\n",
    "    if number > 100:\n",
    "        break\n",
    "    print('The current number:', number)"
   ]
  },
  {
   "cell_type": "code",
   "execution_count": 18,
   "id": "9e7082ea",
   "metadata": {},
   "outputs": [
    {
     "name": "stdout",
     "output_type": "stream",
     "text": [
      "number is:1\n",
      "number is:2\n",
      "number is:3\n",
      "number is:4\n",
      "number is:5\n",
      "number is:6\n",
      "number is:7\n",
      "number is:8\n",
      "number is:9\n",
      "number is:10\n",
      "number is:11\n",
      "number is:12\n",
      "number is:13\n",
      "This is the end of the loop\n"
     ]
    }
   ],
   "source": [
    "#Example: \n",
    "\n",
    "number = 0\n",
    "for number in range(20):\n",
    "    number = number + 1\n",
    "    if number == 14:\n",
    "        break\n",
    "    print('number is:' + str(number))\n",
    "print('This is the end of the loop')"
   ]
  },
  {
   "cell_type": "markdown",
   "id": "9d48b90f",
   "metadata": {},
   "source": [
    "### Nested `break` loops"
   ]
  },
  {
   "cell_type": "markdown",
   "id": "28ea1d40",
   "metadata": {},
   "source": [
    "### 1. `break` Statement in the inner Loop"
   ]
  },
  {
   "cell_type": "code",
   "execution_count": 19,
   "id": "3b971bad",
   "metadata": {},
   "outputs": [
    {
     "name": "stdout",
     "output_type": "stream",
     "text": [
      "0...1...2...3...4...5...6...7...8...9...10...11...12...13...14...15...16...17...18...19...20...21...22...23...24...25...26...27...28...29...30...31...32...33...34...35...36...37...38...39...40...41...42...43...44...45...46...47...48...49...50...51...52...53...54...55...56...57...58...59...60...61...62...63...64...65...66...67...68...69...70...71...72...73...74...75...76...77...78...79...80......Completed\n"
     ]
    }
   ],
   "source": [
    "# Example:\n",
    "\n",
    "for i in range(200):\n",
    "    print(i, end='...')\n",
    "    if i >=80:\n",
    "        break\n",
    "print('...Completed')"
   ]
  },
  {
   "cell_type": "code",
   "execution_count": 20,
   "id": "9e7dd794",
   "metadata": {},
   "outputs": [
    {
     "name": "stdout",
     "output_type": "stream",
     "text": [
      "O\n",
      "l\n",
      "a\n",
      "l\n",
      "e\n",
      "k\n",
      "a\n",
      "n\n",
      " \n",
      "S\n",
      "a\n",
      "This is the end\n"
     ]
    }
   ],
   "source": [
    "#Example:\n",
    "\n",
    "for val in 'Olalekan Samuel':\n",
    "    if val == 'm':\n",
    "        break\n",
    "    print(val)\n",
    "print('This is the end')"
   ]
  },
  {
   "cell_type": "code",
   "execution_count": 21,
   "id": "e93d5c80",
   "metadata": {},
   "outputs": [
    {
     "name": "stdout",
     "output_type": "stream",
     "text": [
      "H\n",
      "E\n",
      "L\n",
      "L\n",
      "O\n",
      "W\n",
      "O\n",
      "We have reached R\n"
     ]
    }
   ],
   "source": [
    "#Example:\n",
    "for letter in \"HELLOWORLD\":\n",
    "    if letter == 'R':\n",
    "        break\n",
    "    print(letter)\n",
    "print('We have reached R')"
   ]
  },
  {
   "cell_type": "markdown",
   "id": "42b52520",
   "metadata": {},
   "source": [
    "#### Exercise\n",
    "\n",
    "Write a simple program that ask user to supply letter and check if letter 'A' is found. print to the screen if its found or otherwise"
   ]
  },
  {
   "cell_type": "markdown",
   "id": "f2492cef",
   "metadata": {},
   "source": [
    "### 2. `break` Statement in the outer Loop"
   ]
  },
  {
   "cell_type": "code",
   "execution_count": 22,
   "id": "5d0e5b64",
   "metadata": {},
   "outputs": [
    {
     "name": "stdout",
     "output_type": "stream",
     "text": [
      "Multiplcation Table of 1\n",
      "1 2 3 4 5 6 7 8 9 10 \n",
      "Multiplcation Table of 2\n",
      "2 4 6 8 10 12 14 16 18 20 \n",
      "Multiplcation Table of 3\n",
      "3 6 9 12 15 18 21 24 27 30 \n",
      "Multiplcation Table of 4\n",
      "4 8 12 16 20 24 28 32 36 40 \n",
      "Multiplcation Table of 5\n",
      "5 10 15 20 25 30 35 40 45 50 \n",
      "Multiplcation Table of 6\n",
      "6 12 18 24 30 36 42 48 54 60 \n",
      "Multiplcation Table of 7\n",
      "7 14 21 28 35 42 49 56 63 70 \n"
     ]
    }
   ],
   "source": [
    "#Example:\n",
    "\n",
    "for i in range(1, 11):\n",
    "    #condition to break in the outer loop\n",
    "    if i > 7:\n",
    "        break\n",
    "    print('Multiplcation Table of', i)\n",
    "    for j in range(1,11):\n",
    "        print(i * j, end=' ')\n",
    "    print('')"
   ]
  },
  {
   "cell_type": "code",
   "execution_count": 23,
   "id": "080996e2",
   "metadata": {},
   "outputs": [
    {
     "name": "stdout",
     "output_type": "stream",
     "text": [
      "The Current number is: 2\n",
      "The square of a current number is: 4\n",
      "The Current number is: 4\n",
      "The square of a current number is: 16\n",
      "The Current number is: 6\n",
      "The square of a current number is: 36\n",
      "The Current number is: 8\n",
      "The square of a current number is: 64\n",
      "The Current number is: 10\n",
      "The square of a current number is: 100\n",
      "The Current number is: 12\n",
      "The Current number is: 14\n",
      "The Current number is: 16\n"
     ]
    }
   ],
   "source": [
    "# Example:\n",
    "numbers = [2, 4, 6, 8, 10, 12, 14, 16]\n",
    "\n",
    "for i in numbers:\n",
    "    print('The Current number is:', i)\n",
    "    #skip if number is greater than 10\n",
    "    if i > 10:\n",
    "        continue\n",
    "    square = i * i\n",
    "    print('The square of a current number is:', square)"
   ]
  },
  {
   "cell_type": "markdown",
   "id": "c97475c4",
   "metadata": {},
   "source": [
    "### Python `continue` Statement"
   ]
  },
  {
   "cell_type": "markdown",
   "id": "9466a180",
   "metadata": {},
   "source": [
    "### `continue` Statement in `while` loop"
   ]
  },
  {
   "cell_type": "code",
   "execution_count": 25,
   "id": "e94c7f0e",
   "metadata": {},
   "outputs": [
    {
     "name": "stdout",
     "output_type": "stream",
     "text": [
      "O l a l e k a n S a m u e l O g u n l e y e "
     ]
    }
   ],
   "source": [
    "#Example: Write a while loop to display each character in a while loop, and once if experiences a space\n",
    "# do not display the space, just move one\n",
    "\n",
    "name = \"Olalekan Samuel Ogunleye\"\n",
    "name_size = len(name)\n",
    "i = -1\n",
    "#Iterate the loop until the last character is reached\n",
    "while i < name_size - 1:\n",
    "    i = i + 1\n",
    "    #skip the loop body if the current character is space\n",
    "    if name[i].isspace():\n",
    "        continue\n",
    "    print(name[i], end=' ')"
   ]
  },
  {
   "cell_type": "markdown",
   "id": "ad72610e",
   "metadata": {},
   "source": [
    "### `continue` Statement with `else` statements"
   ]
  },
  {
   "cell_type": "code",
   "execution_count": 28,
   "id": "819fc7ac",
   "metadata": {},
   "outputs": [
    {
     "name": "stdout",
     "output_type": "stream",
     "text": [
      "Enter a word: Olalekan Samuel\n",
      "A is not found\n"
     ]
    }
   ],
   "source": [
    "# Example: Write a simple program that ask user to supply letter and check if letter 'A' is found.\n",
    "#print to the screen if its found or otherwise\n",
    "\n",
    "word = input(\"Enter a word: \")\n",
    "\n",
    "for letter in word:\n",
    "    if (letter != 'A'):\n",
    "        continue\n",
    "    else:\n",
    "        print(\"A is found\")\n",
    "        break\n",
    "print(\"A is not found\")"
   ]
  },
  {
   "cell_type": "markdown",
   "id": "02831724",
   "metadata": {},
   "source": [
    "### Nested `continue` loops"
   ]
  },
  {
   "cell_type": "markdown",
   "id": "6d0d8d54",
   "metadata": {},
   "source": [
    "### 1. `continue` Statement in the inner Loop"
   ]
  },
  {
   "cell_type": "code",
   "execution_count": 29,
   "id": "8ce9b8ba",
   "metadata": {},
   "outputs": [
    {
     "name": "stdout",
     "output_type": "stream",
     "text": [
      "Multiplcation Table of 1\n",
      "1 2 3 4 5 6 8 9 10 \n",
      "Multiplcation Table of 2\n",
      "2 4 6 8 10 12 16 18 20 \n",
      "Multiplcation Table of 3\n",
      "3 6 9 12 15 18 24 27 30 \n",
      "Multiplcation Table of 4\n",
      "4 8 12 16 20 24 32 36 40 \n",
      "Multiplcation Table of 5\n",
      "5 10 15 20 25 30 40 45 50 \n",
      "Multiplcation Table of 6\n",
      "6 12 18 24 30 36 48 54 60 \n",
      "Multiplcation Table of 7\n",
      "7 14 21 28 35 42 56 63 70 \n",
      "Multiplcation Table of 8\n",
      "8 16 24 32 40 48 64 72 80 \n",
      "Multiplcation Table of 9\n",
      "9 18 27 36 45 54 72 81 90 \n",
      "Multiplcation Table of 10\n",
      "10 20 30 40 50 60 80 90 100 \n"
     ]
    }
   ],
   "source": [
    "#Example:\n",
    "\n",
    "for i in range(1, 11):\n",
    "    print('Multiplcation Table of', i)\n",
    "    for j in range(1,11):\n",
    "        #Condition to skip the current iteration\n",
    "        if j == 7:\n",
    "            continue\n",
    "        print(i * j, end=' ')\n",
    "    print('')"
   ]
  },
  {
   "cell_type": "markdown",
   "id": "4243a93e",
   "metadata": {},
   "source": [
    "### 2. `continue` Statement in the outer Loop"
   ]
  },
  {
   "cell_type": "code",
   "execution_count": 30,
   "id": "ef0e06d3",
   "metadata": {},
   "outputs": [
    {
     "name": "stdout",
     "output_type": "stream",
     "text": [
      "Multiplcation Table of 1\n",
      "1 2 3 4 5 6 7 8 9 10 \n",
      "Multiplcation Table of 3\n",
      "3 6 9 12 15 18 21 24 27 30 \n",
      "Multiplcation Table of 5\n",
      "5 10 15 20 25 30 35 40 45 50 \n",
      "Multiplcation Table of 7\n",
      "7 14 21 28 35 42 49 56 63 70 \n",
      "Multiplcation Table of 9\n",
      "9 18 27 36 45 54 63 72 81 90 \n"
     ]
    }
   ],
   "source": [
    "#Example:\n",
    "\n",
    "for i in range(1, 11):\n",
    "    #Condition to skip the current iteration\n",
    "    #print('Multiplcation Table of', i)\n",
    "    if i % 2 == 0:\n",
    "        continue\n",
    "    print('Multiplcation Table of', i)\n",
    "    for j in range(1,11):\n",
    "        print(i * j, end=' ')\n",
    "    print('')"
   ]
  },
  {
   "cell_type": "markdown",
   "id": "7cb13146",
   "metadata": {},
   "source": [
    "### Python `pass` Statement"
   ]
  },
  {
   "cell_type": "code",
   "execution_count": 33,
   "id": "f11fc720",
   "metadata": {},
   "outputs": [
    {
     "name": "stdout",
     "output_type": "stream",
     "text": [
      "Number is 1\n",
      "Number is 2\n",
      "Number is 3\n",
      "Number is 4\n",
      "Number is 5\n",
      "Number is 6\n",
      "Number is 7\n",
      "Number is 8\n",
      "Number is 9\n",
      "Number is 10\n",
      "Number is 11\n",
      "Number is 12\n",
      "Number is 13\n",
      "Number is 14\n",
      "Number is 15\n",
      "Number is 16\n",
      "Number is 17\n",
      "Number is 18\n",
      "Number is 19\n",
      "Number is 20\n",
      "We are now out of the loop\n"
     ]
    }
   ],
   "source": [
    "#Example: \n",
    "\n",
    "for number in range(20):\n",
    "    number = number + 1\n",
    "    if number == 12:\n",
    "        pass #pass here and do nothing\n",
    "    print('Number is ' + str(number))\n",
    "print(\"We are now out of the loop\")"
   ]
  },
  {
   "cell_type": "code",
   "execution_count": 34,
   "id": "3e5ce096",
   "metadata": {},
   "outputs": [
    {
     "name": "stdout",
     "output_type": "stream",
     "text": [
      "['January', 'February', 'March', 'April', 'May', 'June', 'July', 'August', 'September', 'October', 'november', 'December']\n"
     ]
    }
   ],
   "source": [
    "months =  [\"January\", \"February\", \"March\", \"April\", \"May\", \"June\", \"July\", \"August\", \"September\", \"October\", \"november\", \"December\"]\n",
    "\n",
    "for month in months:\n",
    "    pass\n",
    "print(months)"
   ]
  },
  {
   "cell_type": "code",
   "execution_count": null,
   "id": "2ac5571e",
   "metadata": {},
   "outputs": [],
   "source": []
  }
 ],
 "metadata": {
  "kernelspec": {
   "display_name": "Python 3 (ipykernel)",
   "language": "python",
   "name": "python3"
  },
  "language_info": {
   "codemirror_mode": {
    "name": "ipython",
    "version": 3
   },
   "file_extension": ".py",
   "mimetype": "text/x-python",
   "name": "python",
   "nbconvert_exporter": "python",
   "pygments_lexer": "ipython3",
   "version": "3.9.7"
  }
 },
 "nbformat": 4,
 "nbformat_minor": 5
}
