{
 "cells": [
  {
   "cell_type": "markdown",
   "id": "43d2c014",
   "metadata": {},
   "source": [
    "### Topics To be covered\n",
    "\n",
    "1. Python Function Basics\n",
    "2. Python Global, Local and Non-Local Variables\n",
    "3. Python Function Global Keywords\n",
    "4. Python Function Argument and Parameter\n",
    "5. Python Function Recursion\n",
    "6. Python Anonymous (lambda) Function\n",
    "7. Python Modules\n",
    "8. Python Random Modules\n",
    "9. Python Mathematical Functions\n",
    "10. Python Package\n",
    "11. Python User-defined Functions\n",
    "12. Python Docstrings"
   ]
  },
  {
   "cell_type": "markdown",
   "id": "7fa732b5",
   "metadata": {},
   "source": [
    "### 1. Python Function Basics\n",
    "\n",
    "- Built-in Fucntion\n",
    "\n",
    "**`range()`**, **`print()`**, **`input()`**, **`type()`**, **`id()`**, **`eval()`**\n",
    "- User-Defined Function"
   ]
  },
  {
   "cell_type": "code",
   "execution_count": 1,
   "id": "858badf8",
   "metadata": {},
   "outputs": [
    {
     "name": "stdout",
     "output_type": "stream",
     "text": [
      "1 2 3 4 5 6 7 8 9 10 "
     ]
    }
   ],
   "source": [
    "for i in range(1, 11):\n",
    "    print(i, end = ' ')"
   ]
  },
  {
   "cell_type": "markdown",
   "id": "0499f9a3",
   "metadata": {},
   "source": [
    "### Syntax for Defining a Function\n",
    "\n",
    "```python\n",
    "def function_name(parameter1, parameter):\n",
    "    \"\"\"docstring\"\"\"\n",
    "    \n",
    "    # Function Body\n",
    "    #Write some action\n",
    "return value\n",
    "```\n",
    "\n",
    "<div>\n",
    "<img src=\"img/f1.png\" width=\"550\">\n",
    "</div>"
   ]
  },
  {
   "cell_type": "code",
   "execution_count": 2,
   "id": "39818902",
   "metadata": {},
   "outputs": [
    {
     "name": "stdout",
     "output_type": "stream",
     "text": [
      "Number1:  10\n",
      "Number2:  8\n",
      "Result: 18\n"
     ]
    }
   ],
   "source": [
    "# Function Example\n",
    "\n",
    "def addition(number1, number2):\n",
    "    print(\"Number1: \", number1)\n",
    "    print(\"Number2: \", number2)\n",
    "    addition = number1 + number2\n",
    "    return addition\n",
    "\n",
    "functioncall = addition(10, 8)\n",
    "print(\"Result:\", functioncall)"
   ]
  },
  {
   "cell_type": "markdown",
   "id": "16893dfd",
   "metadata": {},
   "source": [
    "#### Defining a Function without any Parameter"
   ]
  },
  {
   "cell_type": "code",
   "execution_count": 3,
   "id": "d50a1cb4",
   "metadata": {},
   "outputs": [
    {
     "name": "stdout",
     "output_type": "stream",
     "text": [
      "Welcome to Mastering Data Science and Machine Learning in 12 Weeks\n"
     ]
    }
   ],
   "source": [
    "#Example 1\n",
    "\n",
    "def greeting():\n",
    "    print(\"Welcome to Mastering Data Science and Machine Learning in 12 Weeks\")\n",
    "\n",
    "#Call the function using the function name\n",
    "greeting()"
   ]
  },
  {
   "cell_type": "code",
   "execution_count": 4,
   "id": "7abde822",
   "metadata": {},
   "outputs": [
    {
     "name": "stdout",
     "output_type": "stream",
     "text": [
      "44\n"
     ]
    }
   ],
   "source": [
    "#Example 2\n",
    "\n",
    "def adding_twoNumbers():\n",
    "    number1 = 18\n",
    "    number2 = 26\n",
    "    total = number1 + number2\n",
    "    print(total)\n",
    "\n",
    "#Call the function using the function name\n",
    "adding_twoNumbers()"
   ]
  },
  {
   "cell_type": "code",
   "execution_count": 5,
   "id": "bc4ed1f1",
   "metadata": {},
   "outputs": [
    {
     "name": "stdout",
     "output_type": "stream",
     "text": [
      "Olalekan Samuel Ogunleye\n"
     ]
    }
   ],
   "source": [
    "#Example 3\n",
    "def display_fullname():\n",
    "    firstname = \"Olalekan Samuel\"\n",
    "    lastname = \"Ogunleye\"\n",
    "    space = ' '\n",
    "    fullname = firstname + space + lastname\n",
    "    print(fullname)\n",
    "    \n",
    "#Call the function using the function name\n",
    "display_fullname()"
   ]
  },
  {
   "cell_type": "markdown",
   "id": "121f3517",
   "metadata": {},
   "source": [
    "#### Defining a Function with Parameters\n",
    "\n",
    "In a function, you can pass different data types (number, string, int, float, list, tuple, dictionary, set) as a parameter"
   ]
  },
  {
   "cell_type": "markdown",
   "id": "626d59cb",
   "metadata": {},
   "source": [
    "#### Defining Function with a single parameter\n"
   ]
  },
  {
   "cell_type": "code",
   "execution_count": 6,
   "id": "5200da43",
   "metadata": {},
   "outputs": [
    {
     "name": "stdout",
     "output_type": "stream",
     "text": [
      "Hello,  Olalekan Samuel . Good afternoon\n"
     ]
    }
   ],
   "source": [
    "def greeting(name):\n",
    "    \"\"\"This function greets the person pass in the paramete\"\"\"\n",
    "    \n",
    "    print(\"Hello, \", name, \". Good afternoon\")\n",
    "\n",
    "greeting(\"Olalekan Samuel\")"
   ]
  },
  {
   "cell_type": "code",
   "execution_count": 7,
   "id": "deb5495f",
   "metadata": {},
   "outputs": [
    {
     "name": "stdout",
     "output_type": "stream",
     "text": [
      "55\n",
      "None\n",
      "5050\n",
      "None\n"
     ]
    }
   ],
   "source": [
    "#Example 2\n",
    "\n",
    "def sum_of_numbers(n):\n",
    "    total = 0\n",
    "    for i in range(n+1):\n",
    "        total+=i\n",
    "    print(total)\n",
    "\n",
    "print(sum_of_numbers(10))\n",
    "print(sum_of_numbers(100))"
   ]
  },
  {
   "cell_type": "code",
   "execution_count": 8,
   "id": "76336732",
   "metadata": {},
   "outputs": [
    {
     "name": "stdout",
     "output_type": "stream",
     "text": [
      "55\n",
      "55\n",
      "5050\n",
      "5050\n"
     ]
    }
   ],
   "source": [
    "#Example 3\n",
    "\n",
    "def sum_of_numbers(n):\n",
    "    total = 0\n",
    "    for i in range(n+1):\n",
    "        total+=i\n",
    "    print(total)\n",
    "    return total\n",
    "\n",
    "\n",
    "print(sum_of_numbers(10))\n",
    "print(sum_of_numbers(100))"
   ]
  },
  {
   "cell_type": "markdown",
   "id": "c0ac8b3a",
   "metadata": {},
   "source": [
    "#### Defining Function with Two parameters"
   ]
  },
  {
   "cell_type": "code",
   "execution_count": 9,
   "id": "c317ad6b",
   "metadata": {},
   "outputs": [
    {
     "name": "stdout",
     "output_type": "stream",
     "text": [
      "Hello,  Olalekan Samuel . Welcome to Mastering Data Science and Machine Learning in 12 weeks\n",
      "Your Course name is Data Science and Machine Learning\n"
     ]
    }
   ],
   "source": [
    "def course(studentname, coursename):\n",
    "    print(\"Hello, \", studentname, \". Welcome to Mastering Data Science and Machine Learning in 12 weeks\")\n",
    "    print(\"Your Course name is\", coursename)\n",
    "\n",
    "course(\"Olalekan Samuel\", 'Data Science and Machine Learning')"
   ]
  },
  {
   "cell_type": "markdown",
   "id": "a6ba3f4f",
   "metadata": {},
   "source": [
    "#### Defining a Function with Parameters and return value"
   ]
  },
  {
   "cell_type": "code",
   "execution_count": 10,
   "id": "eb5390c1",
   "metadata": {},
   "outputs": [
    {
     "name": "stdout",
     "output_type": "stream",
     "text": [
      "Olalekan Samuel, Welcome to Mastering Data Science and Machine Learning in 12 weeks\n"
     ]
    }
   ],
   "source": [
    "#Example\n",
    "\n",
    "def greetings(name): #We pass a single parameter\n",
    "    message =  name + ', Welcome to Mastering Data Science and Machine Learning in 12 weeks'\n",
    "    return message\n",
    "\n",
    "print(greetings(\"Olalekan Samuel\"))"
   ]
  },
  {
   "cell_type": "code",
   "execution_count": 11,
   "id": "2b229345",
   "metadata": {},
   "outputs": [
    {
     "name": "stdout",
     "output_type": "stream",
     "text": [
      "100\n"
     ]
    }
   ],
   "source": [
    "#Example2 \n",
    "\n",
    "def add_twenty(number):\n",
    "    twenty = 20\n",
    "    return number + 20\n",
    "\n",
    "print(add_twenty(80))"
   ]
  },
  {
   "cell_type": "code",
   "execution_count": 12,
   "id": "509c0b7d",
   "metadata": {},
   "outputs": [
    {
     "name": "stdout",
     "output_type": "stream",
     "text": [
      "1256.0\n"
     ]
    }
   ],
   "source": [
    "#Example 4\n",
    "\n",
    "def area_of_circle(r):\n",
    "    Pi = 3.14\n",
    "    area = Pi * r**2\n",
    "    return area\n",
    "\n",
    "print(area_of_circle(20))"
   ]
  },
  {
   "cell_type": "code",
   "execution_count": 13,
   "id": "9746b479",
   "metadata": {},
   "outputs": [
    {
     "name": "stdout",
     "output_type": "stream",
     "text": [
      "Addition : 60\n"
     ]
    }
   ],
   "source": [
    "#Example 5: Using Two parameters:\n",
    "def calculator(a, b):\n",
    "    addition = a + b\n",
    "    return addition\n",
    "\n",
    "result = calculator(25, 35)\n",
    "print(\"Addition :\", result)"
   ]
  },
  {
   "cell_type": "code",
   "execution_count": 14,
   "id": "5783afe2",
   "metadata": {},
   "outputs": [
    {
     "data": {
      "text/plain": [
       "('Olalekan', 'Samuel')"
      ]
     },
     "execution_count": 14,
     "metadata": {},
     "output_type": "execute_result"
    }
   ],
   "source": [
    "#Example 5: Using Two parameters:\n",
    "def display_fullname(firstname, lastname):\n",
    "    fullname = firstname, lastname\n",
    "    return fullname\n",
    "\n",
    "display_fullname('Olalekan', 'Samuel')"
   ]
  },
  {
   "cell_type": "markdown",
   "id": "4f4526ab",
   "metadata": {},
   "source": [
    "### Function return Statement\n",
    "\n",
    "#### Syntax\n",
    "\n",
    "```python\n",
    "def func_name():\n",
    "    statement1\n",
    "    statement2\n",
    "    statement3\n",
    "    ..\n",
    "    return (expression\n",
    "```"
   ]
  },
  {
   "cell_type": "markdown",
   "id": "d6486105",
   "metadata": {},
   "source": [
    "#### Returning Single Value"
   ]
  },
  {
   "cell_type": "code",
   "execution_count": 15,
   "id": "6c93092f",
   "metadata": {},
   "outputs": [
    {
     "name": "stdout",
     "output_type": "stream",
     "text": [
      "Hello,  Olalekan Samuel . Good afternoon\n",
      "None\n"
     ]
    }
   ],
   "source": [
    "print(greeting('Olalekan Samuel'))"
   ]
  },
  {
   "cell_type": "markdown",
   "id": "3bda527e",
   "metadata": {},
   "source": [
    "#### Passing arguments with key and value"
   ]
  },
  {
   "cell_type": "code",
   "execution_count": 16,
   "id": "954aa262",
   "metadata": {},
   "outputs": [
    {
     "name": "stdout",
     "output_type": "stream",
     "text": [
      "Boitumelo Mpele\n",
      "None\n"
     ]
    }
   ],
   "source": [
    "#Example 1\n",
    "\n",
    "def display_fullname(firstname, lastname):\n",
    "    space = ' '\n",
    "    fullname = firstname + space + lastname\n",
    "    print(fullname)\n",
    "\n",
    "print(display_fullname(firstname='Boitumelo', lastname='Mpele'))"
   ]
  },
  {
   "cell_type": "code",
   "execution_count": 17,
   "id": "99f722ad",
   "metadata": {},
   "outputs": [
    {
     "name": "stdout",
     "output_type": "stream",
     "text": [
      "60\n",
      "None\n"
     ]
    }
   ],
   "source": [
    "#Example 2\n",
    "\n",
    "#Example 5: Using Two parameters:\n",
    "def calculator(a, b):\n",
    "    addition = a + b\n",
    "    print(addition)\n",
    "print(calculator(b = 18, a = 42))"
   ]
  },
  {
   "cell_type": "code",
   "execution_count": 18,
   "id": "851ea5fe",
   "metadata": {},
   "outputs": [
    {
     "name": "stdout",
     "output_type": "stream",
     "text": [
      "Adding two numbers\n",
      "printing within function\n",
      "40\n",
      "Total:  40\n",
      "Hello\n",
      "Have a Good day\n"
     ]
    }
   ],
   "source": [
    "#Example 3\n",
    "\n",
    "def sum(a,b): #first Function\n",
    "    print(\"Adding two numbers\")\n",
    "    print(\"printing within function\")\n",
    "    print(a+b)\n",
    "    return a + b\n",
    "\n",
    "def message(): #Second Function\n",
    "    print(\"Hello\")\n",
    "    return\n",
    "\n",
    "total = sum(10, 30)\n",
    "print(\"Total: \", total)\n",
    "message()\n",
    "print(\"Have a Good day\")"
   ]
  },
  {
   "cell_type": "code",
   "execution_count": 19,
   "id": "fb7c94e2",
   "metadata": {},
   "outputs": [
    {
     "name": "stdout",
     "output_type": "stream",
     "text": [
      "The evene numbers are: [12, 56, 78, 42, 10, 18, 82]\n"
     ]
    }
   ],
   "source": [
    "#Example 5 - Returning List\n",
    "\n",
    "def is_even_number(list1):\n",
    "    evennumber = []\n",
    "    for n in list1:\n",
    "        if n % 2 == 0:\n",
    "            evennumber.append(n)\n",
    "            #return the list\n",
    "    return evennumber\n",
    "\n",
    "#passing the list to the function\n",
    "even_number = is_even_number([12, 13, 56, 78, 42, 3, 7, 9, 10, 18, 65, 81, 82])\n",
    "print(\"The evene numbers are:\", even_number)"
   ]
  },
  {
   "cell_type": "markdown",
   "id": "edcc7380",
   "metadata": {},
   "source": [
    "#### Return Multiple Values"
   ]
  },
  {
   "cell_type": "code",
   "execution_count": 20,
   "id": "5eefaae4",
   "metadata": {},
   "outputs": [
    {
     "name": "stdout",
     "output_type": "stream",
     "text": [
      "Addition:  25\n",
      "subtraction:  15\n",
      "Multiplication:  100\n",
      "Division:  4.0\n"
     ]
    }
   ],
   "source": [
    "#Example 1\n",
    "\n",
    "def arithmetic(number1, number2):\n",
    "    addition = number1 + number2\n",
    "    subtraction = number1 - number2\n",
    "    multiplication = number1 * number2\n",
    "    division = number1 / number2\n",
    "    \n",
    "    #return all the four values\n",
    "    return addition, subtraction, multiplication, division\n",
    "\n",
    "a, b, c, d = arithmetic(20, 5)\n",
    "\n",
    "print(\"Addition: \", a)\n",
    "print(\"subtraction: \", b)\n",
    "print(\"Multiplication: \", c)\n",
    "print(\"Division: \", d)"
   ]
  },
  {
   "cell_type": "markdown",
   "id": "21f46773",
   "metadata": {},
   "source": [
    "#### Return Boolean Value"
   ]
  },
  {
   "cell_type": "code",
   "execution_count": 21,
   "id": "fa3e43a0",
   "metadata": {},
   "outputs": [
    {
     "name": "stdout",
     "output_type": "stream",
     "text": [
      "It is an even number\n",
      "True\n",
      "False\n"
     ]
    }
   ],
   "source": [
    "#example 1:\n",
    "def is_even(n):\n",
    "    if n % 2 == 0:\n",
    "        print(\"It is an even number\")\n",
    "        return True\n",
    "    return False\n",
    "\n",
    "print(is_even(10))\n",
    "print(is_even(9))"
   ]
  },
  {
   "cell_type": "markdown",
   "id": "f09677fe",
   "metadata": {},
   "source": [
    "#### Return a List"
   ]
  },
  {
   "cell_type": "code",
   "execution_count": 22,
   "id": "7c1e70a0",
   "metadata": {},
   "outputs": [
    {
     "name": "stdout",
     "output_type": "stream",
     "text": [
      "The evene numbers are: [12, 56, 78, 42, 10, 18, 82]\n"
     ]
    }
   ],
   "source": [
    "def is_even_number(list1):\n",
    "    evennumber = []\n",
    "    for n in list1:\n",
    "        if n % 2 == 0:\n",
    "            evennumber.append(n)\n",
    "            #return the list\n",
    "    return evennumber\n",
    "\n",
    "#passing the list to the function\n",
    "even_number = is_even_number([12, 13, 56, 78, 42, 3, 7, 9, 10, 18, 65, 81, 82])\n",
    "print(\"The evene numbers are:\", even_number)"
   ]
  },
  {
   "cell_type": "markdown",
   "id": "c24607ee",
   "metadata": {},
   "source": [
    "#### How does one call a function in Python?"
   ]
  },
  {
   "cell_type": "markdown",
   "id": "ac904f47",
   "metadata": {},
   "source": [
    "<div>\n",
    "<img src=\"img/f2.png\" width=\"550\">\n",
    "</div>"
   ]
  },
  {
   "cell_type": "code",
   "execution_count": 23,
   "id": "e448cb3f",
   "metadata": {},
   "outputs": [
    {
     "name": "stdout",
     "output_type": "stream",
     "text": [
      "Hello,  Omolola Ogunleye . Good afternoon\n"
     ]
    }
   ],
   "source": [
    "greeting(\"Omolola Ogunleye\")"
   ]
  },
  {
   "cell_type": "code",
   "execution_count": 24,
   "id": "108d60c4",
   "metadata": {},
   "outputs": [
    {
     "name": "stdout",
     "output_type": "stream",
     "text": [
      "('Olalekan Samuel', 'Welcome to Mastering Data Science and Machine Learning in 12 weeks')\n",
      "('Olalekan', 'Welcome to Mastering Data Science and Machine Learning in 12 weeks')\n"
     ]
    }
   ],
   "source": [
    "def greeting1(name = \"Olalekan Samuel\"):\n",
    "    message = name, 'Welcome to Mastering Data Science and Machine Learning in 12 weeks'\n",
    "    return message\n",
    "\n",
    "print(greeting1())\n",
    "print(greeting1('Olalekan'))"
   ]
  },
  {
   "cell_type": "code",
   "execution_count": 25,
   "id": "9cc6132e",
   "metadata": {},
   "outputs": [
    {
     "name": "stdout",
     "output_type": "stream",
     "text": [
      "Boitumelo Ogunleye\n",
      "Olalekan Samuel\n"
     ]
    }
   ],
   "source": [
    "#Example 1\n",
    "\n",
    "def display_fullname(firstname = 'Boitumelo', lastname = 'Ogunleye'):\n",
    "    space = ' '\n",
    "    fullname = firstname + space + lastname\n",
    "    return fullname\n",
    "\n",
    "print(display_fullname())\n",
    "print(display_fullname(\"Olalekan\", \"Samuel\"))"
   ]
  },
  {
   "cell_type": "markdown",
   "id": "f632f807",
   "metadata": {},
   "source": [
    "#### Docstring \n",
    "\n",
    "`''' '''` or `\"\"\" \"\"\"`"
   ]
  },
  {
   "cell_type": "markdown",
   "id": "b08c01c0",
   "metadata": {},
   "source": [
    "#### Function `pass` Statement"
   ]
  },
  {
   "cell_type": "code",
   "execution_count": 26,
   "id": "c7e40fe2",
   "metadata": {},
   "outputs": [],
   "source": [
    "#Example 1\n",
    "\n",
    "def addition(number1, number2):\n",
    "    #This is an implementation of an addition function in the coming version\n",
    "    #use the pass statement here\n",
    "    pass\n",
    "addition(10, 2)"
   ]
  },
  {
   "cell_type": "markdown",
   "id": "3aa35b57",
   "metadata": {},
   "source": [
    "### 2. Python Global, Local and Non-Local Variables"
   ]
  },
  {
   "cell_type": "markdown",
   "id": "122d1aef",
   "metadata": {},
   "source": [
    "##### Global Variables"
   ]
  },
  {
   "cell_type": "code",
   "execution_count": 27,
   "id": "00a35e5d",
   "metadata": {},
   "outputs": [
    {
     "name": "stdout",
     "output_type": "stream",
     "text": [
      "The value in the first function is: 699\n",
      "The value in the second function is: 699\n"
     ]
    }
   ],
   "source": [
    "#Eample 1: Creating a Global Variable\n",
    "\n",
    "globalvariable = 699\n",
    "\n",
    "def function1():\n",
    "    print(\"The value in the first function is:\", globalvariable)\n",
    "    \n",
    "def function2():\n",
    "    print(\"The value in the second function is:\", globalvariable)\n",
    "    \n",
    "function1()\n",
    "function2()"
   ]
  },
  {
   "cell_type": "code",
   "execution_count": 28,
   "id": "3080e294",
   "metadata": {},
   "outputs": [
    {
     "name": "stdout",
     "output_type": "stream",
     "text": [
      "Y is inside: Global Variable\n",
      "Y is outside: Global Variable\n"
     ]
    }
   ],
   "source": [
    "#Example 2\n",
    "\n",
    "y = \"Global Variable\"\n",
    "\n",
    "def function3():\n",
    "    print(\"Y is inside:\", y)\n",
    "\n",
    "function3()\n",
    "print(\"Y is outside:\", y)"
   ]
  },
  {
   "cell_type": "code",
   "execution_count": 29,
   "id": "9d490688",
   "metadata": {},
   "outputs": [
    {
     "ename": "UnboundLocalError",
     "evalue": "local variable 'y' referenced before assignment",
     "output_type": "error",
     "traceback": [
      "\u001b[1;31m---------------------------------------------------------------------------\u001b[0m",
      "\u001b[1;31mUnboundLocalError\u001b[0m                         Traceback (most recent call last)",
      "\u001b[1;32m~\\AppData\\Local\\Temp\\ipykernel_24020\\3018478948.py\u001b[0m in \u001b[0;36m<module>\u001b[1;34m\u001b[0m\n\u001b[0;32m      6\u001b[0m     \u001b[0mprint\u001b[0m\u001b[1;33m(\u001b[0m\u001b[0my\u001b[0m\u001b[1;33m)\u001b[0m\u001b[1;33m\u001b[0m\u001b[1;33m\u001b[0m\u001b[0m\n\u001b[0;32m      7\u001b[0m \u001b[1;33m\u001b[0m\u001b[0m\n\u001b[1;32m----> 8\u001b[1;33m \u001b[0mfunction4\u001b[0m\u001b[1;33m(\u001b[0m\u001b[1;33m)\u001b[0m\u001b[1;33m\u001b[0m\u001b[1;33m\u001b[0m\u001b[0m\n\u001b[0m",
      "\u001b[1;32m~\\AppData\\Local\\Temp\\ipykernel_24020\\3018478948.py\u001b[0m in \u001b[0;36mfunction4\u001b[1;34m()\u001b[0m\n\u001b[0;32m      3\u001b[0m \u001b[1;33m\u001b[0m\u001b[0m\n\u001b[0;32m      4\u001b[0m \u001b[1;32mdef\u001b[0m \u001b[0mfunction4\u001b[0m\u001b[1;33m(\u001b[0m\u001b[1;33m)\u001b[0m\u001b[1;33m:\u001b[0m\u001b[1;33m\u001b[0m\u001b[1;33m\u001b[0m\u001b[0m\n\u001b[1;32m----> 5\u001b[1;33m     \u001b[0my\u001b[0m \u001b[1;33m=\u001b[0m \u001b[0my\u001b[0m \u001b[1;33m*\u001b[0m \u001b[1;36m2\u001b[0m\u001b[1;33m\u001b[0m\u001b[1;33m\u001b[0m\u001b[0m\n\u001b[0m\u001b[0;32m      6\u001b[0m     \u001b[0mprint\u001b[0m\u001b[1;33m(\u001b[0m\u001b[0my\u001b[0m\u001b[1;33m)\u001b[0m\u001b[1;33m\u001b[0m\u001b[1;33m\u001b[0m\u001b[0m\n\u001b[0;32m      7\u001b[0m \u001b[1;33m\u001b[0m\u001b[0m\n",
      "\u001b[1;31mUnboundLocalError\u001b[0m: local variable 'y' referenced before assignment"
     ]
    }
   ],
   "source": [
    "#Example 3:\n",
    "y = \"Global variable\"\n",
    "\n",
    "def function4():\n",
    "    y = y * 2\n",
    "    print(y)\n",
    "    \n",
    "function4()"
   ]
  },
  {
   "cell_type": "code",
   "execution_count": null,
   "id": "432fc9a0",
   "metadata": {},
   "outputs": [],
   "source": [
    "#Example 4\n",
    "\n",
    "global_lang = \"Machine Learning\"\n",
    "\n",
    "def var_scope_test():\n",
    "    local_language = \"Data Science\"\n",
    "    print(local_language)\n",
    "\n",
    "var_scope_test() #Output will be Data Science\n",
    "\n",
    "#Outside of the function\n",
    "print(global_lang) #Output will be Machine Learning\n",
    "\n",
    "print(local_language) #This will give us an error to say that local_lang is not defined"
   ]
  },
  {
   "cell_type": "code",
   "execution_count": null,
   "id": "5de45581",
   "metadata": {},
   "outputs": [],
   "source": [
    "# Example 5\n",
    "\n",
    "x = 75 # a in this case is a global variable\n",
    "\n",
    "def print_data():\n",
    "    x = 16 # a is a local variable in this context\n",
    "    z = 44\n",
    "    print(\"(x,z):(\", x, \",\", z,\")\")\n",
    "    \n",
    "print_data()\n",
    "print(\"Global a: \", x)\n",
    "print(\"Local b:\", z)"
   ]
  },
  {
   "cell_type": "markdown",
   "id": "68463fe4",
   "metadata": {},
   "source": [
    "#### Local Variables"
   ]
  },
  {
   "cell_type": "code",
   "execution_count": null,
   "id": "9fc8bb4d",
   "metadata": {},
   "outputs": [],
   "source": [
    "#Example 1: Accessing local variable outside of the scope\n",
    "\n",
    "def function5():\n",
    "    newvariable = \"local\"\n",
    "    print(newvariable)\n",
    "\n",
    "function5()\n",
    "#print(newvariable)"
   ]
  },
  {
   "cell_type": "code",
   "execution_count": null,
   "id": "11a38abe",
   "metadata": {},
   "outputs": [],
   "source": [
    "#Example 2:\n",
    "\n",
    "def function6():\n",
    "    loc_var = 1000 #This is a local variable\n",
    "    print(\"The Value of the local Variable is:\", loc_var)\n",
    "    \n",
    "def function7():\n",
    "    #loc_var = 1000 #This is a local variable\n",
    "    print(\"The Value of the local Variable is:\", loc_var)\n",
    "    \n",
    "function6()\n",
    "function7()"
   ]
  },
  {
   "cell_type": "markdown",
   "id": "927a4c05",
   "metadata": {},
   "source": [
    "#### Using Global and Local Variables together in the same code"
   ]
  },
  {
   "cell_type": "code",
   "execution_count": null,
   "id": "abcb7c0f",
   "metadata": {},
   "outputs": [],
   "source": [
    "# Example 1: Using Global and Local Variables in the same code\n",
    "\n",
    "glo_var = \"Global Variable\"\n",
    "\n",
    "def function8():\n",
    "    global glo_var\n",
    "    locvar = \"Local Variable\"\n",
    "    glo_var = glo_var*2\n",
    "    print(glo_var)\n",
    "    print(locvar)\n",
    "\n",
    "function8()"
   ]
  },
  {
   "cell_type": "markdown",
   "id": "44929289",
   "metadata": {},
   "source": [
    "##### Non Local Variable"
   ]
  },
  {
   "cell_type": "code",
   "execution_count": null,
   "id": "1c4ded5c",
   "metadata": {},
   "outputs": [],
   "source": [
    "#Example 1: Creating a non local variable\n",
    "\n",
    "x1 = \"global variable\" # This is a global variable\n",
    "\n",
    "def outer_func(): #This is the main function \n",
    "    x1 = \"local variable\" #Here, x1 is local variable for min function and it is nested variable for nested function\n",
    "    \n",
    "    print(\"Variable type for outer function:\", x1)\n",
    "    \n",
    "    def inner_func(): #nested function\n",
    "        nonlocal x1 #We are using the variable x1 in the nested function as a nonlocal variable\n",
    "        \n",
    "        x1 = \"nonlocal variable\" # We are changing the value of x1\n",
    "        print(\"Variable type for outer function:\", x1)\n",
    "    inner_func()\n",
    "\n",
    "outer_func()\n",
    "print(\"Variable type of x1\", x1)"
   ]
  },
  {
   "cell_type": "code",
   "execution_count": null,
   "id": "b2fda67f",
   "metadata": {},
   "outputs": [],
   "source": [
    "#Example 2:\n",
    "\n",
    "def outer_func():\n",
    "    x = 999\n",
    "    \n",
    "    def inner_func():\n",
    "    #Local variable will now act as global variable\n",
    "        nonlocal x\n",
    "        x = 899\n",
    "        print(\"The value of x inside inner function is:\", x)\n",
    "    \n",
    "    inner_func()\n",
    "    print(\"The value of x inside outer function is:\", x)\n",
    "    \n",
    "    \n",
    "outer_func()"
   ]
  },
  {
   "cell_type": "markdown",
   "id": "8e797ccd",
   "metadata": {},
   "source": [
    "### 3. Python Function Global Keywords"
   ]
  },
  {
   "cell_type": "code",
   "execution_count": null,
   "id": "973e0933",
   "metadata": {},
   "outputs": [],
   "source": [
    "# Example1: Accessing Global variable from inside a function\n",
    "\n",
    "globalvariable = 20 #This is a global variable\n",
    "\n",
    "def additions():\n",
    "    print(globalvariable)\n",
    "    \n",
    "additions()"
   ]
  },
  {
   "cell_type": "code",
   "execution_count": null,
   "id": "b1e05556",
   "metadata": {},
   "outputs": [],
   "source": [
    "# Example2: Accessing Global variable from inside a function\n",
    "# We may have a some scenarios where we need to modifiy the global variable inside a function\n",
    "\n",
    "globalvariable = 20 #This is a global variable\n",
    "\n",
    "def additions():\n",
    "    globalvaribale = globalvaribale + 10\n",
    "    print(globalvariable)\n",
    "    \n",
    "additions()"
   ]
  },
  {
   "cell_type": "code",
   "execution_count": null,
   "id": "8b6fdbad",
   "metadata": {},
   "outputs": [],
   "source": [
    "# Example3: Accessing Global variable from inside a function\n",
    "# We may have a some scenarios where we need to modifiy the global variable inside a function\n",
    "\n",
    "globalvariable = 20 #This is a global variable\n",
    "\n",
    "def additions():\n",
    "    global globalvariable #We are using global varaible inside the function\n",
    "    globalvariable = globalvariable + 10\n",
    "    print(\"Inside Additions():\", globalvariable)\n",
    "    \n",
    "additions()\n",
    "print(\"Inside the main:\", globalvariable)"
   ]
  },
  {
   "cell_type": "code",
   "execution_count": null,
   "id": "12bd554f",
   "metadata": {},
   "outputs": [],
   "source": [
    "# Exercise 4: Accessing Global Variable without the global Keyword\n",
    "\n",
    "globalvar = 10 # This is a global variable\n",
    "\n",
    "def myfunction():\n",
    "    print(\"The value in the first function:\", globalvar)\n",
    "    \n",
    "\n",
    "def myfunction2():\n",
    "    #Modify the global variable\n",
    "    #The function here will treat it as a local variable\n",
    "    globalvar = 30\n",
    "    print(\"The value in the second function:\", globalvar)\n",
    "    \n",
    "def myfunction3():\n",
    "    print(\"The value in the third function:\", globalvar)\n",
    "    \n",
    "myfunction()\n",
    "myfunction2()\n",
    "myfunction3()"
   ]
  },
  {
   "cell_type": "markdown",
   "id": "bc6a5c07",
   "metadata": {},
   "source": [
    "#### Global Varibales Accross Python Modules"
   ]
  },
  {
   "cell_type": "markdown",
   "id": "51a90ec8",
   "metadata": {},
   "source": [
    "### Global Variable in Nested Functions\n"
   ]
  },
  {
   "cell_type": "code",
   "execution_count": null,
   "id": "b15106b9",
   "metadata": {},
   "outputs": [],
   "source": [
    "#Example1: Uisng a global variable in Nested Functions\n",
    "\n",
    "def myfunction4():  #This is the main function\n",
    "    x = 40\n",
    "    \n",
    "    def myfunction5(): #This is the nested function\n",
    "        global x\n",
    "        x = 66\n",
    "    print(\"Before calling the nested function:\", x)\n",
    "    print(\"Calling the nested function now:\")\n",
    "    myfunction5()\n",
    "    print(\"After calling the nested function:\", x)\n",
    "    \n",
    "myfunction4()\n",
    "print(\"x in the main function\", x)"
   ]
  },
  {
   "cell_type": "markdown",
   "id": "cc5e4686",
   "metadata": {},
   "source": [
    "### 4. Python Function Argument and Parameter"
   ]
  },
  {
   "cell_type": "markdown",
   "id": "dfec592f",
   "metadata": {},
   "source": [
    "#### Python Function Argunments"
   ]
  },
  {
   "cell_type": "markdown",
   "id": "2b5d2c10",
   "metadata": {},
   "source": [
    "##### Positional Arguments"
   ]
  },
  {
   "cell_type": "code",
   "execution_count": null,
   "id": "f5cf8ea2",
   "metadata": {},
   "outputs": [],
   "source": [
    "#Example 1\n",
    "\n",
    "def greet(name, message):\n",
    "    \"\"\"This function greest the user with the provided message\"\"\"\n",
    "    print(\"Hello\", name,',', message)\n",
    "    \n",
    "greet(\"Olalekan Samuel\", \"Good day. Welcome to this training\")"
   ]
  },
  {
   "cell_type": "code",
   "execution_count": null,
   "id": "9ebe23e7",
   "metadata": {},
   "outputs": [],
   "source": [
    "greet(\"Olalekan\")"
   ]
  },
  {
   "cell_type": "code",
   "execution_count": null,
   "id": "dbd62cb1",
   "metadata": {},
   "outputs": [],
   "source": [
    "#Example 2:\n",
    "\n",
    "def add(a,b):\n",
    "    print(a + b)\n",
    "    print(a - b)\n",
    "    \n",
    "add(90, 20)\n",
    "add(70, 60)"
   ]
  },
  {
   "cell_type": "code",
   "execution_count": null,
   "id": "8bdfcb4b",
   "metadata": {},
   "outputs": [],
   "source": [
    "#Example 3:\n",
    "\n",
    "def add(a,b):\n",
    "    print(a + b)\n",
    "    print(a - b)\n",
    "    \n",
    "add(70, 6, 90)"
   ]
  },
  {
   "cell_type": "code",
   "execution_count": null,
   "id": "3a86c9d8",
   "metadata": {},
   "outputs": [],
   "source": [
    "#Example 4\n",
    "\n",
    "def even_odd(x):\n",
    "    if (x % 2 == 0):\n",
    "        print(\"The Number is an even number\")\n",
    "    else:\n",
    "        print(\"The Number is an odd number\")\n",
    "        \n",
    "even_odd(19)\n",
    "even_odd(20)"
   ]
  },
  {
   "cell_type": "code",
   "execution_count": null,
   "id": "57630b1a",
   "metadata": {},
   "outputs": [],
   "source": [
    "#Example 5:\n",
    "\n",
    "def cube(x):\n",
    "    \"\"\"This x varaible is passed a number value into this function, to return the cube of x\"\"\"\n",
    "    \n",
    "    y = x*x*x\n",
    "    return y\n",
    "\n",
    "z = cube(5)\n",
    "print(z)"
   ]
  },
  {
   "cell_type": "markdown",
   "id": "e9d284b2",
   "metadata": {},
   "source": [
    "#### Variable Function Arguments\n",
    "\n",
    "1. Default Arguments\n",
    "2. Keyword Arguments\n",
    "3. Arbitrary/Variable-Lengths Arguments"
   ]
  },
  {
   "cell_type": "markdown",
   "id": "74724a51",
   "metadata": {},
   "source": [
    "###### Python Default Arguments"
   ]
  },
  {
   "cell_type": "code",
   "execution_count": null,
   "id": "dbfbd751",
   "metadata": {},
   "outputs": [],
   "source": [
    "#Example 1:\n",
    "def greet(name, message=\"Good afternoon!\"): #Name is fixed arguments and message is variable argument\n",
    "    print(\"Hello, how are you doing\", name + ', ' + message)\n",
    "\n",
    "    \n",
    "greet(\"Olalekan\")\n",
    "greet(\"Omolola\", \"How are you doing?\")\n",
    "greet(\"Oluwabunmi\", \"How you are well\")"
   ]
  },
  {
   "cell_type": "code",
   "execution_count": null,
   "id": "3cb0b0de",
   "metadata": {},
   "outputs": [],
   "source": [
    "#Example2\n",
    "\n",
    "def greet(message=\"Good afternoon!\", name): #Name is fixed arguments and message is variable argument\n",
    "    print(\"Hello, how are you doing\", name)"
   ]
  },
  {
   "cell_type": "code",
   "execution_count": null,
   "id": "ab148c45",
   "metadata": {},
   "outputs": [],
   "source": [
    "#Example 3: Function with Defauls Argument\n",
    "\n",
    "def message(name=\"Everyone\"):\n",
    "    print(\"Hello\", name)\n",
    "    \n",
    "#calling the function with argument\n",
    "message(\"David\")\n",
    "\n",
    "#calling the function without argument\n",
    "message()"
   ]
  },
  {
   "cell_type": "code",
   "execution_count": null,
   "id": "6e1a6cd7",
   "metadata": {},
   "outputs": [],
   "source": [
    "#Example 4: Print default age if it is not passed\n",
    "\n",
    "def employee_data(name, empl_id, age, company=\"Intelligent System\"): #We have a total of 4 arguments, 3 of them are fixed and 1 is variable\n",
    "    print(\"Details of: \", name)\n",
    "    print(\"Employee ID: \", empl_id)\n",
    "    print(\"Age: \", age)\n",
    "    print(\"Company: \", company)\n",
    "    \n",
    "\n",
    "#Call employee_data\n",
    "employee_data(\"Olalekan Samuel\", 1967, 43, \"Favour Business\")\n",
    "print(\"--------------------------------\")\n",
    "employee_data(\"Oluwabunmi Ogunleye\", 1123, 42)"
   ]
  },
  {
   "cell_type": "markdown",
   "id": "0d2a5a3f",
   "metadata": {},
   "source": [
    "#### Python Keyword Arguments"
   ]
  },
  {
   "cell_type": "code",
   "execution_count": null,
   "id": "9cd71b46",
   "metadata": {},
   "outputs": [],
   "source": [
    "#Example 1\n",
    "\n",
    "greet(\"Adebanji\", \"How do you do\")\n",
    "\n",
    "#2 Keyword Arguments\n",
    "greet(name = \"Adebanji\", message=\"How are you doing\")\n",
    "\n",
    "#3 Keyword Arguments (out of order)\n",
    "greet(message=\"How are you doing\", name = \"Adebanji\")\n",
    "\n",
    "#4 1 positional, 1 keyword argument\n",
    "greet(\"Adebanji\", message=\"How are you doing\")"
   ]
  },
  {
   "cell_type": "code",
   "execution_count": null,
   "id": "bc7c4ad7",
   "metadata": {},
   "outputs": [],
   "source": [
    "greet(name = \"Adebanji\", \"How are you doing\")"
   ]
  },
  {
   "cell_type": "code",
   "execution_count": null,
   "id": "dd09e936",
   "metadata": {},
   "outputs": [],
   "source": [
    "#Example 2\n",
    "\n",
    "def print_fullname(firstname, lastname ):\n",
    "    space = ' '\n",
    "    fullname = firstname + space + lastname\n",
    "    return fullname\n",
    "\n",
    "print(print_fullname(firstname='Boitumelo', lastname='Mpele'))"
   ]
  },
  {
   "cell_type": "code",
   "execution_count": null,
   "id": "c03b2f73",
   "metadata": {},
   "outputs": [],
   "source": [
    "#Example 3\n",
    "\n",
    "def calculate_age(current_year, birth_year):\n",
    "    age = current_year - birth_year\n",
    "    return age\n",
    "\n",
    "print(\"Age: \", calculate_age(2023, 1979))"
   ]
  },
  {
   "cell_type": "markdown",
   "id": "67af02f0",
   "metadata": {},
   "source": [
    "#### Arbitrary/Variable-Lengths Arguments"
   ]
  },
  {
   "cell_type": "code",
   "execution_count": null,
   "id": "4762d6ae",
   "metadata": {},
   "outputs": [],
   "source": [
    "#Example 1:\n",
    "def newGreeting(*names):\n",
    "    \"\"\"This function greets all the person in the names tuple.\"\"\"\n",
    "    # Names is a tuple with arguments\n",
    "    for name in names:\n",
    "        print(\"Hello\", name)\n",
    "    \n",
    "newGreeting(\"Olalekan\", \"Dylan\", \"Adebanji\", \"Ademola\", \"Olusola\")"
   ]
  },
  {
   "cell_type": "code",
   "execution_count": null,
   "id": "d1223a3e",
   "metadata": {},
   "outputs": [],
   "source": [
    "#Example 2:\n",
    "\n",
    "def additions(*numbers):\n",
    "    total = 0\n",
    "    for number in numbers:\n",
    "        total = total + number\n",
    "    print(\"Sum is:\", total)\n",
    "    \n",
    "additions()\n",
    "additions(13, 23, 56, 87, 12, 145)\n",
    "additions(12, 10, 7, 5, 19, 56, 32)"
   ]
  },
  {
   "cell_type": "markdown",
   "id": "9442e7ef",
   "metadata": {},
   "source": [
    "You can also have default and arbitrary number of parametes in Functions"
   ]
  },
  {
   "cell_type": "code",
   "execution_count": null,
   "id": "3d4a72b4",
   "metadata": {},
   "outputs": [],
   "source": [
    "#Example 3:\n",
    "\n",
    "def print_info(arg1, *vartuple):\n",
    "    \n",
    "    '''This function will print a variable passed arguments'''\n",
    "    print(\"The Output is\")\n",
    "    print(arg1)\n",
    "    for var in vartuple:\n",
    "        print(var)\n",
    "    return\n",
    "\n",
    "#Now let's call the print_info function\n",
    "\n",
    "print_info(20) # We have give only one value for the argument\n",
    "print_info(80, 50, 40, 30)\n",
    "print_info(80, 50, 40, 30, 45, 32, 98)"
   ]
  },
  {
   "cell_type": "markdown",
   "id": "b797d210",
   "metadata": {},
   "source": [
    "#### Passing Function as parameters of another function"
   ]
  },
  {
   "cell_type": "code",
   "execution_count": null,
   "id": "599a2748",
   "metadata": {},
   "outputs": [],
   "source": [
    "def square_number(n):\n",
    "    return n * n\n",
    "\n",
    "def do_something(f, x):\n",
    "    return f(x)\n",
    "\n",
    "print(do_something(square_number, 3))"
   ]
  },
  {
   "cell_type": "markdown",
   "id": "5223fd6e",
   "metadata": {},
   "source": [
    "### 5. Python Function Recursion\n",
    "\n",
    "<div>\n",
    "<img src=\"img/re1.png\" width=\"250\">\n",
    "</div>\n",
    "\n",
    "A very good example is a factorial. So A factorial of a number is a product of all the integers from 1 to that number. For instance, the factorial of 6! is \n",
    "\n",
    "```python \n",
    "1*2*3*4*5*6 = 720\n",
    "```"
   ]
  },
  {
   "cell_type": "code",
   "execution_count": 30,
   "id": "3f4d03c8",
   "metadata": {},
   "outputs": [
    {
     "name": "stdout",
     "output_type": "stream",
     "text": [
      "The Factorial of 3 is 6\n"
     ]
    }
   ],
   "source": [
    "#Example 1\n",
    "\n",
    "def factorial(x):\n",
    "    '''This is a recursive function t5o find the factorial of an integer'''\n",
    "    \n",
    "    if x == 1:\n",
    "        return 1\n",
    "    else:\n",
    "        return (x * factorial(x-1)) # 3 * 2 * 1 = 6\n",
    "    \n",
    "number = 3\n",
    "print(\"The Factorial of\", number, 'is', factorial(number))"
   ]
  },
  {
   "cell_type": "markdown",
   "id": "01391792",
   "metadata": {},
   "source": [
    "<div>\n",
    "<img src=\"img/re2.png\" width=\"350\">\n",
    "</div>"
   ]
  },
  {
   "cell_type": "markdown",
   "id": "44caedbe",
   "metadata": {},
   "source": [
    "### 6. Python Anonymous (lambda) Function"
   ]
  },
  {
   "cell_type": "markdown",
   "id": "b42f1346",
   "metadata": {},
   "source": [
    "##### Syntax\n",
    "\n",
    "```python\n",
    "lambda argument_list: expression\n",
    "\n",
    "lambda n:n+n\n",
    "```"
   ]
  },
  {
   "cell_type": "code",
   "execution_count": 31,
   "id": "9a2c55c8",
   "metadata": {},
   "outputs": [
    {
     "name": "stdout",
     "output_type": "stream",
     "text": [
      "The evene numbers are: [12, 56, 78, 42, 10, 18, 82]\n"
     ]
    }
   ],
   "source": [
    "#Example1: Program to print even functiosn without lambda\n",
    "\n",
    "def evennumber(list1):\n",
    "    evennumber = []\n",
    "    for n in list1:\n",
    "        if n % 2 == 0:\n",
    "            evennumber.append(n)\n",
    "            #return the list\n",
    "    return evennumber\n",
    "\n",
    "listofnumber = [12, 13, 56, 78, 42, 3, 7, 9, 10, 18, 65, 81, 82]\n",
    "\n",
    "even_number = evennumber(listofnumber)\n",
    "print(\"The evene numbers are:\", even_number)"
   ]
  },
  {
   "cell_type": "code",
   "execution_count": 37,
   "id": "d06529a3",
   "metadata": {},
   "outputs": [
    {
     "name": "stdout",
     "output_type": "stream",
     "text": [
      "The evene numbers are: [12, 56, 78, 42, 10, 18, 82]\n"
     ]
    }
   ],
   "source": [
    "#Example2: Program to print even functiosn with lambda\n",
    "\n",
    "list_of_number = [12, 13, 56, 78, 42, 3, 7, 9, 10, 18, 65, 81, 82]\n",
    "\n",
    "even_nos = list(filter(lambda x: x % 2 == 0, list_of_number))\n",
    "print(\"The evene numbers are:\", even_nos)"
   ]
  },
  {
   "cell_type": "code",
   "execution_count": 34,
   "id": "d484bb42",
   "metadata": {},
   "outputs": [
    {
     "name": "stdout",
     "output_type": "stream",
     "text": [
      "32\n"
     ]
    }
   ],
   "source": [
    "#Example3\n",
    "\n",
    "double = lambda x:x*2\n",
    "\n",
    "print(double(16))"
   ]
  },
  {
   "cell_type": "markdown",
   "id": "bfb5b2f1",
   "metadata": {},
   "source": [
    "```python\n",
    "double = lambda x:x*2 is the same as \n",
    "\n",
    "def double(x):\n",
    "    return x*2\n",
    "```"
   ]
  },
  {
   "cell_type": "code",
   "execution_count": 35,
   "id": "930de7c6",
   "metadata": {},
   "outputs": [
    {
     "data": {
      "text/plain": [
       "32"
      ]
     },
     "execution_count": 35,
     "metadata": {},
     "output_type": "execute_result"
    }
   ],
   "source": [
    "def double(x):\n",
    "    return x*2\n",
    "\n",
    "double(16)"
   ]
  },
  {
   "cell_type": "code",
   "execution_count": 36,
   "id": "b7630d0f",
   "metadata": {},
   "outputs": [
    {
     "name": "stdout",
     "output_type": "stream",
     "text": [
      "The square number is 100\n",
      "The square number is 100\n"
     ]
    }
   ],
   "source": [
    "#Example4\n",
    "\n",
    "def square(x):\n",
    "    return x*x\n",
    "\n",
    "#anonymous function\n",
    "\n",
    "sqr = lambda x:x*x\n",
    "\n",
    "#calling the sqaure function\n",
    "print(\"The square number is\", square(10)) #we called the nornal function\n",
    "print(\"The square number is\", sqr(10)) #we called the lambda function"
   ]
  },
  {
   "cell_type": "markdown",
   "id": "3f497851",
   "metadata": {},
   "source": [
    "#### Use of Lambda Function in Python"
   ]
  },
  {
   "cell_type": "markdown",
   "id": "be7314b8",
   "metadata": {},
   "source": [
    "**`filter()`**, **`map()`**, **`reduce()`**"
   ]
  },
  {
   "cell_type": "markdown",
   "id": "b72905b1",
   "metadata": {},
   "source": [
    "### Lambda Function use with **`filter()`**"
   ]
  },
  {
   "cell_type": "code",
   "execution_count": 38,
   "id": "79c38ccd",
   "metadata": {},
   "outputs": [
    {
     "name": "stdout",
     "output_type": "stream",
     "text": [
      "The even Numbers are: [16, 12, 56, 78, 42, 10, 18, 82]\n"
     ]
    }
   ],
   "source": [
    "#Example 1: Sample program to filter out only the even items from a list\n",
    "\n",
    "mylist = [9, 13, 16, 81, 73, 101, 12, 13, 56, 78, 42, 3, 7, 9, 10, 18, 65, 81, 82, 69]\n",
    "\n",
    "new_mylist = list(filter(lambda x:(x % 2 == 0), mylist)) #This will return the output in the form of a list\n",
    "\n",
    "print(\"The even Numbers are:\", new_mylist)"
   ]
  },
  {
   "cell_type": "code",
   "execution_count": 40,
   "id": "a0d8f2ec",
   "metadata": {},
   "outputs": [
    {
     "name": "stdout",
     "output_type": "stream",
     "text": [
      "The positive Numbers are: [8, 5, 7]\n"
     ]
    }
   ],
   "source": [
    "#Example\n",
    "\n",
    "List = [-10, -5, -4, -7, -8, -6, 8, -12, 5, 7, -30]\n",
    "positive_number = list(filter(lambda x: x > 0, List))\n",
    "\n",
    "print(\"The positive Numbers are:\", positive_number)"
   ]
  },
  {
   "cell_type": "markdown",
   "id": "7a5c3638",
   "metadata": {},
   "source": [
    "### Lambda Function use with **`map()`**"
   ]
  },
  {
   "cell_type": "code",
   "execution_count": 41,
   "id": "bb3d0698",
   "metadata": {},
   "outputs": [
    {
     "name": "stdout",
     "output_type": "stream",
     "text": [
      "The doubled Numbers are: [-20, -10, -8, -14, -16, -12, 16, -24, 10, 14]\n"
     ]
    }
   ],
   "source": [
    "#Example 1: Sample Program to double all the items in a listing using map()\n",
    "\n",
    "My_List = [-10, -5, -4, -7, -8, -6, 8, -12, 5, 7] # Total number of 10 elements\n",
    "\n",
    "new_my_list=  list(map(lambda x: x*2, My_List))\n",
    "print(\"The doubled Numbers are:\", new_my_list)"
   ]
  },
  {
   "cell_type": "code",
   "execution_count": 42,
   "id": "ca61e9a2",
   "metadata": {},
   "outputs": [
    {
     "name": "stdout",
     "output_type": "stream",
     "text": [
      "The doubled Numbers are: [-1000, -125, -64, -343, -512, -216, 512, -1728, 125, 343]\n"
     ]
    }
   ],
   "source": [
    "#Example 2: Sample Program to perform Cube to all the items in a listing using map()\n",
    "\n",
    "My_List = [-10, -5, -4, -7, -8, -6, 8, -12, 5, 7] # Total number of 10 elements\n",
    "\n",
    "new_my_list=  list(map(lambda x: x*x*x, My_List))\n",
    "print(\"The doubled Numbers are:\", new_my_list)"
   ]
  },
  {
   "cell_type": "markdown",
   "id": "3cc105ba",
   "metadata": {},
   "source": [
    "### Lambda Function use with **`reduce()`**\n",
    "\n",
    "The reduce function is present in the functools module. As a result, you need to import the reduce function using the import statement"
   ]
  },
  {
   "cell_type": "code",
   "execution_count": 43,
   "id": "4cb89a03",
   "metadata": {},
   "outputs": [
    {
     "name": "stdout",
     "output_type": "stream",
     "text": [
      "The total addition for all the Numbers are: 838\n"
     ]
    }
   ],
   "source": [
    "#Example 1:\n",
    "\n",
    "from functools import reduce\n",
    "\n",
    "mylist = [9, 13, 16, 81, 73, 101, 12, 13, 56, 78, 42, 3, 7, 9, 10, 18, 65, 81, 82, 69]\n",
    "\n",
    "addition = reduce(lambda x, y: x+y, mylist)\n",
    "print(\"The total addition for all the Numbers are:\", addition)"
   ]
  },
  {
   "cell_type": "markdown",
   "id": "0bddbf79",
   "metadata": {},
   "source": [
    "### 7. Python Modules"
   ]
  },
  {
   "cell_type": "markdown",
   "id": "0a4d71f7",
   "metadata": {},
   "source": [
    "To be able to import ipynb file, you need to install import-ipynb library using the following command:\n",
    "\n",
    "**pip install import-ipynb**\n",
    "\n",
    "##### **Advantages of Module**\n",
    "\n",
    "* **Reusability**\n",
    "* **Categorization**\n",
    "* **Simplicity**\n",
    "* **Maintainability**\n",
    "* **Scoping**\n",
    "\n",
    "Zen of Python - Please read more about this\n",
    "\n",
    "This is the link to get the Python Built-in Modules:\n",
    "https://docs.python.org/3/py-modindex.html"
   ]
  },
  {
   "cell_type": "code",
   "execution_count": 44,
   "id": "de7836d7",
   "metadata": {},
   "outputs": [
    {
     "data": {
      "text/plain": [
       "12.9"
      ]
     },
     "execution_count": 44,
     "metadata": {},
     "output_type": "execute_result"
    }
   ],
   "source": [
    "import example\n",
    "\n",
    "example.add(5, 7.9)"
   ]
  },
  {
   "cell_type": "code",
   "execution_count": 46,
   "id": "a23391fa",
   "metadata": {},
   "outputs": [],
   "source": [
    "import math, random, example"
   ]
  },
  {
   "cell_type": "markdown",
   "id": "085d239c",
   "metadata": {},
   "source": [
    "#### Python `from-import` statement"
   ]
  },
  {
   "cell_type": "code",
   "execution_count": 47,
   "id": "d0a40cc4",
   "metadata": {},
   "outputs": [],
   "source": [
    "from example import add\n",
    "\n",
    "from matplotlib import pyplot\n",
    "\n",
    "from math import factorial"
   ]
  },
  {
   "cell_type": "markdown",
   "id": "808f7dc3",
   "metadata": {},
   "source": [
    "#### Python `alias` from import statement"
   ]
  },
  {
   "cell_type": "code",
   "execution_count": 49,
   "id": "58f2e9a9",
   "metadata": {},
   "outputs": [],
   "source": [
    "from matplotlib import pyplot as plt\n",
    "\n",
    "import pandas as pd\n",
    "\n",
    "import numpy as np"
   ]
  },
  {
   "cell_type": "markdown",
   "id": "12608aa9",
   "metadata": {},
   "source": [
    "#### Python import all statement"
   ]
  },
  {
   "cell_type": "code",
   "execution_count": 50,
   "id": "e88ec245",
   "metadata": {},
   "outputs": [],
   "source": [
    "from math import *"
   ]
  },
  {
   "cell_type": "markdown",
   "id": "c26415f5",
   "metadata": {},
   "source": [
    "#### Python module search"
   ]
  },
  {
   "cell_type": "code",
   "execution_count": 51,
   "id": "f31687a7",
   "metadata": {},
   "outputs": [
    {
     "data": {
      "text/plain": [
       "['C:\\\\Users\\\\olale\\\\Data Science and Machine Learning in 12 Weeks\\\\Week 2 - Python Fundamentals',\n",
       " 'C:\\\\Users\\\\olale\\\\anaconda3\\\\python39.zip',\n",
       " 'C:\\\\Users\\\\olale\\\\anaconda3\\\\DLLs',\n",
       " 'C:\\\\Users\\\\olale\\\\anaconda3\\\\lib',\n",
       " 'C:\\\\Users\\\\olale\\\\anaconda3',\n",
       " '',\n",
       " 'C:\\\\Users\\\\olale\\\\anaconda3\\\\lib\\\\site-packages',\n",
       " 'C:\\\\Users\\\\olale\\\\anaconda3\\\\lib\\\\site-packages\\\\win32',\n",
       " 'C:\\\\Users\\\\olale\\\\anaconda3\\\\lib\\\\site-packages\\\\win32\\\\lib',\n",
       " 'C:\\\\Users\\\\olale\\\\anaconda3\\\\lib\\\\site-packages\\\\Pythonwin',\n",
       " 'C:\\\\Users\\\\olale\\\\anaconda3\\\\lib\\\\site-packages\\\\IPython\\\\extensions',\n",
       " 'C:\\\\Users\\\\olale\\\\.ipython']"
      ]
     },
     "execution_count": 51,
     "metadata": {},
     "output_type": "execute_result"
    }
   ],
   "source": [
    "import sys\n",
    "sys.path"
   ]
  },
  {
   "cell_type": "markdown",
   "id": "d9d83e6a",
   "metadata": {},
   "source": [
    "#### 8. Python Random Modules"
   ]
  },
  {
   "cell_type": "code",
   "execution_count": 53,
   "id": "b1fd8847",
   "metadata": {},
   "outputs": [
    {
     "name": "stdout",
     "output_type": "stream",
     "text": [
      "0.9560342718892494\n",
      "0.9478274870593494\n",
      "0.05655136772680869\n",
      "0.08487199515892163\n",
      "0.8354988781294496\n",
      "0.7359699890685233\n"
     ]
    }
   ],
   "source": [
    "import random\n",
    "\n",
    "random.seed(2)\n",
    "\n",
    "print(random.random())\n",
    "print(random.random())\n",
    "print(random.random())\n",
    "print(random.random())\n",
    "print(random.random())\n",
    "print(random.random())"
   ]
  },
  {
   "cell_type": "markdown",
   "id": "a697a5f7",
   "metadata": {},
   "source": [
    "**List of Functions that are available in the Python Random Module**\n",
    "\n",
    "| Function | Description |\n",
    "|:----| :--- |\n",
    "| **`seed(a=None, version=2)`** | Initialize the random number generator | \n",
    "| **`getstate()`** | Returns an object capturing the current internal state of the generator | \n",
    "| **`setstate(state)`** | Restores the internal state of the generator | \n",
    "| **`getrandbits(k)`** | Returns a Python integer with k random bits | \n",
    "| **`randrange(start, stop[, step])`** | Returns a random integer from the range | \n",
    "| **`randint(a, b)`** | Returns a random integer between a and b inclusive | \n",
    "| **`choice(seq)`** | Return a random element from the non-empty sequence | \n",
    "| **`shuffle(seq)`** | Shuffle the sequence | \n",
    "| **`sample(population, k)`** | Return a k length list of unique elements chosen from the population sequence | \n",
    "| **`random()`** | Return the next random floating point number in the range [0.0, 1.0] | \n",
    "| **`uniform(a, b)`** | Return a random floating point number between a and b inclusive | \n",
    "| **`triangular(low, high, mode)`** | Return a random floating point number between low and high, with the specified mode between those bounds | \n",
    "| **`betavariate(alpha, beta)`** | Beta distribution | \n",
    "| **`expovariate(lambd)`** | Exponential distribution | \n",
    "| **`gammavariate(alpha, beta)`** | Gamma distribution | \n",
    "| **`gauss(mu, sigma)`** | Gaussian distribution | \n",
    "| **`lognormvariate(mu, sigma)`** | Log normal distribution | \n",
    "| **`normalvariate(mu, sigma)`** | Normal distribution | \n",
    "| **`vonmisesvariate(mu, kappa)`** | Vonmises distribution | \n",
    "| **`paretovariate(alpha)`** | Pareto distribution | \n",
    "| **`weibullvariate(alpha, beta)`** | Weibull distribution | \n",
    "\n",
    "\n",
    "Visit this page to learn more on **[how you can generate pseudo-random numbers in Python](https://docs.python.org/3/library/random.html)**."
   ]
  },
  {
   "cell_type": "markdown",
   "id": "b3733385",
   "metadata": {},
   "source": [
    "### 9. Python Mathematical Functions\n",
    "\n",
    "\n",
    "## Functions in Python Math Module\n",
    "\n",
    "Here is the list of all the functions and attributes defined in **`math`** module with a brief explanation of what they do.\n",
    "\n",
    "**List of Functions in Python Math Module**\n",
    "\n",
    "| Function | Description |\n",
    "|:----| :--- |\n",
    "| **`ceil(x)`** | Returns the smallest integer greater than or equal to x. | \n",
    "| **`copysign(x, y)`** | Returns x with the sign of y | \n",
    "| **`fabs(x)`** | Returns the absolute value of x | \n",
    "| **`factorial(x)`** | Returns the factorial of x | \n",
    "| **`floor(x)`** | Returns the largest integer less than or equal to x | \n",
    "| **`fmod(x, y)`** | Returns the remainder when x is divided by y | \n",
    "| **`frexp(x)`** | Returns the mantissa and exponent of x as the pair (m, e) | \n",
    "| **`fsum(iterable)`** | Returns an accurate floating point sum of values in the iterable | \n",
    "| **`isfinite(x)`** | Returns True if x is neither an infinity nor a NaN (Not a Number) | \n",
    "| **`isinf(x)`** | Returns True if x is a positive or negative infinity | \n",
    "| **`isnan(x)`** | Returns True if x is a NaN | \n",
    "| **`ldexp(x, i)`** | Returns x * (2**i) | \n",
    "| **`modf(x)`** | Returns the fractional and integer parts of x | \n",
    "| **`trunc(x)`** | Returns the truncated integer value of x | \n",
    "| **`exp(x)`** | Returns e**x | \n",
    "| **`expm1(x)`** | Returns e**x - 1 | \n",
    "| **`log(x[, b])`** | Returns the logarithm of **`x`** to the base **`b`** (defaults to e) | \n",
    "| **`log1p(x)`** | Returns the natural logarithm of 1+x | \n",
    "| **`log2(x)`** | Returns the base-2 logarithm of x | \n",
    "| **`log10(x)`** | Returns the base-10 logarithm of x | \n",
    "| **`pow(x, y)`** | Returns x raised to the power y | \n",
    "| **`sqrt(x)`** | Returns the square root of x | \n",
    "| **`acos(x)`** | Returns the arc cosine of x | \n",
    "| **`asin(x)`** | Returns the arc sine of x | \n",
    "| **`atan(x)`** | Returns the arc tangent of x | \n",
    "| **`atan2(y, x)`** | Returns atan(y / x) | \n",
    "| **`cos(x)`** | Returns the cosine of x | \n",
    "| **`hypot(x, y)`** | Returns the Euclidean norm, sqrt(x*x + y*y) | \n",
    "| **`sin(x)`** | Returns the sine of x | \n",
    "| **`tan(x)`** | Returns the tangent of x | \n",
    "| **`degrees(x)`** | Converts angle x from radians to degrees | \n",
    "| **`radians(x)`** | Converts angle x from degrees to radians | \n",
    "| **`acosh(x)`** | Returns the inverse hyperbolic cosine of x | \n",
    "| **`asinh(x)`** | Returns the inverse hyperbolic sine of x | \n",
    "| **`atanh(x)`** | Returns the inverse hyperbolic tangent of x | \n",
    "| **`cosh(x)`** | Returns the hyperbolic cosine of x | \n",
    "| **`sinh(x)`** | Returns the hyperbolic cosine of x | \n",
    "| **`tanh(x)`** | Returns the hyperbolic tangent of x | \n",
    "| **`erf(x)`** | Returns the error function at x | \n",
    "| **`erfc(x)`** | Returns the complementary error function at x | \n",
    "| **`gamma(x)`** | Returns the Gamma function at x | \n",
    "| **`lgamma(x)`** | Returns the natural logarithm of the absolute value of the Gamma function at x | \n",
    "| **`pi`** | Mathematical constant, the ratio of circumference of a circle to it's diameter (3.14159...) | \n",
    "| **`e`** | mathematical constant e (2.71828...) | \n",
    "\n",
    "Visit this page to learn about all the **[mathematical functions defined in Python 3](https://docs.python.org/3/library/math.html)**.\n",
    "\n",
    "This module does not support complex datatypes. The **[cmath module](https://docs.python.org/3.0/library/cmath.html)** is the **`complex`** counterpart."
   ]
  },
  {
   "cell_type": "code",
   "execution_count": 54,
   "id": "89c171e9",
   "metadata": {},
   "outputs": [
    {
     "data": {
      "text/plain": [
       "3.0"
      ]
     },
     "execution_count": 54,
     "metadata": {},
     "output_type": "execute_result"
    }
   ],
   "source": [
    "import math\n",
    "\n",
    "math.sqrt(9)"
   ]
  },
  {
   "cell_type": "markdown",
   "id": "d15c94cd",
   "metadata": {},
   "source": [
    "#### 10. Python Packages\n",
    "\n",
    "A directory must contain a file named __init__.py\n",
    "\n",
    "\n",
    "|<img src=\"img/pack1.png\" width=\"400\">|\n",
    "|:--:|\n",
    "|**Package Module Structure in Python Programming**|"
   ]
  },
  {
   "cell_type": "markdown",
   "id": "4d2e4db6",
   "metadata": {},
   "source": [
    "#### Importing Modules from Packages\n",
    "\n",
    "```python\n",
    "import Game.Level.start\n",
    "```\n",
    "```python\n",
    "import Game.Level.start.select_difficulty()\n",
    "```\n",
    "\n",
    "```python\n",
    "from Game.Level import start\n",
    "```\n",
    "\n",
    "```python\n",
    "start.select_difficulty()\n",
    "```\n",
    "\n",
    "```python\n",
    "from Game.Level.start import select_difficulty()\n",
    "```\n",
    "\n",
    "```python\n",
    "select_difficulty()\n",
    "```"
   ]
  },
  {
   "cell_type": "code",
   "execution_count": 55,
   "id": "9afe05eb",
   "metadata": {},
   "outputs": [],
   "source": [
    "from matplotlib.pyplot import arrow"
   ]
  },
  {
   "cell_type": "markdown",
   "id": "19df6e6f",
   "metadata": {},
   "source": [
    "### 11. Python User-defined Functions\n",
    "\n",
    "#### Advantages of user-defined functions\n",
    "\n",
    "1. User-defined functions help to decompose a large program into small segments which makes program easy to understand, maintain and debug.\n",
    "2. If repeated code occurs in a program. Function can be used to include those codes and execute when needed by calling that function.\n",
    "3. Programmars working on large project can divide the workload by making different functions."
   ]
  },
  {
   "cell_type": "code",
   "execution_count": 56,
   "id": "6a056ae9",
   "metadata": {},
   "outputs": [
    {
     "name": "stdout",
     "output_type": "stream",
     "text": [
      "Enter the First number: 10.5\n",
      "Enter the Second number: 15.8\n",
      "The sum of the numbers entered is: 26.3\n"
     ]
    }
   ],
   "source": [
    "#Example 1: Illustrating the use of user-defined functions\n",
    "\n",
    "number1 = float(input('Enter the First number: '))\n",
    "number2 = float(input('Enter the Second number: '))\n",
    "\n",
    "def my_addition(number1, number2):\n",
    "    \n",
    "    sum = number1 + number2\n",
    "    return sum\n",
    "\n",
    "print(\"The sum of the numbers entered is:\", my_addition(number1, number2))"
   ]
  },
  {
   "cell_type": "markdown",
   "id": "bc6befbd",
   "metadata": {},
   "source": [
    "### 12. Python Docstrings"
   ]
  },
  {
   "cell_type": "code",
   "execution_count": 57,
   "id": "a6f19c2e",
   "metadata": {},
   "outputs": [],
   "source": [
    "# Example 1: Docstrings\n",
    "\n",
    "def square(n):\n",
    "    '''Takes in a number n, returns the square of n'''\n",
    "    return n**2"
   ]
  },
  {
   "cell_type": "markdown",
   "id": "ce51324c",
   "metadata": {},
   "source": [
    "### Python Comments Vs Docstrings"
   ]
  },
  {
   "cell_type": "code",
   "execution_count": 58,
   "id": "c930a15c",
   "metadata": {},
   "outputs": [
    {
     "name": "stdout",
     "output_type": "stream",
     "text": [
      "Hello World\n"
     ]
    }
   ],
   "source": [
    "#Example 1: Program to print hello world\n",
    "\n",
    "print(\"Hello World\")"
   ]
  },
  {
   "cell_type": "code",
   "execution_count": 59,
   "id": "272cf47d",
   "metadata": {},
   "outputs": [
    {
     "name": "stdout",
     "output_type": "stream",
     "text": [
      "Hello World\n"
     ]
    }
   ],
   "source": [
    "#Example 2: using docstring as comments\n",
    "\n",
    "\"This is a single line comment\"\n",
    "\n",
    "'''\n",
    "This is a multi-line comment\n",
    "'''\n",
    "\n",
    "print(\"Hello World\")"
   ]
  },
  {
   "cell_type": "markdown",
   "id": "d253179e",
   "metadata": {},
   "source": [
    "`__doc__` is used to access the doc string of any function, methods, classes, modules etc"
   ]
  },
  {
   "cell_type": "code",
   "execution_count": 60,
   "id": "efd33afa",
   "metadata": {},
   "outputs": [
    {
     "name": "stdout",
     "output_type": "stream",
     "text": [
      "Takes in a number n, returns the square of n\n"
     ]
    }
   ],
   "source": [
    "print(square.__doc__)"
   ]
  },
  {
   "cell_type": "code",
   "execution_count": 61,
   "id": "2a40a3cf",
   "metadata": {},
   "outputs": [
    {
     "name": "stdout",
     "output_type": "stream",
     "text": [
      "print(value, ..., sep=' ', end='\\n', file=sys.stdout, flush=False)\n",
      "\n",
      "Prints the values to a stream, or to sys.stdout by default.\n",
      "Optional keyword arguments:\n",
      "file:  a file-like object (stream); defaults to the current sys.stdout.\n",
      "sep:   string inserted between values, default a space.\n",
      "end:   string appended after the last value, default a newline.\n",
      "flush: whether to forcibly flush the stream.\n"
     ]
    }
   ],
   "source": [
    "print(print.__doc__)"
   ]
  },
  {
   "cell_type": "code",
   "execution_count": 62,
   "id": "d7ac2760",
   "metadata": {},
   "outputs": [
    {
     "name": "stdout",
     "output_type": "stream",
     "text": [
      "Forward raw_input to frontends\n",
      "\n",
      "        Raises\n",
      "        ------\n",
      "        StdinNotImplementedError if active frontend doesn't support stdin.\n",
      "        \n"
     ]
    }
   ],
   "source": [
    "print(input.__doc__)"
   ]
  },
  {
   "cell_type": "markdown",
   "id": "bd03800c",
   "metadata": {},
   "source": [
    "#### Single-line doctstrings in python\n",
    "\n",
    "Single line docstrings are the documents that fit in one line.\n",
    "\n",
    "**Standard conventions to write single-line docstrings:**\n",
    "\n",
    "* Even though they are single-lined, we still use the triple quotes around these docstrings as they can be expanded easily later.\n",
    "* The closing quotes are on the same line as the opening quotes.\n",
    "* There's no blank line either before or after the docstring.\n",
    "* They should not be descriptive, rather they must follow \"Do this, return that\" structure ending with a period.\n",
    "\n",
    "Let's take an example."
   ]
  },
  {
   "cell_type": "code",
   "execution_count": 63,
   "id": "88fcaa46",
   "metadata": {},
   "outputs": [],
   "source": [
    "# Example 1: Write single-line docstrings for a function\n",
    "    \n",
    "def multiplier(a, b):\n",
    "    \"\"\"Takes in two numbers, returns their product.\"\"\"\n",
    "    return a*b"
   ]
  },
  {
   "cell_type": "code",
   "execution_count": 64,
   "id": "44da9eae",
   "metadata": {},
   "outputs": [
    {
     "name": "stdout",
     "output_type": "stream",
     "text": [
      "This function returns the factorial of a given number.\n"
     ]
    }
   ],
   "source": [
    "# Example 2:\n",
    "\n",
    "def factorial(x):\n",
    "    \"\"\"This function returns the factorial of a given number.\"\"\"\n",
    "    return x\n",
    "\n",
    "# access doc string\n",
    "print(factorial.__doc__)"
   ]
  },
  {
   "cell_type": "code",
   "execution_count": 65,
   "id": "6415fc79",
   "metadata": {},
   "outputs": [
    {
     "name": "stdout",
     "output_type": "stream",
     "text": [
      "Help on function factorial in module __main__:\n",
      "\n",
      "factorial(x)\n",
      "    This function returns the factorial of a given number.\n",
      "\n",
      "None\n"
     ]
    }
   ],
   "source": [
    "#Example 3:\n",
    "\n",
    "#Passing the function name to help() function\n",
    "\n",
    "print(help(factorial))"
   ]
  },
  {
   "cell_type": "code",
   "execution_count": 66,
   "id": "0a23899f",
   "metadata": {},
   "outputs": [
    {
     "name": "stdout",
     "output_type": "stream",
     "text": [
      "Help on built-in function print in module builtins:\n",
      "\n",
      "print(...)\n",
      "    print(value, ..., sep=' ', end='\\n', file=sys.stdout, flush=False)\n",
      "    \n",
      "    Prints the values to a stream, or to sys.stdout by default.\n",
      "    Optional keyword arguments:\n",
      "    file:  a file-like object (stream); defaults to the current sys.stdout.\n",
      "    sep:   string inserted between values, default a space.\n",
      "    end:   string appended after the last value, default a newline.\n",
      "    flush: whether to forcibly flush the stream.\n",
      "\n",
      "None\n"
     ]
    }
   ],
   "source": [
    "print(help(print))"
   ]
  },
  {
   "cell_type": "code",
   "execution_count": 67,
   "id": "0931c1f7",
   "metadata": {},
   "outputs": [
    {
     "name": "stdout",
     "output_type": "stream",
     "text": [
      "Help on method raw_input in module ipykernel.kernelbase:\n",
      "\n",
      "raw_input(prompt='') method of ipykernel.ipkernel.IPythonKernel instance\n",
      "    Forward raw_input to frontends\n",
      "    \n",
      "    Raises\n",
      "    ------\n",
      "    StdinNotImplementedError if active frontend doesn't support stdin.\n",
      "\n",
      "None\n"
     ]
    }
   ],
   "source": [
    "print(help(input))"
   ]
  },
  {
   "cell_type": "markdown",
   "id": "2219044a",
   "metadata": {},
   "source": [
    "## Multi-line Docstrings in Python\n",
    "\n",
    "Multi-line docstrings consist of a summary line just like a one-line docstring, followed by a blank line, followed by a more elaborate description.\n",
    "\n",
    "The PEP 257 document provides the standard conventions to write multi-line docstrings for various objects.\n",
    "\n",
    "Some have been listed below:"
   ]
  },
  {
   "cell_type": "markdown",
   "id": "4a717a35",
   "metadata": {},
   "source": [
    "### 1. Docstrings for Python Modules\n",
    "\n",
    "* The docstrings for Python Modules should list all the available classes, functions, objects and exceptions that are imported when the module is imported.\n",
    "* They should also have a one-line summary for each item.\n",
    "\n",
    "They are written at the beginning of the Python file.\n",
    "\n",
    "Let's look at the docstrings for the builtin module in Python called pickle."
   ]
  },
  {
   "cell_type": "code",
   "execution_count": 68,
   "id": "3e93d6b0",
   "metadata": {},
   "outputs": [
    {
     "name": "stdout",
     "output_type": "stream",
     "text": [
      "Create portable serialized representations of Python objects.\n",
      "\n",
      "See module copyreg for a mechanism for registering custom picklers.\n",
      "See module pickletools source for extensive comments.\n",
      "\n",
      "Classes:\n",
      "\n",
      "    Pickler\n",
      "    Unpickler\n",
      "\n",
      "Functions:\n",
      "\n",
      "    dump(object, file)\n",
      "    dumps(object) -> string\n",
      "    load(file) -> object\n",
      "    loads(bytes) -> object\n",
      "\n",
      "Misc variables:\n",
      "\n",
      "    __version__\n",
      "    format_version\n",
      "    compatible_formats\n",
      "\n",
      "\n"
     ]
    }
   ],
   "source": [
    "# Example 1: Docstrings of Python module\n",
    "\n",
    "import pickle\n",
    "print(pickle.__doc__)"
   ]
  },
  {
   "cell_type": "markdown",
   "id": "2217cedc",
   "metadata": {},
   "source": [
    "### 2. Docstrings for Python Functions\n",
    "\n",
    "* The docstring for a function or method should summarize its behavior and document its arguments and return values.\n",
    "* It should also list all the exceptions that can be raised and other optional arguments."
   ]
  },
  {
   "cell_type": "code",
   "execution_count": 69,
   "id": "ca0b2257",
   "metadata": {},
   "outputs": [
    {
     "name": "stdout",
     "output_type": "stream",
     "text": [
      "\n",
      "    Returns the sum of two decimal numbers in binary digits.\n",
      "\n",
      "            Parameters:\n",
      "                    a (int): A decimal integer\n",
      "                    b (int): Another decimal integer\n",
      "\n",
      "            Returns:\n",
      "                    binary_sum (str): Binary string of the sum of a and b\n",
      "    \n"
     ]
    }
   ],
   "source": [
    "# Example 1: Docstrings for Python functions\n",
    "\n",
    "def add_binary(a, b):\n",
    "    '''\n",
    "    Returns the sum of two decimal numbers in binary digits.\n",
    "\n",
    "            Parameters:\n",
    "                    a (int): A decimal integer\n",
    "                    b (int): Another decimal integer\n",
    "\n",
    "            Returns:\n",
    "                    binary_sum (str): Binary string of the sum of a and b\n",
    "    '''\n",
    "    binary_sum = bin(a+b)[2:]\n",
    "    return binary_sum\n",
    "\n",
    "\n",
    "print(add_binary.__doc__)"
   ]
  },
  {
   "cell_type": "code",
   "execution_count": 70,
   "id": "bd4fe68e",
   "metadata": {},
   "outputs": [
    {
     "name": "stdout",
     "output_type": "stream",
     "text": [
      "             \n",
      "   Description of function\n",
      "                 \n",
      "   Arguments:   \n",
      "   parameter1(int):Description of parameter1\n",
      "                 \n",
      "   Returns:      \n",
      "   int value     \n",
      "    \n"
     ]
    }
   ],
   "source": [
    "# Example 2:\n",
    "\n",
    "def any_fun(parameter1):\n",
    "    \"\"\"             \n",
    "   Description of function\n",
    "                 \n",
    "   Arguments:   \n",
    "   parameter1(int):Description of parameter1\n",
    "                 \n",
    "   Returns:      \n",
    "   int value     \n",
    "    \"\"\" \n",
    "\n",
    "print(any_fun.__doc__)"
   ]
  },
  {
   "cell_type": "markdown",
   "id": "72a48499",
   "metadata": {},
   "source": [
    "### 3. Docstrings for Python Classes\n",
    "\n",
    "The docstrings for classes should summarize its behavior and list the public methods and instance variables.\n",
    "The subclasses, constructors, and methods should each have their own docstrings."
   ]
  },
  {
   "cell_type": "code",
   "execution_count": 71,
   "id": "03dbecb5",
   "metadata": {},
   "outputs": [],
   "source": [
    "# Example 1: Docstrings for Python class\n",
    "\n",
    "# Suppose we have a Person.py file with the following code:\n",
    "\n",
    "class Person:\n",
    "    \"\"\"\n",
    "    A class to represent a person.\n",
    "\n",
    "    ...\n",
    "\n",
    "    Attributes\n",
    "    ----------\n",
    "    name : str\n",
    "        first name of the person\n",
    "    surname : str\n",
    "        family name of the person\n",
    "    age : int\n",
    "        age of the person\n",
    "\n",
    "    Methods\n",
    "    -------\n",
    "    info(additional=\"\"):\n",
    "        Prints the person's name and age.\n",
    "    \"\"\"\n",
    "\n",
    "    def __init__(self, name, surname, age):\n",
    "        \"\"\"\n",
    "        Constructs all the necessary attributes for the person object.\n",
    "\n",
    "        Parameters\n",
    "        ----------\n",
    "            name : str\n",
    "                first name of the person\n",
    "            surname : str\n",
    "                family name of the person\n",
    "            age : int\n",
    "                age of the person\n",
    "        \"\"\"\n",
    "\n",
    "        self.name = name\n",
    "        self.surname = surname\n",
    "        self.age = age\n",
    "\n",
    "    def info(self, additional=\"\"):\n",
    "        \"\"\"\n",
    "        Prints the person's name and age.\n",
    "\n",
    "        If the argument 'additional' is passed, then it is appended after the main info.\n",
    "\n",
    "        Parameters\n",
    "        ----------\n",
    "        additional : str, optional\n",
    "            More info to be displayed (default is None)\n",
    "\n",
    "        Returns\n",
    "        -------\n",
    "        None\n",
    "        \"\"\"\n",
    "\n",
    "        print(f'My name is {self.name} {self.surname}. I am {self.age} years old.' + additional)"
   ]
  },
  {
   "cell_type": "code",
   "execution_count": 72,
   "id": "bb13b35f",
   "metadata": {},
   "outputs": [
    {
     "name": "stdout",
     "output_type": "stream",
     "text": [
      "\n",
      "    A class to represent a person.\n",
      "\n",
      "    ...\n",
      "\n",
      "    Attributes\n",
      "    ----------\n",
      "    name : str\n",
      "        first name of the person\n",
      "    surname : str\n",
      "        family name of the person\n",
      "    age : int\n",
      "        age of the person\n",
      "\n",
      "    Methods\n",
      "    -------\n",
      "    info(additional=\"\"):\n",
      "        Prints the person's name and age.\n",
      "    \n"
     ]
    }
   ],
   "source": [
    "print(Person.__doc__)"
   ]
  },
  {
   "cell_type": "markdown",
   "id": "eb640dcd",
   "metadata": {},
   "source": [
    "## Using the `help()` Function for Docstrings\n",
    "\n",
    "We can also use the **`help()`** function to read the docstrings associated with various objects."
   ]
  },
  {
   "cell_type": "code",
   "execution_count": 73,
   "id": "6fe93996",
   "metadata": {},
   "outputs": [
    {
     "name": "stdout",
     "output_type": "stream",
     "text": [
      "Help on class Person in module __main__:\n",
      "\n",
      "class Person(builtins.object)\n",
      " |  Person(name, surname, age)\n",
      " |  \n",
      " |  A class to represent a person.\n",
      " |  \n",
      " |  ...\n",
      " |  \n",
      " |  Attributes\n",
      " |  ----------\n",
      " |  name : str\n",
      " |      first name of the person\n",
      " |  surname : str\n",
      " |      family name of the person\n",
      " |  age : int\n",
      " |      age of the person\n",
      " |  \n",
      " |  Methods\n",
      " |  -------\n",
      " |  info(additional=\"\"):\n",
      " |      Prints the person's name and age.\n",
      " |  \n",
      " |  Methods defined here:\n",
      " |  \n",
      " |  __init__(self, name, surname, age)\n",
      " |      Constructs all the necessary attributes for the person object.\n",
      " |      \n",
      " |      Parameters\n",
      " |      ----------\n",
      " |          name : str\n",
      " |              first name of the person\n",
      " |          surname : str\n",
      " |              family name of the person\n",
      " |          age : int\n",
      " |              age of the person\n",
      " |  \n",
      " |  info(self, additional='')\n",
      " |      Prints the person's name and age.\n",
      " |      \n",
      " |      If the argument 'additional' is passed, then it is appended after the main info.\n",
      " |      \n",
      " |      Parameters\n",
      " |      ----------\n",
      " |      additional : str, optional\n",
      " |          More info to be displayed (default is None)\n",
      " |      \n",
      " |      Returns\n",
      " |      -------\n",
      " |      None\n",
      " |  \n",
      " |  ----------------------------------------------------------------------\n",
      " |  Data descriptors defined here:\n",
      " |  \n",
      " |  __dict__\n",
      " |      dictionary for instance variables (if defined)\n",
      " |  \n",
      " |  __weakref__\n",
      " |      list of weak references to the object (if defined)\n",
      "\n"
     ]
    }
   ],
   "source": [
    "# Example 1: Read Docstrings with the `help()` function\n",
    "\n",
    "# We can use the help() function on the class Person in Example as:\n",
    "\n",
    "help(Person)"
   ]
  },
  {
   "cell_type": "markdown",
   "id": "78a4874d",
   "metadata": {},
   "source": [
    "### 4. Docstrings for Python Scripts\n",
    "\n",
    "* The docstrings for Python script should document the script's functions and command-line syntax as a usable message.\n",
    "* It should serve as a quick reference to all the functions and arguments."
   ]
  },
  {
   "cell_type": "markdown",
   "id": "00f37b2e",
   "metadata": {},
   "source": [
    "### 5. Docstrings for Python Packages\n",
    "\n",
    "The docstrings for a Python package is written in the package's **`__init__.py`** file.\n",
    "\n",
    "* It should contain all the available modules and sub-packages exported by the package."
   ]
  },
  {
   "cell_type": "markdown",
   "id": "104c3f70",
   "metadata": {},
   "source": [
    "## Docstring Formats\n",
    "\n",
    "We can write docstring in many formats like the reStructured text (reST) format, Google format or the NumPy documentation format. To learn more, visit **[Popular Docstring Formats](https://stackoverflow.com/questions/3898572/what-is-the-standard-python-docstring-format)**\n",
    "\n",
    "We can also generate documentation from docstrings using tools like Sphinx. To learn more, visit **[Official Sphinx Documentation](https://www.sphinx-doc.org/en/master/)**"
   ]
  },
  {
   "cell_type": "code",
   "execution_count": null,
   "id": "247ffe44",
   "metadata": {},
   "outputs": [],
   "source": []
  }
 ],
 "metadata": {
  "kernelspec": {
   "display_name": "Python 3 (ipykernel)",
   "language": "python",
   "name": "python3"
  },
  "language_info": {
   "codemirror_mode": {
    "name": "ipython",
    "version": 3
   },
   "file_extension": ".py",
   "mimetype": "text/x-python",
   "name": "python",
   "nbconvert_exporter": "python",
   "pygments_lexer": "ipython3",
   "version": "3.9.13"
  }
 },
 "nbformat": 4,
 "nbformat_minor": 5
}
