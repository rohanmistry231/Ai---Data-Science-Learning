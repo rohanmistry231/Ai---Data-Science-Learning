{
 "cells": [
  {
   "cell_type": "markdown",
   "id": "02d0218c",
   "metadata": {
    "pycharm": {
     "name": "#%% md\n"
    }
   },
   "source": [
    "# Problem set 1"
   ]
  },
  {
   "cell_type": "markdown",
   "id": "90111577",
   "metadata": {
    "pycharm": {
     "name": "#%% md\n"
    }
   },
   "source": [
    "### 1. Write a python program to print \"welcome to python programming lab\""
   ]
  },
  {
   "cell_type": "code",
   "execution_count": 1,
   "id": "4962a5d6",
   "metadata": {
    "pycharm": {
     "name": "#%%\n"
    }
   },
   "outputs": [
    {
     "name": "stdout",
     "output_type": "stream",
     "text": [
      "welcome to python programming lab\n"
     ]
    }
   ],
   "source": [
    "print(\"welcome to python programming lab\")"
   ]
  },
  {
   "cell_type": "markdown",
   "id": "bdf0506e",
   "metadata": {
    "pycharm": {
     "name": "#%% md\n"
    }
   },
   "source": [
    "### 2. Write a python program to display the sentence or message with single, double, triple quotes"
   ]
  },
  {
   "cell_type": "code",
   "execution_count": 2,
   "id": "91c67672",
   "metadata": {
    "pycharm": {
     "name": "#%%\n"
    }
   },
   "outputs": [
    {
     "name": "stdout",
     "output_type": "stream",
     "text": [
      "This is a sentence with 'single quotes'\n",
      "This is a sentence with \"Double Quotes\"\n",
      "This is a sentence with \"\"\"Triple Quotes\"\"\"\n"
     ]
    }
   ],
   "source": [
    "print(\"This is a sentence with 'single quotes'\")\n",
    "print('This is a sentence with \"Double Quotes\"')\n",
    "print('This is a sentence with \"\"\"Triple Quotes\"\"\"')"
   ]
  },
  {
   "cell_type": "markdown",
   "id": "2973a383",
   "metadata": {
    "pycharm": {
     "name": "#%% md\n"
    }
   },
   "source": [
    "### 3. Write a python program to print the full address of a user. Display the same by breaking it in multiple lines"
   ]
  },
  {
   "cell_type": "code",
   "execution_count": 3,
   "id": "12c68539",
   "metadata": {
    "pycharm": {
     "name": "#%%\n"
    }
   },
   "outputs": [
    {
     "name": "stdout",
     "output_type": "stream",
     "text": [
      "Enter addressNo.7,Race Course Road,New Delhi\n",
      "No.7\n",
      "Race Course Road\n",
      "New Delhi\n"
     ]
    }
   ],
   "source": [
    "addr = input(\"Enter address\")\n",
    "print(addr.replace(\",\", \"\\n\"))"
   ]
  },
  {
   "cell_type": "markdown",
   "id": "d233f3a9",
   "metadata": {
    "pycharm": {
     "name": "#%% md\n"
    }
   },
   "source": [
    "### 4. Write a python program that prompts user to enter his/her first and last name and then displays a message \"Greetings!!! Firstname lastname”"
   ]
  },
  {
   "cell_type": "code",
   "execution_count": 4,
   "id": "1adfe030",
   "metadata": {
    "pycharm": {
     "name": "#%%\n"
    }
   },
   "outputs": [
    {
     "name": "stdout",
     "output_type": "stream",
     "text": [
      "First name: Ritvik\n",
      "Last name: Prasad\n",
      "Greetings !!! Ritvik Prasad\n"
     ]
    }
   ],
   "source": [
    "print(f\"Greetings !!! {input('First name: ')} {input('Last name: ')}\")"
   ]
  },
  {
   "cell_type": "markdown",
   "id": "43e93c98",
   "metadata": {
    "pycharm": {
     "name": "#%% md\n"
    }
   },
   "source": [
    "### 5. Write a python program that prompts user to enter his/her first and last name and then displays a following message: \"Hello firstname lastname welcome to python!\""
   ]
  },
  {
   "cell_type": "code",
   "execution_count": null,
   "outputs": [],
   "source": [
    "print(f\"Hello {input('First name: ')} {input('Last name: ')}. Welcome to Python\")"
   ],
   "metadata": {
    "collapsed": false,
    "pycharm": {
     "name": "#%%\n"
    }
   }
  },
  {
   "cell_type": "markdown",
   "source": [
    "### 6. Write a python program which accepts the user's first and last name and prints them in reverse order with a space between them"
   ],
   "metadata": {
    "collapsed": false,
    "pycharm": {
     "name": "#%% md\n"
    }
   }
  },
  {
   "cell_type": "code",
   "execution_count": null,
   "outputs": [],
   "source": [
    "print(f\"{input('First name: ')[::-1]} {input('Last name: ')[::-1]}\")"
   ],
   "metadata": {
    "collapsed": false,
    "pycharm": {
     "name": "#%%\n"
    }
   }
  },
  {
   "cell_type": "markdown",
   "source": [
    "### 7. Write a python program to display data of different types (int, float, string) using variables and literal constants(values)"
   ],
   "metadata": {
    "collapsed": false,
    "pycharm": {
     "name": "#%% md\n"
    }
   }
  },
  {
   "cell_type": "code",
   "execution_count": null,
   "outputs": [],
   "source": [
    "a = 10\n",
    "b=10.0\n",
    "c=10+10j\n",
    "d=\"10\"\n",
    "for i in [a,b,c,d]:\n",
    "    print(f\"{i} : {type(i)}\")"
   ],
   "metadata": {
    "collapsed": false,
    "pycharm": {
     "name": "#%%\n"
    }
   }
  },
  {
   "cell_type": "markdown",
   "source": [
    "### 8. Write a python program to reassign values to a variable and print the reassigned value\n"
   ],
   "metadata": {
    "collapsed": false,
    "pycharm": {
     "name": "#%% md\n"
    }
   }
  },
  {
   "cell_type": "code",
   "execution_count": null,
   "outputs": [],
   "source": [
    "a=input(\"enter val 1: \")\n",
    "b=input(\"enter val 2: \")\n",
    "a,b = b,a\n",
    "print(f\"a : {a}\\nb : {b}\")"
   ],
   "metadata": {
    "collapsed": false,
    "pycharm": {
     "name": "#%%\n"
    }
   }
  },
  {
   "cell_type": "markdown",
   "source": [
    "### 9. Write a python program for the following: assume that we execute the following assignment statements width=17, height= 12.0, delimiter='.' \n",
    "\n",
    "### For each of the following expressions, write the value of the expression and type of the value of the expressions\n",
    "\n",
    "- a. width/2\n",
    "- b. width/2.0\n",
    "- c. height/3 4.1+25\n",
    "- d. delimiter*5\n",
    "- e. width//5\n",
    "- f. width%5\n",
    "- g. width**2\n",
    "- h. width^2\n",
    "- i. log(width)\n"
   ],
   "metadata": {
    "collapsed": false,
    "pycharm": {
     "name": "#%% md\n"
    }
   }
  },
  {
   "cell_type": "code",
   "execution_count": null,
   "outputs": [],
   "source": [
    "from math import log\n",
    "w,h,d=17,12.0,'.'\n",
    "print(f\"w/2 \\t\\t: {w/2} , \\t\\tdtype : {type(w/2)}\")\n",
    "print(f\"w/2.0 \\t\\t: {w/2.0} , \\t\\tdtype : {type(w/2.0)}\")\n",
    "print(f\"h/34.1+25\\t: {h/34.1+25} , \\tdtype : {type(h/34.1+25)}\")\n",
    "print(f\"d*5 \\t\\t: {d*5} , \\t\\tdtype : {type(d*5)}\")\n",
    "print(f\"w//5 \\t\\t: {w//5} , \\t\\t\\tdtype : {type(w//5)}\")\n",
    "print(f\"w%5 \\t\\t: {w%5} , \\t\\t\\tdtype : {type(w%5)}\")\n",
    "print(f\"w**2 \\t\\t: {w**2} , \\t\\tdtype : {type(w**2)}\")\n",
    "print(f\"w^2 \\t\\t: {w^2} , \\t\\t\\tdtype : {type(w^2)}\")\n",
    "print(f\"log(w) \\t\\t: {log(w)} , \\tdtype : {type(log(w))}\")"
   ],
   "metadata": {
    "collapsed": false,
    "pycharm": {
     "name": "#%%\n"
    }
   }
  },
  {
   "cell_type": "markdown",
   "source": [
    "### 10. Write a python program for the following: the volume of a sphere is (4p/r**3)/3. What is the volume of a sphere with radius 5?"
   ],
   "metadata": {
    "collapsed": false,
    "pycharm": {
     "name": "#%% md\n"
    }
   }
  },
  {
   "cell_type": "code",
   "execution_count": null,
   "outputs": [],
   "source": [
    "print(f\"Volume : {4/3 * 3.14 * eval(input('Enter Radius of Sphere: '))**3}\")"
   ],
   "metadata": {
    "collapsed": false,
    "pycharm": {
     "name": "#%%\n"
    }
   }
  },
  {
   "cell_type": "markdown",
   "source": [
    "### 11. Write a python program for the following: suppose the cover price of a book is 24.95 , but bookstores get a 40 percent discount. Shipping costs 3 for the first copy and 75 cents for each additional copy. What is the total wholesale cost for 60 copies?"
   ],
   "metadata": {
    "collapsed": false,
    "pycharm": {
     "name": "#%% md\n"
    }
   }
  },
  {
   "cell_type": "code",
   "execution_count": null,
   "outputs": [],
   "source": [
    "c = 24.95\n",
    "d=40/100\n",
    "tot = 0\n",
    "for i in range(1,61):\n",
    "    tot += c*d\n",
    "    if(i<=3):\n",
    "        tot += 3\n",
    "    else:\n",
    "        tot += 0.75\n",
    "print(f\"Total Cost : {tot}\")"
   ],
   "metadata": {
    "collapsed": false,
    "pycharm": {
     "name": "#%%\n"
    }
   }
  },
  {
   "cell_type": "markdown",
   "source": [
    "### 12. Write a python program for the following: if I leave my house at 6:52 am and run 1 mile at an easy pace (8:15 per mile), then 3 miles attempts (7:12 per mile) and 1 mile at easy pace again, what time do i get home for breakfast?"
   ],
   "metadata": {
    "collapsed": false,
    "pycharm": {
     "name": "#%% md\n"
    }
   }
  },
  {
   "cell_type": "code",
   "execution_count": null,
   "outputs": [],
   "source": [
    "print(f\"Time At End: 7:{((8.15*2 + 7.12*12)%60 + 52)%60}\")"
   ],
   "metadata": {
    "collapsed": false,
    "pycharm": {
     "name": "#%%\n"
    }
   }
  },
  {
   "cell_type": "markdown",
   "source": [
    "### 13. Write a python program to compute the following:\n",
    "- a. How many minutes are there in 42 minutes and 42 seconds?\n",
    "- b. How many miles are there in 10kms (1.6km in a mile)?\n",
    "- c. If you run a 10km race in 42 minutes 42 sec, what is your average pace (time per mile in minutes and seconds)? What is the average speed in miles per hour?"
   ],
   "metadata": {
    "collapsed": false,
    "pycharm": {
     "name": "#%% md\n"
    }
   }
  },
  {
   "cell_type": "code",
   "execution_count": null,
   "outputs": [],
   "source": [
    "print(f\"Minutes in 42 minutes and 42 seconds : {42 + 42/60}\")\n",
    "print(f\"Miles in 10 Kilometers : {10*1.6}\")\n",
    "print(f\"Speed in Miles per Minute : {10*1.6/(42 + 42/60)}\")\n",
    "print(f\"Speed in Miles per Second : {10*1.6/(42*60 + 42)}\")"
   ],
   "metadata": {
    "collapsed": false,
    "pycharm": {
     "name": "#%%\n"
    }
   }
  },
  {
   "cell_type": "markdown",
   "source": [
    "### 14. Write a python program to read and print values of variables of different data types\n"
   ],
   "metadata": {
    "collapsed": false,
    "pycharm": {
     "name": "#%% md\n"
    }
   }
  },
  {
   "cell_type": "code",
   "execution_count": null,
   "outputs": [],
   "source": [
    "var = input(\"Enter your variable\")\n",
    "print(f\"Variable as string \\t: {var, type(var)}\")\n",
    "print(f\"Variable as int \\t: {int(var), type(int(var))}\")\n",
    "print(f\"Variable as float \\t: {float(var), type(float(var))}\")\n",
    "print(f\"Variable as complex \\t: {complex(var), type(complex(var))}\")"
   ],
   "metadata": {
    "collapsed": false,
    "pycharm": {
     "name": "#%%\n"
    }
   }
  },
  {
   "cell_type": "markdown",
   "source": [
    "### 15. Write a python program to convert an integer into the corresponding floating point number"
   ],
   "metadata": {
    "collapsed": false,
    "pycharm": {
     "name": "#%% md\n"
    }
   }
  },
  {
   "cell_type": "code",
   "execution_count": null,
   "outputs": [],
   "source": [
    "print(f\"Converted int to float value : {float(input('Enter int: '))}\")"
   ],
   "metadata": {
    "collapsed": false,
    "pycharm": {
     "name": "#%%\n"
    }
   }
  },
  {
   "cell_type": "markdown",
   "source": [
    "### 16. Write a python program to convert a floating point number into the corresponding integer"
   ],
   "metadata": {
    "collapsed": false,
    "pycharm": {
     "name": "#%% md\n"
    }
   }
  },
  {
   "cell_type": "code",
   "execution_count": null,
   "outputs": [],
   "source": [
    "print(f\"Converted float to int value : {round(float((input('Enter float: '))))}\")"
   ],
   "metadata": {
    "collapsed": false,
    "pycharm": {
     "name": "#%%\n"
    }
   }
  },
  {
   "cell_type": "markdown",
   "source": [
    "### 17. Write a python program to read 2 numbers from the user and print its sum"
   ],
   "metadata": {
    "collapsed": false,
    "pycharm": {
     "name": "#%% md\n"
    }
   }
  },
  {
   "cell_type": "code",
   "execution_count": null,
   "outputs": [],
   "source": [
    "print(f\"Sum of A and B : {float(input('Enter a : '))+float(input('Enter b : '))}\")"
   ],
   "metadata": {
    "collapsed": false,
    "pycharm": {
     "name": "#%%\n"
    }
   }
  },
  {
   "cell_type": "markdown",
   "source": [
    "### 18. Write a python program to read two floating point numbers from the user and add these numbers and assign the result to an integer. Finally display the value of all three integers\n"
   ],
   "metadata": {
    "collapsed": false,
    "pycharm": {
     "name": "#%% md\n"
    }
   }
  },
  {
   "cell_type": "code",
   "execution_count": null,
   "outputs": [],
   "source": [
    "print(f\"Sum of A and B : {int((float(input('Enter a : '))+float(input('Enter b : '))))}\")"
   ],
   "metadata": {
    "collapsed": false,
    "pycharm": {
     "name": "#%%\n"
    }
   }
  },
  {
   "cell_type": "markdown",
   "source": [
    "### 19. Write a python program to print the digit at one's place of a number"
   ],
   "metadata": {
    "collapsed": false,
    "pycharm": {
     "name": "#%% md\n"
    }
   }
  },
  {
   "cell_type": "code",
   "execution_count": null,
   "outputs": [],
   "source": [
    "print(f\"Digit at ones place : {int(input('Enter num : '))%10}\")"
   ],
   "metadata": {
    "collapsed": false,
    "pycharm": {
     "name": "#%%\n"
    }
   }
  },
  {
   "cell_type": "markdown",
   "source": [
    "### 20. Write a python program to convert farenheit into celsius"
   ],
   "metadata": {
    "collapsed": false,
    "pycharm": {
     "name": "#%% md\n"
    }
   }
  },
  {
   "cell_type": "code",
   "execution_count": null,
   "outputs": [],
   "source": [
    "print(f\"Tempearture in Celcius : {((float(input('Enter temperature in Farenheit : ')))-32) * 5/9}\")"
   ],
   "metadata": {
    "collapsed": false,
    "pycharm": {
     "name": "#%%\n"
    }
   }
  },
  {
   "cell_type": "markdown",
   "source": [
    "### 21. Write a python program to swap two numbers using a temporary variable"
   ],
   "metadata": {
    "collapsed": false,
    "pycharm": {
     "name": "#%% md\n"
    }
   }
  },
  {
   "cell_type": "code",
   "execution_count": null,
   "outputs": [],
   "source": [
    "a = int(input('Enter a : '))\n",
    "b = int(input('Enter b : '))\n",
    "temp = a\n",
    "a = b\n",
    "b = temp\n",
    "print(f\"a : {a} , b : {b}\")"
   ],
   "metadata": {
    "collapsed": false,
    "pycharm": {
     "name": "#%%\n"
    }
   }
  },
  {
   "cell_type": "markdown",
   "source": [
    "### 22. Write a python program to calculate the total amount of money in the piggy bank. Using input() get the number of coins of rs.10, rs.5, rs.2 and rs.1 and compute the total"
   ],
   "metadata": {
    "collapsed": false,
    "pycharm": {
     "name": "#%% md\n"
    }
   }
  },
  {
   "cell_type": "code",
   "execution_count": null,
   "outputs": [],
   "source": [
    "o = int(input(\"No. of 1 re coins : \"))\n",
    "t = int(input(\"No. of 2 rs coins : \"))\n",
    "f = int(input(\"No. of 5 rs coins : \"))\n",
    "te = int(input(\"No. of 10 rs coins : \"))\n",
    "print(f\"Total : {o+t*2+f*5+te*10}\")"
   ],
   "metadata": {
    "collapsed": false,
    "pycharm": {
     "name": "#%%\n"
    }
   }
  },
  {
   "cell_type": "markdown",
   "source": [
    "### 23. Write a python program to perform addition and multiplication on string variables"
   ],
   "metadata": {
    "collapsed": false,
    "pycharm": {
     "name": "#%% md\n"
    }
   }
  },
  {
   "cell_type": "code",
   "execution_count": null,
   "outputs": [],
   "source": [
    "a = input(\"Enter str1 : \")\n",
    "b = input(\"Enter str2 : \")\n",
    "print(f\"a+b : {a+b}\")\n",
    "print(f\"(a+b)*5 : {(a+b)*5}\")"
   ],
   "metadata": {
    "collapsed": false,
    "pycharm": {
     "name": "#%%\n"
    }
   }
  },
  {
   "cell_type": "markdown",
   "source": [
    "### 24. Write a python program to find solution for the following expressions\n",
    "a. X=250+130-70\n",
    "b. Y=(32+5.2-3)10\n",
    "c. Z=100%(45//2)\n",
    "d. A=(40+20)30/10\n",
    "e. B=((40+20)30)/10\n",
    "f. C=(40+20)(30/10)\n",
    "g. D=40+(2020)/10\n",
    "h. E=40+((2930)/10)\n",
    "i. F=40+(20*30/10)"
   ],
   "metadata": {
    "collapsed": false,
    "pycharm": {
     "name": "#%% md\n"
    }
   }
  },
  {
   "cell_type": "code",
   "execution_count": null,
   "outputs": [],
   "source": [
    "x = 250+130-70\n",
    "y = (32+5.2-3)*10\n",
    "z = 100%(45//2)\n",
    "a = (40+20)*30/10\n",
    "b = ((40+20)*30)/10\n",
    "c = (40+20)*(30/10)\n",
    "d = 40+(2020)/10\n",
    "e = 40+((2930)/10)\n",
    "f = 40+(20*30/10)\n",
    "print(\"Solutions for given expressions\")\n",
    "print(\"\"\"\n",
    "    x = 250+130-70\n",
    "    y = (32+5.2-3)*10\n",
    "    z = 100%(45//2)\n",
    "    a = (40+20)*30/10\n",
    "    b = ((40+20)*30)/10\n",
    "    c = (40+20)*(30/10)\n",
    "    d = 40+(2020)/10\n",
    "    e = 40+((2930)/10)\n",
    "    f = 40+(20*30/10)\n",
    "\"\"\")\n",
    " \n",
    "for i in [x,y,z,a,b,c,d,e,f]:\n",
    "    print(f\"{i}\")"
   ],
   "metadata": {
    "collapsed": false,
    "pycharm": {
     "name": "#%%\n"
    }
   }
  },
  {
   "cell_type": "markdown",
   "id": "5643462a",
   "metadata": {
    "pycharm": {
     "name": "#%% md\n"
    }
   },
   "source": [
    "### 16. Write a python program to convert a floating point number into the corresponding integer"
   ]
  },
  {
   "cell_type": "code",
   "execution_count": 16,
   "id": "042c372d",
   "metadata": {},
   "outputs": [
    {
     "name": "stdout",
     "output_type": "stream",
     "text": [
      "Enter float: 8.0\n",
      "Converted float to int value : 8\n"
     ]
    }
   ],
   "source": [
    "print(f\"Converted float to int value : {round(float((input('Enter float: '))))}\")"
   ]
  },
  {
   "cell_type": "markdown",
   "id": "ff2a3f16",
   "metadata": {
    "pycharm": {
     "name": "#%% md\n"
    }
   },
   "source": [
    "### 17. Write a python program to read 2 numbers from the user and print its sum"
   ]
  },
  {
   "cell_type": "code",
   "execution_count": 17,
   "id": "661eda53",
   "metadata": {},
   "outputs": [
    {
     "name": "stdout",
     "output_type": "stream",
     "text": [
      "Enter a : 54\n",
      "Enter b : 54\n",
      "Sum of A and B : 108.0\n"
     ]
    }
   ],
   "source": [
    "print(f\"Sum of A and B : {float(input('Enter a : '))+float(input('Enter b : '))}\")"
   ]
  },
  {
   "cell_type": "markdown",
   "id": "40686e14",
   "metadata": {
    "pycharm": {
     "name": "#%% md\n"
    }
   },
   "source": [
    "### 18. Write a python program to read two floating point numbers from the user and add these numbers and assign the result to an integer. Finally display the value of all three integers\n"
   ]
  },
  {
   "cell_type": "code",
   "execution_count": 18,
   "id": "95ee28a9",
   "metadata": {},
   "outputs": [
    {
     "name": "stdout",
     "output_type": "stream",
     "text": [
      "Enter a : 54\n",
      "Enter b : 45\n",
      "Sum of A and B : 99\n"
     ]
    }
   ],
   "source": [
    "print(f\"Sum of A and B : {int((float(input('Enter a : '))+float(input('Enter b : '))))}\")"
   ]
  },
  {
   "cell_type": "markdown",
   "id": "f26efe22",
   "metadata": {
    "pycharm": {
     "name": "#%% md\n"
    }
   },
   "source": [
    "### 19. Write a python program to print the digit at one's place of a number"
   ]
  },
  {
   "cell_type": "code",
   "execution_count": 19,
   "id": "20050b43",
   "metadata": {},
   "outputs": [
    {
     "name": "stdout",
     "output_type": "stream",
     "text": [
      "Enter num : 542\n",
      "Digit at ones place : 2\n"
     ]
    }
   ],
   "source": [
    "print(f\"Digit at ones place : {int(input('Enter num : '))%10}\")"
   ]
  },
  {
   "cell_type": "markdown",
   "id": "1cae1cd2",
   "metadata": {
    "pycharm": {
     "name": "#%% md\n"
    }
   },
   "source": [
    "### 20. Write a python program to convert farenheit into celsius"
   ]
  },
  {
   "cell_type": "code",
   "execution_count": 20,
   "id": "ad081211",
   "metadata": {},
   "outputs": [
    {
     "name": "stdout",
     "output_type": "stream",
     "text": [
      "Enter temperature in Farenheit : 54\n",
      "Tempearture in Celcius : 12.222222222222221\n"
     ]
    }
   ],
   "source": [
    "print(f\"Tempearture in Celcius : {((float(input('Enter temperature in Farenheit : ')))-32) * 5/9}\")"
   ]
  },
  {
   "cell_type": "markdown",
   "id": "1ccbd7a7",
   "metadata": {
    "pycharm": {
     "name": "#%% md\n"
    }
   },
   "source": [
    "### 21. Write a python program to swap two numbers using a temporary variable"
   ]
  },
  {
   "cell_type": "code",
   "execution_count": 21,
   "id": "dff1e777",
   "metadata": {},
   "outputs": [
    {
     "name": "stdout",
     "output_type": "stream",
     "text": [
      "Enter a : 45\n",
      "Enter b : 87\n",
      "a : 87 , b : 45\n"
     ]
    }
   ],
   "source": [
    "a = int(input('Enter a : '))\n",
    "b = int(input('Enter b : '))\n",
    "temp = a\n",
    "a = b\n",
    "b = temp\n",
    "print(f\"a : {a} , b : {b}\")"
   ]
  },
  {
   "cell_type": "markdown",
   "id": "55469cf5",
   "metadata": {
    "pycharm": {
     "name": "#%% md\n"
    }
   },
   "source": [
    "### 22. Write a python program to calculate the total amount of money in the piggy bank. Using input() get the number of coins of rs.10, rs.5, rs.2 and rs.1 and compute the total"
   ]
  },
  {
   "cell_type": "code",
   "execution_count": 22,
   "id": "2f2bbdd4",
   "metadata": {},
   "outputs": [
    {
     "name": "stdout",
     "output_type": "stream",
     "text": [
      "No. of 1 re coins : 21\n",
      "No. of 2 rs coins : 54\n",
      "No. of 5 rs coins : 87\n",
      "No. of 10 rs coins : 4\n",
      "Total : 604\n"
     ]
    }
   ],
   "source": [
    "o = int(input(\"No. of 1 re coins : \"))\n",
    "t = int(input(\"No. of 2 rs coins : \"))\n",
    "f = int(input(\"No. of 5 rs coins : \"))\n",
    "te = int(input(\"No. of 10 rs coins : \"))\n",
    "print(f\"Total : {o+t*2+f*5+te*10}\")"
   ]
  },
  {
   "cell_type": "markdown",
   "id": "f7a4bda0",
   "metadata": {
    "pycharm": {
     "name": "#%% md\n"
    }
   },
   "source": [
    "### 23. Write a python program to perform addition and multiplication on string variables"
   ]
  },
  {
   "cell_type": "code",
   "execution_count": 23,
   "id": "cd3abc30",
   "metadata": {},
   "outputs": [
    {
     "name": "stdout",
     "output_type": "stream",
     "text": [
      "Enter str1 : hello\n",
      "Enter str2 : workd\n",
      "a+b : helloworkd\n",
      "(a+b)*5 : helloworkdhelloworkdhelloworkdhelloworkdhelloworkd\n"
     ]
    }
   ],
   "source": [
    "a = input(\"Enter str1 : \")\n",
    "b = input(\"Enter str2 : \")\n",
    "print(f\"a+b : {a+b}\")\n",
    "print(f\"(a+b)*5 : {(a+b)*5}\")"
   ]
  },
  {
   "cell_type": "markdown",
   "id": "d7fb24d0",
   "metadata": {
    "pycharm": {
     "name": "#%% md\n"
    }
   },
   "source": [
    "### 24. Write a python program to find solution for the following expressions\n",
    "a. X=250+130-70\n",
    "b. Y=(32+5.2-3)10\n",
    "c. Z=100%(45//2)\n",
    "d. A=(40+20)30/10\n",
    "e. B=((40+20)30)/10\n",
    "f. C=(40+20)(30/10)\n",
    "g. D=40+(2020)/10\n",
    "h. E=40+((2930)/10)\n",
    "i. F=40+(20*30/10)"
   ]
  },
  {
   "cell_type": "code",
   "execution_count": 24,
   "id": "074318b6",
   "metadata": {},
   "outputs": [
    {
     "name": "stdout",
     "output_type": "stream",
     "text": [
      "Solutions for given expressions\n",
      "\n",
      "    x = 250+130-70\n",
      "    y = (32+5.2-3)*10\n",
      "    z = 100%(45//2)\n",
      "    a = (40+20)*30/10\n",
      "    b = ((40+20)*30)/10\n",
      "    c = (40+20)*(30/10)\n",
      "    d = 40+(2020)/10\n",
      "    e = 40+((2930)/10)\n",
      "    f = 40+(20*30/10)\n",
      "\n",
      "310\n",
      "342.0\n",
      "12\n",
      "180.0\n",
      "180.0\n",
      "180.0\n",
      "242.0\n",
      "333.0\n",
      "100.0\n"
     ]
    }
   ],
   "source": [
    "x = 250+130-70\n",
    "y = (32+5.2-3)*10\n",
    "z = 100%(45//2)\n",
    "a = (40+20)*30/10\n",
    "b = ((40+20)*30)/10\n",
    "c = (40+20)*(30/10)\n",
    "d = 40+(2020)/10\n",
    "e = 40+((2930)/10)\n",
    "f = 40+(20*30/10)\n",
    "print(\"Solutions for given expressions\")\n",
    "print(\"\"\"\n",
    "    x = 250+130-70\n",
    "    y = (32+5.2-3)*10\n",
    "    z = 100%(45//2)\n",
    "    a = (40+20)*30/10\n",
    "    b = ((40+20)*30)/10\n",
    "    c = (40+20)*(30/10)\n",
    "    d = 40+(2020)/10\n",
    "    e = 40+((2930)/10)\n",
    "    f = 40+(20*30/10)\n",
    "\"\"\")\n",
    " \n",
    "for i in [x,y,z,a,b,c,d,e,f]:\n",
    "    print(f\"{i}\")"
   ]
  }
 ],
 "metadata": {
  "kernelspec": {
   "display_name": "Python 3 (ipykernel)",
   "language": "python",
   "name": "python3"
  },
  "language_info": {
   "codemirror_mode": {
    "name": "ipython",
    "version": 3
   },
   "file_extension": ".py",
   "mimetype": "text/x-python",
   "name": "python",
   "nbconvert_exporter": "python",
   "pygments_lexer": "ipython3",
   "version": "3.9.12"
  }
 },
 "nbformat": 4,
 "nbformat_minor": 5
}