{
 "cells": [
  {
   "cell_type": "markdown",
   "id": "7f2c386a",
   "metadata": {},
   "source": [
    "# ASSIGNMENT 2: Decisions (IF__ELSE) &amp; Loop Controls (for, while)"
   ]
  },
  {
   "cell_type": "markdown",
   "id": "2349c170",
   "metadata": {},
   "source": [
    "### 1 Write a program to calculate the sum of numbers from 1 to 20 which are not divisible by 2 or 3 or 5."
   ]
  },
  {
   "cell_type": "code",
   "execution_count": 1,
   "id": "bff2afa3",
   "metadata": {},
   "outputs": [
    {
     "name": "stdout",
     "output_type": "stream",
     "text": [
      "68\n"
     ]
    }
   ],
   "source": [
    "print(sum([i for i in range(1,21) if i%2!=0 and i%3!=0 and i%5!=0]))"
   ]
  },
  {
   "cell_type": "markdown",
   "id": "b1f1f8ae",
   "metadata": {},
   "source": [
    "### 2 Write a program to read a number as user input generate triangular numbers. NOTE: if input number is 5, its triangular number is 1+2+3+4+5 = 15."
   ]
  },
  {
   "cell_type": "code",
   "execution_count": 2,
   "id": "aed3e144",
   "metadata": {},
   "outputs": [
    {
     "name": "stdout",
     "output_type": "stream",
     "text": [
      "Enter num: 5\n",
      "15\n"
     ]
    }
   ],
   "source": [
    "print(sum([i for i in range(1,int(input('Enter num: '))+1)]))"
   ]
  },
  {
   "cell_type": "markdown",
   "id": "6e43e91d",
   "metadata": {},
   "source": [
    "### 3 Fibanocci number"
   ]
  },
  {
   "cell_type": "code",
   "execution_count": 3,
   "id": "0d5cac9d",
   "metadata": {},
   "outputs": [
    {
     "name": "stdout",
     "output_type": "stream",
     "text": [
      "Enter nth fibbonaci number: 10\n",
      "55\n"
     ]
    }
   ],
   "source": [
    "a,b=0,1\n",
    "l=[a,b]\n",
    "n = int(input(\"Enter nth fibbonaci number: \"))\n",
    "for i in range(0,n-1):\n",
    "    c=a+b\n",
    "    a,b=b,c\n",
    "    l.append(b)\n",
    "print(l.pop())"
   ]
  },
  {
   "cell_type": "markdown",
   "id": "dbb7116c",
   "metadata": {},
   "source": [
    "### 4 Star pattern"
   ]
  },
  {
   "cell_type": "code",
   "execution_count": 4,
   "id": "e734d242",
   "metadata": {},
   "outputs": [
    {
     "name": "stdout",
     "output_type": "stream",
     "text": [
      "Enter a number of n: 6\n",
      "     * \n",
      "    * * \n",
      "   * * * \n",
      "  * * * * \n",
      " * * * * * \n",
      "* * * * * * \n"
     ]
    }
   ],
   "source": [
    "n = int(input(\"Enter a number of n: \"))\n",
    "for i in range(n):    \n",
    "    print(\" \"*(n-i-1),end=\"\")    \n",
    "    for j in range(i+1):        \n",
    "        print(\"* \",end=\"\")    \n",
    "    print()"
   ]
  },
  {
   "cell_type": "markdown",
   "id": "d10c07a0",
   "metadata": {},
   "source": [
    "### 5 Number pattern"
   ]
  },
  {
   "cell_type": "code",
   "execution_count": 5,
   "id": "b5b13434",
   "metadata": {},
   "outputs": [
    {
     "name": "stdout",
     "output_type": "stream",
     "text": [
      "Enter n: 6\n",
      "1 \n",
      "1 2 \n",
      "1 2 3 \n",
      "1 2 3 4 \n",
      "1 2 3 4 5 \n",
      "1 2 3 4 5 6 \n"
     ]
    }
   ],
   "source": [
    "for i in range(1,int(input('Enter n: '))+1):\n",
    "    for j in range(1,i+1):\n",
    "        print(j, end=\" \")\n",
    "    print()"
   ]
  },
  {
   "cell_type": "markdown",
   "id": "8d92c0ad",
   "metadata": {},
   "source": [
    "### 6 Print number series 1,4,9,16…"
   ]
  },
  {
   "cell_type": "code",
   "execution_count": 6,
   "id": "071db8b8",
   "metadata": {},
   "outputs": [
    {
     "name": "stdout",
     "output_type": "stream",
     "text": [
      "Enter n: 10\n",
      "1 4 9 16 25 36 49 64 81 100 "
     ]
    }
   ],
   "source": [
    "for j in [i**2 for i in range(1,int(input('Enter n: '))+1)]:print(j, end=\" \")"
   ]
  },
  {
   "cell_type": "markdown",
   "id": "4552772c",
   "metadata": {},
   "source": [
    "### 7 An ATM contains Indian currency notes of 100, 500 and 1000. To withdraw cash from this ATM, the user has to enter the number of notes he/she wants of each currency, i.e. of 100, 500 and 1000. Write a program to calculate the total amount withdrawn by the person from the ATM in rupees"
   ]
  },
  {
   "cell_type": "code",
   "execution_count": 7,
   "id": "ee3621b0",
   "metadata": {},
   "outputs": [
    {
     "name": "stdout",
     "output_type": "stream",
     "text": [
      "100s : 5\n",
      "500s : 6\n",
      "1000s : 7\n",
      "Total Amount: 10500 INR\n"
     ]
    }
   ],
   "source": [
    "print(f\"Total Amount: {int(input('100s : '))*100+int(input('500s : '))*500+int(input('1000s : '))*1000} INR\")"
   ]
  },
  {
   "cell_type": "markdown",
   "id": "7be6bdcb",
   "metadata": {},
   "source": [
    "### 8 Consider a college cricket club in which a student can enroll only if he/she is less than 18 and greater than 15 years old. Write a program using the not operator."
   ]
  },
  {
   "cell_type": "code",
   "execution_count": 8,
   "id": "5bc3335e",
   "metadata": {},
   "outputs": [
    {
     "name": "stdout",
     "output_type": "stream",
     "text": [
      "Enter age: 17\n",
      "Enrolled\n"
     ]
    }
   ],
   "source": [
    "print(\"Enrolled\" if int(input('Enter age: ')) in range(15,18) else \"Not Enrolled\")"
   ]
  },
  {
   "cell_type": "markdown",
   "id": "08ceada0",
   "metadata": {},
   "source": [
    "### 9 Write nested if statements to print the appropriate message depending on the value of the variables temperature and humidity as given as follows. Assume that the temperature can only be warm and cold and the humidity can only be dry and humid."
   ]
  },
  {
   "cell_type": "markdown",
   "id": "bfc7129c",
   "metadata": {},
   "source": [
    "|if temperature is if humidity is Print this activity| if temperature is if humidity is Print this activity|if temperature is if humidity is Print this activity|\n",
    "|----------|----------|----------|\n",
    "|Warm Dry Play Basketball|Warm Dry Play Basketball|Warm Dry Play Basketball|\n",
    "|Warm Humid Play Tennis|Warm Humid Play Tennis|Warm Humid Play Tennis|\n",
    "|Cold Dry Play Cricket|Cold Dry Play Cricket|Cold Dry Play Cricket|\n",
    "|Cold Humid Swim|Cold Humid Swim|Cold Humid Swim|"
   ]
  },
  {
   "cell_type": "code",
   "execution_count": 9,
   "id": "d1da5edd",
   "metadata": {},
   "outputs": [
    {
     "name": "stdout",
     "output_type": "stream",
     "text": [
      "Enter temp: cold\n",
      "Enter humidity: dry\n",
      "Cold Dry Play Cricket\n"
     ]
    }
   ],
   "source": [
    "temp = input('Enter temp: ').strip().lower()\n",
    "hum = input(\"Enter humidity: \").strip().lower()\n",
    "if(temp=='warm'):\n",
    "    if(hum=='dry'):\n",
    "        print(\"Warm Dry Play Basketball\")\n",
    "    else:\n",
    "        print('Warm Humid Play Tennis')\n",
    "else:\n",
    "    if(hum=='dry'):\n",
    "        print('Cold Dry Play Cricket')\n",
    "    else:\n",
    "        print(\"Cold Humid Swim\")"
   ]
  },
  {
   "cell_type": "markdown",
   "id": "342c6c60",
   "metadata": {},
   "source": [
    "### 10 Write a program to calculate the square of only those numbers whose least significant digit is 5. Example: Enter the number: 25. Square: 25*25 = 625"
   ]
  },
  {
   "cell_type": "code",
   "execution_count": 10,
   "id": "58b14495",
   "metadata": {},
   "outputs": [
    {
     "name": "stdout",
     "output_type": "stream",
     "text": [
      "Enter how many nums u want: 6\n",
      "5*5 : 25\n",
      "15*15 : 225\n",
      "25*25 : 625\n",
      "35*35 : 1225\n",
      "45*45 : 2025\n",
      "55*55 : 3025\n"
     ]
    }
   ],
   "source": [
    "n = int(input(\"Enter how many nums u want: \"))\n",
    "x=5\n",
    "while n:\n",
    "    print(f\"{x}*{x} : {x**2}\")\n",
    "    x+=10\n",
    "    n-=1\n",
    "        "
   ]
  }
 ],
 "metadata": {
  "kernelspec": {
   "display_name": "Python 3 (ipykernel)",
   "language": "python",
   "name": "python3"
  },
  "language_info": {
   "codemirror_mode": {
    "name": "ipython",
    "version": 3
   },
   "file_extension": ".py",
   "mimetype": "text/x-python",
   "name": "python",
   "nbconvert_exporter": "python",
   "pygments_lexer": "ipython3",
   "version": "3.9.12"
  }
 },
 "nbformat": 4,
 "nbformat_minor": 5
}
